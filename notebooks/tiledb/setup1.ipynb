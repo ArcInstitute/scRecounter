{
 "cells": [
  {
   "cell_type": "markdown",
   "metadata": {},
   "source": [
    "# Install\n",
    "\n",
    "```bash\n",
    "mamba create -n tiledb  -c conda-forge -c tiledb tiledbsoma-py requests\n",
    "```"
   ]
  },
  {
   "cell_type": "markdown",
   "metadata": {},
   "source": [
    "# Install test dataset"
   ]
  },
  {
   "cell_type": "code",
   "execution_count": 22,
   "metadata": {},
   "outputs": [],
   "source": [
    "#file_url = \"https://github.com/single-cell-data/TileDB-SOMA/blob/main/data/pbmc3k_processed.h5ad\"\n",
    "file_url = \"https://github.com/chanzuckerberg/cellxgene/raw/main/example-dataset/pbmc3k.h5ad\"\n",
    "\n",
    "work_dir = \"/home/nickyoungblut/dev/tmp/tiledb\""
   ]
  },
  {
   "cell_type": "code",
   "execution_count": 23,
   "metadata": {},
   "outputs": [
    {
     "name": "stdout",
     "output_type": "stream",
     "text": [
      "File downloaded successfully as /home/nickyoungblut/dev/tmp/tiledb/pbmc3k.h5ad\n"
     ]
    }
   ],
   "source": [
    "import os\n",
    "import requests\n",
    "\n",
    "# Local file path to save the downloaded file\n",
    "h5ad_file = os.path.join(work_dir, os.path.basename(file_url))\n",
    "\n",
    "try:\n",
    "    # Send a GET request to the file URL\n",
    "    response = requests.get(file_url)\n",
    "    response.raise_for_status()  # Check for HTTP request errors\n",
    "    \n",
    "    # Write the content of the file to the local system\n",
    "    with open(h5ad_file, \"wb\") as file:\n",
    "        file.write(response.content)\n",
    "    \n",
    "    print(f\"File downloaded successfully as {h5ad_file}\")\n",
    "except requests.exceptions.RequestException as e:\n",
    "    print(f\"Error downloading the file: {e}\")"
   ]
  },
  {
   "cell_type": "markdown",
   "metadata": {},
   "source": [
    "# Create db"
   ]
  },
  {
   "cell_type": "code",
   "execution_count": 25,
   "metadata": {},
   "outputs": [],
   "source": [
    "import tiledbsoma\n",
    "import tiledbsoma.io"
   ]
  },
  {
   "cell_type": "code",
   "execution_count": null,
   "metadata": {},
   "outputs": [
    {
     "name": "stderr",
     "output_type": "stream",
     "text": [
      "/home/nickyoungblut/miniforge3/envs/tiledb/lib/python3.12/site-packages/anndata/compat/__init__.py:363: FutureWarning: Moving element from .uns['neighbors']['distances'] to .obsp['distances'].\n",
      "\n",
      "This is where adjacency matrices should go now.\n",
      "  warn(\n",
      "/home/nickyoungblut/miniforge3/envs/tiledb/lib/python3.12/site-packages/anndata/compat/__init__.py:363: FutureWarning: Moving element from .uns['neighbors']['connectivities'] to .obsp['connectivities'].\n",
      "\n",
      "This is where adjacency matrices should go now.\n",
      "  warn(\n"
     ]
    }
   ],
   "source": [
    "pbmc3k_uri = tiledbsoma.io.from_h5ad(\n",
    "    os.path.join(work_dir, \"pbmc3k\"), \n",
    "    input_path = h5ad_file, #\"pbmc3k_processed.h5ad\", \n",
    "    measurement_name = \"RNA\"   # RNA-seq data\n",
    ")"
   ]
  },
  {
   "cell_type": "code",
   "execution_count": 27,
   "metadata": {},
   "outputs": [
    {
     "name": "stdout",
     "output_type": "stream",
     "text": [
      "pyarrow.Table\n",
      "soma_joinid: int64\n",
      "obs_id: large_string\n",
      "n_genes: int64\n",
      "percent_mito: float\n",
      "n_counts: float\n",
      "louvain: dictionary<values=string, indices=int32, ordered=0>\n",
      "----\n",
      "soma_joinid: [[0,2,8,11,12,...,2617,2621,2626,2631,2637]]\n",
      "obs_id: [[\"AAACATACAACCAC-1\",\"AAACATTGATCAGC-1\",\"AAACGCTGTAGCCA-1\",\"AAACTTGATCCAGA-1\",\"AAAGAGACGAGATA-1\",...,\"TTGTAGCTAGCTCA-1\",\"TTTAGCTGATACCG-1\",\"TTTCACGAGGTTCA-1\",\"TTTCCAGAGGTGAG-1\",\"TTTGCATGCCTCAC-1\"]]\n",
      "n_genes: [[781,1131,533,751,866,...,933,887,721,873,724]]\n",
      "percent_mito: [[0.030177759,0.008897362,0.011764706,0.010887772,0.010788382,...,0.02224871,0.022875817,0.013261297,0.0068587107,0.008064516]]\n",
      "n_counts: [[2419,3147,1275,2388,2410,...,2517,2754,2036,2187,1984]]\n",
      "louvain: [  -- dictionary:\n",
      "[\"CD4 T cells\",\"CD14+ Monocytes\",\"B cells\",\"CD8 T cells\",\"NK cells\",\"FCGR3A+ Monocytes\",\"Dendritic cells\",\"Megakaryocytes\"]  -- indices:\n",
      "[0,0,0,0,0,...,0,0,0,0,0]]\n"
     ]
    }
   ],
   "source": [
    "with tiledbsoma.open(pbmc3k_uri) as pbmc3k_soma:\n",
    "    pbmc3k_obs_slice = pbmc3k_soma.obs.read(\n",
    "        value_filter=\"n_genes >500 and louvain in ['Megakaryocytes', 'CD4 T cells']\"\n",
    "    )\n",
    "    \n",
    "    # Concatenate iterator to pyarrow.Table\n",
    "    print(pbmc3k_obs_slice.concat())"
   ]
  },
  {
   "cell_type": "markdown",
   "metadata": {},
   "source": [
    "# Create from matrix"
   ]
  },
  {
   "cell_type": "code",
   "execution_count": 45,
   "metadata": {},
   "outputs": [],
   "source": [
    "import tempfile\n",
    "from shutil import rmtree\n",
    "import scanpy as sc"
   ]
  },
  {
   "cell_type": "code",
   "execution_count": 46,
   "metadata": {},
   "outputs": [],
   "source": [
    "input_path = \"/home/nickyoungblut/dev/tmp/tiledb/SCRECOUNTER_2025-01-24_23-55-08/STAR/SRX21101392/Gene/filtered\"\n",
    "srx_accession = \"SRX21101392\""
   ]
  },
  {
   "cell_type": "code",
   "execution_count": 47,
   "metadata": {},
   "outputs": [],
   "source": [
    "# Read 10x mtx data\n",
    "adata = sc.read_10x_mtx(\n",
    "    input_path,\n",
    "    var_names=\"gene_ids\",  \n",
    "    make_unique=True  \n",
    ")"
   ]
  },
  {
   "cell_type": "code",
   "execution_count": 48,
   "metadata": {},
   "outputs": [],
   "source": [
    "# add SRX column\n",
    "adata.obs[\"SRX_accession\"] = [srx_accession] * len(adata.obs)"
   ]
  },
  {
   "cell_type": "code",
   "execution_count": 49,
   "metadata": {},
   "outputs": [],
   "source": [
    "# write adata file to temp location\n",
    "temp_dir = tempfile.mkdtemp()\n",
    "h5ad_file = os.path.join(temp_dir, \"adata.h5ad\")\n",
    "adata.write_h5ad(h5ad_file)"
   ]
  },
  {
   "cell_type": "code",
   "execution_count": 50,
   "metadata": {},
   "outputs": [],
   "source": [
    "# create tiledb soma db\n",
    "db_dir = os.path.join(work_dir, srx_accession)\n",
    "\n",
    "## read from temp location and write to tiledb\n",
    "if os.path.exists(db_dir):\n",
    "    rmtree(db_dir)\n",
    "\n",
    "## create db\n",
    "srx_uri = tiledbsoma.io.from_h5ad(\n",
    "    db_dir, \n",
    "    input_path = h5ad_file,\n",
    "    measurement_name = \"RNA\"\n",
    ")"
   ]
  },
  {
   "cell_type": "code",
   "execution_count": 51,
   "metadata": {},
   "outputs": [
    {
     "name": "stdout",
     "output_type": "stream",
     "text": [
      "                obs_id SRX_accession\n",
      "0     AAACCTGCAAGCCTAT   SRX21101392\n",
      "1     AAACCTGCAGCTGCTG   SRX21101392\n",
      "2     AAACCTGCAGCTGGCT   SRX21101392\n",
      "3     AAACCTGGTCTGATCA   SRX21101392\n",
      "4     AAACCTGGTTCCCGAG   SRX21101392\n",
      "...                ...           ...\n",
      "6306  TTTGTCAGTCGTCTTC   SRX21101392\n",
      "6307  TTTGTCAGTGGCAAAC   SRX21101392\n",
      "6308  TTTGTCATCACCGTAA   SRX21101392\n",
      "6309  TTTGTCATCGCACTCT   SRX21101392\n",
      "6310  TTTGTCATCTAAGCCA   SRX21101392\n",
      "\n",
      "[6311 rows x 2 columns]\n"
     ]
    }
   ],
   "source": [
    "# read in the data\n",
    "with tiledbsoma.Experiment.open(srx_uri) as exp:\n",
    "    print(\n",
    "        exp.obs.read(column_names=[\"obs_id\", \"SRX_accession\"])\n",
    "        .concat()\n",
    "        .to_pandas()\n",
    "    )"
   ]
  },
  {
   "cell_type": "code",
   "execution_count": 53,
   "metadata": {},
   "outputs": [
    {
     "name": "stdout",
     "output_type": "stream",
     "text": [
      "       soma_joinid           var_id gene_symbols\n",
      "0                0  ENSG00000243485  MIR1302-2HG\n",
      "1                1  ENSG00000237613      FAM138A\n",
      "2                2  ENSG00000186092        OR4F5\n",
      "3                3  ENSG00000238009   AL627309.1\n",
      "4                4  ENSG00000239945   AL627309.3\n",
      "...            ...              ...          ...\n",
      "36596        36596  ENSG00000277836   AC141272.1\n",
      "36597        36597  ENSG00000278633   AC023491.2\n",
      "36598        36598  ENSG00000276017   AC007325.1\n",
      "36599        36599  ENSG00000278817   AC007325.4\n",
      "36600        36600  ENSG00000277196   AC007325.2\n",
      "\n",
      "[36601 rows x 3 columns]\n"
     ]
    }
   ],
   "source": [
    "# \n",
    "with tiledbsoma.Experiment.open(srx_uri) as exp:\n",
    "    print(\n",
    "        exp.ms[\"RNA\"]\n",
    "        .var.read(column_names=[\"soma_joinid\", \"var_id\", \"gene_symbols\"])\n",
    "        .concat()\n",
    "        .to_pandas()\n",
    "    )"
   ]
  },
  {
   "cell_type": "markdown",
   "metadata": {},
   "source": [
    "### Append data"
   ]
  },
  {
   "cell_type": "code",
   "execution_count": 58,
   "metadata": {},
   "outputs": [],
   "source": [
    "input_path = \"/home/nickyoungblut/dev/tmp/tiledb/SCRECOUNTER_2025-01-22_01-10-09/STAR/SRX24099779/Gene/filtered\"\n",
    "srx_accession = \"SRX24099779\""
   ]
  },
  {
   "cell_type": "code",
   "execution_count": 59,
   "metadata": {},
   "outputs": [],
   "source": [
    "# Read 10x mtx data\n",
    "adata = sc.read_10x_mtx(\n",
    "    input_path,\n",
    "    var_names=\"gene_ids\",  \n",
    "    make_unique=True  \n",
    ")"
   ]
  },
  {
   "cell_type": "code",
   "execution_count": 60,
   "metadata": {},
   "outputs": [],
   "source": [
    "# add SRX column\n",
    "adata.obs[\"SRX_accession\"] = [srx_accession] * len(adata.obs)"
   ]
  },
  {
   "cell_type": "code",
   "execution_count": 61,
   "metadata": {},
   "outputs": [],
   "source": [
    "# # write adata file to temp location\n",
    "# temp_dir = tempfile.mkdtemp()\n",
    "# h5ad_file = os.path.join(temp_dir, \"adata.h5ad\")\n",
    "# adata.write_h5ad(h5ad_file)"
   ]
  },
  {
   "cell_type": "code",
   "execution_count": 62,
   "metadata": {},
   "outputs": [],
   "source": [
    "# register\n",
    "rd = tiledbsoma.io.register_anndatas(\n",
    "    srx_uri,\n",
    "    [adata],\n",
    "    measurement_name=\"RNA\",\n",
    "    obs_field_name=\"obs_id\",\n",
    "    var_field_name=\"var_id\",\n",
    ")"
   ]
  },
  {
   "cell_type": "code",
   "execution_count": null,
   "metadata": {},
   "outputs": [
    {
     "name": "stdout",
     "output_type": "stream",
     "text": [
      "\n",
      "[DataFrame] obs \n",
      "  URI file:///home/nickyoungblut/dev/tmp/tiledb/SRX21101392/obs\n",
      "  non_empty_domain     ((0, 6310),)\n",
      "  domain               ((0, 6310),)\n",
      "  maxdomain            ((0, 9223372036854773758),)\n",
      "  upgraded             True\n",
      "\n",
      "[DataFrame] ms/RNA/var \n",
      "  URI file:///home/nickyoungblut/dev/tmp/tiledb/SRX21101392/ms/RNA/var\n",
      "  non_empty_domain     ((0, 36600),)\n",
      "  domain               ((0, 36600),)\n",
      "  maxdomain            ((0, 9223372036854773758),)\n",
      "  upgraded             True\n",
      "\n",
      "[SparseNDArray] ms/RNA/X/data \n",
      "  URI file:///home/nickyoungblut/dev/tmp/tiledb/SRX21101392/ms/RNA/X/data\n",
      "  used_shape           ((0, 6310), (0, 36599))\n",
      "  shape                (6311, 36601)\n",
      "  maxshape             (9223372036854773759, 9223372036854773759)\n",
      "  upgraded             True\n"
     ]
    }
   ],
   "source": [
    "# check the experiment shapes\n",
    "with tiledbsoma.Experiment.open(srx_uri) as exp:\n",
    "    tiledbsoma.io.show_experiment_shapes(exp.uri)"
   ]
  },
  {
   "cell_type": "code",
   "execution_count": 69,
   "metadata": {},
   "outputs": [],
   "source": [
    "# apply resize\n",
    "with tiledbsoma.Experiment.open(srx_uri) as exp:\n",
    "    tiledbsoma.io.resize_experiment(\n",
    "        exp.uri, \n",
    "        nobs=rd.get_obs_shape(), \n",
    "        nvars=rd.get_var_shapes()\n",
    "    )"
   ]
  },
  {
   "cell_type": "code",
   "execution_count": 70,
   "metadata": {},
   "outputs": [
    {
     "data": {
      "text/plain": [
       "'file:///home/nickyoungblut/dev/tmp/tiledb/SRX21101392'"
      ]
     },
     "execution_count": 70,
     "metadata": {},
     "output_type": "execute_result"
    }
   ],
   "source": [
    "# ingest new data\n",
    "tiledbsoma.io.from_anndata(\n",
    "    srx_uri,\n",
    "    adata,\n",
    "    measurement_name=\"RNA\",\n",
    "    registration_mapping=rd,\n",
    ")"
   ]
  },
  {
   "cell_type": "code",
   "execution_count": 71,
   "metadata": {},
   "outputs": [
    {
     "name": "stdout",
     "output_type": "stream",
     "text": [
      "                obs_id SRX_accession\n",
      "0     AAACCTGCAAGCCTAT   SRX21101392\n",
      "1     AAACCTGCAGCTGCTG   SRX21101392\n",
      "2     AAACCTGCAGCTGGCT   SRX21101392\n",
      "3     AAACCTGGTCTGATCA   SRX21101392\n",
      "4     AAACCTGGTTCCCGAG   SRX21101392\n",
      "...                ...           ...\n",
      "9994  TTTGTTGCATTAAGCC   SRX24099779\n",
      "9995  TTTGTTGGTCGACTGC   SRX24099779\n",
      "9996  TTTGTTGTCTAGTCAG   SRX24099779\n",
      "9997  TTTGTTGTCTCTGCCA   SRX24099779\n",
      "9998  TTTGTTGTCTGGGCGT   SRX24099779\n",
      "\n",
      "[9999 rows x 2 columns]\n"
     ]
    }
   ],
   "source": [
    "# read in the data\n",
    "with tiledbsoma.Experiment.open(srx_uri) as exp:\n",
    "    print(\n",
    "        exp.obs.read(column_names=[\"obs_id\", \"SRX_accession\"])\n",
    "        .concat()\n",
    "        .to_pandas()\n",
    "    )"
   ]
  },
  {
   "cell_type": "code",
   "execution_count": null,
   "metadata": {},
   "outputs": [],
   "source": []
  }
 ],
 "metadata": {
  "kernelspec": {
   "display_name": "tiledb",
   "language": "python",
   "name": "python3"
  },
  "language_info": {
   "codemirror_mode": {
    "name": "ipython",
    "version": 3
   },
   "file_extension": ".py",
   "mimetype": "text/x-python",
   "name": "python",
   "nbconvert_exporter": "python",
   "pygments_lexer": "ipython3",
   "version": "3.12.8"
  }
 },
 "nbformat": 4,
 "nbformat_minor": 2
}
