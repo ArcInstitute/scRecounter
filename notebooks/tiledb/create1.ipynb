{
 "cells": [
  {
   "cell_type": "markdown",
   "metadata": {},
   "source": [
    "# Goals\n",
    "\n",
    "* Test the creation of a tiledb database"
   ]
  },
  {
   "cell_type": "code",
   "execution_count": 6,
   "metadata": {},
   "outputs": [],
   "source": [
    "import os\n",
    "import requests\n",
    "import tiledbsoma\n",
    "import tiledbsoma.io\n",
    "import scanpy as sc"
   ]
  },
  {
   "cell_type": "code",
   "execution_count": 7,
   "metadata": {},
   "outputs": [],
   "source": [
    "work_dir = \"/home/nickyoungblut/dev/nextflow/scRecounter/tmp/tiledb\""
   ]
  },
  {
   "cell_type": "markdown",
   "metadata": {},
   "source": [
    "# Create db"
   ]
  },
  {
   "cell_type": "code",
   "execution_count": 3,
   "metadata": {},
   "outputs": [],
   "source": [
    "srx_accession = \"SRX21101392\"\n",
    "input_path = os.path.join(work_dir, \"prod3\", \"SCRECOUNTER_2025-01-24_23-55-08\", \"STAR\", srx_accession, \"Gene\", \"filtered\")"
   ]
  },
  {
   "cell_type": "code",
   "execution_count": 4,
   "metadata": {},
   "outputs": [
    {
     "data": {
      "text/plain": [
       "(6311, 36601)"
      ]
     },
     "execution_count": 4,
     "metadata": {},
     "output_type": "execute_result"
    }
   ],
   "source": [
    "# Read 10x mtx data\n",
    "adata = sc.read_10x_mtx(\n",
    "    input_path,\n",
    "    var_names=\"gene_ids\",  \n",
    "    make_unique=True  \n",
    ")\n",
    "adata.shape"
   ]
  },
  {
   "cell_type": "code",
   "execution_count": 9,
   "metadata": {},
   "outputs": [],
   "source": [
    "# add SRX column\n",
    "adata.obs[\"SRX_accession\"] = [srx_accession] * len(adata.obs)"
   ]
  },
  {
   "cell_type": "code",
   "execution_count": 9,
   "metadata": {},
   "outputs": [],
   "source": [
    "# location of tiledb\n",
    "db_uri = os.path.join(work_dir, \"scRecount_test\")"
   ]
  },
  {
   "cell_type": "code",
   "execution_count": 13,
   "metadata": {},
   "outputs": [
    {
     "data": {
      "text/plain": [
       "'/home/nickyoungblut/dev/nextflow/scRecounter/tmp/tiledb/scRecount_test'"
      ]
     },
     "execution_count": 13,
     "metadata": {},
     "output_type": "execute_result"
    }
   ],
   "source": [
    "## create db\n",
    "tiledbsoma.io.from_anndata(\n",
    "    db_uri,\n",
    "    adata,\n",
    "    measurement_name=\"RNA\",\n",
    ")"
   ]
  },
  {
   "cell_type": "markdown",
   "metadata": {},
   "source": [
    "### Add data"
   ]
  },
  {
   "cell_type": "code",
   "execution_count": 14,
   "metadata": {},
   "outputs": [],
   "source": [
    "srx_accession = \"SRX24099779\"\n",
    "input_path = os.path.join(work_dir, \"prod3\", \"SCRECOUNTER_2025-01-22_01-10-09\", \"STAR\", srx_accession, \"Gene\", \"filtered\")"
   ]
  },
  {
   "cell_type": "code",
   "execution_count": 15,
   "metadata": {},
   "outputs": [
    {
     "data": {
      "text/plain": [
       "(3688, 32285)"
      ]
     },
     "execution_count": 15,
     "metadata": {},
     "output_type": "execute_result"
    }
   ],
   "source": [
    "# Read 10x mtx data\n",
    "adata = sc.read_10x_mtx(\n",
    "    input_path,\n",
    "    var_names=\"gene_ids\",  \n",
    "    make_unique=True  \n",
    ")\n",
    "adata.shape"
   ]
  },
  {
   "cell_type": "code",
   "execution_count": 16,
   "metadata": {},
   "outputs": [],
   "source": [
    "# add SRX column\n",
    "adata.obs[\"SRX_accession\"] = [srx_accession] * len(adata.obs)"
   ]
  },
  {
   "cell_type": "code",
   "execution_count": 17,
   "metadata": {},
   "outputs": [],
   "source": [
    "# register\n",
    "rd = tiledbsoma.io.register_anndatas(\n",
    "    db_uri,\n",
    "    [adata],\n",
    "    measurement_name=\"RNA\",\n",
    "    obs_field_name=\"obs_id\",\n",
    "    var_field_name=\"var_id\",\n",
    ")"
   ]
  },
  {
   "cell_type": "code",
   "execution_count": 18,
   "metadata": {},
   "outputs": [],
   "source": [
    "# apply resize\n",
    "with tiledbsoma.Experiment.open(db_uri) as exp:\n",
    "    tiledbsoma.io.resize_experiment(\n",
    "        exp.uri, \n",
    "        nobs=rd.get_obs_shape(), \n",
    "        nvars=rd.get_var_shapes()\n",
    "    )"
   ]
  },
  {
   "cell_type": "code",
   "execution_count": 19,
   "metadata": {},
   "outputs": [
    {
     "data": {
      "text/plain": [
       "'file:///home/nickyoungblut/dev/nextflow/scRecounter/tmp/tiledb/scRecount_test'"
      ]
     },
     "execution_count": 19,
     "metadata": {},
     "output_type": "execute_result"
    }
   ],
   "source": [
    "# ingest new data into the db\n",
    "tiledbsoma.io.from_anndata(\n",
    "    db_uri,\n",
    "    adata,\n",
    "    measurement_name=\"RNA\",\n",
    "    registration_mapping=rd,\n",
    ")"
   ]
  },
  {
   "cell_type": "markdown",
   "metadata": {},
   "source": [
    "### Add more data"
   ]
  },
  {
   "cell_type": "code",
   "execution_count": 20,
   "metadata": {},
   "outputs": [],
   "source": [
    "srx_accession = \"SRX20585665\"\n",
    "input_path = os.path.join(work_dir, \"prod3\", \"SCRECOUNTER_2025-01-22_01-10-09\", \"STAR\", srx_accession, \"Gene\", \"filtered\")"
   ]
  },
  {
   "cell_type": "code",
   "execution_count": 21,
   "metadata": {},
   "outputs": [
    {
     "data": {
      "text/plain": [
       "(983, 36601)"
      ]
     },
     "execution_count": 21,
     "metadata": {},
     "output_type": "execute_result"
    }
   ],
   "source": [
    "# Read 10x mtx data\n",
    "adata = sc.read_10x_mtx(\n",
    "    input_path,\n",
    "    var_names=\"gene_ids\",  \n",
    "    make_unique=True  \n",
    ")\n",
    "adata.shape"
   ]
  },
  {
   "cell_type": "code",
   "execution_count": 22,
   "metadata": {},
   "outputs": [],
   "source": [
    "# add SRX column\n",
    "adata.obs[\"SRX_accession\"] = [srx_accession] * len(adata.obs)"
   ]
  },
  {
   "cell_type": "code",
   "execution_count": 23,
   "metadata": {},
   "outputs": [],
   "source": [
    "# register\n",
    "rd = tiledbsoma.io.register_anndatas(\n",
    "    db_uri,\n",
    "    [adata],\n",
    "    measurement_name=\"RNA\",\n",
    "    obs_field_name=\"obs_id\",\n",
    "    var_field_name=\"var_id\",\n",
    ")"
   ]
  },
  {
   "cell_type": "code",
   "execution_count": 24,
   "metadata": {},
   "outputs": [],
   "source": [
    "# apply resize\n",
    "with tiledbsoma.Experiment.open(db_uri) as exp:\n",
    "    tiledbsoma.io.resize_experiment(\n",
    "        exp.uri, \n",
    "        nobs=rd.get_obs_shape(), \n",
    "        nvars=rd.get_var_shapes()\n",
    "    )"
   ]
  },
  {
   "cell_type": "code",
   "execution_count": 25,
   "metadata": {},
   "outputs": [
    {
     "data": {
      "text/plain": [
       "'file:///home/nickyoungblut/dev/nextflow/scRecounter/tmp/tiledb/scRecount_test'"
      ]
     },
     "execution_count": 25,
     "metadata": {},
     "output_type": "execute_result"
    }
   ],
   "source": [
    "# ingest new data into the db\n",
    "tiledbsoma.io.from_anndata(\n",
    "    db_uri,\n",
    "    adata,\n",
    "    measurement_name=\"RNA\",\n",
    "    registration_mapping=rd,\n",
    ")"
   ]
  },
  {
   "cell_type": "markdown",
   "metadata": {},
   "source": [
    "# Summary"
   ]
  },
  {
   "cell_type": "code",
   "execution_count": 27,
   "metadata": {},
   "outputs": [
    {
     "name": "stdout",
     "output_type": "stream",
     "text": [
      "soma_joinid: int64 not null\n",
      "obs_id: large_string\n",
      "SRX_accession: large_string\n"
     ]
    }
   ],
   "source": [
    "# get colnames\n",
    "with tiledbsoma.open(db_uri) as exp:\n",
    "    print(exp.obs.schema)"
   ]
  },
  {
   "cell_type": "code",
   "execution_count": 28,
   "metadata": {},
   "outputs": [
    {
     "name": "stdout",
     "output_type": "stream",
     "text": [
      "SRX_accession\n",
      "SRX21101392    6311\n",
      "SRX24099779    3688\n",
      "SRX20585665     975\n",
      "Name: count, dtype: int64\n"
     ]
    }
   ],
   "source": [
    "# read in the data\n",
    "with tiledbsoma.Experiment.open(db_uri) as exp:\n",
    "    print(\n",
    "        exp.obs.read(column_names=[\"obs_id\", \"SRX_accession\"])\n",
    "        .concat()\n",
    "        .to_pandas()[\"SRX_accession\"].value_counts()\n",
    "    )"
   ]
  },
  {
   "cell_type": "markdown",
   "metadata": {},
   "source": [
    "# Update metadata"
   ]
  },
  {
   "cell_type": "code",
   "execution_count": 17,
   "metadata": {},
   "outputs": [],
   "source": [
    "import pyarrow as pa"
   ]
  },
  {
   "cell_type": "code",
   "execution_count": 26,
   "metadata": {},
   "outputs": [],
   "source": [
    "# query\n",
    "obs_query = tiledbsoma.AxisQuery(value_filter='SRX_accession in [\"SRX20585665_mod\"]')\n",
    "\n",
    "# get the target records\n",
    "with tiledbsoma.Experiment.open(db_uri) as exp:\n",
    "    df = (\n",
    "        exp.axis_query(\"RNA\", obs_query=obs_query)\n",
    "        .obs()\n",
    "        .concat()\n",
    "        .to_pandas()\n",
    "    )\n",
    "\n",
    "\n",
    "# modify and update\n",
    "with tiledbsoma.Experiment.open(db_uri, \"w\") as exp:\n",
    "    # modify metadata\n",
    "    df[\"SRX_accession\"] = \"SRX20585665\" #df[\"SRX_accession\"] \n",
    "\n",
    "    # update the database\n",
    "    exp.obs.write(pa.Table.from_pandas(df))"
   ]
  },
  {
   "cell_type": "code",
   "execution_count": null,
   "metadata": {},
   "outputs": [],
   "source": []
  }
 ],
 "metadata": {
  "kernelspec": {
   "display_name": "tiledb",
   "language": "python",
   "name": "python3"
  },
  "language_info": {
   "codemirror_mode": {
    "name": "ipython",
    "version": 3
   },
   "file_extension": ".py",
   "mimetype": "text/x-python",
   "name": "python",
   "nbconvert_exporter": "python",
   "pygments_lexer": "ipython3",
   "version": "3.12.8"
  }
 },
 "nbformat": 4,
 "nbformat_minor": 2
}
