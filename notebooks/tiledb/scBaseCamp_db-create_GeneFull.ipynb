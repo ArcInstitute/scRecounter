{
 "cells": [
  {
   "cell_type": "markdown",
   "metadata": {},
   "source": [
    "# Goals\n",
    "\n",
    "* Create TileDB-SOMA databases for the scBaseCamp\n",
    "* STARsolo feature type: `GeneFull`"
   ]
  },
  {
   "cell_type": "markdown",
   "metadata": {},
   "source": [
    "# Var"
   ]
  },
  {
   "cell_type": "code",
   "execution_count": 1,
   "metadata": {},
   "outputs": [],
   "source": [
    "work_dir = '/processed_datasets/scRecount/scRecounter'"
   ]
  },
  {
   "cell_type": "markdown",
   "metadata": {},
   "source": [
    "# Init"
   ]
  },
  {
   "cell_type": "code",
   "execution_count": 2,
   "metadata": {},
   "outputs": [],
   "source": [
    "import os\n",
    "from glob import glob\n",
    "import pandas as pd\n",
    "import tiledbsoma\n",
    "import tiledbsoma.io\n",
    "import numpy as np\n",
    "import plotnine as pn"
   ]
  },
  {
   "cell_type": "code",
   "execution_count": 3,
   "metadata": {},
   "outputs": [],
   "source": [
    "pn.theme_set(pn.theme_bw())"
   ]
  },
  {
   "cell_type": "code",
   "execution_count": null,
   "metadata": {},
   "outputs": [],
   "source": []
  },
  {
   "cell_type": "markdown",
   "metadata": {},
   "source": [
    "# Create\n",
    "\n",
    "> Via tmux jobs to prevent disconnection\n",
    "\n",
    "### scRecounter-prod3\n",
    "\n",
    "```bash\n",
    "nextflow run main.nf -profile conda,slurm,report,trace \\\n",
    "  -N nick.youngblut@arcinstitute.org \\\n",
    "  -ansi-log false \\\n",
    "  --mtx_batch_size 500 \\\n",
    "  --h5ad_batch_size 2 \\\n",
    "  --max_datasets 5000 \\\n",
    "  --log_dir /scratch/multiomics/nickyoungblut/tiledb-loader/logs/prod3/GeneFull \\\n",
    "  --db_uri /scratch/multiomics/nickyoungblut/tiledb-loader/tiledb-soma_GeneFull \\\n",
    "  --input_dir /processed_datasets/scRecount/scRecounter/prod3 \\\n",
    "  > logs/prod3_GeneFull_1.log 2>&1\n",
    "```"
   ]
  },
  {
   "cell_type": "markdown",
   "metadata": {},
   "source": []
  }
 ],
 "metadata": {
  "kernelspec": {
   "display_name": "tiledb",
   "language": "python",
   "name": "python3"
  },
  "language_info": {
   "codemirror_mode": {
    "name": "ipython",
    "version": 3
   },
   "file_extension": ".py",
   "mimetype": "text/x-python",
   "name": "python",
   "nbconvert_exporter": "python",
   "pygments_lexer": "ipython3",
   "version": "3.12.8"
  }
 },
 "nbformat": 4,
 "nbformat_minor": 2
}
