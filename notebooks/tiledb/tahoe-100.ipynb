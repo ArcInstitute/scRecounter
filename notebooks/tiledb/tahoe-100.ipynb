{
 "cells": [
  {
   "cell_type": "markdown",
   "metadata": {},
   "source": [
    "# Goals\n",
    "\n",
    "* Create a tiledb-soma db for the Tahoe-100 dataset"
   ]
  },
  {
   "cell_type": "markdown",
   "metadata": {},
   "source": [
    "# Vars"
   ]
  },
  {
   "cell_type": "code",
   "execution_count": 1,
   "metadata": {},
   "outputs": [],
   "source": [
    "work_dir = '/processed_datasets/scRecount/tahoe'"
   ]
  },
  {
   "cell_type": "markdown",
   "metadata": {},
   "source": [
    "# Init"
   ]
  },
  {
   "cell_type": "code",
   "execution_count": 2,
   "metadata": {},
   "outputs": [],
   "source": [
    "import os\n",
    "from glob import glob\n",
    "import pandas as pd\n",
    "import tiledbsoma\n",
    "import tiledbsoma.io\n",
    "import scanpy as sc\n",
    "import numpy as np\n",
    "import plotnine as pn"
   ]
  },
  {
   "cell_type": "code",
   "execution_count": 3,
   "metadata": {},
   "outputs": [],
   "source": [
    "pn.theme_set(pn.theme_bw())"
   ]
  },
  {
   "cell_type": "code",
   "execution_count": 4,
   "metadata": {},
   "outputs": [
    {
     "data": {
      "text/plain": [
       "'/processed_datasets/scRecount/tahoe/tiledb-soma'"
      ]
     },
     "execution_count": 4,
     "metadata": {},
     "output_type": "execute_result"
    }
   ],
   "source": [
    "db_uri = os.path.join(work_dir, 'tiledb-soma')\n",
    "#db_uri = os.path.join(work_dir, 'tiledb-soma-mini')\n",
    "db_uri"
   ]
  },
  {
   "cell_type": "markdown",
   "metadata": {},
   "source": [
    "# Create"
   ]
  },
  {
   "cell_type": "code",
   "execution_count": 11,
   "metadata": {},
   "outputs": [
    {
     "data": {
      "text/plain": [
       "['/processed_datasets/scRecount/tahoe/plate10_filtered.h5ad.gz',\n",
       " '/processed_datasets/scRecount/tahoe/plate11_filtered.h5ad.gz',\n",
       " '/processed_datasets/scRecount/tahoe/plate12_filtered.h5ad.gz',\n",
       " '/processed_datasets/scRecount/tahoe/plate13_filtered.h5ad.gz',\n",
       " '/processed_datasets/scRecount/tahoe/plate14_filtered.h5ad.gz',\n",
       " '/processed_datasets/scRecount/tahoe/plate1_filtered.h5ad.gz',\n",
       " '/processed_datasets/scRecount/tahoe/plate2_filtered.h5ad.gz',\n",
       " '/processed_datasets/scRecount/tahoe/plate3_filtered.h5ad.gz',\n",
       " '/processed_datasets/scRecount/tahoe/plate4_filtered.h5ad.gz',\n",
       " '/processed_datasets/scRecount/tahoe/plate5_filtered.h5ad.gz',\n",
       " '/processed_datasets/scRecount/tahoe/plate6_filtered.h5ad.gz',\n",
       " '/processed_datasets/scRecount/tahoe/plate7_filtered.h5ad.gz',\n",
       " '/processed_datasets/scRecount/tahoe/plate8_filtered.h5ad.gz',\n",
       " '/processed_datasets/scRecount/tahoe/plate9_filtered.h5ad.gz']"
      ]
     },
     "execution_count": 11,
     "metadata": {},
     "output_type": "execute_result"
    }
   ],
   "source": [
    "# list all *.h5ad.gz files in the work directory\n",
    "files = sorted(glob(os.path.join(work_dir, '*.h5ad.gz')))\n",
    "files"
   ]
  },
  {
   "cell_type": "markdown",
   "metadata": {},
   "source": [
    "> Ran via tmux to prevent disconnection\n",
    "\n",
    "```bash\n",
    "./scripts/tiledb-loader-tahoe.py \\\n",
    "  --h5ad-ext h5ad.gz \\\n",
    "  --db-uri /processed_datasets/scRecount/tahoe/tiledb-soma \\\n",
    "  /processed_datasets/scRecount/tahoe/ \\\n",
    "  > tiledb-loader-tahoe.log 2>&1 \n",
    "```"
   ]
  },
  {
   "cell_type": "markdown",
   "metadata": {},
   "source": [
    "# Summary"
   ]
  },
  {
   "cell_type": "code",
   "execution_count": 5,
   "metadata": {},
   "outputs": [
    {
     "name": "stdout",
     "output_type": "stream",
     "text": [
      "soma_joinid: int64 not null\n",
      "BARCODE_SUB_LIB_ID: large_string\n",
      "sample: dictionary<values=string, indices=int32, ordered=0>\n",
      "species: dictionary<values=string, indices=int32, ordered=0>\n",
      "gene_count: int64\n",
      "tscp_count: int64\n",
      "mread_count: int64\n",
      "bc1_wind: int64\n",
      "bc2_wind: int64\n",
      "bc3_wind: int64\n",
      "bc1_well: dictionary<values=string, indices=int32, ordered=0>\n",
      "bc2_well: dictionary<values=string, indices=int32, ordered=0>\n",
      "bc3_well: dictionary<values=string, indices=int32, ordered=0>\n",
      "id: dictionary<values=string, indices=int32, ordered=0>\n",
      "drugname_drugconc: dictionary<values=string, indices=int32, ordered=0>\n",
      "drug: dictionary<values=string, indices=int32, ordered=0>\n",
      "INT_ID: double\n",
      "NUM.SNPS: double\n",
      "NUM.READS: double\n",
      "demuxlet_call: dictionary<values=string, indices=int32, ordered=0>\n",
      "BEST.GUESS: dictionary<values=string, indices=int32, ordered=0>\n",
      "BEST.LLK: double\n",
      "NEXT.GUESS: dictionary<values=string, indices=int32, ordered=0>\n",
      "NEXT.LLK: double\n",
      "DIFF.LLK.BEST.NEXT: double\n",
      "BEST.POSTERIOR: double\n",
      "SNG.POSTERIOR: double\n",
      "cell_line: dictionary<values=string, indices=int32, ordered=0>\n",
      "SNG.BEST.LLK: double\n",
      "SNG.NEXT.GUESS: dictionary<values=string, indices=int32, ordered=0>\n",
      "SNG.NEXT.LLK: double\n",
      "SNG.ONLY.POSTERIOR: double\n",
      "DBL.BEST.GUESS: dictionary<values=string, indices=int32, ordered=0>\n",
      "DBL.BEST.LLK: double\n",
      "DIFF.LLK.SNG.DBL: double\n",
      "sublibrary: dictionary<values=string, indices=int32, ordered=0>\n",
      "BARCODE: large_string\n",
      "pcnt_mito: float\n",
      "S_score: double\n",
      "G2M_score: double\n",
      "phase: dictionary<values=string, indices=int32, ordered=0>\n",
      "cell_line_orig: dictionary<values=string, indices=int32, ordered=0>\n",
      "pass_filter: dictionary<values=string, indices=int32, ordered=0>\n",
      "cell_name: dictionary<values=string, indices=int32, ordered=0>\n",
      "obs_id: large_string\n"
     ]
    }
   ],
   "source": [
    "# get colnames\n",
    "with tiledbsoma.open(db_uri) as exp:\n",
    "    print(exp.obs.schema)"
   ]
  },
  {
   "cell_type": "markdown",
   "metadata": {},
   "source": [
    "## Obs"
   ]
  },
  {
   "cell_type": "code",
   "execution_count": 6,
   "metadata": {},
   "outputs": [
    {
     "name": "stdout",
     "output_type": "stream",
     "text": [
      "(1344, 2)\n"
     ]
    },
    {
     "data": {
      "text/html": [
       "<div>\n",
       "<style scoped>\n",
       "    .dataframe tbody tr th:only-of-type {\n",
       "        vertical-align: middle;\n",
       "    }\n",
       "\n",
       "    .dataframe tbody tr th {\n",
       "        vertical-align: top;\n",
       "    }\n",
       "\n",
       "    .dataframe thead th {\n",
       "        text-align: right;\n",
       "    }\n",
       "</style>\n",
       "<table border=\"1\" class=\"dataframe\">\n",
       "  <thead>\n",
       "    <tr style=\"text-align: right;\">\n",
       "      <th></th>\n",
       "      <th>sample</th>\n",
       "      <th>count_all</th>\n",
       "    </tr>\n",
       "  </thead>\n",
       "  <tbody>\n",
       "    <tr>\n",
       "      <th>0</th>\n",
       "      <td>smp_2553</td>\n",
       "      <td>215364</td>\n",
       "    </tr>\n",
       "    <tr>\n",
       "      <th>1</th>\n",
       "      <td>smp_2643</td>\n",
       "      <td>202116</td>\n",
       "    </tr>\n",
       "    <tr>\n",
       "      <th>2</th>\n",
       "      <td>smp_2177</td>\n",
       "      <td>196600</td>\n",
       "    </tr>\n",
       "    <tr>\n",
       "      <th>3</th>\n",
       "      <td>smp_2613</td>\n",
       "      <td>195537</td>\n",
       "    </tr>\n",
       "    <tr>\n",
       "      <th>4</th>\n",
       "      <td>smp_2638</td>\n",
       "      <td>192968</td>\n",
       "    </tr>\n",
       "  </tbody>\n",
       "</table>\n",
       "</div>"
      ],
      "text/plain": [
       "     sample  count_all\n",
       "0  smp_2553     215364\n",
       "1  smp_2643     202116\n",
       "2  smp_2177     196600\n",
       "3  smp_2613     195537\n",
       "4  smp_2638     192968"
      ]
     },
     "execution_count": 6,
     "metadata": {},
     "output_type": "execute_result"
    }
   ],
   "source": [
    "# obs per sample\n",
    "with tiledbsoma.Experiment.open(db_uri) as exp:\n",
    "    df = (\n",
    "        exp.obs.read()\n",
    "        .concat()\n",
    "        .group_by(['sample'])\n",
    "        .aggregate([\n",
    "            ([], 'count_all'),\n",
    "        ])\n",
    "        .sort_by([(\"count_all\", \"descending\")])\n",
    "        .to_pandas()\n",
    "    )\n",
    "print(df.shape)\n",
    "df.head()"
   ]
  },
  {
   "cell_type": "code",
   "execution_count": 7,
   "metadata": {},
   "outputs": [
    {
     "data": {
      "text/plain": [
       "np.int64(100648790)"
      ]
     },
     "execution_count": 7,
     "metadata": {},
     "output_type": "execute_result"
    }
   ],
   "source": [
    "# total obs\n",
    "df[\"count_all\"].sum()"
   ]
  },
  {
   "cell_type": "code",
   "execution_count": 8,
   "metadata": {},
   "outputs": [
    {
     "data": {
      "image/png": "[encoded data removed]"
     },
     "metadata": {
      "image/png": {
       "height": 300,
       "width": 500
      }
     },
     "output_type": "display_data"
    }
   ],
   "source": [
    "# plot reads per cell (barcode)\n",
    "p = (\n",
    "    pn.ggplot(df, pn.aes(x=\"count_all\")) + \n",
    "    pn.geom_histogram(bins=100) +\n",
    "    pn.labs(x=\"Cells per sample\", y=\"No. of samples\") +\n",
    "    pn.theme(figure_size=(5,3))\n",
    "    )\n",
    "p"
   ]
  },
  {
   "cell_type": "code",
   "execution_count": 9,
   "metadata": {},
   "outputs": [
    {
     "name": "stdout",
     "output_type": "stream",
     "text": [
      "(380, 2)\n"
     ]
    },
    {
     "data": {
      "text/html": [
       "<div>\n",
       "<style scoped>\n",
       "    .dataframe tbody tr th:only-of-type {\n",
       "        vertical-align: middle;\n",
       "    }\n",
       "\n",
       "    .dataframe tbody tr th {\n",
       "        vertical-align: top;\n",
       "    }\n",
       "\n",
       "    .dataframe thead th {\n",
       "        text-align: right;\n",
       "    }\n",
       "</style>\n",
       "<table border=\"1\" class=\"dataframe\">\n",
       "  <thead>\n",
       "    <tr style=\"text-align: right;\">\n",
       "      <th></th>\n",
       "      <th>drug</th>\n",
       "      <th>count_all</th>\n",
       "    </tr>\n",
       "  </thead>\n",
       "  <tbody>\n",
       "    <tr>\n",
       "      <th>0</th>\n",
       "      <td>8-Hydroxyquinoline</td>\n",
       "      <td>303241</td>\n",
       "    </tr>\n",
       "    <tr>\n",
       "      <th>1</th>\n",
       "      <td>Chlorhexidine (diacetate)</td>\n",
       "      <td>428705</td>\n",
       "    </tr>\n",
       "    <tr>\n",
       "      <th>2</th>\n",
       "      <td>Trifluridine</td>\n",
       "      <td>272488</td>\n",
       "    </tr>\n",
       "    <tr>\n",
       "      <th>3</th>\n",
       "      <td>Berbamine</td>\n",
       "      <td>449664</td>\n",
       "    </tr>\n",
       "    <tr>\n",
       "      <th>4</th>\n",
       "      <td>Retinoic acid</td>\n",
       "      <td>313463</td>\n",
       "    </tr>\n",
       "  </tbody>\n",
       "</table>\n",
       "</div>"
      ],
      "text/plain": [
       "                        drug  count_all\n",
       "0         8-Hydroxyquinoline     303241\n",
       "1  Chlorhexidine (diacetate)     428705\n",
       "2               Trifluridine     272488\n",
       "3                  Berbamine     449664\n",
       "4              Retinoic acid     313463"
      ]
     },
     "execution_count": 9,
     "metadata": {},
     "output_type": "execute_result"
    }
   ],
   "source": [
    "# cells per drug\n",
    "with tiledbsoma.Experiment.open(db_uri) as exp:\n",
    "    df = (\n",
    "        exp.obs.read(column_names=[\"drug\"])\n",
    "        .concat()\n",
    "        .group_by([\"drug\"])\n",
    "        .aggregate([\n",
    "            ([], 'count_all'),\n",
    "        ])\n",
    "        .to_pandas()\n",
    "    )\n",
    "print(df.shape)\n",
    "df.head()"
   ]
  },
  {
   "cell_type": "code",
   "execution_count": 10,
   "metadata": {},
   "outputs": [
    {
     "name": "stdout",
     "output_type": "stream",
     "text": [
      "(50, 3)\n"
     ]
    },
    {
     "data": {
      "text/html": [
       "<div>\n",
       "<style scoped>\n",
       "    .dataframe tbody tr th:only-of-type {\n",
       "        vertical-align: middle;\n",
       "    }\n",
       "\n",
       "    .dataframe tbody tr th {\n",
       "        vertical-align: top;\n",
       "    }\n",
       "\n",
       "    .dataframe thead th {\n",
       "        text-align: right;\n",
       "    }\n",
       "</style>\n",
       "<table border=\"1\" class=\"dataframe\">\n",
       "  <thead>\n",
       "    <tr style=\"text-align: right;\">\n",
       "      <th></th>\n",
       "      <th>cell_line</th>\n",
       "      <th>cell_name</th>\n",
       "      <th>count_all</th>\n",
       "    </tr>\n",
       "  </thead>\n",
       "  <tbody>\n",
       "    <tr>\n",
       "      <th>0</th>\n",
       "      <td>CVCL_0371</td>\n",
       "      <td>KATO III</td>\n",
       "      <td>2332035</td>\n",
       "    </tr>\n",
       "    <tr>\n",
       "      <th>1</th>\n",
       "      <td>CVCL_1731</td>\n",
       "      <td>SW 900</td>\n",
       "      <td>1791184</td>\n",
       "    </tr>\n",
       "    <tr>\n",
       "      <th>2</th>\n",
       "      <td>CVCL_1097</td>\n",
       "      <td>C32</td>\n",
       "      <td>2098357</td>\n",
       "    </tr>\n",
       "    <tr>\n",
       "      <th>3</th>\n",
       "      <td>CVCL_0480</td>\n",
       "      <td>PANC-1</td>\n",
       "      <td>4170586</td>\n",
       "    </tr>\n",
       "    <tr>\n",
       "      <th>4</th>\n",
       "      <td>CVCL_0023</td>\n",
       "      <td>A549</td>\n",
       "      <td>2664482</td>\n",
       "    </tr>\n",
       "  </tbody>\n",
       "</table>\n",
       "</div>"
      ],
      "text/plain": [
       "   cell_line cell_name  count_all\n",
       "0  CVCL_0371  KATO III    2332035\n",
       "1  CVCL_1731    SW 900    1791184\n",
       "2  CVCL_1097       C32    2098357\n",
       "3  CVCL_0480    PANC-1    4170586\n",
       "4  CVCL_0023      A549    2664482"
      ]
     },
     "execution_count": 10,
     "metadata": {},
     "output_type": "execute_result"
    }
   ],
   "source": [
    "# cells per cell line/name\n",
    "with tiledbsoma.Experiment.open(db_uri) as exp:\n",
    "    df = (\n",
    "        exp.obs.read(column_names=[\"cell_line\", \"cell_name\"])\n",
    "        .concat()\n",
    "        .group_by([\"cell_line\", \"cell_name\"])\n",
    "        .aggregate([\n",
    "            ([], 'count_all'),\n",
    "        ])\n",
    "        .to_pandas()\n",
    "    )\n",
    "print(df.shape)\n",
    "df.head()"
   ]
  },
  {
   "cell_type": "code",
   "execution_count": 12,
   "metadata": {},
   "outputs": [
    {
     "name": "stdout",
     "output_type": "stream",
     "text": [
      "(3, 2)\n"
     ]
    },
    {
     "data": {
      "text/html": [
       "<div>\n",
       "<style scoped>\n",
       "    .dataframe tbody tr th:only-of-type {\n",
       "        vertical-align: middle;\n",
       "    }\n",
       "\n",
       "    .dataframe tbody tr th {\n",
       "        vertical-align: top;\n",
       "    }\n",
       "\n",
       "    .dataframe thead th {\n",
       "        text-align: right;\n",
       "    }\n",
       "</style>\n",
       "<table border=\"1\" class=\"dataframe\">\n",
       "  <thead>\n",
       "    <tr style=\"text-align: right;\">\n",
       "      <th></th>\n",
       "      <th>phase</th>\n",
       "      <th>count_all</th>\n",
       "    </tr>\n",
       "  </thead>\n",
       "  <tbody>\n",
       "    <tr>\n",
       "      <th>0</th>\n",
       "      <td>G1</td>\n",
       "      <td>62969737</td>\n",
       "    </tr>\n",
       "    <tr>\n",
       "      <th>1</th>\n",
       "      <td>G2M</td>\n",
       "      <td>29455730</td>\n",
       "    </tr>\n",
       "    <tr>\n",
       "      <th>2</th>\n",
       "      <td>S</td>\n",
       "      <td>8223323</td>\n",
       "    </tr>\n",
       "  </tbody>\n",
       "</table>\n",
       "</div>"
      ],
      "text/plain": [
       "  phase  count_all\n",
       "0    G1   62969737\n",
       "1   G2M   29455730\n",
       "2     S    8223323"
      ]
     },
     "execution_count": 12,
     "metadata": {},
     "output_type": "execute_result"
    }
   ],
   "source": [
    "# cells per phase\n",
    "with tiledbsoma.Experiment.open(db_uri) as exp:\n",
    "    df = (\n",
    "        exp.obs.read(column_names=[\"phase\"])\n",
    "        .concat()\n",
    "        .group_by([\"phase\"])\n",
    "        .aggregate([\n",
    "            ([], 'count_all'),\n",
    "        ])\n",
    "        .to_pandas()\n",
    "    )\n",
    "print(df.shape)\n",
    "df.head()"
   ]
  },
  {
   "cell_type": "code",
   "execution_count": 17,
   "metadata": {},
   "outputs": [
    {
     "name": "stdout",
     "output_type": "stream",
     "text": [
      "(2, 2)\n"
     ]
    },
    {
     "data": {
      "text/html": [
       "<div>\n",
       "<style scoped>\n",
       "    .dataframe tbody tr th:only-of-type {\n",
       "        vertical-align: middle;\n",
       "    }\n",
       "\n",
       "    .dataframe tbody tr th {\n",
       "        vertical-align: top;\n",
       "    }\n",
       "\n",
       "    .dataframe thead th {\n",
       "        text-align: right;\n",
       "    }\n",
       "</style>\n",
       "<table border=\"1\" class=\"dataframe\">\n",
       "  <thead>\n",
       "    <tr style=\"text-align: right;\">\n",
       "      <th></th>\n",
       "      <th>pass_filter</th>\n",
       "      <th>count_all</th>\n",
       "    </tr>\n",
       "  </thead>\n",
       "  <tbody>\n",
       "    <tr>\n",
       "      <th>0</th>\n",
       "      <td>full</td>\n",
       "      <td>95624334</td>\n",
       "    </tr>\n",
       "    <tr>\n",
       "      <th>1</th>\n",
       "      <td>minimal</td>\n",
       "      <td>5024456</td>\n",
       "    </tr>\n",
       "  </tbody>\n",
       "</table>\n",
       "</div>"
      ],
      "text/plain": [
       "  pass_filter  count_all\n",
       "0        full   95624334\n",
       "1     minimal    5024456"
      ]
     },
     "execution_count": 17,
     "metadata": {},
     "output_type": "execute_result"
    }
   ],
   "source": [
    "# cells per phase\n",
    "with tiledbsoma.Experiment.open(db_uri) as exp:\n",
    "    df = (\n",
    "        exp.obs.read(column_names=[\"pass_filter\"])\n",
    "        .concat()\n",
    "        .group_by([\"pass_filter\"])\n",
    "        .aggregate([\n",
    "            ([], 'count_all'),\n",
    "        ])\n",
    "        .to_pandas()\n",
    "    )\n",
    "print(df.shape)\n",
    "df.head()"
   ]
  },
  {
   "cell_type": "markdown",
   "metadata": {},
   "source": [
    "### Reads"
   ]
  },
  {
   "cell_type": "code",
   "execution_count": 10,
   "metadata": {},
   "outputs": [
    {
     "ename": "",
     "evalue": "",
     "output_type": "error",
     "traceback": [
      "\u001b[1;31mThe Kernel crashed while executing code in the current cell or a previous cell. \n",
      "\u001b[1;31mPlease review the code in the cell(s) to identify a possible cause of the failure. \n",
      "\u001b[1;31mClick <a href='https://aka.ms/vscodeJupyterKernelCrash'>here</a> for more info. \n",
      "\u001b[1;31mView Jupyter <a href='command:jupyter.viewOutput'>log</a> for further details."
     ]
    }
   ],
   "source": [
    "# reads per cell\n",
    "with tiledbsoma.open(db_uri) as exp:\n",
    "    df = (\n",
    "        exp.obs.read(column_names=[\"BARCODE_SUB_LIB_ID\", \"NUM.READS\"])\n",
    "        .concat()\n",
    "        .group_by([\"BARCODE_SUB_LIB_ID\"])\n",
    "        .aggregate([\n",
    "            ([\"NUM.READS\"], \"sum\"),\n",
    "        ])\n",
    "        .sort_by([(\"NUM.READS_sum\", \"descending\")])\n",
    "        .to_pandas()\n",
    "    )\n",
    "df"
   ]
  },
  {
   "cell_type": "code",
   "execution_count": 66,
   "metadata": {},
   "outputs": [
    {
     "name": "stdout",
     "output_type": "stream",
     "text": [
      "count   4705402\n",
      "mean        124\n",
      "std         113\n",
      "min           7\n",
      "25%          62\n",
      "50%          92\n",
      "75%         147\n",
      "max        6570\n",
      "Name: NUM.READS_sum, dtype: float64\n"
     ]
    }
   ],
   "source": [
    "# stats\n",
    "with pd.option_context('display.float_format', '{:.0f}'.format):\n",
    "    print(df[\"NUM.READS_sum\"].describe())"
   ]
  },
  {
   "cell_type": "code",
   "execution_count": 67,
   "metadata": {},
   "outputs": [
    {
     "data": {
      "image/png": "[encoded data removed]"
     },
     "metadata": {
      "image/png": {
       "height": 300,
       "width": 500
      }
     },
     "output_type": "display_data"
    }
   ],
   "source": [
    "# plot reads per cell (barcode)\n",
    "p = (\n",
    "    pn.ggplot(df, pn.aes(x=\"NUM.READS_sum\")) + \n",
    "    pn.geom_histogram(bins=100) +\n",
    "    pn.labs(x=\"Reads per cell\", y=\"Number of cells\") +\n",
    "    pn.theme_bw() +\n",
    "    pn.theme(figure_size=(5,3))\n",
    "    )\n",
    "p"
   ]
  },
  {
   "cell_type": "code",
   "execution_count": 70,
   "metadata": {},
   "outputs": [
    {
     "name": "stdout",
     "output_type": "stream",
     "text": [
      "(4705402, 2)\n"
     ]
    },
    {
     "data": {
      "text/html": [
       "<div>\n",
       "<style scoped>\n",
       "    .dataframe tbody tr th:only-of-type {\n",
       "        vertical-align: middle;\n",
       "    }\n",
       "\n",
       "    .dataframe tbody tr th {\n",
       "        vertical-align: top;\n",
       "    }\n",
       "\n",
       "    .dataframe thead th {\n",
       "        text-align: right;\n",
       "    }\n",
       "</style>\n",
       "<table border=\"1\" class=\"dataframe\">\n",
       "  <thead>\n",
       "    <tr style=\"text-align: right;\">\n",
       "      <th></th>\n",
       "      <th>BARCODE_SUB_LIB_ID</th>\n",
       "      <th>gene_count</th>\n",
       "    </tr>\n",
       "  </thead>\n",
       "  <tbody>\n",
       "    <tr>\n",
       "      <th>0</th>\n",
       "      <td>01_001_117-lib_1009</td>\n",
       "      <td>1110</td>\n",
       "    </tr>\n",
       "    <tr>\n",
       "      <th>1</th>\n",
       "      <td>01_001_122-lib_1009</td>\n",
       "      <td>1011</td>\n",
       "    </tr>\n",
       "    <tr>\n",
       "      <th>2</th>\n",
       "      <td>01_001_172-lib_1009</td>\n",
       "      <td>835</td>\n",
       "    </tr>\n",
       "    <tr>\n",
       "      <th>3</th>\n",
       "      <td>01_002_058-lib_1009</td>\n",
       "      <td>754</td>\n",
       "    </tr>\n",
       "    <tr>\n",
       "      <th>4</th>\n",
       "      <td>01_002_063-lib_1009</td>\n",
       "      <td>1546</td>\n",
       "    </tr>\n",
       "  </tbody>\n",
       "</table>\n",
       "</div>"
      ],
      "text/plain": [
       "    BARCODE_SUB_LIB_ID  gene_count\n",
       "0  01_001_117-lib_1009        1110\n",
       "1  01_001_122-lib_1009        1011\n",
       "2  01_001_172-lib_1009         835\n",
       "3  01_002_058-lib_1009         754\n",
       "4  01_002_063-lib_1009        1546"
      ]
     },
     "execution_count": 70,
     "metadata": {},
     "output_type": "execute_result"
    }
   ],
   "source": [
    "# gene count per cells\n",
    "with tiledbsoma.Experiment.open(db_uri) as exp:\n",
    "    df = (\n",
    "        exp.obs.read(column_names=[\"BARCODE_SUB_LIB_ID\", \"gene_count\"])\n",
    "        .concat()\n",
    "        .to_pandas()\n",
    "    )\n",
    "print(df.shape)\n",
    "df.head()"
   ]
  },
  {
   "cell_type": "code",
   "execution_count": 72,
   "metadata": {},
   "outputs": [
    {
     "name": "stdout",
     "output_type": "stream",
     "text": [
      "count   4705402\n",
      "mean       1208\n",
      "std         733\n",
      "min         253\n",
      "25%         718\n",
      "50%        1011\n",
      "75%        1469\n",
      "max       12600\n",
      "Name: gene_count, dtype: float64\n"
     ]
    }
   ],
   "source": [
    "# stats\n",
    "with pd.option_context('display.float_format', '{:.0f}'.format):\n",
    "    print(df[\"gene_count\"].describe())"
   ]
  },
  {
   "cell_type": "code",
   "execution_count": 71,
   "metadata": {},
   "outputs": [
    {
     "data": {
      "image/png": "[encoded data removed]"
     },
     "metadata": {
      "image/png": {
       "height": 300,
       "width": 500
      }
     },
     "output_type": "display_data"
    }
   ],
   "source": [
    "# plot reads per gene (barcode)\n",
    "p = (\n",
    "    pn.ggplot(df, pn.aes(x=\"gene_count\")) + \n",
    "    pn.geom_histogram(bins=100) +\n",
    "    pn.labs(x=\"Gene count\", y=\"Number of cells\") +\n",
    "    pn.theme_bw() +\n",
    "    pn.theme(figure_size=(5,3))\n",
    "    )\n",
    "p"
   ]
  },
  {
   "cell_type": "markdown",
   "metadata": {},
   "source": [
    "# Sandbox"
   ]
  },
  {
   "cell_type": "code",
   "execution_count": 11,
   "metadata": {},
   "outputs": [
    {
     "name": "stdout",
     "output_type": "stream",
     "text": [
      "(10, 45)\n"
     ]
    },
    {
     "data": {
      "text/html": [
       "<div>\n",
       "<style scoped>\n",
       "    .dataframe tbody tr th:only-of-type {\n",
       "        vertical-align: middle;\n",
       "    }\n",
       "\n",
       "    .dataframe tbody tr th {\n",
       "        vertical-align: top;\n",
       "    }\n",
       "\n",
       "    .dataframe thead th {\n",
       "        text-align: right;\n",
       "    }\n",
       "</style>\n",
       "<table border=\"1\" class=\"dataframe\">\n",
       "  <thead>\n",
       "    <tr style=\"text-align: right;\">\n",
       "      <th></th>\n",
       "      <th>soma_joinid</th>\n",
       "      <th>BARCODE_SUB_LIB_ID</th>\n",
       "      <th>sample</th>\n",
       "      <th>species</th>\n",
       "      <th>gene_count</th>\n",
       "      <th>tscp_count</th>\n",
       "      <th>mread_count</th>\n",
       "      <th>bc1_wind</th>\n",
       "      <th>bc2_wind</th>\n",
       "      <th>bc3_wind</th>\n",
       "      <th>bc1_well</th>\n",
       "      <th>bc2_well</th>\n",
       "      <th>bc3_well</th>\n",
       "      <th>id</th>\n",
       "      <th>drugname_drugconc</th>\n",
       "      <th>drug</th>\n",
       "      <th>INT_ID</th>\n",
       "      <th>NUM.SNPS</th>\n",
       "      <th>NUM.READS</th>\n",
       "      <th>demuxlet_call</th>\n",
       "      <th>BEST.GUESS</th>\n",
       "      <th>BEST.LLK</th>\n",
       "      <th>NEXT.GUESS</th>\n",
       "      <th>NEXT.LLK</th>\n",
       "      <th>DIFF.LLK.BEST.NEXT</th>\n",
       "      <th>BEST.POSTERIOR</th>\n",
       "      <th>SNG.POSTERIOR</th>\n",
       "      <th>cell_line</th>\n",
       "      <th>SNG.BEST.LLK</th>\n",
       "      <th>SNG.NEXT.GUESS</th>\n",
       "      <th>SNG.NEXT.LLK</th>\n",
       "      <th>SNG.ONLY.POSTERIOR</th>\n",
       "      <th>DBL.BEST.GUESS</th>\n",
       "      <th>DBL.BEST.LLK</th>\n",
       "      <th>DIFF.LLK.SNG.DBL</th>\n",
       "      <th>sublibrary</th>\n",
       "      <th>BARCODE</th>\n",
       "      <th>pcnt_mito</th>\n",
       "      <th>S_score</th>\n",
       "      <th>G2M_score</th>\n",
       "      <th>phase</th>\n",
       "      <th>cell_line_orig</th>\n",
       "      <th>pass_filter</th>\n",
       "      <th>cell_name</th>\n",
       "      <th>obs_id</th>\n",
       "    </tr>\n",
       "  </thead>\n",
       "  <tbody>\n",
       "    <tr>\n",
       "      <th>0</th>\n",
       "      <td>0</td>\n",
       "      <td>01_001_053-lib_2064</td>\n",
       "      <td>smp_2743</td>\n",
       "      <td>hg38</td>\n",
       "      <td>1154</td>\n",
       "      <td>1650</td>\n",
       "      <td>1935</td>\n",
       "      <td>1</td>\n",
       "      <td>1</td>\n",
       "      <td>53</td>\n",
       "      <td>A1</td>\n",
       "      <td>A1</td>\n",
       "      <td>E5</td>\n",
       "      <td>recxbJxJOaZM90Poa</td>\n",
       "      <td>[('8-Hydroxyquinoline', 5.0, 'uM')]</td>\n",
       "      <td>8-Hydroxyquinoline</td>\n",
       "      <td>0.0</td>\n",
       "      <td>98.0</td>\n",
       "      <td>100.0</td>\n",
       "      <td>singlet</td>\n",
       "      <td>CVCL_0371,CVCL_0371,0.00</td>\n",
       "      <td>-30.50</td>\n",
       "      <td>CVCL_0366,CVCL_0371,0.50</td>\n",
       "      <td>-29.17</td>\n",
       "      <td>-1.33</td>\n",
       "      <td>-35.0</td>\n",
       "      <td>1.0</td>\n",
       "      <td>CVCL_0371</td>\n",
       "      <td>-30.50</td>\n",
       "      <td>CVCL_0366</td>\n",
       "      <td>-44.10</td>\n",
       "      <td>0.0</td>\n",
       "      <td>CVCL_0366,CVCL_0371,0.50</td>\n",
       "      <td>-29.17</td>\n",
       "      <td>-1.33</td>\n",
       "      <td>lib_2064</td>\n",
       "      <td>01_001_053</td>\n",
       "      <td>0.045455</td>\n",
       "      <td>-0.068190</td>\n",
       "      <td>-0.259615</td>\n",
       "      <td>G1</td>\n",
       "      <td>CVCL_0371</td>\n",
       "      <td>full</td>\n",
       "      <td>KATO III</td>\n",
       "      <td>01_001_053-lib_2064</td>\n",
       "    </tr>\n",
       "    <tr>\n",
       "      <th>1</th>\n",
       "      <td>1</td>\n",
       "      <td>01_001_141-lib_2064</td>\n",
       "      <td>smp_2743</td>\n",
       "      <td>hg38</td>\n",
       "      <td>1132</td>\n",
       "      <td>1748</td>\n",
       "      <td>2073</td>\n",
       "      <td>1</td>\n",
       "      <td>1</td>\n",
       "      <td>141</td>\n",
       "      <td>A1</td>\n",
       "      <td>A1</td>\n",
       "      <td>p2.D9</td>\n",
       "      <td>recxbJxJOaZM90Poa</td>\n",
       "      <td>[('8-Hydroxyquinoline', 5.0, 'uM')]</td>\n",
       "      <td>8-Hydroxyquinoline</td>\n",
       "      <td>1.0</td>\n",
       "      <td>68.0</td>\n",
       "      <td>70.0</td>\n",
       "      <td>singlet</td>\n",
       "      <td>CVCL_1731,CVCL_1731,0.00</td>\n",
       "      <td>-22.14</td>\n",
       "      <td>CVCL_1731,CVCL_1239,0.50</td>\n",
       "      <td>-22.37</td>\n",
       "      <td>0.23</td>\n",
       "      <td>-27.0</td>\n",
       "      <td>1.0</td>\n",
       "      <td>CVCL_1731</td>\n",
       "      <td>-22.14</td>\n",
       "      <td>CVCL_1381</td>\n",
       "      <td>-25.50</td>\n",
       "      <td>0.0</td>\n",
       "      <td>CVCL_1731,CVCL_1239,0.50</td>\n",
       "      <td>-22.37</td>\n",
       "      <td>0.23</td>\n",
       "      <td>lib_2064</td>\n",
       "      <td>01_001_141</td>\n",
       "      <td>0.039474</td>\n",
       "      <td>-0.092190</td>\n",
       "      <td>-0.322115</td>\n",
       "      <td>G1</td>\n",
       "      <td>CVCL_1731</td>\n",
       "      <td>full</td>\n",
       "      <td>SW 900</td>\n",
       "      <td>01_001_141-lib_2064</td>\n",
       "    </tr>\n",
       "    <tr>\n",
       "      <th>2</th>\n",
       "      <td>2</td>\n",
       "      <td>01_002_014-lib_2064</td>\n",
       "      <td>smp_2743</td>\n",
       "      <td>hg38</td>\n",
       "      <td>916</td>\n",
       "      <td>1285</td>\n",
       "      <td>1536</td>\n",
       "      <td>1</td>\n",
       "      <td>2</td>\n",
       "      <td>14</td>\n",
       "      <td>A1</td>\n",
       "      <td>A2</td>\n",
       "      <td>B2</td>\n",
       "      <td>recxbJxJOaZM90Poa</td>\n",
       "      <td>[('8-Hydroxyquinoline', 5.0, 'uM')]</td>\n",
       "      <td>8-Hydroxyquinoline</td>\n",
       "      <td>2.0</td>\n",
       "      <td>68.0</td>\n",
       "      <td>69.0</td>\n",
       "      <td>singlet</td>\n",
       "      <td>CVCL_1097,CVCL_1097,0.00</td>\n",
       "      <td>-15.64</td>\n",
       "      <td>CVCL_1097,CVCL_1731,0.50</td>\n",
       "      <td>-15.86</td>\n",
       "      <td>0.22</td>\n",
       "      <td>-20.0</td>\n",
       "      <td>1.0</td>\n",
       "      <td>CVCL_1097</td>\n",
       "      <td>-15.64</td>\n",
       "      <td>CVCL_1731</td>\n",
       "      <td>-19.08</td>\n",
       "      <td>0.0</td>\n",
       "      <td>CVCL_1097,CVCL_1731,0.50</td>\n",
       "      <td>-15.86</td>\n",
       "      <td>0.22</td>\n",
       "      <td>lib_2064</td>\n",
       "      <td>01_002_014</td>\n",
       "      <td>0.017121</td>\n",
       "      <td>-0.072190</td>\n",
       "      <td>-0.125000</td>\n",
       "      <td>G1</td>\n",
       "      <td>CVCL_1097</td>\n",
       "      <td>full</td>\n",
       "      <td>C32</td>\n",
       "      <td>01_002_014-lib_2064</td>\n",
       "    </tr>\n",
       "    <tr>\n",
       "      <th>3</th>\n",
       "      <td>3</td>\n",
       "      <td>01_002_181-lib_2064</td>\n",
       "      <td>smp_2743</td>\n",
       "      <td>hg38</td>\n",
       "      <td>1857</td>\n",
       "      <td>2946</td>\n",
       "      <td>3430</td>\n",
       "      <td>1</td>\n",
       "      <td>2</td>\n",
       "      <td>181</td>\n",
       "      <td>A1</td>\n",
       "      <td>A2</td>\n",
       "      <td>p2.H1</td>\n",
       "      <td>recxbJxJOaZM90Poa</td>\n",
       "      <td>[('8-Hydroxyquinoline', 5.0, 'uM')]</td>\n",
       "      <td>8-Hydroxyquinoline</td>\n",
       "      <td>5.0</td>\n",
       "      <td>184.0</td>\n",
       "      <td>189.0</td>\n",
       "      <td>singlet</td>\n",
       "      <td>CVCL_1097,CVCL_1097,0.00</td>\n",
       "      <td>-57.00</td>\n",
       "      <td>CVCL_1119,CVCL_1097,0.50</td>\n",
       "      <td>-58.38</td>\n",
       "      <td>1.39</td>\n",
       "      <td>-62.0</td>\n",
       "      <td>1.0</td>\n",
       "      <td>CVCL_1097</td>\n",
       "      <td>-57.00</td>\n",
       "      <td>CVCL_1119</td>\n",
       "      <td>-82.44</td>\n",
       "      <td>0.0</td>\n",
       "      <td>CVCL_1119,CVCL_1097,0.50</td>\n",
       "      <td>-58.38</td>\n",
       "      <td>1.39</td>\n",
       "      <td>lib_2064</td>\n",
       "      <td>01_002_181</td>\n",
       "      <td>0.017651</td>\n",
       "      <td>0.002667</td>\n",
       "      <td>0.278846</td>\n",
       "      <td>G2M</td>\n",
       "      <td>CVCL_1097</td>\n",
       "      <td>full</td>\n",
       "      <td>C32</td>\n",
       "      <td>01_002_181-lib_2064</td>\n",
       "    </tr>\n",
       "    <tr>\n",
       "      <th>4</th>\n",
       "      <td>4</td>\n",
       "      <td>01_003_056-lib_2064</td>\n",
       "      <td>smp_2743</td>\n",
       "      <td>hg38</td>\n",
       "      <td>731</td>\n",
       "      <td>969</td>\n",
       "      <td>1118</td>\n",
       "      <td>1</td>\n",
       "      <td>3</td>\n",
       "      <td>56</td>\n",
       "      <td>A1</td>\n",
       "      <td>A3</td>\n",
       "      <td>E8</td>\n",
       "      <td>recxbJxJOaZM90Poa</td>\n",
       "      <td>[('8-Hydroxyquinoline', 5.0, 'uM')]</td>\n",
       "      <td>8-Hydroxyquinoline</td>\n",
       "      <td>6.0</td>\n",
       "      <td>64.0</td>\n",
       "      <td>65.0</td>\n",
       "      <td>singlet</td>\n",
       "      <td>CVCL_0480,CVCL_0480,0.00</td>\n",
       "      <td>-19.37</td>\n",
       "      <td>CVCL_0480,CVCL_0366,0.50</td>\n",
       "      <td>-18.90</td>\n",
       "      <td>-0.47</td>\n",
       "      <td>-24.0</td>\n",
       "      <td>1.0</td>\n",
       "      <td>CVCL_0480</td>\n",
       "      <td>-19.37</td>\n",
       "      <td>CVCL_0366</td>\n",
       "      <td>-26.26</td>\n",
       "      <td>0.0</td>\n",
       "      <td>CVCL_0480,CVCL_0366,0.50</td>\n",
       "      <td>-18.90</td>\n",
       "      <td>-0.47</td>\n",
       "      <td>lib_2064</td>\n",
       "      <td>01_003_056</td>\n",
       "      <td>0.041280</td>\n",
       "      <td>-0.020190</td>\n",
       "      <td>-0.144231</td>\n",
       "      <td>G1</td>\n",
       "      <td>CVCL_0480</td>\n",
       "      <td>full</td>\n",
       "      <td>PANC-1</td>\n",
       "      <td>01_003_056-lib_2064</td>\n",
       "    </tr>\n",
       "  </tbody>\n",
       "</table>\n",
       "</div>"
      ],
      "text/plain": [
       "   soma_joinid   BARCODE_SUB_LIB_ID    sample species  gene_count  tscp_count  \\\n",
       "0            0  01_001_053-lib_2064  smp_2743    hg38        1154        1650   \n",
       "1            1  01_001_141-lib_2064  smp_2743    hg38        1132        1748   \n",
       "2            2  01_002_014-lib_2064  smp_2743    hg38         916        1285   \n",
       "3            3  01_002_181-lib_2064  smp_2743    hg38        1857        2946   \n",
       "4            4  01_003_056-lib_2064  smp_2743    hg38         731         969   \n",
       "\n",
       "   mread_count  bc1_wind  bc2_wind  bc3_wind bc1_well bc2_well bc3_well  \\\n",
       "0         1935         1         1        53       A1       A1       E5   \n",
       "1         2073         1         1       141       A1       A1    p2.D9   \n",
       "2         1536         1         2        14       A1       A2       B2   \n",
       "3         3430         1         2       181       A1       A2    p2.H1   \n",
       "4         1118         1         3        56       A1       A3       E8   \n",
       "\n",
       "                  id                    drugname_drugconc                drug  \\\n",
       "0  recxbJxJOaZM90Poa  [('8-Hydroxyquinoline', 5.0, 'uM')]  8-Hydroxyquinoline   \n",
       "1  recxbJxJOaZM90Poa  [('8-Hydroxyquinoline', 5.0, 'uM')]  8-Hydroxyquinoline   \n",
       "2  recxbJxJOaZM90Poa  [('8-Hydroxyquinoline', 5.0, 'uM')]  8-Hydroxyquinoline   \n",
       "3  recxbJxJOaZM90Poa  [('8-Hydroxyquinoline', 5.0, 'uM')]  8-Hydroxyquinoline   \n",
       "4  recxbJxJOaZM90Poa  [('8-Hydroxyquinoline', 5.0, 'uM')]  8-Hydroxyquinoline   \n",
       "\n",
       "   INT_ID  NUM.SNPS  NUM.READS demuxlet_call                BEST.GUESS  \\\n",
       "0     0.0      98.0      100.0       singlet  CVCL_0371,CVCL_0371,0.00   \n",
       "1     1.0      68.0       70.0       singlet  CVCL_1731,CVCL_1731,0.00   \n",
       "2     2.0      68.0       69.0       singlet  CVCL_1097,CVCL_1097,0.00   \n",
       "3     5.0     184.0      189.0       singlet  CVCL_1097,CVCL_1097,0.00   \n",
       "4     6.0      64.0       65.0       singlet  CVCL_0480,CVCL_0480,0.00   \n",
       "\n",
       "   BEST.LLK                NEXT.GUESS  NEXT.LLK  DIFF.LLK.BEST.NEXT  \\\n",
       "0    -30.50  CVCL_0366,CVCL_0371,0.50    -29.17               -1.33   \n",
       "1    -22.14  CVCL_1731,CVCL_1239,0.50    -22.37                0.23   \n",
       "2    -15.64  CVCL_1097,CVCL_1731,0.50    -15.86                0.22   \n",
       "3    -57.00  CVCL_1119,CVCL_1097,0.50    -58.38                1.39   \n",
       "4    -19.37  CVCL_0480,CVCL_0366,0.50    -18.90               -0.47   \n",
       "\n",
       "   BEST.POSTERIOR  SNG.POSTERIOR  cell_line  SNG.BEST.LLK SNG.NEXT.GUESS  \\\n",
       "0           -35.0            1.0  CVCL_0371        -30.50      CVCL_0366   \n",
       "1           -27.0            1.0  CVCL_1731        -22.14      CVCL_1381   \n",
       "2           -20.0            1.0  CVCL_1097        -15.64      CVCL_1731   \n",
       "3           -62.0            1.0  CVCL_1097        -57.00      CVCL_1119   \n",
       "4           -24.0            1.0  CVCL_0480        -19.37      CVCL_0366   \n",
       "\n",
       "   SNG.NEXT.LLK  SNG.ONLY.POSTERIOR            DBL.BEST.GUESS  DBL.BEST.LLK  \\\n",
       "0        -44.10                 0.0  CVCL_0366,CVCL_0371,0.50        -29.17   \n",
       "1        -25.50                 0.0  CVCL_1731,CVCL_1239,0.50        -22.37   \n",
       "2        -19.08                 0.0  CVCL_1097,CVCL_1731,0.50        -15.86   \n",
       "3        -82.44                 0.0  CVCL_1119,CVCL_1097,0.50        -58.38   \n",
       "4        -26.26                 0.0  CVCL_0480,CVCL_0366,0.50        -18.90   \n",
       "\n",
       "   DIFF.LLK.SNG.DBL sublibrary     BARCODE  pcnt_mito   S_score  G2M_score  \\\n",
       "0             -1.33   lib_2064  01_001_053   0.045455 -0.068190  -0.259615   \n",
       "1              0.23   lib_2064  01_001_141   0.039474 -0.092190  -0.322115   \n",
       "2              0.22   lib_2064  01_002_014   0.017121 -0.072190  -0.125000   \n",
       "3              1.39   lib_2064  01_002_181   0.017651  0.002667   0.278846   \n",
       "4             -0.47   lib_2064  01_003_056   0.041280 -0.020190  -0.144231   \n",
       "\n",
       "  phase cell_line_orig pass_filter cell_name               obs_id  \n",
       "0    G1      CVCL_0371        full  KATO III  01_001_053-lib_2064  \n",
       "1    G1      CVCL_1731        full    SW 900  01_001_141-lib_2064  \n",
       "2    G1      CVCL_1097        full       C32  01_002_014-lib_2064  \n",
       "3   G2M      CVCL_1097        full       C32  01_002_181-lib_2064  \n",
       "4    G1      CVCL_0480        full    PANC-1  01_003_056-lib_2064  "
      ]
     },
     "execution_count": 11,
     "metadata": {},
     "output_type": "execute_result"
    }
   ],
   "source": [
    "# view all metadata\n",
    "with tiledbsoma.Experiment.open(db_uri) as exp:\n",
    "    df = (\n",
    "        exp.obs.read()\n",
    "        .concat()\n",
    "        .slice(0,10) \n",
    "        .to_pandas()\n",
    "    )\n",
    "pd.set_option('display.max_columns', 100)\n",
    "print(df.shape)\n",
    "df.head()"
   ]
  },
  {
   "cell_type": "code",
   "execution_count": 1,
   "metadata": {},
   "outputs": [],
   "source": [
    "import scanpy as sc"
   ]
  },
  {
   "cell_type": "code",
   "execution_count": 2,
   "metadata": {},
   "outputs": [
    {
     "data": {
      "text/plain": [
       "AnnData object with n_obs × n_vars = 4705402 × 62710\n",
       "    obs: 'sample', 'species', 'gene_count', 'tscp_count', 'mread_count', 'bc1_wind', 'bc2_wind', 'bc3_wind', 'bc1_well', 'bc2_well', 'bc3_well', 'id', 'drugname_drugconc', 'drug', 'INT_ID', 'NUM.SNPS', 'NUM.READS', 'demuxlet_call', 'BEST.GUESS', 'BEST.LLK', 'NEXT.GUESS', 'NEXT.LLK', 'DIFF.LLK.BEST.NEXT', 'BEST.POSTERIOR', 'SNG.POSTERIOR', 'cell_line', 'SNG.BEST.LLK', 'SNG.NEXT.GUESS', 'SNG.NEXT.LLK', 'SNG.ONLY.POSTERIOR', 'DBL.BEST.GUESS', 'DBL.BEST.LLK', 'DIFF.LLK.SNG.DBL', 'sublibrary', 'BARCODE', 'pcnt_mito', 'S_score', 'G2M_score', 'phase', 'cell_line_orig', 'pass_filter', 'cell_name'"
      ]
     },
     "execution_count": 2,
     "metadata": {},
     "output_type": "execute_result"
    }
   ],
   "source": [
    "infile = \"/processed_datasets/scRecount/tahoe/plate3_filtered.h5ad.gz\"\n",
    "adata = sc.read_h5ad(infile)\n",
    "adata"
   ]
  },
  {
   "cell_type": "code",
   "execution_count": 3,
   "metadata": {},
   "outputs": [
    {
     "data": {
      "text/plain": [
       "Index(['01_001_117-lib_1009', '01_001_122-lib_1009', '01_001_172-lib_1009',\n",
       "       '01_002_058-lib_1009', '01_002_063-lib_1009', '01_002_094-lib_1009',\n",
       "       '01_002_151-lib_1009', '01_002_163-lib_1009', '01_002_187-lib_1009',\n",
       "       '01_003_059-lib_1009'],\n",
       "      dtype='object', name='BARCODE_SUB_LIB_ID')"
      ]
     },
     "execution_count": 3,
     "metadata": {},
     "output_type": "execute_result"
    }
   ],
   "source": [
    "adata.obs.index[:10]"
   ]
  },
  {
   "cell_type": "code",
   "execution_count": 6,
   "metadata": {},
   "outputs": [
    {
     "data": {
      "text/plain": [
       "Index(['01_001_117-lib_1009', '01_001_122-lib_1009', '01_001_172-lib_1009',\n",
       "       '01_002_058-lib_1009', '01_002_063-lib_1009', '01_002_094-lib_1009',\n",
       "       '01_002_151-lib_1009', '01_002_163-lib_1009', '01_002_187-lib_1009',\n",
       "       '01_003_059-lib_1009'],\n",
       "      dtype='object', name='BARCODE_SUB_LIB_ID')"
      ]
     },
     "execution_count": 6,
     "metadata": {},
     "output_type": "execute_result"
    }
   ],
   "source": [
    "adata.obs.index[:10]"
   ]
  },
  {
   "cell_type": "markdown",
   "metadata": {},
   "source": [
    "# sessionInfo"
   ]
  },
  {
   "cell_type": "code",
   "execution_count": 82,
   "metadata": {},
   "outputs": [
    {
     "name": "stdout",
     "output_type": "stream",
     "text": [
      "# packages in environment at /home/nickyoungblut/miniforge3/envs/tiledb:\n",
      "#\n",
      "# Name                    Version                   Build  Channel\n",
      "_libgcc_mutex             0.1                 conda_forge    conda-forge\n",
      "_openmp_mutex             4.5                       2_gnu    conda-forge\n",
      "aiohappyeyeballs          2.4.4              pyhd8ed1ab_1    conda-forge\n",
      "aiohttp                   3.11.11         py312h178313f_0    conda-forge\n",
      "aiosignal                 1.3.2              pyhd8ed1ab_0    conda-forge\n",
      "anndata                   0.11.3             pyhd8ed1ab_0    conda-forge\n",
      "array-api-compat          1.10.0             pyhd8ed1ab_0    conda-forge\n",
      "asttokens                 3.0.0              pyhd8ed1ab_1    conda-forge\n",
      "attrs                     25.1.0             pyh71513ae_0    conda-forge\n",
      "aws-c-auth                0.8.1                h205f482_0    conda-forge\n",
      "aws-c-cal                 0.8.1                h1a47875_3    conda-forge\n",
      "aws-c-common              0.10.6               hb9d3cd8_0    conda-forge\n",
      "aws-c-compression         0.3.0                h4e1184b_5    conda-forge\n",
      "aws-c-event-stream        0.5.0               h7959bf6_11    conda-forge\n",
      "aws-c-http                0.9.2                hefd7a92_4    conda-forge\n",
      "aws-c-io                  0.15.3               h173a860_6    conda-forge\n",
      "aws-c-mqtt                0.11.0              h11f4f37_12    conda-forge\n",
      "aws-c-s3                  0.7.9                he1b24dc_1    conda-forge\n",
      "aws-c-sdkutils            0.2.2                h4e1184b_0    conda-forge\n",
      "aws-checksums             0.2.2                h4e1184b_4    conda-forge\n",
      "aws-crt-cpp               0.29.9               he0e7f3f_2    conda-forge\n",
      "aws-sdk-cpp               1.11.489             h4d475cb_0    conda-forge\n",
      "azure-core-cpp            1.14.0               h5cfcd09_0    conda-forge\n",
      "azure-identity-cpp        1.10.0               h113e628_0    conda-forge\n",
      "azure-storage-blobs-cpp   12.13.0              h3cf044e_1    conda-forge\n",
      "azure-storage-common-cpp  12.8.0               h736e048_1    conda-forge\n",
      "azure-storage-files-datalake-cpp 12.12.0              ha633028_1    conda-forge\n",
      "brotli                    1.1.0                hb9d3cd8_2    conda-forge\n",
      "brotli-bin                1.1.0                hb9d3cd8_2    conda-forge\n",
      "brotli-python             1.1.0           py312h2ec8cdc_2    conda-forge\n",
      "bzip2                     1.0.8                h4bc722e_7    conda-forge\n",
      "c-ares                    1.34.4               hb9d3cd8_0    conda-forge\n",
      "ca-certificates           2025.1.31            hbcca054_0    conda-forge\n",
      "cached-property           1.5.2                hd8ed1ab_1    conda-forge\n",
      "cached_property           1.5.2              pyha770c72_1    conda-forge\n",
      "cachetools                5.5.1              pyhd8ed1ab_0    conda-forge\n",
      "capnproto                 1.0.2                h766bdaa_3    conda-forge\n",
      "certifi                   2024.12.14         pyhd8ed1ab_0    conda-forge\n",
      "cffi                      1.17.1          py312h06ac9bb_0    conda-forge\n",
      "charset-normalizer        3.4.1              pyhd8ed1ab_0    conda-forge\n",
      "colorama                  0.4.6              pyhd8ed1ab_1    conda-forge\n",
      "comm                      0.2.2              pyhd8ed1ab_1    conda-forge\n",
      "contourpy                 1.3.1           py312h68727a3_0    conda-forge\n",
      "cryptography              44.0.0          py312hda17c39_1    conda-forge\n",
      "cycler                    0.12.1             pyhd8ed1ab_1    conda-forge\n",
      "cyrus-sasl                2.1.27               h54b06d7_7    conda-forge\n",
      "debugpy                   1.8.12          py312h2ec8cdc_0    conda-forge\n",
      "decorator                 5.1.1              pyhd8ed1ab_1    conda-forge\n",
      "exceptiongroup            1.2.2              pyhd8ed1ab_1    conda-forge\n",
      "executing                 2.1.0              pyhd8ed1ab_1    conda-forge\n",
      "fmt                       11.0.2               h434a139_0    conda-forge\n",
      "fonttools                 4.55.6          py312h178313f_0    conda-forge\n",
      "freetype                  2.12.1               h267a509_2    conda-forge\n",
      "frozenlist                1.5.0           py312h178313f_1    conda-forge\n",
      "geos                      3.13.0               h5888daf_0    conda-forge\n",
      "gflags                    2.2.2             h5888daf_1005    conda-forge\n",
      "glog                      0.7.1                hbabe93e_0    conda-forge\n",
      "google-api-core           2.24.0             pyhd8ed1ab_0    conda-forge\n",
      "google-api-core-grpc      2.24.0               hd8ed1ab_0    conda-forge\n",
      "google-auth               2.38.0             pyhd8ed1ab_0    conda-forge\n",
      "google-cloud-secret-manager 2.22.1             pyhd8ed1ab_0    conda-forge\n",
      "googleapis-common-protos  1.66.0             pyhff2d567_0    conda-forge\n",
      "googleapis-common-protos-grpc 1.66.0             pyhff2d567_0    conda-forge\n",
      "grpc-google-iam-v1        0.14.0             pyhd8ed1ab_0    conda-forge\n",
      "grpcio                    1.67.1          py312hacea422_1    conda-forge\n",
      "grpcio-status             1.67.1             pyhd8ed1ab_1    conda-forge\n",
      "h2                        4.1.0              pyhd8ed1ab_1    conda-forge\n",
      "h5py                      3.12.1          nompi_py312hd203070_103    conda-forge\n",
      "hdf5                      1.14.4          nompi_h2d575fe_105    conda-forge\n",
      "hpack                     4.1.0              pyhd8ed1ab_0    conda-forge\n",
      "hyperframe                6.1.0              pyhd8ed1ab_0    conda-forge\n",
      "icu                       75.1                 he02047a_0    conda-forge\n",
      "idna                      3.10               pyhd8ed1ab_1    conda-forge\n",
      "importlib-metadata        8.6.1              pyha770c72_0    conda-forge\n",
      "ipykernel                 6.29.5             pyh3099207_0    conda-forge\n",
      "ipython                   8.31.0             pyh707e725_0    conda-forge\n",
      "jedi                      0.19.2             pyhd8ed1ab_1    conda-forge\n",
      "joblib                    1.4.2              pyhd8ed1ab_1    conda-forge\n",
      "jupyter_client            8.6.3              pyhd8ed1ab_1    conda-forge\n",
      "jupyter_core              5.7.2              pyh31011fe_1    conda-forge\n",
      "keyutils                  1.6.1                h166bdaf_0    conda-forge\n",
      "kiwisolver                1.4.8           py312h84d6215_0    conda-forge\n",
      "krb5                      1.21.3               h659f571_0    conda-forge\n",
      "lcms2                     2.16                 hb7c19ff_0    conda-forge\n",
      "ld_impl_linux-64          2.43                 h712a8e2_2    conda-forge\n",
      "legacy-api-wrap           1.4.1              pyhd8ed1ab_0    conda-forge\n",
      "lerc                      4.0.0                h27087fc_0    conda-forge\n",
      "libabseil                 20240722.0      cxx17_hbbce691_4    conda-forge\n",
      "libaec                    1.1.3                h59595ed_0    conda-forge\n",
      "libarrow                  19.0.0           h00a82cf_8_cpu    conda-forge\n",
      "libarrow-acero            19.0.0           hcb10f89_8_cpu    conda-forge\n",
      "libarrow-dataset          19.0.0           hcb10f89_8_cpu    conda-forge\n",
      "libarrow-substrait        19.0.0           h08228c5_8_cpu    conda-forge\n",
      "libblas                   3.9.0           26_linux64_openblas    conda-forge\n",
      "libbrotlicommon           1.1.0                hb9d3cd8_2    conda-forge\n",
      "libbrotlidec              1.1.0                hb9d3cd8_2    conda-forge\n",
      "libbrotlienc              1.1.0                hb9d3cd8_2    conda-forge\n",
      "libcblas                  3.9.0           26_linux64_openblas    conda-forge\n",
      "libcrc32c                 1.1.2                h9c3ff4c_0    conda-forge\n",
      "libcurl                   8.11.1               h332b0f4_0    conda-forge\n",
      "libdeflate                1.23                 h4ddbbb0_0    conda-forge\n",
      "libedit                   3.1.20240808    pl5321h7949ede_0    conda-forge\n",
      "libev                     4.33                 hd590300_2    conda-forge\n",
      "libevent                  2.1.12               hf998b51_1    conda-forge\n",
      "libexpat                  2.6.4                h5888daf_0    conda-forge\n",
      "libffi                    3.4.2                h7f98852_5    conda-forge\n",
      "libgcc                    14.2.0               h77fa898_1    conda-forge\n",
      "libgcc-ng                 14.2.0               h69a702a_1    conda-forge\n",
      "libgfortran               14.2.0               h69a702a_1    conda-forge\n",
      "libgfortran5              14.2.0               hd5240d6_1    conda-forge\n",
      "libgomp                   14.2.0               h77fa898_1    conda-forge\n",
      "libgoogle-cloud           2.34.0               h2b5623c_0    conda-forge\n",
      "libgoogle-cloud-storage   2.34.0               h0121fbd_0    conda-forge\n",
      "libgrpc                   1.67.1               h25350d4_1    conda-forge\n",
      "libhwloc                  2.11.2          default_h0d58e46_1001    conda-forge\n",
      "libiconv                  1.17                 hd590300_2    conda-forge\n",
      "libjpeg-turbo             3.0.0                hd590300_1    conda-forge\n",
      "liblapack                 3.9.0           26_linux64_openblas    conda-forge\n",
      "libllvm14                 14.0.6               hcd5def8_4    conda-forge\n",
      "liblzma                   5.6.3                hb9d3cd8_1    conda-forge\n",
      "libnghttp2                1.64.0               h161d5f1_0    conda-forge\n",
      "libnsl                    2.0.1                hd590300_0    conda-forge\n",
      "libntlm                   1.8                  hb9d3cd8_0    conda-forge\n",
      "libopenblas               0.3.28          pthreads_h94d23a6_1    conda-forge\n",
      "libopentelemetry-cpp      1.18.0               hfcad708_1    conda-forge\n",
      "libopentelemetry-cpp-headers 1.18.0               ha770c72_1    conda-forge\n",
      "libparquet                19.0.0           h081d1f1_8_cpu    conda-forge\n",
      "libpng                    1.6.46               h943b412_0    conda-forge\n",
      "libpq                     17.2                 h3b95a9b_1    conda-forge\n",
      "libprotobuf               5.28.3               h6128344_1    conda-forge\n",
      "libre2-11                 2024.07.02           hbbce691_2    conda-forge\n",
      "libsodium                 1.0.20               h4ab18f5_0    conda-forge\n",
      "libsqlite                 3.48.0               hee588c1_1    conda-forge\n",
      "libssh2                   1.11.1               hf672d98_0    conda-forge\n",
      "libstdcxx                 14.2.0               hc0a3c3a_1    conda-forge\n",
      "libstdcxx-ng              14.2.0               h4852527_1    conda-forge\n",
      "libthrift                 0.21.0               h0e7cc3e_0    conda-forge\n",
      "libtiff                   4.7.0                hd9ff511_3    conda-forge\n",
      "libtiledbsoma             1.15.4               h18cd297_0    conda-forge\n",
      "libutf8proc               2.10.0               h4c51ac1_0    conda-forge\n",
      "libuuid                   2.38.1               h0b41bf4_0    conda-forge\n",
      "libwebp-base              1.5.0                h851e524_0    conda-forge\n",
      "libxcb                    1.17.0               h8a09558_0    conda-forge\n",
      "libxcrypt                 4.4.36               hd590300_1    conda-forge\n",
      "libxml2                   2.13.5               h8d12d68_1    conda-forge\n",
      "libzlib                   1.3.1                hb9d3cd8_2    conda-forge\n",
      "llvmlite                  0.43.0          py312h374181b_1    conda-forge\n",
      "lz4-c                     1.10.0               h5888daf_1    conda-forge\n",
      "matplotlib-base           3.10.0          py312hd3ec401_0    conda-forge\n",
      "matplotlib-inline         0.1.7              pyhd8ed1ab_1    conda-forge\n",
      "mizani                    0.13.1             pyhd8ed1ab_0    conda-forge\n",
      "multidict                 6.1.0           py312h178313f_2    conda-forge\n",
      "munkres                   1.1.4              pyh9f0ad1d_0    conda-forge\n",
      "natsort                   8.4.0              pyh29332c3_1    conda-forge\n",
      "ncurses                   6.5                  h2d0b736_2    conda-forge\n",
      "nest-asyncio              1.6.0              pyhd8ed1ab_1    conda-forge\n",
      "networkx                  3.4.2              pyh267e887_2    conda-forge\n",
      "nlohmann_json             3.11.3               he02047a_1    conda-forge\n",
      "numba                     0.60.0          py312h83e6fd3_0    conda-forge\n",
      "numpy                     2.0.2           py312h58c1407_1    conda-forge\n",
      "openjpeg                  2.5.3                h5fbd93e_0    conda-forge\n",
      "openldap                  2.6.9                he970967_0    conda-forge\n",
      "openssl                   3.4.0                h7b32b05_1    conda-forge\n",
      "orc                       2.0.3                h12ee42a_2    conda-forge\n",
      "packaging                 24.2               pyhd8ed1ab_2    conda-forge\n",
      "pandas                    2.2.3           py312hf9745cd_1    conda-forge\n",
      "parso                     0.8.4              pyhd8ed1ab_1    conda-forge\n",
      "patsy                     1.0.1              pyhd8ed1ab_1    conda-forge\n",
      "pexpect                   4.9.0              pyhd8ed1ab_1    conda-forge\n",
      "pickleshare               0.7.5           pyhd8ed1ab_1004    conda-forge\n",
      "pillow                    11.1.0          py312h80c1187_0    conda-forge\n",
      "pip                       25.0               pyh8b19718_0    conda-forge\n",
      "platformdirs              4.3.6              pyhd8ed1ab_1    conda-forge\n",
      "plotnine                  0.14.5             pyhd8ed1ab_0    conda-forge\n",
      "prometheus-cpp            1.3.0                ha5d0236_0    conda-forge\n",
      "prompt-toolkit            3.0.50             pyha770c72_0    conda-forge\n",
      "propcache                 0.2.1           py312h178313f_1    conda-forge\n",
      "proto-plus                1.26.0             pyhd8ed1ab_0    conda-forge\n",
      "protobuf                  5.28.3          py312h2ec8cdc_0    conda-forge\n",
      "psutil                    6.1.1           py312h66e93f0_0    conda-forge\n",
      "psycopg2                  2.9.9           py312hfaedaf9_2    conda-forge\n",
      "pthread-stubs             0.4               hb9d3cd8_1002    conda-forge\n",
      "ptyprocess                0.7.0              pyhd8ed1ab_1    conda-forge\n",
      "pure_eval                 0.2.3              pyhd8ed1ab_1    conda-forge\n",
      "pyarrow                   19.0.0          py312h7900ff3_0    conda-forge\n",
      "pyarrow-core              19.0.0          py312h01725c0_0_cpu    conda-forge\n",
      "pyarrow-hotfix            0.6                pyhd8ed1ab_1    conda-forge\n",
      "pyasn1                    0.6.1              pyhd8ed1ab_2    conda-forge\n",
      "pyasn1-modules            0.4.1              pyhd8ed1ab_1    conda-forge\n",
      "pycparser                 2.22               pyh29332c3_1    conda-forge\n",
      "pygments                  2.19.1             pyhd8ed1ab_0    conda-forge\n",
      "pynndescent               0.5.13             pyhd8ed1ab_1    conda-forge\n",
      "pyopenssl                 25.0.0             pyhd8ed1ab_0    conda-forge\n",
      "pyparsing                 3.2.1              pyhd8ed1ab_0    conda-forge\n",
      "pypika                    0.48.9             pyhd8ed1ab_1    conda-forge\n",
      "pysocks                   1.7.1              pyha55dd90_7    conda-forge\n",
      "python                    3.12.8          h9e4cc4f_1_cpython    conda-forge\n",
      "python-dateutil           2.9.0.post0        pyhff2d567_1    conda-forge\n",
      "python-dotenv             1.0.1              pyhd8ed1ab_1    conda-forge\n",
      "python-tzdata             2025.1             pyhd8ed1ab_0    conda-forge\n",
      "python_abi                3.12                    5_cp312    conda-forge\n",
      "pytz                      2024.1             pyhd8ed1ab_0    conda-forge\n",
      "pyu2f                     0.1.5              pyhd8ed1ab_1    conda-forge\n",
      "pyzmq                     26.2.0          py312hbf22597_3    conda-forge\n",
      "qhull                     2020.2               h434a139_5    conda-forge\n",
      "re2                       2024.07.02           h9925aae_2    conda-forge\n",
      "readline                  8.2                  h8228510_1    conda-forge\n",
      "requests                  2.32.3             pyhd8ed1ab_1    conda-forge\n",
      "rsa                       4.9                pyhd8ed1ab_1    conda-forge\n",
      "s2n                       1.5.11               h072c03f_0    conda-forge\n",
      "scanpy                    1.10.4             pyhd8ed1ab_0    conda-forge\n",
      "scikit-learn              1.6.1           py312h7a48858_0    conda-forge\n",
      "scipy                     1.15.1          py312h180e4f1_0    conda-forge\n",
      "seaborn                   0.13.2               hd8ed1ab_3    conda-forge\n",
      "seaborn-base              0.13.2             pyhd8ed1ab_3    conda-forge\n",
      "session-info              1.0.0              pyhd8ed1ab_0    conda-forge\n",
      "setuptools                75.8.0             pyhff2d567_0    conda-forge\n",
      "shapely                   2.0.6           py312h391bc85_2    conda-forge\n",
      "six                       1.17.0             pyhd8ed1ab_0    conda-forge\n",
      "snappy                    1.2.1                h8bd8927_1    conda-forge\n",
      "somacore                  1.0.26             pyh29332c3_0    conda-forge\n",
      "spdlog                    1.15.0               h10c9db5_0    conda-forge\n",
      "stack_data                0.6.3              pyhd8ed1ab_1    conda-forge\n",
      "statsmodels               0.14.4          py312hc0a28a1_0    conda-forge\n",
      "stdlib-list               0.11.0             pyhd8ed1ab_1    conda-forge\n",
      "tbb                       2022.0.0             hceb3a55_0    conda-forge\n",
      "threadpoolctl             3.5.0              pyhc1e730c_0    conda-forge\n",
      "tiledb                    2.27.0               hcd65521_8    conda-forge\n",
      "tiledbsoma-py             1.15.4          py312hee7031d_0    conda-forge\n",
      "tk                        8.6.13          noxft_h4845f30_101    conda-forge\n",
      "tornado                   6.4.2           py312h66e93f0_0    conda-forge\n",
      "tqdm                      4.67.1             pyhd8ed1ab_1    conda-forge\n",
      "traitlets                 5.14.3             pyhd8ed1ab_1    conda-forge\n",
      "typing-extensions         4.12.2               hd8ed1ab_1    conda-forge\n",
      "typing_extensions         4.12.2             pyha770c72_1    conda-forge\n",
      "tzdata                    2025a                h78e105d_0    conda-forge\n",
      "umap-learn                0.5.7           py312h7900ff3_0    conda-forge\n",
      "unicodedata2              16.0.0          py312h66e93f0_0    conda-forge\n",
      "urllib3                   2.3.0              pyhd8ed1ab_0    conda-forge\n",
      "wcwidth                   0.2.13             pyhd8ed1ab_1    conda-forge\n",
      "wheel                     0.45.1             pyhd8ed1ab_1    conda-forge\n",
      "xorg-libxau               1.0.12               hb9d3cd8_0    conda-forge\n",
      "xorg-libxdmcp             1.1.5                hb9d3cd8_0    conda-forge\n",
      "yarl                      1.18.3          py312h178313f_1    conda-forge\n",
      "zeromq                    4.3.5                h3b0a872_7    conda-forge\n",
      "zipp                      3.21.0             pyhd8ed1ab_1    conda-forge\n",
      "zlib                      1.3.1                hb9d3cd8_2    conda-forge\n",
      "zstandard                 0.23.0          py312hef9b889_1    conda-forge\n",
      "zstd                      1.5.6                ha6fb4c9_0    conda-forge\n"
     ]
    }
   ],
   "source": [
    "!mamba list"
   ]
  },
  {
   "cell_type": "code",
   "execution_count": null,
   "metadata": {},
   "outputs": [],
   "source": []
  }
 ],
 "metadata": {
  "kernelspec": {
   "display_name": "tiledb",
   "language": "python",
   "name": "python3"
  },
  "language_info": {
   "codemirror_mode": {
    "name": "ipython",
    "version": 3
   },
   "file_extension": ".py",
   "mimetype": "text/x-python",
   "name": "python",
   "nbconvert_exporter": "python",
   "pygments_lexer": "ipython3",
   "version": "3.12.8"
  }
 },
 "nbformat": 4,
 "nbformat_minor": 2
}
