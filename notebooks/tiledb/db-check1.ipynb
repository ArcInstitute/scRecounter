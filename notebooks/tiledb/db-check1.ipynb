{
 "cells": [
  {
   "cell_type": "markdown",
   "metadata": {},
   "source": [
    "# Notes\n",
    "\n",
    "* code to check/summarize a tiledb database"
   ]
  },
  {
   "cell_type": "code",
   "execution_count": 1,
   "metadata": {},
   "outputs": [],
   "source": [
    "import os\n",
    "import tiledbsoma\n",
    "import tiledbsoma.io"
   ]
  },
  {
   "cell_type": "code",
   "execution_count": 2,
   "metadata": {},
   "outputs": [],
   "source": [
    "#db_uri = \"/home/nickyoungblut/dev/nextflow/scRecounter/tmp/tiledb/tiledb_exp1\"\n",
    "db_uri = \"/home/nickyoungblut/dev/nextflow/scRecounter/tmp/tiledb/tiledb_prod3\""
   ]
  },
  {
   "cell_type": "markdown",
   "metadata": {},
   "source": [
    "# Summary"
   ]
  },
  {
   "cell_type": "markdown",
   "metadata": {},
   "source": [
    "## Obs"
   ]
  },
  {
   "cell_type": "code",
   "execution_count": null,
   "metadata": {},
   "outputs": [
    {
     "name": "stdout",
     "output_type": "stream",
     "text": [
      "soma_joinid: int64 not null\n",
      "obs_id: large_string\n",
      "SRX_accession: large_string\n",
      "lib_prep: large_string\n",
      "tech_10x: large_string\n",
      "organism: large_string\n",
      "tissue: large_string\n",
      "disease: large_string\n",
      "purturbation: large_string\n",
      "cell_line: large_string\n",
      "czi_collection_id: large_string\n",
      "czi_collection_name: large_string\n"
     ]
    }
   ],
   "source": [
    "# get colnames\n",
    "with tiledbsoma.open(db_uri) as exp:\n",
    "    print(exp.obs.schema)"
   ]
  },
  {
   "cell_type": "code",
   "execution_count": 22,
   "metadata": {},
   "outputs": [
    {
     "name": "stdout",
     "output_type": "stream",
     "text": [
      "    SRX_accession  count_all\n",
      "0     SRX23386174      25046\n",
      "1     SRX25595940      11779\n",
      "2     SRX19303371       6520\n",
      "3     SRX24003271       9849\n",
      "4     SRX26275147       9007\n",
      "..            ...        ...\n",
      "188   SRX25989517       6467\n",
      "189   SRX24911288       3638\n",
      "190   SRX25408713       4996\n",
      "191   SRX26517486       2672\n",
      "192   SRX20347966       3282\n",
      "\n",
      "[193 rows x 2 columns]\n"
     ]
    }
   ],
   "source": [
    "# read in the data\n",
    "with tiledbsoma.Experiment.open(db_uri) as exp:\n",
    "    print(\n",
    "        exp.obs.read(column_names=[\"obs_id\", \"SRX_accession\"])\n",
    "        .concat()\n",
    "        .group_by([\"SRX_accession\"])\n",
    "        .aggregate([\n",
    "            ([], 'count_all'),\n",
    "        ])\n",
    "        .to_pandas()\n",
    "    )"
   ]
  },
  {
   "cell_type": "markdown",
   "metadata": {},
   "source": [
    "### Metadata"
   ]
  },
  {
   "cell_type": "code",
   "execution_count": null,
   "metadata": {},
   "outputs": [
    {
     "name": "stdout",
     "output_type": "stream",
     "text": [
      "             tech_10x organism   count\n",
      "0         3_prime_gex      NaN   20489\n",
      "1         3_prime_gex    human  338493\n",
      "2         3_prime_gex    mouse  370714\n",
      "3         5_prime_gex    human  119967\n",
      "4         5_prime_gex    mouse   67318\n",
      "5                 NaN      NaN    6497\n",
      "6   feature_barcoding    mouse    5398\n",
      "7            multiome    human    1907\n",
      "8            multiome    mouse    6596\n",
      "9      not_applicable    human   17975\n",
      "10     not_applicable    mouse   25694\n",
      "11              other    human   36557\n",
      "12              other    mouse   12511\n",
      "13                vdj    human    6274\n"
     ]
    }
   ],
   "source": [
    "# read in the data\n",
    "# with tiledbsoma.Experiment.open(db_uri) as exp:\n",
    "#     print(\n",
    "#         exp.obs.read(column_names=[\"obs_id\", \"SRX_accession\", \"tech_10x\", \"organism\"])\n",
    "#         .concat()\n",
    "#         .to_pandas()\n",
    "#         .groupby([\"tech_10x\", \"organism\"])\n",
    "#         .size()\n",
    "#         .reset_index(name=\"count\")\n",
    "#     )"
   ]
  },
  {
   "cell_type": "code",
   "execution_count": null,
   "metadata": {},
   "outputs": [
    {
     "name": "stdout",
     "output_type": "stream",
     "text": [
      "   organism           tech_10x  count_all\n",
      "0     human        3_prime_gex     394704\n",
      "1     mouse        3_prime_gex     433913\n",
      "2     mouse              other      12511\n",
      "3     human                vdj       6274\n",
      "4     human        5_prime_gex     137467\n",
      "5     human           multiome      10504\n",
      "6     mouse        5_prime_gex      82652\n",
      "7     mouse     not_applicable      25694\n",
      "8     mouse           multiome       6596\n",
      "9       NaN        3_prime_gex      20489\n",
      "10     None               None       4774\n",
      "11      NaN                NaN       6497\n",
      "12    human              other      36557\n",
      "13    human     not_applicable      17975\n",
      "14    mouse  feature_barcoding       5398\n"
     ]
    }
   ],
   "source": [
    "# read in the data and summarize\n",
    "with tiledbsoma.Experiment.open(db_uri) as exp:\n",
    "    print(\n",
    "        exp.obs.read()\n",
    "        .concat()\n",
    "        .group_by([\"organism\", \"tech_10x\"])\n",
    "        .aggregate([\n",
    "            ([], 'count_all'),\n",
    "        ])\n",
    "        .to_pandas()\n",
    "    )"
   ]
  },
  {
   "cell_type": "markdown",
   "metadata": {},
   "source": [
    "## Var"
   ]
  },
  {
   "cell_type": "code",
   "execution_count": 23,
   "metadata": {},
   "outputs": [
    {
     "data": {
      "text/html": [
       "<div>\n",
       "<style scoped>\n",
       "    .dataframe tbody tr th:only-of-type {\n",
       "        vertical-align: middle;\n",
       "    }\n",
       "\n",
       "    .dataframe tbody tr th {\n",
       "        vertical-align: top;\n",
       "    }\n",
       "\n",
       "    .dataframe thead th {\n",
       "        text-align: right;\n",
       "    }\n",
       "</style>\n",
       "<table border=\"1\" class=\"dataframe\">\n",
       "  <thead>\n",
       "    <tr style=\"text-align: right;\">\n",
       "      <th></th>\n",
       "      <th>soma_joinid</th>\n",
       "      <th>var_id</th>\n",
       "      <th>gene_symbols</th>\n",
       "    </tr>\n",
       "  </thead>\n",
       "  <tbody>\n",
       "    <tr>\n",
       "      <th>0</th>\n",
       "      <td>0</td>\n",
       "      <td>ENSG00000243485</td>\n",
       "      <td>MIR1302-2HG</td>\n",
       "    </tr>\n",
       "    <tr>\n",
       "      <th>1</th>\n",
       "      <td>1</td>\n",
       "      <td>ENSG00000237613</td>\n",
       "      <td>FAM138A</td>\n",
       "    </tr>\n",
       "    <tr>\n",
       "      <th>2</th>\n",
       "      <td>2</td>\n",
       "      <td>ENSG00000186092</td>\n",
       "      <td>OR4F5</td>\n",
       "    </tr>\n",
       "    <tr>\n",
       "      <th>3</th>\n",
       "      <td>3</td>\n",
       "      <td>ENSG00000238009</td>\n",
       "      <td>AL627309.1</td>\n",
       "    </tr>\n",
       "    <tr>\n",
       "      <th>4</th>\n",
       "      <td>4</td>\n",
       "      <td>ENSG00000239945</td>\n",
       "      <td>AL627309.3</td>\n",
       "    </tr>\n",
       "    <tr>\n",
       "      <th>...</th>\n",
       "      <td>...</td>\n",
       "      <td>...</td>\n",
       "      <td>...</td>\n",
       "    </tr>\n",
       "    <tr>\n",
       "      <th>68881</th>\n",
       "      <td>68881</td>\n",
       "      <td>ENSMUSG00000095523</td>\n",
       "      <td>AC124606.1</td>\n",
       "    </tr>\n",
       "    <tr>\n",
       "      <th>68882</th>\n",
       "      <td>68882</td>\n",
       "      <td>ENSMUSG00000095475</td>\n",
       "      <td>AC133095.2</td>\n",
       "    </tr>\n",
       "    <tr>\n",
       "      <th>68883</th>\n",
       "      <td>68883</td>\n",
       "      <td>ENSMUSG00000094855</td>\n",
       "      <td>AC133095.1</td>\n",
       "    </tr>\n",
       "    <tr>\n",
       "      <th>68884</th>\n",
       "      <td>68884</td>\n",
       "      <td>ENSMUSG00000095019</td>\n",
       "      <td>AC234645.1</td>\n",
       "    </tr>\n",
       "    <tr>\n",
       "      <th>68885</th>\n",
       "      <td>68885</td>\n",
       "      <td>ENSMUSG00000095041</td>\n",
       "      <td>AC149090.1</td>\n",
       "    </tr>\n",
       "  </tbody>\n",
       "</table>\n",
       "<p>68886 rows × 3 columns</p>\n",
       "</div>"
      ],
      "text/plain": [
       "       soma_joinid              var_id gene_symbols\n",
       "0                0     ENSG00000243485  MIR1302-2HG\n",
       "1                1     ENSG00000237613      FAM138A\n",
       "2                2     ENSG00000186092        OR4F5\n",
       "3                3     ENSG00000238009   AL627309.1\n",
       "4                4     ENSG00000239945   AL627309.3\n",
       "...            ...                 ...          ...\n",
       "68881        68881  ENSMUSG00000095523   AC124606.1\n",
       "68882        68882  ENSMUSG00000095475   AC133095.2\n",
       "68883        68883  ENSMUSG00000094855   AC133095.1\n",
       "68884        68884  ENSMUSG00000095019   AC234645.1\n",
       "68885        68885  ENSMUSG00000095041   AC149090.1\n",
       "\n",
       "[68886 rows x 3 columns]"
      ]
     },
     "execution_count": 23,
     "metadata": {},
     "output_type": "execute_result"
    }
   ],
   "source": [
    "# read in the var (gene) level data\n",
    "with tiledbsoma.Experiment.open(db_uri) as exp:\n",
    "    df = (\n",
    "        exp.ms[\"RNA\"]\n",
    "        .var.read(column_names=[\"soma_joinid\", \"var_id\", \"gene_symbols\"])\n",
    "        .concat()\n",
    "        .to_pandas()\n",
    "    )\n",
    "df"
   ]
  },
  {
   "cell_type": "markdown",
   "metadata": {},
   "source": [
    "### Counts"
   ]
  },
  {
   "cell_type": "code",
   "execution_count": 11,
   "metadata": {},
   "outputs": [
    {
     "name": "stdout",
     "output_type": "stream",
     "text": [
      "<pyarrow.SparseCOOTensor>\n",
      "type: float\n",
      "shape: (668678, 68886)\n"
     ]
    }
   ],
   "source": [
    "# slice out a sparse matrix\n",
    "with tiledbsoma.Experiment.open(db_uri) as exp:\n",
    "    print(exp.ms[\"RNA\"].X[\"data\"].read([slice(0, 5)]).coos().concat())"
   ]
  },
  {
   "cell_type": "code",
   "execution_count": 12,
   "metadata": {},
   "outputs": [
    {
     "name": "stdout",
     "output_type": "stream",
     "text": [
      "AnnData object with n_obs × n_vars = 6274 × 68886\n",
      "    obs: 'soma_joinid', 'obs_id', 'SRX_accession', 'lib_prep', 'tech_10x', 'organism', 'tissue', 'disease', 'purturbation', 'cell_line', 'czi_collection_id', 'czi_collection_name'\n",
      "    var: 'soma_joinid', 'var_id', 'gene_symbols', 'feature_types'\n"
     ]
    }
   ],
   "source": [
    "# slice by metadata and return as anndata\n",
    "obs_query = tiledbsoma.AxisQuery(value_filter='tech_10x in [\"vdj\"]')\n",
    "\n",
    "with tiledbsoma.Experiment.open(db_uri) as exp:\n",
    "    print(exp.axis_query(\"RNA\", obs_query=obs_query).to_anndata(X_name=\"data\"))"
   ]
  },
  {
   "cell_type": "code",
   "execution_count": 15,
   "metadata": {},
   "outputs": [
    {
     "name": "stdout",
     "output_type": "stream",
     "text": [
      "AnnData object with n_obs × n_vars = 5 × 68886\n",
      "    obs: 'soma_joinid', 'obs_id', 'SRX_accession', 'lib_prep', 'tech_10x', 'organism', 'tissue', 'disease', 'purturbation', 'cell_line', 'czi_collection_id', 'czi_collection_name'\n",
      "    var: 'soma_joinid', 'var_id', 'gene_symbols', 'feature_types'\n"
     ]
    }
   ],
   "source": [
    "# slice to just the first 5 cells\n",
    "obs_query = tiledbsoma.AxisQuery(coords=[slice(0, 4)]) \n",
    "\n",
    "with tiledbsoma.Experiment.open(db_uri) as exp:\n",
    "    adata = exp.axis_query(\"RNA\", obs_query=obs_query).to_anndata(X_name=\"data\")\n",
    "    print(adata)"
   ]
  },
  {
   "cell_type": "markdown",
   "metadata": {},
   "source": [
    "# Chris's processed data"
   ]
  },
  {
   "cell_type": "code",
   "execution_count": 25,
   "metadata": {},
   "outputs": [],
   "source": [
    "db_uri = \"/home/nickyoungblut/dev/nextflow/scRecounter/tmp/tiledb/tiledb_counted\""
   ]
  },
  {
   "cell_type": "code",
   "execution_count": 26,
   "metadata": {},
   "outputs": [
    {
     "name": "stdout",
     "output_type": "stream",
     "text": [
      "soma_joinid: int64 not null\n",
      "obs_id: large_string\n",
      "SRX_accession: large_string\n",
      "lib_prep: large_string\n",
      "tech_10x: large_string\n",
      "organism: large_string\n",
      "tissue: large_string\n",
      "disease: large_string\n",
      "purturbation: large_string\n",
      "cell_line: large_string\n",
      "czi_collection_id: large_string\n",
      "czi_collection_name: large_string\n"
     ]
    }
   ],
   "source": [
    "# get colnames\n",
    "with tiledbsoma.open(db_uri) as exp:\n",
    "    print(exp.obs.schema)"
   ]
  },
  {
   "cell_type": "code",
   "execution_count": 27,
   "metadata": {},
   "outputs": [
    {
     "data": {
      "text/html": [
       "<div>\n",
       "<style scoped>\n",
       "    .dataframe tbody tr th:only-of-type {\n",
       "        vertical-align: middle;\n",
       "    }\n",
       "\n",
       "    .dataframe tbody tr th {\n",
       "        vertical-align: top;\n",
       "    }\n",
       "\n",
       "    .dataframe thead th {\n",
       "        text-align: right;\n",
       "    }\n",
       "</style>\n",
       "<table border=\"1\" class=\"dataframe\">\n",
       "  <thead>\n",
       "    <tr style=\"text-align: right;\">\n",
       "      <th></th>\n",
       "      <th>obs_id</th>\n",
       "      <th>SRX_accession</th>\n",
       "    </tr>\n",
       "  </thead>\n",
       "  <tbody>\n",
       "    <tr>\n",
       "      <th>0</th>\n",
       "      <td>AAACCCAAGAGATCGC</td>\n",
       "      <td>SRX13549201</td>\n",
       "    </tr>\n",
       "    <tr>\n",
       "      <th>1</th>\n",
       "      <td>AAACCCAAGGTCTTTG</td>\n",
       "      <td>SRX13549201</td>\n",
       "    </tr>\n",
       "    <tr>\n",
       "      <th>2</th>\n",
       "      <td>AAACCCAAGTTGGCGA</td>\n",
       "      <td>SRX13549201</td>\n",
       "    </tr>\n",
       "    <tr>\n",
       "      <th>3</th>\n",
       "      <td>AAACCCACAACCCTAA</td>\n",
       "      <td>SRX13549201</td>\n",
       "    </tr>\n",
       "    <tr>\n",
       "      <th>4</th>\n",
       "      <td>AAACCCACAATACCCA</td>\n",
       "      <td>SRX13549201</td>\n",
       "    </tr>\n",
       "    <tr>\n",
       "      <th>...</th>\n",
       "      <td>...</td>\n",
       "      <td>...</td>\n",
       "    </tr>\n",
       "    <tr>\n",
       "      <th>35122</th>\n",
       "      <td>TTTGTTGGTTCAGCTA</td>\n",
       "      <td>SRX21819799</td>\n",
       "    </tr>\n",
       "    <tr>\n",
       "      <th>35123</th>\n",
       "      <td>TTTGTTGTCACTGTCC</td>\n",
       "      <td>SRX21819799</td>\n",
       "    </tr>\n",
       "    <tr>\n",
       "      <th>35124</th>\n",
       "      <td>TTTGTTGTCGAGTACT</td>\n",
       "      <td>SRX21819799</td>\n",
       "    </tr>\n",
       "    <tr>\n",
       "      <th>35125</th>\n",
       "      <td>TTTGTTGTCTAATTCC</td>\n",
       "      <td>SRX21819799</td>\n",
       "    </tr>\n",
       "    <tr>\n",
       "      <th>35126</th>\n",
       "      <td>TTTGTTGTCTGTACAG</td>\n",
       "      <td>SRX21819799</td>\n",
       "    </tr>\n",
       "  </tbody>\n",
       "</table>\n",
       "<p>35127 rows × 2 columns</p>\n",
       "</div>"
      ],
      "text/plain": [
       "                 obs_id SRX_accession\n",
       "0      AAACCCAAGAGATCGC   SRX13549201\n",
       "1      AAACCCAAGGTCTTTG   SRX13549201\n",
       "2      AAACCCAAGTTGGCGA   SRX13549201\n",
       "3      AAACCCACAACCCTAA   SRX13549201\n",
       "4      AAACCCACAATACCCA   SRX13549201\n",
       "...                 ...           ...\n",
       "35122  TTTGTTGGTTCAGCTA   SRX21819799\n",
       "35123  TTTGTTGTCACTGTCC   SRX21819799\n",
       "35124  TTTGTTGTCGAGTACT   SRX21819799\n",
       "35125  TTTGTTGTCTAATTCC   SRX21819799\n",
       "35126  TTTGTTGTCTGTACAG   SRX21819799\n",
       "\n",
       "[35127 rows x 2 columns]"
      ]
     },
     "execution_count": 27,
     "metadata": {},
     "output_type": "execute_result"
    }
   ],
   "source": [
    "# read in the data\n",
    "with tiledbsoma.Experiment.open(db_uri) as exp:\n",
    "    df = (\n",
    "        exp.obs.read(column_names=[\"obs_id\", \"SRX_accession\"])\n",
    "        .concat()\n",
    "        .to_pandas()\n",
    "    )\n",
    "df"
   ]
  },
  {
   "cell_type": "code",
   "execution_count": 28,
   "metadata": {},
   "outputs": [
    {
     "data": {
      "text/plain": [
       "SRX_accession\n",
       "SRX13549201    14392\n",
       "SRX21819799     7139\n",
       "SRX17937428     5427\n",
       "SRX11523721     5288\n",
       "SRX7117648      2881\n",
       "Name: count, dtype: int64"
      ]
     },
     "execution_count": 28,
     "metadata": {},
     "output_type": "execute_result"
    }
   ],
   "source": [
    "df[\"SRX_accession\"].value_counts()"
   ]
  },
  {
   "cell_type": "markdown",
   "metadata": {},
   "source": [
    "### Metadata"
   ]
  },
  {
   "cell_type": "code",
   "execution_count": 33,
   "metadata": {},
   "outputs": [
    {
     "data": {
      "text/html": [
       "<div>\n",
       "<style scoped>\n",
       "    .dataframe tbody tr th:only-of-type {\n",
       "        vertical-align: middle;\n",
       "    }\n",
       "\n",
       "    .dataframe tbody tr th {\n",
       "        vertical-align: top;\n",
       "    }\n",
       "\n",
       "    .dataframe thead th {\n",
       "        text-align: right;\n",
       "    }\n",
       "</style>\n",
       "<table border=\"1\" class=\"dataframe\">\n",
       "  <thead>\n",
       "    <tr style=\"text-align: right;\">\n",
       "      <th></th>\n",
       "      <th>obs_id</th>\n",
       "      <th>SRX_accession</th>\n",
       "      <th>tech_10x</th>\n",
       "      <th>organism</th>\n",
       "      <th>czi_collection_id</th>\n",
       "      <th>czi_collection_name</th>\n",
       "    </tr>\n",
       "  </thead>\n",
       "  <tbody>\n",
       "    <tr>\n",
       "      <th>0</th>\n",
       "      <td>AAACCCAAGAGATCGC</td>\n",
       "      <td>SRX13549201</td>\n",
       "      <td>3_prime_gex</td>\n",
       "      <td>NaN</td>\n",
       "      <td>74e10dc4-cbb2-4605-a189-8a1cd8e44d8c</td>\n",
       "      <td>Spatial proteogenomics reveals distinct and ev...</td>\n",
       "    </tr>\n",
       "    <tr>\n",
       "      <th>1</th>\n",
       "      <td>AAACCCAAGGTCTTTG</td>\n",
       "      <td>SRX13549201</td>\n",
       "      <td>3_prime_gex</td>\n",
       "      <td>NaN</td>\n",
       "      <td>74e10dc4-cbb2-4605-a189-8a1cd8e44d8c</td>\n",
       "      <td>Spatial proteogenomics reveals distinct and ev...</td>\n",
       "    </tr>\n",
       "    <tr>\n",
       "      <th>2</th>\n",
       "      <td>AAACCCAAGTTGGCGA</td>\n",
       "      <td>SRX13549201</td>\n",
       "      <td>3_prime_gex</td>\n",
       "      <td>NaN</td>\n",
       "      <td>74e10dc4-cbb2-4605-a189-8a1cd8e44d8c</td>\n",
       "      <td>Spatial proteogenomics reveals distinct and ev...</td>\n",
       "    </tr>\n",
       "    <tr>\n",
       "      <th>3</th>\n",
       "      <td>AAACCCACAACCCTAA</td>\n",
       "      <td>SRX13549201</td>\n",
       "      <td>3_prime_gex</td>\n",
       "      <td>NaN</td>\n",
       "      <td>74e10dc4-cbb2-4605-a189-8a1cd8e44d8c</td>\n",
       "      <td>Spatial proteogenomics reveals distinct and ev...</td>\n",
       "    </tr>\n",
       "    <tr>\n",
       "      <th>4</th>\n",
       "      <td>AAACCCACAATACCCA</td>\n",
       "      <td>SRX13549201</td>\n",
       "      <td>3_prime_gex</td>\n",
       "      <td>NaN</td>\n",
       "      <td>74e10dc4-cbb2-4605-a189-8a1cd8e44d8c</td>\n",
       "      <td>Spatial proteogenomics reveals distinct and ev...</td>\n",
       "    </tr>\n",
       "    <tr>\n",
       "      <th>...</th>\n",
       "      <td>...</td>\n",
       "      <td>...</td>\n",
       "      <td>...</td>\n",
       "      <td>...</td>\n",
       "      <td>...</td>\n",
       "      <td>...</td>\n",
       "    </tr>\n",
       "    <tr>\n",
       "      <th>35122</th>\n",
       "      <td>TTTGTTGGTTCAGCTA</td>\n",
       "      <td>SRX21819799</td>\n",
       "      <td>NaN</td>\n",
       "      <td>NaN</td>\n",
       "      <td>a0c84e3f-a5ca-4481-b3a5-ccfda0a81ecc</td>\n",
       "      <td>Unified comprehensive single-cell atlas of the...</td>\n",
       "    </tr>\n",
       "    <tr>\n",
       "      <th>35123</th>\n",
       "      <td>TTTGTTGTCACTGTCC</td>\n",
       "      <td>SRX21819799</td>\n",
       "      <td>NaN</td>\n",
       "      <td>NaN</td>\n",
       "      <td>a0c84e3f-a5ca-4481-b3a5-ccfda0a81ecc</td>\n",
       "      <td>Unified comprehensive single-cell atlas of the...</td>\n",
       "    </tr>\n",
       "    <tr>\n",
       "      <th>35124</th>\n",
       "      <td>TTTGTTGTCGAGTACT</td>\n",
       "      <td>SRX21819799</td>\n",
       "      <td>NaN</td>\n",
       "      <td>NaN</td>\n",
       "      <td>a0c84e3f-a5ca-4481-b3a5-ccfda0a81ecc</td>\n",
       "      <td>Unified comprehensive single-cell atlas of the...</td>\n",
       "    </tr>\n",
       "    <tr>\n",
       "      <th>35125</th>\n",
       "      <td>TTTGTTGTCTAATTCC</td>\n",
       "      <td>SRX21819799</td>\n",
       "      <td>NaN</td>\n",
       "      <td>NaN</td>\n",
       "      <td>a0c84e3f-a5ca-4481-b3a5-ccfda0a81ecc</td>\n",
       "      <td>Unified comprehensive single-cell atlas of the...</td>\n",
       "    </tr>\n",
       "    <tr>\n",
       "      <th>35126</th>\n",
       "      <td>TTTGTTGTCTGTACAG</td>\n",
       "      <td>SRX21819799</td>\n",
       "      <td>NaN</td>\n",
       "      <td>NaN</td>\n",
       "      <td>a0c84e3f-a5ca-4481-b3a5-ccfda0a81ecc</td>\n",
       "      <td>Unified comprehensive single-cell atlas of the...</td>\n",
       "    </tr>\n",
       "  </tbody>\n",
       "</table>\n",
       "<p>35127 rows × 6 columns</p>\n",
       "</div>"
      ],
      "text/plain": [
       "                 obs_id SRX_accession     tech_10x organism  \\\n",
       "0      AAACCCAAGAGATCGC   SRX13549201  3_prime_gex      NaN   \n",
       "1      AAACCCAAGGTCTTTG   SRX13549201  3_prime_gex      NaN   \n",
       "2      AAACCCAAGTTGGCGA   SRX13549201  3_prime_gex      NaN   \n",
       "3      AAACCCACAACCCTAA   SRX13549201  3_prime_gex      NaN   \n",
       "4      AAACCCACAATACCCA   SRX13549201  3_prime_gex      NaN   \n",
       "...                 ...           ...          ...      ...   \n",
       "35122  TTTGTTGGTTCAGCTA   SRX21819799          NaN      NaN   \n",
       "35123  TTTGTTGTCACTGTCC   SRX21819799          NaN      NaN   \n",
       "35124  TTTGTTGTCGAGTACT   SRX21819799          NaN      NaN   \n",
       "35125  TTTGTTGTCTAATTCC   SRX21819799          NaN      NaN   \n",
       "35126  TTTGTTGTCTGTACAG   SRX21819799          NaN      NaN   \n",
       "\n",
       "                          czi_collection_id  \\\n",
       "0      74e10dc4-cbb2-4605-a189-8a1cd8e44d8c   \n",
       "1      74e10dc4-cbb2-4605-a189-8a1cd8e44d8c   \n",
       "2      74e10dc4-cbb2-4605-a189-8a1cd8e44d8c   \n",
       "3      74e10dc4-cbb2-4605-a189-8a1cd8e44d8c   \n",
       "4      74e10dc4-cbb2-4605-a189-8a1cd8e44d8c   \n",
       "...                                     ...   \n",
       "35122  a0c84e3f-a5ca-4481-b3a5-ccfda0a81ecc   \n",
       "35123  a0c84e3f-a5ca-4481-b3a5-ccfda0a81ecc   \n",
       "35124  a0c84e3f-a5ca-4481-b3a5-ccfda0a81ecc   \n",
       "35125  a0c84e3f-a5ca-4481-b3a5-ccfda0a81ecc   \n",
       "35126  a0c84e3f-a5ca-4481-b3a5-ccfda0a81ecc   \n",
       "\n",
       "                                     czi_collection_name  \n",
       "0      Spatial proteogenomics reveals distinct and ev...  \n",
       "1      Spatial proteogenomics reveals distinct and ev...  \n",
       "2      Spatial proteogenomics reveals distinct and ev...  \n",
       "3      Spatial proteogenomics reveals distinct and ev...  \n",
       "4      Spatial proteogenomics reveals distinct and ev...  \n",
       "...                                                  ...  \n",
       "35122  Unified comprehensive single-cell atlas of the...  \n",
       "35123  Unified comprehensive single-cell atlas of the...  \n",
       "35124  Unified comprehensive single-cell atlas of the...  \n",
       "35125  Unified comprehensive single-cell atlas of the...  \n",
       "35126  Unified comprehensive single-cell atlas of the...  \n",
       "\n",
       "[35127 rows x 6 columns]"
      ]
     },
     "execution_count": 33,
     "metadata": {},
     "output_type": "execute_result"
    }
   ],
   "source": [
    "# read in the data\n",
    "with tiledbsoma.Experiment.open(db_uri) as exp:\n",
    "    df = (\n",
    "        exp.obs.read(column_names=[\"obs_id\", \"SRX_accession\", \"tech_10x\", \"organism\", \"czi_collection_id\", \"czi_collection_name\"])\n",
    "        .concat()\n",
    "        .to_pandas()\n",
    "    )\n",
    "df"
   ]
  },
  {
   "cell_type": "code",
   "execution_count": 30,
   "metadata": {},
   "outputs": [
    {
     "data": {
      "text/html": [
       "<div>\n",
       "<style scoped>\n",
       "    .dataframe tbody tr th:only-of-type {\n",
       "        vertical-align: middle;\n",
       "    }\n",
       "\n",
       "    .dataframe tbody tr th {\n",
       "        vertical-align: top;\n",
       "    }\n",
       "\n",
       "    .dataframe thead th {\n",
       "        text-align: right;\n",
       "    }\n",
       "</style>\n",
       "<table border=\"1\" class=\"dataframe\">\n",
       "  <thead>\n",
       "    <tr style=\"text-align: right;\">\n",
       "      <th></th>\n",
       "      <th>tech_10x</th>\n",
       "      <th>organism</th>\n",
       "      <th>count</th>\n",
       "    </tr>\n",
       "  </thead>\n",
       "  <tbody>\n",
       "    <tr>\n",
       "      <th>0</th>\n",
       "      <td>3_prime_gex</td>\n",
       "      <td>NaN</td>\n",
       "      <td>22700</td>\n",
       "    </tr>\n",
       "    <tr>\n",
       "      <th>1</th>\n",
       "      <td>NaN</td>\n",
       "      <td>NaN</td>\n",
       "      <td>7139</td>\n",
       "    </tr>\n",
       "  </tbody>\n",
       "</table>\n",
       "</div>"
      ],
      "text/plain": [
       "      tech_10x organism  count\n",
       "0  3_prime_gex      NaN  22700\n",
       "1          NaN      NaN   7139"
      ]
     },
     "execution_count": 30,
     "metadata": {},
     "output_type": "execute_result"
    }
   ],
   "source": [
    "# count by tech_10x and organism\n",
    "df.groupby([\"tech_10x\", \"organism\"]).size().reset_index(name=\"count\")"
   ]
  },
  {
   "cell_type": "code",
   "execution_count": null,
   "metadata": {},
   "outputs": [],
   "source": []
  }
 ],
 "metadata": {
  "kernelspec": {
   "display_name": "tiledb",
   "language": "python",
   "name": "python3"
  },
  "language_info": {
   "codemirror_mode": {
    "name": "ipython",
    "version": 3
   },
   "file_extension": ".py",
   "mimetype": "text/x-python",
   "name": "python",
   "nbconvert_exporter": "python",
   "pygments_lexer": "ipython3",
   "version": "3.12.8"
  }
 },
 "nbformat": 4,
 "nbformat_minor": 2
}
