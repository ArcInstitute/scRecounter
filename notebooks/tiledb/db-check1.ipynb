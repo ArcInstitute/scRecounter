{
 "cells": [
  {
   "cell_type": "markdown",
   "metadata": {},
   "source": [
    "# Notes\n",
    "\n",
    "* code to check/summarize a tiledb database"
   ]
  },
  {
   "cell_type": "code",
   "execution_count": 18,
   "metadata": {},
   "outputs": [],
   "source": [
    "import os\n",
    "import tiledbsoma\n",
    "import tiledbsoma.io"
   ]
  },
  {
   "cell_type": "code",
   "execution_count": 19,
   "metadata": {},
   "outputs": [],
   "source": [
    "db_uri = \"/home/nickyoungblut/dev/nextflow/scRecounter/tmp/tiledb/tiledb_exp1\""
   ]
  },
  {
   "cell_type": "markdown",
   "metadata": {},
   "source": [
    "# Summary"
   ]
  },
  {
   "cell_type": "markdown",
   "metadata": {},
   "source": [
    "## Obs"
   ]
  },
  {
   "cell_type": "code",
   "execution_count": 23,
   "metadata": {},
   "outputs": [
    {
     "name": "stdout",
     "output_type": "stream",
     "text": [
      "soma_joinid: int64 not null\n",
      "obs_id: large_string\n",
      "SRX_accession: large_string\n",
      "lib_prep: large_string\n",
      "tech_10x: large_string\n",
      "organism: large_string\n",
      "tissue: large_string\n",
      "disease: large_string\n",
      "purturbation: large_string\n",
      "cell_line: large_string\n",
      "czi_collection_id: large_string\n",
      "czi_collection_name: large_string\n"
     ]
    }
   ],
   "source": [
    "# get colnames\n",
    "with tiledbsoma.open(db_uri) as exp:\n",
    "    print(exp.obs.schema)"
   ]
  },
  {
   "cell_type": "code",
   "execution_count": 24,
   "metadata": {},
   "outputs": [
    {
     "data": {
      "text/html": [
       "<div>\n",
       "<style scoped>\n",
       "    .dataframe tbody tr th:only-of-type {\n",
       "        vertical-align: middle;\n",
       "    }\n",
       "\n",
       "    .dataframe tbody tr th {\n",
       "        vertical-align: top;\n",
       "    }\n",
       "\n",
       "    .dataframe thead th {\n",
       "        text-align: right;\n",
       "    }\n",
       "</style>\n",
       "<table border=\"1\" class=\"dataframe\">\n",
       "  <thead>\n",
       "    <tr style=\"text-align: right;\">\n",
       "      <th></th>\n",
       "      <th>obs_id</th>\n",
       "      <th>SRX_accession</th>\n",
       "      <th>tech_10x</th>\n",
       "    </tr>\n",
       "  </thead>\n",
       "  <tbody>\n",
       "    <tr>\n",
       "      <th>0</th>\n",
       "      <td>AAACCCAGTGGAAATT</td>\n",
       "      <td>SRX24099779</td>\n",
       "      <td>3_prime_gex</td>\n",
       "    </tr>\n",
       "    <tr>\n",
       "      <th>1</th>\n",
       "      <td>AAACGAAAGTTGCGAG</td>\n",
       "      <td>SRX24099779</td>\n",
       "      <td>3_prime_gex</td>\n",
       "    </tr>\n",
       "    <tr>\n",
       "      <th>2</th>\n",
       "      <td>AAACGCTAGAGAAGGT</td>\n",
       "      <td>SRX24099779</td>\n",
       "      <td>3_prime_gex</td>\n",
       "    </tr>\n",
       "    <tr>\n",
       "      <th>3</th>\n",
       "      <td>AAACGCTAGCTGTGCC</td>\n",
       "      <td>SRX24099779</td>\n",
       "      <td>3_prime_gex</td>\n",
       "    </tr>\n",
       "    <tr>\n",
       "      <th>4</th>\n",
       "      <td>AAACGCTAGTCGTTAC</td>\n",
       "      <td>SRX24099779</td>\n",
       "      <td>3_prime_gex</td>\n",
       "    </tr>\n",
       "    <tr>\n",
       "      <th>...</th>\n",
       "      <td>...</td>\n",
       "      <td>...</td>\n",
       "      <td>...</td>\n",
       "    </tr>\n",
       "    <tr>\n",
       "      <th>41774</th>\n",
       "      <td>TTTGTCAGTCGTCTTC</td>\n",
       "      <td>SRX21101392</td>\n",
       "      <td>vdj</td>\n",
       "    </tr>\n",
       "    <tr>\n",
       "      <th>41775</th>\n",
       "      <td>TTTGTCAGTGGCAAAC</td>\n",
       "      <td>SRX21101392</td>\n",
       "      <td>vdj</td>\n",
       "    </tr>\n",
       "    <tr>\n",
       "      <th>41776</th>\n",
       "      <td>TTTGTCATCACCGTAA</td>\n",
       "      <td>SRX21101392</td>\n",
       "      <td>vdj</td>\n",
       "    </tr>\n",
       "    <tr>\n",
       "      <th>41777</th>\n",
       "      <td>TTTGTCATCGCACTCT</td>\n",
       "      <td>SRX21101392</td>\n",
       "      <td>vdj</td>\n",
       "    </tr>\n",
       "    <tr>\n",
       "      <th>41778</th>\n",
       "      <td>TTTGTCATCTAAGCCA</td>\n",
       "      <td>SRX21101392</td>\n",
       "      <td>vdj</td>\n",
       "    </tr>\n",
       "  </tbody>\n",
       "</table>\n",
       "<p>41779 rows × 3 columns</p>\n",
       "</div>"
      ],
      "text/plain": [
       "                 obs_id SRX_accession     tech_10x\n",
       "0      AAACCCAGTGGAAATT   SRX24099779  3_prime_gex\n",
       "1      AAACGAAAGTTGCGAG   SRX24099779  3_prime_gex\n",
       "2      AAACGCTAGAGAAGGT   SRX24099779  3_prime_gex\n",
       "3      AAACGCTAGCTGTGCC   SRX24099779  3_prime_gex\n",
       "4      AAACGCTAGTCGTTAC   SRX24099779  3_prime_gex\n",
       "...                 ...           ...          ...\n",
       "41774  TTTGTCAGTCGTCTTC   SRX21101392          vdj\n",
       "41775  TTTGTCAGTGGCAAAC   SRX21101392          vdj\n",
       "41776  TTTGTCATCACCGTAA   SRX21101392          vdj\n",
       "41777  TTTGTCATCGCACTCT   SRX21101392          vdj\n",
       "41778  TTTGTCATCTAAGCCA   SRX21101392          vdj\n",
       "\n",
       "[41779 rows x 3 columns]"
      ]
     },
     "execution_count": 24,
     "metadata": {},
     "output_type": "execute_result"
    }
   ],
   "source": [
    "# read in the data\n",
    "with tiledbsoma.Experiment.open(db_uri) as exp:\n",
    "    df = (\n",
    "        exp.obs.read(column_names=[\"obs_id\", \"SRX_accession\", \"tech_10x\"])\n",
    "        .concat()\n",
    "        .to_pandas()\n",
    "    )\n",
    "df"
   ]
  },
  {
   "cell_type": "code",
   "execution_count": 25,
   "metadata": {},
   "outputs": [
    {
     "data": {
      "text/plain": [
       "SRX_accession\n",
       "SRX20461161    20047\n",
       "SRX26573988    10888\n",
       "SRX21101392     6097\n",
       "SRX24099779     3794\n",
       "SRX20585665      953\n",
       "Name: count, dtype: int64"
      ]
     },
     "execution_count": 25,
     "metadata": {},
     "output_type": "execute_result"
    }
   ],
   "source": [
    "df[\"SRX_accession\"].value_counts()"
   ]
  },
  {
   "cell_type": "markdown",
   "metadata": {},
   "source": [
    "## Var"
   ]
  },
  {
   "cell_type": "code",
   "execution_count": 17,
   "metadata": {},
   "outputs": [
    {
     "data": {
      "text/html": [
       "<div>\n",
       "<style scoped>\n",
       "    .dataframe tbody tr th:only-of-type {\n",
       "        vertical-align: middle;\n",
       "    }\n",
       "\n",
       "    .dataframe tbody tr th {\n",
       "        vertical-align: top;\n",
       "    }\n",
       "\n",
       "    .dataframe thead th {\n",
       "        text-align: right;\n",
       "    }\n",
       "</style>\n",
       "<table border=\"1\" class=\"dataframe\">\n",
       "  <thead>\n",
       "    <tr style=\"text-align: right;\">\n",
       "      <th></th>\n",
       "      <th>soma_joinid</th>\n",
       "      <th>var_id</th>\n",
       "      <th>gene_symbols</th>\n",
       "    </tr>\n",
       "  </thead>\n",
       "  <tbody>\n",
       "    <tr>\n",
       "      <th>0</th>\n",
       "      <td>0</td>\n",
       "      <td>ENSMUSG00000051951</td>\n",
       "      <td>Xkr4</td>\n",
       "    </tr>\n",
       "    <tr>\n",
       "      <th>1</th>\n",
       "      <td>1</td>\n",
       "      <td>ENSMUSG00000089699</td>\n",
       "      <td>Gm1992</td>\n",
       "    </tr>\n",
       "    <tr>\n",
       "      <th>2</th>\n",
       "      <td>2</td>\n",
       "      <td>ENSMUSG00000102331</td>\n",
       "      <td>Gm19938</td>\n",
       "    </tr>\n",
       "    <tr>\n",
       "      <th>3</th>\n",
       "      <td>3</td>\n",
       "      <td>ENSMUSG00000102343</td>\n",
       "      <td>Gm37381</td>\n",
       "    </tr>\n",
       "    <tr>\n",
       "      <th>4</th>\n",
       "      <td>4</td>\n",
       "      <td>ENSMUSG00000025900</td>\n",
       "      <td>Rp1</td>\n",
       "    </tr>\n",
       "    <tr>\n",
       "      <th>...</th>\n",
       "      <td>...</td>\n",
       "      <td>...</td>\n",
       "      <td>...</td>\n",
       "    </tr>\n",
       "    <tr>\n",
       "      <th>68881</th>\n",
       "      <td>68881</td>\n",
       "      <td>ENSG00000277836</td>\n",
       "      <td>AC141272.1</td>\n",
       "    </tr>\n",
       "    <tr>\n",
       "      <th>68882</th>\n",
       "      <td>68882</td>\n",
       "      <td>ENSG00000278633</td>\n",
       "      <td>AC023491.2</td>\n",
       "    </tr>\n",
       "    <tr>\n",
       "      <th>68883</th>\n",
       "      <td>68883</td>\n",
       "      <td>ENSG00000276017</td>\n",
       "      <td>AC007325.1</td>\n",
       "    </tr>\n",
       "    <tr>\n",
       "      <th>68884</th>\n",
       "      <td>68884</td>\n",
       "      <td>ENSG00000278817</td>\n",
       "      <td>AC007325.4</td>\n",
       "    </tr>\n",
       "    <tr>\n",
       "      <th>68885</th>\n",
       "      <td>68885</td>\n",
       "      <td>ENSG00000277196</td>\n",
       "      <td>AC007325.2</td>\n",
       "    </tr>\n",
       "  </tbody>\n",
       "</table>\n",
       "<p>68886 rows × 3 columns</p>\n",
       "</div>"
      ],
      "text/plain": [
       "       soma_joinid              var_id gene_symbols\n",
       "0                0  ENSMUSG00000051951         Xkr4\n",
       "1                1  ENSMUSG00000089699       Gm1992\n",
       "2                2  ENSMUSG00000102331      Gm19938\n",
       "3                3  ENSMUSG00000102343      Gm37381\n",
       "4                4  ENSMUSG00000025900          Rp1\n",
       "...            ...                 ...          ...\n",
       "68881        68881     ENSG00000277836   AC141272.1\n",
       "68882        68882     ENSG00000278633   AC023491.2\n",
       "68883        68883     ENSG00000276017   AC007325.1\n",
       "68884        68884     ENSG00000278817   AC007325.4\n",
       "68885        68885     ENSG00000277196   AC007325.2\n",
       "\n",
       "[68886 rows x 3 columns]"
      ]
     },
     "execution_count": 17,
     "metadata": {},
     "output_type": "execute_result"
    }
   ],
   "source": [
    "# read in the var (gene) level data\n",
    "with tiledbsoma.Experiment.open(db_uri) as exp:\n",
    "    df = (\n",
    "        exp.ms[\"RNA\"]\n",
    "        .var.read(column_names=[\"soma_joinid\", \"var_id\", \"gene_symbols\"])\n",
    "        .concat()\n",
    "        .to_pandas()\n",
    "    )\n",
    "df"
   ]
  },
  {
   "cell_type": "code",
   "execution_count": null,
   "metadata": {},
   "outputs": [],
   "source": []
  }
 ],
 "metadata": {
  "kernelspec": {
   "display_name": "tiledb",
   "language": "python",
   "name": "python3"
  },
  "language_info": {
   "codemirror_mode": {
    "name": "ipython",
    "version": 3
   },
   "file_extension": ".py",
   "mimetype": "text/x-python",
   "name": "python",
   "nbconvert_exporter": "python",
   "pygments_lexer": "ipython3",
   "version": "3.12.8"
  }
 },
 "nbformat": 4,
 "nbformat_minor": 2
}
