{
 "cells": [
  {
   "cell_type": "markdown",
   "metadata": {},
   "source": [
    "# Goals\n",
    "\n",
    "* Create TileDB-SOMA databases for the scBaseCamp"
   ]
  },
  {
   "cell_type": "markdown",
   "metadata": {},
   "source": [
    "# Vars"
   ]
  },
  {
   "cell_type": "code",
   "execution_count": 1,
   "metadata": {},
   "outputs": [],
   "source": [
    "work_dir = '/processed_datasets/scRecount/scRecounter'"
   ]
  },
  {
   "cell_type": "markdown",
   "metadata": {},
   "source": [
    "# Init"
   ]
  },
  {
   "cell_type": "code",
   "execution_count": 2,
   "metadata": {},
   "outputs": [],
   "source": [
    "import os\n",
    "from glob import glob\n",
    "import pandas as pd\n",
    "import tiledbsoma\n",
    "import tiledbsoma.io\n",
    "import numpy as np\n",
    "import plotnine as pn"
   ]
  },
  {
   "cell_type": "code",
   "execution_count": 3,
   "metadata": {},
   "outputs": [],
   "source": [
    "pn.theme_set(pn.theme_bw())"
   ]
  },
  {
   "cell_type": "markdown",
   "metadata": {},
   "source": [
    "# Create\n",
    "\n",
    "> Via tmux jobs to prevent disconnection\n",
    "\n",
    "### Prod3\n",
    "\n",
    "```bash\n",
    "nextflow run main.nf -profile conda,slurm,report,trace \\\n",
    "  -N nick.youngblut@arcinstitute.org \\\n",
    "  -ansi-log false \\\n",
    "  --max_datasets 1000 \\\n",
    "  --log_dir /scratch/multiomics/nickyoungblut/tiledb-loader/logs/prod3/GeneFull_Ex50pAS \\\n",
    "  --db_uri /scratch/multiomics/nickyoungblut/tiledb-loader/tiledb-soma_GeneFull_Ex50pAS \\\n",
    "  --input_dir /processed_datasets/scRecount/scRecounter/prod3 \\\n",
    "  > logs/prod3-1.log 2>&1\n",
    "```\n",
    "\n",
    "Remove working directory\n",
    "\n",
    "```bash\n",
    "rm -rf /scratch/multiomics/nickyoungblut/nextflow-work/tiledb-loader/\n",
    "```\n",
    "\n",
    "```bash\n",
    "nextflow run main.nf -profile conda,slurm,report,trace \\\n",
    "  -N nick.youngblut@arcinstitute.org \\\n",
    "  -ansi-log false \\\n",
    "  --max_datasets 5000 \\\n",
    "  --log_dir /scratch/multiomics/nickyoungblut/tiledb-loader/logs/prod3/GeneFull_Ex50pAS \\\n",
    "  --db_uri /scratch/multiomics/nickyoungblut/tiledb-loader/tiledb-soma_GeneFull_Ex50pAS \\\n",
    "  --input_dir /processed_datasets/scRecount/scRecounter/prod3 \\\n",
    "  > logs/prod3-2.log 2>&1\n",
    "```\n",
    "\n",
    "```bash\n",
    "rm -rf /scratch/multiomics/nickyoungblut/nextflow-work/tiledb-loader/\n",
    "```\n",
    "\n",
    "```bash\n",
    "nextflow run main.nf -profile conda,slurm,report,trace \\\n",
    "  -N nick.youngblut@arcinstitute.org \\\n",
    "  -ansi-log false \\\n",
    "  --max_datasets 8000 \\\n",
    "  --log_dir /scratch/multiomics/nickyoungblut/tiledb-loader/logs/prod3/GeneFull_Ex50pAS \\\n",
    "  --db_uri /scratch/multiomics/nickyoungblut/tiledb-loader/tiledb-soma_GeneFull_Ex50pAS \\\n",
    "  --input_dir /processed_datasets/scRecount/scRecounter/prod3 \\\n",
    "  > logs/prod3-3.log 2>&1\n",
    "```\n",
    "\n",
    "```bash\n",
    "rm -rf /scratch/multiomics/nickyoungblut/nextflow-work/tiledb-loader/\n",
    "```\n",
    "\n",
    "```bash\n",
    "nextflow run main.nf -profile conda,slurm,report,trace \\\n",
    "  -N nick.youngblut@arcinstitute.org \\\n",
    "  -ansi-log false \\\n",
    "  --max_datasets 8000 \\\n",
    "  --log_dir /scratch/multiomics/nickyoungblut/tiledb-loader/logs/prod3/GeneFull_Ex50pAS \\\n",
    "  --db_uri /scratch/multiomics/nickyoungblut/tiledb-loader/tiledb-soma_GeneFull_Ex50pAS \\\n",
    "  --input_dir /processed_datasets/scRecount/scRecounter/prod3 \\\n",
    "  > logs/prod3-4.log 2>&1\n",
    "```\n",
    "\n",
    "```bash\n",
    "rm -rf /scratch/multiomics/nickyoungblut/nextflow-work/tiledb-loader/\n",
    "```\n",
    "\n",
    "```bash\n",
    "nextflow run main.nf -profile conda,slurm,report,trace \\\n",
    "  -N nick.youngblut@arcinstitute.org \\\n",
    "  -ansi-log false \\\n",
    "  --max_datasets 8000 \\\n",
    "  --log_dir /scratch/multiomics/nickyoungblut/tiledb-loader/logs/prod3/GeneFull_Ex50pAS \\\n",
    "  --db_uri /scratch/multiomics/nickyoungblut/tiledb-loader/tiledb-soma_GeneFull_Ex50pAS \\\n",
    "  --input_dir /processed_datasets/scRecount/scRecounter/prod3 \\\n",
    "  > logs/prod3-5.log 2>&1\n",
    "```\n",
    "\n",
    "### Chris' Cell-X-Gene data\n",
    "\n",
    "```bash\n",
    "nextflow run main.nf -profile conda,slurm,report,trace \\\n",
    "  -N nick.youngblut@arcinstitute.org \\\n",
    "  -ansi-log false \\\n",
    "  --max_datasets 20000 \\\n",
    "  --missing_metadata allow \\\n",
    "  --log_dir /scratch/multiomics/nickyoungblut/tiledb-loader/logs/cellxgene/GeneFull_Ex50pAS \\\n",
    "  --db_uri /scratch/multiomics/nickyoungblut/tiledb-loader/tiledb-soma_GeneFull_Ex50pAS \\\n",
    "  --input_dir /processed_datasets/scRecount/cellxgene/counted_SRXs \\\n",
    "  > logs/cellxgene-1.log 2>&1\n",
    "```\n",
    "\n",
    "```bash\n",
    "nextflow run main.nf -profile conda,slurm,report,trace \\\n",
    "  -N nick.youngblut@arcinstitute.org \\\n",
    "  -ansi-log false \\\n",
    "  --max_datasets 20000 \\\n",
    "  --missing_metadata allow \\\n",
    "  --log_dir /scratch/multiomics/nickyoungblut/tiledb-loader/logs/cellxgene/GeneFull_Ex50pAS \\\n",
    "  --db_uri /scratch/multiomics/nickyoungblut/tiledb-loader/tiledb-soma_GeneFull_Ex50pAS \\\n",
    "  --input_dir /processed_datasets/scRecount/cellxgene/counted_SRXs \\\n",
    "  > logs/cellxgene-2.log 2>&1\n",
    "```\n",
    "\n"
   ]
  },
  {
   "cell_type": "markdown",
   "metadata": {},
   "source": [
    "# Summary"
   ]
  },
  {
   "cell_type": "code",
   "execution_count": 4,
   "metadata": {},
   "outputs": [],
   "source": [
    "#db_uri = \"/processed_datasets/scRecount/scRecounter/tiledb-soma_prod3_GeneFull_Ex50pAS\"\n",
    "db_uri = \"/scratch/multiomics/nickyoungblut/tiledb-loader/tiledb-soma_GeneFull_Ex50pAS\""
   ]
  },
  {
   "cell_type": "markdown",
   "metadata": {},
   "source": [
    "## Obs"
   ]
  },
  {
   "cell_type": "code",
   "execution_count": null,
   "metadata": {},
   "outputs": [
    {
     "name": "stdout",
     "output_type": "stream",
     "text": [
      "soma_joinid: int64 not null\n",
      "obs_id: large_string\n",
      "gene_count: int64\n",
      "umi_count: float\n",
      "barcode: large_string\n",
      "SRX_accession: dictionary<values=string, indices=int32, ordered=0>\n",
      "lib_prep: dictionary<values=string, indices=int32, ordered=0>\n",
      "tech_10x: dictionary<values=string, indices=int32, ordered=0>\n",
      "organism: dictionary<values=string, indices=int32, ordered=0>\n",
      "tissue: dictionary<values=string, indices=int32, ordered=0>\n",
      "disease: dictionary<values=string, indices=int32, ordered=0>\n",
      "purturbation: dictionary<values=string, indices=int32, ordered=0>\n",
      "cell_line: dictionary<values=string, indices=int32, ordered=0>\n",
      "czi_collection_id: dictionary<values=string, indices=int32, ordered=0>\n",
      "czi_collection_name: dictionary<values=string, indices=int32, ordered=0>\n"
     ]
    }
   ],
   "source": [
    "# get obs schema\n",
    "with tiledbsoma.open(db_uri) as exp:\n",
    "    print(exp.obs.schema)"
   ]
  },
  {
   "cell_type": "code",
   "execution_count": 6,
   "metadata": {},
   "outputs": [
    {
     "name": "stdout",
     "output_type": "stream",
     "text": [
      "Total cells: 154905800\n"
     ]
    }
   ],
   "source": [
    "# total observation count\n",
    "with tiledbsoma.open(db_uri) as exp:\n",
    "    total_cells = (\n",
    "        exp.obs.read(column_names=[\"obs_id\"])\n",
    "        .concat()\n",
    "        .group_by([])\n",
    "        .aggregate([\n",
    "            ([], 'count_all'),\n",
    "        ])\n",
    "        .to_pandas()[\"count_all\"].values[0]\n",
    "    )\n",
    "print(f\"Total cells: {total_cells}\")"
   ]
  },
  {
   "cell_type": "code",
   "execution_count": 7,
   "metadata": {},
   "outputs": [
    {
     "name": "stdout",
     "output_type": "stream",
     "text": [
      "(20394, 2)\n"
     ]
    },
    {
     "data": {
      "text/html": [
       "<div>\n",
       "<style scoped>\n",
       "    .dataframe tbody tr th:only-of-type {\n",
       "        vertical-align: middle;\n",
       "    }\n",
       "\n",
       "    .dataframe tbody tr th {\n",
       "        vertical-align: top;\n",
       "    }\n",
       "\n",
       "    .dataframe thead th {\n",
       "        text-align: right;\n",
       "    }\n",
       "</style>\n",
       "<table border=\"1\" class=\"dataframe\">\n",
       "  <thead>\n",
       "    <tr style=\"text-align: right;\">\n",
       "      <th></th>\n",
       "      <th>SRX_accession</th>\n",
       "      <th>count_all</th>\n",
       "    </tr>\n",
       "  </thead>\n",
       "  <tbody>\n",
       "    <tr>\n",
       "      <th>0</th>\n",
       "      <td>SRX15016115</td>\n",
       "      <td>148051</td>\n",
       "    </tr>\n",
       "    <tr>\n",
       "      <th>1</th>\n",
       "      <td>SRX19719427</td>\n",
       "      <td>107903</td>\n",
       "    </tr>\n",
       "    <tr>\n",
       "      <th>2</th>\n",
       "      <td>SRX15016116</td>\n",
       "      <td>103365</td>\n",
       "    </tr>\n",
       "    <tr>\n",
       "      <th>3</th>\n",
       "      <td>SRX22915751</td>\n",
       "      <td>100908</td>\n",
       "    </tr>\n",
       "    <tr>\n",
       "      <th>4</th>\n",
       "      <td>SRX17521046</td>\n",
       "      <td>98235</td>\n",
       "    </tr>\n",
       "  </tbody>\n",
       "</table>\n",
       "</div>"
      ],
      "text/plain": [
       "  SRX_accession  count_all\n",
       "0   SRX15016115     148051\n",
       "1   SRX19719427     107903\n",
       "2   SRX15016116     103365\n",
       "3   SRX22915751     100908\n",
       "4   SRX17521046      98235"
      ]
     },
     "execution_count": 7,
     "metadata": {},
     "output_type": "execute_result"
    }
   ],
   "source": [
    "# obs per SRX\n",
    "with tiledbsoma.Experiment.open(db_uri) as exp:\n",
    "    df = (\n",
    "        exp.obs.read()\n",
    "        .concat()\n",
    "        .group_by(['SRX_accession'])\n",
    "        .aggregate([\n",
    "            ([], 'count_all'),\n",
    "        ])\n",
    "        .sort_by([(\"count_all\", \"descending\")])\n",
    "        .to_pandas()\n",
    "    )\n",
    "print(df.shape)\n",
    "df.head()"
   ]
  },
  {
   "cell_type": "code",
   "execution_count": 8,
   "metadata": {},
   "outputs": [
    {
     "name": "stdout",
     "output_type": "stream",
     "text": [
      "count    20394\n",
      "mean      7596\n",
      "std       6809\n",
      "min         10\n",
      "25%       3423\n",
      "50%       6264\n",
      "75%       9834\n",
      "max     148051\n",
      "Name: count_all, dtype: float64\n"
     ]
    },
    {
     "data": {
      "image/png": "[encoded data removed]"
     },
     "metadata": {
      "image/png": {
       "height": 300,
       "width": 500
      }
     },
     "output_type": "display_data"
    }
   ],
   "source": [
    "# plot obs per SRX\n",
    "with pd.option_context('display.float_format', '{:.0f}'.format):\n",
    "    print(df[\"count_all\"].describe())\n",
    "    \n",
    "p = (\n",
    "    pn.ggplot(df, pn.aes(x=\"count_all\")) + \n",
    "    pn.geom_histogram(bins=100) +\n",
    "    pn.labs(x=\"Cells per sample\", y=\"No. of samples\") +\n",
    "    pn.theme(figure_size=(5,3))\n",
    "    )\n",
    "p"
   ]
  },
  {
   "cell_type": "code",
   "execution_count": 9,
   "metadata": {},
   "outputs": [
    {
     "data": {
      "text/html": [
       "<div>\n",
       "<style scoped>\n",
       "    .dataframe tbody tr th:only-of-type {\n",
       "        vertical-align: middle;\n",
       "    }\n",
       "\n",
       "    .dataframe tbody tr th {\n",
       "        vertical-align: top;\n",
       "    }\n",
       "\n",
       "    .dataframe thead th {\n",
       "        text-align: right;\n",
       "    }\n",
       "</style>\n",
       "<table border=\"1\" class=\"dataframe\">\n",
       "  <thead>\n",
       "    <tr style=\"text-align: right;\">\n",
       "      <th></th>\n",
       "      <th>tech_10x</th>\n",
       "      <th>count_all</th>\n",
       "    </tr>\n",
       "  </thead>\n",
       "  <tbody>\n",
       "    <tr>\n",
       "      <th>0</th>\n",
       "      <td>3_prime_gex</td>\n",
       "      <td>116641262</td>\n",
       "    </tr>\n",
       "    <tr>\n",
       "      <th>1</th>\n",
       "      <td>5_prime_gex</td>\n",
       "      <td>25747020</td>\n",
       "    </tr>\n",
       "    <tr>\n",
       "      <th>2</th>\n",
       "      <td>atac</td>\n",
       "      <td>18685</td>\n",
       "    </tr>\n",
       "    <tr>\n",
       "      <th>3</th>\n",
       "      <td>cellplex</td>\n",
       "      <td>291407</td>\n",
       "    </tr>\n",
       "    <tr>\n",
       "      <th>4</th>\n",
       "      <td>feature_barcoding</td>\n",
       "      <td>2163264</td>\n",
       "    </tr>\n",
       "    <tr>\n",
       "      <th>5</th>\n",
       "      <td>fixed_rna</td>\n",
       "      <td>7410</td>\n",
       "    </tr>\n",
       "    <tr>\n",
       "      <th>6</th>\n",
       "      <td>multiome</td>\n",
       "      <td>4844589</td>\n",
       "    </tr>\n",
       "    <tr>\n",
       "      <th>7</th>\n",
       "      <td>nan</td>\n",
       "      <td>684138</td>\n",
       "    </tr>\n",
       "    <tr>\n",
       "      <th>8</th>\n",
       "      <td>not_applicable</td>\n",
       "      <td>997406</td>\n",
       "    </tr>\n",
       "    <tr>\n",
       "      <th>9</th>\n",
       "      <td>other</td>\n",
       "      <td>973283</td>\n",
       "    </tr>\n",
       "    <tr>\n",
       "      <th>10</th>\n",
       "      <td>vdj</td>\n",
       "      <td>2132920</td>\n",
       "    </tr>\n",
       "  </tbody>\n",
       "</table>\n",
       "</div>"
      ],
      "text/plain": [
       "             tech_10x  count_all\n",
       "0         3_prime_gex  116641262\n",
       "1         5_prime_gex   25747020\n",
       "2                atac      18685\n",
       "3            cellplex     291407\n",
       "4   feature_barcoding    2163264\n",
       "5           fixed_rna       7410\n",
       "6            multiome    4844589\n",
       "7                 nan     684138\n",
       "8      not_applicable     997406\n",
       "9               other     973283\n",
       "10                vdj    2132920"
      ]
     },
     "execution_count": 9,
     "metadata": {},
     "output_type": "execute_result"
    }
   ],
   "source": [
    "# obs count per 10X Genomics technology\n",
    "with tiledbsoma.Experiment.open(db_uri) as exp:\n",
    "    df = (\n",
    "        exp.obs.read(column_names=[\"tech_10x\"])\n",
    "        .concat()\n",
    "        .group_by([\"tech_10x\"])\n",
    "        .aggregate([\n",
    "            ([], 'count_all'),\n",
    "        ])\n",
    "        .sort_by([(\"count_all\", \"descending\")])\n",
    "        .to_pandas()\n",
    "    )\n",
    "    \n",
    "# convert \"NaN\" to NaN\n",
    "df[\"tech_10x\"] = df[\"tech_10x\"].astype(str).replace(\"NaN\", np.nan)\n",
    "# sum by tech_10x\n",
    "df = df.groupby(\"tech_10x\").sum().reset_index()\n",
    "df"
   ]
  },
  {
   "cell_type": "code",
   "execution_count": 10,
   "metadata": {},
   "outputs": [
    {
     "data": {
      "image/png": "[encoded data removed]"
     },
     "metadata": {
      "image/png": {
       "height": 300,
       "width": 500
      }
     },
     "output_type": "display_data"
    }
   ],
   "source": [
    "# plot cells per SRX and tech\n",
    "p = (\n",
    "    pn.ggplot(df, pn.aes(x=\"tech_10x\", y=\"count_all\")) + \n",
    "    pn.geom_col() +\n",
    "    pn.labs(x=\"10X Genomics tech\", y=\"No. of cells\") +\n",
    "    pn.theme(\n",
    "        figure_size=(5,3),\n",
    "        axis_text_x=pn.element_text(rotation=35, hjust=1)\n",
    "    ))\n",
    "p"
   ]
  },
  {
   "cell_type": "code",
   "execution_count": 11,
   "metadata": {},
   "outputs": [
    {
     "data": {
      "text/html": [
       "<div>\n",
       "<style scoped>\n",
       "    .dataframe tbody tr th:only-of-type {\n",
       "        vertical-align: middle;\n",
       "    }\n",
       "\n",
       "    .dataframe tbody tr th {\n",
       "        vertical-align: top;\n",
       "    }\n",
       "\n",
       "    .dataframe thead th {\n",
       "        text-align: right;\n",
       "    }\n",
       "</style>\n",
       "<table border=\"1\" class=\"dataframe\">\n",
       "  <thead>\n",
       "    <tr style=\"text-align: right;\">\n",
       "      <th></th>\n",
       "      <th>organism</th>\n",
       "      <th>count_all</th>\n",
       "    </tr>\n",
       "  </thead>\n",
       "  <tbody>\n",
       "    <tr>\n",
       "      <th>0</th>\n",
       "      <td>human</td>\n",
       "      <td>80613090</td>\n",
       "    </tr>\n",
       "    <tr>\n",
       "      <th>1</th>\n",
       "      <td>mouse</td>\n",
       "      <td>69485617</td>\n",
       "    </tr>\n",
       "    <tr>\n",
       "      <th>2</th>\n",
       "      <td>NaN</td>\n",
       "      <td>4122955</td>\n",
       "    </tr>\n",
       "    <tr>\n",
       "      <th>3</th>\n",
       "      <td>NaN</td>\n",
       "      <td>684138</td>\n",
       "    </tr>\n",
       "  </tbody>\n",
       "</table>\n",
       "</div>"
      ],
      "text/plain": [
       "  organism  count_all\n",
       "0    human   80613090\n",
       "1    mouse   69485617\n",
       "2      NaN    4122955\n",
       "3      NaN     684138"
      ]
     },
     "execution_count": 11,
     "metadata": {},
     "output_type": "execute_result"
    }
   ],
   "source": [
    "# obs count per organism\n",
    "with tiledbsoma.Experiment.open(db_uri) as exp:\n",
    "    df = (\n",
    "        exp.obs.read(column_names=[\"organism\"])\n",
    "        .concat()\n",
    "        .group_by([\"organism\"])\n",
    "        .aggregate([\n",
    "            ([], 'count_all'),\n",
    "        ])\n",
    "        .sort_by([(\"count_all\", \"descending\")])\n",
    "        .to_pandas()\n",
    "    )\n",
    "df"
   ]
  },
  {
   "cell_type": "code",
   "execution_count": 12,
   "metadata": {},
   "outputs": [
    {
     "data": {
      "image/png": "[encoded data removed]"
     },
     "metadata": {
      "image/png": {
       "height": 300,
       "width": 500
      }
     },
     "output_type": "display_data"
    }
   ],
   "source": [
    "# plot cells per organism\n",
    "p = (\n",
    "    pn.ggplot(df, pn.aes(x=\"organism\", y=\"count_all\")) + \n",
    "    pn.geom_col() +\n",
    "    pn.labs(x=\"Organism\", y=\"No. of cells\") +\n",
    "    pn.theme(\n",
    "        figure_size=(5,3),\n",
    "        axis_text_x=pn.element_text(rotation=35, hjust=1)\n",
    "    ))\n",
    "p"
   ]
  },
  {
   "cell_type": "markdown",
   "metadata": {},
   "source": [
    "#### Gene/UMI counts"
   ]
  },
  {
   "cell_type": "code",
   "execution_count": 13,
   "metadata": {},
   "outputs": [
    {
     "data": {
      "text/html": [
       "<div>\n",
       "<style scoped>\n",
       "    .dataframe tbody tr th:only-of-type {\n",
       "        vertical-align: middle;\n",
       "    }\n",
       "\n",
       "    .dataframe tbody tr th {\n",
       "        vertical-align: top;\n",
       "    }\n",
       "\n",
       "    .dataframe thead th {\n",
       "        text-align: right;\n",
       "    }\n",
       "</style>\n",
       "<table border=\"1\" class=\"dataframe\">\n",
       "  <thead>\n",
       "    <tr style=\"text-align: right;\">\n",
       "      <th></th>\n",
       "      <th>SRX_accession</th>\n",
       "      <th>gene_count</th>\n",
       "      <th>umi_count</th>\n",
       "    </tr>\n",
       "  </thead>\n",
       "  <tbody>\n",
       "    <tr>\n",
       "      <th>0</th>\n",
       "      <td>SRX19235312</td>\n",
       "      <td>21828</td>\n",
       "      <td>832405.0</td>\n",
       "    </tr>\n",
       "    <tr>\n",
       "      <th>1</th>\n",
       "      <td>SRX19235312</td>\n",
       "      <td>21778</td>\n",
       "      <td>831563.0</td>\n",
       "    </tr>\n",
       "    <tr>\n",
       "      <th>2</th>\n",
       "      <td>SRX19235312</td>\n",
       "      <td>21383</td>\n",
       "      <td>594909.0</td>\n",
       "    </tr>\n",
       "    <tr>\n",
       "      <th>3</th>\n",
       "      <td>SRX19235312</td>\n",
       "      <td>21251</td>\n",
       "      <td>749600.0</td>\n",
       "    </tr>\n",
       "    <tr>\n",
       "      <th>4</th>\n",
       "      <td>SRX19235312</td>\n",
       "      <td>20817</td>\n",
       "      <td>556643.0</td>\n",
       "    </tr>\n",
       "    <tr>\n",
       "      <th>...</th>\n",
       "      <td>...</td>\n",
       "      <td>...</td>\n",
       "      <td>...</td>\n",
       "    </tr>\n",
       "    <tr>\n",
       "      <th>154905795</th>\n",
       "      <td>SRX6640153</td>\n",
       "      <td>1</td>\n",
       "      <td>1.0</td>\n",
       "    </tr>\n",
       "    <tr>\n",
       "      <th>154905796</th>\n",
       "      <td>SRX6640153</td>\n",
       "      <td>1</td>\n",
       "      <td>1.0</td>\n",
       "    </tr>\n",
       "    <tr>\n",
       "      <th>154905797</th>\n",
       "      <td>SRX6640153</td>\n",
       "      <td>1</td>\n",
       "      <td>1.0</td>\n",
       "    </tr>\n",
       "    <tr>\n",
       "      <th>154905798</th>\n",
       "      <td>SRX6640153</td>\n",
       "      <td>1</td>\n",
       "      <td>1.0</td>\n",
       "    </tr>\n",
       "    <tr>\n",
       "      <th>154905799</th>\n",
       "      <td>SRX6640153</td>\n",
       "      <td>1</td>\n",
       "      <td>1.0</td>\n",
       "    </tr>\n",
       "  </tbody>\n",
       "</table>\n",
       "<p>154905800 rows × 3 columns</p>\n",
       "</div>"
      ],
      "text/plain": [
       "          SRX_accession  gene_count  umi_count\n",
       "0           SRX19235312       21828   832405.0\n",
       "1           SRX19235312       21778   831563.0\n",
       "2           SRX19235312       21383   594909.0\n",
       "3           SRX19235312       21251   749600.0\n",
       "4           SRX19235312       20817   556643.0\n",
       "...                 ...         ...        ...\n",
       "154905795    SRX6640153           1        1.0\n",
       "154905796    SRX6640153           1        1.0\n",
       "154905797    SRX6640153           1        1.0\n",
       "154905798    SRX6640153           1        1.0\n",
       "154905799    SRX6640153           1        1.0\n",
       "\n",
       "[154905800 rows x 3 columns]"
      ]
     },
     "execution_count": 13,
     "metadata": {},
     "output_type": "execute_result"
    }
   ],
   "source": [
    "# gene and umi counts\n",
    "with tiledbsoma.Experiment.open(db_uri) as exp:\n",
    "    df = (\n",
    "        exp.obs.read(column_names=[\"SRX_accession\", \"gene_count\", \"umi_count\"])\n",
    "        .concat()\n",
    "        .sort_by([(\"gene_count\", \"descending\")])\n",
    "        .to_pandas()\n",
    "    )\n",
    "df"
   ]
  },
  {
   "cell_type": "code",
   "execution_count": 14,
   "metadata": {},
   "outputs": [
    {
     "name": "stdout",
     "output_type": "stream",
     "text": [
      "count   154905800\n",
      "mean         2264\n",
      "std          1833\n",
      "min             1\n",
      "25%           868\n",
      "50%          1851\n",
      "75%          3236\n",
      "max         21828\n",
      "Name: gene_count, dtype: float64\n"
     ]
    },
    {
     "data": {
      "image/png": "[encoded data removed]"
     },
     "metadata": {
      "image/png": {
       "height": 300,
       "width": 500
      }
     },
     "output_type": "display_data"
    }
   ],
   "source": [
    "# plot genes per cell\n",
    "with pd.option_context('display.float_format', '{:.0f}'.format):\n",
    "    print(df[\"gene_count\"].describe())\n",
    "    \n",
    "p = (\n",
    "    pn.ggplot(df, pn.aes(x=\"gene_count\")) + \n",
    "    pn.geom_histogram(bins=100) +\n",
    "    pn.labs(x=\"Gene count\", y=\"Cell count\") +\n",
    "    pn.theme(figure_size=(5,3))\n",
    "    )\n",
    "p"
   ]
  },
  {
   "cell_type": "code",
   "execution_count": 15,
   "metadata": {},
   "outputs": [
    {
     "name": "stdout",
     "output_type": "stream",
     "text": [
      "count   154905800\n",
      "mean         7973\n",
      "std         11580\n",
      "min             1\n",
      "25%          1629\n",
      "50%          4363\n",
      "75%          9667\n",
      "max       1587066\n",
      "Name: umi_count, dtype: float64\n"
     ]
    },
    {
     "data": {
      "image/png": "[encoded data removed]"
     },
     "metadata": {
      "image/png": {
       "height": 300,
       "width": 500
      }
     },
     "output_type": "display_data"
    }
   ],
   "source": [
    "# plot UMIs per cell\n",
    "with pd.option_context('display.float_format', '{:.0f}'.format):\n",
    "    print(df[\"umi_count\"].describe())\n",
    "\n",
    "p = (\n",
    "    pn.ggplot(df, pn.aes(x=\"umi_count\")) + \n",
    "    pn.geom_histogram(bins=100) +\n",
    "    pn.scale_x_log10() +\n",
    "    pn.labs(x=\"UMI count\", y=\"Cell count\") +\n",
    "    pn.theme(figure_size=(5,3))\n",
    "    )\n",
    "p"
   ]
  },
  {
   "cell_type": "markdown",
   "metadata": {},
   "source": [
    "### CZI collection datasets"
   ]
  },
  {
   "cell_type": "code",
   "execution_count": 16,
   "metadata": {},
   "outputs": [
    {
     "data": {
      "text/html": [
       "<div>\n",
       "<style scoped>\n",
       "    .dataframe tbody tr th:only-of-type {\n",
       "        vertical-align: middle;\n",
       "    }\n",
       "\n",
       "    .dataframe tbody tr th {\n",
       "        vertical-align: top;\n",
       "    }\n",
       "\n",
       "    .dataframe thead th {\n",
       "        text-align: right;\n",
       "    }\n",
       "</style>\n",
       "<table border=\"1\" class=\"dataframe\">\n",
       "  <thead>\n",
       "    <tr style=\"text-align: right;\">\n",
       "      <th></th>\n",
       "      <th>czi_collection_name</th>\n",
       "      <th>count_all</th>\n",
       "    </tr>\n",
       "  </thead>\n",
       "  <tbody>\n",
       "    <tr>\n",
       "      <th>0</th>\n",
       "      <td>None</td>\n",
       "      <td>150098707</td>\n",
       "    </tr>\n",
       "  </tbody>\n",
       "</table>\n",
       "</div>"
      ],
      "text/plain": [
       "  czi_collection_name  count_all\n",
       "0                None  150098707"
      ]
     },
     "execution_count": 16,
     "metadata": {},
     "output_type": "execute_result"
    }
   ],
   "source": [
    "# NOT CZI collection datasets\n",
    "\n",
    "## create metadata query\n",
    "obs_query = tiledbsoma.AxisQuery(value_filter='czi_collection_name in [\"None\", \"NaN\"]')\n",
    "\n",
    "## run query\n",
    "with tiledbsoma.Experiment.open(db_uri) as exp:\n",
    "    df = (\n",
    "        exp.axis_query(\"RNA\", obs_query=obs_query)\n",
    "        .obs()\n",
    "        .concat()\n",
    "        .group_by([\"czi_collection_name\"])\n",
    "        .aggregate([\n",
    "            ([], 'count_all'),\n",
    "        ])\n",
    "        .sort_by([(\"count_all\", \"descending\")])\n",
    "        .to_pandas()\n",
    "    )\n",
    "df"
   ]
  },
  {
   "cell_type": "code",
   "execution_count": 17,
   "metadata": {},
   "outputs": [
    {
     "data": {
      "text/html": [
       "<div>\n",
       "<style scoped>\n",
       "    .dataframe tbody tr th:only-of-type {\n",
       "        vertical-align: middle;\n",
       "    }\n",
       "\n",
       "    .dataframe tbody tr th {\n",
       "        vertical-align: top;\n",
       "    }\n",
       "\n",
       "    .dataframe thead th {\n",
       "        text-align: right;\n",
       "    }\n",
       "</style>\n",
       "<table border=\"1\" class=\"dataframe\">\n",
       "  <thead>\n",
       "    <tr style=\"text-align: right;\">\n",
       "      <th></th>\n",
       "      <th>czi_collection_name</th>\n",
       "      <th>count_all</th>\n",
       "    </tr>\n",
       "  </thead>\n",
       "  <tbody>\n",
       "    <tr>\n",
       "      <th>0</th>\n",
       "      <td>Time-resolved Systems Immunology Reveals a Lat...</td>\n",
       "      <td>446821</td>\n",
       "    </tr>\n",
       "    <tr>\n",
       "      <th>1</th>\n",
       "      <td>Spatial proteogenomics reveals distinct and ev...</td>\n",
       "      <td>351695</td>\n",
       "    </tr>\n",
       "    <tr>\n",
       "      <th>2</th>\n",
       "      <td>Single-cell eQTL mapping identifies cell type ...</td>\n",
       "      <td>341516</td>\n",
       "    </tr>\n",
       "    <tr>\n",
       "      <th>3</th>\n",
       "      <td>Human CellCards Multi-Study CellRef 1.0 Atlas</td>\n",
       "      <td>273791</td>\n",
       "    </tr>\n",
       "    <tr>\n",
       "      <th>4</th>\n",
       "      <td>A molecular cell atlas of COVID-19 initiation ...</td>\n",
       "      <td>182719</td>\n",
       "    </tr>\n",
       "    <tr>\n",
       "      <th>...</th>\n",
       "      <td>...</td>\n",
       "      <td>...</td>\n",
       "    </tr>\n",
       "    <tr>\n",
       "      <th>59</th>\n",
       "      <td>Immune microniches shape intestinal Treg function</td>\n",
       "      <td>4650</td>\n",
       "    </tr>\n",
       "    <tr>\n",
       "      <th>60</th>\n",
       "      <td>Construction of a human cell landscape at sing...</td>\n",
       "      <td>4555</td>\n",
       "    </tr>\n",
       "    <tr>\n",
       "      <th>61</th>\n",
       "      <td>A single-cell atlas of the healthy breast tiss...</td>\n",
       "      <td>3912</td>\n",
       "    </tr>\n",
       "    <tr>\n",
       "      <th>62</th>\n",
       "      <td>Differential cell composition and split epider...</td>\n",
       "      <td>3077</td>\n",
       "    </tr>\n",
       "    <tr>\n",
       "      <th>63</th>\n",
       "      <td>Cell-type specific analysis of physiological a...</td>\n",
       "      <td>1297</td>\n",
       "    </tr>\n",
       "  </tbody>\n",
       "</table>\n",
       "<p>64 rows × 2 columns</p>\n",
       "</div>"
      ],
      "text/plain": [
       "                                  czi_collection_name  count_all\n",
       "0   Time-resolved Systems Immunology Reveals a Lat...     446821\n",
       "1   Spatial proteogenomics reveals distinct and ev...     351695\n",
       "2   Single-cell eQTL mapping identifies cell type ...     341516\n",
       "3       Human CellCards Multi-Study CellRef 1.0 Atlas     273791\n",
       "4   A molecular cell atlas of COVID-19 initiation ...     182719\n",
       "..                                                ...        ...\n",
       "59  Immune microniches shape intestinal Treg function       4650\n",
       "60  Construction of a human cell landscape at sing...       4555\n",
       "61  A single-cell atlas of the healthy breast tiss...       3912\n",
       "62  Differential cell composition and split epider...       3077\n",
       "63  Cell-type specific analysis of physiological a...       1297\n",
       "\n",
       "[64 rows x 2 columns]"
      ]
     },
     "execution_count": 17,
     "metadata": {},
     "output_type": "execute_result"
    }
   ],
   "source": [
    "# CZI collection datasets\n",
    "\n",
    "## create metadata query\n",
    "obs_query = tiledbsoma.AxisQuery(value_filter='czi_collection_name != \"None\"')\n",
    "\n",
    "## run query\n",
    "with tiledbsoma.Experiment.open(db_uri) as exp:\n",
    "    df = (\n",
    "        exp.axis_query(\"RNA\", obs_query=obs_query)\n",
    "        .obs()\n",
    "        .concat()\n",
    "        .group_by([\"czi_collection_name\"])\n",
    "        .aggregate([\n",
    "            ([], 'count_all'),\n",
    "        ])\n",
    "        .sort_by([(\"count_all\", \"descending\")])\n",
    "        .to_pandas()\n",
    "    )\n",
    "df"
   ]
  },
  {
   "cell_type": "code",
   "execution_count": 18,
   "metadata": {},
   "outputs": [
    {
     "data": {
      "text/plain": [
       "4293201"
      ]
     },
     "execution_count": 18,
     "metadata": {},
     "output_type": "execute_result"
    }
   ],
   "source": [
    "# total obs count\n",
    "df[\"count_all\"].sum()"
   ]
  },
  {
   "cell_type": "code",
   "execution_count": 19,
   "metadata": {},
   "outputs": [
    {
     "data": {
      "text/html": [
       "<div>\n",
       "<style scoped>\n",
       "    .dataframe tbody tr th:only-of-type {\n",
       "        vertical-align: middle;\n",
       "    }\n",
       "\n",
       "    .dataframe tbody tr th {\n",
       "        vertical-align: top;\n",
       "    }\n",
       "\n",
       "    .dataframe thead th {\n",
       "        text-align: right;\n",
       "    }\n",
       "</style>\n",
       "<table border=\"1\" class=\"dataframe\">\n",
       "  <thead>\n",
       "    <tr style=\"text-align: right;\">\n",
       "      <th></th>\n",
       "      <th>czi_collection_name</th>\n",
       "      <th>count_all</th>\n",
       "    </tr>\n",
       "  </thead>\n",
       "  <tbody>\n",
       "    <tr>\n",
       "      <th>0</th>\n",
       "      <td>Time-resolved Systems Immunology Reveals a Lat...</td>\n",
       "      <td>52</td>\n",
       "    </tr>\n",
       "    <tr>\n",
       "      <th>1</th>\n",
       "      <td>Cross-tissue immune cell analysis reveals tiss...</td>\n",
       "      <td>52</td>\n",
       "    </tr>\n",
       "    <tr>\n",
       "      <th>2</th>\n",
       "      <td>Spatial proteogenomics reveals distinct and ev...</td>\n",
       "      <td>46</td>\n",
       "    </tr>\n",
       "    <tr>\n",
       "      <th>3</th>\n",
       "      <td>Human CellCards Multi-Study CellRef 1.0 Atlas</td>\n",
       "      <td>43</td>\n",
       "    </tr>\n",
       "    <tr>\n",
       "      <th>4</th>\n",
       "      <td>Construction of a human cell landscape at sing...</td>\n",
       "      <td>34</td>\n",
       "    </tr>\n",
       "    <tr>\n",
       "      <th>...</th>\n",
       "      <td>...</td>\n",
       "      <td>...</td>\n",
       "    </tr>\n",
       "    <tr>\n",
       "      <th>59</th>\n",
       "      <td>A proximal-to-distal survey of healthy adult h...</td>\n",
       "      <td>1</td>\n",
       "    </tr>\n",
       "    <tr>\n",
       "      <th>60</th>\n",
       "      <td>Comparative Analysis of Commercial Single-Cell...</td>\n",
       "      <td>1</td>\n",
       "    </tr>\n",
       "    <tr>\n",
       "      <th>61</th>\n",
       "      <td>A single-cell atlas of the healthy breast tiss...</td>\n",
       "      <td>1</td>\n",
       "    </tr>\n",
       "    <tr>\n",
       "      <th>62</th>\n",
       "      <td>Direct Exposure to SARS-CoV-2 and Cigarette Sm...</td>\n",
       "      <td>1</td>\n",
       "    </tr>\n",
       "    <tr>\n",
       "      <th>63</th>\n",
       "      <td>Cell-type specific analysis of physiological a...</td>\n",
       "      <td>1</td>\n",
       "    </tr>\n",
       "  </tbody>\n",
       "</table>\n",
       "<p>64 rows × 2 columns</p>\n",
       "</div>"
      ],
      "text/plain": [
       "                                  czi_collection_name  count_all\n",
       "0   Time-resolved Systems Immunology Reveals a Lat...         52\n",
       "1   Cross-tissue immune cell analysis reveals tiss...         52\n",
       "2   Spatial proteogenomics reveals distinct and ev...         46\n",
       "3       Human CellCards Multi-Study CellRef 1.0 Atlas         43\n",
       "4   Construction of a human cell landscape at sing...         34\n",
       "..                                                ...        ...\n",
       "59  A proximal-to-distal survey of healthy adult h...          1\n",
       "60  Comparative Analysis of Commercial Single-Cell...          1\n",
       "61  A single-cell atlas of the healthy breast tiss...          1\n",
       "62  Direct Exposure to SARS-CoV-2 and Cigarette Sm...          1\n",
       "63  Cell-type specific analysis of physiological a...          1\n",
       "\n",
       "[64 rows x 2 columns]"
      ]
     },
     "execution_count": 19,
     "metadata": {},
     "output_type": "execute_result"
    }
   ],
   "source": [
    "# number of SRX accessions per czi collection\n",
    "\n",
    "## create metadata query\n",
    "obs_query = tiledbsoma.AxisQuery(value_filter='czi_collection_name != \"None\"')\n",
    "\n",
    "## run query\n",
    "with tiledbsoma.Experiment.open(db_uri) as exp:\n",
    "    df = (\n",
    "        exp.axis_query(\"RNA\", obs_query=obs_query)\n",
    "        .obs()\n",
    "        .concat()\n",
    "        .group_by([\"SRX_accession\", \"czi_collection_name\"])\n",
    "        .aggregate([])\n",
    "        .group_by([\"czi_collection_name\"])\n",
    "        .aggregate([\n",
    "            ([], 'count_all'),\n",
    "        ])\n",
    "        .sort_by([(\"count_all\", \"descending\")])\n",
    "        .to_pandas()\n",
    "    )\n",
    "df"
   ]
  },
  {
   "cell_type": "code",
   "execution_count": 20,
   "metadata": {},
   "outputs": [
    {
     "data": {
      "text/plain": [
       "629"
      ]
     },
     "execution_count": 20,
     "metadata": {},
     "output_type": "execute_result"
    }
   ],
   "source": [
    "# total SRX accession count\n",
    "df[\"count_all\"].sum()"
   ]
  },
  {
   "cell_type": "markdown",
   "metadata": {},
   "source": [
    "## Variables"
   ]
  },
  {
   "cell_type": "code",
   "execution_count": 21,
   "metadata": {},
   "outputs": [
    {
     "name": "stdout",
     "output_type": "stream",
     "text": [
      "soma_joinid: int64 not null\n",
      "var_id: large_string\n"
     ]
    }
   ],
   "source": [
    "# get colnames\n",
    "with tiledbsoma.open(db_uri) as exp:\n",
    "    print(exp.ms[\"RNA\"].var.schema)"
   ]
  },
  {
   "cell_type": "code",
   "execution_count": 22,
   "metadata": {},
   "outputs": [
    {
     "data": {
      "text/html": [
       "<div>\n",
       "<style scoped>\n",
       "    .dataframe tbody tr th:only-of-type {\n",
       "        vertical-align: middle;\n",
       "    }\n",
       "\n",
       "    .dataframe tbody tr th {\n",
       "        vertical-align: top;\n",
       "    }\n",
       "\n",
       "    .dataframe thead th {\n",
       "        text-align: right;\n",
       "    }\n",
       "</style>\n",
       "<table border=\"1\" class=\"dataframe\">\n",
       "  <thead>\n",
       "    <tr style=\"text-align: right;\">\n",
       "      <th></th>\n",
       "      <th>soma_joinid</th>\n",
       "      <th>var_id</th>\n",
       "    </tr>\n",
       "  </thead>\n",
       "  <tbody>\n",
       "    <tr>\n",
       "      <th>0</th>\n",
       "      <td>0</td>\n",
       "      <td>ENSG00000000003</td>\n",
       "    </tr>\n",
       "    <tr>\n",
       "      <th>1</th>\n",
       "      <td>1</td>\n",
       "      <td>ENSG00000000005</td>\n",
       "    </tr>\n",
       "    <tr>\n",
       "      <th>2</th>\n",
       "      <td>2</td>\n",
       "      <td>ENSG00000000419</td>\n",
       "    </tr>\n",
       "    <tr>\n",
       "      <th>3</th>\n",
       "      <td>3</td>\n",
       "      <td>ENSG00000000457</td>\n",
       "    </tr>\n",
       "    <tr>\n",
       "      <th>4</th>\n",
       "      <td>4</td>\n",
       "      <td>ENSG00000000460</td>\n",
       "    </tr>\n",
       "    <tr>\n",
       "      <th>...</th>\n",
       "      <td>...</td>\n",
       "      <td>...</td>\n",
       "    </tr>\n",
       "    <tr>\n",
       "      <th>95411</th>\n",
       "      <td>95411</td>\n",
       "      <td>ENSMMUG00000065379</td>\n",
       "    </tr>\n",
       "    <tr>\n",
       "      <th>95412</th>\n",
       "      <td>95412</td>\n",
       "      <td>ENSMMUG00000065380</td>\n",
       "    </tr>\n",
       "    <tr>\n",
       "      <th>95413</th>\n",
       "      <td>95413</td>\n",
       "      <td>ENSMMUG00000065382</td>\n",
       "    </tr>\n",
       "    <tr>\n",
       "      <th>95414</th>\n",
       "      <td>95414</td>\n",
       "      <td>ENSMMUG00000065383</td>\n",
       "    </tr>\n",
       "    <tr>\n",
       "      <th>95415</th>\n",
       "      <td>95415</td>\n",
       "      <td>ENSMMUG00000065387</td>\n",
       "    </tr>\n",
       "  </tbody>\n",
       "</table>\n",
       "<p>95416 rows × 2 columns</p>\n",
       "</div>"
      ],
      "text/plain": [
       "       soma_joinid              var_id\n",
       "0                0     ENSG00000000003\n",
       "1                1     ENSG00000000005\n",
       "2                2     ENSG00000000419\n",
       "3                3     ENSG00000000457\n",
       "4                4     ENSG00000000460\n",
       "...            ...                 ...\n",
       "95411        95411  ENSMMUG00000065379\n",
       "95412        95412  ENSMMUG00000065380\n",
       "95413        95413  ENSMMUG00000065382\n",
       "95414        95414  ENSMMUG00000065383\n",
       "95415        95415  ENSMMUG00000065387\n",
       "\n",
       "[95416 rows x 2 columns]"
      ]
     },
     "execution_count": 22,
     "metadata": {},
     "output_type": "execute_result"
    }
   ],
   "source": [
    "# read in var metadata\n",
    "with tiledbsoma.Experiment.open(db_uri) as exp:\n",
    "    df = (\n",
    "        exp.ms[\"RNA\"]\n",
    "        .var.read()\n",
    "        .concat()\n",
    "        .to_pandas()\n",
    "    )\n",
    "df"
   ]
  },
  {
   "cell_type": "code",
   "execution_count": 23,
   "metadata": {},
   "outputs": [
    {
     "data": {
      "text/plain": [
       "var_id\n",
       "ENSG       36601\n",
       "ENSMUSG    32285\n",
       "ENSMMUG    26530\n",
       "Name: count, dtype: int64"
      ]
     },
     "execution_count": 23,
     "metadata": {},
     "output_type": "execute_result"
    }
   ],
   "source": [
    "# count the number of Ensembl IDs per organism prefix\n",
    "df[\"var_id\"].replace(r\"\\d+$\", \"\", regex=True).value_counts()"
   ]
  },
  {
   "cell_type": "markdown",
   "metadata": {},
   "source": [
    "# Update database"
   ]
  },
  {
   "cell_type": "code",
   "execution_count": 26,
   "metadata": {},
   "outputs": [
    {
     "name": "stdout",
     "output_type": "stream",
     "text": [
      "soma_joinid: int64 not null\n",
      "var_id: large_string\n"
     ]
    }
   ],
   "source": [
    "# get colnames\n",
    "with tiledbsoma.open(db_uri) as exp:\n",
    "    print(exp.ms[\"RNA\"].var.schema)"
   ]
  },
  {
   "cell_type": "code",
   "execution_count": 27,
   "metadata": {},
   "outputs": [
    {
     "name": "stdout",
     "output_type": "stream",
     "text": [
      "(95416, 2)\n"
     ]
    },
    {
     "data": {
      "text/html": [
       "<div>\n",
       "<style scoped>\n",
       "    .dataframe tbody tr th:only-of-type {\n",
       "        vertical-align: middle;\n",
       "    }\n",
       "\n",
       "    .dataframe tbody tr th {\n",
       "        vertical-align: top;\n",
       "    }\n",
       "\n",
       "    .dataframe thead th {\n",
       "        text-align: right;\n",
       "    }\n",
       "</style>\n",
       "<table border=\"1\" class=\"dataframe\">\n",
       "  <thead>\n",
       "    <tr style=\"text-align: right;\">\n",
       "      <th></th>\n",
       "      <th>soma_joinid</th>\n",
       "      <th>var_id</th>\n",
       "    </tr>\n",
       "  </thead>\n",
       "  <tbody>\n",
       "    <tr>\n",
       "      <th>0</th>\n",
       "      <td>0</td>\n",
       "      <td>ENSG00000000003</td>\n",
       "    </tr>\n",
       "    <tr>\n",
       "      <th>1</th>\n",
       "      <td>1</td>\n",
       "      <td>ENSG00000000005</td>\n",
       "    </tr>\n",
       "    <tr>\n",
       "      <th>2</th>\n",
       "      <td>2</td>\n",
       "      <td>ENSG00000000419</td>\n",
       "    </tr>\n",
       "    <tr>\n",
       "      <th>3</th>\n",
       "      <td>3</td>\n",
       "      <td>ENSG00000000457</td>\n",
       "    </tr>\n",
       "    <tr>\n",
       "      <th>4</th>\n",
       "      <td>4</td>\n",
       "      <td>ENSG00000000460</td>\n",
       "    </tr>\n",
       "  </tbody>\n",
       "</table>\n",
       "</div>"
      ],
      "text/plain": [
       "   soma_joinid           var_id\n",
       "0            0  ENSG00000000003\n",
       "1            1  ENSG00000000005\n",
       "2            2  ENSG00000000419\n",
       "3            3  ENSG00000000457\n",
       "4            4  ENSG00000000460"
      ]
     },
     "execution_count": 27,
     "metadata": {},
     "output_type": "execute_result"
    }
   ],
   "source": [
    "# read in the var (gene) level metadata\n",
    "with tiledbsoma.Experiment.open(db_uri) as exp:\n",
    "    df = (\n",
    "        exp.ms[\"RNA\"]\n",
    "        .var.read()\n",
    "        .concat()\n",
    "        .to_pandas()\n",
    "    )\n",
    "print(df.shape)\n",
    "df.head()"
   ]
  },
  {
   "cell_type": "code",
   "execution_count": 29,
   "metadata": {},
   "outputs": [
    {
     "data": {
      "text/html": [
       "<div>\n",
       "<style scoped>\n",
       "    .dataframe tbody tr th:only-of-type {\n",
       "        vertical-align: middle;\n",
       "    }\n",
       "\n",
       "    .dataframe tbody tr th {\n",
       "        vertical-align: top;\n",
       "    }\n",
       "\n",
       "    .dataframe thead th {\n",
       "        text-align: right;\n",
       "    }\n",
       "</style>\n",
       "<table border=\"1\" class=\"dataframe\">\n",
       "  <thead>\n",
       "    <tr style=\"text-align: right;\">\n",
       "      <th></th>\n",
       "      <th>soma_joinid</th>\n",
       "      <th>var_id</th>\n",
       "      <th>organism</th>\n",
       "    </tr>\n",
       "  </thead>\n",
       "  <tbody>\n",
       "    <tr>\n",
       "      <th>0</th>\n",
       "      <td>0</td>\n",
       "      <td>ENSG00000000003</td>\n",
       "      <td>Homo sapiens</td>\n",
       "    </tr>\n",
       "    <tr>\n",
       "      <th>1</th>\n",
       "      <td>1</td>\n",
       "      <td>ENSG00000000005</td>\n",
       "      <td>Homo sapiens</td>\n",
       "    </tr>\n",
       "    <tr>\n",
       "      <th>2</th>\n",
       "      <td>2</td>\n",
       "      <td>ENSG00000000419</td>\n",
       "      <td>Homo sapiens</td>\n",
       "    </tr>\n",
       "    <tr>\n",
       "      <th>3</th>\n",
       "      <td>3</td>\n",
       "      <td>ENSG00000000457</td>\n",
       "      <td>Homo sapiens</td>\n",
       "    </tr>\n",
       "    <tr>\n",
       "      <th>4</th>\n",
       "      <td>4</td>\n",
       "      <td>ENSG00000000460</td>\n",
       "      <td>Homo sapiens</td>\n",
       "    </tr>\n",
       "    <tr>\n",
       "      <th>...</th>\n",
       "      <td>...</td>\n",
       "      <td>...</td>\n",
       "      <td>...</td>\n",
       "    </tr>\n",
       "    <tr>\n",
       "      <th>95411</th>\n",
       "      <td>95411</td>\n",
       "      <td>ENSMMUG00000065379</td>\n",
       "      <td>Macaca mulatta</td>\n",
       "    </tr>\n",
       "    <tr>\n",
       "      <th>95412</th>\n",
       "      <td>95412</td>\n",
       "      <td>ENSMMUG00000065380</td>\n",
       "      <td>Macaca mulatta</td>\n",
       "    </tr>\n",
       "    <tr>\n",
       "      <th>95413</th>\n",
       "      <td>95413</td>\n",
       "      <td>ENSMMUG00000065382</td>\n",
       "      <td>Macaca mulatta</td>\n",
       "    </tr>\n",
       "    <tr>\n",
       "      <th>95414</th>\n",
       "      <td>95414</td>\n",
       "      <td>ENSMMUG00000065383</td>\n",
       "      <td>Macaca mulatta</td>\n",
       "    </tr>\n",
       "    <tr>\n",
       "      <th>95415</th>\n",
       "      <td>95415</td>\n",
       "      <td>ENSMMUG00000065387</td>\n",
       "      <td>Macaca mulatta</td>\n",
       "    </tr>\n",
       "  </tbody>\n",
       "</table>\n",
       "<p>95416 rows × 3 columns</p>\n",
       "</div>"
      ],
      "text/plain": [
       "       soma_joinid              var_id        organism\n",
       "0                0     ENSG00000000003    Homo sapiens\n",
       "1                1     ENSG00000000005    Homo sapiens\n",
       "2                2     ENSG00000000419    Homo sapiens\n",
       "3                3     ENSG00000000457    Homo sapiens\n",
       "4                4     ENSG00000000460    Homo sapiens\n",
       "...            ...                 ...             ...\n",
       "95411        95411  ENSMMUG00000065379  Macaca mulatta\n",
       "95412        95412  ENSMMUG00000065380  Macaca mulatta\n",
       "95413        95413  ENSMMUG00000065382  Macaca mulatta\n",
       "95414        95414  ENSMMUG00000065383  Macaca mulatta\n",
       "95415        95415  ENSMMUG00000065387  Macaca mulatta\n",
       "\n",
       "[95416 rows x 3 columns]"
      ]
     },
     "execution_count": 29,
     "metadata": {},
     "output_type": "execute_result"
    }
   ],
   "source": [
    "import re\n",
    "def ensemble_to_org(gene_id):\n",
    "    IDX = {\n",
    "        \"ENSG\": \"Homo sapiens\",\n",
    "        \"ENSMUSG\": \"Mus musculus\",\n",
    "        \"ENSMMUG\": \"Macaca mulatta\",\n",
    "    }\n",
    "    prefix = re.sub(r\"[0-9]+\", \"\", gene_id)\n",
    "    return IDX.get(prefix, \"other\")\n",
    "\n",
    "df[\"organism\"] = df[\"var_id\"].apply(ensemble_to_org)\n",
    "df"
   ]
  },
  {
   "cell_type": "markdown",
   "metadata": {},
   "source": [
    "***"
   ]
  },
  {
   "cell_type": "markdown",
   "metadata": {},
   "source": [
    "# Sandbox"
   ]
  },
  {
   "cell_type": "code",
   "execution_count": 24,
   "metadata": {},
   "outputs": [
    {
     "name": "stdout",
     "output_type": "stream",
     "text": [
      "(3, 15)\n"
     ]
    },
    {
     "data": {
      "text/html": [
       "<div>\n",
       "<style scoped>\n",
       "    .dataframe tbody tr th:only-of-type {\n",
       "        vertical-align: middle;\n",
       "    }\n",
       "\n",
       "    .dataframe tbody tr th {\n",
       "        vertical-align: top;\n",
       "    }\n",
       "\n",
       "    .dataframe thead th {\n",
       "        text-align: right;\n",
       "    }\n",
       "</style>\n",
       "<table border=\"1\" class=\"dataframe\">\n",
       "  <thead>\n",
       "    <tr style=\"text-align: right;\">\n",
       "      <th></th>\n",
       "      <th>soma_joinid</th>\n",
       "      <th>obs_id</th>\n",
       "      <th>gene_count</th>\n",
       "      <th>umi_count</th>\n",
       "      <th>barcode</th>\n",
       "      <th>SRX_accession</th>\n",
       "      <th>lib_prep</th>\n",
       "      <th>tech_10x</th>\n",
       "      <th>organism</th>\n",
       "      <th>tissue</th>\n",
       "      <th>disease</th>\n",
       "      <th>purturbation</th>\n",
       "      <th>cell_line</th>\n",
       "      <th>czi_collection_id</th>\n",
       "      <th>czi_collection_name</th>\n",
       "    </tr>\n",
       "  </thead>\n",
       "  <tbody>\n",
       "    <tr>\n",
       "      <th>0</th>\n",
       "      <td>0</td>\n",
       "      <td>AAACCCAAGGGAGATA_SRX10681588</td>\n",
       "      <td>1677</td>\n",
       "      <td>4085.0</td>\n",
       "      <td>AAACCCAAGGGAGATA</td>\n",
       "      <td>SRX10681588</td>\n",
       "      <td>10x_Genomics</td>\n",
       "      <td>3_prime_gex</td>\n",
       "      <td>human</td>\n",
       "      <td>blood</td>\n",
       "      <td>not specified</td>\n",
       "      <td>lean</td>\n",
       "      <td>not applicable</td>\n",
       "      <td>None</td>\n",
       "      <td>None</td>\n",
       "    </tr>\n",
       "    <tr>\n",
       "      <th>1</th>\n",
       "      <td>1</td>\n",
       "      <td>AAACCCAAGGTTGGAC_SRX10681588</td>\n",
       "      <td>1371</td>\n",
       "      <td>3866.0</td>\n",
       "      <td>AAACCCAAGGTTGGAC</td>\n",
       "      <td>SRX10681588</td>\n",
       "      <td>10x_Genomics</td>\n",
       "      <td>3_prime_gex</td>\n",
       "      <td>human</td>\n",
       "      <td>blood</td>\n",
       "      <td>not specified</td>\n",
       "      <td>lean</td>\n",
       "      <td>not applicable</td>\n",
       "      <td>None</td>\n",
       "      <td>None</td>\n",
       "    </tr>\n",
       "    <tr>\n",
       "      <th>2</th>\n",
       "      <td>2</td>\n",
       "      <td>AAACCCACAGTGGTGA_SRX10681588</td>\n",
       "      <td>1891</td>\n",
       "      <td>3936.0</td>\n",
       "      <td>AAACCCACAGTGGTGA</td>\n",
       "      <td>SRX10681588</td>\n",
       "      <td>10x_Genomics</td>\n",
       "      <td>3_prime_gex</td>\n",
       "      <td>human</td>\n",
       "      <td>blood</td>\n",
       "      <td>not specified</td>\n",
       "      <td>lean</td>\n",
       "      <td>not applicable</td>\n",
       "      <td>None</td>\n",
       "      <td>None</td>\n",
       "    </tr>\n",
       "  </tbody>\n",
       "</table>\n",
       "</div>"
      ],
      "text/plain": [
       "   soma_joinid                        obs_id  gene_count  umi_count  \\\n",
       "0            0  AAACCCAAGGGAGATA_SRX10681588        1677     4085.0   \n",
       "1            1  AAACCCAAGGTTGGAC_SRX10681588        1371     3866.0   \n",
       "2            2  AAACCCACAGTGGTGA_SRX10681588        1891     3936.0   \n",
       "\n",
       "            barcode SRX_accession      lib_prep     tech_10x organism tissue  \\\n",
       "0  AAACCCAAGGGAGATA   SRX10681588  10x_Genomics  3_prime_gex    human  blood   \n",
       "1  AAACCCAAGGTTGGAC   SRX10681588  10x_Genomics  3_prime_gex    human  blood   \n",
       "2  AAACCCACAGTGGTGA   SRX10681588  10x_Genomics  3_prime_gex    human  blood   \n",
       "\n",
       "         disease purturbation       cell_line czi_collection_id  \\\n",
       "0  not specified         lean  not applicable              None   \n",
       "1  not specified         lean  not applicable              None   \n",
       "2  not specified         lean  not applicable              None   \n",
       "\n",
       "  czi_collection_name  \n",
       "0                None  \n",
       "1                None  \n",
       "2                None  "
      ]
     },
     "execution_count": 24,
     "metadata": {},
     "output_type": "execute_result"
    }
   ],
   "source": [
    "# view all metadata\n",
    "with tiledbsoma.Experiment.open(db_uri) as exp:\n",
    "    df = (\n",
    "        exp.obs.read()\n",
    "        .concat()\n",
    "        .slice(0,3) \n",
    "        .to_pandas()\n",
    "    )\n",
    "pd.set_option('display.max_columns', 100)\n",
    "print(df.shape)\n",
    "df.head()"
   ]
  },
  {
   "cell_type": "code",
   "execution_count": null,
   "metadata": {},
   "outputs": [],
   "source": [
    "# genes per obs function\n",
    "def get_genes_per_obs(db_uri, start, end):\n",
    "    with tiledbsoma.Experiment.open(db_uri) as exp:\n",
    "        data = (\n",
    "            exp.ms[\"RNA\"].X[\"data\"]\n",
    "            .read((slice(start, end),)).coos().concat()\n",
    "        )\n",
    "    return np.diff(data.to_scipy().tocsr().indptr)[start:end]\n",
    "\n",
    "get_genes_per_obs(db_uri, 0, 10)"
   ]
  },
  {
   "cell_type": "code",
   "execution_count": null,
   "metadata": {},
   "outputs": [],
   "source": [
    "def get_umi_counts_per_obs(db_uri, start, end):\n",
    "    with tiledbsoma.Experiment.open(db_uri) as exp:\n",
    "        data = exp.ms[\"RNA\"].X[\"data\"].read((slice(start, end),)).coos().concat()\n",
    "    sp = data.to_scipy().tocsr()\n",
    "    return sp.sum(axis=1).A1[start:end]\n",
    "\n",
    "get_umi_counts_per_obs(db_uri, 0, 3)"
   ]
  },
  {
   "cell_type": "code",
   "execution_count": 52,
   "metadata": {},
   "outputs": [
    {
     "data": {
      "text/plain": [
       "AnnData object with n_obs × n_vars = 18041 × 68886\n",
       "    obs: 'soma_joinid', 'obs_id', 'gene_count', 'umi_count', 'barcode', 'SRX_accession', 'lib_prep', 'tech_10x', 'organism', 'tissue', 'disease', 'purturbation', 'cell_line', 'czi_collection_id', 'czi_collection_name'\n",
       "    var: 'soma_joinid', 'var_id', 'gene_symbols', 'feature_types'"
      ]
     },
     "execution_count": 52,
     "metadata": {},
     "output_type": "execute_result"
    }
   ],
   "source": [
    "# slice by metadata and return as anndata\n",
    "obs_query = tiledbsoma.AxisQuery(value_filter='SRX_accession in [\"SRX24651627\"]')\n",
    "\n",
    "with tiledbsoma.Experiment.open(db_uri) as exp:\n",
    "    adata = exp.axis_query(\"RNA\", obs_query=obs_query).to_anndata(X_name=\"data\")\n",
    "adata"
   ]
  },
  {
   "cell_type": "code",
   "execution_count": 56,
   "metadata": {},
   "outputs": [
    {
     "name": "stdout",
     "output_type": "stream",
     "text": [
      "       soma_joinid                        obs_id  gene_count  umi_count  \\\n",
      "0           441222  AAACCCAAGTATGTAG_SRX24651627        1727     2848.0   \n",
      "1           441223  AAACCCACACATGTTG_SRX24651627        5073    17065.0   \n",
      "2           441224  AAACCCACAGCGGTCT_SRX24651627        3216     7410.0   \n",
      "3           441225  AAACCCAGTACTTGTG_SRX24651627        4358    14341.0   \n",
      "4           441226  AAACCCAGTAGACTGG_SRX24651627        2850     6482.0   \n",
      "...            ...                           ...         ...        ...   \n",
      "18036       459258  TTTGTTGTCGGCATAT_SRX24651627        2689     6617.0   \n",
      "18037       459259  TTTGTTGTCGGTTGTA_SRX24651627        2628     5367.0   \n",
      "18038       459260  TTTGTTGTCTCTATGT_SRX24651627        4538    14614.0   \n",
      "18039       459261  TTTGTTGTCTGTGCAA_SRX24651627        3512     8211.0   \n",
      "18040       459262  TTTGTTGTCTTAGTTC_SRX24651627        1250     1992.0   \n",
      "\n",
      "                barcode SRX_accession      lib_prep        tech_10x organism  \\\n",
      "0      AAACCCAAGTATGTAG   SRX24651627  10x_Genomics  not_applicable    mouse   \n",
      "1      AAACCCACACATGTTG   SRX24651627  10x_Genomics  not_applicable    mouse   \n",
      "2      AAACCCACAGCGGTCT   SRX24651627  10x_Genomics  not_applicable    mouse   \n",
      "3      AAACCCAGTACTTGTG   SRX24651627  10x_Genomics  not_applicable    mouse   \n",
      "4      AAACCCAGTAGACTGG   SRX24651627  10x_Genomics  not_applicable    mouse   \n",
      "...                 ...           ...           ...             ...      ...   \n",
      "18036  TTTGTTGTCGGCATAT   SRX24651627  10x_Genomics  not_applicable    mouse   \n",
      "18037  TTTGTTGTCGGTTGTA   SRX24651627  10x_Genomics  not_applicable    mouse   \n",
      "18038  TTTGTTGTCTCTATGT   SRX24651627  10x_Genomics  not_applicable    mouse   \n",
      "18039  TTTGTTGTCTGTGCAA   SRX24651627  10x_Genomics  not_applicable    mouse   \n",
      "18040  TTTGTTGTCTTAGTTC   SRX24651627  10x_Genomics  not_applicable    mouse   \n",
      "\n",
      "      tissue              disease                   purturbation  cell_line  \\\n",
      "0      liver  Alzheimer’s Disease  d-galactose and PTM treatment  BV2 cells   \n",
      "1      liver  Alzheimer’s Disease  d-galactose and PTM treatment  BV2 cells   \n",
      "2      liver  Alzheimer’s Disease  d-galactose and PTM treatment  BV2 cells   \n",
      "3      liver  Alzheimer’s Disease  d-galactose and PTM treatment  BV2 cells   \n",
      "4      liver  Alzheimer’s Disease  d-galactose and PTM treatment  BV2 cells   \n",
      "...      ...                  ...                            ...        ...   \n",
      "18036  liver  Alzheimer’s Disease  d-galactose and PTM treatment  BV2 cells   \n",
      "18037  liver  Alzheimer’s Disease  d-galactose and PTM treatment  BV2 cells   \n",
      "18038  liver  Alzheimer’s Disease  d-galactose and PTM treatment  BV2 cells   \n",
      "18039  liver  Alzheimer’s Disease  d-galactose and PTM treatment  BV2 cells   \n",
      "18040  liver  Alzheimer’s Disease  d-galactose and PTM treatment  BV2 cells   \n",
      "\n",
      "      czi_collection_id czi_collection_name  \n",
      "0                  None                None  \n",
      "1                  None                None  \n",
      "2                  None                None  \n",
      "3                  None                None  \n",
      "4                  None                None  \n",
      "...                 ...                 ...  \n",
      "18036              None                None  \n",
      "18037              None                None  \n",
      "18038              None                None  \n",
      "18039              None                None  \n",
      "18040              None                None  \n",
      "\n",
      "[18041 rows x 15 columns]\n"
     ]
    }
   ],
   "source": [
    "with tiledbsoma.Experiment.open(db_uri) as exp:\n",
    "    print(\n",
    "        exp.axis_query(\"RNA\", obs_query=obs_query)\n",
    "        .obs()\n",
    "        .concat()\n",
    "        .to_pandas()\n",
    "    )"
   ]
  },
  {
   "cell_type": "code",
   "execution_count": 23,
   "metadata": {},
   "outputs": [],
   "source": [
    "import scanpy as sc"
   ]
  },
  {
   "cell_type": "code",
   "execution_count": 58,
   "metadata": {},
   "outputs": [
    {
     "data": {
      "text/plain": [
       "AnnData object with n_obs × n_vars = 14844 × 32285\n",
       "    var: 'gene_ids', 'feature_types'"
      ]
     },
     "execution_count": 58,
     "metadata": {},
     "output_type": "execute_result"
    }
   ],
   "source": [
    "p = \"/processed_datasets/scRecount/scRecounter/prod3/SCRECOUNTER_2025-01-16_14-55-07/STAR/SRX23665550/GeneFull/filtered/\"\n",
    "adata = sc.read_10x_mtx(p)\n",
    "adata"
   ]
  },
  {
   "cell_type": "code",
   "execution_count": 60,
   "metadata": {},
   "outputs": [
    {
     "data": {
      "text/plain": [
       "Index(['AAACCCAAGAATTGTG', 'AAACCCAAGCCTTTCC', 'AAACCCAAGCGTTCCG',\n",
       "       'AAACCCAAGGTATAGT', 'AAACCCAAGTTTCGGT', 'AAACCCACAAAGCACG',\n",
       "       'AAACCCACAAATACAG', 'AAACCCACACATATGC', 'AAACCCACACCCAAGC',\n",
       "       'AAACCCACACCTATCC',\n",
       "       ...\n",
       "       'TTTGGTTTCTATCGTT', 'TTTGTTGAGCCTGGAA', 'TTTGTTGAGGAGGGTG',\n",
       "       'TTTGTTGAGGGCTGAT', 'TTTGTTGAGTATGAAC', 'TTTGTTGCAACCCTCT',\n",
       "       'TTTGTTGCACATAGCT', 'TTTGTTGCACGTTCGG', 'TTTGTTGCACTCCCTA',\n",
       "       'TTTGTTGGTCTACATG'],\n",
       "      dtype='object', length=14844)"
      ]
     },
     "execution_count": 60,
     "metadata": {},
     "output_type": "execute_result"
    }
   ],
   "source": [
    "# get obs_id\n",
    "adata.obs.index"
   ]
  },
  {
   "cell_type": "code",
   "execution_count": 28,
   "metadata": {},
   "outputs": [
    {
     "data": {
      "text/plain": [
       "array([ 8611.,  2874.,  4688., ..., 14166.,  6238.,  5111.], dtype=float32)"
      ]
     },
     "execution_count": 28,
     "metadata": {},
     "output_type": "execute_result"
    }
   ],
   "source": [
    "#(adata.X > 0).sum(axis=1).A1\n",
    "adata.X.sum(axis=1).A1"
   ]
  },
  {
   "cell_type": "code",
   "execution_count": 31,
   "metadata": {},
   "outputs": [
    {
     "data": {
      "text/plain": [
       "(14844, 32285)"
      ]
     },
     "execution_count": 31,
     "metadata": {},
     "output_type": "execute_result"
    }
   ],
   "source": [
    "(adata.X > 0).shape"
   ]
  }
 ],
 "metadata": {
  "kernelspec": {
   "display_name": "tiledb",
   "language": "python",
   "name": "python3"
  },
  "language_info": {
   "codemirror_mode": {
    "name": "ipython",
    "version": 3
   },
   "file_extension": ".py",
   "mimetype": "text/x-python",
   "name": "python",
   "nbconvert_exporter": "python",
   "pygments_lexer": "ipython3",
   "version": "3.12.8"
  }
 },
 "nbformat": 4,
 "nbformat_minor": 2
}
