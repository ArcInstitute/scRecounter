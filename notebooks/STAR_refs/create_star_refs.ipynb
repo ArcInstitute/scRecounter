{
 "cells": [
  {
   "cell_type": "markdown",
   "metadata": {},
   "source": [
    "# Goals\n",
    "\n",
    "* Create STAR reference genome index for various species"
   ]
  },
  {
   "cell_type": "markdown",
   "metadata": {},
   "source": [
    "# Vars"
   ]
  },
  {
   "cell_type": "code",
   "execution_count": 4,
   "metadata": {},
   "outputs": [],
   "source": [
    "base_dir = \"/scratch/multiomics/nickyoungblut/star_refs\"\n",
    "script_dir = \"../../scripts/\""
   ]
  },
  {
   "cell_type": "markdown",
   "metadata": {},
   "source": [
    "# Init"
   ]
  },
  {
   "cell_type": "code",
   "execution_count": 5,
   "metadata": {},
   "outputs": [],
   "source": [
    "import os\n",
    "from glob import glob"
   ]
  },
  {
   "cell_type": "code",
   "execution_count": 6,
   "metadata": {},
   "outputs": [],
   "source": [
    "os.makedirs(base_dir, exist_ok=True)"
   ]
  },
  {
   "cell_type": "markdown",
   "metadata": {},
   "source": [
    "# Rattus norvegicus"
   ]
  },
  {
   "cell_type": "code",
   "execution_count": 9,
   "metadata": {},
   "outputs": [],
   "source": [
    "# set the organism\n",
    "organism = \"Rattus norvegicus\""
   ]
  },
  {
   "cell_type": "code",
   "execution_count": 10,
   "metadata": {},
   "outputs": [],
   "source": [
    "# format\n",
    "org_str = organism.replace(\" \", \"_\")\n",
    "work_dir = os.path.join(base_dir, org_str)\n",
    "os.makedirs(work_dir, exist_ok=True)"
   ]
  },
  {
   "cell_type": "code",
   "execution_count": 14,
   "metadata": {},
   "outputs": [
    {
     "name": "stdout",
     "output_type": "stream",
     "text": [
      "\u001b[32m10:14:24\u001b[0m \u001b[1m|\u001b[0m \u001b[34mINFO\u001b[0m \u001b[1m|\u001b[0m Downloading assembly summaries from NCBI, this will take a while...\n",
      "genbank_historical: 75.7k genomes [00:01, 58.3k genomes/s]\u001b[0m\u001b[0m\n",
      "refseq_historical: 97.1k genomes [00:00, 109k genomes/s]\u001b[0m\u001b[0m\n",
      "genbank: 2.84M genomes [00:24, 114k genomes/s]\u001b[0mm\u001b[0m\n",
      "refseq: 427k genomes [00:01, 241k genomes/s]\u001b[0mmm\u001b[0m\n",
      "\u001b[0m\u001b[1mname                 provider accession         tax_id annotation species                                  other_info                              \u001b[0m\n",
      "\u001b[0mUTH_Rnor_SHR_Utx     NCBI     GCA_023515785.1    10116     \u001b[31m✗\u001b[39m      Rattus norvegicus                        University of Kentucky                  \u001b[0m\n",
      "\u001b[0mUTH_Rnor_WKY_Bbb_1.0 NCBI     GCA_023515805.1    10116     \u001b[31m✗\u001b[39m      Rattus norvegicus                        Inbred Rat Genome Sequencing Project (UTH/UK/UofL)\u001b[0m\n",
      "\u001b[0mRnor_6.0             NCBI     GCA_000001895.4    10116     \u001b[32m✓\u001b[39m      Rattus norvegicus                        Rat Genome Sequencing Consortium        \u001b[0m\n",
      "\u001b[0mRn_Celera            NCBI     GCA_000002265.1    10116     \u001b[32m✓\u001b[39m      Rattus norvegicus                        Celera Genomics                         \u001b[0m\n",
      "\u001b[0mASM317907v1          NCBI     GCA_003179075.1    10567     \u001b[32m✓\u001b[39m      Rattus norvegicus papillomavirus 2       Skin Cancer Center Charite (HTCC), Clinic for Dermatlogy\u001b[0m\n",
      "\u001b[0mmRatBN7.2            NCBI     GCA_015227675.2    10116     \u001b[32m✓\u001b[39m      Rattus norvegicus                        Wellcome Sanger Institute               \u001b[0m\n",
      "\u001b[0mASM18071v1           NCBI     GCA_000180715.1    10116     \u001b[31m✗\u001b[39m      Rattus norvegicus                        STAR - a SNP and haplotype map for the rat\u001b[0m\n",
      "\u001b[0mASM18077v1           NCBI     GCA_000180775.1    10116     \u001b[31m✗\u001b[39m      Rattus norvegicus                        STAR - a SNP and haplotype map for the rat\u001b[0m\n",
      "\u001b[0mASM18079v1           NCBI     GCA_000180795.1    10116     \u001b[31m✗\u001b[39m      Rattus norvegicus                        STAR - a SNP and haplotype map for the rat\u001b[0m\n",
      "\u001b[0mASM18101v1           NCBI     GCA_000181015.1    10116     \u001b[31m✗\u001b[39m      Rattus norvegicus                        STAR - a SNP and haplotype map for the rat\u001b[0m\n",
      "\u001b[0mASM18103v1           NCBI     GCA_000181035.1    10116     \u001b[31m✗\u001b[39m      Rattus norvegicus                        STAR - a SNP and haplotype map for the rat\u001b[0m\n",
      "\u001b[0mViralProj290310      NCBI     GCF_001184865.1  2955300     \u001b[32m✓\u001b[39m      Rattus norvegicus polyomavirus 1         FG12, Robert Koch Institute             \u001b[0m\n",
      "\u001b[0mViralProj304315      NCBI     GCF_001461525.1    10567     \u001b[32m✓\u001b[39m      Rattus norvegicus papillomavirus 3       Centre for GeoGenetics, National History Museum of Denmark, University of Copenhagen\u001b[0m\n",
      "\u001b[0mASM317855v1          NCBI     GCA_003178555.1  1176145     \u001b[32m✓\u001b[39m      Rattus norvegicus papillomavirus 1       Clinic for Dermatology, Venereology and Allergology, Charite - Universitaetsmedizin Berlin, Berlin, Germany, Skin Cancer Center Charite (HTCC)\u001b[0m\n",
      "\u001b[0mmRatBN7.1_alternate_haplotype NCBI     GCA_015244455.1    10116     \u001b[31m✗\u001b[39m      Rattus norvegicus                        Wellcome Sanger Institute               \u001b[0m\n",
      "\u001b[0mUTH_Rnor_SHRSP_BbbUtx_1.0 NCBI     GCA_021556685.1    10116     \u001b[31m✗\u001b[39m      Rattus norvegicus                        Inbred Rat Genome Sequencing Project (UTH/UK/UofL)\u001b[0m\n",
      "\u001b[0mUTH_Rnor_SHR_Utx_2.0 NCBI     GCA_023515785.2    10116     \u001b[31m✗\u001b[39m      Rattus norvegicus                        Inbred Rat Genome Sequencing Project (UTH/UK/UofL)\u001b[0m\n",
      "\u001b[0mGenome_assembly_UTH_Rnor_WKY_Bbb_1.1 NCBI     GCA_023515805.2    10116     \u001b[31m✗\u001b[39m      Rattus norvegicus                        Inbred Rat Genome Sequencing Project (UTH/UK/UofL)\u001b[0m\n",
      "\u001b[0mASM3125295v1         NCBI     GCA_031252955.1  2832084     \u001b[32m✓\u001b[39m      Wenzhou Rattus norvegicus orthohepevirus 1 Department of Zoonosis, National Institute for Communicable Disease Control and Prevention, Chinese Center for Disease Control and Prevention\u001b[0m\n",
      "\u001b[0mASM3125299v1         NCBI     GCA_031252995.1  2832089     \u001b[32m✓\u001b[39m      Wenzhou Rattus norvegicus pegivirus 1    Department of Zoonosis, National Institute for Communicable Disease Control and Prevention, Chinese Center for Disease Control and Prevention\u001b[0m\n",
      "\u001b[0mASM3127439v1         NCBI     GCA_031274395.1  2877485     \u001b[32m✓\u001b[39m      Wenzhou Rattus norvegicus jeilongvirus 1 Department of Zoonosis, National Institute for Communicable Disease Control and Prevention, Chinese Center for Disease Control and Prevention\u001b[0m\n",
      "\u001b[0mASM3154440v1         NCBI     GCA_031544405.1  2877489     \u001b[32m✓\u001b[39m      Wenzhou Rattus norvegicus orthohantavirus 1 Department of Zoonosis, National Institute for Communicable Disease Control and Prevention, Chinese Center for Disease Control and Prevention\u001b[0m\n",
      "\u001b[0mASM3154456v1         NCBI     GCA_031544565.1  2928986     \u001b[32m✓\u001b[39m      Jingmen Rattus norvegicus orthohantavirus 1 Department of Zoonosis, National Institute for Communicable Disease Control and Prevention, Chinese Center for Disease Control and Prevention\u001b[0m\n",
      "\u001b[0mGRCr8                NCBI     GCF_036323735.1    10116     \u001b[32m✓\u001b[39m      Rattus norvegicus                        Genome Reference Consortium             \u001b[0m\n",
      "\u001b[0mF344_StmMcwi         NCBI     GCA_041222355.1    10116     \u001b[31m✗\u001b[39m      Rattus norvegicus                        University of Kentucky                  \u001b[0m\n",
      "\u001b[0mLyon_Hypertensive    NCBI     GCA_045687965.1    10116     \u001b[31m✗\u001b[39m      Rattus norvegicus                        University of Kentucky                  \u001b[0m\n",
      "\u001b[0mLyon_Normot_Rat_Genome NCBI     GCA_045687995.1    10116     \u001b[31m✗\u001b[39m      Rattus norvegicus                        University of Kentucky                  \u001b[0m\n",
      "\u001b[0mDahl_SR_JrHsd        NCBI     GCA_045688005.1    10116     \u001b[31m✗\u001b[39m      Rattus norvegicus                        University of Kentucky                  \u001b[0m\n",
      "\u001b[0mrnor5.0_scrapheap    NCBI     GCA_900014975.1    10116     \u001b[31m✗\u001b[39m      Rattus norvegicus                        NKI                                     \u001b[0m\n",
      "\u001b[0m\u001b[32m ^\u001b[0m\n",
      "\u001b[0m\u001b[32m Use name for \u001b[36mgenomepy install\u001b[0m\n",
      "\u001b[0m\u001b[0m"
     ]
    }
   ],
   "source": [
    "# show available assemblies\n",
    "!genomepy search --provider NCBI {organism}"
   ]
  },
  {
   "cell_type": "code",
   "execution_count": 15,
   "metadata": {},
   "outputs": [
    {
     "name": "stdout",
     "output_type": "stream",
     "text": [
      "\u001b[1mname                 provider accession         tax_id annotation species                                  other_info                              \u001b[0m\n",
      "\u001b[0mUTH_Rnor_SHRSP_BbbUtx_1.0 Ensembl  GCA_021556685.1    10116     \u001b[32m✓\u001b[39m      Rattus norvegicus                        2022-10-Ensembl/2023-01                 \u001b[0m\n",
      "\u001b[0mmRatBN7.2            Ensembl  GCA_015227675.2    10116     \u001b[32m✓\u001b[39m      Rattus norvegicus                        2020-11-Ensembl/2022-03                 \u001b[0m\n",
      "\u001b[0mUTH_Rnor_SHR_Utx     Ensembl  GCA_023515785.1    10116     \u001b[32m✓\u001b[39m      Rattus norvegicus                        2022-10-Ensembl/2023-01                 \u001b[0m\n",
      "\u001b[0mUTH_Rnor_WKY_Bbb_1.0 Ensembl  GCA_023515805.1    10116     \u001b[32m✓\u001b[39m      Rattus norvegicus                        2022-10-Ensembl/2023-01                 \u001b[0m\n",
      "\u001b[0m\u001b[32m ^\u001b[0m\n",
      "\u001b[0m\u001b[32m Use name for \u001b[36mgenomepy install\u001b[0m\n",
      "\u001b[0m\u001b[0m"
     ]
    }
   ],
   "source": [
    "# show available assemblies\n",
    "!genomepy search --provider Ensembl {organism}"
   ]
  },
  {
   "cell_type": "code",
   "execution_count": null,
   "metadata": {},
   "outputs": [],
   "source": [
    "# set the genome name\n",
    "genome_name = \"mRatBN7.2\""
   ]
  },
  {
   "cell_type": "code",
   "execution_count": 55,
   "metadata": {},
   "outputs": [
    {
     "name": "stdout",
     "output_type": "stream",
     "text": [
      "\u001b[0m"
     ]
    }
   ],
   "source": [
    "# download genome\n",
    "!genomepy install --provider Ensembl --annotation --genomes_dir {work_dir} {genome_name}"
   ]
  },
  {
   "cell_type": "code",
   "execution_count": 6,
   "metadata": {},
   "outputs": [
    {
     "data": {
      "text/plain": [
       "'/scratch/multiomics/nickyoungblut/star_refs/Rattus_norvegicus/mRatBN7.2/mRatBN7.2.fa'"
      ]
     },
     "execution_count": 6,
     "metadata": {},
     "output_type": "execute_result"
    }
   ],
   "source": [
    "# get genome fasta\n",
    "fasta_file = glob(f\"{work_dir}/{genome_name}/*.fa\")[0]\n",
    "fasta_file"
   ]
  },
  {
   "cell_type": "code",
   "execution_count": 7,
   "metadata": {},
   "outputs": [
    {
     "data": {
      "text/plain": [
       "'/scratch/multiomics/nickyoungblut/star_refs/Rattus_norvegicus/mRatBN7.2/mRatBN7.2.annotation.gtf'"
      ]
     },
     "execution_count": 7,
     "metadata": {},
     "output_type": "execute_result"
    }
   ],
   "source": [
    "# get gtf file\n",
    "gtf_file = glob(f\"{work_dir}/{genome_name}/*.gtf\")[0]\n",
    "gtf_file"
   ]
  },
  {
   "cell_type": "code",
   "execution_count": 58,
   "metadata": {},
   "outputs": [
    {
     "name": "stdout",
     "output_type": "stream",
     "text": [
      "Processing GTF: mRatBN7.2.annotation.gtf\n",
      "Output GTF: /scratch/multiomics/nickyoungblut/star_refs/Rattus_norvegicus/Rattus_norvegicus/Rattus_norvegicus.gtf\n",
      "Total records in GTF: 1284446\n",
      "Filtered 17547 records by biotype\n",
      "Filtered 0 records by tag\n",
      "-- Count of biotypes filtered --\n",
      "snoRNA: 5118\n",
      "pseudogene: 4926\n",
      "snRNA: 4536\n",
      "miRNA: 1332\n",
      "rRNA: 630\n",
      "processed_pseudogene: 576\n",
      "scaRNA: 111\n",
      "ribozyme: 108\n",
      "misc_RNA: 81\n",
      "Mt_tRNA: 66\n",
      "Y_RNA: 54\n",
      "Mt_rRNA: 6\n",
      "vault_RNA: 3\n",
      "-- Count of biotypes kept --\n",
      "protein_coding: 2472948\n",
      "lncRNA: 34794\n",
      "IG_V_gene: 382\n",
      "TR_C_gene: 18\n",
      "TR_J_gene: 18\n",
      "TR_V_gene: 9\n",
      "----------------------------\n"
     ]
    }
   ],
   "source": [
    "# format the reference\n",
    "exe = os.path.join(script_dir, \"format-star-ref.py\")\n",
    "!{exe} --organism \"{organism}\"  --output-dir {work_dir} {gtf_file} "
   ]
  },
  {
   "cell_type": "code",
   "execution_count": 8,
   "metadata": {},
   "outputs": [
    {
     "data": {
      "text/plain": [
       "True"
      ]
     },
     "execution_count": 8,
     "metadata": {},
     "output_type": "execute_result"
    }
   ],
   "source": [
    "# set the filtered gtf file\n",
    "gtf_filt_file = os.path.join(work_dir, org_str, f\"{org_str}.gtf\")\n",
    "os.path.exists(gtf_filt_file)"
   ]
  },
  {
   "cell_type": "code",
   "execution_count": 9,
   "metadata": {},
   "outputs": [
    {
     "name": "stdout",
     "output_type": "stream",
     "text": [
      "\t/home/nickyoungblut/miniforge3/envs/asmbl/bin/STAR-avx2 --runThreadN 16 --runMode genomeGenerate --genomeDir /scratch/multiomics/nickyoungblut/star_refs/Rattus_norvegicus/star --genomeFastaFiles /scratch/multiomics/nickyoungblut/star_refs/Rattus_norvegicus/mRatBN7.2/mRatBN7.2.fa --sjdbGTFfile /scratch/multiomics/nickyoungblut/star_refs/Rattus_norvegicus/Rattus_norvegicus/Rattus_norvegicus.gtf --sjdbOverhang 100\n",
      "\tSTAR version: 2.7.11b   compiled: 2025-01-09T12:32:06+0000 :/opt/conda/conda-bld/star_1736425784849/work/source\n",
      "Jan 31 13:08:11 ..... started STAR run\n",
      "!!!!! WARNING: Could not move Log.out file from ./Log.out into /scratch/multiomics/nickyoungblut/star_refs/Rattus_norvegicus/star/Log.out. Will keep ./Log.out\n",
      "\n",
      "Jan 31 13:08:11 ... starting to generate Genome files\n",
      "Jan 31 13:08:47 ..... processing annotations GTF\n",
      "Jan 31 13:08:59 ... starting to sort Suffix Array. This may take a long time...\n",
      "Jan 31 13:09:08 ... sorting Suffix Array chunks and saving them to disk...\n",
      "Jan 31 13:15:51 ... loading chunks from disk, packing SA...\n",
      "Jan 31 13:16:48 ... finished generating suffix array\n",
      "Jan 31 13:16:48 ... generating Suffix Array index\n",
      "Jan 31 13:20:20 ... completed Suffix Array index\n",
      "Jan 31 13:20:20 ..... inserting junctions into the genome indices\n",
      "Jan 31 13:22:23 ... writing Genome to disk ...\n",
      "Jan 31 13:22:25 ... writing Suffix Array to disk ...\n",
      "Jan 31 13:22:42 ... writing SAindex to disk\n",
      "Jan 31 13:22:44 ..... finished successfully\n"
     ]
    }
   ],
   "source": [
    "# create the star index\n",
    "star_dir = os.path.join(work_dir, \"star\")\n",
    "os.makedirs(star_dir, exist_ok=True)\n",
    "\n",
    "!STAR --runThreadN 16 \\\n",
    "    --runMode genomeGenerate \\\n",
    "    --genomeDir {star_dir} \\\n",
    "    --genomeFastaFiles {fasta_file} \\\n",
    "    --sjdbGTFfile {gtf_filt_file} \\\n",
    "    --sjdbOverhang 100 "
   ]
  },
  {
   "cell_type": "markdown",
   "metadata": {},
   "source": [
    "# Callithrix jacchus"
   ]
  },
  {
   "cell_type": "code",
   "execution_count": 16,
   "metadata": {},
   "outputs": [],
   "source": [
    "# set the organism\n",
    "organism = \"Callithrix jacchus\""
   ]
  },
  {
   "cell_type": "code",
   "execution_count": 17,
   "metadata": {},
   "outputs": [],
   "source": [
    "# format\n",
    "org_str = organism.replace(\" \", \"_\")\n",
    "work_dir = os.path.join(base_dir, org_str)\n",
    "os.makedirs(work_dir, exist_ok=True)"
   ]
  },
  {
   "cell_type": "code",
   "execution_count": 18,
   "metadata": {},
   "outputs": [
    {
     "name": "stdout",
     "output_type": "stream",
     "text": [
      "\u001b[1mname                 provider accession         tax_id annotation species                                  other_info                              \u001b[0m\n",
      "\u001b[0mCallithrix_jacchus_cj1700_1.0 NCBI     GCA_009663435.1     9483     \u001b[31m✗\u001b[39m      Callithrix jacchus                       McDonnell Genome Institute at Washington University\u001b[0m\n",
      "\u001b[0mmCalJac1.pat         NCBI     GCA_011100535.1     9483     \u001b[31m✗\u001b[39m      Callithrix jacchus                       Vertebrate Genomes Project              \u001b[0m\n",
      "\u001b[0mmCalJac1.pat.X       NCBI     GCA_011100555.1     9483     \u001b[31m✗\u001b[39m      Callithrix jacchus                       Vertebrate Genomes Project              \u001b[0m\n",
      "\u001b[0mCallithrix_jacchus-3.2 NCBI     GCA_000004665.1     9483     \u001b[31m✗\u001b[39m      Callithrix jacchus                       Washington University (WashU)           \u001b[0m\n",
      "\u001b[0mCallithrix_jacchus_cj1700_1.1 NCBI     GCA_009663435.2     9483     \u001b[31m✗\u001b[39m      Callithrix jacchus                       McDonnell Genome Institute at Washington University\u001b[0m\n",
      "\u001b[0mASM83236v1           NCBI     GCA_000832365.1     9483     \u001b[31m✗\u001b[39m      Callithrix jacchus                       UN-NHPGC                                \u001b[0m\n",
      "\u001b[0mCIEA01               NCBI     GCA_001269965.1     9483     \u001b[31m✗\u001b[39m      Callithrix jacchus                       Department of Biosciences and Informatics, Keio University\u001b[0m\n",
      "\u001b[0mASM275486v1          NCBI     GCA_002754865.1     9483     \u001b[31m✗\u001b[39m      Callithrix jacchus                       Broad Institute                         \u001b[0m\n",
      "\u001b[0mCJ2019_assembly      NCBI     GCA_009811775.1     9483     \u001b[31m✗\u001b[39m      Callithrix jacchus                       Keio University                         \u001b[0m\n",
      "\u001b[0mmCalJac1.mat         NCBI     GCA_011078405.1     9483     \u001b[31m✗\u001b[39m      Callithrix jacchus                       Vertebrate Genomes Project              \u001b[0m\n",
      "\u001b[0mmCalJac1.2.pat       NCBI     GCA_011100535.2     9483     \u001b[31m✗\u001b[39m      Callithrix jacchus                       Vertebrate Genomes Project              \u001b[0m\n",
      "\u001b[0mmCalJa1.2.pat.X      NCBI     GCF_011100555.1     9483     \u001b[32m✓\u001b[39m      Callithrix jacchus                       Vertebrate Genomes Project              \u001b[0m\n",
      "\u001b[0mCallithrix_jacchus_cj1700_chrY NCBI     GCA_013138085.1     9483     \u001b[31m✗\u001b[39m      Callithrix jacchus                       Whitehead Institute for Biomedical Research\u001b[0m\n",
      "\u001b[0mCJA1912RKC           NCBI     GCA_013373975.1     9483     \u001b[31m✗\u001b[39m      Callithrix jacchus                       Keio University / RIKEN                 \u001b[0m\n",
      "\u001b[0mCJ1700_CJA_hifiasm-v0.15.2.pri NCBI     GCA_030222145.1     9483     \u001b[31m✗\u001b[39m      Callithrix jacchus                       University of Washington                \u001b[0m\n",
      "\u001b[0mCJ1700_CJA_hifiasm-v0.15.2.alt NCBI     GCA_030222185.1     9483     \u001b[31m✗\u001b[39m      Callithrix jacchus                       University of Washington                \u001b[0m\n",
      "\u001b[0m\u001b[32m ^\u001b[0m\n",
      "\u001b[0m\u001b[32m Use name for \u001b[36mgenomepy install\u001b[0m\n",
      "\u001b[0m\u001b[0m"
     ]
    }
   ],
   "source": [
    "# show available assemblies\n",
    "!genomepy search --provider NCBI {organism}"
   ]
  },
  {
   "cell_type": "code",
   "execution_count": 19,
   "metadata": {},
   "outputs": [
    {
     "name": "stdout",
     "output_type": "stream",
     "text": [
      "\u001b[1mname                 provider accession         tax_id annotation species                                  other_info                              \u001b[0m\n",
      "\u001b[0mmCalJac1.pat.X       Ensembl  GCA_011100555.1     9483     \u001b[32m✓\u001b[39m      Callithrix jacchus                       2020-08-Ensembl/2020-11                 \u001b[0m\n",
      "\u001b[0m\u001b[32m ^\u001b[0m\n",
      "\u001b[0m\u001b[32m Use name for \u001b[36mgenomepy install\u001b[0m\n",
      "\u001b[0m\u001b[0m"
     ]
    }
   ],
   "source": [
    "# show available assemblies\n",
    "!genomepy search --provider Ensembl {organism}"
   ]
  },
  {
   "cell_type": "code",
   "execution_count": null,
   "metadata": {},
   "outputs": [],
   "source": [
    "# set the genome name\n",
    "genome_name = \"mCalJac1.pat.X\""
   ]
  },
  {
   "cell_type": "code",
   "execution_count": 17,
   "metadata": {},
   "outputs": [
    {
     "name": "stdout",
     "output_type": "stream",
     "text": [
      "\u001b[32m13:27:30\u001b[0m \u001b[1m|\u001b[0m \u001b[34mINFO\u001b[0m \u001b[1m|\u001b[0m Downloading genome from Ensembl. Target URL: http://ftp.ensembl.org/pub/release-113/fasta/callithrix_jacchus/dna/Callithrix_jacchus.mCalJac1.pat.X.dna_sm.toplevel.fa.gz...\n",
      "Download: 100%|██████████████████████████████| 841M/841M [00:27<00:00, 32.4MB/s]\u001b[0m\u001b[0m\n",
      "\u001b[0m\u001b[32m13:27:57\u001b[0m \u001b[1m|\u001b[0m \u001b[34mINFO\u001b[0m \u001b[1m|\u001b[0m Genome download successful, starting post processing...\n",
      "\u001b[32m13:28:11\u001b[0m \u001b[1m|\u001b[0m \u001b[34mINFO\u001b[0m \u001b[1m|\u001b[0m name: mCalJac1.pat.X\n",
      "\u001b[32m13:28:11\u001b[0m \u001b[1m|\u001b[0m \u001b[34mINFO\u001b[0m \u001b[1m|\u001b[0m local name: mCalJac1.pat.X\n",
      "\u001b[32m13:28:11\u001b[0m \u001b[1m|\u001b[0m \u001b[34mINFO\u001b[0m \u001b[1m|\u001b[0m fasta: /scratch/multiomics/nickyoungblut/star_refs/Callithrix_jacchus/mCalJac1.pat.X/mCalJac1.pat.X.fa\n",
      "Filtering Fasta: 47.2M lines [00:12, 3.92M lines/s]\u001b[0m\u001b[0m\n",
      "\u001b[0m\u001b[32m13:29:04\u001b[0m \u001b[1m|\u001b[0m \u001b[34mINFO\u001b[0m \u001b[1m|\u001b[0m Downloading annotation from Ensembl. Target URL: http://ftp.ensembl.org/pub/release-113/gtf/callithrix_jacchus/Callithrix_jacchus.mCalJac1.pat.X.113.gtf.gz...\n",
      "Download: 100%|████████████████████████████| 19.1M/19.1M [00:01<00:00, 15.7MB/s]\u001b[0m\u001b[0m\n",
      "\u001b[0m\u001b[32m13:29:10\u001b[0m \u001b[1m|\u001b[0m \u001b[34mINFO\u001b[0m \u001b[1m|\u001b[0m Annotation download successful\n",
      "\u001b[0m"
     ]
    }
   ],
   "source": [
    "# download genome\n",
    "!genomepy install --provider Ensembl --annotation --genomes_dir {work_dir} {genome_name}"
   ]
  },
  {
   "cell_type": "code",
   "execution_count": 18,
   "metadata": {},
   "outputs": [
    {
     "data": {
      "text/plain": [
       "'/scratch/multiomics/nickyoungblut/star_refs/Callithrix_jacchus/mCalJac1.pat.X/mCalJac1.pat.X.fa'"
      ]
     },
     "execution_count": 18,
     "metadata": {},
     "output_type": "execute_result"
    }
   ],
   "source": [
    "# get genome fasta\n",
    "fasta_file = glob(f\"{work_dir}/{genome_name}/*.fa\")[0]\n",
    "fasta_file"
   ]
  },
  {
   "cell_type": "code",
   "execution_count": 19,
   "metadata": {},
   "outputs": [
    {
     "data": {
      "text/plain": [
       "'/scratch/multiomics/nickyoungblut/star_refs/Callithrix_jacchus/mCalJac1.pat.X/mCalJac1.pat.X.annotation.gtf'"
      ]
     },
     "execution_count": 19,
     "metadata": {},
     "output_type": "execute_result"
    }
   ],
   "source": [
    "# get gtf file\n",
    "gtf_file = glob(f\"{work_dir}/{genome_name}/*.gtf\")[0]\n",
    "gtf_file"
   ]
  },
  {
   "cell_type": "code",
   "execution_count": 20,
   "metadata": {},
   "outputs": [
    {
     "name": "stdout",
     "output_type": "stream",
     "text": [
      "Processing GTF: mCalJac1.pat.X.annotation.gtf\n",
      "Output GTF: /scratch/multiomics/nickyoungblut/star_refs/Callithrix_jacchus/Callithrix_jacchus/Callithrix_jacchus.gtf\n",
      "Total records in GTF: 1448697\n",
      "Filtered 38300 records by biotype\n",
      "Filtered 0 records by tag\n",
      "-- Count of biotypes filtered --\n",
      "misc_RNA: 12612\n",
      "snRNA: 9249\n",
      "snoRNA: 4503\n",
      "pseudogene: 4061\n",
      "Y_RNA: 2811\n",
      "processed_pseudogene: 2598\n",
      "miRNA: 1620\n",
      "rRNA: 639\n",
      "scaRNA: 147\n",
      "vault_RNA: 48\n",
      "ribozyme: 12\n",
      "-- Count of biotypes kept --\n",
      "protein_coding: 2703693\n",
      "lncRNA: 87632\n",
      "IG_V_gene: 709\n",
      "TR_V_gene: 254\n",
      "TR_J_gene: 108\n",
      "TR_C_gene: 35\n",
      "IG_C_gene: 17\n",
      "----------------------------\n"
     ]
    }
   ],
   "source": [
    "# format the reference\n",
    "exe = os.path.join(script_dir, \"format-star-ref.py\")\n",
    "!{exe} --organism \"{organism}\"  --output-dir {work_dir} {gtf_file} "
   ]
  },
  {
   "cell_type": "code",
   "execution_count": 21,
   "metadata": {},
   "outputs": [
    {
     "data": {
      "text/plain": [
       "True"
      ]
     },
     "execution_count": 21,
     "metadata": {},
     "output_type": "execute_result"
    }
   ],
   "source": [
    "# set the filtered gtf file\n",
    "gtf_filt_file = os.path.join(work_dir, org_str, f\"{org_str}.gtf\")\n",
    "os.path.exists(gtf_filt_file)"
   ]
  },
  {
   "cell_type": "code",
   "execution_count": 22,
   "metadata": {},
   "outputs": [
    {
     "name": "stdout",
     "output_type": "stream",
     "text": [
      "\t/home/nickyoungblut/miniforge3/envs/asmbl/bin/STAR-avx2 --runThreadN 16 --runMode genomeGenerate --genomeDir /scratch/multiomics/nickyoungblut/star_refs/Callithrix_jacchus/star --genomeFastaFiles /scratch/multiomics/nickyoungblut/star_refs/Callithrix_jacchus/mCalJac1.pat.X/mCalJac1.pat.X.fa --sjdbGTFfile /scratch/multiomics/nickyoungblut/star_refs/Callithrix_jacchus/Callithrix_jacchus/Callithrix_jacchus.gtf --sjdbOverhang 100\n",
      "\tSTAR version: 2.7.11b   compiled: 2025-01-09T12:32:06+0000 :/opt/conda/conda-bld/star_1736425784849/work/source\n",
      "Jan 31 13:29:49 ..... started STAR run\n",
      "!!!!! WARNING: Could not move Log.out file from ./Log.out into /scratch/multiomics/nickyoungblut/star_refs/Callithrix_jacchus/star/Log.out. Will keep ./Log.out\n",
      "\n",
      "Jan 31 13:29:49 ... starting to generate Genome files\n",
      "Jan 31 13:30:27 ..... processing annotations GTF\n",
      "Jan 31 13:30:40 ... starting to sort Suffix Array. This may take a long time...\n",
      "Jan 31 13:30:49 ... sorting Suffix Array chunks and saving them to disk...\n",
      "Jan 31 13:38:42 ... loading chunks from disk, packing SA...\n",
      "Jan 31 13:39:49 ... finished generating suffix array\n",
      "Jan 31 13:39:49 ... generating Suffix Array index\n",
      "Jan 31 13:43:21 ... completed Suffix Array index\n",
      "Jan 31 13:43:22 ..... inserting junctions into the genome indices\n",
      "Jan 31 13:45:29 ... writing Genome to disk ...\n",
      "Jan 31 13:45:31 ... writing Suffix Array to disk ...\n",
      "Jan 31 13:45:57 ... writing SAindex to disk\n",
      "Jan 31 13:46:00 ..... finished successfully\n"
     ]
    }
   ],
   "source": [
    "# create the star index\n",
    "star_dir = os.path.join(work_dir, \"star\")\n",
    "os.makedirs(star_dir, exist_ok=True)\n",
    "\n",
    "!STAR --runThreadN 16 \\\n",
    "    --runMode genomeGenerate \\\n",
    "    --genomeDir {star_dir} \\\n",
    "    --genomeFastaFiles {fasta_file} \\\n",
    "    --sjdbGTFfile {gtf_filt_file} \\\n",
    "    --sjdbOverhang 100 "
   ]
  },
  {
   "cell_type": "markdown",
   "metadata": {},
   "source": [
    "# Equus caballus"
   ]
  },
  {
   "cell_type": "code",
   "execution_count": 20,
   "metadata": {},
   "outputs": [],
   "source": [
    "organism = \"Equus caballus\""
   ]
  },
  {
   "cell_type": "code",
   "execution_count": 27,
   "metadata": {},
   "outputs": [],
   "source": [
    "# format\n",
    "org_str = organism.replace(\" \", \"_\")\n",
    "work_dir = os.path.join(base_dir, org_str)\n",
    "os.makedirs(work_dir, exist_ok=True)"
   ]
  },
  {
   "cell_type": "code",
   "execution_count": 21,
   "metadata": {},
   "outputs": [
    {
     "name": "stdout",
     "output_type": "stream",
     "text": [
      "\u001b[1mname                 provider accession         tax_id annotation species                                  other_info                              \u001b[0m\n",
      "\u001b[0mASM216690v1          NCBI     GCA_002166905.1     9796     \u001b[31m✗\u001b[39m      Equus caballus                           Institute of Animal Breeding and Genetics - Vetmeduni Vienna\u001b[0m\n",
      "\u001b[0mEquCab2.0            NCBI     GCA_000002305.1     9796     \u001b[31m✗\u001b[39m      Equus caballus                           The Genome Assembly Team                \u001b[0m\n",
      "\u001b[0mEquCab3.0            NCBI     GCA_002863925.1     9796     \u001b[31m✗\u001b[39m      Equus caballus                           University of Louisville                \u001b[0m\n",
      "\u001b[0mAjinai1.0            NCBI     GCA_000696655.1     9796     \u001b[31m✗\u001b[39m      Equus caballus                           College of Animal Science, Inner Mongolian Agricultural University, China\u001b[0m\n",
      "\u001b[0mViralProj15487       NCBI     GCF_000866385.1   333919     \u001b[32m✓\u001b[39m      Equus caballus papillomavirus 1          Cervical Cancer Research Institute, The Western Pennsylvania Hospital\u001b[0m\n",
      "\u001b[0mViralProj34709       NCBI     GCF_000882695.1  1233177     \u001b[32m✓\u001b[39m      Equus caballus papillomavirus 2          Veterinary Medicine, University of Cambridge\u001b[0m\n",
      "\u001b[0mViralProj163309      NCBI     GCF_000897055.1  1513253     \u001b[32m✓\u001b[39m      Equus caballus papillomavirus 3          Veterinary Dermatology, University of Zurich\u001b[0m\n",
      "\u001b[0mViralProj185427      NCBI     GCF_000904015.1  2083182     \u001b[32m✓\u001b[39m      Equus caballus papillomavirus 5          Vetsuisse Faculty, University of Zurich \u001b[0m\n",
      "\u001b[0mViralProj193979      NCBI     GCF_000904315.1  1513253     \u001b[32m✓\u001b[39m      Equus caballus papillomavirus 7          Veterinary Dermatology, University of Zurich\u001b[0m\n",
      "\u001b[0mViralProj185426      NCBI     GCF_000906495.1  2083182     \u001b[32m✓\u001b[39m      Equus caballus papillomavirus 4          Vetsuisse Faculty, University of Zurich \u001b[0m\n",
      "\u001b[0mViralProj193978      NCBI     GCF_000906795.1  1513253     \u001b[32m✓\u001b[39m      Equus caballus papillomavirus 6          Veterinary Dermatology, University of Zurich\u001b[0m\n",
      "\u001b[0mViralProj352513      NCBI     GCF_001866975.1  2170236     \u001b[32m✓\u001b[39m      Equus caballus papillomavirus 8          Pathology, Georgetown Medical Center    \u001b[0m\n",
      "\u001b[0mLipY764              NCBI     GCA_002166905.2     9796     \u001b[31m✗\u001b[39m      Equus caballus                           Institute of Animal Breeding and Genetics - Vetmeduni Vienna\u001b[0m\n",
      "\u001b[0m30H                  NCBI     GCA_029784085.1     9796     \u001b[31m✗\u001b[39m      Equus caballus                           Center for Life Sciences, Nazarbayev University\u001b[0m\n",
      "\u001b[0m16H                  NCBI     GCA_029784105.1     9796     \u001b[31m✗\u001b[39m      Equus caballus                           Center for Life Sciences, Nazarbayev University\u001b[0m\n",
      "\u001b[0m57H                  NCBI     GCA_029814055.1     9796     \u001b[31m✗\u001b[39m      Equus caballus                           Center for Life Sciences, Nazarbayev University\u001b[0m\n",
      "\u001b[0m25H                  NCBI     GCA_029814075.1     9796     \u001b[31m✗\u001b[39m      Equus caballus                           Center for Life Sciences, Nazarbayev University\u001b[0m\n",
      "\u001b[0m7H                   NCBI     GCA_029814095.1     9796     \u001b[31m✗\u001b[39m      Equus caballus                           Center for Life Sciences, Nazarbayev University\u001b[0m\n",
      "\u001b[0m2H                   NCBI     GCA_029814115.1     9796     \u001b[31m✗\u001b[39m      Equus caballus                           Center for Life Sciences, Nazarbayev University\u001b[0m\n",
      "\u001b[0m9H                   NCBI     GCA_029818875.1     9796     \u001b[31m✗\u001b[39m      Equus caballus                           Center for Life Sciences, Nazarbayev University\u001b[0m\n",
      "\u001b[0mASM3119284v1         NCBI     GCA_031192845.1  2601244     \u001b[32m✓\u001b[39m      Equus caballus papillomavirus 9          Faculty of Science, University of Sydney\u001b[0m\n",
      "\u001b[0mmEquCab1.mat         NCBI     GCA_036418255.1     9796     \u001b[31m✗\u001b[39m      Equus caballus                           Vertebrate Genomes Project              \u001b[0m\n",
      "\u001b[0mmEquCab1.pat         NCBI     GCA_036426135.1     9796     \u001b[31m✗\u001b[39m      Equus caballus                           Vertebrate Genomes Project              \u001b[0m\n",
      "\u001b[0mTB-T2T               NCBI     GCF_041296265.1     9796     \u001b[32m✓\u001b[39m      Equus caballus                           University of Kentucky                  \u001b[0m\n",
      "\u001b[0mEquCab_Friesian      NCBI     GCA_963965945.1     9796     \u001b[31m✗\u001b[39m      Equus caballus                           Wageningen University & Research        \u001b[0m\n",
      "\u001b[0mEquCab_Warmblood_WUR NCBI     GCA_964023255.1     9796     \u001b[31m✗\u001b[39m      Equus caballus                           Wageningen University & Research        \u001b[0m\n",
      "\u001b[0mEquCab_Friesian_WUR  NCBI     GCA_964023265.1     9796     \u001b[31m✗\u001b[39m      Equus caballus                           Wageningen University & Research        \u001b[0m\n",
      "\u001b[0mEquCab_Finn          NCBI     GCA_965118105.1     9796     \u001b[31m✗\u001b[39m      Equus caballus                           Natural Resources Institute Finland (Luke)\u001b[0m\n",
      "\u001b[0m\u001b[32m ^\u001b[0m\n",
      "\u001b[0m\u001b[32m Use name for \u001b[36mgenomepy install\u001b[0m\n",
      "\u001b[0m\u001b[0m"
     ]
    }
   ],
   "source": [
    "# show available assemblies\n",
    "!genomepy search --provider NCBI {organism}"
   ]
  },
  {
   "cell_type": "code",
   "execution_count": 22,
   "metadata": {},
   "outputs": [
    {
     "name": "stdout",
     "output_type": "stream",
     "text": [
      "\u001b[1mname                 provider accession         tax_id annotation species                                  other_info                              \u001b[0m\n",
      "\u001b[0mEquCab3.0            Ensembl  GCA_002863925.1     9796     \u001b[32m✓\u001b[39m      Equus caballus                           2021-10-Ensembl/2022-01                 \u001b[0m\n",
      "\u001b[0m\u001b[32m ^\u001b[0m\n",
      "\u001b[0m\u001b[32m Use name for \u001b[36mgenomepy install\u001b[0m\n",
      "\u001b[0m\u001b[0m"
     ]
    }
   ],
   "source": [
    "# show available assemblies\n",
    "!genomepy search --provider Ensembl {organism}"
   ]
  },
  {
   "cell_type": "code",
   "execution_count": null,
   "metadata": {},
   "outputs": [],
   "source": [
    "# set the genome name\n",
    "genome_name = \"EquCab3.0\""
   ]
  },
  {
   "cell_type": "code",
   "execution_count": 27,
   "metadata": {},
   "outputs": [
    {
     "name": "stdout",
     "output_type": "stream",
     "text": [
      "\u001b[32m13:46:41\u001b[0m \u001b[1m|\u001b[0m \u001b[34mINFO\u001b[0m \u001b[1m|\u001b[0m Downloading genome from Ensembl. Target URL: http://ftp.ensembl.org/pub/release-113/fasta/equus_caballus/dna/Equus_caballus.EquCab3.0.dna_sm.toplevel.fa.gz...\n",
      "Download: 100%|██████████████████████████████| 785M/785M [00:25<00:00, 32.5MB/s]\u001b[0m\u001b[0m\n",
      "\u001b[0m\u001b[32m13:47:07\u001b[0m \u001b[1m|\u001b[0m \u001b[34mINFO\u001b[0m \u001b[1m|\u001b[0m Genome download successful, starting post processing...\n",
      "\u001b[32m13:47:19\u001b[0m \u001b[1m|\u001b[0m \u001b[34mINFO\u001b[0m \u001b[1m|\u001b[0m name: EquCab3.0\n",
      "\u001b[32m13:47:19\u001b[0m \u001b[1m|\u001b[0m \u001b[34mINFO\u001b[0m \u001b[1m|\u001b[0m local name: EquCab3.0\n",
      "\u001b[32m13:47:19\u001b[0m \u001b[1m|\u001b[0m \u001b[34mINFO\u001b[0m \u001b[1m|\u001b[0m fasta: /scratch/multiomics/nickyoungblut/star_refs/Equus_caballus/EquCab3.0/EquCab3.0.fa\n",
      "Filtering Fasta: 41.8M lines [00:10, 4.08M lines/s]\u001b[0m\u001b[0m\n",
      "\u001b[0m\u001b[32m13:48:06\u001b[0m \u001b[1m|\u001b[0m \u001b[34mINFO\u001b[0m \u001b[1m|\u001b[0m Downloading annotation from Ensembl. Target URL: http://ftp.ensembl.org/pub/release-113/gtf/equus_caballus/Equus_caballus.EquCab3.0.113.gtf.gz...\n",
      "Download: 100%|████████████████████████████| 28.5M/28.5M [00:01<00:00, 19.0MB/s]\u001b[0m\u001b[0m\n",
      "\u001b[0m\u001b[32m13:48:14\u001b[0m \u001b[1m|\u001b[0m \u001b[34mINFO\u001b[0m \u001b[1m|\u001b[0m Annotation download successful\n",
      "\u001b[0m"
     ]
    }
   ],
   "source": [
    "# download genome\n",
    "!genomepy install --provider Ensembl --annotation --genomes_dir {work_dir} {genome_name}"
   ]
  },
  {
   "cell_type": "code",
   "execution_count": 28,
   "metadata": {},
   "outputs": [
    {
     "data": {
      "text/plain": [
       "'/scratch/multiomics/nickyoungblut/star_refs/Equus_caballus/EquCab3.0/EquCab3.0.fa'"
      ]
     },
     "execution_count": 28,
     "metadata": {},
     "output_type": "execute_result"
    }
   ],
   "source": [
    "# get genome fasta\n",
    "fasta_file = glob(f\"{work_dir}/{genome_name}/*.fa\")[0]\n",
    "fasta_file"
   ]
  },
  {
   "cell_type": "code",
   "execution_count": 29,
   "metadata": {},
   "outputs": [
    {
     "data": {
      "text/plain": [
       "'/scratch/multiomics/nickyoungblut/star_refs/Equus_caballus/EquCab3.0/EquCab3.0.annotation.gtf'"
      ]
     },
     "execution_count": 29,
     "metadata": {},
     "output_type": "execute_result"
    }
   ],
   "source": [
    "# get gtf file\n",
    "gtf_file = glob(f\"{work_dir}/{genome_name}/*.gtf\")[0]\n",
    "gtf_file"
   ]
  },
  {
   "cell_type": "code",
   "execution_count": 30,
   "metadata": {},
   "outputs": [
    {
     "name": "stdout",
     "output_type": "stream",
     "text": [
      "Processing GTF: EquCab3.0.annotation.gtf\n",
      "Output GTF: /scratch/multiomics/nickyoungblut/star_refs/Equus_caballus/Equus_caballus/Equus_caballus.gtf\n",
      "Total records in GTF: 2371117\n",
      "Filtered 7783 records by biotype\n",
      "Filtered 0 records by tag\n",
      "-- Count of biotypes filtered --\n",
      "pseudogene: 2119\n",
      "miRNA: 2055\n",
      "snRNA: 1620\n",
      "snoRNA: 1443\n",
      "processed_pseudogene: 294\n",
      "Mt_tRNA: 66\n",
      "scaRNA: 60\n",
      "Y_RNA: 42\n",
      "rRNA: 36\n",
      "misc_RNA: 27\n",
      "ribozyme: 9\n",
      "vault_RNA: 6\n",
      "Mt_rRNA: 6\n",
      "-- Count of biotypes kept --\n",
      "protein_coding: 4351680\n",
      "lncRNA: 337930\n",
      "IG_V_gene: 168\n",
      "TR_V_gene: 148\n",
      "TR_C_gene: 81\n",
      "TR_J_gene: 27\n",
      "----------------------------\n"
     ]
    }
   ],
   "source": [
    "# format the reference\n",
    "exe = os.path.join(script_dir, \"format-star-ref.py\")\n",
    "!{exe} --organism \"{organism}\"  --output-dir {work_dir} {gtf_file} "
   ]
  },
  {
   "cell_type": "code",
   "execution_count": 31,
   "metadata": {},
   "outputs": [
    {
     "data": {
      "text/plain": [
       "True"
      ]
     },
     "execution_count": 31,
     "metadata": {},
     "output_type": "execute_result"
    }
   ],
   "source": [
    "# set the filtered gtf file\n",
    "gtf_filt_file = os.path.join(work_dir, org_str, f\"{org_str}.gtf\")\n",
    "os.path.exists(gtf_filt_file)"
   ]
  },
  {
   "cell_type": "code",
   "execution_count": 32,
   "metadata": {},
   "outputs": [
    {
     "name": "stdout",
     "output_type": "stream",
     "text": [
      "\t/home/nickyoungblut/miniforge3/envs/asmbl/bin/STAR-avx2 --runThreadN 16 --runMode genomeGenerate --genomeDir /scratch/multiomics/nickyoungblut/star_refs/Equus_caballus/star --genomeFastaFiles /scratch/multiomics/nickyoungblut/star_refs/Equus_caballus/EquCab3.0/EquCab3.0.fa --sjdbGTFfile /scratch/multiomics/nickyoungblut/star_refs/Equus_caballus/Equus_caballus/Equus_caballus.gtf --sjdbOverhang 100\n",
      "\tSTAR version: 2.7.11b   compiled: 2025-01-09T12:32:06+0000 :/opt/conda/conda-bld/star_1736425784849/work/source\n",
      "Jan 31 13:50:28 ..... started STAR run\n",
      "!!!!! WARNING: Could not move Log.out file from ./Log.out into /scratch/multiomics/nickyoungblut/star_refs/Equus_caballus/star/Log.out. Will keep ./Log.out\n",
      "\n",
      "Jan 31 13:50:28 ... starting to generate Genome files\n",
      "Jan 31 13:51:06 ..... processing annotations GTF\n",
      "Jan 31 13:51:23 ... starting to sort Suffix Array. This may take a long time...\n",
      "Jan 31 13:51:34 ... sorting Suffix Array chunks and saving them to disk...\n",
      "Jan 31 13:59:55 ... loading chunks from disk, packing SA...\n",
      "Jan 31 14:00:55 ... finished generating suffix array\n",
      "Jan 31 14:00:55 ... generating Suffix Array index\n",
      "Jan 31 14:04:30 ... completed Suffix Array index\n",
      "Jan 31 14:04:30 ..... inserting junctions into the genome indices\n",
      "Jan 31 14:07:01 ... writing Genome to disk ...\n",
      "Jan 31 14:07:04 ... writing Suffix Array to disk ...\n",
      "Jan 31 14:07:28 ... writing SAindex to disk\n",
      "Jan 31 14:07:30 ..... finished successfully\n"
     ]
    }
   ],
   "source": [
    "# create the star index\n",
    "star_dir = os.path.join(work_dir, \"star\")\n",
    "os.makedirs(star_dir, exist_ok=True)\n",
    "\n",
    "!STAR --runThreadN 16 \\\n",
    "    --runMode genomeGenerate \\\n",
    "    --genomeDir {star_dir} \\\n",
    "    --genomeFastaFiles {fasta_file} \\\n",
    "    --sjdbGTFfile {gtf_filt_file} \\\n",
    "    --sjdbOverhang 100 "
   ]
  },
  {
   "cell_type": "markdown",
   "metadata": {},
   "source": [
    "# Canis lupus familiaris"
   ]
  },
  {
   "cell_type": "code",
   "execution_count": 23,
   "metadata": {},
   "outputs": [],
   "source": [
    "organism = \"Canis lupus familiaris\""
   ]
  },
  {
   "cell_type": "code",
   "execution_count": 24,
   "metadata": {},
   "outputs": [],
   "source": [
    "# format\n",
    "org_str = organism.replace(\" \", \"_\")\n",
    "work_dir = os.path.join(base_dir, org_str)\n",
    "os.makedirs(work_dir, exist_ok=True)"
   ]
  },
  {
   "cell_type": "code",
   "execution_count": 26,
   "metadata": {},
   "outputs": [
    {
     "name": "stdout",
     "output_type": "stream",
     "text": [
      "\u001b[1mname                 provider accession         tax_id annotation species                                  other_info                              \u001b[0m\n",
      "\u001b[0mCanFam3.1            NCBI     GCF_000002285.3     9612     \u001b[32m✓\u001b[39m      Canis lupus familiaris                   Dog Genome Sequencing Consortium        \u001b[0m\n",
      "\u001b[0mBasenji_breed-1.1    NCBI     GCA_004886185.2     9612     \u001b[31m✗\u001b[39m      Canis lupus familiaris                   University of Missouri                  \u001b[0m\n",
      "\u001b[0mASM864105v1          NCBI     GCA_008641055.1     9612     \u001b[31m✗\u001b[39m      Canis lupus familiaris                   James Cook University                   \u001b[0m\n",
      "\u001b[0mASM864105v2          NCBI     GCA_008641055.2     9612     \u001b[31m✗\u001b[39m      Canis lupus familiaris                   James Cook University                   \u001b[0m\n",
      "\u001b[0mUNSW_CanFamBas_1.0   NCBI     GCF_013276365.1     9612     \u001b[32m✓\u001b[39m      Canis lupus familiaris                   University of New South Wales           \u001b[0m\n",
      "\u001b[0mUMICH_Zoey_3.1       NCBI     GCA_005444595.1     9612     \u001b[31m✗\u001b[39m      Canis lupus familiaris                   University of Michigan                  \u001b[0m\n",
      "\u001b[0mDog10K_Boxer_Tasha   NCBI     GCF_000002285.5     9612     \u001b[32m✓\u001b[39m      Canis lupus familiaris                   Dog Genome Sequencing Consortium        \u001b[0m\n",
      "\u001b[0mASM18141v1           NCBI     GCA_000181415.1     9612     \u001b[31m✗\u001b[39m      Canis lupus familiaris                   TIGR                                    \u001b[0m\n",
      "\u001b[0mBeagle               NCBI     GCA_000331495.1     9612     \u001b[31m✗\u001b[39m      Canis lupus familiaris                   GlaxoSmithKline                         \u001b[0m\n",
      "\u001b[0mASM208743v1          NCBI     GCA_002087435.1     9612     \u001b[31m✗\u001b[39m      Canis lupus familiaris                   CAAS                                    \u001b[0m\n",
      "\u001b[0mCanFam_VD_v1_BIUU    NCBI     GCA_004027395.1     9612     \u001b[31m✗\u001b[39m      Canis lupus familiaris                   Broad Institute                         \u001b[0m\n",
      "\u001b[0mASM544666v1          NCBI     GCA_005446665.1     9612     \u001b[31m✗\u001b[39m      Canis lupus familiaris                   University of Michigan                  \u001b[0m\n",
      "\u001b[0mASM864105v3          NCBI     GCA_008641055.3     9612     \u001b[31m✗\u001b[39m      Canis lupus familiaris                   James Cook University                   \u001b[0m\n",
      "\u001b[0mUU_Cfam_GSD_1.0      NCBI     GCF_011100685.1     9612     \u001b[32m✓\u001b[39m      Canis lupus familiaris                   Uppsala University                      \u001b[0m\n",
      "\u001b[0mASM1132765v1         NCBI     GCA_011327655.1     9612     \u001b[31m✗\u001b[39m      Canis lupus familiaris                   Faculty of Medicine Siriraj Hospital, Mahidol University\u001b[0m\n",
      "\u001b[0mASM1163472v1         NCBI     GCA_011634725.1     9612     \u001b[31m✗\u001b[39m      Canis lupus familiaris                   Faculty of Medicine Siriraj Hospital, Mahidol University\u001b[0m\n",
      "\u001b[0mASM1204487v1         NCBI     GCA_012044875.1     9612     \u001b[31m✗\u001b[39m      Canis lupus familiaris                   JHU/APL                                 \u001b[0m\n",
      "\u001b[0mASM1204501v1         NCBI     GCA_012045015.1     9612     \u001b[31m✗\u001b[39m      Canis lupus familiaris                   JHU/APL                                 \u001b[0m\n",
      "\u001b[0mUNSW_CanFamBas_1.2   NCBI     GCA_013276365.2     9612     \u001b[31m✗\u001b[39m      Canis lupus familiaris                   University of New South Wales           \u001b[0m\n",
      "\u001b[0mROS_Cfam_1.0         NCBI     GCF_014441545.1     9612     \u001b[32m✓\u001b[39m      Canis lupus familiaris                   The Roslin Institute                    \u001b[0m\n",
      "\u001b[0mCA611_1.0            NCBI     GCA_031010295.1     9612     \u001b[31m✗\u001b[39m      Canis lupus familiaris                   University of Michigan                  \u001b[0m\n",
      "\u001b[0mOD_1.0               NCBI     GCA_031010635.1     9612     \u001b[31m✗\u001b[39m      Canis lupus familiaris                   University of Michigan                  \u001b[0m\n",
      "\u001b[0mBD_1.0               NCBI     GCA_031010765.1     9612     \u001b[31m✗\u001b[39m      Canis lupus familiaris                   University of Michigan                  \u001b[0m\n",
      "\u001b[0mYella_v2             NCBI     GCA_031165255.1     9612     \u001b[31m✗\u001b[39m      Canis lupus familiaris                   University of Michigan                  \u001b[0m\n",
      "\u001b[0mTAMU_N220234         NCBI     GCA_031771975.1     9612     \u001b[31m✗\u001b[39m      Canis lupus familiaris                   Texas A&M University                    \u001b[0m\n",
      "\u001b[0mTAMU_N210636         NCBI     GCA_040939265.1     9612     \u001b[31m✗\u001b[39m      Canis lupus familiaris                   Texas A&M University                    \u001b[0m\n",
      "\u001b[0mASM4364393v1         NCBI     GCA_043643935.1     9612     \u001b[31m✗\u001b[39m      Canis lupus familiaris                   Goethe-University Frankfurt             \u001b[0m\n",
      "\u001b[0mLK_Cfam_Beagle_1.1   NCBI     GCA_044048985.1     9612     \u001b[31m✗\u001b[39m      Canis lupus familiaris                   LyuKang                                 \u001b[0m\n",
      "\u001b[0mLak_Megaphage_Wal-1  NCBI     GCA_964162815.1     9612     \u001b[31m✗\u001b[39m      Canis lupus familiaris                   The Waltham Centre for Pet Nutrition, Leicestershire, England\u001b[0m\n",
      "\u001b[0mLak_Megaphage_Wal-2  NCBI     GCA_964164975.1     9612     \u001b[31m✗\u001b[39m      Canis lupus familiaris                   The Waltham Centre for Pet Nutrition, Leicestershire, England\u001b[0m\n",
      "\u001b[0m\u001b[32m ^\u001b[0m\n",
      "\u001b[0m\u001b[32m Use name for \u001b[36mgenomepy install\u001b[0m\n",
      "\u001b[0m\u001b[0m"
     ]
    }
   ],
   "source": [
    "# show available assemblies\n",
    "!genomepy search --provider NCBI {organism}"
   ]
  },
  {
   "cell_type": "code",
   "execution_count": 25,
   "metadata": {},
   "outputs": [
    {
     "name": "stdout",
     "output_type": "stream",
     "text": [
      "\u001b[1mname                 provider accession         tax_id annotation species                                  other_info                              \u001b[0m\n",
      "\u001b[0mUMICH_Zoey_3.1       Ensembl  GCA_005444595.1     9615     \u001b[32m✓\u001b[39m      Canis lupus familiaris                   2019-07-Ensembl/2019-08                 \u001b[0m\n",
      "\u001b[0mROS_Cfam_1.0         Ensembl  GCA_014441545.1     9615     \u001b[32m✓\u001b[39m      Canis lupus familiaris                   2020-10-Ensembl/2020-10                 \u001b[0m\n",
      "\u001b[0mUU_Cfam_GSD_1.0      Ensembl  GCA_011100685.1     9615     \u001b[32m✓\u001b[39m      Canis lupus familiaris                   2021-03-Ensembl/2021-03                 \u001b[0m\n",
      "\u001b[0mDog10K_Boxer_Tasha   Ensembl  GCA_000002285.4     9615     \u001b[32m✓\u001b[39m      Canis lupus familiaris                   2020-10-Ensembl/2020-10                 \u001b[0m\n",
      "\u001b[0mBasenji_breed-1.1    Ensembl  GCA_004886185.1     9615     \u001b[32m✓\u001b[39m      Canis lupus familiaris                   2019-07-Ensembl/2019-08                 \u001b[0m\n",
      "\u001b[0m\u001b[32m ^\u001b[0m\n",
      "\u001b[0m\u001b[32m Use name for \u001b[36mgenomepy install\u001b[0m\n",
      "\u001b[0m\u001b[0m"
     ]
    }
   ],
   "source": [
    "# show available assemblies\n",
    "!genomepy search --provider Ensembl {organism}"
   ]
  },
  {
   "cell_type": "code",
   "execution_count": null,
   "metadata": {},
   "outputs": [],
   "source": [
    "# set the genome name\n",
    "genome_name = \"ROS_Cfam_1.0\""
   ]
  },
  {
   "cell_type": "code",
   "execution_count": 35,
   "metadata": {},
   "outputs": [
    {
     "name": "stdout",
     "output_type": "stream",
     "text": [
      "\u001b[32m14:10:42\u001b[0m \u001b[1m|\u001b[0m \u001b[34mINFO\u001b[0m \u001b[1m|\u001b[0m Downloading genome from Ensembl. Target URL: http://ftp.ensembl.org/pub/release-113/fasta/canis_lupus_familiaris/dna/Canis_lupus_familiaris.ROS_Cfam_1.0.dna_sm.toplevel.fa.gz...\n",
      "Download: 100%|██████████████████████████████| 742M/742M [00:23<00:00, 32.5MB/s]\u001b[0m\u001b[0m\n",
      "\u001b[0m\u001b[32m14:11:06\u001b[0m \u001b[1m|\u001b[0m \u001b[34mINFO\u001b[0m \u001b[1m|\u001b[0m Genome download successful, starting post processing...\n",
      "\u001b[32m14:11:18\u001b[0m \u001b[1m|\u001b[0m \u001b[34mINFO\u001b[0m \u001b[1m|\u001b[0m name: ROS_Cfam_1.0\n",
      "\u001b[32m14:11:18\u001b[0m \u001b[1m|\u001b[0m \u001b[34mINFO\u001b[0m \u001b[1m|\u001b[0m local name: ROS_Cfam_1.0\n",
      "\u001b[32m14:11:18\u001b[0m \u001b[1m|\u001b[0m \u001b[34mINFO\u001b[0m \u001b[1m|\u001b[0m fasta: /scratch/multiomics/nickyoungblut/star_refs/Canis_lupus_familiaris/ROS_Cfam_1.0/ROS_Cfam_1.0.fa\n",
      "Filtering Fasta: 39.9M lines [00:09, 4.10M lines/s]\u001b[0m\u001b[0m\n",
      "\u001b[0m\u001b[32m14:12:04\u001b[0m \u001b[1m|\u001b[0m \u001b[34mINFO\u001b[0m \u001b[1m|\u001b[0m Downloading annotation from Ensembl. Target URL: http://ftp.ensembl.org/pub/release-113/gtf/canis_lupus_familiaris/Canis_lupus_familiaris.ROS_Cfam_1.0.113.gtf.gz...\n",
      "Download: 100%|████████████████████████████| 16.0M/16.0M [00:01<00:00, 13.6MB/s]\u001b[0m\u001b[0m\n",
      "\u001b[0m\u001b[32m14:12:10\u001b[0m \u001b[1m|\u001b[0m \u001b[34mINFO\u001b[0m \u001b[1m|\u001b[0m Annotation download successful\n",
      "\u001b[0m"
     ]
    }
   ],
   "source": [
    "# download genome\n",
    "!genomepy install --provider Ensembl --annotation --genomes_dir {work_dir} {genome_name}"
   ]
  },
  {
   "cell_type": "code",
   "execution_count": 36,
   "metadata": {},
   "outputs": [
    {
     "data": {
      "text/plain": [
       "'/scratch/multiomics/nickyoungblut/star_refs/Canis_lupus_familiaris/ROS_Cfam_1.0/ROS_Cfam_1.0.fa'"
      ]
     },
     "execution_count": 36,
     "metadata": {},
     "output_type": "execute_result"
    }
   ],
   "source": [
    "# get genome fasta\n",
    "fasta_file = glob(f\"{work_dir}/{genome_name}/*.fa\")[0]\n",
    "fasta_file"
   ]
  },
  {
   "cell_type": "code",
   "execution_count": 37,
   "metadata": {},
   "outputs": [
    {
     "data": {
      "text/plain": [
       "'/scratch/multiomics/nickyoungblut/star_refs/Canis_lupus_familiaris/ROS_Cfam_1.0/ROS_Cfam_1.0.annotation.gtf'"
      ]
     },
     "execution_count": 37,
     "metadata": {},
     "output_type": "execute_result"
    }
   ],
   "source": [
    "# get gtf file\n",
    "gtf_file = glob(f\"{work_dir}/{genome_name}/*.gtf\")[0]\n",
    "gtf_file"
   ]
  },
  {
   "cell_type": "code",
   "execution_count": 38,
   "metadata": {},
   "outputs": [
    {
     "name": "stdout",
     "output_type": "stream",
     "text": [
      "Processing GTF: ROS_Cfam_1.0.annotation.gtf\n",
      "Output GTF: /scratch/multiomics/nickyoungblut/star_refs/Canis_lupus_familiaris/Canis_lupus_familiaris/Canis_lupus_familiaris.gtf\n",
      "Total records in GTF: 1295258\n",
      "Filtered 14652 records by biotype\n",
      "Filtered 0 records by tag\n",
      "-- Count of biotypes filtered --\n",
      "snRNA: 5250\n",
      "pseudogene: 3819\n",
      "miRNA: 2958\n",
      "snoRNA: 1854\n",
      "processed_pseudogene: 438\n",
      "scaRNA: 84\n",
      "Y_RNA: 81\n",
      "rRNA: 81\n",
      "misc_RNA: 66\n",
      "ribozyme: 18\n",
      "vault_RNA: 3\n",
      "-- Count of biotypes kept --\n",
      "protein_coding: 2485196\n",
      "lncRNA: 48257\n",
      "IG_V_gene: 293\n",
      "IG_C_gene: 276\n",
      "TR_J_gene: 63\n",
      "TR_C_gene: 43\n",
      "TR_V_gene: 38\n",
      "----------------------------\n"
     ]
    }
   ],
   "source": [
    "# format the reference\n",
    "exe = os.path.join(script_dir, \"format-star-ref.py\")\n",
    "!{exe} --organism \"{organism}\"  --output-dir {work_dir} {gtf_file} "
   ]
  },
  {
   "cell_type": "code",
   "execution_count": 39,
   "metadata": {},
   "outputs": [
    {
     "data": {
      "text/plain": [
       "True"
      ]
     },
     "execution_count": 39,
     "metadata": {},
     "output_type": "execute_result"
    }
   ],
   "source": [
    "# set the filtered gtf file\n",
    "gtf_filt_file = os.path.join(work_dir, org_str, f\"{org_str}.gtf\")\n",
    "os.path.exists(gtf_filt_file)"
   ]
  },
  {
   "cell_type": "code",
   "execution_count": 40,
   "metadata": {},
   "outputs": [
    {
     "name": "stdout",
     "output_type": "stream",
     "text": [
      "\t/home/nickyoungblut/miniforge3/envs/asmbl/bin/STAR-avx2 --runThreadN 16 --runMode genomeGenerate --genomeDir /scratch/multiomics/nickyoungblut/star_refs/Canis_lupus_familiaris/star --genomeFastaFiles /scratch/multiomics/nickyoungblut/star_refs/Canis_lupus_familiaris/ROS_Cfam_1.0/ROS_Cfam_1.0.fa --sjdbGTFfile /scratch/multiomics/nickyoungblut/star_refs/Canis_lupus_familiaris/Canis_lupus_familiaris/Canis_lupus_familiaris.gtf --sjdbOverhang 100\n",
      "\tSTAR version: 2.7.11b   compiled: 2025-01-09T12:32:06+0000 :/opt/conda/conda-bld/star_1736425784849/work/source\n",
      "Jan 31 14:12:47 ..... started STAR run\n",
      "!!!!! WARNING: Could not move Log.out file from ./Log.out into /scratch/multiomics/nickyoungblut/star_refs/Canis_lupus_familiaris/star/Log.out. Will keep ./Log.out\n",
      "\n",
      "Jan 31 14:12:47 ... starting to generate Genome files\n",
      "Jan 31 14:13:18 ..... processing annotations GTF\n",
      "Jan 31 14:13:29 ... starting to sort Suffix Array. This may take a long time...\n",
      "Jan 31 14:13:37 ... sorting Suffix Array chunks and saving them to disk...\n",
      "Jan 31 14:19:38 ... loading chunks from disk, packing SA...\n",
      "Jan 31 14:20:38 ... finished generating suffix array\n",
      "Jan 31 14:20:38 ... generating Suffix Array index\n",
      "Jan 31 14:24:09 ... completed Suffix Array index\n",
      "Jan 31 14:24:09 ..... inserting junctions into the genome indices\n",
      "Jan 31 14:26:03 ... writing Genome to disk ...\n",
      "Jan 31 14:26:05 ... writing Suffix Array to disk ...\n",
      "Jan 31 14:26:26 ... writing SAindex to disk\n",
      "Jan 31 14:26:29 ..... finished successfully\n"
     ]
    }
   ],
   "source": [
    "# create the star index\n",
    "star_dir = os.path.join(work_dir, \"star\")\n",
    "os.makedirs(star_dir, exist_ok=True)\n",
    "\n",
    "!STAR --runThreadN 16 \\\n",
    "    --runMode genomeGenerate \\\n",
    "    --genomeDir {star_dir} \\\n",
    "    --genomeFastaFiles {fasta_file} \\\n",
    "    --sjdbGTFfile {gtf_filt_file} \\\n",
    "    --sjdbOverhang 100 "
   ]
  },
  {
   "cell_type": "markdown",
   "metadata": {},
   "source": [
    "# Bos taurus"
   ]
  },
  {
   "cell_type": "code",
   "execution_count": 27,
   "metadata": {},
   "outputs": [],
   "source": [
    "organism = \"Bos taurus\""
   ]
  },
  {
   "cell_type": "code",
   "execution_count": 28,
   "metadata": {},
   "outputs": [],
   "source": [
    "# format\n",
    "org_str = organism.replace(\" \", \"_\")\n",
    "work_dir = os.path.join(base_dir, org_str)\n",
    "os.makedirs(work_dir, exist_ok=True)"
   ]
  },
  {
   "cell_type": "code",
   "execution_count": 29,
   "metadata": {},
   "outputs": [
    {
     "name": "stdout",
     "output_type": "stream",
     "text": [
      "\u001b[1mname                 provider accession         tax_id annotation species                                  other_info                              \u001b[0m\n",
      "\u001b[0mBos_taurus_UMD_3.1.1 NCBI     GCA_000003055.5     9913     \u001b[32m✓\u001b[39m      Bos taurus                               Center for Bioinformatics and Computational Biology, University of Maryland\u001b[0m\n",
      "\u001b[0mBtau_4.6.1           NCBI     GCF_000003205.5     9913     \u001b[32m✓\u001b[39m      Bos taurus                               Cattle Genome Sequencing International Consortium\u001b[0m\n",
      "\u001b[0mBtau_5.0             NCBI     GCA_000003205.5     9913     \u001b[32m✓\u001b[39m      Bos taurus                               Cattle Genome Sequencing International Consortium\u001b[0m\n",
      "\u001b[0mARS-UCD1.2           NCBI     GCF_002263795.1     9913     \u001b[32m✓\u001b[39m      Bos taurus                               USDA ARS                                \u001b[0m\n",
      "\u001b[0mARS-UCD1.3           NCBI     GCF_002263795.2     9913     \u001b[32m✓\u001b[39m      Bos taurus                               USDA ARS                                \u001b[0m\n",
      "\u001b[0mBos_hybrid_PaternalHap_v1.0 NCBI     GCA_003369685.1    30522     \u001b[32m✓\u001b[39m      Bos indicus x Bos taurus                 University of Adelaide                  \u001b[0m\n",
      "\u001b[0mBos_hybrid_MaternalHap_v1.0 NCBI     GCA_003369695.1    30522     \u001b[32m✓\u001b[39m      Bos indicus x Bos taurus                 University of Adelaide                  \u001b[0m\n",
      "\u001b[0mSNU_Hanwoo_1.0       NCBI     GCA_028973685.1     9913     \u001b[31m✗\u001b[39m      Bos taurus                               Seoul National University               \u001b[0m\n",
      "\u001b[0mBos_taurus_UMD_3.1   NCBI     GCF_000003055.3     9913     \u001b[32m✓\u001b[39m      Bos taurus                               Center for Bioinformatics and Computational Biology, University of Maryland\u001b[0m\n",
      "\u001b[0mBtau_5.0.1           NCBI     GCA_000003205.6     9913     \u001b[31m✗\u001b[39m      Bos taurus                               Cattle Genome Sequencing International Consortium\u001b[0m\n",
      "\u001b[0mASM317933v1          NCBI     GCA_003179335.1   337052     \u001b[32m✓\u001b[39m      Bos taurus papillomavirus 13             Veterinary Teaching Hospital, Laboratory of Veterinary Microbiology, Universidade de Cuiaba\u001b[0m\n",
      "\u001b[0mASM317965v1          NCBI     GCA_003179655.1    10561     \u001b[32m✓\u001b[39m      Bos taurus papillomavirus 15             College of Animal Science, Tarim University\u001b[0m\n",
      "\u001b[0mASM317967v1          NCBI     GCA_003179675.1   337052     \u001b[32m✓\u001b[39m      Bos taurus papillomavirus 14             Pathobiology, IVABS, Massey University  \u001b[0m\n",
      "\u001b[0mFC3                  NCBI     GCA_003179915.1    10561     \u001b[32m✓\u001b[39m      Bos taurus papillomavirus 23             Laboratorio de Virologia, Universidade Federal do Rio Grande do Sul\u001b[0m\n",
      "\u001b[0mASM318001v1          NCBI     GCA_003180015.1   337052     \u001b[32m✓\u001b[39m      Bos taurus papillomavirus 2              na                                      \u001b[0m\n",
      "\u001b[0mASM318043v1          NCBI     GCA_003180435.1    10561     \u001b[32m✓\u001b[39m      Bos taurus papillomavirus 4              M.S. Campo, Beatson Inst for Cancer Research, Garscube Estate, Bearsden Road, Glasgow G61, UK\u001b[0m\n",
      "\u001b[0mViralProj15513       NCBI     GCF_000863985.1   337052     \u001b[32m✓\u001b[39m      Bos taurus papillomavirus 1              NCBI                                    \u001b[0m\n",
      "\u001b[0mViralProj16202       NCBI     GCF_000864305.1  1513255     \u001b[32m✓\u001b[39m      Bos taurus papillomavirus 7              Molecular Virology, Graduate School of Medicine\u001b[0m\n",
      "\u001b[0mViralProj300229      NCBI     GCF_001430515.1  1513273     \u001b[32m✓\u001b[39m      Bos taurus papillomavirus 12             Department of Veterinary Microbiology, University of Miyazaki\u001b[0m\n",
      "\u001b[0mNODE5                NCBI     GCF_001714375.1  2169881     \u001b[32m✓\u001b[39m      Bos taurus papillomavirus 19             Laboratorio de Virologia, Universidade Federal do Rio Grande do Sul\u001b[0m\n",
      "\u001b[0mNODE1                NCBI     GCF_001714395.1   337052     \u001b[32m✓\u001b[39m      Bos taurus papillomavirus 13             Laboratorio de Virologia, Universidade Federal do Rio Grande do Sul\u001b[0m\n",
      "\u001b[0mNODE7                NCBI     GCF_001714415.1  2169881     \u001b[32m✓\u001b[39m      Bos taurus papillomavirus 21             Laboratorio de Virologia, Universidade Federal do Rio Grande do Sul\u001b[0m\n",
      "\u001b[0mNODE3                NCBI     GCF_001714435.1  2170255     \u001b[32m✓\u001b[39m      Bos taurus papillomavirus 17             Laboratorio de Virologia, Universidade Federal do Rio Grande do Sul\u001b[0m\n",
      "\u001b[0mNODE4                NCBI     GCF_001714475.1  2169879     \u001b[32m✓\u001b[39m      Bos taurus papillomavirus 18             Laboratorio de Virologia, Universidade Federal do Rio Grande do Sul\u001b[0m\n",
      "\u001b[0mNODE6                NCBI     GCF_001714515.1  1887218     \u001b[32m✓\u001b[39m      Bos taurus papillomavirus 20             Laboratorio de Virologia, Universidade Federal do Rio Grande do Sul\u001b[0m\n",
      "\u001b[0mNODE2                NCBI     GCF_001714535.1  2169878     \u001b[32m✓\u001b[39m      Bos taurus papillomavirus 16             Laboratorio de Virologia, Universidade Federal do Rio Grande do Sul\u001b[0m\n",
      "\u001b[0mARS-UCD2.0           NCBI     GCF_002263795.3     9913     \u001b[32m✓\u001b[39m      Bos taurus                               USDA ARS                                \u001b[0m\n",
      "\u001b[0mASM317741v1          NCBI     GCA_003177415.1    10561     \u001b[32m✓\u001b[39m      Bos taurus papillomavirus 9              Contact:Shinichi Hatama National Institute of Animal Health, Hokkaido Research Station; 4 Hitsujigaoka, Toyohira, Sapporo, Hokkaido 062-0045, Japan\u001b[0m\n",
      "\u001b[0mASM317743v1          NCBI     GCA_003177435.1    10561     \u001b[32m✓\u001b[39m      Bos taurus papillomavirus 10             Contact:Shinichi Hatama National Institute of Animal Health, Hokkaido Research Station; 4 Hitsujigaoka, Toyohira, Sapporo, Hokkaido 062-0045, Japan\u001b[0m\n",
      "\u001b[0mASM317745v1          NCBI     GCA_003177455.1    10561     \u001b[32m✓\u001b[39m      Bos taurus papillomavirus 11             Contact:Shinichi Hatama National Institute of Animal Health, Hokkaido Research Station; 4 Hitsujigaoka, Toyohira, Sapporo, Hokkaido 062-0045, Japan\u001b[0m\n",
      "\u001b[0mASM317769v1          NCBI     GCA_003177695.1    10561     \u001b[32m✓\u001b[39m      Bos taurus papillomavirus 6              de Villiers E.M., Div. Characterization of Tumorviruses, Deutsches Krebsforschungszentrum, Im Neuenheimer Feld 242, Heidelberg, 69120, GERMANY\u001b[0m\n",
      "\u001b[0mASM317799v1          NCBI     GCA_003177995.1    40537     \u001b[32m✓\u001b[39m      Bos taurus papillomavirus 8              Molecular Virology, Chiba University School of Medicine\u001b[0m\n",
      "\u001b[0mUOA_Angus_1          NCBI     GCA_003369685.2    30522     \u001b[31m✗\u001b[39m      Bos indicus x Bos taurus                 University of Adelaide                  \u001b[0m\n",
      "\u001b[0mUOA_Brahman_1        NCBI     GCF_003369695.1    30522     \u001b[32m✓\u001b[39m      Bos indicus x Bos taurus                 University of Adelaide                  \u001b[0m\n",
      "\u001b[0mARS_UNL_BGru_maternal_1.0_p NCBI     GCA_009493645.1   331036     \u001b[31m✗\u001b[39m      Bos grunniens x Bos taurus               University of Nebraska - Lincoln        \u001b[0m\n",
      "\u001b[0mARS_UNL_Btau-highland_paternal_1.0_alt NCBI     GCA_009493655.1   331036     \u001b[31m✗\u001b[39m      Bos grunniens x Bos taurus               University of Nebraska - Lincoln        \u001b[0m\n",
      "\u001b[0mcow.Unzip_primary    NCBI     GCA_012069665.1    30522     \u001b[31m✗\u001b[39m      Bos indicus x Bos taurus                 PacBio                                  \u001b[0m\n",
      "\u001b[0mcow.Unzip_haplotigs  NCBI     GCA_012070425.1    30522     \u001b[31m✗\u001b[39m      Bos indicus x Bos taurus                 PacBio                                  \u001b[0m\n",
      "\u001b[0mcow.phase1_contigs   NCBI     GCA_012070445.1    30522     \u001b[31m✗\u001b[39m      Bos indicus x Bos taurus                 PacBio                                  \u001b[0m\n",
      "\u001b[0mcow.phase0_contigs   NCBI     GCA_012070465.1    30522     \u001b[31m✗\u001b[39m      Bos indicus x Bos taurus                 PacBio                                  \u001b[0m\n",
      "\u001b[0mcow.phase0_scaffolds NCBI     GCA_012070475.1    30522     \u001b[31m✗\u001b[39m      Bos indicus x Bos taurus                 PacBio                                  \u001b[0m\n",
      "\u001b[0mcow.phase1_scaffolds NCBI     GCA_012070485.1    30522     \u001b[31m✗\u001b[39m      Bos indicus x Bos taurus                 PacBio                                  \u001b[0m\n",
      "\u001b[0mARS-UCSC_bison1.0    NCBI     GCA_018282365.1   297284     \u001b[31m✗\u001b[39m      Bos taurus x Bison bison                 USDA ARS                                \u001b[0m\n",
      "\u001b[0mARS_Simm1.0          NCBI     GCA_018282465.1   297284     \u001b[31m✗\u001b[39m      Bos taurus x Bison bison                 USDA ARS                                \u001b[0m\n",
      "\u001b[0mARS-LIC_NZ_Jersey    NCBI     GCA_021234555.1     9913     \u001b[31m✗\u001b[39m      Bos taurus                               USDA ARS                                \u001b[0m\n",
      "\u001b[0mARS-LIC_NZ_Holstein-Friesian_1 NCBI     GCA_021347905.1     9913     \u001b[31m✗\u001b[39m      Bos taurus                               USDA ARS                                \u001b[0m\n",
      "\u001b[0mB.taurus_INIA.1      NCBI     GCA_024542955.1     9913     \u001b[31m✗\u001b[39m      Bos taurus                               Instituto de Innovación Agraria La Molina\u001b[0m\n",
      "\u001b[0mSNU_Hanwoo_2.0       NCBI     GCA_028973685.2     9913     \u001b[31m✗\u001b[39m      Bos taurus                               Seoul National University               \u001b[0m\n",
      "\u001b[0mTAMU_Bison_Bison_3.0 NCBI     GCA_030254855.1   297284     \u001b[31m✗\u001b[39m      Bos taurus x Bison bison                 Texas A&M University                    \u001b[0m\n",
      "\u001b[0mASM3037850v1         NCBI     GCA_030378505.1     9913     \u001b[31m✗\u001b[39m      Bos taurus                               Bovine Pangenome Consortium             \u001b[0m\n",
      "\u001b[0m4827RS16-BR_node9    NCBI     GCA_031098855.1    10561     \u001b[32m✓\u001b[39m      Bos taurus papillomavirus 4              Laboratorio de Virologia, Universidade Federal do Rio Grande do Sul (UFRGS)\u001b[0m\n",
      "\u001b[0mASM3109886v1         NCBI     GCA_031098865.1    10561     \u001b[32m✓\u001b[39m      Bos taurus papillomavirus 6              Contact:Shinichi Hatama National Institute of Animal Health, Hokkaido Research Station; 4 Hitsujigaoka, Toyohira, Sapporo, Hokkaido 062-0045, Japan\u001b[0m\n",
      "\u001b[0m14RS_contig_9_-_BPV25 NCBI     GCA_031171625.1  2162699     \u001b[32m✓\u001b[39m      Bos taurus papillomavirus 25             Laboratorio de Virologia, Universidade Federal do Rio Grande do Sul\u001b[0m\n",
      "\u001b[0m29RS_contig_329      NCBI     GCA_031171635.1  2162700     \u001b[32m✓\u001b[39m      Bos taurus papillomavirus 26             Laboratorio de Virologia, Universidade Federal do Rio Grande do Sul\u001b[0m\n",
      "\u001b[0mASM3121945v1         NCBI     GCA_031219455.1  2751155     \u001b[32m✓\u001b[39m      Bos taurus papillomavirus 28             Contact:Nanako Yamashita University of Tokyo, Graduate School of Agricultural and Life Sciences; Yayoi 1-1-1, Bunkyo-ku, Tokyo 113-8657, Japan\u001b[0m\n",
      "\u001b[0mNode_2               NCBI     GCA_031219715.1   337052     \u001b[32m✓\u001b[39m      Bos taurus papillomavirus 2              Laboratorio de Virologia, Universidade Federal do Rio Grande do Sul\u001b[0m\n",
      "\u001b[0m4834RS16-BR_node2    NCBI     GCA_031219735.1    40537     \u001b[32m✓\u001b[39m      Bos taurus papillomavirus 8              Laboratorio de Virologia, Universidade Federal do Rio Grande do Sul (UFRGS)\u001b[0m\n",
      "\u001b[0mASM3123570v1         NCBI     GCA_031235705.1    10561     \u001b[32m✓\u001b[39m      Bos taurus papillomavirus 29             Contact:Nanako Yamashita University of Tokyo, Graduate School of Agricultural and Life Sciences; Yayoi 1-1-1, Bunkyo-ku, Tokyo 113-8657, Japan\u001b[0m\n",
      "\u001b[0m4827RS16-BR_node_1.1 NCBI     GCA_031259885.1  2866011     \u001b[32m✓\u001b[39m      Bos taurus papillomavirus 30             Laboratorio de Virologia Geral e Parasitologia, Universidade Federal do Acre\u001b[0m\n",
      "\u001b[0m3895RS16-BR_node3    NCBI     GCA_031259915.1  2866013     \u001b[32m✓\u001b[39m      Bos taurus papillomavirus 39             Laboratorio de Virologia, Universidade Federal do Rio Grande do Sul (UFRGS)\u001b[0m\n",
      "\u001b[0m3896RS16-BR_node1    NCBI     GCA_031259975.1  2866014     \u001b[32m✓\u001b[39m      Bos taurus papillomavirus 43             Laboratorio de Virologia, Universidade Federal do Rio Grande do Sul (UFRGS)\u001b[0m\n",
      "\u001b[0m4826RS16-BR_node2    NCBI     GCA_031260005.1  2866020     \u001b[32m✓\u001b[39m      Bos taurus papillomavirus 27             Laboratorio de Virologia, Universidade Federal do Rio Grande do Sul (UFRGS)\u001b[0m\n",
      "\u001b[0m3895RS16-BR_node1    NCBI     GCA_031260025.1  2866022     \u001b[32m✓\u001b[39m      Bos taurus papillomavirus 40             Laboratorio de Virologia, Universidade Federal do Rio Grande do Sul (UFRGS)\u001b[0m\n",
      "\u001b[0m3895RS16-BR_node5    NCBI     GCA_031264255.1  2866023     \u001b[32m✓\u001b[39m      Bos taurus papillomavirus 41             Laboratorio de Virologia, Universidade Federal do Rio Grande do Sul (UFRGS)\u001b[0m\n",
      "\u001b[0m3896RS16-BR_node2    NCBI     GCA_031264275.1  2866024     \u001b[32m✓\u001b[39m      Bos taurus papillomavirus 42             Laboratorio de Virologia, Universidade Federal do Rio Grande do Sul (UFRGS)\u001b[0m\n",
      "\u001b[0m4827RS16-BR_node8    NCBI     GCA_031264305.1  2866038     \u001b[32m✓\u001b[39m      Bos taurus papillomavirus 34             Laboratorio de Virologia, Universidade Federal do Rio Grande do Sul (UFRGS)\u001b[0m\n",
      "\u001b[0m4827RS16-BR_node10   NCBI     GCA_031264355.1  2866039     \u001b[32m✓\u001b[39m      Bos taurus papillomavirus 35             Laboratorio de Virologia, Universidade Federal do Rio Grande do Sul (UFRGS)\u001b[0m\n",
      "\u001b[0m4828RS16-BR_node2    NCBI     GCA_031264385.1  2866040     \u001b[32m✓\u001b[39m      Bos taurus papillomavirus 36             Laboratorio de Virologia, Universidade Federal do Rio Grande do Sul (UFRGS)\u001b[0m\n",
      "\u001b[0m3672RS16-BR_node4    NCBI     GCA_031264405.1  2866041     \u001b[32m✓\u001b[39m      Bos taurus papillomavirus 37             Laboratorio de Virologia, Universidade Federal do Rio Grande do Sul (UFRGS)\u001b[0m\n",
      "\u001b[0m3672RS16-BR_node5    NCBI     GCA_031264435.1  2866042     \u001b[32m✓\u001b[39m      Bos taurus papillomavirus 38             Laboratorio de Virologia, Universidade Federal do Rio Grande do Sul (UFRGS)\u001b[0m\n",
      "\u001b[0m4827RS16-BR_node2    NCBI     GCA_031264485.1  2866044     \u001b[32m✓\u001b[39m      Bos taurus papillomavirus 31             Laboratorio de Virologia, Universidade Federal do Rio Grande do Sul (UFRGS)\u001b[0m\n",
      "\u001b[0m4827RS16-BR_node3    NCBI     GCA_031264525.1  2866045     \u001b[32m✓\u001b[39m      Bos taurus papillomavirus 32             Laboratorio de Virologia, Universidade Federal do Rio Grande do Sul (UFRGS)\u001b[0m\n",
      "\u001b[0m4827RS16-BR_node7    NCBI     GCA_031264535.1  2866046     \u001b[32m✓\u001b[39m      Bos taurus papillomavirus 33             Laboratorio de Virologia, Universidade Federal do Rio Grande do Sul (UFRGS)\u001b[0m\n",
      "\u001b[0mSNNPC3_IISER1.0      NCBI     GCA_033032115.1     9913     \u001b[31m✗\u001b[39m      Bos taurus                               Indian Institute of Science Education and Research\u001b[0m\n",
      "\u001b[0mYAU_Btau_1.0         NCBI     GCA_034097375.1     9913     \u001b[31m✗\u001b[39m      Bos taurus                               Yunnan Agricultural University          \u001b[0m\n",
      "\u001b[0mASM3988117v1         NCBI     GCA_039881175.1     9913     \u001b[31m✗\u001b[39m      Bos taurus                               Northwest A&F University                \u001b[0m\n",
      "\u001b[0mUOA_Tuli_1           NCBI     GCA_040285425.1     9913     \u001b[31m✗\u001b[39m      Bos taurus                               University of Adelaide                  \u001b[0m\n",
      "\u001b[0mUOA_Wagyu_1          NCBI     GCA_040286185.1     9913     \u001b[31m✗\u001b[39m      Bos taurus                               University of Adelaide                  \u001b[0m\n",
      "\u001b[0mASM4388211v1         NCBI     GCA_043882115.1     9913     \u001b[31m✗\u001b[39m      Bos taurus                               Shanghai Jiao Tong University           \u001b[0m\n",
      "\u001b[0mROSLIN_BTT_NDA1      NCBI     GCA_905123515.1     9913     \u001b[31m✗\u001b[39m      Bos taurus                               THE ROSLIN INSTITUTE                    \u001b[0m\n",
      "\u001b[0mROSLIN_BTI_ANK1      NCBI     GCA_905123885.1     9913     \u001b[31m✗\u001b[39m      Bos taurus                               THE ROSLIN INSTITUTE                    \u001b[0m\n",
      "\u001b[0mBrown_Swiss_cow      NCBI     GCA_914753205.1     9913     \u001b[31m✗\u001b[39m      Bos taurus                               The Genome Analysis Centre              \u001b[0m\n",
      "\u001b[0mARS_Pied_mat1.0      NCBI     GCA_946052875.1  1705790     \u001b[31m✗\u001b[39m      Bos gaurus x Bos taurus                  ETH ZURICH                              \u001b[0m\n",
      "\u001b[0mseqoccin.Bt.char.v1.0 NCBI     GCA_947034695.1     9913     \u001b[31m✗\u001b[39m      Bos taurus                               INRAE                                   \u001b[0m\n",
      "\u001b[0mseqoccin.Bt.char.SAMEA114541726.v1.0 NCBI     GCA_963920245.1     9913     \u001b[31m✗\u001b[39m      Bos taurus                               INRAE                                   \u001b[0m\n",
      "\u001b[0mseqoccin.Bt.char.SAMEA114541728.v1.0 NCBI     GCA_963920255.1     9913     \u001b[31m✗\u001b[39m      Bos taurus                               INRAE                                   \u001b[0m\n",
      "\u001b[0mseqoccin.Bt.char.SAMEA114541727.v1.0 NCBI     GCA_963920265.1     9913     \u001b[31m✗\u001b[39m      Bos taurus                               INRAE                                   \u001b[0m\n",
      "\u001b[0mNRF                  NCBI     GCA_963921495.1     9913     \u001b[31m✗\u001b[39m      Bos taurus                               NORWEGIAN UNIVERSITY OF LIFE SCIENCES   \u001b[0m\n",
      "\u001b[0mseqoccin.Bt.char.SAMEA114111949_v1 NCBI     GCA_964019205.1     9913     \u001b[31m✗\u001b[39m      Bos taurus                               INRAE                                   \u001b[0m\n",
      "\u001b[0mseqoccin.Bt.char.SAMEA114112153_v1 NCBI     GCA_964019215.1     9913     \u001b[31m✗\u001b[39m      Bos taurus                               INRAE                                   \u001b[0m\n",
      "\u001b[0mseqoccin.Bt.char.SAMEA114111952_v1 NCBI     GCA_964019225.1     9913     \u001b[31m✗\u001b[39m      Bos taurus                               INRAE                                   \u001b[0m\n",
      "\u001b[0mseqoccin.Bt.char.SAMEA114111947_v1 NCBI     GCA_964019235.1     9913     \u001b[31m✗\u001b[39m      Bos taurus                               INRAE                                   \u001b[0m\n",
      "\u001b[0mseqoccin.Bt.char.SAMEA114112003_v1 NCBI     GCA_964019245.1     9913     \u001b[31m✗\u001b[39m      Bos taurus                               INRAE                                   \u001b[0m\n",
      "\u001b[0mseqoccin.Bt.char.SAMEA114112080_v1 NCBI     GCA_964019255.1     9913     \u001b[31m✗\u001b[39m      Bos taurus                               INRAE                                   \u001b[0m\n",
      "\u001b[0mseqoccin.Bt.char.SAMEA114111958_v1 NCBI     GCA_964019265.1     9913     \u001b[31m✗\u001b[39m      Bos taurus                               INRAE                                   \u001b[0m\n",
      "\u001b[0mseqoccin.Bt.char.SAMEA114112360_v1 NCBI     GCA_964019275.1     9913     \u001b[31m✗\u001b[39m      Bos taurus                               INRAE                                   \u001b[0m\n",
      "\u001b[0mseqoccin.Bt.char.SAMEA114112439_v1 NCBI     GCA_964019295.1     9913     \u001b[31m✗\u001b[39m      Bos taurus                               INRAE                                   \u001b[0m\n",
      "\u001b[0m\u001b[32m ^\u001b[0m\n",
      "\u001b[0m\u001b[32m Use name for \u001b[36mgenomepy install\u001b[0m\n",
      "\u001b[0m\u001b[0m"
     ]
    }
   ],
   "source": [
    "# show available assemblies\n",
    "!genomepy search --provider NCBI {organism}"
   ]
  },
  {
   "cell_type": "code",
   "execution_count": 30,
   "metadata": {},
   "outputs": [
    {
     "name": "stdout",
     "output_type": "stream",
     "text": [
      "\u001b[1mname                 provider accession         tax_id annotation species                                  other_info                              \u001b[0m\n",
      "\u001b[0mUOA_Angus_1          Ensembl  GCA_003369685.2    30522     \u001b[32m✓\u001b[39m      Bos indicus x Bos taurus                 2018-12-Ensembl/2019-03                 \u001b[0m\n",
      "\u001b[0mUOA_Brahman_1        Ensembl  GCA_003369695.2    30522     \u001b[32m✓\u001b[39m      Bos indicus x Bos taurus                 2018-12-Ensembl/2019-03                 \u001b[0m\n",
      "\u001b[0mARS-UCD1.3           Ensembl  GCA_002263795.3     9913     \u001b[32m✓\u001b[39m      Bos taurus                               2023-02-Ensembl/2023-06                 \u001b[0m\n",
      "\u001b[0m\u001b[32m ^\u001b[0m\n",
      "\u001b[0m\u001b[32m Use name for \u001b[36mgenomepy install\u001b[0m\n",
      "\u001b[0m\u001b[0m"
     ]
    }
   ],
   "source": [
    "# show available assemblies\n",
    "!genomepy search --provider Ensembl {organism}"
   ]
  },
  {
   "cell_type": "code",
   "execution_count": null,
   "metadata": {},
   "outputs": [],
   "source": [
    "# set the genome name\n",
    "genome_name = \"ARS-UCD1.3\""
   ]
  },
  {
   "cell_type": "code",
   "execution_count": null,
   "metadata": {},
   "outputs": [
    {
     "name": "stdout",
     "output_type": "stream",
     "text": [
      "\u001b[32m17:34:02\u001b[0m \u001b[1m|\u001b[0m \u001b[34mINFO\u001b[0m \u001b[1m|\u001b[0m Downloading genome from Ensembl. Target URL: http://ftp.ensembl.org/pub/release-113/fasta/bos_taurus/dna/Bos_taurus.ARS-UCD1.3.dna_sm.toplevel.fa.gz...\n",
      "Download:  32%|█████████▋                    | 270M/833M [00:10<00:19, 30.7MB/s]\u001b[0m"
     ]
    }
   ],
   "source": [
    "# download genome\n",
    "!genomepy install --provider Ensembl --annotation --genomes_dir {work_dir} {genome_name}"
   ]
  },
  {
   "cell_type": "code",
   "execution_count": null,
   "metadata": {},
   "outputs": [],
   "source": [
    "# get genome fasta\n",
    "fasta_file = glob(f\"{work_dir}/{genome_name}/*.fa\")[0]\n",
    "fasta_file"
   ]
  },
  {
   "cell_type": "code",
   "execution_count": null,
   "metadata": {},
   "outputs": [],
   "source": [
    "# get gtf file\n",
    "gtf_file = glob(f\"{work_dir}/{genome_name}/*.gtf\")[0]\n",
    "gtf_file"
   ]
  },
  {
   "cell_type": "code",
   "execution_count": null,
   "metadata": {},
   "outputs": [],
   "source": [
    "# format the reference\n",
    "exe = os.path.join(script_dir, \"format-star-ref.py\")\n",
    "!{exe} --organism \"{organism}\"  --output-dir {work_dir} {gtf_file} "
   ]
  },
  {
   "cell_type": "code",
   "execution_count": null,
   "metadata": {},
   "outputs": [],
   "source": [
    "# set the filtered gtf file\n",
    "gtf_filt_file = os.path.join(work_dir, org_str, f\"{org_str}.gtf\")\n",
    "os.path.exists(gtf_filt_file)"
   ]
  },
  {
   "cell_type": "code",
   "execution_count": null,
   "metadata": {},
   "outputs": [],
   "source": [
    "# create the star index\n",
    "star_dir = os.path.join(work_dir, \"star\")\n",
    "os.makedirs(star_dir, exist_ok=True)\n",
    "\n",
    "!STAR --runThreadN 16 \\\n",
    "    --runMode genomeGenerate \\\n",
    "    --genomeDir {star_dir} \\\n",
    "    --genomeFastaFiles {fasta_file} \\\n",
    "    --sjdbGTFfile {gtf_filt_file} \\\n",
    "    --sjdbOverhang 100 "
   ]
  },
  {
   "cell_type": "markdown",
   "metadata": {},
   "source": [
    "# Ovis aries"
   ]
  },
  {
   "cell_type": "code",
   "execution_count": 31,
   "metadata": {},
   "outputs": [],
   "source": [
    "organism = \"Ovis aries\""
   ]
  },
  {
   "cell_type": "code",
   "execution_count": 32,
   "metadata": {},
   "outputs": [],
   "source": [
    "# format\n",
    "org_str = organism.replace(\" \", \"_\")\n",
    "work_dir = os.path.join(base_dir, org_str)\n",
    "os.makedirs(work_dir, exist_ok=True)"
   ]
  },
  {
   "cell_type": "code",
   "execution_count": 33,
   "metadata": {},
   "outputs": [
    {
     "name": "stdout",
     "output_type": "stream",
     "text": [
      "\u001b[1mname                 provider accession         tax_id annotation species                                  other_info                              \u001b[0m\n",
      "\u001b[0mOar_v3.1             NCBI     GCF_000298735.1     9940     \u001b[32m✓\u001b[39m      Ovis aries                               International Sheep Genome Consortium   \u001b[0m\n",
      "\u001b[0mARS-UI_Ramb_v2.0     NCBI     GCF_016772045.1     9940     \u001b[32m✓\u001b[39m      Ovis aries                               University of Idaho                     \u001b[0m\n",
      "\u001b[0mOar_v4.0             NCBI     GCA_000298735.2     9940     \u001b[31m✗\u001b[39m      Ovis aries                               International Sheep Genome Consortium   \u001b[0m\n",
      "\u001b[0mOar_rambouillet_v1.0 NCBI     GCA_002742125.1     9940     \u001b[31m✗\u001b[39m      Ovis aries                               Baylor College of Medicine Human Genome Sequencing Center\u001b[0m\n",
      "\u001b[0mOvis_aries_1.0       NCBI     GCA_000005525.1     9940     \u001b[31m✗\u001b[39m      Ovis aries                               International Sheep Genomics Consortium \u001b[0m\n",
      "\u001b[0mOori1                NCBI     GCA_000765115.1     9940     \u001b[31m✗\u001b[39m      Ovis aries musimon                       EBI                                     \u001b[0m\n",
      "\u001b[0mASM282684v1          NCBI     GCF_002826845.1  1513247     \u001b[32m✓\u001b[39m      Ovis aries papillomavirus 3              Diapartimento di Patologia e Clinica Veterinaria, Universita' Degli Studi di Sassari\u001b[0m\n",
      "\u001b[0mASM1117029v1         NCBI     GCA_011170295.1     9940     \u001b[31m✗\u001b[39m      Ovis aries                               Northwest A&F University                \u001b[0m\n",
      "\u001b[0mARS-UI_Ramb_v3.0     NCBI     GCF_016772045.2     9940     \u001b[32m✓\u001b[39m      Ovis aries                               University of Idaho                     \u001b[0m\n",
      "\u001b[0mCAU_O.aries_1.0      NCBI     GCA_017524585.1     9940     \u001b[32m✓\u001b[39m      Ovis aries                               China Agricultural University           \u001b[0m\n",
      "\u001b[0mNWAFU_Friesian_1.0   NCBI     GCA_018804185.1     9940     \u001b[31m✗\u001b[39m      Ovis aries                               Academy of Gansu Yuansheng Zhongxin Dairy Sheep Industry\u001b[0m\n",
      "\u001b[0mASM1914517v1         NCBI     GCA_019145175.1     9940     \u001b[31m✗\u001b[39m      Ovis aries                               Lanzhou Institute of Husbandry and Pharmaceutical Sciences of Chinese Academy of Agricultural Sciences\u001b[0m\n",
      "\u001b[0mASM2132581v1         NCBI     GCA_021325815.1     9940     \u001b[31m✗\u001b[39m      Ovis aries                               Northwest A&F University                \u001b[0m\n",
      "\u001b[0mASM2132583v1         NCBI     GCA_021325835.1     9940     \u001b[31m✗\u001b[39m      Ovis aries                               Northwest A&F University                \u001b[0m\n",
      "\u001b[0mASM2132585v1         NCBI     GCA_021325855.1     9940     \u001b[31m✗\u001b[39m      Ovis aries                               Northwest A&F University                \u001b[0m\n",
      "\u001b[0mASM2132586v1         NCBI     GCA_021325865.1     9940     \u001b[31m✗\u001b[39m      Ovis aries                               Northwest A&F University                \u001b[0m\n",
      "\u001b[0mASM2132587v1         NCBI     GCA_021325875.1     9940     \u001b[31m✗\u001b[39m      Ovis aries                               Northwest A&F University                \u001b[0m\n",
      "\u001b[0mASM2132590v1         NCBI     GCA_021325905.1     9940     \u001b[31m✗\u001b[39m      Ovis aries                               Northwest A&F University                \u001b[0m\n",
      "\u001b[0mASM2132593v1         NCBI     GCA_021325935.1     9940     \u001b[31m✗\u001b[39m      Ovis aries                               Northwest A&F University                \u001b[0m\n",
      "\u001b[0mASM2132670v1         NCBI     GCA_021326705.1     9940     \u001b[31m✗\u001b[39m      Ovis aries                               Northwest A&F University                \u001b[0m\n",
      "\u001b[0mASM2132673v1         NCBI     GCA_021326735.1     9940     \u001b[31m✗\u001b[39m      Ovis aries                               Northwest A&F University                \u001b[0m\n",
      "\u001b[0mASM2132697v1         NCBI     GCA_021326975.1     9940     \u001b[31m✗\u001b[39m      Ovis aries                               Northwest A&F University                \u001b[0m\n",
      "\u001b[0mASM2132714v1         NCBI     GCA_021327145.1     9940     \u001b[31m✗\u001b[39m      Ovis aries                               Northwest A&F University                \u001b[0m\n",
      "\u001b[0mASM2132724v1         NCBI     GCA_021327245.1     9940     \u001b[31m✗\u001b[39m      Ovis aries                               Northwest A&F University                \u001b[0m\n",
      "\u001b[0mASM2132728v1         NCBI     GCA_021327285.1     9940     \u001b[31m✗\u001b[39m      Ovis aries                               Northwest A&F University                \u001b[0m\n",
      "\u001b[0mASM2132730v1         NCBI     GCA_021327305.1     9940     \u001b[31m✗\u001b[39m      Ovis aries                               Northwest A&F University                \u001b[0m\n",
      "\u001b[0mASM2132731v1         NCBI     GCA_021327315.1     9940     \u001b[31m✗\u001b[39m      Ovis aries                               Northwest A&F University                \u001b[0m\n",
      "\u001b[0mASM2132733v1         NCBI     GCA_021327335.1     9940     \u001b[31m✗\u001b[39m      Ovis aries                               Northwest A&F University                \u001b[0m\n",
      "\u001b[0mASM2132735v1         NCBI     GCA_021327355.1     9940     \u001b[31m✗\u001b[39m      Ovis aries                               Northwest A&F University                \u001b[0m\n",
      "\u001b[0mASM2132737v1         NCBI     GCA_021327375.1     9940     \u001b[31m✗\u001b[39m      Ovis aries                               Northwest A&F University                \u001b[0m\n",
      "\u001b[0mASM2132739v1         NCBI     GCA_021327395.1     9940     \u001b[31m✗\u001b[39m      Ovis aries                               Northwest A&F University                \u001b[0m\n",
      "\u001b[0mASM2132743v1         NCBI     GCA_021327435.1     9940     \u001b[31m✗\u001b[39m      Ovis aries                               Northwest A&F University                \u001b[0m\n",
      "\u001b[0mASM2132893v1         NCBI     GCA_021328935.1     9940     \u001b[31m✗\u001b[39m      Ovis aries                               Northwest A&F University                \u001b[0m\n",
      "\u001b[0mASM2132894v1         NCBI     GCA_021328945.1     9940     \u001b[31m✗\u001b[39m      Ovis aries                               Northwest A&F University                \u001b[0m\n",
      "\u001b[0mASM2132895v1         NCBI     GCA_021328955.1     9940     \u001b[31m✗\u001b[39m      Ovis aries                               Northwest A&F University                \u001b[0m\n",
      "\u001b[0mASM2132899v1         NCBI     GCA_021328995.1     9940     \u001b[31m✗\u001b[39m      Ovis aries                               Northwest A&F University                \u001b[0m\n",
      "\u001b[0mOar_ARS-UKY_WhiteDorper_v1.0 NCBI     GCA_022244695.1     9940     \u001b[31m✗\u001b[39m      Ovis aries                               University of Kentucky                  \u001b[0m\n",
      "\u001b[0mOar_ARS-UKY_Romanov_v1.0 NCBI     GCA_022244705.1     9940     \u001b[31m✗\u001b[39m      Ovis aries                               University of Kentucky                  \u001b[0m\n",
      "\u001b[0mASM2241668v1         NCBI     GCA_022416685.1     9940     \u001b[31m✗\u001b[39m      Ovis aries                               Northwest A&F University                \u001b[0m\n",
      "\u001b[0mASM2241669v1         NCBI     GCA_022416695.1     9940     \u001b[31m✗\u001b[39m      Ovis aries                               Northwest A&F University                \u001b[0m\n",
      "\u001b[0mASM2241672v1         NCBI     GCA_022416725.1     9940     \u001b[31m✗\u001b[39m      Ovis aries                               Northwest A&F University                \u001b[0m\n",
      "\u001b[0mASM2241674v1         NCBI     GCA_022416745.1     9940     \u001b[31m✗\u001b[39m      Ovis aries                               Northwest A&F University                \u001b[0m\n",
      "\u001b[0mASM2241675v1         NCBI     GCA_022416755.1     9940     \u001b[31m✗\u001b[39m      Ovis aries                               Northwest A&F University                \u001b[0m\n",
      "\u001b[0mASM2241677v1         NCBI     GCA_022416775.1     9940     \u001b[31m✗\u001b[39m      Ovis aries                               Northwest A&F University                \u001b[0m\n",
      "\u001b[0mASM2241678v1         NCBI     GCA_022416785.1     9940     \u001b[31m✗\u001b[39m      Ovis aries                               Northwest A&F University                \u001b[0m\n",
      "\u001b[0mASM2241691v1         NCBI     GCA_022416915.1     9940     \u001b[31m✗\u001b[39m      Ovis aries                               Northwest A&F University                \u001b[0m\n",
      "\u001b[0mASM2243282v1         NCBI     GCA_022432825.1     9940     \u001b[31m✗\u001b[39m      Ovis aries                               Northwest A&F University                \u001b[0m\n",
      "\u001b[0mASM2243283v1         NCBI     GCA_022432835.1     9940     \u001b[31m✗\u001b[39m      Ovis aries                               Northwest A&F University                \u001b[0m\n",
      "\u001b[0mASM2243284v1         NCBI     GCA_022432845.1     9940     \u001b[31m✗\u001b[39m      Ovis aries                               Northwest A&F University                \u001b[0m\n",
      "\u001b[0mASM2253800v1         NCBI     GCA_022538005.1     9940     \u001b[31m✗\u001b[39m      Ovis aries                               Northwest A&F University                \u001b[0m\n",
      "\u001b[0mASM2270250v1         NCBI     GCA_022702505.1     9940     \u001b[31m✗\u001b[39m      Ovis aries                               Northwest A&F University                \u001b[0m\n",
      "\u001b[0mASM2270266v1         NCBI     GCA_022702665.1     9940     \u001b[31m✗\u001b[39m      Ovis aries                               Northwest A&F University                \u001b[0m\n",
      "\u001b[0mCAU_F1_paternal_1.0  NCBI     GCA_023701655.1  2918886     \u001b[32m✓\u001b[39m      Ovis ammon polii x Ovis aries            China Agricultural University           \u001b[0m\n",
      "\u001b[0mCAU_F1_maternal_1.0  NCBI     GCA_023701675.1  2918886     \u001b[32m✓\u001b[39m      Ovis ammon polii x Ovis aries            China Agricultural University           \u001b[0m\n",
      "\u001b[0mASM2422213v1         NCBI     GCA_024222135.1     9940     \u001b[31m✗\u001b[39m      Ovis aries                               Northwest A&F University                \u001b[0m\n",
      "\u001b[0mASM2422217v1         NCBI     GCA_024222175.1     9940     \u001b[31m✗\u001b[39m      Ovis aries                               Northwest A&F University                \u001b[0m\n",
      "\u001b[0mASM2422218v1         NCBI     GCA_024222185.1     9940     \u001b[31m✗\u001b[39m      Ovis aries                               Northwest A&F University                \u001b[0m\n",
      "\u001b[0mASM2422226v1         NCBI     GCA_024222265.1     9940     \u001b[31m✗\u001b[39m      Ovis aries                               Northwest A&F University                \u001b[0m\n",
      "\u001b[0mASM2425648v1         NCBI     GCA_024256485.1     9940     \u001b[31m✗\u001b[39m      Ovis aries                               Northwest A&F University                \u001b[0m\n",
      "\u001b[0mASM2425650v1         NCBI     GCA_024256505.1     9940     \u001b[31m✗\u001b[39m      Ovis aries                               Northwest A&F University                \u001b[0m\n",
      "\u001b[0mASM3051244v1         NCBI     GCA_030512445.1     9940     \u001b[31m✗\u001b[39m      Ovis aries                               Sheep Pangenome                         \u001b[0m\n",
      "\u001b[0mASM3116614v1         NCBI     GCA_031166145.1    56144     \u001b[32m✓\u001b[39m      Ovis aries papillomavirus type 4         Dipartimento di Medicina Veterinaria, Universita' degli Studi di Sassari\u001b[0m\n",
      "\u001b[0mASM3243364v1         NCBI     GCA_032433645.1     9940     \u001b[31m✗\u001b[39m      Ovis aries                               National Institute of Biotechnology     \u001b[0m\n",
      "\u001b[0mASM3343944v1         NCBI     GCA_033439445.1     9940     \u001b[31m✗\u001b[39m      Ovis aries                               Inner Mongolia University               \u001b[0m\n",
      "\u001b[0mASM4025935v1         NCBI     GCA_040259355.1     9940     \u001b[31m✗\u001b[39m      Ovis aries                               Lanzhou Institute of Husbandry and Pharmaceutical Sciences of Chinese Academy of Agricultural Scienc\u001b[0m\n",
      "\u001b[0mASM4054305v1         NCBI     GCA_040543055.1     9940     \u001b[31m✗\u001b[39m      Ovis aries                               Northwest A&F University                \u001b[0m\n",
      "\u001b[0mT2T-sheep1.0         NCBI     GCA_040805955.1     9940     \u001b[32m✓\u001b[39m      Ovis aries                               China Agricultural University           \u001b[0m\n",
      "\u001b[0mT2T-sheep1.0P        NCBI     GCA_040836155.1     9940     \u001b[32m✓\u001b[39m      Ovis aries                               China Agricultural University           \u001b[0m\n",
      "\u001b[0mT2T-sheep1.0M        NCBI     GCA_041121725.1     9940     \u001b[32m✓\u001b[39m      Ovis aries                               China Agricultural University           \u001b[0m\n",
      "\u001b[0m\u001b[32m ^\u001b[0m\n",
      "\u001b[0m\u001b[32m Use name for \u001b[36mgenomepy install\u001b[0m\n",
      "\u001b[0m\u001b[0m"
     ]
    }
   ],
   "source": [
    "# show available assemblies\n",
    "!genomepy search --provider NCBI {organism}"
   ]
  },
  {
   "cell_type": "code",
   "execution_count": 34,
   "metadata": {},
   "outputs": [
    {
     "name": "stdout",
     "output_type": "stream",
     "text": [
      "\u001b[1mname                 provider accession         tax_id annotation species                                  other_info                              \u001b[0m\n",
      "\u001b[0mARS-UI_Ramb_v2.0     Ensembl  GCA_016772045.1     9940     \u001b[32m✓\u001b[39m      Ovis aries                               2022-08-Ensembl                         \u001b[0m\n",
      "\u001b[0mOar_v3.1             Ensembl  GCA_000298735.1     9940     \u001b[31m✗\u001b[39m      Ovis aries                               2012-12-Ensembl/2015-05                 \u001b[0m\n",
      "\u001b[0mASM2241668v1         Ensembl  GCA_022416685.1     9940     \u001b[32m✓\u001b[39m      Ovis aries                               ENS01                                   \u001b[0m\n",
      "\u001b[0mNWAFU_Friesian_1.0   Ensembl  GCA_018804185.1     9940     \u001b[32m✓\u001b[39m      Ovis aries                               ENS01                                   \u001b[0m\n",
      "\u001b[0mASM2243283v1         Ensembl  GCA_022432835.1     9940     \u001b[32m✓\u001b[39m      Ovis aries                               ENS01                                   \u001b[0m\n",
      "\u001b[0mASM2241691v1         Ensembl  GCA_022416915.1     9940     \u001b[32m✓\u001b[39m      Ovis aries                               ENS01                                   \u001b[0m\n",
      "\u001b[0mASM2422217v1         Ensembl  GCA_024222175.1     9940     \u001b[32m✓\u001b[39m      Ovis aries                               ENS01                                   \u001b[0m\n",
      "\u001b[0mASM2243282v1         Ensembl  GCA_022432825.1     9940     \u001b[32m✓\u001b[39m      Ovis aries                               ENS01                                   \u001b[0m\n",
      "\u001b[0mASM1117029v1         Ensembl  GCA_011170295.1     9940     \u001b[32m✓\u001b[39m      Ovis aries                               ENS01                                   \u001b[0m\n",
      "\u001b[0mASM2241669v1         Ensembl  GCA_022416695.1     9940     \u001b[32m✓\u001b[39m      Ovis aries                               ENS01                                   \u001b[0m\n",
      "\u001b[0m\u001b[32m ^\u001b[0m\n",
      "\u001b[0m\u001b[32m Use name for \u001b[36mgenomepy install\u001b[0m\n",
      "\u001b[0m\u001b[0m"
     ]
    }
   ],
   "source": [
    "# show available assemblies\n",
    "!genomepy search --provider Ensembl {organism}"
   ]
  },
  {
   "cell_type": "code",
   "execution_count": null,
   "metadata": {},
   "outputs": [],
   "source": [
    "# set the genome name\n",
    "genome_name = \"ARS-UI_Ramb_v2.0\""
   ]
  },
  {
   "cell_type": "code",
   "execution_count": 12,
   "metadata": {},
   "outputs": [
    {
     "name": "stdout",
     "output_type": "stream",
     "text": [
      "\u001b[32m08:13:27\u001b[0m \u001b[1m|\u001b[0m \u001b[34mINFO\u001b[0m \u001b[1m|\u001b[0m Downloading genome from Ensembl. Target URL: http://ftp.ensembl.org/pub/release-113/fasta/ovis_aries_rambouillet/dna/Ovis_aries_rambouillet.ARS-UI_Ramb_v2.0.dna_sm.toplevel.fa.gz...\n",
      "Download: 100%|██████████████████████████████| 817M/817M [00:26<00:00, 32.5MB/s]\u001b[0m\u001b[0m\n",
      "\u001b[0m\u001b[32m08:13:53\u001b[0m \u001b[1m|\u001b[0m \u001b[34mINFO\u001b[0m \u001b[1m|\u001b[0m Genome download successful, starting post processing...\n",
      "\u001b[32m08:14:06\u001b[0m \u001b[1m|\u001b[0m \u001b[34mINFO\u001b[0m \u001b[1m|\u001b[0m name: ARS-UI_Ramb_v2.0\n",
      "\u001b[32m08:14:06\u001b[0m \u001b[1m|\u001b[0m \u001b[34mINFO\u001b[0m \u001b[1m|\u001b[0m local name: ARS-UI_Ramb_v2.0\n",
      "\u001b[32m08:14:06\u001b[0m \u001b[1m|\u001b[0m \u001b[34mINFO\u001b[0m \u001b[1m|\u001b[0m fasta: /scratch/multiomics/nickyoungblut/star_refs/Ovis_aries/ARS-UI_Ramb_v2.0/ARS-UI_Ramb_v2.0.fa\n",
      "Filtering Fasta: 43.8M lines [00:10, 4.01M lines/s]\u001b[0m\u001b[0m\n",
      "\u001b[0m\u001b[32m08:14:54\u001b[0m \u001b[1m|\u001b[0m \u001b[34mINFO\u001b[0m \u001b[1m|\u001b[0m Downloading annotation from Ensembl. Target URL: http://ftp.ensembl.org/pub/release-113/gtf/ovis_aries_rambouillet/Ovis_aries_rambouillet.ARS-UI_Ramb_v2.0.113.gtf.gz...\n",
      "Download: 100%|████████████████████████████| 18.7M/18.7M [00:01<00:00, 14.9MB/s]\u001b[0m\u001b[0m\n",
      "\u001b[0m\u001b[32m08:15:00\u001b[0m \u001b[1m|\u001b[0m \u001b[34mINFO\u001b[0m \u001b[1m|\u001b[0m Annotation download successful\n",
      "\u001b[0m"
     ]
    }
   ],
   "source": [
    "# download genome\n",
    "!genomepy install --provider Ensembl --annotation --genomes_dir {work_dir} {genome_name}"
   ]
  },
  {
   "cell_type": "code",
   "execution_count": 13,
   "metadata": {},
   "outputs": [
    {
     "data": {
      "text/plain": [
       "'/scratch/multiomics/nickyoungblut/star_refs/Ovis_aries/ARS-UI_Ramb_v2.0/ARS-UI_Ramb_v2.0.fa'"
      ]
     },
     "execution_count": 13,
     "metadata": {},
     "output_type": "execute_result"
    }
   ],
   "source": [
    "# get genome fasta\n",
    "fasta_file = glob(f\"{work_dir}/{genome_name}/*.fa\")[0]\n",
    "fasta_file"
   ]
  },
  {
   "cell_type": "code",
   "execution_count": 14,
   "metadata": {},
   "outputs": [
    {
     "data": {
      "text/plain": [
       "'/scratch/multiomics/nickyoungblut/star_refs/Ovis_aries/ARS-UI_Ramb_v2.0/ARS-UI_Ramb_v2.0.annotation.gtf'"
      ]
     },
     "execution_count": 14,
     "metadata": {},
     "output_type": "execute_result"
    }
   ],
   "source": [
    "# get gtf file\n",
    "gtf_file = glob(f\"{work_dir}/{genome_name}/*.gtf\")[0]\n",
    "gtf_file"
   ]
  },
  {
   "cell_type": "code",
   "execution_count": 15,
   "metadata": {},
   "outputs": [
    {
     "name": "stdout",
     "output_type": "stream",
     "text": [
      "Processing GTF: ARS-UI_Ramb_v2.0.annotation.gtf\n",
      "Output GTF: /scratch/multiomics/nickyoungblut/star_refs/Ovis_aries/Ovis_aries/Ovis_aries.gtf\n",
      "Total records in GTF: 1463309\n",
      "Filtered 9317 records by biotype\n",
      "Filtered 0 records by tag\n",
      "-- Count of biotypes filtered --\n",
      "snRNA: 3699\n",
      "snoRNA: 2094\n",
      "pseudogene: 1901\n",
      "miRNA: 1059\n",
      "rRNA: 147\n",
      "processed_pseudogene: 114\n",
      "scaRNA: 93\n",
      "Mt_tRNA: 66\n",
      "misc_RNA: 57\n",
      "Y_RNA: 33\n",
      "vault_RNA: 30\n",
      "ribozyme: 18\n",
      "Mt_rRNA: 6\n",
      "-- Count of biotypes kept --\n",
      "protein_coding: 2776290\n",
      "lncRNA: 102265\n",
      "TR_V_gene: 842\n",
      "IG_V_gene: 196\n",
      "TR_J_gene: 195\n",
      "IG_C_gene: 141\n",
      "TR_C_gene: 63\n",
      "----------------------------\n"
     ]
    }
   ],
   "source": [
    "# format the reference\n",
    "exe = os.path.join(script_dir, \"format-star-ref.py\")\n",
    "!{exe} --organism \"{organism}\"  --output-dir {work_dir} {gtf_file} "
   ]
  },
  {
   "cell_type": "code",
   "execution_count": 16,
   "metadata": {},
   "outputs": [
    {
     "data": {
      "text/plain": [
       "True"
      ]
     },
     "execution_count": 16,
     "metadata": {},
     "output_type": "execute_result"
    }
   ],
   "source": [
    "# set the filtered gtf file\n",
    "gtf_filt_file = os.path.join(work_dir, org_str, f\"{org_str}.gtf\")\n",
    "os.path.exists(gtf_filt_file)"
   ]
  },
  {
   "cell_type": "code",
   "execution_count": 17,
   "metadata": {},
   "outputs": [
    {
     "name": "stdout",
     "output_type": "stream",
     "text": [
      "\t/home/nickyoungblut/miniforge3/envs/asmbl/bin/STAR-avx2 --runThreadN 16 --runMode genomeGenerate --genomeDir /scratch/multiomics/nickyoungblut/star_refs/Ovis_aries/star --genomeFastaFiles /scratch/multiomics/nickyoungblut/star_refs/Ovis_aries/ARS-UI_Ramb_v2.0/ARS-UI_Ramb_v2.0.fa --sjdbGTFfile /scratch/multiomics/nickyoungblut/star_refs/Ovis_aries/Ovis_aries/Ovis_aries.gtf --sjdbOverhang 100\n",
      "\tSTAR version: 2.7.11b   compiled: 2025-01-09T12:32:06+0000 :/opt/conda/conda-bld/star_1736425784849/work/source\n",
      "Feb 01 08:15:23 ..... started STAR run\n",
      "!!!!! WARNING: Could not move Log.out file from ./Log.out into /scratch/multiomics/nickyoungblut/star_refs/Ovis_aries/star/Log.out. Will keep ./Log.out\n",
      "\n",
      "Feb 01 08:15:23 ... starting to generate Genome files\n",
      "Feb 01 08:15:58 ..... processing annotations GTF\n",
      "Feb 01 08:16:11 ... starting to sort Suffix Array. This may take a long time...\n",
      "Feb 01 08:16:20 ... sorting Suffix Array chunks and saving them to disk...\n",
      "Feb 01 08:23:54 ... loading chunks from disk, packing SA...\n",
      "Feb 01 08:24:52 ... finished generating suffix array\n",
      "Feb 01 08:24:52 ... generating Suffix Array index\n",
      "Feb 01 08:28:16 ... completed Suffix Array index\n",
      "Feb 01 08:28:17 ..... inserting junctions into the genome indices\n",
      "Feb 01 08:30:23 ... writing Genome to disk ...\n",
      "Feb 01 08:30:26 ... writing Suffix Array to disk ...\n",
      "Feb 01 08:30:46 ... writing SAindex to disk\n",
      "Feb 01 08:30:47 ..... finished successfully\n"
     ]
    }
   ],
   "source": [
    "# create the star index\n",
    "star_dir = os.path.join(work_dir, \"star\")\n",
    "os.makedirs(star_dir, exist_ok=True)\n",
    "\n",
    "!STAR --runThreadN 16 \\\n",
    "    --runMode genomeGenerate \\\n",
    "    --genomeDir {star_dir} \\\n",
    "    --genomeFastaFiles {fasta_file} \\\n",
    "    --sjdbGTFfile {gtf_filt_file} \\\n",
    "    --sjdbOverhang 100 "
   ]
  },
  {
   "cell_type": "markdown",
   "metadata": {},
   "source": [
    "# Sus scrofa"
   ]
  },
  {
   "cell_type": "code",
   "execution_count": 35,
   "metadata": {},
   "outputs": [],
   "source": [
    "organism = \"Sus scrofa\""
   ]
  },
  {
   "cell_type": "code",
   "execution_count": 36,
   "metadata": {},
   "outputs": [],
   "source": [
    "# format\n",
    "org_str = organism.replace(\" \", \"_\")\n",
    "work_dir = os.path.join(base_dir, org_str)\n",
    "os.makedirs(work_dir, exist_ok=True)"
   ]
  },
  {
   "cell_type": "code",
   "execution_count": 37,
   "metadata": {},
   "outputs": [
    {
     "name": "stdout",
     "output_type": "stream",
     "text": [
      "\u001b[1mname                 provider accession         tax_id annotation species                                  other_info                              \u001b[0m\n",
      "\u001b[0mSscrofa10.2          NCBI     GCF_000003025.5     9823     \u001b[32m✓\u001b[39m      Sus scrofa                               The Swine Genome Sequencing Consortium (SGSC)\u001b[0m\n",
      "\u001b[0mSscrofa11            NCBI     GCA_000003025.5     9823     \u001b[32m✓\u001b[39m      Sus scrofa                               The Swine Genome Sequencing Consortium (SGSC)\u001b[0m\n",
      "\u001b[0mminipig_v1.0         NCBI     GCA_000325925.2     9823     \u001b[31m✗\u001b[39m      Sus scrofa                               BGI-shenzhen                            \u001b[0m\n",
      "\u001b[0mTibetan_Pig_v1.0     NCBI     GCA_000472085.1     9823     \u001b[32m✓\u001b[39m      Sus scrofa                               Novogene                                \u001b[0m\n",
      "\u001b[0mNSME_pig_1           NCBI     GCA_006511355.1     9823     \u001b[31m✗\u001b[39m      Sus scrofa scrofa                        University of Messina                   \u001b[0m\n",
      "\u001b[0mWTSI_X_Y             NCBI     GCA_900119615.1     9823     \u001b[32m✓\u001b[39m      Sus scrofa                               SC                                      \u001b[0m\n",
      "\u001b[0mSscrofa11.1          NCBI     GCF_000003025.6     9823     \u001b[32m✓\u001b[39m      Sus scrofa                               The Swine Genome Sequencing Consortium (SGSC)\u001b[0m\n",
      "\u001b[0mSscrofaMinipig       NCBI     GCA_000331475.1     9823     \u001b[31m✗\u001b[39m      Sus scrofa                               GlaxoSmithKline                         \u001b[0m\n",
      "\u001b[0mTibetan_Pig_v2       NCBI     GCA_000472085.2     9823     \u001b[31m✗\u001b[39m      Sus scrofa                               Novogene                                \u001b[0m\n",
      "\u001b[0mViralProj32003       NCBI     GCF_000883075.1  1177764     \u001b[32m✓\u001b[39m      Sus scrofa papillomavirus 1              Laboratory of Clinical and Epidemiological Virology, Rega Institute for Medical Research\u001b[0m\n",
      "\u001b[0mss10.2_mar2013       NCBI     GCA_001292865.1     9823     \u001b[31m✗\u001b[39m      Sus scrofa                               F. Hoffmann - La Roche AG               \u001b[0m\n",
      "\u001b[0mLarge_White_v1       NCBI     GCA_001700135.1     9823     \u001b[31m✗\u001b[39m      Sus scrofa                               Novogene                                \u001b[0m\n",
      "\u001b[0mRongchang_pig_v1     NCBI     GCA_001700155.1     9823     \u001b[31m✗\u001b[39m      Sus scrofa                               Novogene                                \u001b[0m\n",
      "\u001b[0mHampshire_pig_v1     NCBI     GCA_001700165.1     9823     \u001b[31m✗\u001b[39m      Sus scrofa                               Novogene                                \u001b[0m\n",
      "\u001b[0mMeishan_pig_v1       NCBI     GCA_001700195.1     9823     \u001b[31m✗\u001b[39m      Sus scrofa                               Novogene                                \u001b[0m\n",
      "\u001b[0mLandrace_pig_v1      NCBI     GCA_001700215.1     9823     \u001b[31m✗\u001b[39m      Sus scrofa                               Novogene                                \u001b[0m\n",
      "\u001b[0mBamei_pig_v1         NCBI     GCA_001700235.1     9823     \u001b[31m✗\u001b[39m      Sus scrofa                               Novogene                                \u001b[0m\n",
      "\u001b[0mPietrain_pig_v1      NCBI     GCA_001700255.1     9823     \u001b[31m✗\u001b[39m      Sus scrofa                               Novogene                                \u001b[0m\n",
      "\u001b[0mJinhua_pig_v1        NCBI     GCA_001700295.1     9823     \u001b[31m✗\u001b[39m      Sus scrofa                               Novogene                                \u001b[0m\n",
      "\u001b[0mBerkshire_pig_v1     NCBI     GCA_001700575.1     9823     \u001b[31m✗\u001b[39m      Sus scrofa                               Novogene                                \u001b[0m\n",
      "\u001b[0mViralProj399948      NCBI     GCF_002270625.1  2025338     \u001b[32m✓\u001b[39m      Sus scrofa papillomavirus 2              Department of Veterinary Sciences, Institute for Infectious Diseases and Zoonoses\u001b[0m\n",
      "\u001b[0mUSMARCv1.0           NCBI     GCA_002844635.1     9823     \u001b[31m✗\u001b[39m      Sus scrofa                               USDA ARS                                \u001b[0m\n",
      "\u001b[0mASM412923v1          NCBI     GCF_004129235.1  2955306     \u001b[32m✓\u001b[39m      Sus scrofa polyomavirus 1                FG12, Robert Koch Institute             \u001b[0m\n",
      "\u001b[0mNSME_pig_1.2         NCBI     GCA_006511355.2     9823     \u001b[31m✗\u001b[39m      Sus scrofa scrofa                        University of Messina                   \u001b[0m\n",
      "\u001b[0mASM764409v1          NCBI     GCA_007644095.1     9823     \u001b[31m✗\u001b[39m      Sus scrofa                               Novogene                                \u001b[0m\n",
      "\u001b[0mNinghe_Sus_1         NCBI     GCA_015776825.1     9823     \u001b[31m✗\u001b[39m      Sus scrofa                               China Agricultural University           \u001b[0m\n",
      "\u001b[0mASM1795798v1         NCBI     GCA_017957985.1     9823     \u001b[31m✗\u001b[39m      Sus scrofa domesticus                    Chinese Academy of Agricultural Sciences\u001b[0m\n",
      "\u001b[0mASM1855540v1         NCBI     GCA_018555405.1     9823     \u001b[31m✗\u001b[39m      Sus scrofa                               National Institute of Health Sciences   \u001b[0m\n",
      "\u001b[0mCAU-K                NCBI     GCA_019290145.1     9823     \u001b[31m✗\u001b[39m      Sus scrofa                               China Agricultural University           \u001b[0m\n",
      "\u001b[0mASM2056790v1         NCBI     GCA_020567905.1     9823     \u001b[31m✗\u001b[39m      Sus scrofa domesticus                    Hunan Agricultural university           \u001b[0m\n",
      "\u001b[0mASM2165605v1         NCBI     GCA_021656055.1     9823     \u001b[31m✗\u001b[39m      Sus scrofa                               Sichuan University                      \u001b[0m\n",
      "\u001b[0mASM2306533v1         NCBI     GCA_023065335.1     9823     \u001b[31m✗\u001b[39m      Sus scrofa                               Jiangxi Agricultural University         \u001b[0m\n",
      "\u001b[0mASM2306535v1         NCBI     GCA_023065355.1     9823     \u001b[31m✗\u001b[39m      Sus scrofa                               Jiangxi Agricultural University         \u001b[0m\n",
      "\u001b[0mASM2471841v1         NCBI     GCA_024718415.1     9823     \u001b[31m✗\u001b[39m      Sus scrofa                               BGI-shenzhen                            \u001b[0m\n",
      "\u001b[0mASM2978402v1         NCBI     GCA_029784025.1     9823     \u001b[31m✗\u001b[39m      Sus scrofa domesticus                    Foshan University                       \u001b[0m\n",
      "\u001b[0mASM2989021v1         NCBI     GCA_029890215.1     9823     \u001b[31m✗\u001b[39m      Sus scrofa domesticus                    Foshan University                       \u001b[0m\n",
      "\u001b[0mASM2989022v1         NCBI     GCA_029890225.1     9823     \u001b[31m✗\u001b[39m      Sus scrofa domesticus                    Foshan University                       \u001b[0m\n",
      "\u001b[0mASM3070493v1         NCBI     GCA_030704935.1     9823     \u001b[31m✗\u001b[39m      Sus scrofa                               Northwest A&F University                \u001b[0m\n",
      "\u001b[0mTPI_Babraham_pig_v1  NCBI     GCA_031225015.1     9823     \u001b[31m✗\u001b[39m      Sus scrofa                               The Pirbright Institute                 \u001b[0m\n",
      "\u001b[0mNCMD                 NCBI     GCA_031306245.1     9823     \u001b[31m✗\u001b[39m      Sus scrofa                               Konkuk University                       \u001b[0m\n",
      "\u001b[0mASM3744751v1         NCBI     GCA_037447515.1     9823     \u001b[31m✗\u001b[39m      Sus scrofa                               Sichuan Agricultural University         \u001b[0m\n",
      "\u001b[0mASM3965481v1         NCBI     GCA_039654815.1     9823     \u001b[31m✗\u001b[39m      Sus scrofa                               Konkuk University                       \u001b[0m\n",
      "\u001b[0mASM4086911v1         NCBI     GCA_040869115.1     9823     \u001b[31m✗\u001b[39m      Sus scrofa                               Northwest A&F University                \u001b[0m\n",
      "\u001b[0mCAU_Huaizhu_1.1      NCBI     GCA_041729645.1     9823     \u001b[31m✗\u001b[39m      Sus scrofa scrofa                        China Agricultural University           \u001b[0m\n",
      "\u001b[0mBanna                NCBI     GCA_041937265.1     9823     \u001b[31m✗\u001b[39m      Sus scrofa                               Yunnan Agricultural University          \u001b[0m\n",
      "\u001b[0mASM4490610v1         NCBI     GCA_044906105.1     9823     \u001b[31m✗\u001b[39m      Sus scrofa                               Northwest A&F University                \u001b[0m\n",
      "\u001b[0mASM4490618v1         NCBI     GCA_044906185.1     9823     \u001b[31m✗\u001b[39m      Sus scrofa                               Northwest A&F University College of Animal Science and Technology\u001b[0m\n",
      "\u001b[0mICAR-NRCP-G1         NCBI     GCA_046128825.1     9823     \u001b[31m✗\u001b[39m      Sus scrofa                               ICAR National Research Centre on Pig    \u001b[0m\n",
      "\u001b[0mUWBC_WMS_v1          NCBI     GCA_046630025.1     9823     \u001b[31m✗\u001b[39m      Sus scrofa                               University of Wisconsin-Madison         \u001b[0m\n",
      "\u001b[0mWTSI_X_Y_pig_V2      NCBI     GCA_900119615.2     9823     \u001b[31m✗\u001b[39m      Sus scrofa                               SC                                      \u001b[0m\n",
      "\u001b[0mnorwegian_landrace   NCBI     GCA_963921485.1     9823     \u001b[31m✗\u001b[39m      Sus scrofa                               NORWEGIAN UNIVERSITY OF LIFE SCIENCES   \u001b[0m\n",
      "\u001b[0m\u001b[32m ^\u001b[0m\n",
      "\u001b[0m\u001b[32m Use name for \u001b[36mgenomepy install\u001b[0m\n",
      "\u001b[0m\u001b[0m"
     ]
    }
   ],
   "source": [
    "# show available assemblies\n",
    "!genomepy search --provider NCBI {organism}"
   ]
  },
  {
   "cell_type": "code",
   "execution_count": 38,
   "metadata": {},
   "outputs": [
    {
     "name": "stdout",
     "output_type": "stream",
     "text": [
      "\u001b[1mname                 provider accession         tax_id annotation species                                  other_info                              \u001b[0m\n",
      "\u001b[0mPietrain_pig_v1      Ensembl  GCA_001700255.1     9823     \u001b[32m✓\u001b[39m      Sus scrofa                               2019-01-Ensembl/2019-06                 \u001b[0m\n",
      "\u001b[0mLarge_White_v1       Ensembl  GCA_001700135.1     9823     \u001b[32m✓\u001b[39m      Sus scrofa                               2019-01-Ensembl/2019-06                 \u001b[0m\n",
      "\u001b[0mBamei_pig_v1         Ensembl  GCA_001700235.1     9823     \u001b[32m✓\u001b[39m      Sus scrofa                               2019-01-Ensembl/2019-06                 \u001b[0m\n",
      "\u001b[0mTibetan_Pig_v2       Ensembl  GCA_000472085.2     9823     \u001b[32m✓\u001b[39m      Sus scrofa                               2019-01-Ensembl/2019-06                 \u001b[0m\n",
      "\u001b[0mSscrofa11.1          Ensembl  GCA_000003025.6     9823     \u001b[32m✓\u001b[39m      Sus scrofa                               HAV01                                   \u001b[0m\n",
      "\u001b[0mLandrace_pig_v1      Ensembl  GCA_001700215.1     9823     \u001b[32m✓\u001b[39m      Sus scrofa                               2019-01-Ensembl/2019-06                 \u001b[0m\n",
      "\u001b[0mUSMARCv1.0           Ensembl  GCA_002844635.1     9823     \u001b[32m✓\u001b[39m      Sus scrofa                               2018-11-Ensembl/2020-03                 \u001b[0m\n",
      "\u001b[0mminipig_v1.0         Ensembl  GCA_000325925.2     9823     \u001b[32m✓\u001b[39m      Sus scrofa                               2019-01-Ensembl/2019-06                 \u001b[0m\n",
      "\u001b[0mJinhua_pig_v1        Ensembl  GCA_001700295.1     9823     \u001b[32m✓\u001b[39m      Sus scrofa                               2019-01-Ensembl/2019-06                 \u001b[0m\n",
      "\u001b[0mRongchang_pig_v1     Ensembl  GCA_001700155.1     9823     \u001b[32m✓\u001b[39m      Sus scrofa                               2019-01-Ensembl/2019-06                 \u001b[0m\n",
      "\u001b[0mHampshire_pig_v1     Ensembl  GCA_001700165.1     9823     \u001b[32m✓\u001b[39m      Sus scrofa                               2019-01-Ensembl/2019-06                 \u001b[0m\n",
      "\u001b[0mBerkshire_pig_v1     Ensembl  GCA_001700575.1     9823     \u001b[32m✓\u001b[39m      Sus scrofa                               2019-01-Ensembl/2019-06                 \u001b[0m\n",
      "\u001b[0mASM764409v1          Ensembl  GCA_007644095.1     9823     \u001b[32m✓\u001b[39m      Sus scrofa                               ENS01                                   \u001b[0m\n",
      "\u001b[0mNinghe_Sus_1         Ensembl  GCA_015776825.1     9823     \u001b[32m✓\u001b[39m      Sus scrofa                               ENS01                                   \u001b[0m\n",
      "\u001b[0mASM2471841v1         Ensembl  GCA_024718415.1     9823     \u001b[32m✓\u001b[39m      Sus scrofa                               ENS01                                   \u001b[0m\n",
      "\u001b[0mASM2056790v1         Ensembl  GCA_020567905.1     9825     \u001b[32m✓\u001b[39m      Sus scrofa domesticus                    ENS01                                   \u001b[0m\n",
      "\u001b[0mASM2165605v1         Ensembl  GCA_021656055.1     9823     \u001b[32m✓\u001b[39m      Sus scrofa                               ENS01                                   \u001b[0m\n",
      "\u001b[0mCAU-K                Ensembl  GCA_019290145.1     9823     \u001b[32m✓\u001b[39m      Sus scrofa                               ENS01                                   \u001b[0m\n",
      "\u001b[0mASM1855540v1         Ensembl  GCA_018555405.1     9823     \u001b[32m✓\u001b[39m      Sus scrofa                               ENS01                                   \u001b[0m\n",
      "\u001b[0mASM1795798v1         Ensembl  GCA_017957985.1     9825     \u001b[32m✓\u001b[39m      Sus scrofa domesticus                    ENS01                                   \u001b[0m\n",
      "\u001b[0mMeishan_pig_v1       Ensembl  GCA_001700195.1     9823     \u001b[32m✓\u001b[39m      Sus scrofa                               2019-01-Ensembl/2019-06                 \u001b[0m\n",
      "\u001b[0m\u001b[32m ^\u001b[0m\n",
      "\u001b[0m\u001b[32m Use name for \u001b[36mgenomepy install\u001b[0m\n",
      "\u001b[0m\u001b[0m"
     ]
    }
   ],
   "source": [
    "# show available assemblies\n",
    "!genomepy search --provider Ensembl {organism}"
   ]
  },
  {
   "cell_type": "code",
   "execution_count": null,
   "metadata": {},
   "outputs": [],
   "source": [
    "# set the genome name\n",
    "genome_name = \"Sscrofa11.1\""
   ]
  },
  {
   "cell_type": "code",
   "execution_count": 44,
   "metadata": {},
   "outputs": [
    {
     "name": "stdout",
     "output_type": "stream",
     "text": [
      "\u001b[32m08:37:06\u001b[0m \u001b[1m|\u001b[0m \u001b[34mINFO\u001b[0m \u001b[1m|\u001b[0m Downloading genome from Ensembl. Target URL: http://ftp.ensembl.org/pub/release-113/fasta/sus_scrofa/dna/Sus_scrofa.Sscrofa11.1.dna_sm.toplevel.fa.gz...\n",
      "Download: 100%|██████████████████████████████| 766M/766M [00:24<00:00, 32.4MB/s]\u001b[0m\u001b[0m\n",
      "\u001b[0m\u001b[32m08:37:31\u001b[0m \u001b[1m|\u001b[0m \u001b[34mINFO\u001b[0m \u001b[1m|\u001b[0m Genome download successful, starting post processing...\n",
      "\u001b[32m08:37:43\u001b[0m \u001b[1m|\u001b[0m \u001b[34mINFO\u001b[0m \u001b[1m|\u001b[0m name: Sscrofa11.1\n",
      "\u001b[32m08:37:43\u001b[0m \u001b[1m|\u001b[0m \u001b[34mINFO\u001b[0m \u001b[1m|\u001b[0m local name: Sscrofa11.1\n",
      "\u001b[32m08:37:43\u001b[0m \u001b[1m|\u001b[0m \u001b[34mINFO\u001b[0m \u001b[1m|\u001b[0m fasta: /scratch/multiomics/nickyoungblut/star_refs/Sus_scrofa/Sscrofa11.1/Sscrofa11.1.fa\n",
      "Filtering Fasta: 41.7M lines [00:10, 3.95M lines/s]\u001b[0m\u001b[0m\n",
      "\u001b[0m\u001b[32m08:38:30\u001b[0m \u001b[1m|\u001b[0m \u001b[34mINFO\u001b[0m \u001b[1m|\u001b[0m Downloading annotation from Ensembl. Target URL: http://ftp.ensembl.org/pub/release-113/gtf/sus_scrofa/Sus_scrofa.Sscrofa11.1.113.gtf.gz...\n",
      "Download: 100%|████████████████████████████| 17.9M/17.9M [00:01<00:00, 14.5MB/s]\u001b[0m\u001b[0m\n",
      "\u001b[0m\u001b[32m08:38:35\u001b[0m \u001b[1m|\u001b[0m \u001b[34mINFO\u001b[0m \u001b[1m|\u001b[0m Annotation download successful\n",
      "\u001b[0m"
     ]
    }
   ],
   "source": [
    "# download genome\n",
    "!genomepy install --provider Ensembl --annotation --genomes_dir {work_dir} {genome_name}"
   ]
  },
  {
   "cell_type": "code",
   "execution_count": 45,
   "metadata": {},
   "outputs": [
    {
     "data": {
      "text/plain": [
       "'/scratch/multiomics/nickyoungblut/star_refs/Sus_scrofa/Sscrofa11.1/Sscrofa11.1.fa'"
      ]
     },
     "execution_count": 45,
     "metadata": {},
     "output_type": "execute_result"
    }
   ],
   "source": [
    "# get genome fasta\n",
    "fasta_file = glob(f\"{work_dir}/{genome_name}/*.fa\")[0]\n",
    "fasta_file"
   ]
  },
  {
   "cell_type": "code",
   "execution_count": 46,
   "metadata": {},
   "outputs": [
    {
     "data": {
      "text/plain": [
       "'/scratch/multiomics/nickyoungblut/star_refs/Sus_scrofa/Sscrofa11.1/Sscrofa11.1.annotation.gtf'"
      ]
     },
     "execution_count": 46,
     "metadata": {},
     "output_type": "execute_result"
    }
   ],
   "source": [
    "# get gtf file\n",
    "gtf_file = glob(f\"{work_dir}/{genome_name}/*.gtf\")[0]\n",
    "gtf_file"
   ]
  },
  {
   "cell_type": "code",
   "execution_count": 47,
   "metadata": {},
   "outputs": [
    {
     "name": "stdout",
     "output_type": "stream",
     "text": [
      "Processing GTF: Sscrofa11.1.annotation.gtf\n",
      "Output GTF: /scratch/multiomics/nickyoungblut/star_refs/Sus_scrofa/Sus_scrofa/Sus_scrofa.gtf\n",
      "Total records in GTF: 1366243\n",
      "Filtered 16502 records by biotype\n",
      "Filtered 0 records by tag\n",
      "-- Count of biotypes filtered --\n",
      "nonsense_mediated_decay: 6350\n",
      "snRNA: 3312\n",
      "pseudogene: 2054\n",
      "snoRNA: 1773\n",
      "miRNA: 1164\n",
      "processed_pseudogene: 697\n",
      "protein_coding_CDS_not_defined: 273\n",
      "retained_intron: 242\n",
      "unitary_pseudogene: 156\n",
      "unprocessed_pseudogene: 108\n",
      "scaRNA: 75\n",
      "Mt_tRNA: 66\n",
      "rRNA: 63\n",
      "misc_RNA: 51\n",
      "transcribed_unprocessed_pseudogene: 46\n",
      "Y_RNA: 27\n",
      "ribozyme: 21\n",
      "translated_unprocessed_pseudogene: 9\n",
      "vault_RNA: 9\n",
      "Mt_rRNA: 6\n",
      "-- Count of biotypes kept --\n",
      "protein_coding: 2596185\n",
      "lncRNA: 76916\n",
      "IG_V_gene: 104\n",
      "TR_V_gene: 78\n",
      "TR_J_gene: 36\n",
      "IG_C_gene: 17\n",
      "----------------------------\n"
     ]
    }
   ],
   "source": [
    "# format the reference\n",
    "exe = os.path.join(script_dir, \"format-star-ref.py\")\n",
    "!{exe} --organism \"{organism}\"  --output-dir {work_dir} {gtf_file} "
   ]
  },
  {
   "cell_type": "code",
   "execution_count": 48,
   "metadata": {},
   "outputs": [
    {
     "data": {
      "text/plain": [
       "True"
      ]
     },
     "execution_count": 48,
     "metadata": {},
     "output_type": "execute_result"
    }
   ],
   "source": [
    "# set the filtered gtf file\n",
    "gtf_filt_file = os.path.join(work_dir, org_str, f\"{org_str}.gtf\")\n",
    "os.path.exists(gtf_filt_file)"
   ]
  },
  {
   "cell_type": "code",
   "execution_count": 49,
   "metadata": {},
   "outputs": [
    {
     "name": "stdout",
     "output_type": "stream",
     "text": [
      "\t/home/nickyoungblut/miniforge3/envs/asmbl/bin/STAR-avx2 --runThreadN 16 --runMode genomeGenerate --genomeDir /scratch/multiomics/nickyoungblut/star_refs/Sus_scrofa/star --genomeFastaFiles /scratch/multiomics/nickyoungblut/star_refs/Sus_scrofa/Sscrofa11.1/Sscrofa11.1.fa --sjdbGTFfile /scratch/multiomics/nickyoungblut/star_refs/Sus_scrofa/Sus_scrofa/Sus_scrofa.gtf --sjdbOverhang 100\n",
      "\tSTAR version: 2.7.11b   compiled: 2025-01-09T12:32:06+0000 :/opt/conda/conda-bld/star_1736425784849/work/source\n",
      "Feb 01 08:38:56 ..... started STAR run\n",
      "!!!!! WARNING: Could not move Log.out file from ./Log.out into /scratch/multiomics/nickyoungblut/star_refs/Sus_scrofa/star/Log.out. Will keep ./Log.out\n",
      "\n",
      "Feb 01 08:38:56 ... starting to generate Genome files\n",
      "Feb 01 08:39:30 ..... processing annotations GTF\n",
      "Feb 01 08:39:42 ... starting to sort Suffix Array. This may take a long time...\n",
      "Feb 01 08:39:50 ... sorting Suffix Array chunks and saving them to disk...\n",
      "Feb 01 08:45:53 ... loading chunks from disk, packing SA...\n",
      "Feb 01 08:46:54 ... finished generating suffix array\n",
      "Feb 01 08:46:54 ... generating Suffix Array index\n",
      "Feb 01 08:50:19 ... completed Suffix Array index\n",
      "Feb 01 08:50:20 ..... inserting junctions into the genome indices\n",
      "Feb 01 08:52:21 ... writing Genome to disk ...\n",
      "Feb 01 08:52:23 ... writing Suffix Array to disk ...\n",
      "Feb 01 08:52:48 ... writing SAindex to disk\n",
      "Feb 01 08:52:51 ..... finished successfully\n"
     ]
    }
   ],
   "source": [
    "# create the star index\n",
    "star_dir = os.path.join(work_dir, \"star\")\n",
    "os.makedirs(star_dir, exist_ok=True)\n",
    "\n",
    "!STAR --runThreadN 16 \\\n",
    "    --runMode genomeGenerate \\\n",
    "    --genomeDir {star_dir} \\\n",
    "    --genomeFastaFiles {fasta_file} \\\n",
    "    --sjdbGTFfile {gtf_filt_file} \\\n",
    "    --sjdbOverhang 100 "
   ]
  },
  {
   "cell_type": "markdown",
   "metadata": {},
   "source": [
    "# Heterocephalus glaber"
   ]
  },
  {
   "cell_type": "code",
   "execution_count": 39,
   "metadata": {},
   "outputs": [],
   "source": [
    "organism = \"Heterocephalus glaber\""
   ]
  },
  {
   "cell_type": "code",
   "execution_count": 40,
   "metadata": {},
   "outputs": [],
   "source": [
    "# format\n",
    "org_str = organism.replace(\" \", \"_\")\n",
    "work_dir = os.path.join(base_dir, org_str)\n",
    "os.makedirs(work_dir, exist_ok=True)"
   ]
  },
  {
   "cell_type": "code",
   "execution_count": 41,
   "metadata": {},
   "outputs": [
    {
     "name": "stdout",
     "output_type": "stream",
     "text": [
      "\u001b[1mname                 provider accession         tax_id annotation species                                  other_info                              \u001b[0m\n",
      "\u001b[0mHetGla_1.0           NCBI     GCA_000230445.1    10181     \u001b[32m✓\u001b[39m      Heterocephalus glaber                    Beijing Genomics Institute              \u001b[0m\n",
      "\u001b[0mHetGla_female_1.0    NCBI     GCF_000247695.1    10181     \u001b[32m✓\u001b[39m      Heterocephalus glaber                    Broad Institute                         \u001b[0m\n",
      "\u001b[0mHeter_glaber.v1.7_hic_pac NCBI     GCA_014060925.1    10181     \u001b[31m✗\u001b[39m      Heterocephalus glaber                    Institute of Zoology, Chinese Academy of Sciences\u001b[0m\n",
      "\u001b[0mNaked_mole-rat_maternal NCBI     GCA_944319715.1    10181     \u001b[31m✗\u001b[39m      Heterocephalus glaber                    hospital for sick children              \u001b[0m\n",
      "\u001b[0mNaked_mole-rat_paternal NCBI     GCA_944319725.1    10181     \u001b[31m✗\u001b[39m      Heterocephalus glaber                    hospital for sick children              \u001b[0m\n",
      "\u001b[0mHetGla_maternal_painted NCBI     GCA_963923965.1    10181     \u001b[31m✗\u001b[39m      Heterocephalus glaber                    The Hospital for Sick Children, Toronto \u001b[0m\n",
      "\u001b[0mHetGla_paternal_painted NCBI     GCA_963923975.1    10181     \u001b[31m✗\u001b[39m      Heterocephalus glaber                    The Hospital for Sick Children, Toronto \u001b[0m\n",
      "\u001b[0mmHetGlaV3            NCBI     GCA_964261345.1    10181     \u001b[31m✗\u001b[39m      Heterocephalus glaber                    The Hospital for Sick Children, Toronto \u001b[0m\n",
      "\u001b[0mpHetGlaV3            NCBI     GCA_964261355.1    10181     \u001b[31m✗\u001b[39m      Heterocephalus glaber                    The Hospital for Sick Children, Toronto \u001b[0m\n",
      "\u001b[0m\u001b[32m ^\u001b[0m\n",
      "\u001b[0m\u001b[32m Use name for \u001b[36mgenomepy install\u001b[0m\n",
      "\u001b[0m\u001b[0m"
     ]
    }
   ],
   "source": [
    "# show available assemblies\n",
    "!genomepy search --provider NCBI {organism}"
   ]
  },
  {
   "cell_type": "code",
   "execution_count": 42,
   "metadata": {},
   "outputs": [
    {
     "name": "stdout",
     "output_type": "stream",
     "text": [
      "\u001b[1mname                 provider accession         tax_id annotation species                                  other_info                              \u001b[0m\n",
      "\u001b[0mNaked_mole-rat_maternal Ensembl  GCA_944319715.1    10181     \u001b[32m✓\u001b[39m      Heterocephalus glaber                    2022-08-Ensembl/2022-09                 \u001b[0m\n",
      "\u001b[0mNaked_mole-rat_paternal Ensembl  GCA_944319725.1    10181     \u001b[32m✓\u001b[39m      Heterocephalus glaber                    2022-08-Ensembl/2022-09                 \u001b[0m\n",
      "\u001b[0m\u001b[32m ^\u001b[0m\n",
      "\u001b[0m\u001b[32m Use name for \u001b[36mgenomepy install\u001b[0m\n",
      "\u001b[0m\u001b[0m"
     ]
    }
   ],
   "source": [
    "# show available assemblies\n",
    "!genomepy search --provider Ensembl {organism}"
   ]
  },
  {
   "cell_type": "code",
   "execution_count": null,
   "metadata": {},
   "outputs": [],
   "source": [
    "# set the genome name\n",
    "genome_name = \"Naked_mole-rat_maternal\""
   ]
  },
  {
   "cell_type": "code",
   "execution_count": 53,
   "metadata": {},
   "outputs": [
    {
     "name": "stdout",
     "output_type": "stream",
     "text": [
      "\u001b[32m08:53:29\u001b[0m \u001b[1m|\u001b[0m \u001b[34mINFO\u001b[0m \u001b[1m|\u001b[0m Downloading genome from Ensembl. Target URL: http://ftp.ensembl.org/pub/release-113/fasta/heterocephalus_glaber_female/dna/Heterocephalus_glaber_female.Naked_mole-rat_maternal.dna_sm.toplevel.fa.gz...\n",
      "Download: 100%|██████████████████████████████| 780M/780M [00:25<00:00, 32.4MB/s]\u001b[0m\u001b[0m\n",
      "\u001b[0m\u001b[32m08:53:55\u001b[0m \u001b[1m|\u001b[0m \u001b[34mINFO\u001b[0m \u001b[1m|\u001b[0m Genome download successful, starting post processing...\n",
      "\u001b[32m08:54:07\u001b[0m \u001b[1m|\u001b[0m \u001b[34mINFO\u001b[0m \u001b[1m|\u001b[0m name: Naked_mole-rat_maternal\n",
      "\u001b[32m08:54:07\u001b[0m \u001b[1m|\u001b[0m \u001b[34mINFO\u001b[0m \u001b[1m|\u001b[0m local name: Naked_mole-rat_maternal\n",
      "\u001b[32m08:54:07\u001b[0m \u001b[1m|\u001b[0m \u001b[34mINFO\u001b[0m \u001b[1m|\u001b[0m fasta: /scratch/multiomics/nickyoungblut/star_refs/Heterocephalus_glaber/Naked_mole-rat_maternal/Naked_mole-rat_maternal.fa\n",
      "Filtering Fasta: 41.7M lines [00:10, 4.04M lines/s]\u001b[0m\u001b[0m\n",
      "\u001b[0m\u001b[32m08:54:53\u001b[0m \u001b[1m|\u001b[0m \u001b[34mINFO\u001b[0m \u001b[1m|\u001b[0m Downloading annotation from Ensembl. Target URL: http://ftp.ensembl.org/pub/release-113/gtf/heterocephalus_glaber_female/Heterocephalus_glaber_female.Naked_mole-rat_maternal.113.gtf.gz...\n",
      "Download: 100%|████████████████████████████| 17.8M/17.8M [00:01<00:00, 15.4MB/s]\u001b[0m\u001b[0m\n",
      "\u001b[0m\u001b[32m08:54:59\u001b[0m \u001b[1m|\u001b[0m \u001b[34mINFO\u001b[0m \u001b[1m|\u001b[0m Annotation download successful\n",
      "\u001b[0m"
     ]
    }
   ],
   "source": [
    "# download genome\n",
    "!genomepy install --provider Ensembl --annotation --genomes_dir {work_dir} {genome_name}"
   ]
  },
  {
   "cell_type": "code",
   "execution_count": 54,
   "metadata": {},
   "outputs": [
    {
     "data": {
      "text/plain": [
       "'/scratch/multiomics/nickyoungblut/star_refs/Heterocephalus_glaber/Naked_mole-rat_maternal/Naked_mole-rat_maternal.fa'"
      ]
     },
     "execution_count": 54,
     "metadata": {},
     "output_type": "execute_result"
    }
   ],
   "source": [
    "# get genome fasta\n",
    "fasta_file = glob(f\"{work_dir}/{genome_name}/*.fa\")[0]\n",
    "fasta_file"
   ]
  },
  {
   "cell_type": "code",
   "execution_count": 55,
   "metadata": {},
   "outputs": [
    {
     "data": {
      "text/plain": [
       "'/scratch/multiomics/nickyoungblut/star_refs/Heterocephalus_glaber/Naked_mole-rat_maternal/Naked_mole-rat_maternal.annotation.gtf'"
      ]
     },
     "execution_count": 55,
     "metadata": {},
     "output_type": "execute_result"
    }
   ],
   "source": [
    "# get gtf file\n",
    "gtf_file = glob(f\"{work_dir}/{genome_name}/*.gtf\")[0]\n",
    "gtf_file"
   ]
  },
  {
   "cell_type": "code",
   "execution_count": 56,
   "metadata": {},
   "outputs": [
    {
     "name": "stdout",
     "output_type": "stream",
     "text": [
      "Processing GTF: Naked_mole-rat_maternal.annotation.gtf\n",
      "Output GTF: /scratch/multiomics/nickyoungblut/star_refs/Heterocephalus_glaber/Heterocephalus_glaber/Heterocephalus_glaber.gtf\n",
      "Total records in GTF: 1411133\n",
      "Filtered 22118 records by biotype\n",
      "Filtered 0 records by tag\n",
      "-- Count of biotypes filtered --\n",
      "pseudogene: 13493\n",
      "snRNA: 5082\n",
      "snoRNA: 2076\n",
      "processed_pseudogene: 786\n",
      "miRNA: 237\n",
      "misc_RNA: 111\n",
      "scaRNA: 99\n",
      "Mt_tRNA: 66\n",
      "Y_RNA: 57\n",
      "ribozyme: 51\n",
      "rRNA: 27\n",
      "vault_RNA: 27\n",
      "Mt_rRNA: 6\n",
      "-- Count of biotypes kept --\n",
      "protein_coding: 2594851\n",
      "lncRNA: 151628\n",
      "IG_V_gene: 234\n",
      "TR_J_gene: 27\n",
      "TR_V_gene: 9\n",
      "TR_C_gene: 9\n",
      "----------------------------\n"
     ]
    }
   ],
   "source": [
    "# format the reference\n",
    "exe = os.path.join(script_dir, \"format-star-ref.py\")\n",
    "!{exe} --organism \"{organism}\"  --output-dir {work_dir} {gtf_file} "
   ]
  },
  {
   "cell_type": "code",
   "execution_count": 57,
   "metadata": {},
   "outputs": [
    {
     "data": {
      "text/plain": [
       "True"
      ]
     },
     "execution_count": 57,
     "metadata": {},
     "output_type": "execute_result"
    }
   ],
   "source": [
    "# set the filtered gtf file\n",
    "gtf_filt_file = os.path.join(work_dir, org_str, f\"{org_str}.gtf\")\n",
    "os.path.exists(gtf_filt_file)"
   ]
  },
  {
   "cell_type": "code",
   "execution_count": 58,
   "metadata": {},
   "outputs": [
    {
     "name": "stdout",
     "output_type": "stream",
     "text": [
      "\t/home/nickyoungblut/miniforge3/envs/asmbl/bin/STAR-avx2 --runThreadN 16 --runMode genomeGenerate --genomeDir /scratch/multiomics/nickyoungblut/star_refs/Heterocephalus_glaber/star --genomeFastaFiles /scratch/multiomics/nickyoungblut/star_refs/Heterocephalus_glaber/Naked_mole-rat_maternal/Naked_mole-rat_maternal.fa --sjdbGTFfile /scratch/multiomics/nickyoungblut/star_refs/Heterocephalus_glaber/Heterocephalus_glaber/Heterocephalus_glaber.gtf --sjdbOverhang 100\n",
      "\tSTAR version: 2.7.11b   compiled: 2025-01-09T12:32:06+0000 :/opt/conda/conda-bld/star_1736425784849/work/source\n",
      "Feb 01 08:55:20 ..... started STAR run\n",
      "!!!!! WARNING: Could not move Log.out file from ./Log.out into /scratch/multiomics/nickyoungblut/star_refs/Heterocephalus_glaber/star/Log.out. Will keep ./Log.out\n",
      "\n",
      "Feb 01 08:55:20 ... starting to generate Genome files\n",
      "Feb 01 08:55:53 ..... processing annotations GTF\n",
      "Feb 01 08:56:05 ... starting to sort Suffix Array. This may take a long time...\n",
      "Feb 01 08:56:13 ... sorting Suffix Array chunks and saving them to disk...\n",
      "Feb 01 09:02:31 ... loading chunks from disk, packing SA...\n",
      "Feb 01 09:03:31 ... finished generating suffix array\n",
      "Feb 01 09:03:31 ... generating Suffix Array index\n",
      "Feb 01 09:06:47 ... completed Suffix Array index\n",
      "Feb 01 09:06:47 ..... inserting junctions into the genome indices\n",
      "Feb 01 09:08:50 ... writing Genome to disk ...\n",
      "Feb 01 09:08:52 ... writing Suffix Array to disk ...\n",
      "Feb 01 09:09:15 ... writing SAindex to disk\n",
      "Feb 01 09:09:18 ..... finished successfully\n"
     ]
    }
   ],
   "source": [
    "# create the star index\n",
    "star_dir = os.path.join(work_dir, \"star\")\n",
    "os.makedirs(star_dir, exist_ok=True)\n",
    "\n",
    "!STAR --runThreadN 16 \\\n",
    "    --runMode genomeGenerate \\\n",
    "    --genomeDir {star_dir} \\\n",
    "    --genomeFastaFiles {fasta_file} \\\n",
    "    --sjdbGTFfile {gtf_filt_file} \\\n",
    "    --sjdbOverhang 100 "
   ]
  },
  {
   "cell_type": "markdown",
   "metadata": {},
   "source": [
    "# Oryctolagus cuniculus"
   ]
  },
  {
   "cell_type": "code",
   "execution_count": 43,
   "metadata": {},
   "outputs": [],
   "source": [
    "organism = \"Oryctolagus cuniculus\""
   ]
  },
  {
   "cell_type": "code",
   "execution_count": 44,
   "metadata": {},
   "outputs": [],
   "source": [
    "# format\n",
    "org_str = organism.replace(\" \", \"_\")\n",
    "work_dir = os.path.join(base_dir, org_str)\n",
    "os.makedirs(work_dir, exist_ok=True)"
   ]
  },
  {
   "cell_type": "code",
   "execution_count": 45,
   "metadata": {},
   "outputs": [
    {
     "name": "stdout",
     "output_type": "stream",
     "text": [
      "\u001b[1mname                 provider accession         tax_id annotation species                                  other_info                              \u001b[0m\n",
      "\u001b[0mUM_NZW_0.0           NCBI     GCA_009806435.1     9986     \u001b[31m✗\u001b[39m      Oryctolagus cuniculus                    Shanghai Institutes for Biological Sciences\u001b[0m\n",
      "\u001b[0mOryCun2.0            NCBI     GCA_000003625.1     9986     \u001b[31m✗\u001b[39m      Oryctolagus cuniculus                    The Broad Institute of MIT and Harvard  \u001b[0m\n",
      "\u001b[0mUM_NZW_1.0           NCBI     GCA_009806435.2     9986     \u001b[31m✗\u001b[39m      Oryctolagus cuniculus                    Shanghai Institutes for Biological Sciences\u001b[0m\n",
      "\u001b[0mViralProj14057       NCBI     GCF_000837785.1   122291     \u001b[32m✓\u001b[39m      Oryctolagus cuniculus papillomavirus 1   The Jake Gittlen Cancer Research Institute, Department of Pathology, Pennsylvania State College of Medicine\u001b[0m\n",
      "\u001b[0mOryCun3.0            NCBI     GCA_013371645.1     9986     \u001b[31m✗\u001b[39m      Oryctolagus cuniculus cuniculus          Uppsala University                      \u001b[0m\n",
      "\u001b[0mmOryCun1.1           NCBI     GCF_964237555.1     9986     \u001b[32m✓\u001b[39m      Oryctolagus cuniculus                    WELLCOME SANGER INSTITUTE               \u001b[0m\n",
      "\u001b[0mmOryCun1.1_alternate_haplotype NCBI     GCA_964237575.1     9986     \u001b[31m✗\u001b[39m      Oryctolagus cuniculus                    WELLCOME SANGER INSTITUTE               \u001b[0m\n",
      "\u001b[0m\u001b[32m ^\u001b[0m\n",
      "\u001b[0m\u001b[32m Use name for \u001b[36mgenomepy install\u001b[0m\n",
      "\u001b[0m\u001b[0m"
     ]
    }
   ],
   "source": [
    "# show available assemblies\n",
    "!genomepy search --provider NCBI {organism}"
   ]
  },
  {
   "cell_type": "code",
   "execution_count": 46,
   "metadata": {},
   "outputs": [
    {
     "name": "stdout",
     "output_type": "stream",
     "text": [
      "\u001b[1mname                 provider accession         tax_id annotation species                                  other_info                              \u001b[0m\n",
      "\u001b[0mOryCun2.0            Ensembl  GCA_000003625.1     9986     \u001b[32m✓\u001b[39m      Oryctolagus cuniculus                    2009-11-Ensembl/2019-05                 \u001b[0m\n",
      "\u001b[0m\u001b[32m ^\u001b[0m\n",
      "\u001b[0m\u001b[32m Use name for \u001b[36mgenomepy install\u001b[0m\n",
      "\u001b[0m\u001b[0m"
     ]
    }
   ],
   "source": [
    "# show available assemblies\n",
    "!genomepy search --provider Ensembl {organism}"
   ]
  },
  {
   "cell_type": "code",
   "execution_count": null,
   "metadata": {},
   "outputs": [],
   "source": [
    "# set the genome name\n",
    "genome_name = \"OryCun2.0\""
   ]
  },
  {
   "cell_type": "code",
   "execution_count": 7,
   "metadata": {},
   "outputs": [
    {
     "name": "stdout",
     "output_type": "stream",
     "text": [
      "\u001b[32m11:35:01\u001b[0m \u001b[1m|\u001b[0m \u001b[34mINFO\u001b[0m \u001b[1m|\u001b[0m Downloading genome from Ensembl. Target URL: http://ftp.ensembl.org/pub/release-113/fasta/oryctolagus_cuniculus/dna/Oryctolagus_cuniculus.OryCun2.0.dna_sm.toplevel.fa.gz...\n",
      "Download: 100%|██████████████████████████████| 808M/808M [00:25<00:00, 32.7MB/s]\u001b[0m\u001b[0m\n",
      "\u001b[0m\u001b[32m11:35:27\u001b[0m \u001b[1m|\u001b[0m \u001b[34mINFO\u001b[0m \u001b[1m|\u001b[0m Genome download successful, starting post processing...\n",
      "\u001b[32m11:35:40\u001b[0m \u001b[1m|\u001b[0m \u001b[34mINFO\u001b[0m \u001b[1m|\u001b[0m name: OryCun2.0\n",
      "\u001b[32m11:35:40\u001b[0m \u001b[1m|\u001b[0m \u001b[34mINFO\u001b[0m \u001b[1m|\u001b[0m local name: OryCun2.0\n",
      "\u001b[32m11:35:40\u001b[0m \u001b[1m|\u001b[0m \u001b[34mINFO\u001b[0m \u001b[1m|\u001b[0m fasta: /scratch/multiomics/nickyoungblut/star_refs/Oryctolagus_cuniculus/OryCun2.0/OryCun2.0.fa\n",
      "Filtering Fasta: 45.6M lines [00:11, 3.95M lines/s]\u001b[0m\u001b[0m\n",
      "\u001b[0m\u001b[32m11:36:31\u001b[0m \u001b[1m|\u001b[0m \u001b[34mINFO\u001b[0m \u001b[1m|\u001b[0m Downloading annotation from Ensembl. Target URL: http://ftp.ensembl.org/pub/release-113/gtf/oryctolagus_cuniculus/Oryctolagus_cuniculus.OryCun2.0.113.gtf.gz...\n",
      "Download: 100%|████████████████████████████| 15.0M/15.0M [00:01<00:00, 14.0MB/s]\u001b[0m\u001b[0m\n",
      "\u001b[0m\u001b[32m11:36:36\u001b[0m \u001b[1m|\u001b[0m \u001b[34mINFO\u001b[0m \u001b[1m|\u001b[0m Annotation download successful\n",
      "\u001b[0m"
     ]
    }
   ],
   "source": [
    "# download genome\n",
    "!genomepy install --provider Ensembl --annotation --genomes_dir {work_dir} {genome_name}"
   ]
  },
  {
   "cell_type": "code",
   "execution_count": 8,
   "metadata": {},
   "outputs": [
    {
     "data": {
      "text/plain": [
       "'/scratch/multiomics/nickyoungblut/star_refs/Oryctolagus_cuniculus/OryCun2.0/OryCun2.0.fa'"
      ]
     },
     "execution_count": 8,
     "metadata": {},
     "output_type": "execute_result"
    }
   ],
   "source": [
    "# get genome fasta\n",
    "fasta_file = glob(f\"{work_dir}/{genome_name}/*.fa\")[0]\n",
    "fasta_file"
   ]
  },
  {
   "cell_type": "code",
   "execution_count": 9,
   "metadata": {},
   "outputs": [
    {
     "data": {
      "text/plain": [
       "'/scratch/multiomics/nickyoungblut/star_refs/Oryctolagus_cuniculus/OryCun2.0/OryCun2.0.annotation.gtf'"
      ]
     },
     "execution_count": 9,
     "metadata": {},
     "output_type": "execute_result"
    }
   ],
   "source": [
    "# get gtf file\n",
    "gtf_file = glob(f\"{work_dir}/{genome_name}/*.gtf\")[0]\n",
    "gtf_file"
   ]
  },
  {
   "cell_type": "code",
   "execution_count": 10,
   "metadata": {},
   "outputs": [
    {
     "name": "stdout",
     "output_type": "stream",
     "text": [
      "Processing GTF: OryCun2.0.annotation.gtf\n",
      "Output GTF: /scratch/multiomics/nickyoungblut/star_refs/Oryctolagus_cuniculus/Oryctolagus_cuniculus/Oryctolagus_cuniculus.gtf\n",
      "Total records in GTF: 1141097\n",
      "Filtered 12404 records by biotype\n",
      "Filtered 0 records by tag\n",
      "-- Count of biotypes filtered --\n",
      "pseudogene: 4247\n",
      "snRNA: 3879\n",
      "snoRNA: 2505\n",
      "miRNA: 864\n",
      "processed_pseudogene: 387\n",
      "misc_RNA: 189\n",
      "scaRNA: 96\n",
      "rRNA: 93\n",
      "Mt_tRNA: 66\n",
      "Y_RNA: 33\n",
      "ribozyme: 21\n",
      "vault_RNA: 18\n",
      "Mt_rRNA: 6\n",
      "-- Count of biotypes kept --\n",
      "protein_coding: 2173515\n",
      "lncRNA: 57393\n",
      "TR_J_gene: 63\n",
      "IG_V_gene: 33\n",
      "IG_C_gene: 17\n",
      "TR_V_gene: 15\n",
      "TR_C_gene: 9\n",
      "----------------------------\n"
     ]
    }
   ],
   "source": [
    "# format the reference\n",
    "exe = os.path.join(script_dir, \"format-star-ref.py\")\n",
    "!{exe} --organism \"{organism}\"  --output-dir {work_dir} {gtf_file} "
   ]
  },
  {
   "cell_type": "code",
   "execution_count": 11,
   "metadata": {},
   "outputs": [
    {
     "data": {
      "text/plain": [
       "True"
      ]
     },
     "execution_count": 11,
     "metadata": {},
     "output_type": "execute_result"
    }
   ],
   "source": [
    "# set the filtered gtf file\n",
    "gtf_filt_file = os.path.join(work_dir, org_str, f\"{org_str}.gtf\")\n",
    "os.path.exists(gtf_filt_file)"
   ]
  },
  {
   "cell_type": "code",
   "execution_count": 12,
   "metadata": {},
   "outputs": [
    {
     "name": "stdout",
     "output_type": "stream",
     "text": [
      "\t/home/nickyoungblut/miniforge3/envs/asmbl/bin/STAR-avx2 --runThreadN 16 --runMode genomeGenerate --genomeDir /scratch/multiomics/nickyoungblut/star_refs/Oryctolagus_cuniculus/star --genomeFastaFiles /scratch/multiomics/nickyoungblut/star_refs/Oryctolagus_cuniculus/OryCun2.0/OryCun2.0.fa --sjdbGTFfile /scratch/multiomics/nickyoungblut/star_refs/Oryctolagus_cuniculus/Oryctolagus_cuniculus/Oryctolagus_cuniculus.gtf --sjdbOverhang 100\n",
      "\tSTAR version: 2.7.11b   compiled: 2025-01-09T12:32:06+0000 :/opt/conda/conda-bld/star_1736425784849/work/source\n",
      "Feb 01 11:36:54 ..... started STAR run\n",
      "!!!!! WARNING: Could not move Log.out file from ./Log.out into /scratch/multiomics/nickyoungblut/star_refs/Oryctolagus_cuniculus/star/Log.out. Will keep ./Log.out\n",
      "\n",
      "Feb 01 11:36:55 ... starting to generate Genome files\n",
      "Feb 01 11:37:32 ..... processing annotations GTF\n",
      "Feb 01 11:37:46 ... starting to sort Suffix Array. This may take a long time...\n",
      "Feb 01 11:37:56 ... sorting Suffix Array chunks and saving them to disk...\n",
      "Feb 01 11:45:15 ... loading chunks from disk, packing SA...\n",
      "Feb 01 11:46:14 ... finished generating suffix array\n",
      "Feb 01 11:46:14 ... generating Suffix Array index\n",
      "Feb 01 11:49:55 ... completed Suffix Array index\n",
      "Feb 01 11:49:55 ..... inserting junctions into the genome indices\n",
      "Feb 01 11:51:50 ... writing Genome to disk ...\n",
      "Feb 01 11:51:53 ... writing Suffix Array to disk ...\n",
      "Feb 01 11:52:12 ... writing SAindex to disk\n",
      "Feb 01 11:52:14 ..... finished successfully\n"
     ]
    }
   ],
   "source": [
    "# create the star index\n",
    "star_dir = os.path.join(work_dir, \"star\")\n",
    "os.makedirs(star_dir, exist_ok=True)\n",
    "\n",
    "!STAR --runThreadN 16 \\\n",
    "    --runMode genomeGenerate \\\n",
    "    --genomeDir {star_dir} \\\n",
    "    --genomeFastaFiles {fasta_file} \\\n",
    "    --sjdbGTFfile {gtf_filt_file} \\\n",
    "    --sjdbOverhang 100 "
   ]
  },
  {
   "cell_type": "markdown",
   "metadata": {},
   "source": [
    "# Pan troglodytes"
   ]
  },
  {
   "cell_type": "code",
   "execution_count": 47,
   "metadata": {},
   "outputs": [],
   "source": [
    "organism = \"Pan troglodytes\"\n"
   ]
  },
  {
   "cell_type": "code",
   "execution_count": 48,
   "metadata": {},
   "outputs": [],
   "source": [
    "# format\n",
    "org_str = organism.replace(\" \", \"_\")\n",
    "work_dir = os.path.join(base_dir, org_str)\n",
    "os.makedirs(work_dir, exist_ok=True)"
   ]
  },
  {
   "cell_type": "code",
   "execution_count": 49,
   "metadata": {},
   "outputs": [
    {
     "name": "stdout",
     "output_type": "stream",
     "text": [
      "\u001b[1mname                 provider accession         tax_id annotation species                                  other_info                              \u001b[0m\n",
      "\u001b[0mPan_troglodytes-2.1.4 NCBI     GCF_000001515.6     9598     \u001b[32m✓\u001b[39m      Pan troglodytes                          Chimpanzee Sequencing and Analysis Consortium\u001b[0m\n",
      "\u001b[0mClint_PTR_v0         NCBI     GCA_002880755.1     9598     \u001b[32m✓\u001b[39m      Pan troglodytes                          University of Washington                \u001b[0m\n",
      "\u001b[0mClint_PTR_v1         NCBI     GCA_002880755.2     9598     \u001b[32m✓\u001b[39m      Pan troglodytes                          University of Washington                \u001b[0m\n",
      "\u001b[0mNHGRI_mPanTro3-v1.1-hic.freeze_pri NCBI     GCF_028858775.1     9598     \u001b[32m✓\u001b[39m      Pan troglodytes                          National Human Genome Research Institute, National Institutes of Health\u001b[0m\n",
      "\u001b[0mNHGRI_mPanTro3-v2.0_pri NCBI     GCF_028858775.2     9598     \u001b[32m✓\u001b[39m      Pan troglodytes                          National Human Genome Research Institute, National Institutes of Health\u001b[0m\n",
      "\u001b[0mNHGRI_mPanTro3-v1.1-hic.freeze_alt NCBI     GCA_028858805.1     9598     \u001b[31m✗\u001b[39m      Pan troglodytes                          National Human Genome Research Institute, National Institutes of Health\u001b[0m\n",
      "\u001b[0mPan_tro_3.0          NCBI     GCA_000001515.5     9598     \u001b[31m✗\u001b[39m      Pan troglodytes                          Chimpanzee Sequencing and Analysis Consortium\u001b[0m\n",
      "\u001b[0mCCYSCv1              NCBI     GCA_000002175.2     9598     \u001b[31m✗\u001b[39m      Pan troglodytes verus                    The Chimpanzee Chromosome Y Sequencing Consortium\u001b[0m\n",
      "\u001b[0mClint_PTRv2          NCBI     GCA_002880755.3     9598     \u001b[32m✓\u001b[39m      Pan troglodytes                          University of Washington                \u001b[0m\n",
      "\u001b[0mICC22C_chr21         NCBI     GCA_000090855.1     9598     \u001b[32m✓\u001b[39m      Pan troglodytes                          The International Chimpanzee Chromosome 22 Consortium\u001b[0m\n",
      "\u001b[0mASM32584v1           NCBI     GCA_000325845.1     9598     \u001b[31m✗\u001b[39m      Pan troglodytes                          Chimpanzee Sequencing and Analysis Consortium\u001b[0m\n",
      "\u001b[0mViralProj264928      NCBI     GCF_000926495.1  1891734     \u001b[32m✓\u001b[39m      Pan troglodytes verus polyomavirus 1a    FG 12, Robert Koch Institute            \u001b[0m\n",
      "\u001b[0mViralProj290360      NCBI     GCF_001184945.1  1236400     \u001b[32m✓\u001b[39m      Pan troglodytes troglodytes polyomavirus 1 FG12, Robert Koch Institute             \u001b[0m\n",
      "\u001b[0mViralProj305160      NCBI     GCF_001465105.1  2006158     \u001b[32m✓\u001b[39m      Pan troglodytes verus polyomavirus 8     Virology, Biomedical Primate Research Centre\u001b[0m\n",
      "\u001b[0mNHGRI_mPanTro3-v2.0_alt NCBI     GCA_028858805.2     9598     \u001b[31m✗\u001b[39m      Pan troglodytes                          National Human Genome Research Institute, National Institutes of Health\u001b[0m\n",
      "\u001b[0mClint_PTR_hifiasm-v0.15.2.alt NCBI     GCA_030128845.1     9598     \u001b[31m✗\u001b[39m      Pan troglodytes                          University of Washington                \u001b[0m\n",
      "\u001b[0mClint_PTR_hifiasm-v0.15.2.pri NCBI     GCA_030128855.1     9598     \u001b[31m✗\u001b[39m      Pan troglodytes                          University of Washington                \u001b[0m\n",
      "\u001b[0mASM3112837v1         NCBI     GCA_031128375.1  1578770     \u001b[32m✓\u001b[39m      Pan troglodytes verus polyomavirus 1b    FG 12, Robert Koch Institute            \u001b[0m\n",
      "\u001b[0mASM3112838v1         NCBI     GCA_031128385.1  1891735     \u001b[32m✓\u001b[39m      Pan troglodytes verus polyomavirus 2c    FG 12, Robert Koch Institute            \u001b[0m\n",
      "\u001b[0mASM3116254v1         NCBI     GCA_031162545.1  1811931     \u001b[32m✓\u001b[39m      Pan troglodytes schweinfurthii polyomavirus 3 FG12, Robert Koch Institute             \u001b[0m\n",
      "\u001b[0mASM3116255v1         NCBI     GCA_031162555.1  1811932     \u001b[32m✓\u001b[39m      Pan troglodytes troglodytes polyomavirus 2 FG12, Robert Koch Institute             \u001b[0m\n",
      "\u001b[0mCOX_ii               NCBI     GCA_900156565.1     9598     \u001b[31m✗\u001b[39m      Pan troglodytes                          STANFORD UNIVERSITY                     \u001b[0m\n",
      "\u001b[0m\u001b[32m ^\u001b[0m\n",
      "\u001b[0m\u001b[32m Use name for \u001b[36mgenomepy install\u001b[0m\n",
      "\u001b[0m\u001b[0m"
     ]
    }
   ],
   "source": [
    "# show available assemblies\n",
    "!genomepy search --provider NCBI {organism}"
   ]
  },
  {
   "cell_type": "code",
   "execution_count": 50,
   "metadata": {},
   "outputs": [
    {
     "name": "stdout",
     "output_type": "stream",
     "text": [
      "\u001b[1mname                 provider accession         tax_id annotation species                                  other_info                              \u001b[0m\n",
      "\u001b[0mPan_tro_3.0          Ensembl  GCA_000001515.5     9598     \u001b[32m✓\u001b[39m      Pan troglodytes                          2017-08-Ensembl/2020-03                 \u001b[0m\n",
      "\u001b[0m\u001b[32m ^\u001b[0m\n",
      "\u001b[0m\u001b[32m Use name for \u001b[36mgenomepy install\u001b[0m\n",
      "\u001b[0m\u001b[0m"
     ]
    }
   ],
   "source": [
    "# show available assemblies\n",
    "!genomepy search --provider Ensembl {organism}"
   ]
  },
  {
   "cell_type": "code",
   "execution_count": 51,
   "metadata": {},
   "outputs": [],
   "source": [
    "# set the genome name\n",
    "genome_name = \"Pan_tro_3.0\""
   ]
  },
  {
   "cell_type": "code",
   "execution_count": 22,
   "metadata": {},
   "outputs": [
    {
     "name": "stdout",
     "output_type": "stream",
     "text": [
      "\u001b[32m11:55:36\u001b[0m \u001b[1m|\u001b[0m \u001b[34mINFO\u001b[0m \u001b[1m|\u001b[0m Downloading genome from Ensembl. Target URL: http://ftp.ensembl.org/pub/release-113/fasta/pan_troglodytes/dna/Pan_troglodytes.Pan_tro_3.0.dna_sm.toplevel.fa.gz...\n",
      "Download: 100%|██████████████████████████████| 960M/960M [00:30<00:00, 32.6MB/s]\u001b[0m\u001b[0m\n",
      "\u001b[0m\u001b[32m11:56:07\u001b[0m \u001b[1m|\u001b[0m \u001b[34mINFO\u001b[0m \u001b[1m|\u001b[0m Genome download successful, starting post processing...\n",
      "\u001b[32m11:56:22\u001b[0m \u001b[1m|\u001b[0m \u001b[34mINFO\u001b[0m \u001b[1m|\u001b[0m name: Pan_tro_3.0\n",
      "\u001b[32m11:56:22\u001b[0m \u001b[1m|\u001b[0m \u001b[34mINFO\u001b[0m \u001b[1m|\u001b[0m local name: Pan_tro_3.0\n",
      "\u001b[32m11:56:22\u001b[0m \u001b[1m|\u001b[0m \u001b[34mINFO\u001b[0m \u001b[1m|\u001b[0m fasta: /scratch/multiomics/nickyoungblut/star_refs/Pan_troglodytes/Pan_tro_3.0/Pan_tro_3.0.fa\n",
      "Filtering Fasta: 53.9M lines [00:13, 4.04M lines/s]\u001b[0m\u001b[0m\n",
      "\u001b[0m\u001b[32m11:57:23\u001b[0m \u001b[1m|\u001b[0m \u001b[34mINFO\u001b[0m \u001b[1m|\u001b[0m Downloading annotation from Ensembl. Target URL: http://ftp.ensembl.org/pub/release-113/gtf/pan_troglodytes/Pan_troglodytes.Pan_tro_3.0.113.gtf.gz...\n",
      "Download: 100%|████████████████████████████| 17.7M/17.7M [00:01<00:00, 14.6MB/s]\u001b[0m\u001b[0m\n",
      "\u001b[0m\u001b[32m11:57:28\u001b[0m \u001b[1m|\u001b[0m \u001b[34mINFO\u001b[0m \u001b[1m|\u001b[0m Annotation download successful\n",
      "\u001b[0m"
     ]
    }
   ],
   "source": [
    "# download genome\n",
    "!genomepy install --provider Ensembl --annotation --genomes_dir {work_dir} {genome_name}"
   ]
  },
  {
   "cell_type": "code",
   "execution_count": 23,
   "metadata": {},
   "outputs": [
    {
     "data": {
      "text/plain": [
       "'/scratch/multiomics/nickyoungblut/star_refs/Pan_troglodytes/Pan_tro_3.0/Pan_tro_3.0.fa'"
      ]
     },
     "execution_count": 23,
     "metadata": {},
     "output_type": "execute_result"
    }
   ],
   "source": [
    "# get genome fasta\n",
    "fasta_file = glob(f\"{work_dir}/{genome_name}/*.fa\")[0]\n",
    "fasta_file"
   ]
  },
  {
   "cell_type": "code",
   "execution_count": 24,
   "metadata": {},
   "outputs": [
    {
     "data": {
      "text/plain": [
       "'/scratch/multiomics/nickyoungblut/star_refs/Pan_troglodytes/Pan_tro_3.0/Pan_tro_3.0.annotation.gtf'"
      ]
     },
     "execution_count": 24,
     "metadata": {},
     "output_type": "execute_result"
    }
   ],
   "source": [
    "# get gtf file\n",
    "gtf_file = glob(f\"{work_dir}/{genome_name}/*.gtf\")[0]\n",
    "gtf_file"
   ]
  },
  {
   "cell_type": "code",
   "execution_count": 28,
   "metadata": {},
   "outputs": [
    {
     "name": "stdout",
     "output_type": "stream",
     "text": [
      "Processing GTF: Pan_tro_3.0.annotation.gtf\n",
      "Output GTF: /scratch/multiomics/nickyoungblut/star_refs/Pan_troglodytes/Pan_troglodytes/Pan_troglodytes.gtf\n",
      "Total records in GTF: 1296549\n",
      "Filtered 39696 records by biotype\n",
      "Filtered 0 records by tag\n",
      "-- Count of biotypes filtered --\n",
      "lincRNA: 14191\n",
      "misc_RNA: 6852\n",
      "miRNA: 6723\n",
      "snRNA: 5709\n",
      "snoRNA: 2634\n",
      "rRNA: 1641\n",
      "pseudogene: 1013\n",
      "processed_pseudogene: 696\n",
      "scaRNA: 141\n",
      "Mt_tRNA: 66\n",
      "ribozyme: 24\n",
      "Mt_rRNA: 6\n",
      "-- Count of biotypes kept --\n",
      "protein_coding: 2487876\n",
      "IG_V_gene: 1108\n",
      "TR_V_gene: 791\n",
      "IG_C_gene: 278\n",
      "TR_C_gene: 119\n",
      "----------------------------\n"
     ]
    }
   ],
   "source": [
    "# format the reference\n",
    "exe = os.path.join(script_dir, \"format-star-ref.py\")\n",
    "!{exe} --organism \"{organism}\"  --output-dir {work_dir} {gtf_file} "
   ]
  },
  {
   "cell_type": "code",
   "execution_count": 29,
   "metadata": {},
   "outputs": [
    {
     "data": {
      "text/plain": [
       "True"
      ]
     },
     "execution_count": 29,
     "metadata": {},
     "output_type": "execute_result"
    }
   ],
   "source": [
    "# set the filtered gtf file\n",
    "gtf_filt_file = os.path.join(work_dir, org_str, f\"{org_str}.gtf\")\n",
    "os.path.exists(gtf_filt_file)"
   ]
  },
  {
   "cell_type": "code",
   "execution_count": 31,
   "metadata": {},
   "outputs": [
    {
     "name": "stdout",
     "output_type": "stream",
     "text": [
      "\t/home/nickyoungblut/miniforge3/envs/asmbl/bin/STAR-avx2 --runThreadN 16 --runMode genomeGenerate --genomeDir /scratch/multiomics/nickyoungblut/star_refs/Pan_troglodytes/star --genomeFastaFiles /scratch/multiomics/nickyoungblut/star_refs/Pan_troglodytes/Pan_tro_3.0/Pan_tro_3.0.fa --sjdbGTFfile /scratch/multiomics/nickyoungblut/star_refs/Pan_troglodytes/Pan_troglodytes/Pan_troglodytes.gtf --sjdbOverhang 100 --limitGenomeGenerateRAM=61000000000\n",
      "\tSTAR version: 2.7.11b   compiled: 2025-01-09T12:32:06+0000 :/opt/conda/conda-bld/star_1736425784849/work/source\n",
      "Feb 01 11:59:39 ..... started STAR run\n",
      "!!!!! WARNING: Could not move Log.out file from ./Log.out into /scratch/multiomics/nickyoungblut/star_refs/Pan_troglodytes/star/Log.out. Will keep ./Log.out\n",
      "\n",
      "Feb 01 11:59:39 ... starting to generate Genome files\n",
      "Feb 01 12:01:10 ..... processing annotations GTF\n",
      "Feb 01 12:01:57 ... starting to sort Suffix Array. This may take a long time...\n",
      "Feb 01 12:02:24 ... sorting Suffix Array chunks and saving them to disk...\n",
      "Feb 01 12:12:17 ... loading chunks from disk, packing SA...\n",
      "Feb 01 12:13:52 ... finished generating suffix array\n",
      "Feb 01 12:13:52 ... generating Suffix Array index\n",
      "Feb 01 12:17:49 ... completed Suffix Array index\n",
      "Feb 01 12:17:50 ..... inserting junctions into the genome indices\n",
      "Feb 01 12:20:09 ... writing Genome to disk ...\n",
      "Feb 01 12:20:27 ... writing Suffix Array to disk ...\n",
      "Feb 01 12:21:05 ... writing SAindex to disk\n",
      "Feb 01 12:21:08 ..... finished successfully\n"
     ]
    }
   ],
   "source": [
    "# create the star index\n",
    "star_dir = os.path.join(work_dir, \"star\")\n",
    "os.makedirs(star_dir, exist_ok=True)\n",
    "\n",
    "!STAR --runThreadN 16 \\\n",
    "    --runMode genomeGenerate \\\n",
    "    --genomeDir {star_dir} \\\n",
    "    --genomeFastaFiles {fasta_file} \\\n",
    "    --sjdbGTFfile {gtf_filt_file} \\\n",
    "    --sjdbOverhang 100 \\\n",
    "    --limitGenomeGenerateRAM=61000000000"
   ]
  },
  {
   "cell_type": "markdown",
   "metadata": {},
   "source": [
    "# Gallus gallus"
   ]
  },
  {
   "cell_type": "code",
   "execution_count": 52,
   "metadata": {},
   "outputs": [],
   "source": [
    "organism = \"Gallus gallus\""
   ]
  },
  {
   "cell_type": "code",
   "execution_count": 53,
   "metadata": {},
   "outputs": [],
   "source": [
    "# format\n",
    "org_str = organism.replace(\" \", \"_\")\n",
    "work_dir = os.path.join(base_dir, org_str)\n",
    "os.makedirs(work_dir, exist_ok=True)"
   ]
  },
  {
   "cell_type": "code",
   "execution_count": 55,
   "metadata": {},
   "outputs": [
    {
     "name": "stdout",
     "output_type": "stream",
     "text": [
      "\u001b[1mname                 provider accession         tax_id annotation species                                  other_info                              \u001b[0m\n",
      "\u001b[0mGallus_gallus-4.0    NCBI     GCF_000002315.3     9031     \u001b[32m✓\u001b[39m      Gallus gallus                            International Chicken Genome Consortium \u001b[0m\n",
      "\u001b[0mGallus_gallus-5.0    NCBI     GCF_000002315.4     9031     \u001b[32m✓\u001b[39m      Gallus gallus                            International Chicken Genome Consortium \u001b[0m\n",
      "\u001b[0mGRCg6                NCBI     GCA_000002315.4     9031     \u001b[32m✓\u001b[39m      Gallus gallus                            Genome Reference Consortium             \u001b[0m\n",
      "\u001b[0mbGalGal1.pat.whiteleghornlayer.GRCg7w NCBI     GCF_016700215.1     9031     \u001b[32m✓\u001b[39m      Gallus gallus                            Vertebrate Genomes Project              \u001b[0m\n",
      "\u001b[0mASM2420605v1         NCBI     GCA_024206055.1     9031     \u001b[31m✗\u001b[39m      Gallus gallus                            University of Vienna                    \u001b[0m\n",
      "\u001b[0mASM2544823v1         NCBI     GCA_025448235.1  2868390     \u001b[31m✗\u001b[39m      Buteogallus gundlachii                   Iridian Genomes                         \u001b[0m\n",
      "\u001b[0mF025_new_chr_level_genome NCBI     GCA_030849555.1     9031     \u001b[31m✗\u001b[39m      Gallus gallus                            The University of North Carolina at Charlotte\u001b[0m\n",
      "\u001b[0mP17_new_chr_level_genome NCBI     GCA_030914265.1     9031     \u001b[31m✗\u001b[39m      Gallus gallus                            The University of North Carolina at Charlotte\u001b[0m\n",
      "\u001b[0mW17_new_chr_level_genome NCBI     GCA_030914275.1     9031     \u001b[31m✗\u001b[39m      Gallus gallus                            The University of North Carolina at Charlotte\u001b[0m\n",
      "\u001b[0mH3_ncbi              NCBI     GCA_030979905.1     9031     \u001b[31m✗\u001b[39m      Gallus gallus                            The University of North Carolina at Charlotte\u001b[0m\n",
      "\u001b[0mGRCg6a               NCBI     GCA_000002315.5     9031     \u001b[31m✗\u001b[39m      Gallus gallus                            Genome Reference Consortium             \u001b[0m\n",
      "\u001b[0mOgye1.0              NCBI     GCA_002798355.1     9031     \u001b[31m✗\u001b[39m      Gallus gallus                            Hanyang University                      \u001b[0m\n",
      "\u001b[0mbGalGal1.mat.broiler.GRCg7b NCBI     GCF_016699485.2     9031     \u001b[32m✓\u001b[39m      Gallus gallus                            Vertebrate Genomes Project              \u001b[0m\n",
      "\u001b[0mbGalGal1.pat.whiteleghornlayer.GRCg7w_WZ NCBI     GCF_016700215.2     9031     \u001b[32m✓\u001b[39m      Gallus gallus                            Vertebrate Genomes Project              \u001b[0m\n",
      "\u001b[0mGGswu                NCBI     GCA_024206055.2     9031     \u001b[31m✗\u001b[39m      Gallus gallus                            University of Vienna                    \u001b[0m\n",
      "\u001b[0mASM2465298v1         NCBI     GCA_024652985.1     9031     \u001b[31m✗\u001b[39m      Gallus gallus                            College of Animal Science and Technology, Northwest A&F University\u001b[0m\n",
      "\u001b[0mASM2465299v1         NCBI     GCA_024652995.1     9031     \u001b[31m✗\u001b[39m      Gallus gallus                            College of Animal Science and Technology, Northwest A&F University\u001b[0m\n",
      "\u001b[0mASM2465302v1         NCBI     GCA_024653025.1     9031     \u001b[31m✗\u001b[39m      Gallus gallus                            College of Animal Science and Technology, Northwest A&F University\u001b[0m\n",
      "\u001b[0mASM2465303v1         NCBI     GCA_024653035.1     9031     \u001b[31m✗\u001b[39m      Gallus gallus                            College of Animal Science and Technology, Northwest A&F University\u001b[0m\n",
      "\u001b[0mASM2465304v1         NCBI     GCA_024653045.1     9031     \u001b[31m✗\u001b[39m      Gallus gallus                            College of Animal Science and Technology, Northwest A&F University\u001b[0m\n",
      "\u001b[0mASM2467932v1         NCBI     GCA_024679325.1     9031     \u001b[31m✗\u001b[39m      Gallus gallus                            College of Animal Science and Technology, Northwest A&F University\u001b[0m\n",
      "\u001b[0mASM2467935v1         NCBI     GCA_024679355.1     9031     \u001b[31m✗\u001b[39m      Gallus gallus                            College of Animal Science and Technology, Northwest A&F University\u001b[0m\n",
      "\u001b[0mASM2467937v1         NCBI     GCA_024679375.1     9031     \u001b[31m✗\u001b[39m      Gallus gallus                            College of Animal Science and Technology, Northwest A&F University\u001b[0m\n",
      "\u001b[0mASM2467939v1         NCBI     GCA_024679395.1     9031     \u001b[31m✗\u001b[39m      Gallus gallus                            College of Animal Science and Technology, Northwest A&F University\u001b[0m\n",
      "\u001b[0mASM2467941v1         NCBI     GCA_024679415.1     9031     \u001b[31m✗\u001b[39m      Gallus gallus                            College of Animal Science and Technology, Northwest A&F University\u001b[0m\n",
      "\u001b[0mASM2467976v1         NCBI     GCA_024679765.1     9031     \u001b[31m✗\u001b[39m      Gallus gallus                            College of Animal Science and Technology, Northwest A&F University\u001b[0m\n",
      "\u001b[0mASM2467990v1         NCBI     GCA_024679905.1     9031     \u001b[31m✗\u001b[39m      Gallus gallus                            College of Animal Science and Technology, Northwest A&F University\u001b[0m\n",
      "\u001b[0mASM2468627v1         NCBI     GCA_024686275.1     9031     \u001b[31m✗\u001b[39m      Gallus gallus                            College of Animal Science and Technology, Northwest A&F University\u001b[0m\n",
      "\u001b[0mASM2468628v1         NCBI     GCA_024686285.1     9031     \u001b[31m✗\u001b[39m      Gallus gallus                            College of Animal Science and Technology, Northwest A&F University\u001b[0m\n",
      "\u001b[0mASM2468629v1         NCBI     GCA_024686295.1     9031     \u001b[31m✗\u001b[39m      Gallus gallus                            College of Animal Science and Technology, Northwest A&F University\u001b[0m\n",
      "\u001b[0mASM2468631v1         NCBI     GCA_024686315.1     9031     \u001b[31m✗\u001b[39m      Gallus gallus                            College of Animal Science and Technology, Northwest A&F University\u001b[0m\n",
      "\u001b[0mASM2468635v1         NCBI     GCA_024686355.1     9031     \u001b[31m✗\u001b[39m      Gallus gallus                            College of Animal Science and Technology, Northwest A&F University\u001b[0m\n",
      "\u001b[0mASM2468646v1         NCBI     GCA_024686465.1     9031     \u001b[31m✗\u001b[39m      Gallus gallus                            College of Animal Science and Technology, Northwest A&F University\u001b[0m\n",
      "\u001b[0mASM2468700v1         NCBI     GCA_024687005.1     9031     \u001b[31m✗\u001b[39m      Gallus gallus                            College of Animal Science and Technology, Northwest A&F University\u001b[0m\n",
      "\u001b[0mASM2537063v1         NCBI     GCA_025370635.1     9031     \u001b[31m✗\u001b[39m      Gallus gallus                            College of Animal Science and Technology, Northwest A&F University\u001b[0m\n",
      "\u001b[0mASM2544823v2         NCBI     GCA_025448235.2  2868390     \u001b[31m✗\u001b[39m      Buteogallus gundlachii                   Iridian Genomes                         \u001b[0m\n",
      "\u001b[0mASM2572779v1         NCBI     GCA_025727795.1   223496     \u001b[31m✗\u001b[39m      Buteogallus meridionalis                 Iridian Genomes                         \u001b[0m\n",
      "\u001b[0mbGalGal5.alt         NCBI     GCA_027408205.1     9031     \u001b[31m✗\u001b[39m      Gallus gallus                            Vertebrate Genomes Project              \u001b[0m\n",
      "\u001b[0mbGalGal5.pri         NCBI     GCA_027408225.1     9031     \u001b[31m✗\u001b[39m      Gallus gallus                            Vertebrate Genomes Project              \u001b[0m\n",
      "\u001b[0mbGalGal4.alt         NCBI     GCA_027408255.1     9031     \u001b[31m✗\u001b[39m      Gallus gallus                            Vertebrate Genomes Project              \u001b[0m\n",
      "\u001b[0mbGalGal4.pri         NCBI     GCA_027557775.1     9031     \u001b[31m✗\u001b[39m      Gallus gallus                            Vertebrate Genomes Project              \u001b[0m\n",
      "\u001b[0mASM2756471v1         NCBI     GCA_027564715.1  2869446     \u001b[31m✗\u001b[39m      Buteogallus solitarius                   Iridian Genomes                         \u001b[0m\n",
      "\u001b[0mASM2757516v1         NCBI     GCA_027575165.1   224668     \u001b[31m✗\u001b[39m      Buteogallus aequinoctialis               Iridian Genomes                         \u001b[0m\n",
      "\u001b[0mASM3084955v2         NCBI     GCA_030849555.2     9031     \u001b[31m✗\u001b[39m      Gallus gallus                            The University of North Carolina at Charlotte\u001b[0m\n",
      "\u001b[0mASM3091426v2         NCBI     GCA_030914265.2     9031     \u001b[31m✗\u001b[39m      Gallus gallus                            The University of North Carolina at Charlotte\u001b[0m\n",
      "\u001b[0mASM3091427v2         NCBI     GCA_030914275.2     9031     \u001b[31m✗\u001b[39m      Gallus gallus                            The University of North Carolina at Charlotte\u001b[0m\n",
      "\u001b[0mASM3097990v2         NCBI     GCA_030979905.2     9031     \u001b[31m✗\u001b[39m      Gallus gallus                            The University of North Carolina at Charlotte\u001b[0m\n",
      "\u001b[0mASM3116169v1         NCBI     GCA_031161695.1  3051983     \u001b[32m✓\u001b[39m      Gallus gallus enteric parvovirus         Southeast Poultry Research Laboratory, USDA/ARS\u001b[0m\n",
      "\u001b[0mCAU_Silkie_1.0       NCBI     GCA_033088195.1     9031     \u001b[31m✗\u001b[39m      Gallus gallus gallus                     China Agricultural University           \u001b[0m\n",
      "\u001b[0mASM3450984v1         NCBI     GCA_034509845.1     9031     \u001b[31m✗\u001b[39m      Gallus gallus                            Northwest A&F University                \u001b[0m\n",
      "\u001b[0mASM3450986v1         NCBI     GCA_034509865.1     9031     \u001b[31m✗\u001b[39m      Gallus gallus                            Northwest A&F University                \u001b[0m\n",
      "\u001b[0mASM3450988v1         NCBI     GCA_034509885.1     9031     \u001b[31m✗\u001b[39m      Gallus gallus                            Northwest A&F University                \u001b[0m\n",
      "\u001b[0mCVASU_Gallus_Gallus_GG1M NCBI     GCA_034769225.1     9031     \u001b[31m✗\u001b[39m      Gallus gallus                            Chattogram Veterinary and Animal Sciences University (CVASU)\u001b[0m\n",
      "\u001b[0mCVASU_Gallus_Gallus_GG1F NCBI     GCA_034769275.1     9031     \u001b[31m✗\u001b[39m      Gallus gallus                            Chattogram Veterinary and Animal Sciences University (CVASU)\u001b[0m\n",
      "\u001b[0mASM3999707v1         NCBI     GCA_039997075.1     9031     \u001b[31m✗\u001b[39m      Gallus gallus                            National Institute of Animal Science    \u001b[0m\n",
      "\u001b[0mASM4043664v1         NCBI     GCA_040436645.1     9031     \u001b[31m✗\u001b[39m      Gallus gallus                            Zhejiang University                     \u001b[0m\n",
      "\u001b[0mASM4043665v1         NCBI     GCA_040436655.1     9031     \u001b[31m✗\u001b[39m      Gallus gallus                            Zhejiang University                     \u001b[0m\n",
      "\u001b[0mASM4192031v1         NCBI     GCA_041920315.1     9031     \u001b[31m✗\u001b[39m      Gallus gallus                            Kunming University                      \u001b[0m\n",
      "\u001b[0mASM4646395v1         NCBI     GCA_046463955.1     9031     \u001b[31m✗\u001b[39m      Gallus gallus                            Chinese Academy of Sciences             \u001b[0m\n",
      "\u001b[0mbTetUro1.1_alternate_haplotype NCBI     GCA_951394355.1   100830     \u001b[31m✗\u001b[39m      Tetrao urogallus                         WELLCOME SANGER INSTITUTE               \u001b[0m\n",
      "\u001b[0mbTetUro1.1           NCBI     GCA_951394365.1   100830     \u001b[31m✗\u001b[39m      Tetrao urogallus                         WELLCOME SANGER INSTITUTE               \u001b[0m\n",
      "\u001b[0m\u001b[32m ^\u001b[0m\n",
      "\u001b[0m\u001b[32m Use name for \u001b[36mgenomepy install\u001b[0m\n",
      "\u001b[0m\u001b[0m"
     ]
    }
   ],
   "source": [
    "# show available assemblies\n",
    "!genomepy search --provider NCBI {organism}"
   ]
  },
  {
   "cell_type": "code",
   "execution_count": 54,
   "metadata": {},
   "outputs": [
    {
     "name": "stdout",
     "output_type": "stream",
     "text": [
      "\u001b[1mname                 provider accession         tax_id annotation species                                  other_info                              \u001b[0m\n",
      "\u001b[0mGRCg6a               Ensembl  GCA_000002315.5     9031     \u001b[32m✓\u001b[39m      Gallus gallus                            2021-09-Ensembl/2022-01                 \u001b[0m\n",
      "\u001b[0mbGalGal1.pat.whiteleghornlayer.GRCg7w Ensembl  GCA_016700215.2     9031     \u001b[32m✓\u001b[39m      Gallus gallus                            2021-09-Ensembl/2022-01                 \u001b[0m\n",
      "\u001b[0mbGalGal1.mat.broiler.GRCg7b Ensembl  GCA_016699485.1     9031     \u001b[32m✓\u001b[39m      Gallus gallus                            2021-09-Ensembl/2022-01                 \u001b[0m\n",
      "\u001b[0m\u001b[32m ^\u001b[0m\n",
      "\u001b[0m\u001b[32m Use name for \u001b[36mgenomepy install\u001b[0m\n",
      "\u001b[0m\u001b[0m"
     ]
    }
   ],
   "source": [
    "# show available assemblies\n",
    "!genomepy search --provider Ensembl {organism}"
   ]
  },
  {
   "cell_type": "code",
   "execution_count": null,
   "metadata": {},
   "outputs": [],
   "source": [
    "# set the genome name\n",
    "genome_name = \"bGalGal1.mat.broiler.GRCg7b\""
   ]
  },
  {
   "cell_type": "code",
   "execution_count": 7,
   "metadata": {},
   "outputs": [
    {
     "name": "stdout",
     "output_type": "stream",
     "text": [
      "\u001b[32m12:55:52\u001b[0m \u001b[1m|\u001b[0m \u001b[34mINFO\u001b[0m \u001b[1m|\u001b[0m Downloading genome from Ensembl. Target URL: http://ftp.ensembl.org/pub/release-113/fasta/gallus_gallus/dna/Gallus_gallus.bGalGal1.mat.broiler.GRCg7b.dna_sm.toplevel.fa.gz...\n",
      "Download: 100%|██████████████████████████████| 316M/316M [00:10<00:00, 31.1MB/s]\u001b[0m\u001b[0m\n",
      "\u001b[0m\u001b[32m12:56:03\u001b[0m \u001b[1m|\u001b[0m \u001b[34mINFO\u001b[0m \u001b[1m|\u001b[0m Genome download successful, starting post processing...\n",
      "\u001b[32m12:56:08\u001b[0m \u001b[1m|\u001b[0m \u001b[34mINFO\u001b[0m \u001b[1m|\u001b[0m name: bGalGal1.mat.broiler.GRCg7b\n",
      "\u001b[32m12:56:08\u001b[0m \u001b[1m|\u001b[0m \u001b[34mINFO\u001b[0m \u001b[1m|\u001b[0m local name: bGalGal1.mat.broiler.GRCg7b\n",
      "\u001b[32m12:56:08\u001b[0m \u001b[1m|\u001b[0m \u001b[34mINFO\u001b[0m \u001b[1m|\u001b[0m fasta: /scratch/multiomics/nickyoungblut/star_refs/Gallus_gallus/bGalGal1.mat.broiler.GRCg7b/bGalGal1.mat.broiler.GRCg7b.fa\n",
      "Filtering Fasta: 17.6M lines [00:04, 4.13M lines/s]\u001b[0m\u001b[0m\n",
      "\u001b[0m\u001b[32m12:56:27\u001b[0m \u001b[1m|\u001b[0m \u001b[34mINFO\u001b[0m \u001b[1m|\u001b[0m Downloading annotation from Ensembl. Target URL: http://ftp.ensembl.org/pub/release-113/gtf/gallus_gallus/Gallus_gallus.bGalGal1.mat.broiler.GRCg7b.113.gtf.gz...\n",
      "Download: 100%|████████████████████████████| 17.5M/17.5M [00:01<00:00, 14.5MB/s]\u001b[0m\u001b[0m\n",
      "\u001b[0m\u001b[32m12:56:33\u001b[0m \u001b[1m|\u001b[0m \u001b[34mINFO\u001b[0m \u001b[1m|\u001b[0m Annotation download successful\n",
      "\u001b[0m"
     ]
    }
   ],
   "source": [
    "# download genome\n",
    "!genomepy install --provider Ensembl --annotation --genomes_dir {work_dir} {genome_name}"
   ]
  },
  {
   "cell_type": "code",
   "execution_count": 8,
   "metadata": {},
   "outputs": [
    {
     "data": {
      "text/plain": [
       "'/scratch/multiomics/nickyoungblut/star_refs/Gallus_gallus/bGalGal1.mat.broiler.GRCg7b/bGalGal1.mat.broiler.GRCg7b.fa'"
      ]
     },
     "execution_count": 8,
     "metadata": {},
     "output_type": "execute_result"
    }
   ],
   "source": [
    "# get genome fasta\n",
    "fasta_file = glob(f\"{work_dir}/{genome_name}/*.fa\")[0]\n",
    "fasta_file"
   ]
  },
  {
   "cell_type": "code",
   "execution_count": 9,
   "metadata": {},
   "outputs": [
    {
     "data": {
      "text/plain": [
       "'/scratch/multiomics/nickyoungblut/star_refs/Gallus_gallus/bGalGal1.mat.broiler.GRCg7b/bGalGal1.mat.broiler.GRCg7b.annotation.gtf'"
      ]
     },
     "execution_count": 9,
     "metadata": {},
     "output_type": "execute_result"
    }
   ],
   "source": [
    "# get gtf file\n",
    "gtf_file = glob(f\"{work_dir}/{genome_name}/*.gtf\")[0]\n",
    "gtf_file"
   ]
  },
  {
   "cell_type": "code",
   "execution_count": 10,
   "metadata": {},
   "outputs": [
    {
     "name": "stdout",
     "output_type": "stream",
     "text": [
      "Processing GTF: bGalGal1.mat.broiler.GRCg7b.annotation.gtf\n",
      "Output GTF: /scratch/multiomics/nickyoungblut/star_refs/Gallus_gallus/Gallus_gallus/Gallus_gallus.gtf\n",
      "Total records in GTF: 1476088\n",
      "Filtered 3588 records by biotype\n",
      "Filtered 0 records by tag\n",
      "-- Count of biotypes filtered --\n",
      "miRNA: 2022\n",
      "snoRNA: 582\n",
      "rRNA: 288\n",
      "pseudogene: 255\n",
      "snRNA: 246\n",
      "Mt_tRNA: 66\n",
      "scaRNA: 45\n",
      "processed_pseudogene: 45\n",
      "misc_RNA: 15\n",
      "Y_RNA: 6\n",
      "ribozyme: 6\n",
      "vault_RNA: 6\n",
      "Mt_rRNA: 6\n",
      "-- Count of biotypes kept --\n",
      "protein_coding: 2677015\n",
      "lncRNA: 239034\n",
      "----------------------------\n"
     ]
    }
   ],
   "source": [
    "# format the reference\n",
    "exe = os.path.join(script_dir, \"format-star-ref.py\")\n",
    "!{exe} --organism \"{organism}\"  --output-dir {work_dir} {gtf_file} "
   ]
  },
  {
   "cell_type": "code",
   "execution_count": 11,
   "metadata": {},
   "outputs": [
    {
     "data": {
      "text/plain": [
       "True"
      ]
     },
     "execution_count": 11,
     "metadata": {},
     "output_type": "execute_result"
    }
   ],
   "source": [
    "# set the filtered gtf file\n",
    "gtf_filt_file = os.path.join(work_dir, org_str, f\"{org_str}.gtf\")\n",
    "os.path.exists(gtf_filt_file)"
   ]
  },
  {
   "cell_type": "code",
   "execution_count": 12,
   "metadata": {},
   "outputs": [
    {
     "name": "stdout",
     "output_type": "stream",
     "text": [
      "\t/home/nickyoungblut/miniforge3/envs/asmbl/bin/STAR-avx2 --runThreadN 16 --runMode genomeGenerate --genomeDir /scratch/multiomics/nickyoungblut/star_refs/Gallus_gallus/star --genomeFastaFiles /scratch/multiomics/nickyoungblut/star_refs/Gallus_gallus/bGalGal1.mat.broiler.GRCg7b/bGalGal1.mat.broiler.GRCg7b.fa --sjdbGTFfile /scratch/multiomics/nickyoungblut/star_refs/Gallus_gallus/Gallus_gallus/Gallus_gallus.gtf --sjdbOverhang 100\n",
      "\tSTAR version: 2.7.11b   compiled: 2025-01-09T12:32:06+0000 :/opt/conda/conda-bld/star_1736425784849/work/source\n",
      "Feb 01 12:57:37 ..... started STAR run\n",
      "!!!!! WARNING: Could not move Log.out file from ./Log.out into /scratch/multiomics/nickyoungblut/star_refs/Gallus_gallus/star/Log.out. Will keep ./Log.out\n",
      "\n",
      "Feb 01 12:57:37 ... starting to generate Genome files\n",
      "Feb 01 12:57:51 ..... processing annotations GTF\n",
      "!!!!! WARNING: --genomeSAindexNbases 14 is too large for the genome size=1053332251, which may cause seg-fault at the mapping step. Re-run genome generation with recommended --genomeSAindexNbases 13\n",
      "Feb 01 12:57:58 ... starting to sort Suffix Array. This may take a long time...\n",
      "Feb 01 12:58:02 ... sorting Suffix Array chunks and saving them to disk...\n",
      "Feb 01 12:59:57 ... loading chunks from disk, packing SA...\n",
      "Feb 01 13:00:20 ... finished generating suffix array\n",
      "Feb 01 13:00:20 ... generating Suffix Array index\n",
      "Feb 01 13:02:33 ... completed Suffix Array index\n",
      "Feb 01 13:02:33 ..... inserting junctions into the genome indices\n",
      "Feb 01 13:04:03 ... writing Genome to disk ...\n",
      "Feb 01 13:04:04 ... writing Suffix Array to disk ...\n",
      "Feb 01 13:04:09 ... writing SAindex to disk\n",
      "Feb 01 13:04:10 ..... finished successfully\n"
     ]
    }
   ],
   "source": [
    "# create the star index\n",
    "star_dir = os.path.join(work_dir, \"star\")\n",
    "os.makedirs(star_dir, exist_ok=True)\n",
    "\n",
    "!STAR --runThreadN 16 \\\n",
    "    --runMode genomeGenerate \\\n",
    "    --genomeDir {star_dir} \\\n",
    "    --genomeFastaFiles {fasta_file} \\\n",
    "    --sjdbGTFfile {gtf_filt_file} \\\n",
    "    --sjdbOverhang 100"
   ]
  },
  {
   "cell_type": "markdown",
   "metadata": {},
   "source": [
    "# Xenopus tropicalis"
   ]
  },
  {
   "cell_type": "code",
   "execution_count": 56,
   "metadata": {},
   "outputs": [],
   "source": [
    "organism = \"Xenopus tropicalis\""
   ]
  },
  {
   "cell_type": "code",
   "execution_count": 57,
   "metadata": {},
   "outputs": [],
   "source": [
    "# format\n",
    "org_str = organism.replace(\" \", \"_\")\n",
    "work_dir = os.path.join(base_dir, org_str)\n",
    "os.makedirs(work_dir, exist_ok=True)"
   ]
  },
  {
   "cell_type": "code",
   "execution_count": 58,
   "metadata": {},
   "outputs": [
    {
     "name": "stdout",
     "output_type": "stream",
     "text": [
      "\u001b[1mname                 provider accession         tax_id annotation species                                  other_info                              \u001b[0m\n",
      "\u001b[0mXtropicalis_v7       NCBI     GCF_000004195.2     8364     \u001b[32m✓\u001b[39m      Xenopus tropicalis                       DOE Joint Genome Institute              \u001b[0m\n",
      "\u001b[0mXenopus_tropicalis_v9.1 NCBI     GCF_000004195.3     8364     \u001b[32m✓\u001b[39m      Xenopus tropicalis                       DOE Joint Genome Institute              \u001b[0m\n",
      "\u001b[0mUCB_Xtro_10.0        NCBI     GCF_000004195.4     8364     \u001b[32m✓\u001b[39m      Xenopus tropicalis                       University of California, Berkeley      \u001b[0m\n",
      "\u001b[0mASM1336827v1         NCBI     GCA_013368275.1     8364     \u001b[31m✗\u001b[39m      Xenopus tropicalis                       Southern University of Science and Technology\u001b[0m\n",
      "\u001b[0m\u001b[32m ^\u001b[0m\n",
      "\u001b[0m\u001b[32m Use name for \u001b[36mgenomepy install\u001b[0m\n",
      "\u001b[0m\u001b[0m"
     ]
    }
   ],
   "source": [
    "# show available assemblies\n",
    "!genomepy search --provider NCBI {organism}"
   ]
  },
  {
   "cell_type": "code",
   "execution_count": 59,
   "metadata": {},
   "outputs": [
    {
     "name": "stdout",
     "output_type": "stream",
     "text": [
      "\u001b[1mname                 provider accession         tax_id annotation species                                  other_info                              \u001b[0m\n",
      "\u001b[0mUCB_Xtro_10.0        Ensembl  GCA_000004195.4     8364     \u001b[32m✓\u001b[39m      Xenopus tropicalis                       2020-09-Ensembl/2021-02                 \u001b[0m\n",
      "\u001b[0m\u001b[32m ^\u001b[0m\n",
      "\u001b[0m\u001b[32m Use name for \u001b[36mgenomepy install\u001b[0m\n",
      "\u001b[0m\u001b[0m"
     ]
    }
   ],
   "source": [
    "# show available assemblies\n",
    "!genomepy search --provider Ensembl {organism}"
   ]
  },
  {
   "cell_type": "code",
   "execution_count": null,
   "metadata": {},
   "outputs": [],
   "source": [
    "# set the genome name\n",
    "genome_name = \"UCB_Xtro_10.0\""
   ]
  },
  {
   "cell_type": "code",
   "execution_count": 16,
   "metadata": {},
   "outputs": [
    {
     "name": "stdout",
     "output_type": "stream",
     "text": [
      "\u001b[32m13:22:41\u001b[0m \u001b[1m|\u001b[0m \u001b[34mINFO\u001b[0m \u001b[1m|\u001b[0m Downloading genome from Ensembl. Target URL: http://ftp.ensembl.org/pub/release-113/fasta/xenopus_tropicalis/dna/Xenopus_tropicalis.UCB_Xtro_10.0.dna_sm.toplevel.fa.gz...\n",
      "Download: 100%|██████████████████████████████| 409M/409M [00:13<00:00, 31.2MB/s]\u001b[0m\u001b[0m\n",
      "\u001b[0m\u001b[32m13:22:55\u001b[0m \u001b[1m|\u001b[0m \u001b[34mINFO\u001b[0m \u001b[1m|\u001b[0m Genome download successful, starting post processing...\n",
      "\u001b[32m13:23:01\u001b[0m \u001b[1m|\u001b[0m \u001b[34mINFO\u001b[0m \u001b[1m|\u001b[0m name: UCB_Xtro_10.0\n",
      "\u001b[32m13:23:01\u001b[0m \u001b[1m|\u001b[0m \u001b[34mINFO\u001b[0m \u001b[1m|\u001b[0m local name: UCB_Xtro_10.0\n",
      "\u001b[32m13:23:01\u001b[0m \u001b[1m|\u001b[0m \u001b[34mINFO\u001b[0m \u001b[1m|\u001b[0m fasta: /scratch/multiomics/nickyoungblut/star_refs/Xenopus_tropicalis/UCB_Xtro_10.0/UCB_Xtro_10.0.fa\n",
      "Filtering Fasta: 24.2M lines [00:05, 4.06M lines/s]\u001b[0m\u001b[0m\n",
      "\u001b[0m\u001b[32m13:23:28\u001b[0m \u001b[1m|\u001b[0m \u001b[34mINFO\u001b[0m \u001b[1m|\u001b[0m Downloading annotation from Ensembl. Target URL: http://ftp.ensembl.org/pub/release-113/gtf/xenopus_tropicalis/Xenopus_tropicalis.UCB_Xtro_10.0.113.gtf.gz...\n",
      "Download: 100%|████████████████████████████| 17.7M/17.7M [00:01<00:00, 15.5MB/s]\u001b[0m\u001b[0m\n",
      "\u001b[0m\u001b[32m13:23:34\u001b[0m \u001b[1m|\u001b[0m \u001b[34mINFO\u001b[0m \u001b[1m|\u001b[0m Annotation download successful\n",
      "\u001b[0m"
     ]
    }
   ],
   "source": [
    "# download genome\n",
    "!genomepy install --provider Ensembl --annotation --genomes_dir {work_dir} {genome_name}"
   ]
  },
  {
   "cell_type": "code",
   "execution_count": 17,
   "metadata": {},
   "outputs": [
    {
     "data": {
      "text/plain": [
       "'/scratch/multiomics/nickyoungblut/star_refs/Xenopus_tropicalis/UCB_Xtro_10.0/UCB_Xtro_10.0.fa'"
      ]
     },
     "execution_count": 17,
     "metadata": {},
     "output_type": "execute_result"
    }
   ],
   "source": [
    "# get genome fasta\n",
    "fasta_file = glob(f\"{work_dir}/{genome_name}/*.fa\")[0]\n",
    "fasta_file"
   ]
  },
  {
   "cell_type": "code",
   "execution_count": 18,
   "metadata": {},
   "outputs": [
    {
     "data": {
      "text/plain": [
       "'/scratch/multiomics/nickyoungblut/star_refs/Xenopus_tropicalis/UCB_Xtro_10.0/UCB_Xtro_10.0.annotation.gtf'"
      ]
     },
     "execution_count": 18,
     "metadata": {},
     "output_type": "execute_result"
    }
   ],
   "source": [
    "# get gtf file\n",
    "gtf_file = glob(f\"{work_dir}/{genome_name}/*.gtf\")[0]\n",
    "gtf_file"
   ]
  },
  {
   "cell_type": "code",
   "execution_count": 19,
   "metadata": {},
   "outputs": [
    {
     "name": "stdout",
     "output_type": "stream",
     "text": [
      "Processing GTF: UCB_Xtro_10.0.annotation.gtf\n",
      "Output GTF: /scratch/multiomics/nickyoungblut/star_refs/Xenopus_tropicalis/Xenopus_tropicalis/Xenopus_tropicalis.gtf\n",
      "Total records in GTF: 1449685\n",
      "Filtered 7753 records by biotype\n",
      "Filtered 0 records by tag\n",
      "-- Count of biotypes filtered --\n",
      "snRNA: 2340\n",
      "rRNA: 1599\n",
      "processed_pseudogene: 1365\n",
      "snoRNA: 1041\n",
      "miRNA: 801\n",
      "pseudogene: 319\n",
      "misc_RNA: 72\n",
      "Mt_tRNA: 66\n",
      "ribozyme: 60\n",
      "scaRNA: 54\n",
      "vault_RNA: 18\n",
      "Y_RNA: 12\n",
      "Mt_rRNA: 6\n",
      "-- Count of biotypes kept --\n",
      "protein_coding: 2861708\n",
      "IG_V_gene: 49\n",
      "----------------------------\n"
     ]
    }
   ],
   "source": [
    "# format the reference\n",
    "exe = os.path.join(script_dir, \"format-star-ref.py\")\n",
    "!{exe} --organism \"{organism}\"  --output-dir {work_dir} {gtf_file} "
   ]
  },
  {
   "cell_type": "code",
   "execution_count": 20,
   "metadata": {},
   "outputs": [
    {
     "data": {
      "text/plain": [
       "True"
      ]
     },
     "execution_count": 20,
     "metadata": {},
     "output_type": "execute_result"
    }
   ],
   "source": [
    "# set the filtered gtf file\n",
    "gtf_filt_file = os.path.join(work_dir, org_str, f\"{org_str}.gtf\")\n",
    "os.path.exists(gtf_filt_file)"
   ]
  },
  {
   "cell_type": "code",
   "execution_count": 21,
   "metadata": {},
   "outputs": [
    {
     "name": "stdout",
     "output_type": "stream",
     "text": [
      "\t/home/nickyoungblut/miniforge3/envs/asmbl/bin/STAR-avx2 --runThreadN 16 --runMode genomeGenerate --genomeDir /scratch/multiomics/nickyoungblut/star_refs/Xenopus_tropicalis/star --genomeFastaFiles /scratch/multiomics/nickyoungblut/star_refs/Xenopus_tropicalis/UCB_Xtro_10.0/UCB_Xtro_10.0.fa --sjdbGTFfile /scratch/multiomics/nickyoungblut/star_refs/Xenopus_tropicalis/Xenopus_tropicalis/Xenopus_tropicalis.gtf --sjdbOverhang 100\n",
      "\tSTAR version: 2.7.11b   compiled: 2025-01-09T12:32:06+0000 :/opt/conda/conda-bld/star_1736425784849/work/source\n",
      "Feb 01 13:23:56 ..... started STAR run\n",
      "!!!!! WARNING: Could not move Log.out file from ./Log.out into /scratch/multiomics/nickyoungblut/star_refs/Xenopus_tropicalis/star/Log.out. Will keep ./Log.out\n",
      "\n",
      "Feb 01 13:23:56 ... starting to generate Genome files\n",
      "Feb 01 13:24:15 ..... processing annotations GTF\n",
      "Feb 01 13:24:23 ... starting to sort Suffix Array. This may take a long time...\n",
      "Feb 01 13:24:28 ... sorting Suffix Array chunks and saving them to disk...\n",
      "Feb 01 13:27:56 ... loading chunks from disk, packing SA...\n",
      "Feb 01 13:28:27 ... finished generating suffix array\n",
      "Feb 01 13:28:27 ... generating Suffix Array index\n",
      "Feb 01 13:30:53 ... completed Suffix Array index\n",
      "Feb 01 13:30:54 ..... inserting junctions into the genome indices\n",
      "Feb 01 13:32:26 ... writing Genome to disk ...\n",
      "Feb 01 13:32:27 ... writing Suffix Array to disk ...\n",
      "Feb 01 13:32:35 ... writing SAindex to disk\n",
      "Feb 01 13:32:37 ..... finished successfully\n"
     ]
    }
   ],
   "source": [
    "# create the star index\n",
    "star_dir = os.path.join(work_dir, \"star\")\n",
    "os.makedirs(star_dir, exist_ok=True)\n",
    "\n",
    "!STAR --runThreadN 16 \\\n",
    "    --runMode genomeGenerate \\\n",
    "    --genomeDir {star_dir} \\\n",
    "    --genomeFastaFiles {fasta_file} \\\n",
    "    --sjdbGTFfile {gtf_filt_file} \\\n",
    "    --sjdbOverhang 100"
   ]
  },
  {
   "cell_type": "markdown",
   "metadata": {},
   "source": [
    "# Danio rerio"
   ]
  },
  {
   "cell_type": "code",
   "execution_count": 60,
   "metadata": {},
   "outputs": [],
   "source": [
    "organism = \"Danio rerio\""
   ]
  },
  {
   "cell_type": "code",
   "execution_count": 61,
   "metadata": {},
   "outputs": [],
   "source": [
    "# format\n",
    "org_str = organism.replace(\" \", \"_\")\n",
    "work_dir = os.path.join(base_dir, org_str)\n",
    "os.makedirs(work_dir, exist_ok=True)"
   ]
  },
  {
   "cell_type": "code",
   "execution_count": 62,
   "metadata": {},
   "outputs": [
    {
     "name": "stdout",
     "output_type": "stream",
     "text": [
      "\u001b[1mname                 provider accession         tax_id annotation species                                  other_info                              \u001b[0m\n",
      "\u001b[0mZv9                  NCBI     GCF_000002035.4     7955     \u001b[32m✓\u001b[39m      Danio rerio                              Wellcome Trust Sanger Institute         \u001b[0m\n",
      "\u001b[0mGRCz10               NCBI     GCF_000002035.5     7955     \u001b[32m✓\u001b[39m      Danio rerio                              Genome Reference Consortium             \u001b[0m\n",
      "\u001b[0mCG2v1.0              NCBI     GCA_001483285.1     7955     \u001b[31m✗\u001b[39m      Danio rerio                              University of Chicago                   \u001b[0m\n",
      "\u001b[0mASM3317019v1         NCBI     GCA_033170195.1     7955     \u001b[31m✗\u001b[39m      Danio rerio                              National Human Genome Research Institute\u001b[0m\n",
      "\u001b[0mfDreTuH1.1           NCBI     GCA_903684855.1     7955     \u001b[31m✗\u001b[39m      Danio rerio                              SC                                      \u001b[0m\n",
      "\u001b[0mGRCz11               NCBI     GCF_000002035.6     7955     \u001b[32m✓\u001b[39m      Danio rerio                              Genome Reference Consortium             \u001b[0m\n",
      "\u001b[0mWGS31                NCBI     GCA_000767325.1     7955     \u001b[31m✗\u001b[39m      Danio rerio                              Wellcome Trust Sanger Institute         \u001b[0m\n",
      "\u001b[0mCG2v2.0              NCBI     GCA_001483285.2     7955     \u001b[31m✗\u001b[39m      Danio rerio                              University of Chicago                   \u001b[0m\n",
      "\u001b[0mZebrafish_Genome_Assembly_WGS32 NCBI     GCA_001487895.1     7955     \u001b[31m✗\u001b[39m      Danio rerio                              SC                                      \u001b[0m\n",
      "\u001b[0mASM869237v1          NCBI     GCA_008692375.1     7955     \u001b[31m✗\u001b[39m      Danio rerio                              Harvard University                      \u001b[0m\n",
      "\u001b[0mASM1840007v1         NCBI     GCA_018400075.1     7955     \u001b[31m✗\u001b[39m      Danio rerio                              North Carolina State University         \u001b[0m\n",
      "\u001b[0mZF1_MM_RP            NCBI     GCA_020064045.1     7955     \u001b[31m✗\u001b[39m      Danio rerio                              University of Kentucky                  \u001b[0m\n",
      "\u001b[0mASM2018471v1         NCBI     GCA_020184715.1     7955     \u001b[31m✗\u001b[39m      Danio rerio                              Institute of Hydrobiology, Chinese Academy of Sciences\u001b[0m\n",
      "\u001b[0mCG1v2.0              NCBI     GCA_025582565.1     7955     \u001b[31m✗\u001b[39m      Danio rerio                              University of Chicago                   \u001b[0m\n",
      "\u001b[0mAB3v2.0              NCBI     GCA_025582595.1     7955     \u001b[31m✗\u001b[39m      Danio rerio                              University of Chicago                   \u001b[0m\n",
      "\u001b[0mASM3317019v2         NCBI     GCA_033170195.2     7955     \u001b[31m✗\u001b[39m      Danio rerio                              National Human Genome Research Institute\u001b[0m\n",
      "\u001b[0mDanio_rerio_NIES_1.0 NCBI     GCA_040368725.1     7955     \u001b[31m✗\u001b[39m      Danio rerio                              Environmental Genomics Office, Biodiversity Division, National Institute for Environmental Studies\u001b[0m\n",
      "\u001b[0mfDreTuH1.2           NCBI     GCA_903684855.2     7955     \u001b[31m✗\u001b[39m      Danio rerio                              SC                                      \u001b[0m\n",
      "\u001b[0mfDreABH1.1           NCBI     GCA_903684865.1     7955     \u001b[31m✗\u001b[39m      Danio rerio                              SC                                      \u001b[0m\n",
      "\u001b[0mfDreCBz1.1           NCBI     GCA_903798165.1     7955     \u001b[31m✗\u001b[39m      Danio rerio                              SC                                      \u001b[0m\n",
      "\u001b[0mfDreNAz3.1           NCBI     GCA_903798175.1     7955     \u001b[31m✗\u001b[39m      Danio rerio                              SC                                      \u001b[0m\n",
      "\u001b[0mfDreABz2.1           NCBI     GCA_903798185.1     7955     \u001b[31m✗\u001b[39m      Danio rerio                              SC                                      \u001b[0m\n",
      "\u001b[0mfDanRer4.1_alternate_haplotype NCBI     GCA_944039255.1     7955     \u001b[31m✗\u001b[39m      Danio rerio                              WELLCOME SANGER INSTITUTE               \u001b[0m\n",
      "\u001b[0mfDanRer4.1           NCBI     GCA_944039275.1     7955     \u001b[31m✗\u001b[39m      Danio rerio                              WELLCOME SANGER INSTITUTE               \u001b[0m\n",
      "\u001b[0m\u001b[32m ^\u001b[0m\n",
      "\u001b[0m\u001b[32m Use name for \u001b[36mgenomepy install\u001b[0m\n",
      "\u001b[0m\u001b[0m"
     ]
    }
   ],
   "source": [
    "# show available assemblies\n",
    "!genomepy search --provider NCBI {organism}"
   ]
  },
  {
   "cell_type": "code",
   "execution_count": 63,
   "metadata": {},
   "outputs": [
    {
     "name": "stdout",
     "output_type": "stream",
     "text": [
      "\u001b[1mname                 provider accession         tax_id annotation species                                  other_info                              \u001b[0m\n",
      "\u001b[0mGRCz11               Ensembl  GCA_000002035.4     7955     \u001b[32m✓\u001b[39m      Danio rerio                              ENS01                                   \u001b[0m\n",
      "\u001b[0m\u001b[32m ^\u001b[0m\n",
      "\u001b[0m\u001b[32m Use name for \u001b[36mgenomepy install\u001b[0m\n",
      "\u001b[0m\u001b[0m"
     ]
    }
   ],
   "source": [
    "# show available assemblies\n",
    "!genomepy search --provider Ensembl {organism}"
   ]
  },
  {
   "cell_type": "code",
   "execution_count": null,
   "metadata": {},
   "outputs": [],
   "source": [
    "# set the genome name\n",
    "genome_name = \"GRCz11\""
   ]
  },
  {
   "cell_type": "code",
   "execution_count": 25,
   "metadata": {},
   "outputs": [
    {
     "name": "stdout",
     "output_type": "stream",
     "text": [
      "\u001b[32m13:38:58\u001b[0m \u001b[1m|\u001b[0m \u001b[34mINFO\u001b[0m \u001b[1m|\u001b[0m Downloading genome from Ensembl. Target URL: http://ftp.ensembl.org/pub/release-113/fasta/danio_rerio/dna/Danio_rerio.GRCz11.dna_sm.primary_assembly.fa.gz...\n",
      "Download: 100%|██████████████████████████████| 418M/418M [00:14<00:00, 30.9MB/s]\u001b[0m\u001b[0m\n",
      "\u001b[0m\u001b[32m13:39:13\u001b[0m \u001b[1m|\u001b[0m \u001b[34mINFO\u001b[0m \u001b[1m|\u001b[0m Genome download successful, starting post processing...\n",
      "\u001b[32m13:39:19\u001b[0m \u001b[1m|\u001b[0m \u001b[34mINFO\u001b[0m \u001b[1m|\u001b[0m name: GRCz11\n",
      "\u001b[32m13:39:19\u001b[0m \u001b[1m|\u001b[0m \u001b[34mINFO\u001b[0m \u001b[1m|\u001b[0m local name: GRCz11\n",
      "\u001b[32m13:39:19\u001b[0m \u001b[1m|\u001b[0m \u001b[34mINFO\u001b[0m \u001b[1m|\u001b[0m fasta: /scratch/multiomics/nickyoungblut/star_refs/Danio_rerio/GRCz11/GRCz11.fa\n",
      "Filtering Fasta: 22.9M lines [00:05, 4.10M lines/s]\u001b[0m\u001b[0m\n",
      "\u001b[0m\u001b[32m13:39:45\u001b[0m \u001b[1m|\u001b[0m \u001b[34mINFO\u001b[0m \u001b[1m|\u001b[0m Downloading annotation from Ensembl. Target URL: http://ftp.ensembl.org/pub/release-113/gtf/danio_rerio/Danio_rerio.GRCz11.113.gtf.gz...\n",
      "Download: 100%|████████████████████████████| 17.3M/17.3M [00:01<00:00, 15.2MB/s]\u001b[0m\u001b[0m\n",
      "\u001b[0m\u001b[32m13:39:50\u001b[0m \u001b[1m|\u001b[0m \u001b[34mINFO\u001b[0m \u001b[1m|\u001b[0m Annotation download successful\n",
      "\u001b[0m"
     ]
    }
   ],
   "source": [
    "# download genome\n",
    "!genomepy install --provider Ensembl --annotation --genomes_dir {work_dir} {genome_name}"
   ]
  },
  {
   "cell_type": "code",
   "execution_count": 26,
   "metadata": {},
   "outputs": [
    {
     "data": {
      "text/plain": [
       "'/scratch/multiomics/nickyoungblut/star_refs/Danio_rerio/GRCz11/GRCz11.fa'"
      ]
     },
     "execution_count": 26,
     "metadata": {},
     "output_type": "execute_result"
    }
   ],
   "source": [
    "# get genome fasta\n",
    "fasta_file = glob(f\"{work_dir}/{genome_name}/*.fa\")[0]\n",
    "fasta_file"
   ]
  },
  {
   "cell_type": "code",
   "execution_count": 27,
   "metadata": {},
   "outputs": [
    {
     "data": {
      "text/plain": [
       "'/scratch/multiomics/nickyoungblut/star_refs/Danio_rerio/GRCz11/GRCz11.annotation.gtf'"
      ]
     },
     "execution_count": 27,
     "metadata": {},
     "output_type": "execute_result"
    }
   ],
   "source": [
    "# get gtf file\n",
    "gtf_file = glob(f\"{work_dir}/{genome_name}/*.gtf\")[0]\n",
    "gtf_file"
   ]
  },
  {
   "cell_type": "code",
   "execution_count": 28,
   "metadata": {},
   "outputs": [
    {
     "name": "stdout",
     "output_type": "stream",
     "text": [
      "Processing GTF: GRCz11.annotation.gtf\n",
      "Output GTF: /scratch/multiomics/nickyoungblut/star_refs/Danio_rerio/Danio_rerio/Danio_rerio.gtf\n",
      "Total records in GTF: 1161868\n",
      "Filtered 75702 records by biotype\n",
      "Filtered 0 records by tag\n",
      "-- Count of biotypes filtered --\n",
      "processed_transcript: 19525\n",
      "retained_intron: 15599\n",
      "nonsense_mediated_decay: 12561\n",
      "lincRNA: 11049\n",
      "rRNA: 5898\n",
      "antisense: 4077\n",
      "snRNA: 1623\n",
      "unprocessed_pseudogene: 1575\n",
      "miRNA: 1305\n",
      "snoRNA: 741\n",
      "polymorphic_pseudogene: 380\n",
      "transcribed_unprocessed_pseudogene: 358\n",
      "misc_RNA: 282\n",
      "sense_intronic: 281\n",
      "processed_pseudogene: 92\n",
      "Mt_tRNA: 66\n",
      "non_stop_decay: 60\n",
      "TEC: 59\n",
      "pseudogene: 57\n",
      "sense_overlapping: 45\n",
      "scaRNA: 33\n",
      "sRNA: 12\n",
      "ribozyme: 12\n",
      "IG_pseudogene: 6\n",
      "Mt_rRNA: 6\n",
      "-- Count of biotypes kept --\n",
      "protein_coding: 2183567\n",
      "TR_V_gene: 884\n",
      "TR_J_gene: 592\n",
      "IG_V_pseudogene: 113\n",
      "IG_C_gene: 34\n",
      "IG_C_pseudogene: 19\n",
      "IG_J_pseudogene: 17\n",
      "TR_D_gene: 14\n",
      "TR_V_pseudogene: 7\n",
      "----------------------------\n"
     ]
    }
   ],
   "source": [
    "# format the reference\n",
    "exe = os.path.join(script_dir, \"format-star-ref.py\")\n",
    "!{exe} --organism \"{organism}\"  --output-dir {work_dir} {gtf_file} "
   ]
  },
  {
   "cell_type": "code",
   "execution_count": 29,
   "metadata": {},
   "outputs": [
    {
     "data": {
      "text/plain": [
       "True"
      ]
     },
     "execution_count": 29,
     "metadata": {},
     "output_type": "execute_result"
    }
   ],
   "source": [
    "# set the filtered gtf file\n",
    "gtf_filt_file = os.path.join(work_dir, org_str, f\"{org_str}.gtf\")\n",
    "os.path.exists(gtf_filt_file)"
   ]
  },
  {
   "cell_type": "code",
   "execution_count": 30,
   "metadata": {},
   "outputs": [
    {
     "name": "stdout",
     "output_type": "stream",
     "text": [
      "\t/home/nickyoungblut/miniforge3/envs/asmbl/bin/STAR-avx2 --runThreadN 16 --runMode genomeGenerate --genomeDir /scratch/multiomics/nickyoungblut/star_refs/Danio_rerio/star --genomeFastaFiles /scratch/multiomics/nickyoungblut/star_refs/Danio_rerio/GRCz11/GRCz11.fa --sjdbGTFfile /scratch/multiomics/nickyoungblut/star_refs/Danio_rerio/Danio_rerio/Danio_rerio.gtf --sjdbOverhang 100\n",
      "\tSTAR version: 2.7.11b   compiled: 2025-01-09T12:32:06+0000 :/opt/conda/conda-bld/star_1736425784849/work/source\n",
      "Feb 01 13:47:32 ..... started STAR run\n",
      "!!!!! WARNING: Could not move Log.out file from ./Log.out into /scratch/multiomics/nickyoungblut/star_refs/Danio_rerio/star/Log.out. Will keep ./Log.out\n",
      "\n",
      "Feb 01 13:47:32 ... starting to generate Genome files\n",
      "Feb 01 13:47:50 ..... processing annotations GTF\n",
      "Feb 01 13:47:57 ... starting to sort Suffix Array. This may take a long time...\n",
      "Feb 01 13:48:02 ... sorting Suffix Array chunks and saving them to disk...\n",
      "Feb 01 13:51:29 ... loading chunks from disk, packing SA...\n",
      "Feb 01 13:52:01 ... finished generating suffix array\n",
      "Feb 01 13:52:01 ... generating Suffix Array index\n",
      "Feb 01 13:54:26 ... completed Suffix Array index\n",
      "Feb 01 13:54:26 ..... inserting junctions into the genome indices\n",
      "Feb 01 13:56:02 ... writing Genome to disk ...\n",
      "Feb 01 13:56:03 ... writing Suffix Array to disk ...\n",
      "Feb 01 13:56:14 ... writing SAindex to disk\n",
      "Feb 01 13:56:15 ..... finished successfully\n"
     ]
    }
   ],
   "source": [
    "# create the star index\n",
    "star_dir = os.path.join(work_dir, \"star\")\n",
    "os.makedirs(star_dir, exist_ok=True)\n",
    "\n",
    "!STAR --runThreadN 16 \\\n",
    "    --runMode genomeGenerate \\\n",
    "    --genomeDir {star_dir} \\\n",
    "    --genomeFastaFiles {fasta_file} \\\n",
    "    --sjdbGTFfile {gtf_filt_file} \\\n",
    "    --sjdbOverhang 100"
   ]
  },
  {
   "cell_type": "markdown",
   "metadata": {},
   "source": [
    "# Drosophila melanogaster"
   ]
  },
  {
   "cell_type": "code",
   "execution_count": 64,
   "metadata": {},
   "outputs": [],
   "source": [
    "organism = \"Drosophila melanogaster\""
   ]
  },
  {
   "cell_type": "code",
   "execution_count": 65,
   "metadata": {},
   "outputs": [],
   "source": [
    "# format\n",
    "org_str = organism.replace(\" \", \"_\")\n",
    "work_dir = os.path.join(base_dir, org_str)\n",
    "os.makedirs(work_dir, exist_ok=True)"
   ]
  },
  {
   "cell_type": "code",
   "execution_count": 66,
   "metadata": {},
   "outputs": [
    {
     "name": "stdout",
     "output_type": "stream",
     "text": [
      "\u001b[1mname                 provider accession         tax_id annotation species                                  other_info                              \u001b[0m\n",
      "\u001b[0mASM339711v1          NCBI     GCA_003397115.1     7227     \u001b[32m✓\u001b[39m      Drosophila melanogaster                  University of California - Irvine       \u001b[0m\n",
      "\u001b[0mDGRP732              NCBI     GCA_004798075.1     7227     \u001b[32m✓\u001b[39m      Drosophila melanogaster                  Rutgers University                      \u001b[0m\n",
      "\u001b[0mDL_Dmel_Horezu1-2_FlyeQ10reads_1 NCBI     GCA_026123175.1     7227     \u001b[31m✗\u001b[39m      Drosophila melanogaster                  University of Bucharest                 \u001b[0m\n",
      "\u001b[0mRelease_6_plus_ISO1_MT NCBI     GCF_000001215.4     7227     \u001b[32m✓\u001b[39m      Drosophila melanogaster                  The FlyBase Consortium/Berkeley Drosophila Genome Project/Celera Genomics\u001b[0m\n",
      "\u001b[0mASM802v1             NCBI     GCF_000008025.1   163164     \u001b[32m✓\u001b[39m      Wolbachia endosymbiont of Drosophila melanogaster TIGR                                    \u001b[0m\n",
      "\u001b[0mD._melanogaster_TruSeq_synthetic_long-read_assembly NCBI     GCA_000705575.1     7227     \u001b[31m✗\u001b[39m      Drosophila melanogaster                  Stanford University                     \u001b[0m\n",
      "\u001b[0mCA_8.2_MHAP          NCBI     GCA_000778455.1     7227     \u001b[31m✗\u001b[39m      Drosophila melanogaster                  Pacific Biosciences                     \u001b[0m\n",
      "\u001b[0mViralProj16656       NCBI     GCF_000866325.1  3060507     \u001b[32m✓\u001b[39m      Drosophila melanogaster Nora virus       Department of Molecular Biology, Umea University\u001b[0m\n",
      "\u001b[0mViralProj41725       NCBI     GCF_000884455.1   663282     \u001b[32m✓\u001b[39m      Drosophila melanogaster totivirus SW-2009a Plant Pathology & Microbiology, UC Riverside\u001b[0m\n",
      "\u001b[0mViralProj40127       NCBI     GCF_000885235.1  2956449     \u001b[32m✓\u001b[39m      Drosophila melanogaster sigmavirus AP30  Jiggins F.M., Department of Genetics, University of Cambridge, Downing Street, Cambridge, CB2 3EH, UNITED KINGDOM\u001b[0m\n",
      "\u001b[0mASM101434v1          NCBI     GCA_001014345.1     7227     \u001b[31m✗\u001b[39m      Drosophila melanogaster                  UC Berkeley                             \u001b[0m\n",
      "\u001b[0mCA_8.1_PBcR          NCBI     GCA_002050065.1     7227     \u001b[31m✗\u001b[39m      Drosophila melanogaster                  Pacific Biosciences                     \u001b[0m\n",
      "\u001b[0mDmel_A4_1.0          NCBI     GCA_002300595.1     7227     \u001b[31m✗\u001b[39m      Drosophila melanogaster                  University of California, Irvine        \u001b[0m\n",
      "\u001b[0mASM231075v1          NCBI     GCA_002310755.1     7227     \u001b[31m✗\u001b[39m      Drosophila melanogaster                  University of Toronto, Department of Ecology and Evolutionary Biology\u001b[0m\n",
      "\u001b[0mASM231077v1          NCBI     GCA_002310775.1     7227     \u001b[31m✗\u001b[39m      Drosophila melanogaster                  University of Toronto, Department of Ecology and Evolutionary Biology\u001b[0m\n",
      "\u001b[0mASM281575v1          NCBI     GCF_002815755.1  2956449     \u001b[32m✓\u001b[39m      Drosophila melanogaster sigmavirus HAP23 Biological Sciences, Institute of Evolutionary Biology, University of Edinburgh\u001b[0m\n",
      "\u001b[0mASM339711v2          NCBI     GCA_003397115.2     7227     \u001b[31m✗\u001b[39m      Drosophila melanogaster                  University of California - Irvine       \u001b[0m\n",
      "\u001b[0mASM340168v1          NCBI     GCA_003401685.1     7227     \u001b[31m✗\u001b[39m      Drosophila melanogaster                  University of California - Irvine       \u001b[0m\n",
      "\u001b[0mASM340173v1          NCBI     GCA_003401735.1     7227     \u001b[31m✗\u001b[39m      Drosophila melanogaster                  University of California - Irvine       \u001b[0m\n",
      "\u001b[0mASM340174v1          NCBI     GCA_003401745.1     7227     \u001b[31m✗\u001b[39m      Drosophila melanogaster                  University of California - Irvine       \u001b[0m\n",
      "\u001b[0mASM340179v1          NCBI     GCA_003401795.1     7227     \u001b[31m✗\u001b[39m      Drosophila melanogaster                  University of California - Irvine       \u001b[0m\n",
      "\u001b[0mASM340180v1          NCBI     GCA_003401805.1     7227     \u001b[31m✗\u001b[39m      Drosophila melanogaster                  University of California - Irvine       \u001b[0m\n",
      "\u001b[0mASM340185v1          NCBI     GCA_003401855.1     7227     \u001b[31m✗\u001b[39m      Drosophila melanogaster                  University of California - Irvine       \u001b[0m\n",
      "\u001b[0mASM340188v1          NCBI     GCA_003401885.1     7227     \u001b[31m✗\u001b[39m      Drosophila melanogaster                  University of California - Irvine       \u001b[0m\n",
      "\u001b[0mASM340191v1          NCBI     GCA_003401915.1     7227     \u001b[31m✗\u001b[39m      Drosophila melanogaster                  University of California - Irvine       \u001b[0m\n",
      "\u001b[0mASM340192v1          NCBI     GCA_003401925.1     7227     \u001b[31m✗\u001b[39m      Drosophila melanogaster                  University of California - Irvine       \u001b[0m\n",
      "\u001b[0mASM340197v1          NCBI     GCA_003401975.1     7227     \u001b[31m✗\u001b[39m      Drosophila melanogaster                  University of California - Irvine       \u001b[0m\n",
      "\u001b[0mASM340200v1          NCBI     GCA_003402005.1     7227     \u001b[31m✗\u001b[39m      Drosophila melanogaster                  University of California - Irvine       \u001b[0m\n",
      "\u001b[0mASM340201v1          NCBI     GCA_003402015.1     7227     \u001b[31m✗\u001b[39m      Drosophila melanogaster                  University of California - Irvine       \u001b[0m\n",
      "\u001b[0mASM340205v1          NCBI     GCA_003402055.1     7227     \u001b[31m✗\u001b[39m      Drosophila melanogaster                  University of California - Irvine       \u001b[0m\n",
      "\u001b[0mASM397282v1          NCBI     GCA_003972825.1    12287     \u001b[32m✓\u001b[39m      Drosophila melanogaster American nodavirus (ANV) SW-2009a Plant Pathology & Microbiology, UC Riverside\u001b[0m\n",
      "\u001b[0mDGRP379              NCBI     GCA_004798055.1     7227     \u001b[31m✗\u001b[39m      Drosophila melanogaster                  Rutgers University                      \u001b[0m\n",
      "\u001b[0mASM479807v2          NCBI     GCA_004798075.2     7227     \u001b[31m✗\u001b[39m      Drosophila melanogaster                  Rutgers University                      \u001b[0m\n",
      "\u001b[0mASM986982v1          NCBI     GCA_009869825.1     7227     \u001b[31m✗\u001b[39m      Drosophila melanogaster                  Jaypee Institute of Information Technology\u001b[0m\n",
      "\u001b[0mUCSC_dm_H3           NCBI     GCA_012273825.1     7227     \u001b[31m✗\u001b[39m      Drosophila melanogaster                  UCSC                                    \u001b[0m\n",
      "\u001b[0mASM1308709v1         NCBI     GCF_013087095.1   663281     \u001b[32m✓\u001b[39m      Drosophila melanogaster birnavirus SW-2009a Plant Pathology & Microbiology, UC Riverside\u001b[0m\n",
      "\u001b[0mASM1435433v1         NCBI     GCF_014354335.1   163164     \u001b[32m✓\u001b[39m      Wolbachia endosymbiont of Drosophila melanogaster University of Montana                   \u001b[0m\n",
      "\u001b[0mASM1435434v1         NCBI     GCF_014354345.1   163164     \u001b[32m✓\u001b[39m      Wolbachia endosymbiont of Drosophila melanogaster University of Montana                   \u001b[0m\n",
      "\u001b[0mASM1583244v1         NCBI     GCA_015832445.1     7227     \u001b[31m✗\u001b[39m      Drosophila melanogaster                  VetMedUni Vienna                        \u001b[0m\n",
      "\u001b[0mASM1585258v1         NCBI     GCA_015852585.1     7227     \u001b[31m✗\u001b[39m      Drosophila melanogaster                  VetMedUni Vienna                        \u001b[0m\n",
      "\u001b[0mASM1658432v1         NCBI     GCF_016584325.1   163164     \u001b[32m✓\u001b[39m      Wolbachia endosymbiont of Drosophila melanogaster Instituto Gulbenkian de Ciencia         \u001b[0m\n",
      "\u001b[0mASM1658435v1         NCBI     GCF_016584355.1   163164     \u001b[32m✓\u001b[39m      Wolbachia endosymbiont of Drosophila melanogaster Instituto Gulbenkian de Ciencia         \u001b[0m\n",
      "\u001b[0mASM1658437v1         NCBI     GCF_016584375.1   163164     \u001b[32m✓\u001b[39m      Wolbachia endosymbiont of Drosophila melanogaster Instituto Gulbenkian de Ciencia         \u001b[0m\n",
      "\u001b[0mASM1658440v1         NCBI     GCF_016584405.1   163164     \u001b[32m✓\u001b[39m      Wolbachia endosymbiont of Drosophila melanogaster Instituto Gulbenkian de Ciencia         \u001b[0m\n",
      "\u001b[0mASM1658442v1         NCBI     GCF_016584425.1   163164     \u001b[32m✓\u001b[39m      Wolbachia endosymbiont of Drosophila melanogaster Instituto Gulbenkian de Ciencia         \u001b[0m\n",
      "\u001b[0mASM1791615v1         NCBI     GCF_017916155.1   163164     \u001b[32m✓\u001b[39m      Wolbachia endosymbiont of Drosophila melanogaster University of Montana                   \u001b[0m\n",
      "\u001b[0mASM1890436v1         NCBI     GCA_018904365.1     7227     \u001b[31m✗\u001b[39m      Drosophila melanogaster                  Stanford University                     \u001b[0m\n",
      "\u001b[0mASM2014148v1         NCBI     GCA_020141485.1     7227     \u001b[31m✗\u001b[39m      Drosophila melanogaster                  Institut de Biologia Evolutiva (CSIC-UPF)\u001b[0m\n",
      "\u001b[0mASM2014149v1         NCBI     GCA_020141495.1     7227     \u001b[31m✗\u001b[39m      Drosophila melanogaster                  Institut de Biologia Evolutiva (CSIC-UPF)\u001b[0m\n",
      "\u001b[0mASM2014150v1         NCBI     GCA_020141505.1     7227     \u001b[31m✗\u001b[39m      Drosophila melanogaster                  Institut de Biologia Evolutiva (CSIC-UPF)\u001b[0m\n",
      "\u001b[0mASM2014151v1         NCBI     GCA_020141515.1     7227     \u001b[31m✗\u001b[39m      Drosophila melanogaster                  Institut de Biologia Evolutiva (CSIC-UPF)\u001b[0m\n",
      "\u001b[0mASM2014157v1         NCBI     GCA_020141575.1     7227     \u001b[31m✗\u001b[39m      Drosophila melanogaster                  Institut de Biologia Evolutiva (CSIC-UPF)\u001b[0m\n",
      "\u001b[0mASM2014158v1         NCBI     GCA_020141585.1     7227     \u001b[31m✗\u001b[39m      Drosophila melanogaster                  Institut de Biologia Evolutiva (CSIC-UPF)\u001b[0m\n",
      "\u001b[0mASM2014159v1         NCBI     GCA_020141595.1     7227     \u001b[31m✗\u001b[39m      Drosophila melanogaster                  Institut de Biologia Evolutiva (CSIC-UPF)\u001b[0m\n",
      "\u001b[0mASM2014162v1         NCBI     GCA_020141625.1     7227     \u001b[31m✗\u001b[39m      Drosophila melanogaster                  Institut de Biologia Evolutiva (CSIC-UPF)\u001b[0m\n",
      "\u001b[0mASM2014165v1         NCBI     GCA_020141655.1     7227     \u001b[31m✗\u001b[39m      Drosophila melanogaster                  Institut de Biologia Evolutiva (CSIC-UPF)\u001b[0m\n",
      "\u001b[0mASM2014166v1         NCBI     GCA_020141665.1     7227     \u001b[31m✗\u001b[39m      Drosophila melanogaster                  Institut de Biologia Evolutiva (CSIC-UPF)\u001b[0m\n",
      "\u001b[0mASM2014167v1         NCBI     GCA_020141675.1     7227     \u001b[31m✗\u001b[39m      Drosophila melanogaster                  Institut de Biologia Evolutiva (CSIC-UPF)\u001b[0m\n",
      "\u001b[0mASM2014170v1         NCBI     GCA_020141705.1     7227     \u001b[31m✗\u001b[39m      Drosophila melanogaster                  Institut de Biologia Evolutiva (CSIC-UPF)\u001b[0m\n",
      "\u001b[0mASM2014173v1         NCBI     GCA_020141735.1     7227     \u001b[31m✗\u001b[39m      Drosophila melanogaster                  Institut de Biologia Evolutiva (CSIC-UPF)\u001b[0m\n",
      "\u001b[0mASM2014174v1         NCBI     GCA_020141745.1     7227     \u001b[31m✗\u001b[39m      Drosophila melanogaster                  Institut de Biologia Evolutiva (CSIC-UPF)\u001b[0m\n",
      "\u001b[0mASM2014176v1         NCBI     GCA_020141765.1     7227     \u001b[31m✗\u001b[39m      Drosophila melanogaster                  Institut de Biologia Evolutiva (CSIC-UPF)\u001b[0m\n",
      "\u001b[0mASM2014179v1         NCBI     GCA_020141795.1     7227     \u001b[31m✗\u001b[39m      Drosophila melanogaster                  Institut de Biologia Evolutiva (CSIC-UPF)\u001b[0m\n",
      "\u001b[0mASM2014181v1         NCBI     GCA_020141815.1     7227     \u001b[31m✗\u001b[39m      Drosophila melanogaster                  Institut de Biologia Evolutiva (CSIC-UPF)\u001b[0m\n",
      "\u001b[0mASM2014183v1         NCBI     GCA_020141835.1     7227     \u001b[31m✗\u001b[39m      Drosophila melanogaster                  Institut de Biologia Evolutiva (CSIC-UPF)\u001b[0m\n",
      "\u001b[0mASM2014184v1         NCBI     GCA_020141845.1     7227     \u001b[31m✗\u001b[39m      Drosophila melanogaster                  Institut de Biologia Evolutiva (CSIC-UPF)\u001b[0m\n",
      "\u001b[0mASM2014185v1         NCBI     GCA_020141855.1     7227     \u001b[31m✗\u001b[39m      Drosophila melanogaster                  Institut de Biologia Evolutiva (CSIC-UPF)\u001b[0m\n",
      "\u001b[0mASM2014187v1         NCBI     GCA_020141875.1     7227     \u001b[31m✗\u001b[39m      Drosophila melanogaster                  Institut de Biologia Evolutiva (CSIC-UPF)\u001b[0m\n",
      "\u001b[0mASM2014192v1         NCBI     GCA_020141925.1     7227     \u001b[31m✗\u001b[39m      Drosophila melanogaster                  Institut de Biologia Evolutiva (CSIC-UPF)\u001b[0m\n",
      "\u001b[0mASM2014193v1         NCBI     GCA_020141935.1     7227     \u001b[31m✗\u001b[39m      Drosophila melanogaster                  Institut de Biologia Evolutiva (CSIC-UPF)\u001b[0m\n",
      "\u001b[0mASM2014195v1         NCBI     GCA_020141955.1     7227     \u001b[31m✗\u001b[39m      Drosophila melanogaster                  Institut de Biologia Evolutiva (CSIC-UPF)\u001b[0m\n",
      "\u001b[0mASM2014198v1         NCBI     GCA_020141985.1     7227     \u001b[31m✗\u001b[39m      Drosophila melanogaster                  Institut de Biologia Evolutiva (CSIC-UPF)\u001b[0m\n",
      "\u001b[0mASM2014200v1         NCBI     GCA_020142005.1     7227     \u001b[31m✗\u001b[39m      Drosophila melanogaster                  Institut de Biologia Evolutiva (CSIC-UPF)\u001b[0m\n",
      "\u001b[0mASM2014202v1         NCBI     GCA_020142025.1     7227     \u001b[31m✗\u001b[39m      Drosophila melanogaster                  Institut de Biologia Evolutiva (CSIC-UPF)\u001b[0m\n",
      "\u001b[0mASM2014204v1         NCBI     GCA_020142045.1     7227     \u001b[31m✗\u001b[39m      Drosophila melanogaster                  Institut de Biologia Evolutiva (CSIC-UPF)\u001b[0m\n",
      "\u001b[0mASM2014205v1         NCBI     GCA_020142055.1     7227     \u001b[31m✗\u001b[39m      Drosophila melanogaster                  Institut de Biologia Evolutiva (CSIC-UPF)\u001b[0m\n",
      "\u001b[0mASM2014208v1         NCBI     GCA_020142085.1     7227     \u001b[31m✗\u001b[39m      Drosophila melanogaster                  Institut de Biologia Evolutiva (CSIC-UPF)\u001b[0m\n",
      "\u001b[0mASM2014210v1         NCBI     GCA_020142105.1     7227     \u001b[31m✗\u001b[39m      Drosophila melanogaster                  Institut de Biologia Evolutiva (CSIC-UPF)\u001b[0m\n",
      "\u001b[0mASM2016949v1         NCBI     GCA_020169495.1     7227     \u001b[31m✗\u001b[39m      Drosophila melanogaster                  Institut de Biologia Evolutiva (CSIC-UPF)\u001b[0m\n",
      "\u001b[0mASM2134780v1         NCBI     GCF_021347805.1   163164     \u001b[32m✓\u001b[39m      Wolbachia endosymbiont of Drosophila melanogaster University of Montana                   \u001b[0m\n",
      "\u001b[0mASM2134784v1         NCBI     GCF_021347845.1   163164     \u001b[32m✓\u001b[39m      Wolbachia endosymbiont of Drosophila melanogaster University of Montana                   \u001b[0m\n",
      "\u001b[0mASM2281788v1         NCBI     GCA_022817885.1     7227     \u001b[31m✗\u001b[39m      Drosophila melanogaster                  Jaypee Institute of Information Technology\u001b[0m\n",
      "\u001b[0mUCI_ORw1118_1.0      NCBI     GCA_024500395.1     7227     \u001b[31m✗\u001b[39m      Drosophila melanogaster                  University of California-Irvine         \u001b[0m\n",
      "\u001b[0mDmel_Horezu_CanuAssembly NCBI     GCA_026123175.2     7227     \u001b[31m✗\u001b[39m      Drosophila melanogaster                  University of Bucharest                 \u001b[0m\n",
      "\u001b[0mASM2977437v1         NCBI     GCA_029774375.1     7227     \u001b[31m✗\u001b[39m      Drosophila melanogaster                  Univeristy of Edinburgh                 \u001b[0m\n",
      "\u001b[0mASM2977439v1         NCBI     GCA_029774395.1     7227     \u001b[31m✗\u001b[39m      Drosophila melanogaster                  Univeristy of Edinburgh                 \u001b[0m\n",
      "\u001b[0mASM2977441v1         NCBI     GCA_029774415.1     7227     \u001b[31m✗\u001b[39m      Drosophila melanogaster                  Univeristy of Edinburgh                 \u001b[0m\n",
      "\u001b[0mASM2977443v1         NCBI     GCA_029774435.1     7227     \u001b[31m✗\u001b[39m      Drosophila melanogaster                  Univeristy of Edinburgh                 \u001b[0m\n",
      "\u001b[0mASM2977445v1         NCBI     GCA_029774455.1     7227     \u001b[31m✗\u001b[39m      Drosophila melanogaster                  Univeristy of Edinburgh                 \u001b[0m\n",
      "\u001b[0mASM2977447v1         NCBI     GCA_029774475.1     7227     \u001b[31m✗\u001b[39m      Drosophila melanogaster                  Univeristy of Edinburgh                 \u001b[0m\n",
      "\u001b[0mASM2977461v1         NCBI     GCA_029774615.1     7227     \u001b[31m✗\u001b[39m      Drosophila melanogaster                  Univeristy of Edinburgh                 \u001b[0m\n",
      "\u001b[0mASM2977463v1         NCBI     GCA_029774635.1     7227     \u001b[31m✗\u001b[39m      Drosophila melanogaster                  Univeristy of Edinburgh                 \u001b[0m\n",
      "\u001b[0mASM2977465v1         NCBI     GCA_029774655.1     7227     \u001b[31m✗\u001b[39m      Drosophila melanogaster                  Univeristy of Edinburgh                 \u001b[0m\n",
      "\u001b[0mASM2977467v1         NCBI     GCA_029774675.1     7227     \u001b[31m✗\u001b[39m      Drosophila melanogaster                  Univeristy of Edinburgh                 \u001b[0m\n",
      "\u001b[0mASM2977469v1         NCBI     GCA_029774695.1     7227     \u001b[31m✗\u001b[39m      Drosophila melanogaster                  Univeristy of Edinburgh                 \u001b[0m\n",
      "\u001b[0mASM2977471v1         NCBI     GCA_029774715.1     7227     \u001b[31m✗\u001b[39m      Drosophila melanogaster                  Univeristy of Edinburgh                 \u001b[0m\n",
      "\u001b[0mASM2977509v1         NCBI     GCA_029775095.1     7227     \u001b[31m✗\u001b[39m      Drosophila melanogaster                  Univeristy of Edinburgh                 \u001b[0m\n",
      "\u001b[0mASM2977511v1         NCBI     GCA_029775115.1     7227     \u001b[31m✗\u001b[39m      Drosophila melanogaster                  Univeristy of Edinburgh                 \u001b[0m\n",
      "\u001b[0mASM2977513v1         NCBI     GCA_029775135.1     7227     \u001b[31m✗\u001b[39m      Drosophila melanogaster                  Univeristy of Edinburgh                 \u001b[0m\n",
      "\u001b[0mASM2977515v1         NCBI     GCA_029775155.1     7227     \u001b[31m✗\u001b[39m      Drosophila melanogaster                  Univeristy of Edinburgh                 \u001b[0m\n",
      "\u001b[0mASM2977517v1         NCBI     GCA_029775175.1     7227     \u001b[31m✗\u001b[39m      Drosophila melanogaster                  Univeristy of Edinburgh                 \u001b[0m\n",
      "\u001b[0mASM2977519v1         NCBI     GCA_029775195.1     7227     \u001b[31m✗\u001b[39m      Drosophila melanogaster                  Univeristy of Edinburgh                 \u001b[0m\n",
      "\u001b[0mASM2977521v1         NCBI     GCA_029775215.1     7227     \u001b[31m✗\u001b[39m      Drosophila melanogaster                  Univeristy of Edinburgh                 \u001b[0m\n",
      "\u001b[0mASM2977523v1         NCBI     GCA_029775235.1     7227     \u001b[31m✗\u001b[39m      Drosophila melanogaster                  Univeristy of Edinburgh                 \u001b[0m\n",
      "\u001b[0mASM2977525v1         NCBI     GCA_029775255.1     7227     \u001b[31m✗\u001b[39m      Drosophila melanogaster                  Univeristy of Edinburgh                 \u001b[0m\n",
      "\u001b[0mASM2977527v1         NCBI     GCA_029775275.1     7227     \u001b[31m✗\u001b[39m      Drosophila melanogaster                  Univeristy of Edinburgh                 \u001b[0m\n",
      "\u001b[0mASM2977529v1         NCBI     GCA_029775295.1     7227     \u001b[31m✗\u001b[39m      Drosophila melanogaster                  Univeristy of Edinburgh                 \u001b[0m\n",
      "\u001b[0mASM2977531v1         NCBI     GCA_029775315.1     7227     \u001b[31m✗\u001b[39m      Drosophila melanogaster                  Univeristy of Edinburgh                 \u001b[0m\n",
      "\u001b[0mASM2977533v1         NCBI     GCA_029775335.1     7227     \u001b[31m✗\u001b[39m      Drosophila melanogaster                  Univeristy of Edinburgh                 \u001b[0m\n",
      "\u001b[0mASM2977535v1         NCBI     GCA_029775355.1     7227     \u001b[31m✗\u001b[39m      Drosophila melanogaster                  Univeristy of Edinburgh                 \u001b[0m\n",
      "\u001b[0mASM2977537v1         NCBI     GCA_029775375.1     7227     \u001b[31m✗\u001b[39m      Drosophila melanogaster                  Univeristy of Edinburgh                 \u001b[0m\n",
      "\u001b[0mASM2977539v1         NCBI     GCA_029775395.1     7227     \u001b[31m✗\u001b[39m      Drosophila melanogaster                  Univeristy of Edinburgh                 \u001b[0m\n",
      "\u001b[0mASM2977541v1         NCBI     GCA_029775415.1     7227     \u001b[31m✗\u001b[39m      Drosophila melanogaster                  Univeristy of Edinburgh                 \u001b[0m\n",
      "\u001b[0mASM2977545v1         NCBI     GCA_029775455.1     7227     \u001b[31m✗\u001b[39m      Drosophila melanogaster                  Univeristy of Edinburgh                 \u001b[0m\n",
      "\u001b[0mASM2977547v1         NCBI     GCA_029775475.1     7227     \u001b[31m✗\u001b[39m      Drosophila melanogaster                  Univeristy of Edinburgh                 \u001b[0m\n",
      "\u001b[0mASM2977549v1         NCBI     GCA_029775495.1     7227     \u001b[31m✗\u001b[39m      Drosophila melanogaster                  Univeristy of Edinburgh                 \u001b[0m\n",
      "\u001b[0mASM2977551v1         NCBI     GCA_029775515.1     7227     \u001b[31m✗\u001b[39m      Drosophila melanogaster                  Univeristy of Edinburgh                 \u001b[0m\n",
      "\u001b[0mASM2977553v1         NCBI     GCA_029775535.1     7227     \u001b[31m✗\u001b[39m      Drosophila melanogaster                  Univeristy of Edinburgh                 \u001b[0m\n",
      "\u001b[0mASM2977555v1         NCBI     GCA_029775555.1     7227     \u001b[31m✗\u001b[39m      Drosophila melanogaster                  Univeristy of Edinburgh                 \u001b[0m\n",
      "\u001b[0mASM2977557v1         NCBI     GCA_029775575.1     7227     \u001b[31m✗\u001b[39m      Drosophila melanogaster                  Univeristy of Edinburgh                 \u001b[0m\n",
      "\u001b[0mASM2977559v1         NCBI     GCA_029775595.1     7227     \u001b[31m✗\u001b[39m      Drosophila melanogaster                  Univeristy of Edinburgh                 \u001b[0m\n",
      "\u001b[0mASM2977561v1         NCBI     GCA_029775615.1     7227     \u001b[31m✗\u001b[39m      Drosophila melanogaster                  Univeristy of Edinburgh                 \u001b[0m\n",
      "\u001b[0mASM2977563v1         NCBI     GCA_029775635.1     7227     \u001b[31m✗\u001b[39m      Drosophila melanogaster                  Univeristy of Edinburgh                 \u001b[0m\n",
      "\u001b[0mASM2977565v1         NCBI     GCA_029775655.1     7227     \u001b[31m✗\u001b[39m      Drosophila melanogaster                  Univeristy of Edinburgh                 \u001b[0m\n",
      "\u001b[0mASM2977567v1         NCBI     GCA_029775675.1     7227     \u001b[31m✗\u001b[39m      Drosophila melanogaster                  Univeristy of Edinburgh                 \u001b[0m\n",
      "\u001b[0mASM2977569v1         NCBI     GCA_029775695.1     7227     \u001b[31m✗\u001b[39m      Drosophila melanogaster                  Univeristy of Edinburgh                 \u001b[0m\n",
      "\u001b[0mASM2977571v1         NCBI     GCA_029775715.1     7227     \u001b[31m✗\u001b[39m      Drosophila melanogaster                  Univeristy of Edinburgh                 \u001b[0m\n",
      "\u001b[0mASM2977573v1         NCBI     GCA_029775735.1     7227     \u001b[31m✗\u001b[39m      Drosophila melanogaster                  Univeristy of Edinburgh                 \u001b[0m\n",
      "\u001b[0mASM2977575v1         NCBI     GCA_029775755.1     7227     \u001b[31m✗\u001b[39m      Drosophila melanogaster                  Univeristy of Edinburgh                 \u001b[0m\n",
      "\u001b[0mASM2977577v1         NCBI     GCA_029775775.1     7227     \u001b[31m✗\u001b[39m      Drosophila melanogaster                  Univeristy of Edinburgh                 \u001b[0m\n",
      "\u001b[0mASM2977579v1         NCBI     GCA_029775795.1     7227     \u001b[31m✗\u001b[39m      Drosophila melanogaster                  Univeristy of Edinburgh                 \u001b[0m\n",
      "\u001b[0mASM2977581v1         NCBI     GCA_029775815.1     7227     \u001b[31m✗\u001b[39m      Drosophila melanogaster                  Univeristy of Edinburgh                 \u001b[0m\n",
      "\u001b[0mRU_dmel_BG3_1.0      NCBI     GCA_034768405.1     7227     \u001b[31m✗\u001b[39m      Drosophila melanogaster                  Rutgers University                      \u001b[0m\n",
      "\u001b[0mASM3707538v1         NCBI     GCA_037075385.1     7227     \u001b[31m✗\u001b[39m      Drosophila melanogaster                  Stanford University                     \u001b[0m\n",
      "\u001b[0mDrosophila_melanogaster_ANU-1 NCBI     GCA_038396815.1     7227     \u001b[31m✗\u001b[39m      Drosophila melanogaster                  Bioinformatics and Molecular Medicine Research Group, Dow Fly Research Lab and Stock Center, Dow College of Biotechnology, Dow University of Health Sciences, Suparco Road, Karachi, Sindh 75280, Pakistan, Dow College of Biotechnology, Dow University of H...\u001b[0m\n",
      "\u001b[0mASM3969401v1         NCBI     GCA_039694015.1     7227     \u001b[31m✗\u001b[39m      Drosophila melanogaster                  Institute of Zoology, Chinese Academy of Sciences\u001b[0m\n",
      "\u001b[0mASM3969402v1         NCBI     GCA_039694025.1     7227     \u001b[31m✗\u001b[39m      Drosophila melanogaster                  Institute of Zoology, Chinese Academy of Sciences\u001b[0m\n",
      "\u001b[0mASM4260644v1         NCBI     GCA_042606445.1     7227     \u001b[31m✗\u001b[39m      Drosophila melanogaster                  University of California, Irvine        \u001b[0m\n",
      "\u001b[0mASM4260645v1         NCBI     GCA_042606455.1     7227     \u001b[31m✗\u001b[39m      Drosophila melanogaster                  University of California, Irvine        \u001b[0m\n",
      "\u001b[0mASM4260646v1         NCBI     GCA_042606465.1     7227     \u001b[31m✗\u001b[39m      Drosophila melanogaster                  University of California, Irvine        \u001b[0m\n",
      "\u001b[0mdmgoth101_genome_assembly NCBI     GCA_927717585.1     7227     \u001b[31m✗\u001b[39m      Drosophila melanogaster                  treep lbbe ucbl                         \u001b[0m\n",
      "\u001b[0mdmsj7_genome_assembly NCBI     GCA_927718685.1     7227     \u001b[31m✗\u001b[39m      Drosophila melanogaster                  treep lbbe ucbl                         \u001b[0m\n",
      "\u001b[0mdmsj23_genome_assembly NCBI     GCA_927718715.1     7227     \u001b[31m✗\u001b[39m      Drosophila melanogaster                  treep lbbe ucbl                         \u001b[0m\n",
      "\u001b[0mdmgoth63_genome_assembly NCBI     GCA_927720205.1     7227     \u001b[31m✗\u001b[39m      Drosophila melanogaster                  treep lbbe ucbl                         \u001b[0m\n",
      "\u001b[0mwMelPlus_assembly    NCBI     GCF_947533255.1   163164     \u001b[32m✓\u001b[39m      Wolbachia endosymbiont of Drosophila melanogaster institute of cytology and genetics of sb ras\u001b[0m\n",
      "\u001b[0mwMelCS112_assembly   NCBI     GCF_947538885.1   163164     \u001b[32m✓\u001b[39m      Wolbachia endosymbiont of Drosophila melanogaster institute of cytology and genetics of sb ras\u001b[0m\n",
      "\u001b[0m\u001b[32m ^\u001b[0m\n",
      "\u001b[0m\u001b[32m Use name for \u001b[36mgenomepy install\u001b[0m\n",
      "\u001b[0m\u001b[0m"
     ]
    }
   ],
   "source": [
    "# show available assemblies\n",
    "!genomepy search --provider NCBI {organism}"
   ]
  },
  {
   "cell_type": "code",
   "execution_count": 67,
   "metadata": {},
   "outputs": [
    {
     "name": "stdout",
     "output_type": "stream",
     "text": [
      "\u001b[1mname                 provider accession         tax_id annotation species                                  other_info                              \u001b[0m\n",
      "\u001b[0mBDGP6.46             Ensembl  GCA_000001215.4     7227     \u001b[32m✓\u001b[39m      Drosophila melanogaster                  dmel_r6.46_FB2022_03                    \u001b[0m\n",
      "\u001b[0m\u001b[32m ^\u001b[0m\n",
      "\u001b[0m\u001b[32m Use name for \u001b[36mgenomepy install\u001b[0m\n",
      "\u001b[0m\u001b[0m"
     ]
    }
   ],
   "source": [
    "# show available assemblies\n",
    "!genomepy search --provider Ensembl {organism}"
   ]
  },
  {
   "cell_type": "code",
   "execution_count": null,
   "metadata": {},
   "outputs": [],
   "source": [
    "# set the genome name\n",
    "genome_name = \"BDGP6.46\""
   ]
  },
  {
   "cell_type": "code",
   "execution_count": 34,
   "metadata": {},
   "outputs": [
    {
     "name": "stdout",
     "output_type": "stream",
     "text": [
      "\u001b[32m14:12:15\u001b[0m \u001b[1m|\u001b[0m \u001b[34mINFO\u001b[0m \u001b[1m|\u001b[0m Downloading genome from Ensembl. Target URL: http://ftp.ensembl.org/pub/release-113/fasta/drosophila_melanogaster/dna/Drosophila_melanogaster.BDGP6.46.dna_sm.toplevel.fa.gz...\n",
      "Download: 100%|████████████████████████████| 42.8M/42.8M [00:02<00:00, 21.6MB/s]\u001b[0m\u001b[0m\n",
      "\u001b[0m\u001b[32m14:12:18\u001b[0m \u001b[1m|\u001b[0m \u001b[34mINFO\u001b[0m \u001b[1m|\u001b[0m Genome download successful, starting post processing...\n",
      "\u001b[32m14:12:18\u001b[0m \u001b[1m|\u001b[0m \u001b[34mINFO\u001b[0m \u001b[1m|\u001b[0m name: BDGP6.46\n",
      "\u001b[32m14:12:18\u001b[0m \u001b[1m|\u001b[0m \u001b[34mINFO\u001b[0m \u001b[1m|\u001b[0m local name: BDGP6.46\n",
      "\u001b[32m14:12:18\u001b[0m \u001b[1m|\u001b[0m \u001b[34mINFO\u001b[0m \u001b[1m|\u001b[0m fasta: /scratch/multiomics/nickyoungblut/star_refs/Drosophila_melanogaster/BDGP6.46/BDGP6.46.fa\n",
      "Filtering Fasta: 2.40M lines [00:00, 3.93M lines/s]\u001b[0m\u001b[0m\n",
      "\u001b[0m\u001b[32m14:12:22\u001b[0m \u001b[1m|\u001b[0m \u001b[34mINFO\u001b[0m \u001b[1m|\u001b[0m Downloading annotation from Ensembl. Target URL: http://ftp.ensembl.org/pub/release-113/gtf/drosophila_melanogaster/Drosophila_melanogaster.BDGP6.46.113.gtf.gz...\n",
      "Download: 100%|████████████████████████████| 6.80M/6.80M [00:00<00:00, 8.59MB/s]\u001b[0m\u001b[0m\n",
      "\u001b[0m\u001b[32m14:12:24\u001b[0m \u001b[1m|\u001b[0m \u001b[34mINFO\u001b[0m \u001b[1m|\u001b[0m Annotation download successful\n",
      "\u001b[0m"
     ]
    }
   ],
   "source": [
    "# download genome\n",
    "!genomepy install --provider Ensembl --annotation --genomes_dir {work_dir} {genome_name}"
   ]
  },
  {
   "cell_type": "code",
   "execution_count": 35,
   "metadata": {},
   "outputs": [
    {
     "data": {
      "text/plain": [
       "'/scratch/multiomics/nickyoungblut/star_refs/Drosophila_melanogaster/BDGP6.46/BDGP6.46.fa'"
      ]
     },
     "execution_count": 35,
     "metadata": {},
     "output_type": "execute_result"
    }
   ],
   "source": [
    "# get genome fasta\n",
    "fasta_file = glob(f\"{work_dir}/{genome_name}/*.fa\")[0]\n",
    "fasta_file"
   ]
  },
  {
   "cell_type": "code",
   "execution_count": 36,
   "metadata": {},
   "outputs": [
    {
     "data": {
      "text/plain": [
       "'/scratch/multiomics/nickyoungblut/star_refs/Drosophila_melanogaster/BDGP6.46/BDGP6.46.annotation.gtf'"
      ]
     },
     "execution_count": 36,
     "metadata": {},
     "output_type": "execute_result"
    }
   ],
   "source": [
    "# get gtf file\n",
    "gtf_file = glob(f\"{work_dir}/{genome_name}/*.gtf\")[0]\n",
    "gtf_file"
   ]
  },
  {
   "cell_type": "code",
   "execution_count": 37,
   "metadata": {},
   "outputs": [
    {
     "name": "stdout",
     "output_type": "stream",
     "text": [
      "Processing GTF: BDGP6.46.annotation.gtf\n",
      "Output GTF: /scratch/multiomics/nickyoungblut/star_refs/Drosophila_melanogaster/Drosophila_melanogaster/Drosophila_melanogaster.gtf\n",
      "Total records in GTF: 567802\n",
      "Filtered 34166 records by biotype\n",
      "Filtered 0 records by tag\n",
      "-- Count of biotypes filtered --\n",
      "transposable_element: 17694\n",
      "ncRNA: 12804\n",
      "pseudogene: 1376\n",
      "tRNA: 952\n",
      "snoRNA: 899\n",
      "rRNA: 345\n",
      "snRNA: 96\n",
      "-- Count of biotypes kept --\n",
      "protein_coding: 1053286\n",
      "----------------------------\n"
     ]
    }
   ],
   "source": [
    "# format the reference\n",
    "exe = os.path.join(script_dir, \"format-star-ref.py\")\n",
    "!{exe} --organism \"{organism}\"  --output-dir {work_dir} {gtf_file} "
   ]
  },
  {
   "cell_type": "code",
   "execution_count": 38,
   "metadata": {},
   "outputs": [
    {
     "data": {
      "text/plain": [
       "True"
      ]
     },
     "execution_count": 38,
     "metadata": {},
     "output_type": "execute_result"
    }
   ],
   "source": [
    "# set the filtered gtf file\n",
    "gtf_filt_file = os.path.join(work_dir, org_str, f\"{org_str}.gtf\")\n",
    "os.path.exists(gtf_filt_file)"
   ]
  },
  {
   "cell_type": "code",
   "execution_count": 39,
   "metadata": {},
   "outputs": [
    {
     "name": "stdout",
     "output_type": "stream",
     "text": [
      "\t/home/nickyoungblut/miniforge3/envs/asmbl/bin/STAR-avx2 --runThreadN 16 --runMode genomeGenerate --genomeDir /scratch/multiomics/nickyoungblut/star_refs/Drosophila_melanogaster/star --genomeFastaFiles /scratch/multiomics/nickyoungblut/star_refs/Drosophila_melanogaster/BDGP6.46/BDGP6.46.fa --sjdbGTFfile /scratch/multiomics/nickyoungblut/star_refs/Drosophila_melanogaster/Drosophila_melanogaster/Drosophila_melanogaster.gtf --sjdbOverhang 100\n",
      "\tSTAR version: 2.7.11b   compiled: 2025-01-09T12:32:06+0000 :/opt/conda/conda-bld/star_1736425784849/work/source\n",
      "Feb 01 14:12:32 ..... started STAR run\n",
      "!!!!! WARNING: Could not move Log.out file from ./Log.out into /scratch/multiomics/nickyoungblut/star_refs/Drosophila_melanogaster/star/Log.out. Will keep ./Log.out\n",
      "\n",
      "Feb 01 14:12:32 ... starting to generate Genome files\n",
      "Feb 01 14:12:36 ..... processing annotations GTF\n",
      "!!!!! WARNING: --genomeSAindexNbases 14 is too large for the genome size=143726002, which may cause seg-fault at the mapping step. Re-run genome generation with recommended --genomeSAindexNbases 12\n",
      "Feb 01 14:12:39 ... starting to sort Suffix Array. This may take a long time...\n",
      "Feb 01 14:12:40 ... sorting Suffix Array chunks and saving them to disk...\n",
      "Feb 01 14:12:54 ... loading chunks from disk, packing SA...\n",
      "Feb 01 14:12:58 ... finished generating suffix array\n",
      "Feb 01 14:12:58 ... generating Suffix Array index\n",
      "Feb 01 14:13:27 ... completed Suffix Array index\n",
      "Feb 01 14:13:27 ..... inserting junctions into the genome indices\n",
      "Feb 01 14:13:48 ... writing Genome to disk ...\n",
      "Feb 01 14:13:49 ... writing Suffix Array to disk ...\n",
      "Feb 01 14:13:50 ... writing SAindex to disk\n",
      "Feb 01 14:13:51 ..... finished successfully\n"
     ]
    }
   ],
   "source": [
    "# create the star index\n",
    "star_dir = os.path.join(work_dir, \"star\")\n",
    "os.makedirs(star_dir, exist_ok=True)\n",
    "\n",
    "!STAR --runThreadN 16 \\\n",
    "    --runMode genomeGenerate \\\n",
    "    --genomeDir {star_dir} \\\n",
    "    --genomeFastaFiles {fasta_file} \\\n",
    "    --sjdbGTFfile {gtf_filt_file} \\\n",
    "    --sjdbOverhang 100"
   ]
  },
  {
   "cell_type": "markdown",
   "metadata": {},
   "source": [
    "# Caenorhabditis elegans"
   ]
  },
  {
   "cell_type": "code",
   "execution_count": 68,
   "metadata": {},
   "outputs": [],
   "source": [
    "organism = \"Caenorhabditis elegans\" "
   ]
  },
  {
   "cell_type": "code",
   "execution_count": 69,
   "metadata": {},
   "outputs": [],
   "source": [
    "# format\n",
    "org_str = organism.replace(\" \", \"_\")\n",
    "work_dir = os.path.join(base_dir, org_str)\n",
    "os.makedirs(work_dir, exist_ok=True)"
   ]
  },
  {
   "cell_type": "code",
   "execution_count": 70,
   "metadata": {},
   "outputs": [
    {
     "name": "stdout",
     "output_type": "stream",
     "text": [
      "\u001b[1mname                 provider accession         tax_id annotation species                                  other_info                              \u001b[0m\n",
      "\u001b[0mASM148330v1          NCBI     GCA_001483305.1     6239     \u001b[32m✓\u001b[39m      Caenorhabditis elegans                   Hong Kong Baptist University            \u001b[0m\n",
      "\u001b[0mWBcel235             NCBI     GCF_000002985.6     6239     \u001b[32m✓\u001b[39m      Caenorhabditis elegans                   C. elegans Sequencing Consortium        \u001b[0m\n",
      "\u001b[0mC_elegans_Bristol_N2_v1_5_4 NCBI     GCA_000939815.1     6239     \u001b[31m✗\u001b[39m      Caenorhabditis elegans                   WTSI                                    \u001b[0m\n",
      "\u001b[0mCael_CB4856_1.0      NCBI     GCA_000975215.1     6239     \u001b[31m✗\u001b[39m      Caenorhabditis elegans                   University of Washington                \u001b[0m\n",
      "\u001b[0mASM148330v2          NCBI     GCA_001483305.2     6239     \u001b[31m✗\u001b[39m      Caenorhabditis elegans                   Hong Kong Baptist University            \u001b[0m\n",
      "\u001b[0mASM452629v1          NCBI     GCA_004526295.1     6239     \u001b[31m✗\u001b[39m      Caenorhabditis elegans                   Seoul National University               \u001b[0m\n",
      "\u001b[0mASM1340371v1         NCBI     GCA_013403715.1     6239     \u001b[31m✗\u001b[39m      Caenorhabditis elegans                   University of Alabama                   \u001b[0m\n",
      "\u001b[0mQX1794_Canu          NCBI     GCA_016989095.1     6239     \u001b[31m✗\u001b[39m      Caenorhabditis elegans                   Northwestern University                 \u001b[0m\n",
      "\u001b[0mMY2693_Canu          NCBI     GCA_016989105.1     6239     \u001b[31m✗\u001b[39m      Caenorhabditis elegans                   Northwestern University                 \u001b[0m\n",
      "\u001b[0mNIC526_Canu          NCBI     GCA_016989115.1     6239     \u001b[31m✗\u001b[39m      Caenorhabditis elegans                   Northwestern University                 \u001b[0m\n",
      "\u001b[0mXZ1516_Canu          NCBI     GCA_016989125.1     6239     \u001b[31m✗\u001b[39m      Caenorhabditis elegans                   Northwestern University                 \u001b[0m\n",
      "\u001b[0mNIC2_Canu            NCBI     GCA_016989145.1     6239     \u001b[31m✗\u001b[39m      Caenorhabditis elegans                   Northwestern University                 \u001b[0m\n",
      "\u001b[0mMY2147_Canu          NCBI     GCA_016989235.1     6239     \u001b[31m✗\u001b[39m      Caenorhabditis elegans                   Northwestern University                 \u001b[0m\n",
      "\u001b[0mJU2600_Canu          NCBI     GCA_016989245.1     6239     \u001b[31m✗\u001b[39m      Caenorhabditis elegans                   Northwestern University                 \u001b[0m\n",
      "\u001b[0mJU310_Canu           NCBI     GCA_016989275.1     6239     \u001b[31m✗\u001b[39m      Caenorhabditis elegans                   Northwestern University                 \u001b[0m\n",
      "\u001b[0mJU2526_Canu          NCBI     GCA_016989285.1     6239     \u001b[31m✗\u001b[39m      Caenorhabditis elegans                   Northwestern University                 \u001b[0m\n",
      "\u001b[0mEG4725_Canu          NCBI     GCA_016989295.1     6239     \u001b[31m✗\u001b[39m      Caenorhabditis elegans                   Northwestern University                 \u001b[0m\n",
      "\u001b[0mJU1400_Canu          NCBI     GCA_016989365.1     6239     \u001b[31m✗\u001b[39m      Caenorhabditis elegans                   Northwestern University                 \u001b[0m\n",
      "\u001b[0mECA396_Canu          NCBI     GCA_016989385.1     6239     \u001b[31m✗\u001b[39m      Caenorhabditis elegans                   Northwestern University                 \u001b[0m\n",
      "\u001b[0mECA36_Canu           NCBI     GCA_016989455.1     6239     \u001b[31m✗\u001b[39m      Caenorhabditis elegans                   Northwestern University                 \u001b[0m\n",
      "\u001b[0mDL238_Canu           NCBI     GCA_016989505.1     6239     \u001b[31m✗\u001b[39m      Caenorhabditis elegans                   Northwestern University                 \u001b[0m\n",
      "\u001b[0mASM1813679v1         NCBI     GCA_018136795.1     6239     \u001b[31m✗\u001b[39m      Caenorhabditis elegans                   Seoul National University               \u001b[0m\n",
      "\u001b[0mASM1813680v1         NCBI     GCA_018136805.1     6239     \u001b[31m✗\u001b[39m      Caenorhabditis elegans                   Seoul National University               \u001b[0m\n",
      "\u001b[0mASM1813683v1         NCBI     GCA_018136835.1     6239     \u001b[31m✗\u001b[39m      Caenorhabditis elegans                   Seoul National University               \u001b[0m\n",
      "\u001b[0mASM1813687v1         NCBI     GCA_018136875.1     6239     \u001b[31m✗\u001b[39m      Caenorhabditis elegans                   Seoul National University               \u001b[0m\n",
      "\u001b[0mASM2045016v1         NCBI     GCA_020450165.1     6239     \u001b[31m✗\u001b[39m      Caenorhabditis elegans                   Seoul National University               \u001b[0m\n",
      "\u001b[0mCe_DL226             NCBI     GCA_022984815.1     6239     \u001b[31m✗\u001b[39m      Caenorhabditis elegans                   Seoul National University               \u001b[0m\n",
      "\u001b[0mASM2742242v1         NCBI     GCA_027422425.1     6239     \u001b[31m✗\u001b[39m      Caenorhabditis elegans                   Korea Research Institute of Bioscience and Biotechnology\u001b[0m\n",
      "\u001b[0mASM2742244v1         NCBI     GCA_027422445.1     6239     \u001b[31m✗\u001b[39m      Caenorhabditis elegans                   Korea Research Institute of Bioscience and Biotechnology\u001b[0m\n",
      "\u001b[0mASM2820141v1         NCBI     GCA_028201415.1     6239     \u001b[31m✗\u001b[39m      Caenorhabditis elegans                   University of Oregon                    \u001b[0m\n",
      "\u001b[0mASM2820151v1         NCBI     GCA_028201515.1     6239     \u001b[31m✗\u001b[39m      Caenorhabditis elegans                   University of Oregon                    \u001b[0m\n",
      "\u001b[0mASM2974843v1         NCBI     GCA_029748435.1     6239     \u001b[31m✗\u001b[39m      Caenorhabditis elegans                   University of Alabama                   \u001b[0m\n",
      "\u001b[0mASM3024828v1         NCBI     GCA_030248285.1     6239     \u001b[31m✗\u001b[39m      Caenorhabditis elegans                   Academia Sinica                         \u001b[0m\n",
      "\u001b[0mASM3345834v1         NCBI     GCA_033458345.1     6239     \u001b[31m✗\u001b[39m      Caenorhabditis elegans                   Georgia Institute of Technology         \u001b[0m\n",
      "\u001b[0mASM3345835v1         NCBI     GCA_033458355.1     6239     \u001b[31m✗\u001b[39m      Caenorhabditis elegans                   Georgia Institute of Technology         \u001b[0m\n",
      "\u001b[0mASM3988096v1         NCBI     GCA_039880965.1     6239     \u001b[31m✗\u001b[39m      Caenorhabditis elegans                   University of Alabama                   \u001b[0m\n",
      "\u001b[0mC._elegans_AB1_1.0   NCBI     GCA_045866515.1     6239     \u001b[31m✗\u001b[39m      Caenorhabditis elegans                   Laboratory of Molecular and Cellular Regulation Institute for Integrative Neurobiology Faculty of Science and Engineering Department of Biology, Konan University\u001b[0m\n",
      "\u001b[0mspades_ilmn_draft_assembly.fasta.gz NCBI     GCA_900160655.1     6239     \u001b[31m✗\u001b[39m      Caenorhabditis elegans                   UC SANTA CRUZ                           \u001b[0m\n",
      "\u001b[0mJU394                NCBI     GCA_963920965.1     6239     \u001b[31m✗\u001b[39m      Caenorhabditis elegans                   Wellcome Sanger Institute               \u001b[0m\n",
      "\u001b[0mDL238                NCBI     GCA_963920975.1     6239     \u001b[31m✗\u001b[39m      Caenorhabditis elegans                   Wellcome Sanger Institute               \u001b[0m\n",
      "\u001b[0mEG4946               NCBI     GCA_963920985.1     6239     \u001b[31m✗\u001b[39m      Caenorhabditis elegans                   Wellcome Sanger Institute               \u001b[0m\n",
      "\u001b[0mDL200                NCBI     GCA_963920995.1     6239     \u001b[31m✗\u001b[39m      Caenorhabditis elegans                   Wellcome Sanger Institute               \u001b[0m\n",
      "\u001b[0mEG4725               NCBI     GCA_963921005.1     6239     \u001b[31m✗\u001b[39m      Caenorhabditis elegans                   Wellcome Sanger Institute               \u001b[0m\n",
      "\u001b[0mPS2025               NCBI     GCA_963921015.1     6239     \u001b[31m✗\u001b[39m      Caenorhabditis elegans                   Wellcome Sanger Institute               \u001b[0m\n",
      "\u001b[0mN2                   NCBI     GCA_963921025.1     6239     \u001b[31m✗\u001b[39m      Caenorhabditis elegans                   Wellcome Sanger Institute               \u001b[0m\n",
      "\u001b[0mPB306                NCBI     GCA_963921035.1     6239     \u001b[31m✗\u001b[39m      Caenorhabditis elegans                   Wellcome Sanger Institute               \u001b[0m\n",
      "\u001b[0mJT11398              NCBI     GCA_963921045.1     6239     \u001b[31m✗\u001b[39m      Caenorhabditis elegans                   Wellcome Sanger Institute               \u001b[0m\n",
      "\u001b[0mGXW1                 NCBI     GCA_963921055.1     6239     \u001b[31m✗\u001b[39m      Caenorhabditis elegans                   Wellcome Sanger Institute               \u001b[0m\n",
      "\u001b[0mJU751                NCBI     GCA_963921065.1     6239     \u001b[31m✗\u001b[39m      Caenorhabditis elegans                   Wellcome Sanger Institute               \u001b[0m\n",
      "\u001b[0mJU775                NCBI     GCA_963921075.1     6239     \u001b[31m✗\u001b[39m      Caenorhabditis elegans                   Wellcome Sanger Institute               \u001b[0m\n",
      "\u001b[0mECA248               NCBI     GCA_963921085.1     6239     \u001b[31m✗\u001b[39m      Caenorhabditis elegans                   Wellcome Sanger Institute               \u001b[0m\n",
      "\u001b[0mMY23                 NCBI     GCA_963921095.1     6239     \u001b[31m✗\u001b[39m      Caenorhabditis elegans                   Wellcome Sanger Institute               \u001b[0m\n",
      "\u001b[0mAB1                  NCBI     GCA_963921105.1     6239     \u001b[31m✗\u001b[39m      Caenorhabditis elegans                   Wellcome Sanger Institute               \u001b[0m\n",
      "\u001b[0mLKC34                NCBI     GCA_963921115.1     6239     \u001b[31m✗\u001b[39m      Caenorhabditis elegans                   Wellcome Sanger Institute               \u001b[0m\n",
      "\u001b[0mECA36                NCBI     GCA_963921125.1     6239     \u001b[31m✗\u001b[39m      Caenorhabditis elegans                   Wellcome Sanger Institute               \u001b[0m\n",
      "\u001b[0mQX1791               NCBI     GCA_963921135.1     6239     \u001b[31m✗\u001b[39m      Caenorhabditis elegans                   Wellcome Sanger Institute               \u001b[0m\n",
      "\u001b[0mCB4856               NCBI     GCA_963921145.1     6239     \u001b[31m✗\u001b[39m      Caenorhabditis elegans                   Wellcome Sanger Institute               \u001b[0m\n",
      "\u001b[0mQX1211               NCBI     GCA_963921155.1     6239     \u001b[31m✗\u001b[39m      Caenorhabditis elegans                   Wellcome Sanger Institute               \u001b[0m\n",
      "\u001b[0m\u001b[32m ^\u001b[0m\n",
      "\u001b[0m\u001b[32m Use name for \u001b[36mgenomepy install\u001b[0m\n",
      "\u001b[0m\u001b[0m"
     ]
    }
   ],
   "source": [
    "# show available assemblies\n",
    "!genomepy search --provider NCBI {organism}"
   ]
  },
  {
   "cell_type": "code",
   "execution_count": 71,
   "metadata": {},
   "outputs": [
    {
     "name": "stdout",
     "output_type": "stream",
     "text": [
      "\u001b[1mname                 provider accession         tax_id annotation species                                  other_info                              \u001b[0m\n",
      "\u001b[0mWBcel235             Ensembl  GCA_000002985.3     6239     \u001b[32m✓\u001b[39m      Caenorhabditis elegans                   WS282                                   \u001b[0m\n",
      "\u001b[0m\u001b[32m ^\u001b[0m\n",
      "\u001b[0m\u001b[32m Use name for \u001b[36mgenomepy install\u001b[0m\n",
      "\u001b[0m\u001b[0m"
     ]
    }
   ],
   "source": [
    "# show available assemblies\n",
    "!genomepy search --provider Ensembl {organism}"
   ]
  },
  {
   "cell_type": "code",
   "execution_count": null,
   "metadata": {},
   "outputs": [],
   "source": [
    "# set the genome name\n",
    "genome_name = \"WBcel235\""
   ]
  },
  {
   "cell_type": "code",
   "execution_count": 43,
   "metadata": {},
   "outputs": [
    {
     "name": "stdout",
     "output_type": "stream",
     "text": [
      "\u001b[32m14:42:25\u001b[0m \u001b[1m|\u001b[0m \u001b[34mINFO\u001b[0m \u001b[1m|\u001b[0m Downloading genome from Ensembl. Target URL: http://ftp.ensembl.org/pub/release-113/fasta/caenorhabditis_elegans/dna/Caenorhabditis_elegans.WBcel235.dna_sm.toplevel.fa.gz...\n",
      "Download: 100%|████████████████████████████| 30.4M/30.4M [00:01<00:00, 19.6MB/s]\u001b[0m\u001b[0m\n",
      "\u001b[0m\u001b[32m14:42:27\u001b[0m \u001b[1m|\u001b[0m \u001b[34mINFO\u001b[0m \u001b[1m|\u001b[0m Genome download successful, starting post processing...\n",
      "\u001b[32m14:42:27\u001b[0m \u001b[1m|\u001b[0m \u001b[34mINFO\u001b[0m \u001b[1m|\u001b[0m name: WBcel235\n",
      "\u001b[32m14:42:27\u001b[0m \u001b[1m|\u001b[0m \u001b[34mINFO\u001b[0m \u001b[1m|\u001b[0m local name: WBcel235\n",
      "\u001b[32m14:42:27\u001b[0m \u001b[1m|\u001b[0m \u001b[34mINFO\u001b[0m \u001b[1m|\u001b[0m fasta: /scratch/multiomics/nickyoungblut/star_refs/Caenorhabditis_elegans/WBcel235/WBcel235.fa\n",
      "Filtering Fasta: 1.67M lines [00:00, 3.85M lines/s]\u001b[0m\u001b[0m\n",
      "\u001b[0m\u001b[32m14:42:30\u001b[0m \u001b[1m|\u001b[0m \u001b[34mINFO\u001b[0m \u001b[1m|\u001b[0m Downloading annotation from Ensembl. Target URL: http://ftp.ensembl.org/pub/release-113/gtf/caenorhabditis_elegans/Caenorhabditis_elegans.WBcel235.113.gtf.gz...\n",
      "Download: 100%|████████████████████████████| 8.75M/8.75M [00:00<00:00, 10.0MB/s]\u001b[0m\u001b[0m\n",
      "\u001b[0m\u001b[32m14:42:33\u001b[0m \u001b[1m|\u001b[0m \u001b[34mINFO\u001b[0m \u001b[1m|\u001b[0m Annotation download successful\n",
      "\u001b[0m"
     ]
    }
   ],
   "source": [
    "# download genome\n",
    "!genomepy install --provider Ensembl --annotation --genomes_dir {work_dir} {genome_name}"
   ]
  },
  {
   "cell_type": "code",
   "execution_count": 44,
   "metadata": {},
   "outputs": [
    {
     "data": {
      "text/plain": [
       "'/scratch/multiomics/nickyoungblut/star_refs/Caenorhabditis_elegans/WBcel235/WBcel235.fa'"
      ]
     },
     "execution_count": 44,
     "metadata": {},
     "output_type": "execute_result"
    }
   ],
   "source": [
    "# get genome fasta\n",
    "fasta_file = glob(f\"{work_dir}/{genome_name}/*.fa\")[0]\n",
    "fasta_file"
   ]
  },
  {
   "cell_type": "code",
   "execution_count": 45,
   "metadata": {},
   "outputs": [
    {
     "data": {
      "text/plain": [
       "'/scratch/multiomics/nickyoungblut/star_refs/Caenorhabditis_elegans/WBcel235/WBcel235.annotation.gtf'"
      ]
     },
     "execution_count": 45,
     "metadata": {},
     "output_type": "execute_result"
    }
   ],
   "source": [
    "# get gtf file\n",
    "gtf_file = glob(f\"{work_dir}/{genome_name}/*.gtf\")[0]\n",
    "gtf_file"
   ]
  },
  {
   "cell_type": "code",
   "execution_count": 46,
   "metadata": {},
   "outputs": [
    {
     "name": "stdout",
     "output_type": "stream",
     "text": [
      "Processing GTF: WBcel235.annotation.gtf\n",
      "Output GTF: /scratch/multiomics/nickyoungblut/star_refs/Caenorhabditis_elegans/Caenorhabditis_elegans/Caenorhabditis_elegans.gtf\n",
      "Total records in GTF: 703291\n",
      "Filtered 94369 records by biotype\n",
      "Filtered 0 records by tag\n",
      "-- Count of biotypes filtered --\n",
      "piRNA: 46089\n",
      "ncRNA: 28764\n",
      "pseudogene: 13162\n",
      "tRNA: 1931\n",
      "miRNA: 1725\n",
      "snoRNA: 1038\n",
      "lincRNA: 816\n",
      "antisense_RNA: 391\n",
      "snRNA: 387\n",
      "rRNA: 66\n",
      "-- Count of biotypes kept --\n",
      "protein_coding: 1203105\n",
      "----------------------------\n"
     ]
    }
   ],
   "source": [
    "# format the reference\n",
    "exe = os.path.join(script_dir, \"format-star-ref.py\")\n",
    "!{exe} --organism \"{organism}\"  --output-dir {work_dir} {gtf_file} "
   ]
  },
  {
   "cell_type": "code",
   "execution_count": 47,
   "metadata": {},
   "outputs": [
    {
     "data": {
      "text/plain": [
       "True"
      ]
     },
     "execution_count": 47,
     "metadata": {},
     "output_type": "execute_result"
    }
   ],
   "source": [
    "# set the filtered gtf file\n",
    "gtf_filt_file = os.path.join(work_dir, org_str, f\"{org_str}.gtf\")\n",
    "os.path.exists(gtf_filt_file)"
   ]
  },
  {
   "cell_type": "code",
   "execution_count": 48,
   "metadata": {},
   "outputs": [
    {
     "name": "stdout",
     "output_type": "stream",
     "text": [
      "\t/home/nickyoungblut/miniforge3/envs/asmbl/bin/STAR-avx2 --runThreadN 16 --runMode genomeGenerate --genomeDir /scratch/multiomics/nickyoungblut/star_refs/Caenorhabditis_elegans/star --genomeFastaFiles /scratch/multiomics/nickyoungblut/star_refs/Caenorhabditis_elegans/WBcel235/WBcel235.fa --sjdbGTFfile /scratch/multiomics/nickyoungblut/star_refs/Caenorhabditis_elegans/Caenorhabditis_elegans/Caenorhabditis_elegans.gtf --sjdbOverhang 100\n",
      "\tSTAR version: 2.7.11b   compiled: 2025-01-09T12:32:06+0000 :/opt/conda/conda-bld/star_1736425784849/work/source\n",
      "Feb 01 14:42:42 ..... started STAR run\n",
      "!!!!! WARNING: Could not move Log.out file from ./Log.out into /scratch/multiomics/nickyoungblut/star_refs/Caenorhabditis_elegans/star/Log.out. Will keep ./Log.out\n",
      "\n",
      "Feb 01 14:42:42 ... starting to generate Genome files\n",
      "Feb 01 14:42:43 ..... processing annotations GTF\n",
      "!!!!! WARNING: --genomeSAindexNbases 14 is too large for the genome size=100286401, which may cause seg-fault at the mapping step. Re-run genome generation with recommended --genomeSAindexNbases 12\n",
      "Feb 01 14:42:45 ... starting to sort Suffix Array. This may take a long time...\n",
      "Feb 01 14:42:45 ... sorting Suffix Array chunks and saving them to disk...\n",
      "Feb 01 14:42:53 ... loading chunks from disk, packing SA...\n",
      "Feb 01 14:42:56 ... finished generating suffix array\n",
      "Feb 01 14:42:56 ... generating Suffix Array index\n",
      "Feb 01 14:43:14 ... completed Suffix Array index\n",
      "Feb 01 14:43:14 ..... inserting junctions into the genome indices\n",
      "Feb 01 14:43:46 ... writing Genome to disk ...\n",
      "Feb 01 14:43:46 ... writing Suffix Array to disk ...\n",
      "Feb 01 14:43:47 ... writing SAindex to disk\n",
      "Feb 01 14:43:48 ..... finished successfully\n"
     ]
    }
   ],
   "source": [
    "# create the star index\n",
    "star_dir = os.path.join(work_dir, \"star\")\n",
    "os.makedirs(star_dir, exist_ok=True)\n",
    "\n",
    "!STAR --runThreadN 16 \\\n",
    "    --runMode genomeGenerate \\\n",
    "    --genomeDir {star_dir} \\\n",
    "    --genomeFastaFiles {fasta_file} \\\n",
    "    --sjdbGTFfile {gtf_filt_file} \\\n",
    "    --sjdbOverhang 100"
   ]
  },
  {
   "cell_type": "markdown",
   "metadata": {},
   "source": [
    "# Schistosoma mansoni"
   ]
  },
  {
   "cell_type": "code",
   "execution_count": 72,
   "metadata": {},
   "outputs": [],
   "source": [
    "organism = \"Schistosoma mansoni\""
   ]
  },
  {
   "cell_type": "code",
   "execution_count": 73,
   "metadata": {},
   "outputs": [],
   "source": [
    "# format\n",
    "org_str = organism.replace(\" \", \"_\")\n",
    "work_dir = os.path.join(base_dir, org_str)\n",
    "os.makedirs(work_dir, exist_ok=True)"
   ]
  },
  {
   "cell_type": "code",
   "execution_count": 74,
   "metadata": {},
   "outputs": [
    {
     "name": "stdout",
     "output_type": "stream",
     "text": [
      "\u001b[1mname                 provider accession         tax_id annotation species                                  other_info                              \u001b[0m\n",
      "\u001b[0mASM23792v2           NCBI     GCF_000237925.1     6183     \u001b[32m✓\u001b[39m      Schistosoma mansoni                      Schistosoma Genome Network              \u001b[0m\n",
      "\u001b[0mGCA_000237925.3      NCBI     GCA_000237925.4     6183     \u001b[31m✗\u001b[39m      Schistosoma mansoni                      Schistosoma Genome Network              \u001b[0m\n",
      "\u001b[0mSM_V9                NCBI     GCA_000237925.5     6183     \u001b[31m✗\u001b[39m      Schistosoma mansoni                      Schistosoma Genome Network              \u001b[0m\n",
      "\u001b[0m\u001b[32m ^\u001b[0m\n",
      "\u001b[0m\u001b[32m Use name for \u001b[36mgenomepy install\u001b[0m\n",
      "\u001b[0m\u001b[0m"
     ]
    }
   ],
   "source": [
    "# show available assemblies\n",
    "!genomepy search --provider NCBI {organism}"
   ]
  },
  {
   "cell_type": "code",
   "execution_count": 75,
   "metadata": {},
   "outputs": [
    {
     "name": "stdout",
     "output_type": "stream",
     "text": [
      "\u001b[1mname                 provider accession         tax_id annotation species                                  other_info                              \u001b[0m\n",
      "\u001b[0mSmansoni_v7          Ensembl  GCA_000237925.3     6183     \u001b[32m✓\u001b[39m      Schistosoma mansoni                      WBPS12                                  \u001b[0m\n",
      "\u001b[0m\u001b[32m ^\u001b[0m\n",
      "\u001b[0m\u001b[32m Use name for \u001b[36mgenomepy install\u001b[0m\n",
      "\u001b[0m\u001b[0m"
     ]
    }
   ],
   "source": [
    "# show available assemblies\n",
    "!genomepy search --provider Ensembl {organism}"
   ]
  },
  {
   "cell_type": "code",
   "execution_count": null,
   "metadata": {},
   "outputs": [],
   "source": [
    "# set the genome name\n",
    "genome_name = \"Smansoni_v7\""
   ]
  },
  {
   "cell_type": "code",
   "execution_count": 52,
   "metadata": {},
   "outputs": [
    {
     "name": "stdout",
     "output_type": "stream",
     "text": [
      "\u001b[32m14:44:32\u001b[0m \u001b[1m|\u001b[0m \u001b[34mINFO\u001b[0m \u001b[1m|\u001b[0m Downloading genome from Ensembl. Target URL: http://ftp.ensemblgenomes.org/pub/release-60/metazoa/fasta/schistosoma_mansoni/dna/Schistosoma_mansoni.Smansoni_v7.dna_sm.toplevel.fa.gz...\n",
      "Download: 100%|██████████████████████████████| 122M/122M [00:04<00:00, 28.0MB/s]\u001b[0m\u001b[0m\n",
      "\u001b[0m\u001b[32m14:44:37\u001b[0m \u001b[1m|\u001b[0m \u001b[34mINFO\u001b[0m \u001b[1m|\u001b[0m Genome download successful, starting post processing...\n",
      "\u001b[32m14:44:39\u001b[0m \u001b[1m|\u001b[0m \u001b[34mINFO\u001b[0m \u001b[1m|\u001b[0m name: Smansoni_v7\n",
      "\u001b[32m14:44:39\u001b[0m \u001b[1m|\u001b[0m \u001b[34mINFO\u001b[0m \u001b[1m|\u001b[0m local name: Smansoni_v7\n",
      "\u001b[32m14:44:39\u001b[0m \u001b[1m|\u001b[0m \u001b[34mINFO\u001b[0m \u001b[1m|\u001b[0m fasta: /scratch/multiomics/nickyoungblut/star_refs/Schistosoma_mansoni/Smansoni_v7/Smansoni_v7.fa\n",
      "Filtering Fasta: 6.83M lines [00:01, 4.05M lines/s]\u001b[0m\u001b[0m\n",
      "\u001b[0m\u001b[32m14:44:47\u001b[0m \u001b[1m|\u001b[0m \u001b[34mINFO\u001b[0m \u001b[1m|\u001b[0m Downloading annotation from Ensembl. Target URL: http://ftp.ensemblgenomes.org/pub/release-60/metazoa/gtf/schistosoma_mansoni/Schistosoma_mansoni.Smansoni_v7.60.gtf.gz...\n",
      "Download: 100%|████████████████████████████| 3.80M/3.80M [00:00<00:00, 5.44MB/s]\u001b[0m\u001b[0m\n",
      "\u001b[0m\u001b[32m14:44:49\u001b[0m \u001b[1m|\u001b[0m \u001b[34mINFO\u001b[0m \u001b[1m|\u001b[0m Annotation download successful\n",
      "\u001b[0m"
     ]
    }
   ],
   "source": [
    "# download genome\n",
    "!genomepy install --provider Ensembl --annotation --genomes_dir {work_dir} {genome_name}"
   ]
  },
  {
   "cell_type": "code",
   "execution_count": 53,
   "metadata": {},
   "outputs": [
    {
     "data": {
      "text/plain": [
       "'/scratch/multiomics/nickyoungblut/star_refs/Schistosoma_mansoni/Smansoni_v7/Smansoni_v7.fa'"
      ]
     },
     "execution_count": 53,
     "metadata": {},
     "output_type": "execute_result"
    }
   ],
   "source": [
    "# get genome fasta\n",
    "fasta_file = glob(f\"{work_dir}/{genome_name}/*.fa\")[0]\n",
    "fasta_file"
   ]
  },
  {
   "cell_type": "code",
   "execution_count": 54,
   "metadata": {},
   "outputs": [
    {
     "data": {
      "text/plain": [
       "'/scratch/multiomics/nickyoungblut/star_refs/Schistosoma_mansoni/Smansoni_v7/Smansoni_v7.annotation.gtf'"
      ]
     },
     "execution_count": 54,
     "metadata": {},
     "output_type": "execute_result"
    }
   ],
   "source": [
    "# get gtf file\n",
    "gtf_file = glob(f\"{work_dir}/{genome_name}/*.gtf\")[0]\n",
    "gtf_file"
   ]
  },
  {
   "cell_type": "code",
   "execution_count": 55,
   "metadata": {},
   "outputs": [
    {
     "name": "stdout",
     "output_type": "stream",
     "text": [
      "Processing GTF: Smansoni_v7.annotation.gtf\n",
      "Output GTF: /scratch/multiomics/nickyoungblut/star_refs/Schistosoma_mansoni/Schistosoma_mansoni/Schistosoma_mansoni.gtf\n",
      "Total records in GTF: 335384\n",
      "Filtered 170 records by biotype\n",
      "Filtered 0 records by tag\n",
      "-- Count of biotypes filtered --\n",
      "pseudogene: 170\n",
      "-- Count of biotypes kept --\n",
      "protein_coding: 660284\n",
      "----------------------------\n"
     ]
    }
   ],
   "source": [
    "# format the reference\n",
    "exe = os.path.join(script_dir, \"format-star-ref.py\")\n",
    "!{exe} --organism \"{organism}\"  --output-dir {work_dir} {gtf_file} "
   ]
  },
  {
   "cell_type": "code",
   "execution_count": 56,
   "metadata": {},
   "outputs": [
    {
     "data": {
      "text/plain": [
       "True"
      ]
     },
     "execution_count": 56,
     "metadata": {},
     "output_type": "execute_result"
    }
   ],
   "source": [
    "# set the filtered gtf file\n",
    "gtf_filt_file = os.path.join(work_dir, org_str, f\"{org_str}.gtf\")\n",
    "os.path.exists(gtf_filt_file)"
   ]
  },
  {
   "cell_type": "code",
   "execution_count": 57,
   "metadata": {},
   "outputs": [
    {
     "name": "stdout",
     "output_type": "stream",
     "text": [
      "\t/home/nickyoungblut/miniforge3/envs/asmbl/bin/STAR-avx2 --runThreadN 16 --runMode genomeGenerate --genomeDir /scratch/multiomics/nickyoungblut/star_refs/Schistosoma_mansoni/star --genomeFastaFiles /scratch/multiomics/nickyoungblut/star_refs/Schistosoma_mansoni/Smansoni_v7/Smansoni_v7.fa --sjdbGTFfile /scratch/multiomics/nickyoungblut/star_refs/Schistosoma_mansoni/Schistosoma_mansoni/Schistosoma_mansoni.gtf --sjdbOverhang 100\n",
      "\tSTAR version: 2.7.11b   compiled: 2025-01-09T12:32:06+0000 :/opt/conda/conda-bld/star_1736425784849/work/source\n",
      "Feb 01 14:45:03 ..... started STAR run\n",
      "!!!!! WARNING: Could not move Log.out file from ./Log.out into /scratch/multiomics/nickyoungblut/star_refs/Schistosoma_mansoni/star/Log.out. Will keep ./Log.out\n",
      "\n",
      "Feb 01 14:45:03 ... starting to generate Genome files\n",
      "Feb 01 14:45:08 ..... processing annotations GTF\n",
      "!!!!! WARNING: --genomeSAindexNbases 14 is too large for the genome size=409579008, which may cause seg-fault at the mapping step. Re-run genome generation with recommended --genomeSAindexNbases 13\n",
      "Feb 01 14:45:11 ... starting to sort Suffix Array. This may take a long time...\n",
      "Feb 01 14:45:12 ... sorting Suffix Array chunks and saving them to disk...\n",
      "Feb 01 14:45:58 ... loading chunks from disk, packing SA...\n",
      "Feb 01 14:46:07 ... finished generating suffix array\n",
      "Feb 01 14:46:07 ... generating Suffix Array index\n",
      "Feb 01 14:47:14 ... completed Suffix Array index\n",
      "Feb 01 14:47:14 ..... inserting junctions into the genome indices\n",
      "Feb 01 14:47:46 ... writing Genome to disk ...\n",
      "Feb 01 14:47:46 ... writing Suffix Array to disk ...\n",
      "Feb 01 14:47:49 ... writing SAindex to disk\n",
      "Feb 01 14:47:51 ..... finished successfully\n"
     ]
    }
   ],
   "source": [
    "# create the star index\n",
    "star_dir = os.path.join(work_dir, \"star\")\n",
    "os.makedirs(star_dir, exist_ok=True)\n",
    "\n",
    "!STAR --runThreadN 16 \\\n",
    "    --runMode genomeGenerate \\\n",
    "    --genomeDir {star_dir} \\\n",
    "    --genomeFastaFiles {fasta_file} \\\n",
    "    --sjdbGTFfile {gtf_filt_file} \\\n",
    "    --sjdbOverhang 100"
   ]
  },
  {
   "cell_type": "markdown",
   "metadata": {},
   "source": [
    "# Anopheles gambiae"
   ]
  },
  {
   "cell_type": "code",
   "execution_count": 76,
   "metadata": {},
   "outputs": [],
   "source": [
    "organism = \"Anopheles gambiae\""
   ]
  },
  {
   "cell_type": "code",
   "execution_count": 77,
   "metadata": {},
   "outputs": [],
   "source": [
    "# format\n",
    "org_str = organism.replace(\" \", \"_\")\n",
    "work_dir = os.path.join(base_dir, org_str)\n",
    "os.makedirs(work_dir, exist_ok=True)"
   ]
  },
  {
   "cell_type": "code",
   "execution_count": 78,
   "metadata": {},
   "outputs": [
    {
     "name": "stdout",
     "output_type": "stream",
     "text": [
      "\u001b[1mname                 provider accession         tax_id annotation species                                  other_info                              \u001b[0m\n",
      "\u001b[0midAnoGambNW_F1_1     NCBI     GCF_943734735.2     7165     \u001b[32m✓\u001b[39m      Anopheles gambiae                        WELLCOME SANGER INSTITUTE               \u001b[0m\n",
      "\u001b[0mAgamP3               NCBI     GCA_000005575.1     7165     \u001b[32m✓\u001b[39m      Anopheles gambiae str. PEST              The International Consortium for the Sequencing of Anopheles Genome\u001b[0m\n",
      "\u001b[0mg4                   NCBI     GCA_000150785.1     7165     \u001b[31m✗\u001b[39m      Anopheles gambiae                        J. Craig Venter Institute               \u001b[0m\n",
      "\u001b[0mViralProj32101       NCBI     GCF_000880635.1  3052098     \u001b[32m✓\u001b[39m      Anopheles gambiae densovirus             The W. Harry Feinstone Department of Molecular Microbiology and Immunology, Johns Hopkins Bloomberg School of Public Health\u001b[0m\n",
      "\u001b[0mASM101452v1          NCBI     GCA_001014525.1     7165     \u001b[31m✗\u001b[39m      Anopheles gambiae                        UC Berkeley                             \u001b[0m\n",
      "\u001b[0mASM154264v1          NCBI     GCA_001542645.1     7165     \u001b[31m✗\u001b[39m      Anopheles gambiae                        Virgina Tech                            \u001b[0m\n",
      "\u001b[0mPEA_Agam_2022        NCBI     GCA_031843445.1     7165     \u001b[31m✗\u001b[39m      Anopheles gambiae                        Phillips Exeter Academy                 \u001b[0m\n",
      "\u001b[0midAnoGambNW_F1_1_alternate_haplotype NCBI     GCA_943734675.1     7165     \u001b[31m✗\u001b[39m      Anopheles gambiae                        WELLCOME SANGER INSTITUTE               \u001b[0m\n",
      "\u001b[0m\u001b[32m ^\u001b[0m\n",
      "\u001b[0m\u001b[32m Use name for \u001b[36mgenomepy install\u001b[0m\n",
      "\u001b[0m\u001b[0m"
     ]
    }
   ],
   "source": [
    "# show available assemblies\n",
    "!genomepy search --provider NCBI {organism}"
   ]
  },
  {
   "cell_type": "code",
   "execution_count": 79,
   "metadata": {},
   "outputs": [
    {
     "name": "stdout",
     "output_type": "stream",
     "text": [
      "\u001b[1mname                 provider accession         tax_id annotation species                                  other_info                              \u001b[0m\n",
      "\u001b[0mAgamP4               Ensembl  GCA_000005575.1     7165     \u001b[32m✓\u001b[39m      Anopheles gambiae                        AgamP4.13                               \u001b[0m\n",
      "\u001b[0m\u001b[32m ^\u001b[0m\n",
      "\u001b[0m\u001b[32m Use name for \u001b[36mgenomepy install\u001b[0m\n",
      "\u001b[0m\u001b[0m"
     ]
    }
   ],
   "source": [
    "# show available assemblies\n",
    "!genomepy search --provider Ensembl {organism}"
   ]
  },
  {
   "cell_type": "code",
   "execution_count": null,
   "metadata": {},
   "outputs": [],
   "source": [
    "# set the genome name\n",
    "genome_name = \"AgamP4\""
   ]
  },
  {
   "cell_type": "code",
   "execution_count": 61,
   "metadata": {},
   "outputs": [
    {
     "name": "stdout",
     "output_type": "stream",
     "text": [
      "\u001b[32m15:00:48\u001b[0m \u001b[1m|\u001b[0m \u001b[34mINFO\u001b[0m \u001b[1m|\u001b[0m Downloading genome from Ensembl. Target URL: http://ftp.ensemblgenomes.org/pub/release-60/metazoa/fasta/anopheles_gambiae/dna/Anopheles_gambiae.AgamP4.dna_sm.toplevel.fa.gz...\n",
      "Download: 100%|████████████████████████████| 80.5M/80.5M [00:03<00:00, 26.6MB/s]\u001b[0m\u001b[0m\n",
      "\u001b[0m\u001b[32m15:00:52\u001b[0m \u001b[1m|\u001b[0m \u001b[34mINFO\u001b[0m \u001b[1m|\u001b[0m Genome download successful, starting post processing...\n",
      "\u001b[32m15:00:53\u001b[0m \u001b[1m|\u001b[0m \u001b[34mINFO\u001b[0m \u001b[1m|\u001b[0m name: AgamP4\n",
      "\u001b[32m15:00:53\u001b[0m \u001b[1m|\u001b[0m \u001b[34mINFO\u001b[0m \u001b[1m|\u001b[0m local name: AgamP4\n",
      "\u001b[32m15:00:53\u001b[0m \u001b[1m|\u001b[0m \u001b[34mINFO\u001b[0m \u001b[1m|\u001b[0m fasta: /scratch/multiomics/nickyoungblut/star_refs/Anopheles_gambiae/AgamP4/AgamP4.fa\n",
      "Filtering Fasta: 4.72M lines [00:01, 4.06M lines/s]\u001b[0m\u001b[0m\n",
      "\u001b[0m\u001b[32m15:00:59\u001b[0m \u001b[1m|\u001b[0m \u001b[34mINFO\u001b[0m \u001b[1m|\u001b[0m Downloading annotation from Ensembl. Target URL: http://ftp.ensemblgenomes.org/pub/release-60/metazoa/gtf/anopheles_gambiae/Anopheles_gambiae.AgamP4.60.gtf.gz...\n",
      "Download: 100%|████████████████████████████| 2.84M/2.84M [00:00<00:00, 4.09MB/s]\u001b[0m\u001b[0m\n",
      "\u001b[0m\u001b[32m15:01:01\u001b[0m \u001b[1m|\u001b[0m \u001b[34mINFO\u001b[0m \u001b[1m|\u001b[0m Annotation download successful\n",
      "\u001b[0m"
     ]
    }
   ],
   "source": [
    "# download genome\n",
    "!genomepy install --provider Ensembl --annotation --genomes_dir {work_dir} {genome_name}"
   ]
  },
  {
   "cell_type": "code",
   "execution_count": 62,
   "metadata": {},
   "outputs": [
    {
     "data": {
      "text/plain": [
       "'/scratch/multiomics/nickyoungblut/star_refs/Anopheles_gambiae/AgamP4/AgamP4.fa'"
      ]
     },
     "execution_count": 62,
     "metadata": {},
     "output_type": "execute_result"
    }
   ],
   "source": [
    "# get genome fasta\n",
    "fasta_file = glob(f\"{work_dir}/{genome_name}/*.fa\")[0]\n",
    "fasta_file"
   ]
  },
  {
   "cell_type": "code",
   "execution_count": 63,
   "metadata": {},
   "outputs": [
    {
     "data": {
      "text/plain": [
       "'/scratch/multiomics/nickyoungblut/star_refs/Anopheles_gambiae/AgamP4/AgamP4.annotation.gtf'"
      ]
     },
     "execution_count": 63,
     "metadata": {},
     "output_type": "execute_result"
    }
   ],
   "source": [
    "# get gtf file\n",
    "gtf_file = glob(f\"{work_dir}/{genome_name}/*.gtf\")[0]\n",
    "gtf_file"
   ]
  },
  {
   "cell_type": "code",
   "execution_count": 64,
   "metadata": {},
   "outputs": [
    {
     "name": "stdout",
     "output_type": "stream",
     "text": [
      "Processing GTF: AgamP4.annotation.gtf\n",
      "Output GTF: /scratch/multiomics/nickyoungblut/star_refs/Anopheles_gambiae/Anopheles_gambiae/Anopheles_gambiae.gtf\n",
      "Total records in GTF: 230287\n",
      "Filtered 2221 records by biotype\n",
      "Filtered 0 records by tag\n",
      "-- Count of biotypes filtered --\n",
      "tRNA: 1086\n",
      "rRNA: 726\n",
      "pre_miRNA: 231\n",
      "snRNA: 105\n",
      "pseudogene: 40\n",
      "ncRNA: 12\n",
      "SRP_RNA: 9\n",
      "snoRNA: 6\n",
      "RNase_MRP_RNA: 3\n",
      "RNase_P_RNA: 3\n",
      "-- Count of biotypes kept --\n",
      "protein_coding: 443026\n",
      "lncRNA: 10\n",
      "----------------------------\n"
     ]
    }
   ],
   "source": [
    "# format the reference\n",
    "exe = os.path.join(script_dir, \"format-star-ref.py\")\n",
    "!{exe} --organism \"{organism}\"  --output-dir {work_dir} {gtf_file} "
   ]
  },
  {
   "cell_type": "code",
   "execution_count": 65,
   "metadata": {},
   "outputs": [
    {
     "data": {
      "text/plain": [
       "True"
      ]
     },
     "execution_count": 65,
     "metadata": {},
     "output_type": "execute_result"
    }
   ],
   "source": [
    "# set the filtered gtf file\n",
    "gtf_filt_file = os.path.join(work_dir, org_str, f\"{org_str}.gtf\")\n",
    "os.path.exists(gtf_filt_file)"
   ]
  },
  {
   "cell_type": "code",
   "execution_count": 66,
   "metadata": {},
   "outputs": [
    {
     "name": "stdout",
     "output_type": "stream",
     "text": [
      "\t/home/nickyoungblut/miniforge3/envs/asmbl/bin/STAR-avx2 --runThreadN 16 --runMode genomeGenerate --genomeDir /scratch/multiomics/nickyoungblut/star_refs/Anopheles_gambiae/star --genomeFastaFiles /scratch/multiomics/nickyoungblut/star_refs/Anopheles_gambiae/AgamP4/AgamP4.fa --sjdbGTFfile /scratch/multiomics/nickyoungblut/star_refs/Anopheles_gambiae/Anopheles_gambiae/Anopheles_gambiae.gtf --sjdbOverhang 100\n",
      "\tSTAR version: 2.7.11b   compiled: 2025-01-09T12:32:06+0000 :/opt/conda/conda-bld/star_1736425784849/work/source\n",
      "Feb 01 15:01:08 ..... started STAR run\n",
      "!!!!! WARNING: Could not move Log.out file from ./Log.out into /scratch/multiomics/nickyoungblut/star_refs/Anopheles_gambiae/star/Log.out. Will keep ./Log.out\n",
      "\n",
      "Feb 01 15:01:08 ... starting to generate Genome files\n",
      "Feb 01 15:01:12 ..... processing annotations GTF\n",
      "!!!!! WARNING: --genomeSAindexNbases 14 is too large for the genome size=283349351, which may cause seg-fault at the mapping step. Re-run genome generation with recommended --genomeSAindexNbases 13\n",
      "Feb 01 15:01:14 ... starting to sort Suffix Array. This may take a long time...\n",
      "Feb 01 15:01:15 ... sorting Suffix Array chunks and saving them to disk...\n",
      "Feb 01 15:01:40 ... loading chunks from disk, packing SA...\n",
      "Feb 01 15:01:46 ... finished generating suffix array\n",
      "Feb 01 15:01:46 ... generating Suffix Array index\n",
      "Feb 01 15:02:44 ... completed Suffix Array index\n",
      "Feb 01 15:02:44 ..... inserting junctions into the genome indices\n",
      "Feb 01 15:03:06 ... writing Genome to disk ...\n",
      "Feb 01 15:03:07 ... writing Suffix Array to disk ...\n",
      "Feb 01 15:03:08 ... writing SAindex to disk\n",
      "Feb 01 15:03:10 ..... finished successfully\n"
     ]
    }
   ],
   "source": [
    "# create the star index\n",
    "star_dir = os.path.join(work_dir, \"star\")\n",
    "os.makedirs(star_dir, exist_ok=True)\n",
    "\n",
    "!STAR --runThreadN 16 \\\n",
    "    --runMode genomeGenerate \\\n",
    "    --genomeDir {star_dir} \\\n",
    "    --genomeFastaFiles {fasta_file} \\\n",
    "    --sjdbGTFfile {gtf_filt_file} \\\n",
    "    --sjdbOverhang 100"
   ]
  },
  {
   "cell_type": "markdown",
   "metadata": {},
   "source": [
    "# Arabidopsis thaliana"
   ]
  },
  {
   "cell_type": "code",
   "execution_count": 80,
   "metadata": {},
   "outputs": [],
   "source": [
    "organism = \"Arabidopsis thaliana\""
   ]
  },
  {
   "cell_type": "code",
   "execution_count": 81,
   "metadata": {},
   "outputs": [],
   "source": [
    "# format\n",
    "org_str = organism.replace(\" \", \"_\")\n",
    "work_dir = os.path.join(base_dir, org_str)\n",
    "os.makedirs(work_dir, exist_ok=True)"
   ]
  },
  {
   "cell_type": "code",
   "execution_count": 83,
   "metadata": {},
   "outputs": [
    {
     "name": "stdout",
     "output_type": "stream",
     "text": [
      "\u001b[1mname                 provider accession         tax_id annotation species                                  other_info                              \u001b[0m\n",
      "\u001b[0mTAIR10               NCBI     GCF_000001735.3     3702     \u001b[32m✓\u001b[39m      Arabidopsis thaliana                     The Arabidopsis Information Resource (TAIR)\u001b[0m\n",
      "\u001b[0massembly_1           NCBI     GCA_900234365.1     3702     \u001b[31m✗\u001b[39m      Arabidopsis thaliana                     MPI FOR DEVELOPMENTAL BIOLOGY           \u001b[0m\n",
      "\u001b[0mASM2091176v1         NCBI     GCA_020911765.1     3702     \u001b[31m✗\u001b[39m      Arabidopsis thaliana                     Institute of Genetics and Developmental Biology, The Innovative Academy of Seed Design\u001b[0m\n",
      "\u001b[0mCol-CC               NCBI     GCA_028009825.2     3702     \u001b[31m✗\u001b[39m      Arabidopsis thaliana                     Community-Consensus Arabidopsis Thaliana Reference Genome Assembly Consortium\u001b[0m\n",
      "\u001b[0mTAIR10.1             NCBI     GCF_000001735.4     3702     \u001b[32m✓\u001b[39m      Arabidopsis thaliana                     The Arabidopsis Information Resource (TAIR)\u001b[0m\n",
      "\u001b[0mASM21127v1           NCBI     GCA_000211275.1     3702     \u001b[32m✓\u001b[39m      Arabidopsis thaliana                     Arabidopsis Genome Initiative           \u001b[0m\n",
      "\u001b[0mBur-0_2010-09-30     NCBI     GCA_000222325.1     3702     \u001b[31m✗\u001b[39m      Arabidopsis thaliana                     1001genomes                             \u001b[0m\n",
      "\u001b[0mC24_2010-09-30       NCBI     GCA_000222345.1     3702     \u001b[31m✗\u001b[39m      Arabidopsis thaliana                     1001genomes                             \u001b[0m\n",
      "\u001b[0mLer-1_2010-09-30     NCBI     GCA_000222365.1     3702     \u001b[31m✗\u001b[39m      Arabidopsis thaliana                     1001genomes                             \u001b[0m\n",
      "\u001b[0mKro-0_2010-09-30     NCBI     GCA_000222385.1     3702     \u001b[31m✗\u001b[39m      Arabidopsis thaliana                     1001genomes                             \u001b[0m\n",
      "\u001b[0mASM83594v1           NCBI     GCA_000835945.1     3702     \u001b[31m✗\u001b[39m      Arabidopsis thaliana                     Pacific Biosciences                     \u001b[0m\n",
      "\u001b[0mLer_Assembly         NCBI     GCA_001651475.1     3702     \u001b[32m✓\u001b[39m      Arabidopsis thaliana                     Center for genomic Regulation           \u001b[0m\n",
      "\u001b[0mAthNd1_v1.0          NCBI     GCA_001742845.1     3702     \u001b[31m✗\u001b[39m      Arabidopsis thaliana                     Bielefeld University, CeBiTec & Department of Biology\u001b[0m\n",
      "\u001b[0mAthal_Col0Cvi0F1_phased_diploid_1.0 NCBI     GCA_001753755.2     3702     \u001b[31m✗\u001b[39m      Arabidopsis thaliana                     Pacific Biosciences                     \u001b[0m\n",
      "\u001b[0mASM1920180v1         NCBI     GCA_019201805.1  1240361     \u001b[31m✗\u001b[39m      Arabidopsis thaliana x Arabidopsis arenosa Nanjing Agricultural University         \u001b[0m\n",
      "\u001b[0mASM1920279v1         NCBI     GCA_019202795.1  1240361     \u001b[32m✓\u001b[39m      Arabidopsis thaliana x Arabidopsis arenosa Nanjing Agricultural University         \u001b[0m\n",
      "\u001b[0mASM2091176v2         NCBI     GCA_020911765.2     3702     \u001b[31m✗\u001b[39m      Arabidopsis thaliana                     Institute of Genetics and Developmental Biology, The Innovative Academy of Seed Design\u001b[0m\n",
      "\u001b[0mASM2311539v1         NCBI     GCA_023115395.1     3702     \u001b[31m✗\u001b[39m      Arabidopsis thaliana                     The Salk Institute for Biological Studies\u001b[0m\n",
      "\u001b[0mASM2449843v1         NCBI     GCA_024498435.1     3702     \u001b[31m✗\u001b[39m      Arabidopsis thaliana                     GMI - Gregor Mendel Institute           \u001b[0m\n",
      "\u001b[0mASM2449845v1         NCBI     GCA_024498455.1     3702     \u001b[31m✗\u001b[39m      Arabidopsis thaliana                     GMI - Gregor Mendel Institute           \u001b[0m\n",
      "\u001b[0mASM2449847v1         NCBI     GCA_024498475.1     3702     \u001b[31m✗\u001b[39m      Arabidopsis thaliana                     GMI - Gregor Mendel Institute           \u001b[0m\n",
      "\u001b[0mASM2449849v1         NCBI     GCA_024498495.1     3702     \u001b[31m✗\u001b[39m      Arabidopsis thaliana                     GMI - Gregor Mendel Institute           \u001b[0m\n",
      "\u001b[0mASM2449851v1         NCBI     GCA_024498515.1     3702     \u001b[31m✗\u001b[39m      Arabidopsis thaliana                     GMI - Gregor Mendel Institute           \u001b[0m\n",
      "\u001b[0mASM2449855v1         NCBI     GCA_024498555.1     3702     \u001b[31m✗\u001b[39m      Arabidopsis thaliana                     GMI - Gregor Mendel Institute           \u001b[0m\n",
      "\u001b[0mAtA1-141.20181003    NCBI     GCA_025388435.1     3702     \u001b[31m✗\u001b[39m      Arabidopsis thaliana                     INRAE/CNRS                              \u001b[0m\n",
      "\u001b[0mASM3692692v1         NCBI     GCA_036926925.1     3702     \u001b[31m✗\u001b[39m      Arabidopsis thaliana                     PRJEB62038                              \u001b[0m\n",
      "\u001b[0mASM3692696v1         NCBI     GCA_036926965.1     3702     \u001b[31m✗\u001b[39m      Arabidopsis thaliana                     PRJEB62038                              \u001b[0m\n",
      "\u001b[0mASM3692697v1         NCBI     GCA_036926975.1     3702     \u001b[31m✗\u001b[39m      Arabidopsis thaliana                     PRJEB62038                              \u001b[0m\n",
      "\u001b[0mASM3692702v1         NCBI     GCA_036927025.1     3702     \u001b[31m✗\u001b[39m      Arabidopsis thaliana                     PRJEB62038                              \u001b[0m\n",
      "\u001b[0mASM3692704v1         NCBI     GCA_036927045.1     3702     \u001b[31m✗\u001b[39m      Arabidopsis thaliana                     PRJEB62038                              \u001b[0m\n",
      "\u001b[0mASM3692708v1         NCBI     GCA_036927085.1     3702     \u001b[31m✗\u001b[39m      Arabidopsis thaliana                     PRJEB62038                              \u001b[0m\n",
      "\u001b[0mASM3692724v1         NCBI     GCA_036927245.1     3702     \u001b[31m✗\u001b[39m      Arabidopsis thaliana                     PRJEB62038                              \u001b[0m\n",
      "\u001b[0mASM3692725v1         NCBI     GCA_036927255.1     3702     \u001b[31m✗\u001b[39m      Arabidopsis thaliana                     PRJEB62038                              \u001b[0m\n",
      "\u001b[0mASM3692726v1         NCBI     GCA_036927265.1     3702     \u001b[31m✗\u001b[39m      Arabidopsis thaliana                     PRJEB62038                              \u001b[0m\n",
      "\u001b[0mASM3692727v1         NCBI     GCA_036927275.1     3702     \u001b[31m✗\u001b[39m      Arabidopsis thaliana                     PRJEB62038                              \u001b[0m\n",
      "\u001b[0mASM3692728v1         NCBI     GCA_036927285.1     3702     \u001b[31m✗\u001b[39m      Arabidopsis thaliana                     PRJEB62038                              \u001b[0m\n",
      "\u001b[0mASM3692735v1         NCBI     GCA_036927355.1     3702     \u001b[31m✗\u001b[39m      Arabidopsis thaliana                     PRJEB62038                              \u001b[0m\n",
      "\u001b[0mASM3692736v1         NCBI     GCA_036927365.1     3702     \u001b[31m✗\u001b[39m      Arabidopsis thaliana                     PRJEB62038                              \u001b[0m\n",
      "\u001b[0mASM3692737v1         NCBI     GCA_036927375.1     3702     \u001b[31m✗\u001b[39m      Arabidopsis thaliana                     PRJEB62038                              \u001b[0m\n",
      "\u001b[0mASM3692738v1         NCBI     GCA_036927385.1     3702     \u001b[31m✗\u001b[39m      Arabidopsis thaliana                     PRJEB62038                              \u001b[0m\n",
      "\u001b[0mASM3692743v1         NCBI     GCA_036927435.1     3702     \u001b[31m✗\u001b[39m      Arabidopsis thaliana                     PRJEB62038                              \u001b[0m\n",
      "\u001b[0mASM3692745v1         NCBI     GCA_036927455.1     3702     \u001b[31m✗\u001b[39m      Arabidopsis thaliana                     PRJEB62038                              \u001b[0m\n",
      "\u001b[0mASM3692747v1         NCBI     GCA_036927475.1     3702     \u001b[31m✗\u001b[39m      Arabidopsis thaliana                     PRJEB62038                              \u001b[0m\n",
      "\u001b[0mASM3692748v1         NCBI     GCA_036927485.1     3702     \u001b[31m✗\u001b[39m      Arabidopsis thaliana                     PRJEB62038                              \u001b[0m\n",
      "\u001b[0mASM3692750v1         NCBI     GCA_036927505.1     3702     \u001b[31m✗\u001b[39m      Arabidopsis thaliana                     PRJEB62038                              \u001b[0m\n",
      "\u001b[0mASM3693670v1         NCBI     GCA_036936705.1     3702     \u001b[31m✗\u001b[39m      Arabidopsis thaliana                     Chromosome Biology, MPIPZ               \u001b[0m\n",
      "\u001b[0mASM3693671v1         NCBI     GCA_036936715.1     3702     \u001b[31m✗\u001b[39m      Arabidopsis thaliana                     Chromosome Biology, MPIPZ               \u001b[0m\n",
      "\u001b[0mASM3693684v1         NCBI     GCA_036936845.1     3702     \u001b[31m✗\u001b[39m      Arabidopsis thaliana                     Chromosome Biology, MPIPZ               \u001b[0m\n",
      "\u001b[0mASM3693688v1         NCBI     GCA_036936885.1     3702     \u001b[31m✗\u001b[39m      Arabidopsis thaliana                     Chromosome Biology, MPIPZ               \u001b[0m\n",
      "\u001b[0mASM3693689v1         NCBI     GCA_036936895.1     3702     \u001b[31m✗\u001b[39m      Arabidopsis thaliana                     Chromosome Biology, MPIPZ               \u001b[0m\n",
      "\u001b[0mASM3693690v1         NCBI     GCA_036936905.1     3702     \u001b[31m✗\u001b[39m      Arabidopsis thaliana                     Chromosome Biology, MPIPZ               \u001b[0m\n",
      "\u001b[0mASM3693691v1         NCBI     GCA_036936915.1     3702     \u001b[31m✗\u001b[39m      Arabidopsis thaliana                     Chromosome Biology, MPIPZ               \u001b[0m\n",
      "\u001b[0mASM3693694v1         NCBI     GCA_036936945.1     3702     \u001b[31m✗\u001b[39m      Arabidopsis thaliana                     Chromosome Biology, MPIPZ               \u001b[0m\n",
      "\u001b[0mASM3693695v1         NCBI     GCA_036936955.1     3702     \u001b[31m✗\u001b[39m      Arabidopsis thaliana                     Chromosome Biology, MPIPZ               \u001b[0m\n",
      "\u001b[0mASM3693700v1         NCBI     GCA_036937005.1     3702     \u001b[31m✗\u001b[39m      Arabidopsis thaliana                     Chromosome Biology, MPIPZ               \u001b[0m\n",
      "\u001b[0mASM3693718v1         NCBI     GCA_036937185.1     3702     \u001b[31m✗\u001b[39m      Arabidopsis thaliana                     Chromosome Biology, MPIPZ               \u001b[0m\n",
      "\u001b[0mASM3693733v1         NCBI     GCA_036937335.1     3702     \u001b[31m✗\u001b[39m      Arabidopsis thaliana                     Chromosome Biology, MPIPZ               \u001b[0m\n",
      "\u001b[0mASM3693738v1         NCBI     GCA_036937385.1     3702     \u001b[31m✗\u001b[39m      Arabidopsis thaliana                     Chromosome Biology, MPIPZ               \u001b[0m\n",
      "\u001b[0mASM3693745v1         NCBI     GCA_036937455.1     3702     \u001b[31m✗\u001b[39m      Arabidopsis thaliana                     Chromosome Biology, MPIPZ               \u001b[0m\n",
      "\u001b[0mASM3693746v1         NCBI     GCA_036937465.1     3702     \u001b[31m✗\u001b[39m      Arabidopsis thaliana                     Chromosome Biology, MPIPZ               \u001b[0m\n",
      "\u001b[0mASM3693747v1         NCBI     GCA_036937475.1     3702     \u001b[31m✗\u001b[39m      Arabidopsis thaliana                     Chromosome Biology, MPIPZ               \u001b[0m\n",
      "\u001b[0mASM3693750v1         NCBI     GCA_036937505.1     3702     \u001b[31m✗\u001b[39m      Arabidopsis thaliana                     Chromosome Biology, MPIPZ               \u001b[0m\n",
      "\u001b[0mASM3693751v1         NCBI     GCA_036937515.1     3702     \u001b[31m✗\u001b[39m      Arabidopsis thaliana                     Chromosome Biology, MPIPZ               \u001b[0m\n",
      "\u001b[0mASM3693780v1         NCBI     GCA_036937805.1     3702     \u001b[31m✗\u001b[39m      Arabidopsis thaliana                     Chromosome Biology, MPIPZ               \u001b[0m\n",
      "\u001b[0mASM3693781v1         NCBI     GCA_036937815.1     3702     \u001b[31m✗\u001b[39m      Arabidopsis thaliana                     Chromosome Biology, MPIPZ               \u001b[0m\n",
      "\u001b[0mASM3693798v1         NCBI     GCA_036937985.1     3702     \u001b[31m✗\u001b[39m      Arabidopsis thaliana                     Chromosome Biology, MPIPZ               \u001b[0m\n",
      "\u001b[0mASM3693878v1         NCBI     GCA_036938785.1     3702     \u001b[31m✗\u001b[39m      Arabidopsis thaliana                     Chromosome Biology, MPIPZ               \u001b[0m\n",
      "\u001b[0mASM3693999v1         NCBI     GCA_036939995.1     3702     \u001b[31m✗\u001b[39m      Arabidopsis thaliana                     Chromosome Biology, MPIPZ               \u001b[0m\n",
      "\u001b[0mASM3694030v1         NCBI     GCA_036940305.1     3702     \u001b[31m✗\u001b[39m      Arabidopsis thaliana                     Chromosome Biology, MPIPZ               \u001b[0m\n",
      "\u001b[0mASM3694033v1         NCBI     GCA_036940335.1     3702     \u001b[31m✗\u001b[39m      Arabidopsis thaliana                     Chromosome Biology, MPIPZ               \u001b[0m\n",
      "\u001b[0mASM3694040v1         NCBI     GCA_036940405.1     3702     \u001b[31m✗\u001b[39m      Arabidopsis thaliana                     Chromosome Biology, MPIPZ               \u001b[0m\n",
      "\u001b[0mASM3694041v1         NCBI     GCA_036940415.1     3702     \u001b[31m✗\u001b[39m      Arabidopsis thaliana                     Chromosome Biology, MPIPZ               \u001b[0m\n",
      "\u001b[0mASM3694060v1         NCBI     GCA_036940605.1     3702     \u001b[31m✗\u001b[39m      Arabidopsis thaliana                     Chromosome Biology, MPIPZ               \u001b[0m\n",
      "\u001b[0mASM3694061v1         NCBI     GCA_036940615.1     3702     \u001b[31m✗\u001b[39m      Arabidopsis thaliana                     Chromosome Biology, MPIPZ               \u001b[0m\n",
      "\u001b[0mASM3694062v1         NCBI     GCA_036940625.1     3702     \u001b[31m✗\u001b[39m      Arabidopsis thaliana                     Chromosome Biology, MPIPZ               \u001b[0m\n",
      "\u001b[0mASM3694063v1         NCBI     GCA_036940635.1     3702     \u001b[31m✗\u001b[39m      Arabidopsis thaliana                     Chromosome Biology, MPIPZ               \u001b[0m\n",
      "\u001b[0mASM3694064v1         NCBI     GCA_036940645.1     3702     \u001b[31m✗\u001b[39m      Arabidopsis thaliana                     Chromosome Biology, MPIPZ               \u001b[0m\n",
      "\u001b[0mASM3694071v1         NCBI     GCA_036940715.1     3702     \u001b[31m✗\u001b[39m      Arabidopsis thaliana                     Chromosome Biology, MPIPZ               \u001b[0m\n",
      "\u001b[0mASM3694082v1         NCBI     GCA_036940825.1     3702     \u001b[31m✗\u001b[39m      Arabidopsis thaliana                     Chromosome Biology, MPIPZ               \u001b[0m\n",
      "\u001b[0mASM3694099v1         NCBI     GCA_036940995.1     3702     \u001b[31m✗\u001b[39m      Arabidopsis thaliana                     Chromosome Biology, MPIPZ               \u001b[0m\n",
      "\u001b[0mASM3694116v1         NCBI     GCA_036941165.1     3702     \u001b[31m✗\u001b[39m      Arabidopsis thaliana                     Chromosome Biology, MPIPZ               \u001b[0m\n",
      "\u001b[0mASM3694129v1         NCBI     GCA_036941295.1     3702     \u001b[31m✗\u001b[39m      Arabidopsis thaliana                     Chromosome Biology, MPIPZ               \u001b[0m\n",
      "\u001b[0mASM3694146v1         NCBI     GCA_036941465.1     3702     \u001b[31m✗\u001b[39m      Arabidopsis thaliana                     Chromosome Biology, MPIPZ               \u001b[0m\n",
      "\u001b[0mASM3694163v1         NCBI     GCA_036941635.1     3702     \u001b[31m✗\u001b[39m      Arabidopsis thaliana                     Chromosome Biology, MPIPZ               \u001b[0m\n",
      "\u001b[0mASM3694178v1         NCBI     GCA_036941785.1     3702     \u001b[31m✗\u001b[39m      Arabidopsis thaliana                     Chromosome Biology, MPIPZ               \u001b[0m\n",
      "\u001b[0mASM3694191v1         NCBI     GCA_036941915.1     3702     \u001b[31m✗\u001b[39m      Arabidopsis thaliana                     Chromosome Biology, MPIPZ               \u001b[0m\n",
      "\u001b[0mASM3694198v1         NCBI     GCA_036941985.1     3702     \u001b[31m✗\u001b[39m      Arabidopsis thaliana                     Chromosome Biology, MPIPZ               \u001b[0m\n",
      "\u001b[0mASM3694207v1         NCBI     GCA_036942075.1     3702     \u001b[31m✗\u001b[39m      Arabidopsis thaliana                     Chromosome Biology, MPIPZ               \u001b[0m\n",
      "\u001b[0mASM3694240v1         NCBI     GCA_036942405.1     3702     \u001b[31m✗\u001b[39m      Arabidopsis thaliana                     Chromosome Biology, MPIPZ               \u001b[0m\n",
      "\u001b[0mASM3694243v1         NCBI     GCA_036942435.1     3702     \u001b[31m✗\u001b[39m      Arabidopsis thaliana                     Chromosome Biology, MPIPZ               \u001b[0m\n",
      "\u001b[0mASM3694244v1         NCBI     GCA_036942445.1     3702     \u001b[31m✗\u001b[39m      Arabidopsis thaliana                     Chromosome Biology, MPIPZ               \u001b[0m\n",
      "\u001b[0mASM3694257v1         NCBI     GCA_036942575.1     3702     \u001b[31m✗\u001b[39m      Arabidopsis thaliana                     Chromosome Biology, MPIPZ               \u001b[0m\n",
      "\u001b[0mASM3694296v1         NCBI     GCA_036942965.1     3702     \u001b[31m✗\u001b[39m      Arabidopsis thaliana                     Chromosome Biology, MPIPZ               \u001b[0m\n",
      "\u001b[0mASM3694297v1         NCBI     GCA_036942975.1     3702     \u001b[31m✗\u001b[39m      Arabidopsis thaliana                     Chromosome Biology, MPIPZ               \u001b[0m\n",
      "\u001b[0mIMAGED_Live_21       NCBI     GCA_043165235.1     3702     \u001b[31m✗\u001b[39m      Arabidopsis thaliana                     Salk Institute for Biological Studies   \u001b[0m\n",
      "\u001b[0mIMAGED_Live_14       NCBI     GCA_043165315.1     3702     \u001b[31m✗\u001b[39m      Arabidopsis thaliana                     Salk Institute for Biological Studies   \u001b[0m\n",
      "\u001b[0mIMAGED_Live_20       NCBI     GCA_043165325.1     3702     \u001b[31m✗\u001b[39m      Arabidopsis thaliana                     Salk Institute for Biological Studies   \u001b[0m\n",
      "\u001b[0mIMAGED_Live_23       NCBI     GCA_043165945.1     3702     \u001b[31m✗\u001b[39m      Arabidopsis thaliana                     Salk Institute for Biological Studies   \u001b[0m\n",
      "\u001b[0mCol0_oxford_assembly NCBI     GCA_900243935.1     3702     \u001b[31m✗\u001b[39m      Arabidopsis thaliana                     SALK INSTITUTE FOR BIOLOGICAL STUDIES   \u001b[0m\n",
      "\u001b[0mSAIL_oxford_assembly NCBI     GCA_900243945.1     3702     \u001b[31m✗\u001b[39m      Arabidopsis thaliana                     SALK INSTITUTE FOR BIOLOGICAL STUDIES   \u001b[0m\n",
      "\u001b[0mSALK_oxford_assembly NCBI     GCA_900243955.1     3702     \u001b[31m✗\u001b[39m      Arabidopsis thaliana                     SALK INSTITUTE FOR BIOLOGICAL STUDIES   \u001b[0m\n",
      "\u001b[0mPBfal_IT4            NCBI     GCA_900303345.1     3702     \u001b[31m✗\u001b[39m      Arabidopsis thaliana                     MPI FOR DEVELOPMENTAL BIOLOGY           \u001b[0m\n",
      "\u001b[0mONTmin_IT4           NCBI     GCA_900303355.1     3702     \u001b[31m✗\u001b[39m      Arabidopsis thaliana                     MPI FOR DEVELOPMENTAL BIOLOGY           \u001b[0m\n",
      "\u001b[0mAth.Ler-0.MPIPZ.v1.0 NCBI     GCA_900660825.1     3702     \u001b[31m✗\u001b[39m      Arabidopsis thaliana                     MAX PLANCK INSTITUTE FOR PLANT BREEDING RESEARCH\u001b[0m\n",
      "\u001b[0mArabidopsis_thaliana_An-1_chrom NCBI     GCA_902460265.3     3702     \u001b[31m✗\u001b[39m      Arabidopsis thaliana                     MAX PLANCK INSTITUTE FOR PLANT BREEDING RESEARCH\u001b[0m\n",
      "\u001b[0mArabidopsis_thaliana_Cvi-0 NCBI     GCA_902460275.1     3702     \u001b[31m✗\u001b[39m      Arabidopsis thaliana                     MAX PLANCK INSTITUTE FOR PLANT BREEDING RESEARCH\u001b[0m\n",
      "\u001b[0mArabidopsis_thaliana_Ler NCBI     GCA_902460285.1     3702     \u001b[31m✗\u001b[39m      Arabidopsis thaliana                     MAX PLANCK INSTITUTE FOR PLANT BREEDING RESEARCH\u001b[0m\n",
      "\u001b[0mArabidopsis_thaliana_Sha NCBI     GCA_902460295.1     3702     \u001b[31m✗\u001b[39m      Arabidopsis thaliana                     MAX PLANCK INSTITUTE FOR PLANT BREEDING RESEARCH\u001b[0m\n",
      "\u001b[0mArabidopsis_thaliana_Kyo NCBI     GCA_902460305.1     3702     \u001b[31m✗\u001b[39m      Arabidopsis thaliana                     MAX PLANCK INSTITUTE FOR PLANT BREEDING RESEARCH\u001b[0m\n",
      "\u001b[0mArabidopsis_thaliana_Eri-1 NCBI     GCA_902460315.1     3702     \u001b[31m✗\u001b[39m      Arabidopsis thaliana                     MAX PLANCK INSTITUTE FOR PLANT BREEDING RESEARCH\u001b[0m\n",
      "\u001b[0maraThaAn1v1          NCBI     GCA_902651935.1     3702     \u001b[32m✓\u001b[39m      Arabidopsis thaliana                     MAX PLANCK INSTITUTE FOR PLANT BREEDING RESEARCH\u001b[0m\n",
      "\u001b[0maraThaC24v1          NCBI     GCA_902705455.1     3702     \u001b[32m✓\u001b[39m      Arabidopsis thaliana                     MAX PLANCK INSTITUTE FOR PLANT BREEDING RESEARCH\u001b[0m\n",
      "\u001b[0mAT6909.Col-0.PacBio  NCBI     GCA_902825305.1     3702     \u001b[31m✗\u001b[39m      Arabidopsis thaliana                     MAX PLANCK INSTITUTE FOR DEVELOPMENTAL BIOLOGY\u001b[0m\n",
      "\u001b[0mAT7213.Ler-0.PacBio  NCBI     GCA_903064275.1     3702     \u001b[31m✗\u001b[39m      Arabidopsis thaliana                     MAX PLANCK INSTITUTE FOR DEVELOPMENTAL BIOLOGY\u001b[0m\n",
      "\u001b[0mAT1741.KBS-Mac-74.PacBio NCBI     GCA_903064285.1     3702     \u001b[31m✗\u001b[39m      Arabidopsis thaliana                     MAX PLANCK INSTITUTE FOR DEVELOPMENTAL BIOLOGY\u001b[0m\n",
      "\u001b[0mAT5784.Ty-1.PacBio   NCBI     GCA_903064295.1     3702     \u001b[31m✗\u001b[39m      Arabidopsis thaliana                     MAX PLANCK INSTITUTE FOR DEVELOPMENTAL BIOLOGY\u001b[0m\n",
      "\u001b[0mAT6911.Cvi-0.contigs NCBI     GCA_903064315.1     3702     \u001b[31m✗\u001b[39m      Arabidopsis thaliana                     MAX PLANCK INSTITUTE FOR DEVELOPMENTAL BIOLOGY\u001b[0m\n",
      "\u001b[0mAT7186.Kn-0.PacBio   NCBI     GCA_903064325.1     3702     \u001b[31m✗\u001b[39m      Arabidopsis thaliana                     MAX PLANCK INSTITUTE FOR DEVELOPMENTAL BIOLOGY\u001b[0m\n",
      "\u001b[0mAT9943.Cdm-0.scaffold NCBI     GCA_904420315.1     3702     \u001b[32m✓\u001b[39m      Arabidopsis thaliana                     MAX-PLANCK INSTITUTE FOR DEVELOPMENTAL BIOLOGY\u001b[0m\n",
      "\u001b[0mCol-0_GKat-wt        NCBI     GCA_905067165.1     3702     \u001b[31m✗\u001b[39m      Arabidopsis thaliana                     CENTER FOR BIOTECHNOLOGY, BIELEFELD UNIVERSITY\u001b[0m\n",
      "\u001b[0mEvry.Col-0           NCBI     GCA_910573875.1     3702     \u001b[31m✗\u001b[39m      Arabidopsis thaliana                     INRAE                                   \u001b[0m\n",
      "\u001b[0mEvry.Ler-1           NCBI     GCA_910574415.1     3702     \u001b[31m✗\u001b[39m      Arabidopsis thaliana                     INRAE                                   \u001b[0m\n",
      "\u001b[0mArabidopsis          NCBI     GCA_927323615.1     3702     \u001b[31m✗\u001b[39m      Arabidopsis thaliana                     Keygene N.V.                            \u001b[0m\n",
      "\u001b[0mddAraThal4.1         NCBI     GCA_933208065.1     3702     \u001b[31m✗\u001b[39m      Arabidopsis thaliana                     WELLCOME SANGER INSTITUTE               \u001b[0m\n",
      "\u001b[0mddAraThal4.1_alternate_haplotype NCBI     GCA_933208075.1     3702     \u001b[31m✗\u001b[39m      Arabidopsis thaliana                     WELLCOME SANGER INSTITUTE               \u001b[0m\n",
      "\u001b[0mAUZE-A-5.PacbioHiFiAssembly NCBI     GCA_946402385.1     3702     \u001b[31m✗\u001b[39m      Arabidopsis thaliana                     max planck institute for biology tuebingen\u001b[0m\n",
      "\u001b[0mFERR-A-8.PacbioHiFiAssembly NCBI     GCA_946403025.1     3702     \u001b[31m✗\u001b[39m      Arabidopsis thaliana                     max planck institute for biology tuebingen\u001b[0m\n",
      "\u001b[0mBELC-C-10.PacbioHiFiAssembly NCBI     GCA_946403525.1     3702     \u001b[31m✗\u001b[39m      Arabidopsis thaliana                     max planck institute for biology tuebingen\u001b[0m\n",
      "\u001b[0mANGE-B-10.PacbioHiFiAssembly NCBI     GCA_946404075.1     3702     \u001b[31m✗\u001b[39m      Arabidopsis thaliana                     max planck institute for biology tuebingen\u001b[0m\n",
      "\u001b[0mBARA-C-5.PacbioHiFiAssembly NCBI     GCA_946404385.1     3702     \u001b[31m✗\u001b[39m      Arabidopsis thaliana                     max planck institute for biology tuebingen\u001b[0m\n",
      "\u001b[0mIP-San-9.PacbioHiFiAssembly NCBI     GCA_946404515.1     3702     \u001b[31m✗\u001b[39m      Arabidopsis thaliana                     max planck institute for biology tuebingen\u001b[0m\n",
      "\u001b[0mBANI-C-1.PacbioHiFiAssembly NCBI     GCA_946404995.1     3702     \u001b[31m✗\u001b[39m      Arabidopsis thaliana                     max planck institute for biology tuebingen\u001b[0m\n",
      "\u001b[0mIP-Met-6.PacbioHiFiAssembly NCBI     GCA_946405265.1     3702     \u001b[31m✗\u001b[39m      Arabidopsis thaliana                     max planck institute for biology tuebingen\u001b[0m\n",
      "\u001b[0mFERR-A-12.PacbioHiFiAssembly NCBI     GCA_946405525.1     3702     \u001b[31m✗\u001b[39m      Arabidopsis thaliana                     max planck institute for biology tuebingen\u001b[0m\n",
      "\u001b[0mIP-Evs-12.PacbioHiFiAssembly NCBI     GCA_946405545.1     3702     \u001b[31m✗\u001b[39m      Arabidopsis thaliana                     max planck institute for biology tuebingen\u001b[0m\n",
      "\u001b[0mIP-Med-0.PacbioHiFiAssembly NCBI     GCA_946405725.1     3702     \u001b[31m✗\u001b[39m      Arabidopsis thaliana                     max planck institute for biology tuebingen\u001b[0m\n",
      "\u001b[0mMONTM-B-16.PacbioHiFiAssembly NCBI     GCA_946405905.1     3702     \u001b[31m✗\u001b[39m      Arabidopsis thaliana                     max planck institute for biology tuebingen\u001b[0m\n",
      "\u001b[0mIP-Alo-0.9506.PacbioHiFiAssembly NCBI     GCA_946406325.1     3702     \u001b[31m✗\u001b[39m      Arabidopsis thaliana                     max planck institute for biology tuebingen\u001b[0m\n",
      "\u001b[0mLer-0.7213.PacbioHiFiAssembly NCBI     GCA_946406525.1     3702     \u001b[31m✗\u001b[39m      Arabidopsis thaliana                     max planck institute for biology tuebingen\u001b[0m\n",
      "\u001b[0mBANI-C-12.PacbioHiFiAssembly NCBI     GCA_946406595.1     3702     \u001b[31m✗\u001b[39m      Arabidopsis thaliana                     max planck institute for biology tuebingen\u001b[0m\n",
      "\u001b[0mIP-Hom-4.9546.PacbioHiFiAssembly NCBI     GCA_946406625.1     3702     \u001b[31m✗\u001b[39m      Arabidopsis thaliana                     max planck institute for biology tuebingen\u001b[0m\n",
      "\u001b[0mBARA-C-3.PacbioHiFiAssembly NCBI     GCA_946406735.1     3702     \u001b[31m✗\u001b[39m      Arabidopsis thaliana                     max planck institute for biology tuebingen\u001b[0m\n",
      "\u001b[0mRabacal-1.22005.PacbioHiFiAssembly NCBI     GCA_946406895.1     3702     \u001b[31m✗\u001b[39m      Arabidopsis thaliana                     max planck institute for biology tuebingen\u001b[0m\n",
      "\u001b[0mCAMA-C-2.PacbioHiFiAssembly NCBI     GCA_946406975.1     3702     \u001b[31m✗\u001b[39m      Arabidopsis thaliana                     max planck institute for biology tuebingen\u001b[0m\n",
      "\u001b[0mBARC-A-17.PacbioHiFiAssembly NCBI     GCA_946407145.1     3702     \u001b[31m✗\u001b[39m      Arabidopsis thaliana                     max planck institute for biology tuebingen\u001b[0m\n",
      "\u001b[0mIP-Lor-16.PacbioHiFiAssembly NCBI     GCA_946407795.1     3702     \u001b[31m✗\u001b[39m      Arabidopsis thaliana                     max planck institute for biology tuebingen\u001b[0m\n",
      "\u001b[0mSALE-A-10.PacbioHiFiAssembly NCBI     GCA_946408365.1     3702     \u001b[31m✗\u001b[39m      Arabidopsis thaliana                     max planck institute for biology tuebingen\u001b[0m\n",
      "\u001b[0mCAMA-C-9.PacbioHiFiAssembly NCBI     GCA_946408575.1     3702     \u001b[31m✗\u001b[39m      Arabidopsis thaliana                     max planck institute for biology tuebingen\u001b[0m\n",
      "\u001b[0mBELC-C-12.PacbioHiFiAssembly NCBI     GCA_946408975.1     3702     \u001b[31m✗\u001b[39m      Arabidopsis thaliana                     max planck institute for biology tuebingen\u001b[0m\n",
      "\u001b[0mBROU-A-10.PacbioHiFiAssembly NCBI     GCA_946409395.1     3702     \u001b[31m✗\u001b[39m      Arabidopsis thaliana                     max planck institute for biology tuebingen\u001b[0m\n",
      "\u001b[0mSALE-A-17.PacbioHiFiAssembly NCBI     GCA_946409815.1     3702     \u001b[31m✗\u001b[39m      Arabidopsis thaliana                     max planck institute for biology tuebingen\u001b[0m\n",
      "\u001b[0mTanz-1.10024.PacbioHiFiAssembly NCBI     GCA_946409825.1     3702     \u001b[31m✗\u001b[39m      Arabidopsis thaliana                     max planck institute for biology tuebingen\u001b[0m\n",
      "\u001b[0mBARC-A-12.PacbioHiFiAssembly NCBI     GCA_946410165.1     3702     \u001b[31m✗\u001b[39m      Arabidopsis thaliana                     max planck institute for biology tuebingen\u001b[0m\n",
      "\u001b[0mIP-Alo-19.PacbioHiFiAssembly NCBI     GCA_946410485.1     3702     \u001b[31m✗\u001b[39m      Arabidopsis thaliana                     max planck institute for biology tuebingen\u001b[0m\n",
      "\u001b[0mIP-Cas-0.9831.PacbioHiFiAssembly NCBI     GCA_946411375.1     3702     \u001b[31m✗\u001b[39m      Arabidopsis thaliana                     max planck institute for biology tuebingen\u001b[0m\n",
      "\u001b[0mIP-Hom-0.PacbioHiFiAssembly NCBI     GCA_946411425.1     3702     \u001b[31m✗\u001b[39m      Arabidopsis thaliana                     max planck institute for biology tuebingen\u001b[0m\n",
      "\u001b[0mMERE-A-13.PacbioHiFiAssembly NCBI     GCA_946411655.1     3702     \u001b[31m✗\u001b[39m      Arabidopsis thaliana                     max planck institute for biology tuebingen\u001b[0m\n",
      "\u001b[0mIP-Mos-9.PacbioHiFiAssembly NCBI     GCA_946411805.1     3702     \u001b[31m✗\u001b[39m      Arabidopsis thaliana                     max planck institute for biology tuebingen\u001b[0m\n",
      "\u001b[0mIP-Mos-5.PacbioHiFiAssembly NCBI     GCA_946411885.1     3702     \u001b[31m✗\u001b[39m      Arabidopsis thaliana                     max planck institute for biology tuebingen\u001b[0m\n",
      "\u001b[0mIP-Hum-4.PacbioHiFiAssembly NCBI     GCA_946412005.1     3702     \u001b[31m✗\u001b[39m      Arabidopsis thaliana                     max planck institute for biology tuebingen\u001b[0m\n",
      "\u001b[0mGAIL-B-11.PacbioHiFiAssembly NCBI     GCA_946412065.1     3702     \u001b[31m✗\u001b[39m      Arabidopsis thaliana                     max planck institute for biology tuebingen\u001b[0m\n",
      "\u001b[0mIP-Mdc-14.PacbioHiFiAssembly NCBI     GCA_946412225.1     3702     \u001b[31m✗\u001b[39m      Arabidopsis thaliana                     max planck institute for biology tuebingen\u001b[0m\n",
      "\u001b[0mIP-Hum-2.9549.PacbioHiFiAssembly NCBI     GCA_946413285.1     3702     \u001b[31m✗\u001b[39m      Arabidopsis thaliana                     max planck institute for biology tuebingen\u001b[0m\n",
      "\u001b[0mIP-Med-3.PacbioHiFiAssembly NCBI     GCA_946413305.1     3702     \u001b[31m✗\u001b[39m      Arabidopsis thaliana                     max planck institute for biology tuebingen\u001b[0m\n",
      "\u001b[0mPREI-A-14.PacbioHiFiAssembly NCBI     GCA_946413405.1     3702     \u001b[31m✗\u001b[39m      Arabidopsis thaliana                     max planck institute for biology tuebingen\u001b[0m\n",
      "\u001b[0mIP-Sln-22.PacbioHiFiAssembly NCBI     GCA_946413935.1     3702     \u001b[31m✗\u001b[39m      Arabidopsis thaliana                     max planck institute for biology tuebingen\u001b[0m\n",
      "\u001b[0mCvi-0.6911.PacbioHiFiAssembly NCBI     GCA_946414125.1     3702     \u001b[31m✗\u001b[39m      Arabidopsis thaliana                     max planck institute for biology tuebingen\u001b[0m\n",
      "\u001b[0mIP-Cat-0.9832.PacbioHiFiAssembly NCBI     GCA_946414305.1     3702     \u001b[31m✗\u001b[39m      Arabidopsis thaliana                     max planck institute for biology tuebingen\u001b[0m\n",
      "\u001b[0mANGE-B-2.PacbioHiFiAssembly NCBI     GCA_946415005.1     3702     \u001b[31m✗\u001b[39m      Arabidopsis thaliana                     max planck institute for biology tuebingen\u001b[0m\n",
      "\u001b[0mIP-Evs-0.9845.PacbioHiFiAssembly NCBI     GCA_946415165.1     3702     \u001b[31m✗\u001b[39m      Arabidopsis thaliana                     max planck institute for biology tuebingen\u001b[0m\n",
      "\u001b[0mIP-Cas-6.PacbioHiFiAssembly NCBI     GCA_946415445.1     3702     \u001b[31m✗\u001b[39m      Arabidopsis thaliana                     max planck institute for biology tuebingen\u001b[0m\n",
      "\u001b[0mMONTM-B-7.PacbioHiFiAssembly NCBI     GCA_946415625.1     3702     \u001b[31m✗\u001b[39m      Arabidopsis thaliana                     max planck institute for biology tuebingen\u001b[0m\n",
      "\u001b[0mLACR-C-14.PacbioHiFiAssembly NCBI     GCA_946415655.1     3702     \u001b[31m✗\u001b[39m      Arabidopsis thaliana                     max planck institute for biology tuebingen\u001b[0m\n",
      "\u001b[0mEy15-2.9994.PacbioHiFiAssembly NCBI     GCA_946499665.1     3702     \u001b[31m✗\u001b[39m      Arabidopsis thaliana                     max planck institute for developmental biology\u001b[0m\n",
      "\u001b[0mCol-0.6909.PacbioHiFiAssembly NCBI     GCA_946499705.1     3702     \u001b[31m✗\u001b[39m      Arabidopsis thaliana                     max planck institute for developmental biology\u001b[0m\n",
      "\u001b[0m9336                 NCBI     GCA_949796375.1     3702     \u001b[31m✗\u001b[39m      Arabidopsis thaliana                     max planck institute for biology        \u001b[0m\n",
      "\u001b[0m9852                 NCBI     GCA_949796385.1     3702     \u001b[31m✗\u001b[39m      Arabidopsis thaliana                     max planck institute for biology        \u001b[0m\n",
      "\u001b[0m9762                 NCBI     GCA_949796415.1     3702     \u001b[31m✗\u001b[39m      Arabidopsis thaliana                     max planck institute for biology        \u001b[0m\n",
      "\u001b[0m7143                 NCBI     GCA_949796455.1     3702     \u001b[31m✗\u001b[39m      Arabidopsis thaliana                     max planck institute for biology        \u001b[0m\n",
      "\u001b[0m9883                 NCBI     GCA_949796475.1     3702     \u001b[31m✗\u001b[39m      Arabidopsis thaliana                     max planck institute for biology        \u001b[0m\n",
      "\u001b[0m9900                 NCBI     GCA_949796485.1     3702     \u001b[31m✗\u001b[39m      Arabidopsis thaliana                     max planck institute for biology        \u001b[0m\n",
      "\u001b[0m6923                 NCBI     GCA_949796525.1     3702     \u001b[31m✗\u001b[39m      Arabidopsis thaliana                     max planck institute for biology        \u001b[0m\n",
      "\u001b[0m9806                 NCBI     GCA_949796605.1     3702     \u001b[31m✗\u001b[39m      Arabidopsis thaliana                     max planck institute for biology        \u001b[0m\n",
      "\u001b[0m8285                 NCBI     GCA_949796635.1     3702     \u001b[31m✗\u001b[39m      Arabidopsis thaliana                     max planck institute for biology        \u001b[0m\n",
      "\u001b[0m6137                 NCBI     GCA_949796645.1     3702     \u001b[31m✗\u001b[39m      Arabidopsis thaliana                     max planck institute for biology        \u001b[0m\n",
      "\u001b[0m9744                 NCBI     GCA_949796655.1     3702     \u001b[31m✗\u001b[39m      Arabidopsis thaliana                     max planck institute for biology        \u001b[0m\n",
      "\u001b[0m9879                 NCBI     GCA_949796665.1     3702     \u001b[31m✗\u001b[39m      Arabidopsis thaliana                     max planck institute for biology        \u001b[0m\n",
      "\u001b[0m9503                 NCBI     GCA_949796705.1     3702     \u001b[31m✗\u001b[39m      Arabidopsis thaliana                     max planck institute for biology        \u001b[0m\n",
      "\u001b[0m9830                 NCBI     GCA_949796715.1     3702     \u001b[31m✗\u001b[39m      Arabidopsis thaliana                     max planck institute for biology        \u001b[0m\n",
      "\u001b[0m9847                 NCBI     GCA_949796755.1     3702     \u001b[31m✗\u001b[39m      Arabidopsis thaliana                     max planck institute for biology        \u001b[0m\n",
      "\u001b[0mCol.TEmutant         NCBI     GCA_963990585.1     3702     \u001b[31m✗\u001b[39m      Arabidopsis thaliana                     Huazhong Agricultural University        \u001b[0m\n",
      "\u001b[0mPent-46.2212.PacbioHiFiAssembly NCBI     GCA_964057255.1     3702     \u001b[31m✗\u001b[39m      Arabidopsis thaliana                     max planck institute for biology tuebingen\u001b[0m\n",
      "\u001b[0mLI-EF-011.685.PacbioHiFiAssembly NCBI     GCA_964057265.1     3702     \u001b[31m✗\u001b[39m      Arabidopsis thaliana                     max planck institute for biology tuebingen\u001b[0m\n",
      "\u001b[0m14INRCT07.PacbioHiFiAssembly NCBI     GCA_964057275.1     3702     \u001b[31m✗\u001b[39m      Arabidopsis thaliana                     max planck institute for biology tuebingen\u001b[0m\n",
      "\u001b[0mArabidopsis_thaliana_Ag-0 NCBI     GCA_964248535.1     3702     \u001b[31m✗\u001b[39m      Arabidopsis thaliana                     Institut des Sciences des Plantes - Paris-Saclay (France)\u001b[0m\n",
      "\u001b[0mATRun1_SA_canu_assembly NCBI     GCA_964264635.1     3702     \u001b[31m✗\u001b[39m      Arabidopsis thaliana                     Earlham Institute                       \u001b[0m\n",
      "\u001b[0mATRun2_miniasm_assembly NCBI     GCA_964264645.1     3702     \u001b[31m✗\u001b[39m      Arabidopsis thaliana                     Earlham Institute                       \u001b[0m\n",
      "\u001b[0mCol0_assembly        NCBI     GCA_964341225.1     3702     \u001b[31m✗\u001b[39m      Arabidopsis thaliana                     University College London               \u001b[0m\n",
      "\u001b[0mCan0_assembly        NCBI     GCA_964341275.1     3702     \u001b[31m✗\u001b[39m      Arabidopsis thaliana                     University College London               \u001b[0m\n",
      "\u001b[0mMONF-A-1.22045.PacbioHiFiAssembly NCBI     GCA_965117475.1     3702     \u001b[31m✗\u001b[39m      Arabidopsis thaliana                     max planck institute for biology tuebingen\u001b[0m\n",
      "\u001b[0mRAYR-A-17.22055.PacbioHiFiAssembly NCBI     GCA_965117485.1     3702     \u001b[31m✗\u001b[39m      Arabidopsis thaliana                     max planck institute for biology tuebingen\u001b[0m\n",
      "\u001b[0mLANT-B-1.22039.PacbioHiFiAssembly NCBI     GCA_965117495.1     3702     \u001b[31m✗\u001b[39m      Arabidopsis thaliana                     max planck institute for biology tuebingen\u001b[0m\n",
      "\u001b[0mLUZE-A-14.22042.PacbioHiFiAssembly NCBI     GCA_965117505.1     3702     \u001b[31m✗\u001b[39m      Arabidopsis thaliana                     max planck institute for biology tuebingen\u001b[0m\n",
      "\u001b[0mMONT-B-14.22048.PacbioHiFiAssembly NCBI     GCA_965117515.1     3702     \u001b[31m✗\u001b[39m      Arabidopsis thaliana                     max planck institute for biology tuebingen\u001b[0m\n",
      "\u001b[0mNAUV-B-7.22052.PacbioHiFiAssembly NCBI     GCA_965117525.1     3702     \u001b[31m✗\u001b[39m      Arabidopsis thaliana                     max planck institute for biology tuebingen\u001b[0m\n",
      "\u001b[0mLACR-C-4.22038.PacbioHiFiAssembly NCBI     GCA_965117535.1     3702     \u001b[31m✗\u001b[39m      Arabidopsis thaliana                     max planck institute for biology tuebingen\u001b[0m\n",
      "\u001b[0mBELL-A-1.22021.PacbioHiFiAssembly NCBI     GCA_965117545.1     3702     \u001b[31m✗\u001b[39m      Arabidopsis thaliana                     max planck institute for biology tuebingen\u001b[0m\n",
      "\u001b[0mPREI-A-9.22054.PacbioHiFiAssembly NCBI     GCA_965117555.1     3702     \u001b[31m✗\u001b[39m      Arabidopsis thaliana                     max planck institute for biology tuebingen\u001b[0m\n",
      "\u001b[0mMERE-A-7.22044.PacbioHiFiAssembly NCBI     GCA_965117565.1     3702     \u001b[31m✗\u001b[39m      Arabidopsis thaliana                     max planck institute for biology tuebingen\u001b[0m\n",
      "\u001b[0mLANT-B-10.22040.PacbioHiFiAssembly NCBI     GCA_965117575.1     3702     \u001b[31m✗\u001b[39m      Arabidopsis thaliana                     max planck institute for biology tuebingen\u001b[0m\n",
      "\u001b[0mLUZE-A-12.22041.PacbioHiFiAssembly NCBI     GCA_965117585.1     3702     \u001b[31m✗\u001b[39m      Arabidopsis thaliana                     max planck institute for biology tuebingen\u001b[0m\n",
      "\u001b[0mMONF-A-14.22046.PacbioHiFiAssembly NCBI     GCA_965117595.1     3702     \u001b[31m✗\u001b[39m      Arabidopsis thaliana                     max planck institute for biology tuebingen\u001b[0m\n",
      "\u001b[0mRAYR-A-9.22056.PacbioHiFiAssembly NCBI     GCA_965117605.1     3702     \u001b[31m✗\u001b[39m      Arabidopsis thaliana                     max planck institute for biology tuebingen\u001b[0m\n",
      "\u001b[0mJUZE-A-3.22036.PacbioHiFiAssembly NCBI     GCA_965117615.1     3702     \u001b[31m✗\u001b[39m      Arabidopsis thaliana                     max planck institute for biology tuebingen\u001b[0m\n",
      "\u001b[0mBOULO-A-16.22024.PacbioHiFiAssembly NCBI     GCA_965117625.1     3702     \u001b[31m✗\u001b[39m      Arabidopsis thaliana                     max planck institute for biology tuebingen\u001b[0m\n",
      "\u001b[0mBELL-A-7.22022.PacbioHiFiAssembly NCBI     GCA_965117635.1     3702     \u001b[31m✗\u001b[39m      Arabidopsis thaliana                     max planck institute for biology tuebingen\u001b[0m\n",
      "\u001b[0mBROU-A-2.22026.PacbioHiFiAssembly NCBI     GCA_965117645.1     3702     \u001b[31m✗\u001b[39m      Arabidopsis thaliana                     max planck institute for biology tuebingen\u001b[0m\n",
      "\u001b[0mNAUV-B-14.22051.PacbioHiFiAssembly NCBI     GCA_965117655.1     3702     \u001b[31m✗\u001b[39m      Arabidopsis thaliana                     max planck institute for biology tuebingen\u001b[0m\n",
      "\u001b[0mJUZE-A-2.22035.PacbioHiFiAssembly NCBI     GCA_965117665.1     3702     \u001b[31m✗\u001b[39m      Arabidopsis thaliana                     max planck institute for biology tuebingen\u001b[0m\n",
      "\u001b[0mBOULO-A-1.22023.PacbioHiFiAssembly NCBI     GCA_965117675.1     3702     \u001b[31m✗\u001b[39m      Arabidopsis thaliana                     max planck institute for biology tuebingen\u001b[0m\n",
      "\u001b[0mCARL-A-16.22030.PacbioHiFiAssembly NCBI     GCA_965117685.1     3702     \u001b[31m✗\u001b[39m      Arabidopsis thaliana                     max planck institute for biology tuebingen\u001b[0m\n",
      "\u001b[0mCARL-A-10.22029.PacbioHiFiAssembly NCBI     GCA_965117695.1     3702     \u001b[31m✗\u001b[39m      Arabidopsis thaliana                     max planck institute for biology tuebingen\u001b[0m\n",
      "\u001b[0mMONT-B-12.22047.PacbioHiFiAssembly NCBI     GCA_965117705.1     3702     \u001b[31m✗\u001b[39m      Arabidopsis thaliana                     max planck institute for biology tuebingen\u001b[0m\n",
      "\u001b[0mGAIL-B-9.22034.PacbioHiFiAssembly NCBI     GCA_965117715.1     3702     \u001b[31m✗\u001b[39m      Arabidopsis thaliana                     max planck institute for biology tuebingen\u001b[0m\n",
      "\u001b[0mAUZE-A-11.22011.PacbioHiFiAssembly NCBI     GCA_965117725.1     3702     \u001b[31m✗\u001b[39m      Arabidopsis thaliana                     max planck institute for biology tuebingen\u001b[0m\n",
      "\u001b[0m\u001b[32m ^\u001b[0m\n",
      "\u001b[0m\u001b[32m Use name for \u001b[36mgenomepy install\u001b[0m\n",
      "\u001b[0m\u001b[0m"
     ]
    }
   ],
   "source": [
    "# show available assemblies\n",
    "!genomepy search --provider NCBI {organism}"
   ]
  },
  {
   "cell_type": "code",
   "execution_count": 82,
   "metadata": {},
   "outputs": [
    {
     "name": "stdout",
     "output_type": "stream",
     "text": [
      "\u001b[1mname                 provider accession         tax_id annotation species                                  other_info                              \u001b[0m\n",
      "\u001b[0mTAIR10               Ensembl  GCA_000001735.1     3702     \u001b[32m✓\u001b[39m      Arabidopsis thaliana                     Araport11                               \u001b[0m\n",
      "\u001b[0m\u001b[32m ^\u001b[0m\n",
      "\u001b[0m\u001b[32m Use name for \u001b[36mgenomepy install\u001b[0m\n",
      "\u001b[0m\u001b[0m"
     ]
    }
   ],
   "source": [
    "# show available assemblies\n",
    "!genomepy search --provider Ensembl {organism}"
   ]
  },
  {
   "cell_type": "code",
   "execution_count": null,
   "metadata": {},
   "outputs": [],
   "source": [
    "# set the genome name\n",
    "genome_name = \"TAIR10\""
   ]
  },
  {
   "cell_type": "code",
   "execution_count": 71,
   "metadata": {},
   "outputs": [
    {
     "name": "stdout",
     "output_type": "stream",
     "text": [
      "\u001b[32m15:04:59\u001b[0m \u001b[1m|\u001b[0m \u001b[34mINFO\u001b[0m \u001b[1m|\u001b[0m Downloading genome from Ensembl. Target URL: http://ftp.ensemblgenomes.org/pub/release-60/plants/fasta/arabidopsis_thaliana/dna/Arabidopsis_thaliana.TAIR10.dna_sm.toplevel.fa.gz...\n",
      "Download: 100%|████████████████████████████| 36.7M/36.7M [00:06<00:00, 6.08MB/s]\u001b[0m\u001b[0m\n",
      "\u001b[0m\u001b[32m15:05:05\u001b[0m \u001b[1m|\u001b[0m \u001b[34mINFO\u001b[0m \u001b[1m|\u001b[0m Genome download successful, starting post processing...\n",
      "\u001b[32m15:05:06\u001b[0m \u001b[1m|\u001b[0m \u001b[34mINFO\u001b[0m \u001b[1m|\u001b[0m name: TAIR10\n",
      "\u001b[32m15:05:06\u001b[0m \u001b[1m|\u001b[0m \u001b[34mINFO\u001b[0m \u001b[1m|\u001b[0m local name: TAIR10\n",
      "\u001b[32m15:05:06\u001b[0m \u001b[1m|\u001b[0m \u001b[34mINFO\u001b[0m \u001b[1m|\u001b[0m fasta: /scratch/multiomics/nickyoungblut/star_refs/Arabidopsis_thaliana/TAIR10/TAIR10.fa\n",
      "Filtering Fasta: 1.99M lines [00:00, 3.95M lines/s]\u001b[0m\u001b[0m\n",
      "\u001b[0m\u001b[32m15:05:09\u001b[0m \u001b[1m|\u001b[0m \u001b[34mINFO\u001b[0m \u001b[1m|\u001b[0m Downloading annotation from Ensembl. Target URL: http://ftp.ensemblgenomes.org/pub/release-60/plants/gtf/arabidopsis_thaliana/Arabidopsis_thaliana.TAIR10.60.gtf.gz...\n",
      "Download: 100%|████████████████████████████| 10.7M/10.7M [00:01<00:00, 10.4MB/s]\u001b[0m\u001b[0m\n",
      "\u001b[0m\u001b[32m15:05:13\u001b[0m \u001b[1m|\u001b[0m \u001b[34mINFO\u001b[0m \u001b[1m|\u001b[0m Annotation download successful\n",
      "\u001b[0m"
     ]
    }
   ],
   "source": [
    "# download genome\n",
    "!genomepy install --provider Ensembl --annotation --genomes_dir {work_dir} {genome_name}"
   ]
  },
  {
   "cell_type": "code",
   "execution_count": 72,
   "metadata": {},
   "outputs": [
    {
     "data": {
      "text/plain": [
       "'/scratch/multiomics/nickyoungblut/star_refs/Arabidopsis_thaliana/TAIR10/TAIR10.fa'"
      ]
     },
     "execution_count": 72,
     "metadata": {},
     "output_type": "execute_result"
    }
   ],
   "source": [
    "# get genome fasta\n",
    "fasta_file = glob(f\"{work_dir}/{genome_name}/*.fa\")[0]\n",
    "fasta_file"
   ]
  },
  {
   "cell_type": "code",
   "execution_count": 73,
   "metadata": {},
   "outputs": [
    {
     "data": {
      "text/plain": [
       "'/scratch/multiomics/nickyoungblut/star_refs/Arabidopsis_thaliana/TAIR10/TAIR10.annotation.gtf'"
      ]
     },
     "execution_count": 73,
     "metadata": {},
     "output_type": "execute_result"
    }
   ],
   "source": [
    "# get gtf file\n",
    "gtf_file = glob(f\"{work_dir}/{genome_name}/*.gtf\")[0]\n",
    "gtf_file"
   ]
  },
  {
   "cell_type": "code",
   "execution_count": 74,
   "metadata": {},
   "outputs": [
    {
     "name": "stdout",
     "output_type": "stream",
     "text": [
      "Processing GTF: TAIR10.annotation.gtf\n",
      "Output GTF: /scratch/multiomics/nickyoungblut/star_refs/Arabidopsis_thaliana/Arabidopsis_thaliana/Arabidopsis_thaliana.gtf\n",
      "Total records in GTF: 888095\n",
      "Filtered 6110 records by biotype\n",
      "Filtered 0 records by tag\n",
      "-- Count of biotypes filtered --\n",
      "tRNA: 2157\n",
      "ncRNA: 1464\n",
      "miRNA: 975\n",
      "snoRNA: 861\n",
      "nontranslating_CDS: 362\n",
      "snRNA: 246\n",
      "rRNA: 45\n",
      "-- Count of biotypes kept --\n",
      "protein_coding: 1710971\n",
      "lncRNA: 21987\n",
      "----------------------------\n"
     ]
    }
   ],
   "source": [
    "# format the reference\n",
    "exe = os.path.join(script_dir, \"format-star-ref.py\")\n",
    "!{exe} --organism \"{organism}\"  --output-dir {work_dir} {gtf_file} "
   ]
  },
  {
   "cell_type": "code",
   "execution_count": 75,
   "metadata": {},
   "outputs": [
    {
     "data": {
      "text/plain": [
       "True"
      ]
     },
     "execution_count": 75,
     "metadata": {},
     "output_type": "execute_result"
    }
   ],
   "source": [
    "# set the filtered gtf file\n",
    "gtf_filt_file = os.path.join(work_dir, org_str, f\"{org_str}.gtf\")\n",
    "os.path.exists(gtf_filt_file)"
   ]
  },
  {
   "cell_type": "code",
   "execution_count": 76,
   "metadata": {},
   "outputs": [
    {
     "name": "stdout",
     "output_type": "stream",
     "text": [
      "\t/home/nickyoungblut/miniforge3/envs/asmbl/bin/STAR-avx2 --runThreadN 16 --runMode genomeGenerate --genomeDir /scratch/multiomics/nickyoungblut/star_refs/Arabidopsis_thaliana/star --genomeFastaFiles /scratch/multiomics/nickyoungblut/star_refs/Arabidopsis_thaliana/TAIR10/TAIR10.fa --sjdbGTFfile /scratch/multiomics/nickyoungblut/star_refs/Arabidopsis_thaliana/Arabidopsis_thaliana/Arabidopsis_thaliana.gtf --sjdbOverhang 100\n",
      "\tSTAR version: 2.7.11b   compiled: 2025-01-09T12:32:06+0000 :/opt/conda/conda-bld/star_1736425784849/work/source\n",
      "Feb 01 15:05:52 ..... started STAR run\n",
      "!!!!! WARNING: Could not move Log.out file from ./Log.out into /scratch/multiomics/nickyoungblut/star_refs/Arabidopsis_thaliana/star/Log.out. Will keep ./Log.out\n",
      "\n",
      "Feb 01 15:05:52 ... starting to generate Genome files\n",
      "Feb 01 15:05:53 ..... processing annotations GTF\n",
      "!!!!! WARNING: --genomeSAindexNbases 14 is too large for the genome size=119667750, which may cause seg-fault at the mapping step. Re-run genome generation with recommended --genomeSAindexNbases 12\n",
      "Feb 01 15:05:56 ... starting to sort Suffix Array. This may take a long time...\n",
      "Feb 01 15:05:56 ... sorting Suffix Array chunks and saving them to disk...\n",
      "Feb 01 15:06:06 ... loading chunks from disk, packing SA...\n",
      "Feb 01 15:06:09 ... finished generating suffix array\n",
      "Feb 01 15:06:09 ... generating Suffix Array index\n",
      "Feb 01 15:06:34 ... completed Suffix Array index\n",
      "Feb 01 15:06:34 ..... inserting junctions into the genome indices\n",
      "Feb 01 15:07:12 ... writing Genome to disk ...\n",
      "Feb 01 15:07:12 ... writing Suffix Array to disk ...\n",
      "Feb 01 15:07:13 ... writing SAindex to disk\n",
      "Feb 01 15:07:14 ..... finished successfully\n"
     ]
    }
   ],
   "source": [
    "# create the star index\n",
    "star_dir = os.path.join(work_dir, \"star\")\n",
    "os.makedirs(star_dir, exist_ok=True)\n",
    "\n",
    "!STAR --runThreadN 16 \\\n",
    "    --runMode genomeGenerate \\\n",
    "    --genomeDir {star_dir} \\\n",
    "    --genomeFastaFiles {fasta_file} \\\n",
    "    --sjdbGTFfile {gtf_filt_file} \\\n",
    "    --sjdbOverhang 100"
   ]
  },
  {
   "cell_type": "markdown",
   "metadata": {},
   "source": [
    "# Oryza sativa"
   ]
  },
  {
   "cell_type": "code",
   "execution_count": 84,
   "metadata": {},
   "outputs": [],
   "source": [
    "organism = \"Oryza sativa\""
   ]
  },
  {
   "cell_type": "code",
   "execution_count": 85,
   "metadata": {},
   "outputs": [],
   "source": [
    "# format\n",
    "org_str = organism.replace(\" \", \"_\")\n",
    "work_dir = os.path.join(base_dir, org_str)\n",
    "os.makedirs(work_dir, exist_ok=True)"
   ]
  },
  {
   "cell_type": "code",
   "execution_count": 86,
   "metadata": {},
   "outputs": [
    {
     "name": "stdout",
     "output_type": "stream",
     "text": [
      "\u001b[1mname                 provider accession         tax_id annotation species                                  other_info                              \u001b[0m\n",
      "\u001b[0mHR-12_Indica_denovo_asembly NCBI     GCA_000725085.1     4530     \u001b[32m✓\u001b[39m      Oryza sativa Indica Group                Centre for Cellular and Molecular Platforms\u001b[0m\n",
      "\u001b[0mZS97RS1              NCBI     GCA_001623345.1     4530     \u001b[32m✓\u001b[39m      Oryza sativa Indica Group                Huazhong Agricultural University        \u001b[0m\n",
      "\u001b[0mZS97RS2              NCBI     GCA_001623345.2     4530     \u001b[31m✗\u001b[39m      Oryza sativa Indica Group                Huazhong Agricultural University        \u001b[0m\n",
      "\u001b[0mMH63RS1              NCBI     GCA_001623365.1     4530     \u001b[32m✓\u001b[39m      Oryza sativa Indica Group                Huazhong Agricultural University        \u001b[0m\n",
      "\u001b[0mASM195236v2          NCBI     GCA_001952365.2     4530     \u001b[31m✗\u001b[39m      Oryza sativa aus subgroup                University of Arizona                   \u001b[0m\n",
      "\u001b[0mTetep-1.0_genome     NCBI     GCA_004348155.2     4530     \u001b[31m✗\u001b[39m      Oryza sativa                             Nanjing University,China                \u001b[0m\n",
      "\u001b[0mASM1176440v1         NCBI     GCA_011764405.1     4530     \u001b[31m✗\u001b[39m      Oryza sativa Indica Group                Breeding Informatics Research Unit, Division of Basic Research, Institute of Crop Science, NARO\u001b[0m\n",
      "\u001b[0mBuild_4.0            NCBI     GCA_000005425.2     4530     \u001b[32m✓\u001b[39m      Oryza sativa Japonica Group              International Rice Genome Sequencing Project\u001b[0m\n",
      "\u001b[0mIRGSP-1.0            NCBI     GCA_001433935.1     4530     \u001b[32m✓\u001b[39m      Oryza sativa Japonica Group              National Institute of Agrobiological Sciences\u001b[0m\n",
      "\u001b[0mASM465v1             NCBI     GCA_000004655.2     4530     \u001b[32m✓\u001b[39m      Oryza sativa Indica Group                Beijing Institute of Genomics, Chinese Academy of Sciences\u001b[0m\n",
      "\u001b[0mOrySat_Sep2003       NCBI     GCA_000149285.1     4530     \u001b[32m✓\u001b[39m      Oryza sativa Japonica Group              Beijing Genomics Institute              \u001b[0m\n",
      "\u001b[0mOrySat_Aug2009       NCBI     GCA_000164945.1     4530     \u001b[31m✗\u001b[39m      Oryza sativa Japonica Group              QTL Genomics Research Center, National Institute of Agrobiological Sciences\u001b[0m\n",
      "\u001b[0mOsat_hitom_01        NCBI     GCA_000321445.1     4530     \u001b[31m✗\u001b[39m      Oryza sativa Japonica Group              Iwate Biotechnology Research Center     \u001b[0m\n",
      "\u001b[0mASM71053v2           NCBI     GCA_000710535.2     4530     \u001b[31m✗\u001b[39m      Oryza sativa f. spontanea                Oryza Map Alignment Project (OMAP)      \u001b[0m\n",
      "\u001b[0mASM72508v2           NCBI     GCA_000725085.2     4530     \u001b[31m✗\u001b[39m      Oryza sativa Indica Group                Centre for Cellular and Molecular Platforms\u001b[0m\n",
      "\u001b[0mHEG4v1.0             NCBI     GCA_000817615.1     4530     \u001b[31m✗\u001b[39m      Oryza sativa Japonica Group              University of California, Riverside     \u001b[0m\n",
      "\u001b[0mA123v1.0             NCBI     GCA_000817635.1     4530     \u001b[31m✗\u001b[39m      Oryza sativa Japonica Group              University of California, Riverside     \u001b[0m\n",
      "\u001b[0mViralProj16239       NCBI     GCF_000866885.1   362693     \u001b[32m✓\u001b[39m      Oryza sativa alphaendornavirus           Contact:Toshiyuki Fukuhara Tokyo University of Agriculture and Technology, Laboratory of Molcelcular Cell Biology; 5-8, Saiwai-cho 3-chome, Fuchu, Tokyo 183, JAPAN\u001b[0m\n",
      "\u001b[0mASM130525v1          NCBI     GCA_001305255.1     4530     \u001b[31m✗\u001b[39m      Oryza sativa Indica Group                OSMANIA UNIVERSITY                      \u001b[0m\n",
      "\u001b[0mASM161119v1          NCBI     GCA_001611195.1     4530     \u001b[31m✗\u001b[39m      Oryza sativa Indica Group                Centre for Cellular and Molecular Platforms\u001b[0m\n",
      "\u001b[0mASM161123v1          NCBI     GCA_001611235.1     4530     \u001b[31m✗\u001b[39m      Oryza sativa Indica Group                Centre for Cellular and Molecular Platforms\u001b[0m\n",
      "\u001b[0mASM161125v1          NCBI     GCA_001611255.1     4530     \u001b[31m✗\u001b[39m      Oryza sativa Indica Group                Centre for Cellular and Molecular Platforms\u001b[0m\n",
      "\u001b[0mMhv2.0               NCBI     GCA_001618785.1     4530     \u001b[31m✗\u001b[39m      Oryza sativa Indica Group                Huazhong Agricultural University        \u001b[0m\n",
      "\u001b[0mZSv2.0               NCBI     GCA_001618795.1     4530     \u001b[31m✗\u001b[39m      Oryza sativa Indica Group                Huazhong Agricultural University        \u001b[0m\n",
      "\u001b[0mZS97RS3              NCBI     GCA_001623345.3     4530     \u001b[31m✗\u001b[39m      Oryza sativa Indica Group                Huazhong Agricultural University        \u001b[0m\n",
      "\u001b[0mMH63RS2              NCBI     GCA_001623365.2     4530     \u001b[31m✗\u001b[39m      Oryza sativa Indica Group                Huazhong Agricultural University        \u001b[0m\n",
      "\u001b[0mViralProj319976      NCBI     GCF_001634535.1  2956547     \u001b[32m✓\u001b[39m      Rhizoctonia oryzae-sativae mitovirus 1   Plant Pathology, Huazhong Agricultural University\u001b[0m\n",
      "\u001b[0mASM164873v1          NCBI     GCA_001648735.1     4530     \u001b[31m✗\u001b[39m      Oryza sativa                             Centre for Cellular and Molecular Biology\u001b[0m\n",
      "\u001b[0mIL50-13              NCBI     GCA_001648745.1     4530     \u001b[31m✗\u001b[39m      Oryza sativa                             Centre for Cellular and Molecular Biology\u001b[0m\n",
      "\u001b[0mRice_IR8_v1.7        NCBI     GCA_001889745.1     4530     \u001b[31m✗\u001b[39m      Oryza sativa Indica Group                The University of Arizona               \u001b[0m\n",
      "\u001b[0mOsN22RS2             NCBI     GCA_001952365.3     4530     \u001b[31m✗\u001b[39m      Oryza sativa aus subgroup                University of Arizona                   \u001b[0m\n",
      "\u001b[0mR498.Genome.version1 NCBI     GCA_002151415.1     4530     \u001b[31m✗\u001b[39m      Oryza sativa Indica Group                Institute of Genetics and Developmental Biology Chinese Academy of Sciences\u001b[0m\n",
      "\u001b[0mSJ18_v1              NCBI     GCA_002573525.1     4530     \u001b[31m✗\u001b[39m      Oryza sativa Japonica Group              RFGB database                           \u001b[0m\n",
      "\u001b[0mASM344904v1          NCBI     GCA_003449045.1     4530     \u001b[31m✗\u001b[39m      Oryza sativa Indica Group                Shenyang Agricultural University        \u001b[0m\n",
      "\u001b[0mASM344906v1          NCBI     GCA_003449065.1     4530     \u001b[31m✗\u001b[39m      Oryza sativa Japonica Group              Shenyang Agricultural University        \u001b[0m\n",
      "\u001b[0mASM386521v1          NCBI     GCA_003865215.1     4530     \u001b[31m✗\u001b[39m      Oryza sativa                             Chinese Academy of Agricultural Sciences\u001b[0m\n",
      "\u001b[0mASM386523v1          NCBI     GCA_003865235.1     4530     \u001b[31m✗\u001b[39m      Oryza sativa Japonica Group              Chinese Academy of Agricultural Sciences\u001b[0m\n",
      "\u001b[0mJHU_CGRice_1.0       NCBI     GCA_004007595.1     4530     \u001b[32m✓\u001b[39m      Oryza sativa                             Cornell University                      \u001b[0m\n",
      "\u001b[0mASM429570v1          NCBI     GCA_004295705.1     4530     \u001b[32m✓\u001b[39m      Oryza sativa Japonica Group              National Institute of Agrobiological Sciences, Rice Genome Research Program\u001b[0m\n",
      "\u001b[0mASM694219v1          NCBI     GCA_006942195.1     4530     \u001b[31m✗\u001b[39m      Oryza sativa f. spontanea                Shenyang Agricultural University, China \u001b[0m\n",
      "\u001b[0mASM699288v1          NCBI     GCA_006992885.1     4530     \u001b[31m✗\u001b[39m      Oryza sativa Indica Group                Fujian Agriculture and Forest University\u001b[0m\n",
      "\u001b[0mOsativa_Kitaake_v2.0 NCBI     GCA_009797565.1     4530     \u001b[32m✓\u001b[39m      Oryza sativa Japonica Group              DOE Joint Genome Institute              \u001b[0m\n",
      "\u001b[0mOs125827RS1          NCBI     GCA_009829375.1     4530     \u001b[31m✗\u001b[39m      Oryza sativa                             University of Arizona                   \u001b[0m\n",
      "\u001b[0mOs127564RS1          NCBI     GCA_009829395.1     4530     \u001b[31m✗\u001b[39m      Oryza sativa Indica Group                University of Arizona                   \u001b[0m\n",
      "\u001b[0mASM982972v1          NCBI     GCA_009829725.1     4530     \u001b[31m✗\u001b[39m      Oryza sativa                             Sichuan Agricultural University         \u001b[0m\n",
      "\u001b[0mAzucenaRS1           NCBI     GCA_009830595.1     4530     \u001b[31m✗\u001b[39m      Oryza sativa Japonica Group              University of Arizona                   \u001b[0m\n",
      "\u001b[0mOs132424RS1          NCBI     GCA_009831025.1     4530     \u001b[31m✗\u001b[39m      Oryza sativa Indica Group                University of Arizona                   \u001b[0m\n",
      "\u001b[0mOs127742RS1          NCBI     GCA_009831045.1     4530     \u001b[31m✗\u001b[39m      Oryza sativa Indica Group                University of Arizona                   \u001b[0m\n",
      "\u001b[0mOs117425RS1          NCBI     GCA_009831255.1     4530     \u001b[31m✗\u001b[39m      Oryza sativa aromatic subgroup           University of Arizona                   \u001b[0m\n",
      "\u001b[0mOS128077RS1          NCBI     GCA_009831275.1     4530     \u001b[31m✗\u001b[39m      Oryza sativa tropical japonica subgroup  University of Arizona                   \u001b[0m\n",
      "\u001b[0mOs127518RS1          NCBI     GCA_009831295.1     4530     \u001b[31m✗\u001b[39m      Oryza sativa Indica Group                University of Arizona                   \u001b[0m\n",
      "\u001b[0mOs132278RS1          NCBI     GCA_009831315.1     4530     \u001b[31m✗\u001b[39m      Oryza sativa tropical japonica subgroup  University of Arizona                   \u001b[0m\n",
      "\u001b[0mOs127652RS1          NCBI     GCA_009831335.1     4530     \u001b[31m✗\u001b[39m      Oryza sativa aus subgroup                University of Arizona                   \u001b[0m\n",
      "\u001b[0mOs125619RS1          NCBI     GCA_009831355.1     4530     \u001b[31m✗\u001b[39m      Oryza sativa Indica Group                University of Arizona                   \u001b[0m\n",
      "\u001b[0mOsIR64RS1            NCBI     GCA_009914875.1     4530     \u001b[31m✗\u001b[39m      Oryza sativa                             University of Arizona                   \u001b[0m\n",
      "\u001b[0mASM1176440v2         NCBI     GCA_011764405.2     4530     \u001b[31m✗\u001b[39m      Oryza sativa Indica Group                Breeding Informatics Research Unit, Division of Basic Research, Institute of Crop Science, NARO\u001b[0m\n",
      "\u001b[0mIGDBCAS_Zhonghua11_1.0 NCBI     GCA_014526345.1     4530     \u001b[31m✗\u001b[39m      Oryza sativa Japonica Group              Institute of Genetics and Developmental Biology\u001b[0m\n",
      "\u001b[0mASM1463601v1         NCBI     GCA_014636015.1     4530     \u001b[31m✗\u001b[39m      Oryza sativa                             GrandOmics Biosciences                  \u001b[0m\n",
      "\u001b[0mASM1463603v1         NCBI     GCA_014636035.1     4530     \u001b[31m✗\u001b[39m      Oryza sativa                             GrandOmics Biosciences                  \u001b[0m\n",
      "\u001b[0mASM1613488v1         NCBI     GCA_016134885.1     4530     \u001b[31m✗\u001b[39m      Oryza sativa Indica Group                Huazhong Agricultural University        \u001b[0m\n",
      "\u001b[0mTN1_rice_v1.0        NCBI     GCA_018853525.1     4530     \u001b[31m✗\u001b[39m      Oryza sativa                             Academia Sinica                         \u001b[0m\n",
      "\u001b[0mASM1913776v1         NCBI     GCA_019137765.1     4530     \u001b[31m✗\u001b[39m      Oryza sativa                             China national rice research institute  \u001b[0m\n",
      "\u001b[0mASM1933890v1         NCBI     GCA_019338905.1     4530     \u001b[31m✗\u001b[39m      Oryza sativa Indica Group                BGI                                     \u001b[0m\n",
      "\u001b[0mKIT_r1.0.pmol        NCBI     GCA_022834795.1     4530     \u001b[31m✗\u001b[39m      Oryza sativa Japonica Group              Kazusa DNA Research Institute           \u001b[0m\n",
      "\u001b[0mASM2616768v1         NCBI     GCA_026167685.1     4530     \u001b[31m✗\u001b[39m      Oryza sativa Japonica Group              Institute of Botany, Jiangsu Province and Chinese Academy of Sciences\u001b[0m\n",
      "\u001b[0mASM2858409v1         NCBI     GCA_028584095.1     4530     \u001b[31m✗\u001b[39m      Oryza sativa Indica Group                Huazhong Agricultural University        \u001b[0m\n",
      "\u001b[0mASM2858410v1         NCBI     GCA_028584105.1     4530     \u001b[31m✗\u001b[39m      Oryza sativa Indica Group                Huazhong Agricultural University        \u001b[0m\n",
      "\u001b[0mASM3017997v1         NCBI     GCA_030179975.1     4530     \u001b[31m✗\u001b[39m      Oryza sativa                             GuangDong Academy of Agricultural Sciences\u001b[0m\n",
      "\u001b[0mASM3017998v1         NCBI     GCA_030179985.1     4530     \u001b[31m✗\u001b[39m      Oryza sativa                             GuangDong Academy of Agricultural Sciences\u001b[0m\n",
      "\u001b[0mASM3099801v1         NCBI     GCA_030998015.1    63189     \u001b[31m✗\u001b[39m      Ceratorhiza oryzae-sativae               Shenyang Agricultural University        \u001b[0m\n",
      "\u001b[0mASM3157894v1         NCBI     GCA_031578945.1  2487727     \u001b[32m✓\u001b[39m      Rhizoctonia oryzae-sativae partitivirus 1 Division of Plant Biology, Bose Institute\u001b[0m\n",
      "\u001b[0mASM3157957v1         NCBI     GCA_031579575.1  2851960     \u001b[32m✓\u001b[39m      Rhizoctonia oryzae-sativae partitivirus 2 Contact:Sotaro Chiba Nagoya University, Graduate School of Bioagricultural Sciences; Furo-cho, Chikusa-ku, Nagoya, Aichi 464-8601, Japan\u001b[0m\n",
      "\u001b[0mASM3157959v1         NCBI     GCA_031579595.1  2851961     \u001b[32m✓\u001b[39m      Rhizoctonia oryzae-sativae partitivirus 3 Contact:Sotaro Chiba Nagoya University, Graduate School of Bioagricultural Sciences; Furo-cho, Chikusa-ku, Nagoya, Aichi 464-8601, Japan\u001b[0m\n",
      "\u001b[0mASM3157960v1         NCBI     GCA_031579605.1  2851962     \u001b[32m✓\u001b[39m      Rhizoctonia oryzae-sativae partitivirus 4 Contact:Sotaro Chiba Nagoya University, Graduate School of Bioagricultural Sciences; Furo-cho, Chikusa-ku, Nagoya, Aichi 464-8601, Japan\u001b[0m\n",
      "\u001b[0mASM3157961v1         NCBI     GCA_031579615.1  2851963     \u001b[32m✓\u001b[39m      Rhizoctonia oryzae-sativae partitivirus 5 Contact:Sotaro Chiba Nagoya University, Graduate School of Bioagricultural Sciences; Furo-cho, Chikusa-ku, Nagoya, Aichi 464-8601, Japan\u001b[0m\n",
      "\u001b[0mASM3157962v1         NCBI     GCA_031579625.1  2851964     \u001b[32m✓\u001b[39m      Rhizoctonia oryzae-sativae partitivirus 6 Contact:Sotaro Chiba Nagoya University, Graduate School of Bioagricultural Sciences; Furo-cho, Chikusa-ku, Nagoya, Aichi 464-8601, Japan\u001b[0m\n",
      "\u001b[0mAGIS1.0              NCBI     GCF_034140825.1     4530     \u001b[32m✓\u001b[39m      Oryza sativa Japonica Group              Agricultural Genomics Institute at Shenzhen, Chinese Academy of Agricultural Sciences\u001b[0m\n",
      "\u001b[0mLonggeng57_v1.0      NCBI     GCA_034317485.1     4530     \u001b[31m✗\u001b[39m      Oryza sativa Japonica Group              Institute of Crop Sciences/National Key Facility for Crop Gene Resources and Genetic Improvement, Ch\u001b[0m\n",
      "\u001b[0mASM3481860v1         NCBI     GCA_034818605.1     4530     \u001b[31m✗\u001b[39m      Oryza sativa indica subgroup             China National Rice Research Institute  \u001b[0m\n",
      "\u001b[0mASM3717919v1         NCBI     GCA_037179195.1     4530     \u001b[31m✗\u001b[39m      Oryza sativa                             Sejong University                       \u001b[0m\n",
      "\u001b[0mASM3717920v1         NCBI     GCA_037179205.1     4530     \u001b[31m✗\u001b[39m      Oryza sativa                             Sejong University                       \u001b[0m\n",
      "\u001b[0mHasawiRS1            NCBI     GCA_040181785.1     4530     \u001b[31m✗\u001b[39m      Oryza sativa Indica Group                King Abdullah University of Science & Technology\u001b[0m\n",
      "\u001b[0mASM4663001v1         NCBI     GCA_046630015.1     4530     \u001b[31m✗\u001b[39m      Oryza sativa                             Sejong University                       \u001b[0m\n",
      "\u001b[0mASM4663004v1         NCBI     GCA_046630045.1     4530     \u001b[31m✗\u001b[39m      Oryza sativa                             Sejong University                       \u001b[0m\n",
      "\u001b[0mASM4663005v1         NCBI     GCA_046630055.1     4530     \u001b[31m✗\u001b[39m      Oryza sativa                             Sejong University                       \u001b[0m\n",
      "\u001b[0mDraft_mitochondrial_genome_of_common_rice_B192 NCBI     GCA_900609655.1     4530     \u001b[31m✗\u001b[39m      Oryza sativa                             HUAZHONG AGRICULTRAL UNIVERSITY         \u001b[0m\n",
      "\u001b[0mDraft_mitochondrial_genome_of_common_rice_CX143 NCBI     GCA_900609675.1     4530     \u001b[31m✗\u001b[39m      Oryza sativa                             HUAZHONG AGRICULTRAL UNIVERSITY         \u001b[0m\n",
      "\u001b[0mDraft_mitochondrial_genome_of_IRIS_313-10102 NCBI     GCA_900609685.1     4530     \u001b[31m✗\u001b[39m      Oryza sativa                             HUAZHONG AGRICULTRAL UNIVERSITY         \u001b[0m\n",
      "\u001b[0mDraft_mitochondrial_genome_of_IRIS_313-11026 NCBI     GCA_900609695.1     4530     \u001b[31m✗\u001b[39m      Oryza sativa                             HUAZHONG AGRICULTRAL UNIVERSITY         \u001b[0m\n",
      "\u001b[0mDraft_mitochondrial_genome_of_IRIS_313-11023 NCBI     GCA_900609705.1     4530     \u001b[31m✗\u001b[39m      Oryza sativa                             HUAZHONG AGRICULTRAL UNIVERSITY         \u001b[0m\n",
      "\u001b[0mDraft_mitochondrial_genome_of_IRIS_313-11411 NCBI     GCA_900609715.1     4530     \u001b[31m✗\u001b[39m      Oryza sativa                             HUAZHONG AGRICULTRAL UNIVERSITY         \u001b[0m\n",
      "\u001b[0mDraft_mitochondrial_genome_of_IRIS_313-11458 NCBI     GCA_900609725.1     4530     \u001b[31m✗\u001b[39m      Oryza sativa                             HUAZHONG AGRICULTRAL UNIVERSITY         \u001b[0m\n",
      "\u001b[0mDraft_mitochondrial_genome_of_IRIS_313-11218 NCBI     GCA_900609735.1     4530     \u001b[31m✗\u001b[39m      Oryza sativa                             HUAZHONG AGRICULTRAL UNIVERSITY         \u001b[0m\n",
      "\u001b[0mDraft_mitochondrial_genome_of_IRIS_313-11650 NCBI     GCA_900609745.1     4530     \u001b[31m✗\u001b[39m      Oryza sativa                             HUAZHONG AGRICULTRAL UNIVERSITY         \u001b[0m\n",
      "\u001b[0mDraft_mitochondrial_genome_of_IRIS_313-11657 NCBI     GCA_900609755.1     4530     \u001b[31m✗\u001b[39m      Oryza sativa                             HUAZHONG AGRICULTRAL UNIVERSITY         \u001b[0m\n",
      "\u001b[0mDraft_mitochondrial_genome_of_IRIS_313-11765 NCBI     GCA_900609765.1     4530     \u001b[31m✗\u001b[39m      Oryza sativa                             HUAZHONG AGRICULTRAL UNIVERSITY         \u001b[0m\n",
      "\u001b[0mDraft_mitochondrial_genome_of_IRIS_313-8184 NCBI     GCA_900609775.1     4530     \u001b[31m✗\u001b[39m      Oryza sativa                             HUAZHONG AGRICULTRAL UNIVERSITY         \u001b[0m\n",
      "\u001b[0mDraft_mitochondrial_genome_of_IRIS_313-12074 NCBI     GCA_900609785.1     4530     \u001b[31m✗\u001b[39m      Oryza sativa                             HUAZHONG AGRICULTRAL UNIVERSITY         \u001b[0m\n",
      "\u001b[0mDraft_mitochondrial_genome_of_IRIS_313-7725 NCBI     GCA_900609795.1     4530     \u001b[31m✗\u001b[39m      Oryza sativa                             HUAZHONG AGRICULTRAL UNIVERSITY         \u001b[0m\n",
      "\u001b[0mDraft_mitochondrial_genome_of_IRIS_313-8288 NCBI     GCA_900609805.1     4530     \u001b[31m✗\u001b[39m      Oryza sativa                             HUAZHONG AGRICULTRAL UNIVERSITY         \u001b[0m\n",
      "\u001b[0mDraft_mitochondrial_genome_of_IRIS_313-8252 NCBI     GCA_900609815.1     4530     \u001b[31m✗\u001b[39m      Oryza sativa                             HUAZHONG AGRICULTRAL UNIVERSITY         \u001b[0m\n",
      "\u001b[0mDraft_mitochondrial_genome_of_IRIS_313-8326 NCBI     GCA_900609825.1     4530     \u001b[31m✗\u001b[39m      Oryza sativa                             HUAZHONG AGRICULTRAL UNIVERSITY         \u001b[0m\n",
      "\u001b[0mDraft_mitochondrial_genome_of_IRIS_313-8321 NCBI     GCA_900609835.1     4530     \u001b[31m✗\u001b[39m      Oryza sativa                             HUAZHONG AGRICULTRAL UNIVERSITY         \u001b[0m\n",
      "\u001b[0mDraft_mitochondrial_genome_of_IRIS_313-8398 NCBI     GCA_900609845.1     4530     \u001b[31m✗\u001b[39m      Oryza sativa                             HUAZHONG AGRICULTRAL UNIVERSITY         \u001b[0m\n",
      "\u001b[0mDraft_mitochondrial_genome_of_IRIS_313-8614 NCBI     GCA_900609855.1     4530     \u001b[31m✗\u001b[39m      Oryza sativa                             HUAZHONG AGRICULTRAL UNIVERSITY         \u001b[0m\n",
      "\u001b[0mDraft_mitochondrial_genome_of_IRIS_313-8647 NCBI     GCA_900609865.1     4530     \u001b[31m✗\u001b[39m      Oryza sativa                             HUAZHONG AGRICULTRAL UNIVERSITY         \u001b[0m\n",
      "\u001b[0mDraft_mitochondrial_genome_of_IRIS_313-8655 NCBI     GCA_900609875.1     4530     \u001b[31m✗\u001b[39m      Oryza sativa                             HUAZHONG AGRICULTRAL UNIVERSITY         \u001b[0m\n",
      "\u001b[0mDraft_mitochondrial_genome_of_IRIS_313-8813 NCBI     GCA_900609885.1     4530     \u001b[31m✗\u001b[39m      Oryza sativa                             HUAZHONG AGRICULTRAL UNIVERSITY         \u001b[0m\n",
      "\u001b[0mDraft_mitochondrial_genome_of_IRIS_313-8765 NCBI     GCA_900609895.1     4530     \u001b[31m✗\u001b[39m      Oryza sativa                             HUAZHONG AGRICULTRAL UNIVERSITY         \u001b[0m\n",
      "\u001b[0mDraft_mitochondrial_genome_of_IRIS_313-8814 NCBI     GCA_900609905.1     4530     \u001b[31m✗\u001b[39m      Oryza sativa                             HUAZHONG AGRICULTRAL UNIVERSITY         \u001b[0m\n",
      "\u001b[0mDraft_mitochondrial_genome_of_IRIS_313-9629 NCBI     GCA_900609915.1     4530     \u001b[31m✗\u001b[39m      Oryza sativa                             HUAZHONG AGRICULTRAL UNIVERSITY         \u001b[0m\n",
      "\u001b[0mDraft_mitochondrial_genome_of_IRIS_313-9778 NCBI     GCA_900609925.1     4530     \u001b[31m✗\u001b[39m      Oryza sativa                             HUAZHONG AGRICULTRAL UNIVERSITY         \u001b[0m\n",
      "\u001b[0mDraft_mitochondrial_genome_of_IRIS_313-9551 NCBI     GCA_900609935.1     4530     \u001b[31m✗\u001b[39m      Oryza sativa                             HUAZHONG AGRICULTRAL UNIVERSITY         \u001b[0m\n",
      "\u001b[0mDraft_mitochondrial_genome_of_IRIS_313-9039 NCBI     GCA_900609945.1     4530     \u001b[31m✗\u001b[39m      Oryza sativa                             HUAZHONG AGRICULTRAL UNIVERSITY         \u001b[0m\n",
      "\u001b[0mDraft_mitochondrial_genome_of_IRIS_313-9978 NCBI     GCA_900609955.1     4530     \u001b[31m✗\u001b[39m      Oryza sativa                             HUAZHONG AGRICULTRAL UNIVERSITY         \u001b[0m\n",
      "\u001b[0mDraft_mitochondrial_genome_of_IRIS_313-11191 NCBI     GCA_900610885.1     4530     \u001b[31m✗\u001b[39m      Oryza sativa                             HUAZHONG AGRICULTRAL UNIVERSITY         \u001b[0m\n",
      "\u001b[0mDraft_mitochondrial_genome_of_IRIS_313-11625 NCBI     GCA_900610895.1     4530     \u001b[31m✗\u001b[39m      Oryza sativa                             HUAZHONG AGRICULTRAL UNIVERSITY         \u001b[0m\n",
      "\u001b[0mIRIS_313-11360       NCBI     GCA_936145055.1     4530     \u001b[31m✗\u001b[39m      Oryza sativa                             University of Zurich                    \u001b[0m\n",
      "\u001b[0mIRIS_313-12190       NCBI     GCA_936150925.1     4530     \u001b[31m✗\u001b[39m      Oryza sativa                             University of Zurich                    \u001b[0m\n",
      "\u001b[0mIRIS_313-11127       NCBI     GCA_936153055.1     4530     \u001b[31m✗\u001b[39m      Oryza sativa                             University of Zurich                    \u001b[0m\n",
      "\u001b[0mIRIS_313-10314       NCBI     GCA_936154975.1     4530     \u001b[31m✗\u001b[39m      Oryza sativa                             University of Zurich                    \u001b[0m\n",
      "\u001b[0mIRIS_313-10879       NCBI     GCA_936157035.1     4530     \u001b[31m✗\u001b[39m      Oryza sativa                             University of Zurich                    \u001b[0m\n",
      "\u001b[0mIRIS_313-8554        NCBI     GCA_936157125.1     4530     \u001b[31m✗\u001b[39m      Oryza sativa                             University of Zurich                    \u001b[0m\n",
      "\u001b[0mIRIS_313-7914        NCBI     GCA_936157175.1     4530     \u001b[31m✗\u001b[39m      Oryza sativa                             University of Zurich                    \u001b[0m\n",
      "\u001b[0mIRIS_313-10738       NCBI     GCA_936157615.1     4530     \u001b[31m✗\u001b[39m      Oryza sativa                             University of Zurich                    \u001b[0m\n",
      "\u001b[0mIRIS_313-10059       NCBI     GCA_936157995.1     4530     \u001b[31m✗\u001b[39m      Oryza sativa                             University of Zurich                    \u001b[0m\n",
      "\u001b[0mIRIS_313-11786       NCBI     GCA_936158435.1     4530     \u001b[31m✗\u001b[39m      Oryza sativa                             University of Zurich                    \u001b[0m\n",
      "\u001b[0mCopsemar9            NCBI     GCA_951799355.1     4530     \u001b[31m✗\u001b[39m      Oryza sativa                             center for research in agricultural genomics (crag\u001b[0m\n",
      "\u001b[0moscoi2-3             NCBI     GCA_964197595.1     4530     \u001b[31m✗\u001b[39m      Oryza sativa tropical japonica subgroup  Institut de recherche pour le developpement\u001b[0m\n",
      "\u001b[0mKitaake_wildtype     NCBI     GCA_964197605.1     4530     \u001b[31m✗\u001b[39m      Oryza sativa tropical japonica subgroup  Institut de recherche pour le developpement\u001b[0m\n",
      "\u001b[0moscoi2-2             NCBI     GCA_964197615.1     4530     \u001b[31m✗\u001b[39m      Oryza sativa tropical japonica subgroup  Institut de recherche pour le developpement\u001b[0m\n",
      "\u001b[0moscoi1-1             NCBI     GCA_964197625.1     4530     \u001b[31m✗\u001b[39m      Oryza sativa tropical japonica subgroup  Institut de recherche pour le developpement\u001b[0m\n",
      "\u001b[0mCaiapo               NCBI     GCA_965117735.1     4530     \u001b[31m✗\u001b[39m      Oryza sativa tropical japonica subgroup  Institut de recherche pour le developpement\u001b[0m\n",
      "\u001b[0mLanura11             NCBI     GCA_965117755.1     4530     \u001b[31m✗\u001b[39m      Oryza sativa                             Institut de recherche pour le developpement\u001b[0m\n",
      "\u001b[0mIR64                 NCBI     GCA_965117765.1     4530     \u001b[31m✗\u001b[39m      Oryza sativa indica subgroup             Institut de recherche pour le developpement\u001b[0m\n",
      "\u001b[0mDJ123                NCBI     GCA_965117775.1     4530     \u001b[31m✗\u001b[39m      Oryza sativa indica subgroup             Institut de recherche pour le developpement\u001b[0m\n",
      "\u001b[0mChhomrong            NCBI     GCA_965117795.1     4530     \u001b[31m✗\u001b[39m      Oryza sativa                             Institut de recherche pour le developpement\u001b[0m\n",
      "\u001b[0mIUPLR17              NCBI     GCA_965117835.1     4530     \u001b[31m✗\u001b[39m      Oryza sativa                             Institut de recherche pour le developpement\u001b[0m\n",
      "\u001b[0mSahel108             NCBI     GCA_965117865.1     4530     \u001b[31m✗\u001b[39m      Oryza sativa                             Institut de recherche pour le developpement\u001b[0m\n",
      "\u001b[0mNerica4              NCBI     GCA_965117895.1     4530     \u001b[31m✗\u001b[39m      Oryza sativa tropical japonica subgroup  Institut de recherche pour le developpement\u001b[0m\n",
      "\u001b[0mKalinga3             NCBI     GCA_965117925.1     4530     \u001b[31m✗\u001b[39m      Oryza sativa                             Institut de recherche pour le developpement\u001b[0m\n",
      "\u001b[0mNericaL19            NCBI     GCA_965117955.1   441961     \u001b[31m✗\u001b[39m      Oryza glaberrima x Oryza sativa          Institut de recherche pour le developpement\u001b[0m\n",
      "\u001b[0mTequing              NCBI     GCA_965117965.1     4530     \u001b[31m✗\u001b[39m      Oryza sativa                             Institut de recherche pour le developpement\u001b[0m\n",
      "\u001b[0m\u001b[32m ^\u001b[0m\n",
      "\u001b[0m\u001b[32m Use name for \u001b[36mgenomepy install\u001b[0m\n",
      "\u001b[0m\u001b[0m"
     ]
    }
   ],
   "source": [
    "# show available assemblies\n",
    "!genomepy search --provider NCBI {organism}"
   ]
  },
  {
   "cell_type": "code",
   "execution_count": 87,
   "metadata": {},
   "outputs": [
    {
     "name": "stdout",
     "output_type": "stream",
     "text": [
      "\u001b[1mname                 provider accession         tax_id annotation species                                  other_info                              \u001b[0m\n",
      "\u001b[0mOs127742RS1          Ensembl  GCA_009831045.1    39946     \u001b[32m✓\u001b[39m      Oryza sativa Indica Group                2020-12                                 \u001b[0m\n",
      "\u001b[0mMH63RS2              Ensembl  GCA_001618785.1    39946     \u001b[32m✓\u001b[39m      Oryza sativa Indica Group                2020-12                                 \u001b[0m\n",
      "\u001b[0mOs132424RS1          Ensembl  GCA_009831025.1    39946     \u001b[32m✓\u001b[39m      Oryza sativa Indica Group                2020-12                                 \u001b[0m\n",
      "\u001b[0mOsN22RS2             Ensembl  GCA_001952365.2  1736659     \u001b[32m✓\u001b[39m      Oryza sativa aus subgroup                2020-12                                 \u001b[0m\n",
      "\u001b[0mAzucenaRS1           Ensembl  GCA_009830595.1  1736656     \u001b[32m✓\u001b[39m      Oryza sativa tropical japonica subgroup  2020-12                                 \u001b[0m\n",
      "\u001b[0mIRGSP-1.0            Ensembl  GCA_001433935.1    39947     \u001b[32m✓\u001b[39m      Oryza sativa Japonica Group              2022-09-RAPDB/2019-06                   \u001b[0m\n",
      "\u001b[0mOsIR64RS1            Ensembl  GCA_009914875.1    39946     \u001b[32m✓\u001b[39m      Oryza sativa Indica Group                2020-12                                 \u001b[0m\n",
      "\u001b[0mZS97RS3              Ensembl  GCA_001618795.1    39946     \u001b[32m✓\u001b[39m      Oryza sativa Indica Group                2020-12                                 \u001b[0m\n",
      "\u001b[0mOs132278RS1          Ensembl  GCA_009831315.1  1736656     \u001b[32m✓\u001b[39m      Oryza sativa tropical japonica subgroup  2020-12                                 \u001b[0m\n",
      "\u001b[0mOs127652RS1          Ensembl  GCA_009831335.1  1736659     \u001b[32m✓\u001b[39m      Oryza sativa aus subgroup                2020-12                                 \u001b[0m\n",
      "\u001b[0mOs117425RS1          Ensembl  GCA_009831255.1  1736658     \u001b[32m✓\u001b[39m      Oryza sativa aromatic subgroup           2020-12                                 \u001b[0m\n",
      "\u001b[0mOs125827RS1          Ensembl  GCA_009829375.1    39946     \u001b[32m✓\u001b[39m      Oryza sativa Indica Group                2020-12                                 \u001b[0m\n",
      "\u001b[0mOs127518RS1          Ensembl  GCA_009831295.1    39946     \u001b[32m✓\u001b[39m      Oryza sativa Indica Group                2020-12                                 \u001b[0m\n",
      "\u001b[0mASM465v1             Ensembl  GCA_000004655.2    39946     \u001b[32m✓\u001b[39m      Oryza sativa Indica Group                2010-07-BGI                             \u001b[0m\n",
      "\u001b[0mOs125619RS1          Ensembl  GCA_009831355.1    39946     \u001b[32m✓\u001b[39m      Oryza sativa Indica Group                2020-12                                 \u001b[0m\n",
      "\u001b[0mOs127564RS1          Ensembl  GCA_009829395.1    39946     \u001b[32m✓\u001b[39m      Oryza sativa Indica Group                2020-12                                 \u001b[0m\n",
      "\u001b[0mOs128077RS1          Ensembl  GCA_009831275.1  1736656     \u001b[32m✓\u001b[39m      Oryza sativa tropical japonica subgroup  2020-12                                 \u001b[0m\n",
      "\u001b[0mOryza_nivara_v1.0    Ensembl  GCA_000576065.1     4536     \u001b[32m✓\u001b[39m      Oryza sativa f. spontanea                2013-09-OGE                             \u001b[0m\n",
      "\u001b[0m\u001b[32m ^\u001b[0m\n",
      "\u001b[0m\u001b[32m Use name for \u001b[36mgenomepy install\u001b[0m\n",
      "\u001b[0m\u001b[0m"
     ]
    }
   ],
   "source": [
    "# show available assemblies\n",
    "!genomepy search --provider Ensembl {organism}"
   ]
  },
  {
   "cell_type": "code",
   "execution_count": 88,
   "metadata": {},
   "outputs": [],
   "source": [
    "# set the genome name\n",
    "genome_name = \"IRGSP-1.0\""
   ]
  },
  {
   "cell_type": "code",
   "execution_count": 82,
   "metadata": {},
   "outputs": [
    {
     "name": "stdout",
     "output_type": "stream",
     "text": [
      "\u001b[32m15:07:45\u001b[0m \u001b[1m|\u001b[0m \u001b[34mINFO\u001b[0m \u001b[1m|\u001b[0m Downloading genome from Ensembl. Target URL: http://ftp.ensemblgenomes.org/pub/release-60/plants/fasta/oryza_sativa/dna/Oryza_sativa.IRGSP-1.0.dna_sm.toplevel.fa.gz...\n",
      "Download: 100%|██████████████████████████████| 117M/117M [00:04<00:00, 26.6MB/s]\u001b[0m\u001b[0m\n",
      "\u001b[0m\u001b[32m15:07:50\u001b[0m \u001b[1m|\u001b[0m \u001b[34mINFO\u001b[0m \u001b[1m|\u001b[0m Genome download successful, starting post processing...\n",
      "\u001b[32m15:07:51\u001b[0m \u001b[1m|\u001b[0m \u001b[34mINFO\u001b[0m \u001b[1m|\u001b[0m name: IRGSP-1.0\n",
      "\u001b[32m15:07:51\u001b[0m \u001b[1m|\u001b[0m \u001b[34mINFO\u001b[0m \u001b[1m|\u001b[0m local name: IRGSP-1.0\n",
      "\u001b[32m15:07:51\u001b[0m \u001b[1m|\u001b[0m \u001b[34mINFO\u001b[0m \u001b[1m|\u001b[0m fasta: /scratch/multiomics/nickyoungblut/star_refs/Oryza_sativa/IRGSP-1.0/IRGSP-1.0.fa\n",
      "Filtering Fasta: 6.25M lines [00:01, 4.08M lines/s]\u001b[0m\u001b[0m\n",
      "\u001b[0m\u001b[32m15:07:58\u001b[0m \u001b[1m|\u001b[0m \u001b[34mINFO\u001b[0m \u001b[1m|\u001b[0m Downloading annotation from Ensembl. Target URL: http://ftp.ensemblgenomes.org/pub/release-60/plants/gtf/oryza_sativa/Oryza_sativa.IRGSP-1.0.60.gtf.gz...\n",
      "Download: 100%|████████████████████████████| 8.21M/8.21M [00:00<00:00, 9.46MB/s]\u001b[0m\u001b[0m\n",
      "\u001b[0m\u001b[32m15:08:02\u001b[0m \u001b[1m|\u001b[0m \u001b[34mINFO\u001b[0m \u001b[1m|\u001b[0m Annotation download successful\n",
      "\u001b[0m"
     ]
    }
   ],
   "source": [
    "# download genome\n",
    "!genomepy install --provider Ensembl --annotation --genomes_dir {work_dir} {genome_name}"
   ]
  },
  {
   "cell_type": "code",
   "execution_count": 83,
   "metadata": {},
   "outputs": [
    {
     "data": {
      "text/plain": [
       "'/scratch/multiomics/nickyoungblut/star_refs/Oryza_sativa/IRGSP-1.0/IRGSP-1.0.fa'"
      ]
     },
     "execution_count": 83,
     "metadata": {},
     "output_type": "execute_result"
    }
   ],
   "source": [
    "# get genome fasta\n",
    "fasta_file = glob(f\"{work_dir}/{genome_name}/*.fa\")[0]\n",
    "fasta_file"
   ]
  },
  {
   "cell_type": "code",
   "execution_count": 84,
   "metadata": {},
   "outputs": [
    {
     "data": {
      "text/plain": [
       "'/scratch/multiomics/nickyoungblut/star_refs/Oryza_sativa/IRGSP-1.0/IRGSP-1.0.annotation.gtf'"
      ]
     },
     "execution_count": 84,
     "metadata": {},
     "output_type": "execute_result"
    }
   ],
   "source": [
    "# get gtf file\n",
    "gtf_file = glob(f\"{work_dir}/{genome_name}/*.gtf\")[0]\n",
    "gtf_file"
   ]
  },
  {
   "cell_type": "code",
   "execution_count": 85,
   "metadata": {},
   "outputs": [
    {
     "name": "stdout",
     "output_type": "stream",
     "text": [
      "Processing GTF: IRGSP-1.0.annotation.gtf\n",
      "Output GTF: /scratch/multiomics/nickyoungblut/star_refs/Oryza_sativa/Oryza_sativa/Oryza_sativa.gtf\n",
      "Total records in GTF: 625162\n",
      "Filtered 12884 records by biotype\n",
      "Filtered 0 records by tag\n",
      "-- Count of biotypes filtered --\n",
      "ncRNA: 9816\n",
      "rRNA: 825\n",
      "tRNA: 734\n",
      "snoRNA: 648\n",
      "pre_miRNA: 291\n",
      "sense_intronic: 267\n",
      "snRNA: 249\n",
      "antisense_RNA: 18\n",
      "tRNA_pseudogene: 18\n",
      "SRP_RNA: 6\n",
      "nontranslating_CDS: 6\n",
      "RNase_MRP_RNA: 3\n",
      "pseudogene: 3\n",
      "-- Count of biotypes kept --\n",
      "protein_coding: 1186982\n",
      "----------------------------\n"
     ]
    }
   ],
   "source": [
    "# format the reference\n",
    "exe = os.path.join(script_dir, \"format-star-ref.py\")\n",
    "!{exe} --organism \"{organism}\"  --output-dir {work_dir} {gtf_file} "
   ]
  },
  {
   "cell_type": "code",
   "execution_count": 86,
   "metadata": {},
   "outputs": [
    {
     "data": {
      "text/plain": [
       "True"
      ]
     },
     "execution_count": 86,
     "metadata": {},
     "output_type": "execute_result"
    }
   ],
   "source": [
    "# set the filtered gtf file\n",
    "gtf_filt_file = os.path.join(work_dir, org_str, f\"{org_str}.gtf\")\n",
    "os.path.exists(gtf_filt_file)"
   ]
  },
  {
   "cell_type": "code",
   "execution_count": 87,
   "metadata": {},
   "outputs": [
    {
     "name": "stdout",
     "output_type": "stream",
     "text": [
      "\t/home/nickyoungblut/miniforge3/envs/asmbl/bin/STAR-avx2 --runThreadN 16 --runMode genomeGenerate --genomeDir /scratch/multiomics/nickyoungblut/star_refs/Oryza_sativa/star --genomeFastaFiles /scratch/multiomics/nickyoungblut/star_refs/Oryza_sativa/IRGSP-1.0/IRGSP-1.0.fa --sjdbGTFfile /scratch/multiomics/nickyoungblut/star_refs/Oryza_sativa/Oryza_sativa/Oryza_sativa.gtf --sjdbOverhang 100\n",
      "\tSTAR version: 2.7.11b   compiled: 2025-01-09T12:32:06+0000 :/opt/conda/conda-bld/star_1736425784849/work/source\n",
      "Feb 01 15:08:10 ..... started STAR run\n",
      "!!!!! WARNING: Could not move Log.out file from ./Log.out into /scratch/multiomics/nickyoungblut/star_refs/Oryza_sativa/star/Log.out. Will keep ./Log.out\n",
      "\n",
      "Feb 01 15:08:10 ... starting to generate Genome files\n",
      "Feb 01 15:08:15 ..... processing annotations GTF\n",
      "!!!!! WARNING: --genomeSAindexNbases 14 is too large for the genome size=375049285, which may cause seg-fault at the mapping step. Re-run genome generation with recommended --genomeSAindexNbases 13\n",
      "Feb 01 15:08:18 ... starting to sort Suffix Array. This may take a long time...\n",
      "Feb 01 15:08:19 ... sorting Suffix Array chunks and saving them to disk...\n",
      "Feb 01 15:08:59 ... loading chunks from disk, packing SA...\n",
      "Feb 01 15:09:07 ... finished generating suffix array\n",
      "Feb 01 15:09:07 ... generating Suffix Array index\n",
      "Feb 01 15:10:18 ... completed Suffix Array index\n",
      "Feb 01 15:10:18 ..... inserting junctions into the genome indices\n",
      "Feb 01 15:11:00 ... writing Genome to disk ...\n",
      "Feb 01 15:11:00 ... writing Suffix Array to disk ...\n",
      "Feb 01 15:11:03 ... writing SAindex to disk\n",
      "Feb 01 15:11:04 ..... finished successfully\n"
     ]
    }
   ],
   "source": [
    "# create the star index\n",
    "star_dir = os.path.join(work_dir, \"star\")\n",
    "os.makedirs(star_dir, exist_ok=True)\n",
    "\n",
    "!STAR --runThreadN 16 \\\n",
    "    --runMode genomeGenerate \\\n",
    "    --genomeDir {star_dir} \\\n",
    "    --genomeFastaFiles {fasta_file} \\\n",
    "    --sjdbGTFfile {gtf_filt_file} \\\n",
    "    --sjdbOverhang 100"
   ]
  },
  {
   "cell_type": "markdown",
   "metadata": {},
   "source": [
    "# Solanum lycopersicum"
   ]
  },
  {
   "cell_type": "code",
   "execution_count": 89,
   "metadata": {},
   "outputs": [],
   "source": [
    "organism = \"Solanum lycopersicum\""
   ]
  },
  {
   "cell_type": "code",
   "execution_count": 90,
   "metadata": {},
   "outputs": [],
   "source": [
    "# format\n",
    "org_str = organism.replace(\" \", \"_\")\n",
    "work_dir = os.path.join(base_dir, org_str)\n",
    "os.makedirs(work_dir, exist_ok=True)"
   ]
  },
  {
   "cell_type": "code",
   "execution_count": 91,
   "metadata": {},
   "outputs": [
    {
     "name": "stdout",
     "output_type": "stream",
     "text": [
      "\u001b[1mname                 provider accession         tax_id annotation species                                  other_info                              \u001b[0m\n",
      "\u001b[0mSL2.40               NCBI     GCF_000188115.2     4081     \u001b[32m✓\u001b[39m      Solanum lycopersicum                     Solanaceae Genomics Project             \u001b[0m\n",
      "\u001b[0mSL2.50               NCBI     GCF_000188115.3     4081     \u001b[32m✓\u001b[39m      Solanum lycopersicum                     Solanaceae Genomics Project             \u001b[0m\n",
      "\u001b[0mSL3.0                NCBI     GCF_000188115.4     4081     \u001b[32m✓\u001b[39m      Solanum lycopersicum                     Solanaceae Genomics Project             \u001b[0m\n",
      "\u001b[0mSLYcer_r1.1          NCBI     GCA_016860505.2     4081     \u001b[31m✗\u001b[39m      Solanum lycopersicum var. cerasiforme    Kazusa DNA Research Institute           \u001b[0m\n",
      "\u001b[0mASM3651221v1         NCBI     GCA_036512215.1     4081     \u001b[31m✗\u001b[39m      Solanum lycopersicum                     Kazusa DNA Research Institute           \u001b[0m\n",
      "\u001b[0mSolanum              NCBI     GCA_927333815.1     4081     \u001b[31m✗\u001b[39m      Solanum lycopersicum                     Keygene N.V.                            \u001b[0m\n",
      "\u001b[0mSL3.1                NCBI     GCA_000188115.4     4081     \u001b[31m✗\u001b[39m      Solanum lycopersicum                     Solanaceae Genomics Project             \u001b[0m\n",
      "\u001b[0mASM18109v1           NCBI     GCA_000181095.1     4081     \u001b[32m✓\u001b[39m      Solanum lycopersicum                     Kazusa DNA Research Institute           \u001b[0m\n",
      "\u001b[0mS_lycopersicum_mitochondrion_v1.5 NCBI     GCA_000325825.1     4081     \u001b[31m✗\u001b[39m      Solanum lycopersicum                     Mitochondrial Genome                    \u001b[0m\n",
      "\u001b[0mASM295403v1          NCBI     GCA_002954035.1     4081     \u001b[31m✗\u001b[39m      Solanum lycopersicum                     Boyce Thompson Institute                \u001b[0m\n",
      "\u001b[0mSLYMIC               NCBI     GCA_012431665.1     4081     \u001b[31m✗\u001b[39m      Solanum lycopersicum                     INPT                                    \u001b[0m\n",
      "\u001b[0mASM2240511v1         NCBI     GCA_022405115.1     4081     \u001b[31m✗\u001b[39m      Solanum lycopersicum                     China Agricultural University           \u001b[0m\n",
      "\u001b[0mASM2575967v1         NCBI     GCA_025759675.1     4081     \u001b[31m✗\u001b[39m      Solanum lycopersicum var. cerasiforme    Sun Yat-Sen University                  \u001b[0m\n",
      "\u001b[0mASM2575968v1         NCBI     GCA_025759685.1     4081     \u001b[31m✗\u001b[39m      Solanum lycopersicum var. cerasiforme    Sun Yat-Sen University                  \u001b[0m\n",
      "\u001b[0mASM2575969v1         NCBI     GCA_025759695.1     4081     \u001b[31m✗\u001b[39m      Solanum lycopersicum var. cerasiforme    Sun Yat-Sen University                  \u001b[0m\n",
      "\u001b[0mASM2575979v1         NCBI     GCA_025759795.1     4081     \u001b[31m✗\u001b[39m      Solanum lycopersicum var. cerasiforme    Sun Yat-Sen University                  \u001b[0m\n",
      "\u001b[0mASM2575983v1         NCBI     GCA_025759835.1     4081     \u001b[31m✗\u001b[39m      Solanum lycopersicum                     Sun Yat-Sen University                  \u001b[0m\n",
      "\u001b[0mASM2575984v1         NCBI     GCA_025759845.1     4081     \u001b[31m✗\u001b[39m      Solanum lycopersicum var. cerasiforme    Sun Yat-Sen University                  \u001b[0m\n",
      "\u001b[0mASM2575985v1         NCBI     GCA_025759855.1     4081     \u001b[31m✗\u001b[39m      Solanum lycopersicum                     Sun Yat-Sen University                  \u001b[0m\n",
      "\u001b[0mASM2575992v1         NCBI     GCA_025759925.1     4081     \u001b[31m✗\u001b[39m      Solanum lycopersicum                     Sun Yat-Sen University                  \u001b[0m\n",
      "\u001b[0mASM2575996v1         NCBI     GCA_025759965.1     4081     \u001b[31m✗\u001b[39m      Solanum lycopersicum                     Sun Yat-Sen University                  \u001b[0m\n",
      "\u001b[0mASM2575999v1         NCBI     GCA_025759995.1     4081     \u001b[31m✗\u001b[39m      Solanum lycopersicum                     Sun Yat-Sen University                  \u001b[0m\n",
      "\u001b[0mASM2576002v1         NCBI     GCA_025760025.1     4081     \u001b[31m✗\u001b[39m      Solanum lycopersicum                     Sun Yat-Sen University                  \u001b[0m\n",
      "\u001b[0mASM2576003v1         NCBI     GCA_025760035.1     4081     \u001b[31m✗\u001b[39m      Solanum lycopersicum                     Sun Yat-Sen University                  \u001b[0m\n",
      "\u001b[0mASM2576006v1         NCBI     GCA_025760065.1     4081     \u001b[31m✗\u001b[39m      Solanum lycopersicum                     Sun Yat-Sen University                  \u001b[0m\n",
      "\u001b[0mASM2576007v1         NCBI     GCA_025760075.1     4081     \u001b[31m✗\u001b[39m      Solanum lycopersicum                     Sun Yat-Sen University                  \u001b[0m\n",
      "\u001b[0mASM2576010v1         NCBI     GCA_025760105.1     4081     \u001b[31m✗\u001b[39m      Solanum lycopersicum                     Sun Yat-Sen University                  \u001b[0m\n",
      "\u001b[0mASM2770488v1         NCBI     GCA_027704885.1     4081     \u001b[31m✗\u001b[39m      Solanum lycopersicum                     Cornell University                      \u001b[0m\n",
      "\u001b[0mASM2770512v1         NCBI     GCA_027705125.1     4081     \u001b[31m✗\u001b[39m      Solanum lycopersicum var. cerasiforme    Cornell University                      \u001b[0m\n",
      "\u001b[0mSLM_r1.2             NCBI     GCA_030162295.1     4081     \u001b[31m✗\u001b[39m      Solanum lycopersicum                     Kazusa DNA Research Institute           \u001b[0m\n",
      "\u001b[0mASM3046343v1         NCBI     GCA_030463435.1     4081     \u001b[31m✗\u001b[39m      Solanum lycopersicum                     University of Florida                   \u001b[0m\n",
      "\u001b[0mASM3046346v1         NCBI     GCA_030463465.1     4081     \u001b[31m✗\u001b[39m      Solanum lycopersicum                     University of Florida                   \u001b[0m\n",
      "\u001b[0mSLM_r2.1             NCBI     GCF_036512215.1     4081     \u001b[32m✓\u001b[39m      Solanum lycopersicum                     Kazusa DNA Research Institute           \u001b[0m\n",
      "\u001b[0mASM3790152v1         NCBI     GCA_037901525.1     4081     \u001b[31m✗\u001b[39m      Solanum lycopersicum                     All-Russia Reasearch Institure for Agricultural Biotechnology\u001b[0m\n",
      "\u001b[0mASM4014350v1         NCBI     GCA_040143505.1     4081     \u001b[31m✗\u001b[39m      Solanum lycopersicum                     East China Normal University            \u001b[0m\n",
      "\u001b[0mASM4014351v1         NCBI     GCA_040143515.1     4081     \u001b[31m✗\u001b[39m      Solanum lycopersicum                     East China Normal University            \u001b[0m\n",
      "\u001b[0mASM4749685v1         NCBI     GCA_047496855.1     4081     \u001b[31m✗\u001b[39m      Solanum lycopersicum                     University of Florida                   \u001b[0m\n",
      "\u001b[0mV100                 NCBI     GCA_900008105.1     4081     \u001b[31m✗\u001b[39m      Solanum lycopersicum                     RWTH Aachen                             \u001b[0m\n",
      "\u001b[0mMbTMVv1              NCBI     GCA_915070445.1     4081     \u001b[31m✗\u001b[39m      Solanum lycopersicum                     MAX PLANCK INSTITUTE FOR PLANT BREEDING RESEARCH\u001b[0m\n",
      "\u001b[0mSolanumLycopersicum  NCBI     GCA_927333815.3     4081     \u001b[31m✗\u001b[39m      Solanum lycopersicum                     Keygene N.V.                            \u001b[0m\n",
      "\u001b[0m\u001b[32m ^\u001b[0m\n",
      "\u001b[0m\u001b[32m Use name for \u001b[36mgenomepy install\u001b[0m\n",
      "\u001b[0m\u001b[0m"
     ]
    }
   ],
   "source": [
    "# show available assemblies\n",
    "!genomepy search --provider NCBI {organism}"
   ]
  },
  {
   "cell_type": "code",
   "execution_count": 92,
   "metadata": {},
   "outputs": [
    {
     "name": "stdout",
     "output_type": "stream",
     "text": [
      "\u001b[1mname                 provider accession         tax_id annotation species                                  other_info                              \u001b[0m\n",
      "\u001b[0mSL3.0                Ensembl  GCA_000188115.3     4081     \u001b[32m✓\u001b[39m      Solanum lycopersicum                     2017-02-SOL/2018-10                     \u001b[0m\n",
      "\u001b[0m\u001b[32m ^\u001b[0m\n",
      "\u001b[0m\u001b[32m Use name for \u001b[36mgenomepy install\u001b[0m\n",
      "\u001b[0m\u001b[0m"
     ]
    }
   ],
   "source": [
    "# show available assemblies\n",
    "!genomepy search --provider Ensembl {organism}"
   ]
  },
  {
   "cell_type": "code",
   "execution_count": null,
   "metadata": {},
   "outputs": [],
   "source": [
    "# set the genome name\n",
    "genome_name = \"SL3.0\""
   ]
  },
  {
   "cell_type": "code",
   "execution_count": 91,
   "metadata": {},
   "outputs": [
    {
     "name": "stdout",
     "output_type": "stream",
     "text": [
      "\u001b[32m15:17:35\u001b[0m \u001b[1m|\u001b[0m \u001b[34mINFO\u001b[0m \u001b[1m|\u001b[0m Downloading genome from Ensembl. Target URL: http://ftp.ensemblgenomes.org/pub/release-60/plants/fasta/solanum_lycopersicum/dna/Solanum_lycopersicum.SL3.0.dna_sm.toplevel.fa.gz...\n",
      "Download: 100%|██████████████████████████████| 229M/229M [00:08<00:00, 30.0MB/s]\u001b[0m\u001b[0m\n",
      "\u001b[0m\u001b[32m15:17:44\u001b[0m \u001b[1m|\u001b[0m \u001b[34mINFO\u001b[0m \u001b[1m|\u001b[0m Genome download successful, starting post processing...\n",
      "\u001b[32m15:17:47\u001b[0m \u001b[1m|\u001b[0m \u001b[34mINFO\u001b[0m \u001b[1m|\u001b[0m name: SL3.0\n",
      "\u001b[32m15:17:47\u001b[0m \u001b[1m|\u001b[0m \u001b[34mINFO\u001b[0m \u001b[1m|\u001b[0m local name: SL3.0\n",
      "\u001b[32m15:17:47\u001b[0m \u001b[1m|\u001b[0m \u001b[34mINFO\u001b[0m \u001b[1m|\u001b[0m fasta: /scratch/multiomics/nickyoungblut/star_refs/Solanum_lycopersicum/SL3.0/SL3.0.fa\n",
      "Filtering Fasta: 13.8M lines [00:03, 4.02M lines/s]\u001b[0m\u001b[0m\n",
      "\u001b[0m\u001b[32m15:18:03\u001b[0m \u001b[1m|\u001b[0m \u001b[34mINFO\u001b[0m \u001b[1m|\u001b[0m Downloading annotation from Ensembl. Target URL: http://ftp.ensemblgenomes.org/pub/release-60/plants/gtf/solanum_lycopersicum/Solanum_lycopersicum.SL3.0.60.gtf.gz...\n",
      "Download: 100%|████████████████████████████| 6.87M/6.87M [00:00<00:00, 8.37MB/s]\u001b[0m\u001b[0m\n",
      "\u001b[0m\u001b[32m15:18:05\u001b[0m \u001b[1m|\u001b[0m \u001b[34mINFO\u001b[0m \u001b[1m|\u001b[0m Annotation download successful\n",
      "\u001b[0m"
     ]
    }
   ],
   "source": [
    "# download genome\n",
    "!genomepy install --provider Ensembl --annotation --genomes_dir {work_dir} {genome_name}"
   ]
  },
  {
   "cell_type": "code",
   "execution_count": 92,
   "metadata": {},
   "outputs": [
    {
     "data": {
      "text/plain": [
       "'/scratch/multiomics/nickyoungblut/star_refs/Solanum_lycopersicum/SL3.0/SL3.0.fa'"
      ]
     },
     "execution_count": 92,
     "metadata": {},
     "output_type": "execute_result"
    }
   ],
   "source": [
    "# get genome fasta\n",
    "fasta_file = glob(f\"{work_dir}/{genome_name}/*.fa\")[0]\n",
    "fasta_file"
   ]
  },
  {
   "cell_type": "code",
   "execution_count": 93,
   "metadata": {},
   "outputs": [
    {
     "data": {
      "text/plain": [
       "'/scratch/multiomics/nickyoungblut/star_refs/Solanum_lycopersicum/SL3.0/SL3.0.annotation.gtf'"
      ]
     },
     "execution_count": 93,
     "metadata": {},
     "output_type": "execute_result"
    }
   ],
   "source": [
    "# get gtf file\n",
    "gtf_file = glob(f\"{work_dir}/{genome_name}/*.gtf\")[0]\n",
    "gtf_file"
   ]
  },
  {
   "cell_type": "code",
   "execution_count": 94,
   "metadata": {},
   "outputs": [
    {
     "name": "stdout",
     "output_type": "stream",
     "text": [
      "Processing GTF: SL3.0.annotation.gtf\n",
      "Output GTF: /scratch/multiomics/nickyoungblut/star_refs/Solanum_lycopersicum/Solanum_lycopersicum/Solanum_lycopersicum.gtf\n",
      "Total records in GTF: 526279\n",
      "Filtered 4997 records by biotype\n",
      "Filtered 0 records by tag\n",
      "-- Count of biotypes filtered --\n",
      "nontranslating_CDS: 1496\n",
      "tRNA: 1356\n",
      "snRNA: 666\n",
      "rRNA: 588\n",
      "snoRNA: 498\n",
      "pre_miRNA: 168\n",
      "SRP_RNA: 126\n",
      "sense_intronic: 78\n",
      "antisense_RNA: 12\n",
      "RNase_MRP_RNA: 6\n",
      "ncRNA: 3\n",
      "-- Count of biotypes kept --\n",
      "protein_coding: 1008135\n",
      "----------------------------\n"
     ]
    }
   ],
   "source": [
    "# format the reference\n",
    "exe = os.path.join(script_dir, \"format-star-ref.py\")\n",
    "!{exe} --organism \"{organism}\"  --output-dir {work_dir} {gtf_file} "
   ]
  },
  {
   "cell_type": "code",
   "execution_count": 95,
   "metadata": {},
   "outputs": [
    {
     "data": {
      "text/plain": [
       "True"
      ]
     },
     "execution_count": 95,
     "metadata": {},
     "output_type": "execute_result"
    }
   ],
   "source": [
    "# set the filtered gtf file\n",
    "gtf_filt_file = os.path.join(work_dir, org_str, f\"{org_str}.gtf\")\n",
    "os.path.exists(gtf_filt_file)"
   ]
  },
  {
   "cell_type": "code",
   "execution_count": 96,
   "metadata": {},
   "outputs": [
    {
     "name": "stdout",
     "output_type": "stream",
     "text": [
      "\t/home/nickyoungblut/miniforge3/envs/asmbl/bin/STAR-avx2 --runThreadN 16 --runMode genomeGenerate --genomeDir /scratch/multiomics/nickyoungblut/star_refs/Solanum_lycopersicum/star --genomeFastaFiles /scratch/multiomics/nickyoungblut/star_refs/Solanum_lycopersicum/SL3.0/SL3.0.fa --sjdbGTFfile /scratch/multiomics/nickyoungblut/star_refs/Solanum_lycopersicum/Solanum_lycopersicum/Solanum_lycopersicum.gtf --sjdbOverhang 100\n",
      "\tSTAR version: 2.7.11b   compiled: 2025-01-09T12:32:06+0000 :/opt/conda/conda-bld/star_1736425784849/work/source\n",
      "Feb 01 15:18:12 ..... started STAR run\n",
      "!!!!! WARNING: Could not move Log.out file from ./Log.out into /scratch/multiomics/nickyoungblut/star_refs/Solanum_lycopersicum/star/Log.out. Will keep ./Log.out\n",
      "\n",
      "Feb 01 15:18:12 ... starting to generate Genome files\n",
      "Feb 01 15:18:26 ..... processing annotations GTF\n",
      "!!!!! WARNING: --genomeSAindexNbases 14 is too large for the genome size=827747456, which may cause seg-fault at the mapping step. Re-run genome generation with recommended --genomeSAindexNbases 13\n",
      "Feb 01 15:18:32 ... starting to sort Suffix Array. This may take a long time...\n",
      "Feb 01 15:18:35 ... sorting Suffix Array chunks and saving them to disk...\n",
      "Feb 01 15:20:01 ... loading chunks from disk, packing SA...\n",
      "Feb 01 15:20:18 ... finished generating suffix array\n",
      "Feb 01 15:20:18 ... generating Suffix Array index\n",
      "Feb 01 15:21:58 ... completed Suffix Array index\n",
      "Feb 01 15:21:58 ..... inserting junctions into the genome indices\n",
      "Feb 01 15:22:54 ... writing Genome to disk ...\n",
      "Feb 01 15:22:55 ... writing Suffix Array to disk ...\n",
      "Feb 01 15:23:01 ... writing SAindex to disk\n",
      "Feb 01 15:23:03 ..... finished successfully\n"
     ]
    }
   ],
   "source": [
    "# create the star index\n",
    "star_dir = os.path.join(work_dir, \"star\")\n",
    "os.makedirs(star_dir, exist_ok=True)\n",
    "\n",
    "!STAR --runThreadN 16 \\\n",
    "    --runMode genomeGenerate \\\n",
    "    --genomeDir {star_dir} \\\n",
    "    --genomeFastaFiles {fasta_file} \\\n",
    "    --sjdbGTFfile {gtf_filt_file} \\\n",
    "    --sjdbOverhang 100"
   ]
  },
  {
   "cell_type": "markdown",
   "metadata": {},
   "source": [
    "# Zea mays"
   ]
  },
  {
   "cell_type": "code",
   "execution_count": 93,
   "metadata": {},
   "outputs": [],
   "source": [
    "organism = \"Zea mays\""
   ]
  },
  {
   "cell_type": "code",
   "execution_count": 94,
   "metadata": {},
   "outputs": [],
   "source": [
    "# format\n",
    "org_str = organism.replace(\" \", \"_\")\n",
    "work_dir = os.path.join(base_dir, org_str)\n",
    "os.makedirs(work_dir, exist_ok=True)"
   ]
  },
  {
   "cell_type": "code",
   "execution_count": 95,
   "metadata": {},
   "outputs": [
    {
     "name": "stdout",
     "output_type": "stream",
     "text": [
      "\u001b[1mname                 provider accession         tax_id annotation species                                  other_info                              \u001b[0m\n",
      "\u001b[0mB73_RefGen_v3        NCBI     GCF_000005005.1     4577     \u001b[32m✓\u001b[39m      Zea mays                                 Maize Genome Sequencing Project         \u001b[0m\n",
      "\u001b[0mZm-W22-REFERENCE-NRGENE-1.0 NCBI     GCA_001644905.1     4577     \u001b[32m✓\u001b[39m      Zea mays subsp. mays                     W22 Sequencing Consortium               \u001b[0m\n",
      "\u001b[0mCIMBL55_1.0          NCBI     GCA_027171705.1     4577     \u001b[31m✗\u001b[39m      Zea mays subsp. mays                     China Agricultural University           \u001b[0m\n",
      "\u001b[0mASM2717170v2         NCBI     GCA_027171705.2     4577     \u001b[31m✗\u001b[39m      Zea mays subsp. mays                     China Agricultural University           \u001b[0m\n",
      "\u001b[0mB73_RefGen_v4        NCBI     GCA_000005005.6     4577     \u001b[32m✓\u001b[39m      Zea mays                                 maizesequence                           \u001b[0m\n",
      "\u001b[0mZeaMays_PT_EDMX2233_1.0 NCBI     GCA_000223545.1     4577     \u001b[31m✗\u001b[39m      Zea mays                                 Laboratorio Nacional de Genómica para la Biodiversidad (LANGEBIO) CINVESTAV Irapuato\u001b[0m\n",
      "\u001b[0mZmaysB73_wgs_1.0     NCBI     GCA_000275765.1     4577     \u001b[31m✗\u001b[39m      Zea mays                                 maizesequence                           \u001b[0m\n",
      "\u001b[0mZm-W22-REFERENCE-NRGENE-2.0 NCBI     GCA_001644905.2     4577     \u001b[31m✗\u001b[39m      Zea mays subsp. mays                     W22 Sequencing Consortium               \u001b[0m\n",
      "\u001b[0mZm-EP1-REFERENCE-TUM-1.0 NCBI     GCA_001984235.2     4577     \u001b[31m✗\u001b[39m      Zea mays subsp. mays                     Technical University of Munich, Plant Breeding\u001b[0m\n",
      "\u001b[0mZm-F7-REFERENCE-TUM-1.0 NCBI     GCA_001990705.1     4577     \u001b[31m✗\u001b[39m      Zea mays subsp. mays                     Technical University of Munich, Plant Breeding\u001b[0m\n",
      "\u001b[0mZm-PH207-REFERENCE_NS-UIUC_UMN-1.1 NCBI     GCA_002237485.1     4577     \u001b[31m✗\u001b[39m      Zea mays subsp. mays                     Ethy Cannon                             \u001b[0m\n",
      "\u001b[0mZm_CML247_REFERENCE_PANZEA.1.2 NCBI     GCA_002682915.2     4577     \u001b[31m✗\u001b[39m      Zea mays subsp. mays                     Ethy Cannon                             \u001b[0m\n",
      "\u001b[0mASM281348v1          NCBI     GCA_002813485.1     4577     \u001b[31m✗\u001b[39m      Zea mays subsp. mexicana                 Huazhong Agricultural University        \u001b[0m\n",
      "\u001b[0mASM281350v1          NCBI     GCA_002813505.1     4577     \u001b[31m✗\u001b[39m      Zea mays subsp. mays                     Huazhong Agricultural University        \u001b[0m\n",
      "\u001b[0mZm-Mo17-REFERENCE-CAU-1.0 NCBI     GCA_003185045.1     4577     \u001b[32m✓\u001b[39m      Zea mays                                 China Agricultural University           \u001b[0m\n",
      "\u001b[0mZm-PE0075-REFERENCE-TUM-1.0 NCBI     GCA_003704525.1     4577     \u001b[31m✗\u001b[39m      Zea mays                                 Technical University of Munich          \u001b[0m\n",
      "\u001b[0mZm-DK105-REFERENCE-TUM-1.0 NCBI     GCA_003709335.1     4577     \u001b[31m✗\u001b[39m      Zea mays                                 Technical University of Munich          \u001b[0m\n",
      "\u001b[0mASM411777v1          NCBI     GCF_004117775.1  2955250     \u001b[32m✓\u001b[39m      Zea mays chrysovirus 1                   Center for Infectious Disease Dynamics, Penn State\u001b[0m\n",
      "\u001b[0mASM917658v1          NCBI     GCA_009176585.1     4577     \u001b[31m✗\u001b[39m      Zea mays                                 sippe                                   \u001b[0m\n",
      "\u001b[0mA188Ref1             NCBI     GCA_014529475.1     4577     \u001b[31m✗\u001b[39m      Zea mays                                 Kansas State University                 \u001b[0m\n",
      "\u001b[0mZm-Ia453-REFERENCE-UF-1.0 NCBI     GCA_016432965.1     4577     \u001b[31m✗\u001b[39m      Zea mays                                 University of Florida                   \u001b[0m\n",
      "\u001b[0mZm-B73_B-CHROMOSOME-MBSC-1.0 NCBI     GCA_017315365.1     4577     \u001b[31m✗\u001b[39m      Zea mays                                 Maize B-chromosome Sequencing Consortium\u001b[0m\n",
      "\u001b[0mZm_B84_v1            NCBI     GCA_019095955.1     4577     \u001b[31m✗\u001b[39m      Zea mays                                 DOE Joint Genome Institute              \u001b[0m\n",
      "\u001b[0mZm_LH145_v1          NCBI     GCA_019095975.1     4577     \u001b[31m✗\u001b[39m      Zea mays                                 DOE Joint Genome Institute              \u001b[0m\n",
      "\u001b[0mZm_PHJ40_v1          NCBI     GCA_019095995.1     4577     \u001b[31m✗\u001b[39m      Zea mays                                 DOE Joint Genome Institute              \u001b[0m\n",
      "\u001b[0mZm_PHB47_v1          NCBI     GCA_019096015.1     4577     \u001b[31m✗\u001b[39m      Zea mays                                 DOE Joint Genome Institute              \u001b[0m\n",
      "\u001b[0mZm_NKH8431_v1        NCBI     GCA_019096025.1     4577     \u001b[31m✗\u001b[39m      Zea mays                                 DOE Joint Genome Institute              \u001b[0m\n",
      "\u001b[0mASM2130787v1         NCBI     GCA_021307875.1     4577     \u001b[31m✗\u001b[39m      Zea mays                                 Sichuan Agricultural University         \u001b[0m\n",
      "\u001b[0mZm-Mo17-REFERENCE-CAU-T2T-assembly NCBI     GCA_022117705.1     4577     \u001b[31m✗\u001b[39m      Zea mays                                 China Agriculture University            \u001b[0m\n",
      "\u001b[0mZm-Dan340-REFERENCE-BAAFS-1.0 NCBI     GCA_024505845.1     4577     \u001b[31m✗\u001b[39m      Zea mays                                 Beijing Academy of Agricultural and Forest Sciences\u001b[0m\n",
      "\u001b[0mZm-RP125-REFERENCE-SDAU-1.0 NCBI     GCA_024718635.1     4577     \u001b[31m✗\u001b[39m      Zea mays                                 Shandong Agricultural University        \u001b[0m\n",
      "\u001b[0mTeosinte             NCBI     GCA_025175245.1     4577     \u001b[31m✗\u001b[39m      Zea mays subsp. parviglumis              CAS Center for Excellence in Molecular Plant Sciences\u001b[0m\n",
      "\u001b[0mASM2622608v1         NCBI     GCA_026226085.1     4577     \u001b[31m✗\u001b[39m      Zea mays                                 Chinese Academy of Agricultural Sciences,\u001b[0m\n",
      "\u001b[0mASM2622609v1         NCBI     GCA_026226095.1     4577     \u001b[31m✗\u001b[39m      Zea mays                                 Chinese Academy of Agricultural Sciences,\u001b[0m\n",
      "\u001b[0mASM2622610v1         NCBI     GCA_026226105.1     4577     \u001b[31m✗\u001b[39m      Zea mays                                 Chinese Academy of Agricultural Sciences,\u001b[0m\n",
      "\u001b[0mASM2622663v1         NCBI     GCA_026226635.1     4577     \u001b[31m✗\u001b[39m      Zea mays                                 Chinese Academy of Agricultural Sciences,\u001b[0m\n",
      "\u001b[0mASM2622667v1         NCBI     GCA_026226675.1     4577     \u001b[31m✗\u001b[39m      Zea mays                                 Chinese Academy of Agricultural Sciences,\u001b[0m\n",
      "\u001b[0mASM2622668v1         NCBI     GCA_026226685.1     4577     \u001b[31m✗\u001b[39m      Zea mays                                 Chinese Academy of Agricultural Sciences,\u001b[0m\n",
      "\u001b[0mASM2622669v1         NCBI     GCA_026226695.1     4577     \u001b[31m✗\u001b[39m      Zea mays                                 Chinese Academy of Agricultural Sciences,\u001b[0m\n",
      "\u001b[0mASM2622670v1         NCBI     GCA_026226705.1     4577     \u001b[31m✗\u001b[39m      Zea mays                                 Chinese Academy of Agricultural Sciences,\u001b[0m\n",
      "\u001b[0mASM2622894v1         NCBI     GCA_026228945.1     4577     \u001b[31m✗\u001b[39m      Zea mays                                 Chinese Academy of Agricultural Sciences,\u001b[0m\n",
      "\u001b[0mASM2622963v1         NCBI     GCA_026229635.1     4577     \u001b[31m✗\u001b[39m      Zea mays                                 Chinese Academy of Agricultural Sciences,\u001b[0m\n",
      "\u001b[0mASM2622966v1         NCBI     GCA_026229665.1     4577     \u001b[31m✗\u001b[39m      Zea mays                                 Chinese Academy of Agricultural Sciences,\u001b[0m\n",
      "\u001b[0mASM2622968v1         NCBI     GCA_026229685.1     4577     \u001b[31m✗\u001b[39m      Zea mays                                 Chinese Academy of Agricultural Sciences,\u001b[0m\n",
      "\u001b[0mCIMBL55_3.0          NCBI     GCA_027171705.3     4577     \u001b[31m✗\u001b[39m      Zea mays subsp. mays                     China Agricultural University           \u001b[0m\n",
      "\u001b[0mASM2977583v1         NCBI     GCA_029775835.1     4577     \u001b[31m✗\u001b[39m      Zea mays                                 Beijing Lantron Seed Co., LTD.          \u001b[0m\n",
      "\u001b[0mZm-TPD-CSHL-1.0      NCBI     GCA_030347615.1     4577     \u001b[31m✗\u001b[39m      Zea mays subsp. mays                     Cold Spring Harbor Laboratory           \u001b[0m\n",
      "\u001b[0mASM3120217v1         NCBI     GCA_031202175.1  2738921     \u001b[32m✓\u001b[39m      Zea mays polerovirus                     School of Medicine, Jiangsu University  \u001b[0m\n",
      "\u001b[0mASM4126016v1         NCBI     GCA_041260165.1     4577     \u001b[31m✗\u001b[39m      Zea mays subsp. mays                     China Agricultural University           \u001b[0m\n",
      "\u001b[0mChang7-2v1           NCBI     GCA_041380725.1     4577     \u001b[31m✗\u001b[39m      Zea mays                                 Institute of Crop Sciences of CAAS      \u001b[0m\n",
      "\u001b[0mYu82_v1.0            NCBI     GCA_042768475.1     4577     \u001b[31m✗\u001b[39m      Zea mays                                 Henan Agricultural University           \u001b[0m\n",
      "\u001b[0mD132_v1.0            NCBI     GCA_044509805.1     4577     \u001b[31m✗\u001b[39m      Zea mays                                 Henan Agricultural University           \u001b[0m\n",
      "\u001b[0mASM4737241v1         NCBI     GCA_047372415.1     4577     \u001b[31m✗\u001b[39m      Zea mays                                 Center for Excellence in Molecular Plant Sciences, CAS\u001b[0m\n",
      "\u001b[0moilsands_bin_058     NCBI     GCA_900230695.1     4577     \u001b[31m✗\u001b[39m      Zea mays subsp. mays                     BILS                                    \u001b[0m\n",
      "\u001b[0moilsands_bin_059     NCBI     GCA_900230705.1     4577     \u001b[31m✗\u001b[39m      Zea mays subsp. mays                     BILS                                    \u001b[0m\n",
      "\u001b[0moilsands_bin_072     NCBI     GCA_900230715.1     4577     \u001b[31m✗\u001b[39m      Zea mays subsp. mays                     BILS                                    \u001b[0m\n",
      "\u001b[0moilsands_bin_073     NCBI     GCA_900230725.1     4577     \u001b[31m✗\u001b[39m      Zea mays subsp. mays                     BILS                                    \u001b[0m\n",
      "\u001b[0moilsands_bin_083     NCBI     GCA_900230735.1     4577     \u001b[31m✗\u001b[39m      Zea mays subsp. mays                     BILS                                    \u001b[0m\n",
      "\u001b[0moilsands_bin_075     NCBI     GCA_900230745.1     4577     \u001b[31m✗\u001b[39m      Zea mays subsp. mays                     BILS                                    \u001b[0m\n",
      "\u001b[0moilsands_bin_079     NCBI     GCA_900230755.1     4577     \u001b[31m✗\u001b[39m      Zea mays subsp. mays                     BILS                                    \u001b[0m\n",
      "\u001b[0moilsands_bin_084     NCBI     GCA_900230765.1     4577     \u001b[31m✗\u001b[39m      Zea mays subsp. mays                     BILS                                    \u001b[0m\n",
      "\u001b[0moilsands_bin_086     NCBI     GCA_900230775.1     4577     \u001b[31m✗\u001b[39m      Zea mays subsp. mays                     BILS                                    \u001b[0m\n",
      "\u001b[0moilsands_bin_099     NCBI     GCA_900230785.1     4577     \u001b[31m✗\u001b[39m      Zea mays subsp. mays                     BILS                                    \u001b[0m\n",
      "\u001b[0moilsands_bin_096     NCBI     GCA_900230795.1     4577     \u001b[31m✗\u001b[39m      Zea mays subsp. mays                     BILS                                    \u001b[0m\n",
      "\u001b[0moilsands_bin_136     NCBI     GCA_900230805.1     4577     \u001b[31m✗\u001b[39m      Zea mays subsp. mays                     BILS                                    \u001b[0m\n",
      "\u001b[0moilsands_bin_133     NCBI     GCA_900230815.1     4577     \u001b[31m✗\u001b[39m      Zea mays subsp. mays                     BILS                                    \u001b[0m\n",
      "\u001b[0moilsands_bin_122     NCBI     GCA_900230825.1     4577     \u001b[31m✗\u001b[39m      Zea mays subsp. mays                     BILS                                    \u001b[0m\n",
      "\u001b[0moilsands_bin_091     NCBI     GCA_900230835.1     4577     \u001b[31m✗\u001b[39m      Zea mays subsp. mays                     BILS                                    \u001b[0m\n",
      "\u001b[0moilsands_bin_137     NCBI     GCA_900230845.1     4577     \u001b[31m✗\u001b[39m      Zea mays subsp. mays                     BILS                                    \u001b[0m\n",
      "\u001b[0moilsands_bin_144     NCBI     GCA_900230855.1     4577     \u001b[31m✗\u001b[39m      Zea mays subsp. mays                     BILS                                    \u001b[0m\n",
      "\u001b[0moilsands_bin_150     NCBI     GCA_900230865.1     4577     \u001b[31m✗\u001b[39m      Zea mays subsp. mays                     BILS                                    \u001b[0m\n",
      "\u001b[0moilsands_bin_151     NCBI     GCA_900230905.1     4577     \u001b[31m✗\u001b[39m      Zea mays subsp. mays                     BILS                                    \u001b[0m\n",
      "\u001b[0moilsands_bin_157     NCBI     GCA_900230915.1     4577     \u001b[31m✗\u001b[39m      Zea mays subsp. mays                     BILS                                    \u001b[0m\n",
      "\u001b[0moilsands_bin_153     NCBI     GCA_900230925.1     4577     \u001b[31m✗\u001b[39m      Zea mays subsp. mays                     BILS                                    \u001b[0m\n",
      "\u001b[0moilsands_bin_154     NCBI     GCA_900230935.1     4577     \u001b[31m✗\u001b[39m      Zea mays subsp. mays                     BILS                                    \u001b[0m\n",
      "\u001b[0moilsands_bin_158     NCBI     GCA_900230945.1     4577     \u001b[31m✗\u001b[39m      Zea mays subsp. mays                     BILS                                    \u001b[0m\n",
      "\u001b[0mZm-Oh7B-REFERENCE-NAM-1.0 NCBI     GCA_902166955.1     4577     \u001b[31m✗\u001b[39m      Zea mays                                 MaizeGDB                                \u001b[0m\n",
      "\u001b[0mZm-P39-REFERENCE-NAM-1.0 NCBI     GCA_902166965.1     4577     \u001b[31m✗\u001b[39m      Zea mays                                 MaizeGDB                                \u001b[0m\n",
      "\u001b[0mZm-CML247-REFERENCE-NAM-1.0 NCBI     GCA_902166975.1     4577     \u001b[31m✗\u001b[39m      Zea mays                                 MaizeGDB                                \u001b[0m\n",
      "\u001b[0mZm-CML277-REFERENCE-NAM-1.0 NCBI     GCA_902166985.1     4577     \u001b[31m✗\u001b[39m      Zea mays                                 MaizeGDB                                \u001b[0m\n",
      "\u001b[0mZm-M162W-REFERENCE-NAM-1.0 NCBI     GCA_902166995.1     4577     \u001b[31m✗\u001b[39m      Zea mays                                 MaizeGDB                                \u001b[0m\n",
      "\u001b[0mZm-NC350-REFERENCE-NAM-1.0 NCBI     GCA_902167005.1     4577     \u001b[31m✗\u001b[39m      Zea mays                                 MaizeGDB                                \u001b[0m\n",
      "\u001b[0mZm-Oh43-REFERENCE-NAM-1.0 NCBI     GCA_902167015.1     4577     \u001b[31m✗\u001b[39m      Zea mays                                 MaizeGDB                                \u001b[0m\n",
      "\u001b[0mZm-CML333-REFERENCE-NAM-1.0 NCBI     GCA_902167025.1     4577     \u001b[31m✗\u001b[39m      Zea mays                                 MaizeGDB                                \u001b[0m\n",
      "\u001b[0mZm-NC358-REFERENCE-NAM-1.0 NCBI     GCA_902167035.1     4577     \u001b[31m✗\u001b[39m      Zea mays                                 MaizeGDB                                \u001b[0m\n",
      "\u001b[0mZm-Ky21-REFERENCE-NAM-1.0 NCBI     GCA_902167045.1     4577     \u001b[31m✗\u001b[39m      Zea mays                                 MaizeGDB                                \u001b[0m\n",
      "\u001b[0mZm-CML103-REFERENCE-NAM-1.0 NCBI     GCA_902167055.1     4577     \u001b[31m✗\u001b[39m      Zea mays                                 MaizeGDB                                \u001b[0m\n",
      "\u001b[0mZm-Il14H-REFERENCE-NAM-1.0 NCBI     GCA_902167065.1     4577     \u001b[31m✗\u001b[39m      Zea mays                                 MaizeGDB                                \u001b[0m\n",
      "\u001b[0mZm-B97-REFERENCE-NAM-1.0 NCBI     GCA_902167075.1     4577     \u001b[31m✗\u001b[39m      Zea mays                                 MaizeGDB                                \u001b[0m\n",
      "\u001b[0mZm-HP301-REFERENCE-NAM-1.0 NCBI     GCA_902167085.1     4577     \u001b[31m✗\u001b[39m      Zea mays                                 MaizeGDB                                \u001b[0m\n",
      "\u001b[0mZm-CML322-REFERENCE-NAM-1.0 NCBI     GCA_902167095.1     4577     \u001b[31m✗\u001b[39m      Zea mays                                 MaizeGDB                                \u001b[0m\n",
      "\u001b[0mZm-Ki3-REFERENCE-NAM-1.0 NCBI     GCA_902167105.1     4577     \u001b[31m✗\u001b[39m      Zea mays                                 MaizeGDB                                \u001b[0m\n",
      "\u001b[0mZm-Ki11-REFERENCE-NAM-1.0 NCBI     GCA_902167115.1     4577     \u001b[31m✗\u001b[39m      Zea mays                                 MaizeGDB                                \u001b[0m\n",
      "\u001b[0mZm-CML69-REFERENCE-NAM-1.0 NCBI     GCA_902167135.1     4577     \u001b[31m✗\u001b[39m      Zea mays                                 MaizeGDB                                \u001b[0m\n",
      "\u001b[0mZm-B73-REFERENCE-NAM-5.0 NCBI     GCF_902167145.1     4577     \u001b[32m✓\u001b[39m      Zea mays                                 MaizeGDB                                \u001b[0m\n",
      "\u001b[0mZm-CML228-REFERENCE-NAM-1.0 NCBI     GCA_902167155.1     4577     \u001b[31m✗\u001b[39m      Zea mays                                 MaizeGDB                                \u001b[0m\n",
      "\u001b[0mZm-Mo18W-REFERENCE-NAM-1.0 NCBI     GCA_902167165.1     4577     \u001b[31m✗\u001b[39m      Zea mays                                 MaizeGDB                                \u001b[0m\n",
      "\u001b[0mZm-M37W-REFERENCE-NAM-1.0 NCBI     GCA_902167175.1     4577     \u001b[31m✗\u001b[39m      Zea mays                                 MaizeGDB                                \u001b[0m\n",
      "\u001b[0mZm-Tzi8-REFERENCE-NAM-1.0 NCBI     GCA_902167185.1     4577     \u001b[31m✗\u001b[39m      Zea mays                                 MaizeGDB                                \u001b[0m\n",
      "\u001b[0mZm-Tx303-REFERENCE-NAM-1.0 NCBI     GCA_902167205.1     4577     \u001b[31m✗\u001b[39m      Zea mays                                 MaizeGDB                                \u001b[0m\n",
      "\u001b[0mZm-Ms71-REFERENCE-NAM-1.0 NCBI     GCA_902167375.1     4577     \u001b[31m✗\u001b[39m      Zea mays                                 MaizeGDB                                \u001b[0m\n",
      "\u001b[0mZm-CML52-REFERENCE-NAM-2.1 NCBI     GCA_902373975.1     4577     \u001b[31m✗\u001b[39m      Zea mays                                 MaizeGDB                                \u001b[0m\n",
      "\u001b[0mZm-B73_AB10-REFERENCE-NAM-1.0b NCBI     GCA_902714155.1     4577     \u001b[31m✗\u001b[39m      Zea mays                                 MaizeGDB                                \u001b[0m\n",
      "\u001b[0mZm-LH244-REFERENCE-BAYER-1.0 NCBI     GCA_905067065.1     4577     \u001b[31m✗\u001b[39m      Zea mays                                 BAYER CROPSCIENCE                       \u001b[0m\n",
      "\u001b[0mZm-B104-REFERENCE-CORTEVA-1.0 NCBI     GCA_910593975.1     4577     \u001b[31m✗\u001b[39m      Zea mays                                 MaizeGDB                                \u001b[0m\n",
      "\u001b[0mMaize.hicanu         NCBI     GCA_933823745.1     4577     \u001b[31m✗\u001b[39m      Zea mays                                 Keygene N.V.                            \u001b[0m\n",
      "\u001b[0mZm-PT-REFERENCE-HiLo-1.0 NCBI     GCA_963555555.1     4577     \u001b[31m✗\u001b[39m      Zea mays subsp. mays                     MaizeGDB                                \u001b[0m\n",
      "\u001b[0mZm-CML530-REFERENCE-HiLo-1.0 NCBI     GCA_963555565.1     4577     \u001b[31m✗\u001b[39m      Zea mays subsp. mays                     MaizeGDB                                \u001b[0m\n",
      "\u001b[0mZm-CML459-REFERENCE-HiLo-1.0 NCBI     GCA_963555605.1     4577     \u001b[31m✗\u001b[39m      Zea mays subsp. mays                     MaizeGDB                                \u001b[0m\n",
      "\u001b[0mZm-CML457-REFERENCE-HiLo-1.0 NCBI     GCA_963555615.1     4577     \u001b[31m✗\u001b[39m      Zea mays subsp. mays                     MaizeGDB                                \u001b[0m\n",
      "\u001b[0mZm-PHZ51-Draft-G2F-1.0 NCBI     GCA_963555735.1     4577     \u001b[31m✗\u001b[39m      Zea mays subsp. mays                     Cornell University                      \u001b[0m\n",
      "\u001b[0mZm-CG119-Draft-G2F-1.0 NCBI     GCA_963556005.1     4577     \u001b[31m✗\u001b[39m      Zea mays subsp. mays                     Cornell University                      \u001b[0m\n",
      "\u001b[0mZm-PHT69-Draft-G2F-1.0 NCBI     GCA_963556015.1     4577     \u001b[31m✗\u001b[39m      Zea mays subsp. mays                     Cornell University                      \u001b[0m\n",
      "\u001b[0mZm-Tx779-Draft-G2F-1.0 NCBI     GCA_963674995.1     4577     \u001b[31m✗\u001b[39m      Zea mays subsp. mays                     Cornell University                      \u001b[0m\n",
      "\u001b[0mZm-CG108-Draft-G2F-1.0 NCBI     GCA_963675005.1     4577     \u001b[31m✗\u001b[39m      Zea mays subsp. mays                     Cornell University                      \u001b[0m\n",
      "\u001b[0mZm-Tx777-Draft-G2F-1.0 NCBI     GCA_963675015.1     4577     \u001b[31m✗\u001b[39m      Zea mays subsp. mays                     Cornell University                      \u001b[0m\n",
      "\u001b[0mZm-CG44-Draft-G2F-1.0 NCBI     GCA_963675025.1     4577     \u001b[31m✗\u001b[39m      Zea mays subsp. mays                     Cornell University                      \u001b[0m\n",
      "\u001b[0mZm-CGR01-Draft-G2F-1.0 NCBI     GCA_963680795.1     4577     \u001b[31m✗\u001b[39m      Zea mays subsp. mays                     Cornell University                      \u001b[0m\n",
      "\u001b[0mZm-Mo44-Draft-G2F-1.0 NCBI     GCA_963692765.1     4577     \u001b[31m✗\u001b[39m      Zea mays subsp. mays                     Cornell University                      \u001b[0m\n",
      "\u001b[0mZm-MoG-Draft-G2F-1.0 NCBI     GCA_963693405.1     4577     \u001b[31m✗\u001b[39m      Zea mays subsp. mays                     Cornell University                      \u001b[0m\n",
      "\u001b[0mZm-LH195-Draft-G2F-1.0 NCBI     GCA_963693415.1     4577     \u001b[31m✗\u001b[39m      Zea mays subsp. mays                     Cornell University                      \u001b[0m\n",
      "\u001b[0mZm-PHW65-Draft-G2F-1.0 NCBI     GCA_963693425.1     4577     \u001b[31m✗\u001b[39m      Zea mays subsp. mays                     Cornell University                      \u001b[0m\n",
      "\u001b[0mZm-PHN11-Draft-G2F-1.0 NCBI     GCA_963859685.1     4577     \u001b[31m✗\u001b[39m      Zea mays subsp. mays                     Cornell University                      \u001b[0m\n",
      "\u001b[0mTeosinte_Til11_Genome_Assembly NCBI     GCA_963969605.1     4577     \u001b[31m✗\u001b[39m      Zea mays subsp. parviglumis              MaizeCODE                               \u001b[0m\n",
      "\u001b[0mZm-PDJ-REFERENCE-HiLo-1.0 NCBI     GCA_964199765.1     4577     \u001b[31m✗\u001b[39m      Zea mays subsp. mays                     MaizeGDB                                \u001b[0m\n",
      "\u001b[0mZm-ZAP-REFERENCE-HiLo-1.0 NCBI     GCA_964199775.1     4577     \u001b[31m✗\u001b[39m      Zea mays subsp. mays                     MaizeGDB                                \u001b[0m\n",
      "\u001b[0mZm-TAB-REFERENCE-HiLo-1.0 NCBI     GCA_964199785.1     4577     \u001b[31m✗\u001b[39m      Zea mays subsp. mays                     MaizeGDB                                \u001b[0m\n",
      "\u001b[0m\u001b[32m ^\u001b[0m\n",
      "\u001b[0m\u001b[32m Use name for \u001b[36mgenomepy install\u001b[0m\n",
      "\u001b[0m\u001b[0m"
     ]
    }
   ],
   "source": [
    "# show available assemblies\n",
    "!genomepy search --provider NCBI {organism}"
   ]
  },
  {
   "cell_type": "code",
   "execution_count": 96,
   "metadata": {},
   "outputs": [
    {
     "name": "stdout",
     "output_type": "stream",
     "text": [
      "\u001b[1mname                 provider accession         tax_id annotation species                                  other_info                              \u001b[0m\n",
      "\u001b[0mZm-B73-REFERENCE-NAM-5.0 Ensembl  GCA_902167145.1     4577     \u001b[32m✓\u001b[39m      Zea mays                                 2019-12-CSHL/2019-12                    \u001b[0m\n",
      "\u001b[0m\u001b[32m ^\u001b[0m\n",
      "\u001b[0m\u001b[32m Use name for \u001b[36mgenomepy install\u001b[0m\n",
      "\u001b[0m\u001b[0m"
     ]
    }
   ],
   "source": [
    "# show available assemblies\n",
    "!genomepy search --provider Ensembl {organism}"
   ]
  },
  {
   "cell_type": "code",
   "execution_count": null,
   "metadata": {},
   "outputs": [],
   "source": [
    "# set the genome name\n",
    "genome_name = \"Zm-B73-REFERENCE-NAM-5.0\""
   ]
  },
  {
   "cell_type": "code",
   "execution_count": 100,
   "metadata": {},
   "outputs": [
    {
     "name": "stdout",
     "output_type": "stream",
     "text": [
      "\u001b[32m15:23:10\u001b[0m \u001b[1m|\u001b[0m \u001b[34mINFO\u001b[0m \u001b[1m|\u001b[0m Downloading genome from Ensembl. Target URL: http://ftp.ensemblgenomes.org/pub/release-60/plants/fasta/zea_mays/dna/Zea_mays.Zm-B73-REFERENCE-NAM-5.0.dna_sm.toplevel.fa.gz...\n",
      "Download: 100%|██████████████████████████████| 641M/641M [00:21<00:00, 31.9MB/s]\u001b[0m\u001b[0m\n",
      "\u001b[0m\u001b[32m15:23:31\u001b[0m \u001b[1m|\u001b[0m \u001b[34mINFO\u001b[0m \u001b[1m|\u001b[0m Genome download successful, starting post processing...\n",
      "\u001b[32m15:23:41\u001b[0m \u001b[1m|\u001b[0m \u001b[34mINFO\u001b[0m \u001b[1m|\u001b[0m name: Zm-B73-REFERENCE-NAM-5.0\n",
      "\u001b[32m15:23:41\u001b[0m \u001b[1m|\u001b[0m \u001b[34mINFO\u001b[0m \u001b[1m|\u001b[0m local name: Zm-B73-REFERENCE-NAM-5.0\n",
      "\u001b[32m15:23:41\u001b[0m \u001b[1m|\u001b[0m \u001b[34mINFO\u001b[0m \u001b[1m|\u001b[0m fasta: /scratch/multiomics/nickyoungblut/star_refs/Zea_mays/Zm-B73-REFERENCE-NAM-5.0/Zm-B73-REFERENCE-NAM-5.0.fa\n",
      "Filtering Fasta: 36.4M lines [00:08, 4.19M lines/s]\u001b[0m\u001b[0m\n",
      "\u001b[0m\u001b[32m15:24:22\u001b[0m \u001b[1m|\u001b[0m \u001b[34mINFO\u001b[0m \u001b[1m|\u001b[0m Downloading annotation from Ensembl. Target URL: http://ftp.ensemblgenomes.org/pub/release-60/plants/gtf/zea_mays/Zea_mays.Zm-B73-REFERENCE-NAM-5.0.60.gtf.gz...\n",
      "Download: 100%|████████████████████████████| 14.2M/14.2M [00:01<00:00, 13.5MB/s]\u001b[0m\u001b[0m\n",
      "\u001b[0m\u001b[32m15:24:27\u001b[0m \u001b[1m|\u001b[0m \u001b[34mINFO\u001b[0m \u001b[1m|\u001b[0m Annotation download successful\n",
      "\u001b[0m"
     ]
    }
   ],
   "source": [
    "# download genome\n",
    "!genomepy install --provider Ensembl --annotation --genomes_dir {work_dir} {genome_name}"
   ]
  },
  {
   "cell_type": "code",
   "execution_count": 101,
   "metadata": {},
   "outputs": [
    {
     "data": {
      "text/plain": [
       "'/scratch/multiomics/nickyoungblut/star_refs/Zea_mays/Zm-B73-REFERENCE-NAM-5.0/Zm-B73-REFERENCE-NAM-5.0.fa'"
      ]
     },
     "execution_count": 101,
     "metadata": {},
     "output_type": "execute_result"
    }
   ],
   "source": [
    "# get genome fasta\n",
    "fasta_file = glob(f\"{work_dir}/{genome_name}/*.fa\")[0]\n",
    "fasta_file"
   ]
  },
  {
   "cell_type": "code",
   "execution_count": 102,
   "metadata": {},
   "outputs": [
    {
     "data": {
      "text/plain": [
       "'/scratch/multiomics/nickyoungblut/star_refs/Zea_mays/Zm-B73-REFERENCE-NAM-5.0/Zm-B73-REFERENCE-NAM-5.0.annotation.gtf'"
      ]
     },
     "execution_count": 102,
     "metadata": {},
     "output_type": "execute_result"
    }
   ],
   "source": [
    "# get gtf file\n",
    "gtf_file = glob(f\"{work_dir}/{genome_name}/*.gtf\")[0]\n",
    "gtf_file"
   ]
  },
  {
   "cell_type": "code",
   "execution_count": 103,
   "metadata": {},
   "outputs": [
    {
     "name": "stdout",
     "output_type": "stream",
     "text": [
      "Processing GTF: Zm-B73-REFERENCE-NAM-5.0.annotation.gtf\n",
      "Output GTF: /scratch/multiomics/nickyoungblut/star_refs/Zea_mays/Zea_mays/Zea_mays.gtf\n",
      "Total records in GTF: 1302218\n",
      "Filtered 18078 records by biotype\n",
      "Filtered 0 records by tag\n",
      "-- Count of biotypes filtered --\n",
      "misc_non_coding: 18078\n",
      "-- Count of biotypes kept --\n",
      "protein_coding: 2528524\n",
      "----------------------------\n"
     ]
    }
   ],
   "source": [
    "# format the reference\n",
    "exe = os.path.join(script_dir, \"format-star-ref.py\")\n",
    "!{exe} --organism \"{organism}\"  --output-dir {work_dir} {gtf_file} "
   ]
  },
  {
   "cell_type": "code",
   "execution_count": 104,
   "metadata": {},
   "outputs": [
    {
     "data": {
      "text/plain": [
       "True"
      ]
     },
     "execution_count": 104,
     "metadata": {},
     "output_type": "execute_result"
    }
   ],
   "source": [
    "# set the filtered gtf file\n",
    "gtf_filt_file = os.path.join(work_dir, org_str, f\"{org_str}.gtf\")\n",
    "os.path.exists(gtf_filt_file)"
   ]
  },
  {
   "cell_type": "code",
   "execution_count": 105,
   "metadata": {},
   "outputs": [
    {
     "name": "stdout",
     "output_type": "stream",
     "text": [
      "\t/home/nickyoungblut/miniforge3/envs/asmbl/bin/STAR-avx2 --runThreadN 16 --runMode genomeGenerate --genomeDir /scratch/multiomics/nickyoungblut/star_refs/Zea_mays/star --genomeFastaFiles /scratch/multiomics/nickyoungblut/star_refs/Zea_mays/Zm-B73-REFERENCE-NAM-5.0/Zm-B73-REFERENCE-NAM-5.0.fa --sjdbGTFfile /scratch/multiomics/nickyoungblut/star_refs/Zea_mays/Zea_mays/Zea_mays.gtf --sjdbOverhang 100\n",
      "\tSTAR version: 2.7.11b   compiled: 2025-01-09T12:32:06+0000 :/opt/conda/conda-bld/star_1736425784849/work/source\n",
      "Feb 01 15:24:44 ..... started STAR run\n",
      "!!!!! WARNING: Could not move Log.out file from ./Log.out into /scratch/multiomics/nickyoungblut/star_refs/Zea_mays/star/Log.out. Will keep ./Log.out\n",
      "\n",
      "Feb 01 15:24:44 ... starting to generate Genome files\n",
      "Feb 01 15:25:13 ..... processing annotations GTF\n",
      "Feb 01 15:25:23 ... starting to sort Suffix Array. This may take a long time...\n",
      "Feb 01 15:25:30 ... sorting Suffix Array chunks and saving them to disk...\n",
      "Feb 01 15:33:25 ... loading chunks from disk, packing SA...\n",
      "Feb 01 15:34:19 ... finished generating suffix array\n",
      "Feb 01 15:34:19 ... generating Suffix Array index\n",
      "Feb 01 15:37:23 ... completed Suffix Array index\n",
      "Feb 01 15:37:23 ..... inserting junctions into the genome indices\n",
      "Feb 01 15:39:05 ... writing Genome to disk ...\n",
      "Feb 01 15:39:07 ... writing Suffix Array to disk ...\n",
      "Feb 01 15:39:29 ... writing SAindex to disk\n",
      "Feb 01 15:39:32 ..... finished successfully\n"
     ]
    }
   ],
   "source": [
    "# create the star index\n",
    "star_dir = os.path.join(work_dir, \"star\")\n",
    "os.makedirs(star_dir, exist_ok=True)\n",
    "\n",
    "!STAR --runThreadN 16 \\\n",
    "    --runMode genomeGenerate \\\n",
    "    --genomeDir {star_dir} \\\n",
    "    --genomeFastaFiles {fasta_file} \\\n",
    "    --sjdbGTFfile {gtf_filt_file} \\\n",
    "    --sjdbOverhang 100"
   ]
  },
  {
   "cell_type": "markdown",
   "metadata": {},
   "source": [
    "# Saccharomyces cerevisiae"
   ]
  },
  {
   "cell_type": "code",
   "execution_count": 97,
   "metadata": {},
   "outputs": [],
   "source": [
    "organism = \"Saccharomyces cerevisiae\""
   ]
  },
  {
   "cell_type": "code",
   "execution_count": 98,
   "metadata": {},
   "outputs": [],
   "source": [
    "# format\n",
    "org_str = organism.replace(\" \", \"_\")\n",
    "work_dir = os.path.join(base_dir, org_str)\n",
    "os.makedirs(work_dir, exist_ok=True)"
   ]
  },
  {
   "cell_type": "code",
   "execution_count": 100,
   "metadata": {},
   "outputs": [
    {
     "name": "stdout",
     "output_type": "stream",
     "text": [
      "name\tprovider\taccession\ttax_id\tannotation\tspecies\tother_info\n",
      "ASM9106v1\tNCBI\tGCA_000091065.1\t4932\tTrue\tSaccharomyces cerevisiae\tTsukuba Life Science Center\n",
      "M22\tNCBI\tGCA_000182075.1\t4932\tFalse\tSaccharomyces cerevisiae M22\tWashington University School of Medicine (WashU)\n",
      "YPS163\tNCBI\tGCA_000182095.1\t4932\tFalse\tSaccharomyces cerevisiae YPS163\tWashington University School of Medicine (WashU)\n",
      "K7_1.0\tNCBI\tGCA_000260735.2\t4932\tTrue\tSaccharomyces cerevisiae Kyokai no. 7\tNational Research Institute of Brewing\n",
      "ScNAM34-4C_assembly01\tNCBI\tGCA_000508805.2\t4932\tFalse\tSaccharomyces cerevisiae NAM34-4C\tNational Institute of Advanced Industrial Science and Technology\n",
      "ScIR-2_assembly01\tNCBI\tGCA_000508825.2\t4932\tFalse\tSaccharomyces cerevisiae IR-2\tNational Institute of Advanced Industrial Science and Technology\n",
      "Sc_YJM993_v1\tNCBI\tGCA_000662435.2\t4932\tTrue\tSaccharomyces cerevisiae YJM993\tDuke University\n",
      "ASM73323v1\tNCBI\tGCA_000733235.1\t4932\tTrue\tSaccharomyces cerevisiae UFMG A-905\tUFMG\n",
      "ASM73323v2\tNCBI\tGCA_000733235.2\t4932\tTrue\tSaccharomyces cerevisiae UFMG A-905\tUFMG\n",
      "Sc_YJM195_v1\tNCBI\tGCA_000975585.2\t4932\tTrue\tSaccharomyces cerevisiae YJM195\tDuke University\n",
      "Sc_YJM244_v1\tNCBI\tGCA_000975615.2\t4932\tTrue\tSaccharomyces cerevisiae YJM244\tDuke University\n",
      "Sc_YJM1078_v1\tNCBI\tGCA_000975645.3\t4932\tTrue\tSaccharomyces cerevisiae YJM1078\tDuke University\n",
      "Sc_YJM1083_v1\tNCBI\tGCA_000975675.2\t4932\tTrue\tSaccharomyces cerevisiae YJM1083\tDuke University\n",
      "Sc_YJM1129_v1\tNCBI\tGCA_000975705.2\t4932\tTrue\tSaccharomyces cerevisiae YJM1129\tDuke University\n",
      "Sc_YJM189_v1\tNCBI\tGCA_000975735.4\t4932\tTrue\tSaccharomyces cerevisiae YJM189\tDuke University\n",
      "Sc_YJM193_v1\tNCBI\tGCA_000975765.2\t4932\tTrue\tSaccharomyces cerevisiae YJM193\tDuke University\n",
      "Sc_YJM248_v1\tNCBI\tGCA_000975795.2\t4932\tTrue\tSaccharomyces cerevisiae YJM248\tDuke University\n",
      "Sc_YJM270_v1\tNCBI\tGCA_000975825.2\t4932\tTrue\tSaccharomyces cerevisiae YJM270\tDuke University\n",
      "Sc_YJM271_v1\tNCBI\tGCA_000975855.3\t4932\tTrue\tSaccharomyces cerevisiae YJM271\tDuke University\n",
      "Sc_YJM320_v1\tNCBI\tGCA_000975885.2\t4932\tTrue\tSaccharomyces cerevisiae YJM320\tDuke University\n",
      "Sc_YJM326_v1\tNCBI\tGCA_000975915.3\t4932\tTrue\tSaccharomyces cerevisiae YJM326\tDuke University\n",
      "Sc_YJM428_v1\tNCBI\tGCA_000975945.2\t4932\tTrue\tSaccharomyces cerevisiae YJM428\tDuke University\n",
      "Sc_YJM450_v1\tNCBI\tGCA_000975975.3\t4932\tTrue\tSaccharomyces cerevisiae YJM450\tDuke University\n",
      "Sc_YJM451_v1\tNCBI\tGCA_000976005.2\t4932\tTrue\tSaccharomyces cerevisiae YJM451\tDuke University\n",
      "Sc_YJM453_v1\tNCBI\tGCA_000976035.2\t4932\tTrue\tSaccharomyces cerevisiae YJM453\tDuke University\n",
      "Sc_YJM456_v1\tNCBI\tGCA_000976065.2\t4932\tTrue\tSaccharomyces cerevisiae YJM456\tDuke University\n",
      "Sc_YJM470_v1\tNCBI\tGCA_000976095.2\t4932\tTrue\tSaccharomyces cerevisiae YJM470\tDuke University\n",
      "Sc_YJM541_v1\tNCBI\tGCA_000976125.2\t4932\tTrue\tSaccharomyces cerevisiae YJM541\tDuke University\n",
      "Sc_YJM554_v1\tNCBI\tGCA_000976155.4\t4932\tTrue\tSaccharomyces cerevisiae YJM554\tDuke University\n",
      "Sc_YJM555_v1\tNCBI\tGCA_000976185.3\t4932\tTrue\tSaccharomyces cerevisiae YJM555\tDuke University\n",
      "Sc_YJM627_v1\tNCBI\tGCA_000976215.2\t4932\tTrue\tSaccharomyces cerevisiae YJM627\tDuke University\n",
      "Sc_YJM681_v1\tNCBI\tGCA_000976245.2\t4932\tTrue\tSaccharomyces cerevisiae YJM681\tDuke University\n",
      "Sc_YJM682_v1\tNCBI\tGCA_000976275.4\t4932\tTrue\tSaccharomyces cerevisiae YJM682\tDuke University\n",
      "Sc_YJM683_v1\tNCBI\tGCA_000976305.2\t4932\tTrue\tSaccharomyces cerevisiae YJM683\tDuke University\n",
      "Sc_YJM689_v1\tNCBI\tGCA_000976335.2\t4932\tTrue\tSaccharomyces cerevisiae YJM689\tDuke University\n",
      "Sc_YJM693_v1\tNCBI\tGCA_000976365.2\t4932\tTrue\tSaccharomyces cerevisiae YJM693\tDuke University\n",
      "Sc_YJM969_v1\tNCBI\tGCA_000976395.2\t4932\tTrue\tSaccharomyces cerevisiae YJM969\tDuke University\n",
      "Sc_YJM972_v1\tNCBI\tGCA_000976425.2\t4932\tTrue\tSaccharomyces cerevisiae YJM972\tDuke University\n",
      "Sc_YJM975_v1\tNCBI\tGCA_000976455.3\t4932\tTrue\tSaccharomyces cerevisiae YJM975\tDuke University\n",
      "Sc_YJM978_v1\tNCBI\tGCA_000976485.2\t4932\tTrue\tSaccharomyces cerevisiae YJM978\tDuke University\n",
      "Sc_YJM981_v1\tNCBI\tGCA_000976515.2\t4932\tTrue\tSaccharomyces cerevisiae YJM981\tDuke University\n",
      "Sc_YJM984_v1\tNCBI\tGCA_000976545.2\t4932\tTrue\tSaccharomyces cerevisiae YJM984\tDuke University\n",
      "Sc_YJM987_v1\tNCBI\tGCA_000976575.4\t4932\tTrue\tSaccharomyces cerevisiae YJM987\tDuke University\n",
      "Sc_YJM990_v1\tNCBI\tGCA_000976605.3\t4932\tTrue\tSaccharomyces cerevisiae YJM990\tDuke University\n",
      "Sc_YJM996_v1\tNCBI\tGCA_000976665.2\t4932\tTrue\tSaccharomyces cerevisiae YJM996\tDuke University\n",
      "Sc_YJM1133_v1\tNCBI\tGCA_000976695.3\t4932\tTrue\tSaccharomyces cerevisiae YJM1133\tDuke University\n",
      "Sc_YJM1190_v1\tNCBI\tGCA_000976725.3\t4932\tTrue\tSaccharomyces cerevisiae YJM1190\tDuke University\n",
      "Sc_YJM1199_v1\tNCBI\tGCA_000976755.2\t4932\tTrue\tSaccharomyces cerevisiae YJM1199\tDuke University\n",
      "Sc_YJM1202_v1\tNCBI\tGCA_000976785.2\t4932\tTrue\tSaccharomyces cerevisiae YJM1202\tDuke University\n",
      "Sc_YJM1208_v1\tNCBI\tGCA_000976815.3\t4932\tTrue\tSaccharomyces cerevisiae YJM1208\tDuke University\n",
      "Sc_YJM1242_v1\tNCBI\tGCA_000976845.3\t4932\tTrue\tSaccharomyces cerevisiae YJM1242\tDuke University\n",
      "Sc_YJM1244_v1\tNCBI\tGCA_000976875.3\t4932\tTrue\tSaccharomyces cerevisiae YJM1244\tDuke University\n",
      "Sc_YJM1248_v1\tNCBI\tGCA_000976905.2\t4932\tTrue\tSaccharomyces cerevisiae YJM1248\tDuke University\n",
      "Sc_YJM1250_v1\tNCBI\tGCA_000976935.2\t4932\tTrue\tSaccharomyces cerevisiae YJM1250\tDuke University\n",
      "Sc_YJM1252_v1\tNCBI\tGCA_000976965.3\t4932\tTrue\tSaccharomyces cerevisiae YJM1252\tDuke University\n",
      "Sc_YJM1273_v1\tNCBI\tGCA_000976995.2\t4932\tTrue\tSaccharomyces cerevisiae YJM1273\tDuke University\n",
      "Sc_YJM1304_v1\tNCBI\tGCA_000977025.2\t4932\tTrue\tSaccharomyces cerevisiae YJM1304\tDuke University\n",
      "Sc_YJM1307_v1\tNCBI\tGCA_000977055.4\t4932\tTrue\tSaccharomyces cerevisiae YJM1307\tDuke University\n",
      "Sc_YJM1311_v1\tNCBI\tGCA_000977085.2\t4932\tTrue\tSaccharomyces cerevisiae YJM1311\tDuke University\n",
      "Sc_YJM1326_v1\tNCBI\tGCA_000977115.3\t4932\tTrue\tSaccharomyces cerevisiae YJM1326\tDuke University\n",
      "Sc_YJM1332_v1\tNCBI\tGCA_000977145.2\t4932\tTrue\tSaccharomyces cerevisiae YJM1332\tDuke University\n",
      "Sc_YJM1336_v1\tNCBI\tGCA_000977175.3\t4932\tTrue\tSaccharomyces cerevisiae YJM1336\tDuke University\n",
      "Sc_YJM1338_v1\tNCBI\tGCA_000977205.2\t4932\tTrue\tSaccharomyces cerevisiae YJM1338\tDuke University\n",
      "Sc_YJM1341_v1\tNCBI\tGCA_000977235.2\t4932\tTrue\tSaccharomyces cerevisiae YJM1341\tDuke University\n",
      "Sc_YJM1342_v1\tNCBI\tGCA_000977265.3\t4932\tTrue\tSaccharomyces cerevisiae YJM1342\tDuke University\n",
      "Sc_YJM1355_v1\tNCBI\tGCA_000977295.3\t4932\tTrue\tSaccharomyces cerevisiae YJM1355\tDuke University\n",
      "Sc_YJM1356_v1\tNCBI\tGCA_000977325.2\t4932\tTrue\tSaccharomyces cerevisiae YJM1356\tDuke University\n",
      "Sc_YJM1381_v1\tNCBI\tGCA_000977355.3\t4932\tTrue\tSaccharomyces cerevisiae YJM1381\tDuke University\n",
      "Sc_YJM1383_v1\tNCBI\tGCA_000977385.2\t4932\tTrue\tSaccharomyces cerevisiae YJM1383\tDuke University\n",
      "Sc_YJM1385_v1\tNCBI\tGCA_000977415.2\t4932\tTrue\tSaccharomyces cerevisiae YJM1385\tDuke University\n",
      "Sc_YJM1386_v1\tNCBI\tGCA_000977445.2\t4932\tTrue\tSaccharomyces cerevisiae YJM1386\tDuke University\n",
      "Sc_YJM1387_v1\tNCBI\tGCA_000977475.3\t4932\tTrue\tSaccharomyces cerevisiae YJM1387\tDuke University\n",
      "Sc_YJM1388_v1\tNCBI\tGCA_000977505.2\t4932\tTrue\tSaccharomyces cerevisiae YJM1388\tDuke University\n",
      "Sc_YJM1389_v1\tNCBI\tGCA_000977535.2\t4932\tTrue\tSaccharomyces cerevisiae YJM1389\tDuke University\n",
      "Sc_YJM1399_v1\tNCBI\tGCA_000977565.2\t4932\tTrue\tSaccharomyces cerevisiae YJM1399\tDuke University\n",
      "Sc_YJM1400_v1\tNCBI\tGCA_000977595.3\t4932\tTrue\tSaccharomyces cerevisiae YJM1400\tDuke University\n",
      "Sc_YJM1401_v1\tNCBI\tGCA_000977625.3\t4932\tTrue\tSaccharomyces cerevisiae YJM1401\tDuke University\n",
      "Sc_YJM1402_v1\tNCBI\tGCA_000977655.2\t4932\tTrue\tSaccharomyces cerevisiae YJM1402\tDuke University\n",
      "Sc_YJM1415_v1\tNCBI\tGCA_000977685.2\t4932\tTrue\tSaccharomyces cerevisiae YJM1415\tDuke University\n",
      "Sc_YJM1417_v1\tNCBI\tGCA_000977715.4\t4932\tTrue\tSaccharomyces cerevisiae YJM1417\tDuke University\n",
      "Sc_YJM1418_v1\tNCBI\tGCA_000977745.2\t4932\tTrue\tSaccharomyces cerevisiae YJM1418\tDuke University\n",
      "Sc_YJM1419_v1\tNCBI\tGCA_000977775.3\t4932\tTrue\tSaccharomyces cerevisiae YJM1419\tDuke University\n",
      "Sc_YJM1433_v1\tNCBI\tGCA_000977805.2\t4932\tTrue\tSaccharomyces cerevisiae YJM1433\tDuke University\n",
      "Sc_YJM1434_v1\tNCBI\tGCA_000977835.2\t4932\tTrue\tSaccharomyces cerevisiae YJM1434\tDuke University\n",
      "Sc_YJM1439_v1\tNCBI\tGCA_000977865.2\t4932\tTrue\tSaccharomyces cerevisiae YJM1439\tDuke University\n",
      "Sc_YJM1443_v1\tNCBI\tGCA_000977895.3\t4932\tTrue\tSaccharomyces cerevisiae YJM1443\tDuke University\n",
      "Sc_YJM1444_v1\tNCBI\tGCA_000977925.3\t4932\tTrue\tSaccharomyces cerevisiae YJM1444\tDuke University\n",
      "Sc_YJM1447_v1\tNCBI\tGCA_000977955.2\t4932\tTrue\tSaccharomyces cerevisiae YJM1447\tDuke University\n",
      "Sc_YJM1450_v1\tNCBI\tGCA_000977985.2\t4932\tTrue\tSaccharomyces cerevisiae YJM1450\tDuke University\n",
      "Sc_YJM1460_v1\tNCBI\tGCA_000978015.2\t4932\tTrue\tSaccharomyces cerevisiae YJM1460\tDuke University\n",
      "Sc_YJM1463_v1\tNCBI\tGCA_000978045.2\t4932\tTrue\tSaccharomyces cerevisiae YJM1463\tDuke University\n",
      "Sc_YJM1477_v1\tNCBI\tGCA_000978075.3\t4932\tTrue\tSaccharomyces cerevisiae YJM1477\tDuke University\n",
      "Sc_YJM1478_v1\tNCBI\tGCA_000978105.2\t4932\tTrue\tSaccharomyces cerevisiae YJM1478\tDuke University\n",
      "Sc_YJM1479_v1\tNCBI\tGCA_000978135.2\t4932\tTrue\tSaccharomyces cerevisiae YJM1479\tDuke University\n",
      "Sc_YJM1526_v1\tNCBI\tGCA_000978165.2\t4932\tTrue\tSaccharomyces cerevisiae YJM1526\tDuke University\n",
      "Sc_YJM1527_v1\tNCBI\tGCA_000978195.3\t4932\tTrue\tSaccharomyces cerevisiae YJM1527\tDuke University\n",
      "Sc_YJM1549_v1\tNCBI\tGCA_000978225.2\t4932\tTrue\tSaccharomyces cerevisiae YJM1549\tDuke University\n",
      "Sc_YJM1573_v1\tNCBI\tGCA_000978255.2\t4932\tTrue\tSaccharomyces cerevisiae YJM1573\tDuke University\n",
      "Sc_YJM1574_v1\tNCBI\tGCA_000978285.2\t4932\tTrue\tSaccharomyces cerevisiae YJM1574\tDuke University\n"
     ]
    }
   ],
   "source": [
    "# show available assemblies\n",
    "!genomepy search --provider NCBI {organism} | head -n 100"
   ]
  },
  {
   "cell_type": "code",
   "execution_count": 108,
   "metadata": {},
   "outputs": [
    {
     "name": "stdout",
     "output_type": "stream",
     "text": [
      "\u001b[1mname                 provider accession         tax_id annotation species                                  other_info                              \u001b[0m\n",
      "\u001b[0mR64-1-1              Ensembl  GCA_000146045.2   559292     \u001b[32m✓\u001b[39m      Saccharomyces cerevisiae S288c           2018-08-SGD                             \u001b[0m\n",
      "\u001b[0m\u001b[32m ^\u001b[0m\n",
      "\u001b[0m\u001b[32m Use name for \u001b[36mgenomepy install\u001b[0m\n",
      "\u001b[0m\u001b[0m"
     ]
    }
   ],
   "source": [
    "# show available assemblies\n",
    "!genomepy search --provider Ensembl {organism}"
   ]
  },
  {
   "cell_type": "code",
   "execution_count": null,
   "metadata": {},
   "outputs": [],
   "source": [
    "# set the genome name\n",
    "genome_name = \"R64-1-1\""
   ]
  },
  {
   "cell_type": "code",
   "execution_count": 109,
   "metadata": {},
   "outputs": [
    {
     "name": "stdout",
     "output_type": "stream",
     "text": [
      "\u001b[32m15:43:35\u001b[0m \u001b[1m|\u001b[0m \u001b[34mINFO\u001b[0m \u001b[1m|\u001b[0m Downloading genome from Ensembl. Target URL: http://ftp.ensembl.org/pub/release-113/fasta/saccharomyces_cerevisiae/dna/Saccharomyces_cerevisiae.R64-1-1.dna_sm.toplevel.fa.gz...\n",
      "Download: 100%|████████████████████████████| 3.69M/3.69M [00:00<00:00, 5.33MB/s]\u001b[0m\u001b[0m\n",
      "\u001b[0m\u001b[32m15:43:36\u001b[0m \u001b[1m|\u001b[0m \u001b[34mINFO\u001b[0m \u001b[1m|\u001b[0m Genome download successful, starting post processing...\n",
      "\u001b[32m15:43:36\u001b[0m \u001b[1m|\u001b[0m \u001b[34mINFO\u001b[0m \u001b[1m|\u001b[0m name: R64-1-1\n",
      "\u001b[32m15:43:36\u001b[0m \u001b[1m|\u001b[0m \u001b[34mINFO\u001b[0m \u001b[1m|\u001b[0m local name: R64-1-1\n",
      "\u001b[32m15:43:36\u001b[0m \u001b[1m|\u001b[0m \u001b[34mINFO\u001b[0m \u001b[1m|\u001b[0m fasta: /scratch/multiomics/nickyoungblut/star_refs/Saccharomyces_cerevisiae/R64-1-1/R64-1-1.fa\n",
      "Filtering Fasta: 203k lines [00:00, 3.30M lines/s]\u001b[0m\n",
      "\u001b[0m\u001b[32m15:43:37\u001b[0m \u001b[1m|\u001b[0m \u001b[34mINFO\u001b[0m \u001b[1m|\u001b[0m Downloading annotation from Ensembl. Target URL: http://ftp.ensembl.org/pub/release-113/gtf/saccharomyces_cerevisiae/Saccharomyces_cerevisiae.R64-1-1.113.gtf.gz...\n",
      "Download: 100%|███████████████████████████████| 581k/581k [00:00<00:00, 947kB/s]\u001b[0m\u001b[0m\n",
      "\u001b[0m\u001b[32m15:43:38\u001b[0m \u001b[1m|\u001b[0m \u001b[34mINFO\u001b[0m \u001b[1m|\u001b[0m Annotation download successful\n",
      "\u001b[0m"
     ]
    }
   ],
   "source": [
    "# download genome\n",
    "!genomepy install --provider Ensembl --annotation --genomes_dir {work_dir} {genome_name}"
   ]
  },
  {
   "cell_type": "code",
   "execution_count": 110,
   "metadata": {},
   "outputs": [
    {
     "data": {
      "text/plain": [
       "'/scratch/multiomics/nickyoungblut/star_refs/Saccharomyces_cerevisiae/R64-1-1/R64-1-1.fa'"
      ]
     },
     "execution_count": 110,
     "metadata": {},
     "output_type": "execute_result"
    }
   ],
   "source": [
    "# get genome fasta\n",
    "fasta_file = glob(f\"{work_dir}/{genome_name}/*.fa\")[0]\n",
    "fasta_file"
   ]
  },
  {
   "cell_type": "code",
   "execution_count": 111,
   "metadata": {},
   "outputs": [
    {
     "data": {
      "text/plain": [
       "'/scratch/multiomics/nickyoungblut/star_refs/Saccharomyces_cerevisiae/R64-1-1/R64-1-1.annotation.gtf'"
      ]
     },
     "execution_count": 111,
     "metadata": {},
     "output_type": "execute_result"
    }
   ],
   "source": [
    "# get gtf file\n",
    "gtf_file = glob(f\"{work_dir}/{genome_name}/*.gtf\")[0]\n",
    "gtf_file"
   ]
  },
  {
   "cell_type": "code",
   "execution_count": 112,
   "metadata": {},
   "outputs": [
    {
     "name": "stdout",
     "output_type": "stream",
     "text": [
      "Processing GTF: R64-1-1.annotation.gtf\n",
      "Output GTF: /scratch/multiomics/nickyoungblut/star_refs/Saccharomyces_cerevisiae/Saccharomyces_cerevisiae/Saccharomyces_cerevisiae.gtf\n",
      "Total records in GTF: 41879\n",
      "Filtered 1594 records by biotype\n",
      "Filtered 0 records by tag\n",
      "-- Count of biotypes filtered --\n",
      "tRNA: 957\n",
      "transposable_element: 273\n",
      "snoRNA: 233\n",
      "rRNA: 77\n",
      "pseudogene: 36\n",
      "snRNA: 18\n",
      "-- Count of biotypes kept --\n",
      "protein_coding: 73862\n",
      "ncRNA: 90\n",
      "----------------------------\n"
     ]
    }
   ],
   "source": [
    "# format the reference\n",
    "exe = os.path.join(script_dir, \"format-star-ref.py\")\n",
    "!{exe} --organism \"{organism}\"  --output-dir {work_dir} {gtf_file} "
   ]
  },
  {
   "cell_type": "code",
   "execution_count": 113,
   "metadata": {},
   "outputs": [
    {
     "data": {
      "text/plain": [
       "True"
      ]
     },
     "execution_count": 113,
     "metadata": {},
     "output_type": "execute_result"
    }
   ],
   "source": [
    "# set the filtered gtf file\n",
    "gtf_filt_file = os.path.join(work_dir, org_str, f\"{org_str}.gtf\")\n",
    "os.path.exists(gtf_filt_file)"
   ]
  },
  {
   "cell_type": "code",
   "execution_count": 114,
   "metadata": {},
   "outputs": [
    {
     "name": "stdout",
     "output_type": "stream",
     "text": [
      "\t/home/nickyoungblut/miniforge3/envs/asmbl/bin/STAR-avx2 --runThreadN 16 --runMode genomeGenerate --genomeDir /scratch/multiomics/nickyoungblut/star_refs/Saccharomyces_cerevisiae/star --genomeFastaFiles /scratch/multiomics/nickyoungblut/star_refs/Saccharomyces_cerevisiae/R64-1-1/R64-1-1.fa --sjdbGTFfile /scratch/multiomics/nickyoungblut/star_refs/Saccharomyces_cerevisiae/Saccharomyces_cerevisiae/Saccharomyces_cerevisiae.gtf --sjdbOverhang 100\n",
      "\tSTAR version: 2.7.11b   compiled: 2025-01-09T12:32:06+0000 :/opt/conda/conda-bld/star_1736425784849/work/source\n",
      "Feb 01 15:43:47 ..... started STAR run\n",
      "!!!!! WARNING: Could not move Log.out file from ./Log.out into /scratch/multiomics/nickyoungblut/star_refs/Saccharomyces_cerevisiae/star/Log.out. Will keep ./Log.out\n",
      "\n",
      "Feb 01 15:43:47 ... starting to generate Genome files\n",
      "Feb 01 15:43:47 ..... processing annotations GTF\n",
      "!!!!! WARNING: --genomeSAindexNbases 14 is too large for the genome size=12157105, which may cause seg-fault at the mapping step. Re-run genome generation with recommended --genomeSAindexNbases 10\n",
      "Feb 01 15:43:47 ... starting to sort Suffix Array. This may take a long time...\n",
      "Feb 01 15:43:47 ... sorting Suffix Array chunks and saving them to disk...\n",
      "Feb 01 15:43:48 ... loading chunks from disk, packing SA...\n",
      "Feb 01 15:43:48 ... finished generating suffix array\n",
      "Feb 01 15:43:48 ... generating Suffix Array index\n",
      "Feb 01 15:43:53 ... completed Suffix Array index\n",
      "Feb 01 15:43:53 ..... inserting junctions into the genome indices\n",
      "Feb 01 15:43:59 ... writing Genome to disk ...\n",
      "Feb 01 15:43:59 ... writing Suffix Array to disk ...\n",
      "Feb 01 15:43:59 ... writing SAindex to disk\n",
      "Feb 01 15:44:00 ..... finished successfully\n"
     ]
    }
   ],
   "source": [
    "# create the star index\n",
    "star_dir = os.path.join(work_dir, \"star\")\n",
    "os.makedirs(star_dir, exist_ok=True)\n",
    "\n",
    "!STAR --runThreadN 16 \\\n",
    "    --runMode genomeGenerate \\\n",
    "    --genomeDir {star_dir} \\\n",
    "    --genomeFastaFiles {fasta_file} \\\n",
    "    --sjdbGTFfile {gtf_filt_file} \\\n",
    "    --sjdbOverhang 100"
   ]
  },
  {
   "cell_type": "markdown",
   "metadata": {},
   "source": [
    "# sessionInfo"
   ]
  },
  {
   "cell_type": "code",
   "execution_count": 116,
   "metadata": {},
   "outputs": [
    {
     "name": "stdout",
     "output_type": "stream",
     "text": [
      "# packages in environment at /home/nickyoungblut/miniforge3/envs/asmbl:\n",
      "#\n",
      "# Name                    Version                   Build  Channel\n",
      "_libgcc_mutex             0.1                 conda_forge    conda-forge\n",
      "_openmp_mutex             4.5                       2_gnu    conda-forge\n",
      "alsa-lib                  1.2.11               hd590300_1    conda-forge\n",
      "anyio                     4.8.0              pyhd8ed1ab_0    conda-forge\n",
      "appdirs                   1.4.4              pyhd8ed1ab_1    conda-forge\n",
      "asttokens                 2.4.1              pyhd8ed1ab_0    conda-forge\n",
      "bash                      5.2.21               h7f99829_0    conda-forge\n",
      "bash_kernel               0.9.3              pyh4f82c71_0    conda-forge\n",
      "bedtools                  2.31.1               hf5e1c6e_2    bioconda\n",
      "biopython                 1.85            py312h66e93f0_1    conda-forge\n",
      "biothings_client          0.4.1              pyh29332c3_0    conda-forge\n",
      "blast                     2.16.0               hc155240_3    bioconda\n",
      "brotli                    1.1.0                hd590300_1    conda-forge\n",
      "brotli-bin                1.1.0                hd590300_1    conda-forge\n",
      "brotli-python             1.1.0           py312h30efb56_1    conda-forge\n",
      "bwa                       0.7.18               he4a0461_1    bioconda\n",
      "bzip2                     1.0.8                h4bc722e_7    conda-forge\n",
      "c-ares                    1.33.1               heb4867d_0    conda-forge\n",
      "ca-certificates           2025.1.31            hbcca054_0    conda-forge\n",
      "cachetools                5.5.1              pyhd8ed1ab_0    conda-forge\n",
      "cairo                     1.18.0               h3faef2a_0    conda-forge\n",
      "certifi                   2024.12.14         pyhd8ed1ab_0    conda-forge\n",
      "cffi                      1.17.1          py312h06ac9bb_0    conda-forge\n",
      "charset-normalizer        3.4.1              pyhd8ed1ab_0    conda-forge\n",
      "circos                    0.69.9               hdfd78af_0    bioconda\n",
      "click                     8.1.8              pyh707e725_0    conda-forge\n",
      "colorama                  0.4.6              pyhd8ed1ab_1    conda-forge\n",
      "comm                      0.2.2              pyhd8ed1ab_0    conda-forge\n",
      "contourpy                 1.3.0           py312h68727a3_0    conda-forge\n",
      "curl                      8.8.0                he654da7_1    conda-forge\n",
      "cycler                    0.12.1             pyhd8ed1ab_0    conda-forge\n",
      "debugpy                   1.8.5           py312hca68cad_0    conda-forge\n",
      "decorator                 5.1.1              pyhd8ed1ab_0    conda-forge\n",
      "diskcache                 5.6.3              pyhd8ed1ab_1    conda-forge\n",
      "entrez-direct             22.4                 he881be0_0    bioconda\n",
      "exceptiongroup            1.2.2              pyhd8ed1ab_0    conda-forge\n",
      "executing                 2.0.1              pyhd8ed1ab_0    conda-forge\n",
      "expat                     2.6.2                h59595ed_0    conda-forge\n",
      "filelock                  3.17.0             pyhd8ed1ab_0    conda-forge\n",
      "font-ttf-dejavu-sans-mono 2.37                 hab24e00_0    conda-forge\n",
      "font-ttf-inconsolata      3.000                h77eed37_0    conda-forge\n",
      "font-ttf-source-code-pro  2.038                h77eed37_0    conda-forge\n",
      "font-ttf-ubuntu           0.83                 h77eed37_2    conda-forge\n",
      "fontconfig                2.14.2               h14ed4e7_0    conda-forge\n",
      "fonts-conda-ecosystem     1                             0    conda-forge\n",
      "fonts-conda-forge         1                             0    conda-forge\n",
      "fonttools                 4.53.1          py312h41a817b_0    conda-forge\n",
      "freetype                  2.12.1               h267a509_2    conda-forge\n",
      "frozendict                2.4.6           py312h66e93f0_0    conda-forge\n",
      "genomepy                  0.16.1             pyh7e72e81_2    bioconda\n",
      "gettext                   0.22.5               he02047a_3    conda-forge\n",
      "gettext-tools             0.22.5               he02047a_3    conda-forge\n",
      "giflib                    5.2.2                hd590300_0    conda-forge\n",
      "glimmerhmm                3.0.4           pl5321hdbdd923_8    bioconda\n",
      "graphite2                 1.3.13            h59595ed_1003    conda-forge\n",
      "h11                       0.14.0             pyhd8ed1ab_1    conda-forge\n",
      "h2                        4.1.0              pyhd8ed1ab_1    conda-forge\n",
      "harfbuzz                  8.5.0                hfac3d4d_0    conda-forge\n",
      "hpack                     4.1.0              pyhd8ed1ab_0    conda-forge\n",
      "htslib                    1.21                 h5efdd21_0    bioconda\n",
      "httpcore                  1.0.7              pyh29332c3_1    conda-forge\n",
      "httpx                     0.28.1             pyhd8ed1ab_0    conda-forge\n",
      "hyperframe                6.1.0              pyhd8ed1ab_0    conda-forge\n",
      "icu                       73.2                 h59595ed_0    conda-forge\n",
      "idna                      3.10               pyhd8ed1ab_1    conda-forge\n",
      "importlib-metadata        8.4.0              pyha770c72_0    conda-forge\n",
      "importlib_metadata        8.4.0                hd8ed1ab_0    conda-forge\n",
      "ipykernel                 6.29.5             pyh3099207_0    conda-forge\n",
      "ipython                   8.26.0             pyh707e725_0    conda-forge\n",
      "jedi                      0.19.1             pyhd8ed1ab_0    conda-forge\n",
      "joblib                    1.4.2              pyhd8ed1ab_0    conda-forge\n",
      "jupyter_client            8.6.2              pyhd8ed1ab_0    conda-forge\n",
      "jupyter_core              5.7.2           py312h7900ff3_0    conda-forge\n",
      "k8                        1.2                  h6618dc6_3    bioconda\n",
      "kernel-headers_linux-64   3.10.0              he073ed8_18    conda-forge\n",
      "keyutils                  1.6.1                h166bdaf_0    conda-forge\n",
      "kiwisolver                1.4.5           py312h68727a3_2    conda-forge\n",
      "krb5                      1.21.3               h659f571_0    conda-forge\n",
      "lcms2                     2.16                 hb7c19ff_0    conda-forge\n",
      "ld_impl_linux-64          2.40                 hf3520f5_7    conda-forge\n",
      "lerc                      4.0.0                h27087fc_0    conda-forge\n",
      "libasprintf               0.22.5               he8f35ee_3    conda-forge\n",
      "libasprintf-devel         0.22.5               he8f35ee_3    conda-forge\n",
      "libblas                   3.9.0           23_linux64_openblas    conda-forge\n",
      "libbrotlicommon           1.1.0                hd590300_1    conda-forge\n",
      "libbrotlidec              1.1.0                hd590300_1    conda-forge\n",
      "libbrotlienc              1.1.0                hd590300_1    conda-forge\n",
      "libcblas                  3.9.0           23_linux64_openblas    conda-forge\n",
      "libcups                   2.3.3                h4637d8d_4    conda-forge\n",
      "libcurl                   8.8.0                hca28451_1    conda-forge\n",
      "libdeflate                1.20                 hd590300_0    conda-forge\n",
      "libedit                   3.1.20191231         he28a2e2_2    conda-forge\n",
      "libev                     4.33                 hd590300_2    conda-forge\n",
      "libexpat                  2.6.2                h59595ed_0    conda-forge\n",
      "libffi                    3.4.2                h7f98852_5    conda-forge\n",
      "libgcc                    14.1.0               h77fa898_1    conda-forge\n",
      "libgcc-ng                 14.1.0               h69a702a_1    conda-forge\n",
      "libgd                     2.3.3                h119a65a_9    conda-forge\n",
      "libgettextpo              0.22.5               he02047a_3    conda-forge\n",
      "libgettextpo-devel        0.22.5               he02047a_3    conda-forge\n",
      "libgfortran               14.1.0               h69a702a_1    conda-forge\n",
      "libgfortran-ng            14.1.0               h69a702a_1    conda-forge\n",
      "libgfortran5              14.1.0               hc5f4f2c_1    conda-forge\n",
      "libglib                   2.80.2               hf974151_0    conda-forge\n",
      "libgomp                   14.1.0               h77fa898_1    conda-forge\n",
      "libiconv                  1.17                 hd590300_2    conda-forge\n",
      "libidn2                   2.3.7                hd590300_0    conda-forge\n",
      "libjpeg-turbo             3.0.0                hd590300_1    conda-forge\n",
      "liblapack                 3.9.0           23_linux64_openblas    conda-forge\n",
      "libnghttp2                1.58.0               h47da74e_1    conda-forge\n",
      "libnsl                    2.0.1                hd590300_0    conda-forge\n",
      "libopenblas               0.3.27          pthreads_hac2b453_1    conda-forge\n",
      "libopenssl-static         3.4.0                hb9d3cd8_1    conda-forge\n",
      "libpng                    1.6.43               h2797004_0    conda-forge\n",
      "libsodium                 1.0.18               h36c2ea0_1    conda-forge\n",
      "libsqlite                 3.46.0               hde9e2c9_0    conda-forge\n",
      "libssh2                   1.11.0               h0841786_0    conda-forge\n",
      "libstdcxx                 14.1.0               hc0a3c3a_1    conda-forge\n",
      "libstdcxx-ng              14.1.0               h4852527_1    conda-forge\n",
      "libtiff                   4.6.0                h1dd3fc0_3    conda-forge\n",
      "libunistring              0.9.10               h7f98852_0    conda-forge\n",
      "libuuid                   2.38.1               h0b41bf4_0    conda-forge\n",
      "libwebp                   1.4.0                h2c329e2_0    conda-forge\n",
      "libwebp-base              1.4.0                hd590300_0    conda-forge\n",
      "libxcb                    1.15                 h0b41bf4_0    conda-forge\n",
      "libxcrypt                 4.4.36               hd590300_1    conda-forge\n",
      "libxml2                   2.12.7               hc051c1a_1    conda-forge\n",
      "libxslt                   1.1.39               h76b75d6_0    conda-forge\n",
      "libzlib                   1.3.1                hb9d3cd8_2    conda-forge\n",
      "loguru                    0.7.2           py312h7900ff3_2    conda-forge\n",
      "lxml                      5.2.2           py312hb90d8a5_0    conda-forge\n",
      "matplotlib-base           3.9.2           py312h854627b_0    conda-forge\n",
      "matplotlib-inline         0.1.7              pyhd8ed1ab_0    conda-forge\n",
      "miniasm                   0.3                  h577a1d6_5    bioconda\n",
      "minimap2                  2.28                 he4a0461_3    bioconda\n",
      "munkres                   1.1.4              pyh9f0ad1d_0    conda-forge\n",
      "mygene                    3.2.2              pyh5e36f6f_0    bioconda\n",
      "mysql-common              8.3.0                hf1915f5_4    conda-forge\n",
      "mysql-connector-c         6.1.11            h659d440_1008    conda-forge\n",
      "mysql-connector-python    8.3.0           py312hb06c811_0    conda-forge\n",
      "mysql-libs                8.3.0                hca2cd23_4    conda-forge\n",
      "ncbi-vdb                  3.1.1                h4ac6f70_1    bioconda\n",
      "ncurses                   6.5                  he02047a_1    conda-forge\n",
      "nest-asyncio              1.6.0              pyhd8ed1ab_0    conda-forge\n",
      "norns                     0.1.6              pyh5e36f6f_0    bioconda\n",
      "nose                      1.3.7                   py_1006    conda-forge\n",
      "numpy                     2.1.0           py312h1103770_0    conda-forge\n",
      "openjdk                   22.0.1               hb622114_0    conda-forge\n",
      "openjpeg                  2.5.2                h488ebb8_0    conda-forge\n",
      "openssl                   3.4.0                h7b32b05_1    conda-forge\n",
      "packaging                 24.1               pyhd8ed1ab_0    conda-forge\n",
      "pandas                    2.2.3           py312hf9745cd_1    conda-forge\n",
      "parso                     0.8.4              pyhd8ed1ab_0    conda-forge\n",
      "pcre                      8.45                 h9c3ff4c_0    conda-forge\n",
      "pcre2                     10.43                hcad00b1_0    conda-forge\n",
      "perl                      5.32.1          7_hd590300_perl5    conda-forge\n",
      "perl-archive-tar          2.40            pl5321hdfd78af_0    bioconda\n",
      "perl-b-cow                0.007           pl5321hd590300_0    conda-forge\n",
      "perl-carp                 1.50            pl5321hd8ed1ab_0    conda-forge\n",
      "perl-clone                0.46            pl5321h166bdaf_0    conda-forge\n",
      "perl-common-sense         3.75            pl5321hd8ed1ab_0    conda-forge\n",
      "perl-compress-raw-bzip2   2.201           pl5321h166bdaf_0    conda-forge\n",
      "perl-compress-raw-zlib    2.202           pl5321h166bdaf_0    conda-forge\n",
      "perl-config-general       2.65            pl5321hdfd78af_0    bioconda\n",
      "perl-digest-perl-md5      1.9             pl5321hdfd78af_2    bioconda\n",
      "perl-encode               3.21            pl5321hd590300_0    conda-forge\n",
      "perl-exporter             5.74            pl5321hd8ed1ab_0    conda-forge\n",
      "perl-exporter-tiny        1.002002        pl5321hd8ed1ab_0    conda-forge\n",
      "perl-extutils-config      0.008           pl5321ha770c72_0    conda-forge\n",
      "perl-extutils-helpers     0.026           pl5321ha770c72_0    conda-forge\n",
      "perl-extutils-installpaths 0.012           pl5321ha770c72_0    conda-forge\n",
      "perl-extutils-makemaker   7.70            pl5321hd8ed1ab_0    conda-forge\n",
      "perl-extutils-pl2bat      0.005           pl5321ha770c72_0    conda-forge\n",
      "perl-font-ttf             1.06            pl5321hdfd78af_1    bioconda\n",
      "perl-gd                   2.56                          0    bioconda\n",
      "perl-inc-latest           0.500           pl5321ha770c72_0    conda-forge\n",
      "perl-io-compress          2.201           pl5321hdbdd923_2    bioconda\n",
      "perl-io-string            1.08            pl5321hdfd78af_4    bioconda\n",
      "perl-io-zlib              1.14            pl5321hdfd78af_0    bioconda\n",
      "perl-json                 4.10            pl5321hdfd78af_1    bioconda\n",
      "perl-json-xs              4.03            pl5321h4ac6f70_3    bioconda\n",
      "perl-list-moreutils       0.430           pl5321hdfd78af_0    bioconda\n",
      "perl-list-moreutils-xs    0.430           pl5321h031d066_2    bioconda\n",
      "perl-math-bezier          0.01            pl5321hdfd78af_2    bioconda\n",
      "perl-math-round           0.07            pl5321ha770c72_0    conda-forge\n",
      "perl-math-vecstat         0.08            pl5321hdfd78af_2    bioconda\n",
      "perl-module-build         0.4234          pl5321ha770c72_0    conda-forge\n",
      "perl-module-build-tiny    0.039           pl5321h166bdaf_0    conda-forge\n",
      "perl-module-implementation 0.09            pl5321ha770c72_0    conda-forge\n",
      "perl-module-runtime       0.016           pl5321hdfd78af_2    bioconda\n",
      "perl-number-format        1.76            pl5321hd8ed1ab_0    conda-forge\n",
      "perl-params-validate      1.31            pl5321h031d066_2    bioconda\n",
      "perl-parent               0.241           pl5321hd8ed1ab_0    conda-forge\n",
      "perl-pathtools            3.75            pl5321h166bdaf_0    conda-forge\n",
      "perl-readonly             2.05            pl5321ha770c72_0    conda-forge\n",
      "perl-regexp-common        2017060201      pl5321hd8ed1ab_0    conda-forge\n",
      "perl-scalar-list-utils    1.63            pl5321h166bdaf_0    conda-forge\n",
      "perl-set-intspan          1.19            pl5321hdfd78af_2    bioconda\n",
      "perl-statistics-basic     1.6611          pl5321hdfd78af_3    bioconda\n",
      "perl-storable             3.15            pl5321h166bdaf_0    conda-forge\n",
      "perl-svg                  2.87            pl5321hd8ed1ab_0    conda-forge\n",
      "perl-test-fatal           0.016           pl5321ha770c72_0    conda-forge\n",
      "perl-text-format          0.62            pl5321hdfd78af_0    bioconda\n",
      "perl-time-hires           1.9764          pl5321h031d066_4    bioconda\n",
      "perl-try-tiny             0.31            pl5321ha770c72_0    conda-forge\n",
      "perl-types-serialiser     1.01            pl5321hdfd78af_0    bioconda\n",
      "perl-xml-parser           2.44_01         pl5321hc3e0081_1003    conda-forge\n",
      "pexpect                   4.9.0              pyhd8ed1ab_0    conda-forge\n",
      "pickleshare               0.7.5                   py_1003    conda-forge\n",
      "pillow                    10.3.0          py312hdcec9eb_0    conda-forge\n",
      "pip                       24.2               pyh8b19718_1    conda-forge\n",
      "pixman                    0.43.2               h59595ed_0    conda-forge\n",
      "platformdirs              4.2.2              pyhd8ed1ab_0    conda-forge\n",
      "prompt-toolkit            3.0.47             pyha770c72_0    conda-forge\n",
      "psutil                    6.0.0           py312h9a8786e_0    conda-forge\n",
      "pthread-stubs             0.4               h36c2ea0_1001    conda-forge\n",
      "ptyprocess                0.7.0              pyhd3deb0d_0    conda-forge\n",
      "pure_eval                 0.2.3              pyhd8ed1ab_0    conda-forge\n",
      "pycparser                 2.22               pyh29332c3_1    conda-forge\n",
      "pyfaidx                   0.8.1.3            pyhdfd78af_0    bioconda\n",
      "pygments                  2.18.0             pyhd8ed1ab_0    conda-forge\n",
      "pyld                      2.0.4              pyhd8ed1ab_1    conda-forge\n",
      "pyparsing                 3.1.4              pyhd8ed1ab_0    conda-forge\n",
      "pysocks                   1.7.1              pyha55dd90_7    conda-forge\n",
      "python                    3.12.3          hab00c5b_0_cpython    conda-forge\n",
      "python-dateutil           2.9.0              pyhd8ed1ab_0    conda-forge\n",
      "python-dotenv             1.0.1              pyhd8ed1ab_1    conda-forge\n",
      "python-tzdata             2025.1             pyhd8ed1ab_0    conda-forge\n",
      "python_abi                3.12                    5_cp312    conda-forge\n",
      "pytz                      2024.1             pyhd8ed1ab_0    conda-forge\n",
      "pyvcf3                    1.0.3              pyhdfd78af_0    bioconda\n",
      "pyyaml                    6.0.2           py312h178313f_2    conda-forge\n",
      "pyzmq                     26.2.0          py312hbf22597_0    conda-forge\n",
      "qhull                     2020.2               h434a139_5    conda-forge\n",
      "quast                     5.3.0           py312pl5321hdcc493e_1    bioconda\n",
      "racon                     1.5.0                hdcf5f25_4    bioconda\n",
      "readline                  8.2                  h8228510_1    conda-forge\n",
      "requests                  2.32.3             pyhd8ed1ab_1    conda-forge\n",
      "rpsbproc                  0.5.0                h6a68c12_1    bioconda\n",
      "seqkit                    2.8.2                h9ee0642_1    bioconda\n",
      "setuptools                72.2.0             pyhd8ed1ab_0    conda-forge\n",
      "simplejson                3.19.3          py312h66e93f0_1    conda-forge\n",
      "six                       1.16.0             pyh6c4a22f_0    conda-forge\n",
      "sniffio                   1.3.1              pyhd8ed1ab_1    conda-forge\n",
      "spades                    4.0.0                h6dccd9a_3    bioconda\n",
      "sra-tools                 2.9.6                hf484d3e_0    bioconda\n",
      "stack_data                0.6.2              pyhd8ed1ab_0    conda-forge\n",
      "star                      2.7.11b              h5ca1c30_5    bioconda\n",
      "sysroot_linux-64          2.17                h0157908_18    conda-forge\n",
      "tk                        8.6.13          noxft_h4845f30_101    conda-forge\n",
      "tornado                   6.4.1           py312h66e93f0_1    conda-forge\n",
      "tqdm                      4.67.1             pyhd8ed1ab_1    conda-forge\n",
      "traitlets                 5.14.3             pyhd8ed1ab_0    conda-forge\n",
      "typing_extensions         4.12.2             pyha770c72_0    conda-forge\n",
      "tzdata                    2024a                h8827d51_1    conda-forge\n",
      "ucsc-bedtogenepred        469                  h9b8f530_0    bioconda\n",
      "ucsc-genepredtobed        469                  h9b8f530_0    bioconda\n",
      "ucsc-genepredtogtf        469                  h9b8f530_0    bioconda\n",
      "ucsc-gff3togenepred       469                  h9b8f530_0    bioconda\n",
      "ucsc-gtftogenepred        469                  h9b8f530_0    bioconda\n",
      "unicycler                 0.5.1           py312hc60241a_2    bioconda\n",
      "urllib3                   2.3.0              pyhd8ed1ab_0    conda-forge\n",
      "wcwidth                   0.2.13             pyhd8ed1ab_0    conda-forge\n",
      "wget                      1.21.4               hda4d442_0    conda-forge\n",
      "wheel                     0.44.0             pyhd8ed1ab_0    conda-forge\n",
      "xorg-fixesproto           5.0               h7f98852_1002    conda-forge\n",
      "xorg-inputproto           2.3.2             h7f98852_1002    conda-forge\n",
      "xorg-kbproto              1.0.7             h7f98852_1002    conda-forge\n",
      "xorg-libice               1.1.1                hd590300_0    conda-forge\n",
      "xorg-libsm                1.2.4                h7391055_0    conda-forge\n",
      "xorg-libx11               1.8.9                h8ee46fc_0    conda-forge\n",
      "xorg-libxau               1.0.11               hd590300_0    conda-forge\n",
      "xorg-libxdmcp             1.1.3                h7f98852_0    conda-forge\n",
      "xorg-libxext              1.3.4                h0b41bf4_2    conda-forge\n",
      "xorg-libxfixes            5.0.3             h7f98852_1004    conda-forge\n",
      "xorg-libxi                1.7.10               h4bc722e_1    conda-forge\n",
      "xorg-libxrender           0.9.11               hd590300_0    conda-forge\n",
      "xorg-libxt                1.3.0                hd590300_1    conda-forge\n",
      "xorg-libxtst              1.2.5                h4bc722e_0    conda-forge\n",
      "xorg-recordproto          1.14.2            h7f98852_1002    conda-forge\n",
      "xorg-renderproto          0.11.1            h7f98852_1002    conda-forge\n",
      "xorg-xextproto            7.3.0             h0b41bf4_1003    conda-forge\n",
      "xorg-xproto               7.0.31            h7f98852_1007    conda-forge\n",
      "xz                        5.2.6                h166bdaf_0    conda-forge\n",
      "yaml                      0.2.5                h7f98852_2    conda-forge\n",
      "zeromq                    4.3.5                h75354e8_4    conda-forge\n",
      "zipp                      3.20.1             pyhd8ed1ab_0    conda-forge\n",
      "zlib                      1.3.1                hb9d3cd8_2    conda-forge\n",
      "zstandard                 0.23.0          py312hef9b889_1    conda-forge\n",
      "zstd                      1.5.6                ha6fb4c9_0    conda-forge\n"
     ]
    }
   ],
   "source": [
    "!mamba list"
   ]
  },
  {
   "cell_type": "code",
   "execution_count": null,
   "metadata": {},
   "outputs": [],
   "source": []
  }
 ],
 "metadata": {
  "kernelspec": {
   "display_name": "asmbl",
   "language": "python",
   "name": "python3"
  },
  "language_info": {
   "codemirror_mode": {
    "name": "ipython",
    "version": 3
   },
   "file_extension": ".py",
   "mimetype": "text/x-python",
   "name": "python",
   "nbconvert_exporter": "python",
   "pygments_lexer": "ipython3",
   "version": "3.12.3"
  }
 },
 "nbformat": 4,
 "nbformat_minor": 2
}
