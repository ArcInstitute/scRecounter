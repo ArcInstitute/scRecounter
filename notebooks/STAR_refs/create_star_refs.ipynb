{
 "cells": [
  {
   "cell_type": "markdown",
   "metadata": {},
   "source": [
    "# Goals\n",
    "\n",
    "* Create STAR reference genome index for various species"
   ]
  },
  {
   "cell_type": "markdown",
   "metadata": {},
   "source": [
    "# Vars"
   ]
  },
  {
   "cell_type": "code",
   "execution_count": 14,
   "metadata": {},
   "outputs": [],
   "source": [
    "base_dir = \"/scratch/multiomics/nickyoungblut/star_refs\"\n",
    "script_dir = \"../../scripts/\""
   ]
  },
  {
   "cell_type": "markdown",
   "metadata": {},
   "source": [
    "# Init"
   ]
  },
  {
   "cell_type": "code",
   "execution_count": 15,
   "metadata": {},
   "outputs": [],
   "source": [
    "import os\n",
    "from glob import glob"
   ]
  },
  {
   "cell_type": "code",
   "execution_count": 8,
   "metadata": {},
   "outputs": [],
   "source": [
    "os.makedirs(base_dir, exist_ok=True)"
   ]
  },
  {
   "cell_type": "markdown",
   "metadata": {},
   "source": [
    "# Rattus norvegicus"
   ]
  },
  {
   "cell_type": "code",
   "execution_count": 53,
   "metadata": {},
   "outputs": [],
   "source": [
    "organism = \"Rattus norvegicus\"\n",
    "genome_name = \"mRatBN7.2\""
   ]
  },
  {
   "cell_type": "code",
   "execution_count": 54,
   "metadata": {},
   "outputs": [],
   "source": [
    "# format\n",
    "org_str = organism.replace(\" \", \"_\")\n",
    "work_dir = os.path.join(base_dir, org_str)\n",
    "os.makedirs(work_dir, exist_ok=True)"
   ]
  },
  {
   "cell_type": "code",
   "execution_count": 55,
   "metadata": {},
   "outputs": [
    {
     "name": "stdout",
     "output_type": "stream",
     "text": [
      "\u001b[0m"
     ]
    }
   ],
   "source": [
    "# download genome\n",
    "!genomepy install --provider Ensembl --annotation --genomes_dir {work_dir} {genome_name}"
   ]
  },
  {
   "cell_type": "code",
   "execution_count": 56,
   "metadata": {},
   "outputs": [
    {
     "data": {
      "text/plain": [
       "'/scratch/multiomics/nickyoungblut/star_refs/Rattus_norvegicus/mRatBN7.2/mRatBN7.2.fa'"
      ]
     },
     "execution_count": 56,
     "metadata": {},
     "output_type": "execute_result"
    }
   ],
   "source": [
    "# get genome fasta\n",
    "fasta_file = glob(f\"{work_dir}/{genome_name}/*.fa\")[0]\n",
    "fasta_file"
   ]
  },
  {
   "cell_type": "code",
   "execution_count": 57,
   "metadata": {},
   "outputs": [
    {
     "data": {
      "text/plain": [
       "'/scratch/multiomics/nickyoungblut/star_refs/Rattus_norvegicus/mRatBN7.2/mRatBN7.2.annotation.gtf'"
      ]
     },
     "execution_count": 57,
     "metadata": {},
     "output_type": "execute_result"
    }
   ],
   "source": [
    "# get gtf file\n",
    "gtf_file = glob(f\"{work_dir}/{genome_name}/*.gtf\")[0]\n",
    "gtf_file"
   ]
  },
  {
   "cell_type": "code",
   "execution_count": 58,
   "metadata": {},
   "outputs": [
    {
     "name": "stdout",
     "output_type": "stream",
     "text": [
      "Processing GTF: mRatBN7.2.annotation.gtf\n",
      "Output GTF: /scratch/multiomics/nickyoungblut/star_refs/Rattus_norvegicus/Rattus_norvegicus/Rattus_norvegicus.gtf\n",
      "Total records in GTF: 1284446\n",
      "Filtered 17547 records by biotype\n",
      "Filtered 0 records by tag\n",
      "-- Count of biotypes filtered --\n",
      "snoRNA: 5118\n",
      "pseudogene: 4926\n",
      "snRNA: 4536\n",
      "miRNA: 1332\n",
      "rRNA: 630\n",
      "processed_pseudogene: 576\n",
      "scaRNA: 111\n",
      "ribozyme: 108\n",
      "misc_RNA: 81\n",
      "Mt_tRNA: 66\n",
      "Y_RNA: 54\n",
      "Mt_rRNA: 6\n",
      "vault_RNA: 3\n",
      "-- Count of biotypes kept --\n",
      "protein_coding: 2472948\n",
      "lncRNA: 34794\n",
      "IG_V_gene: 382\n",
      "TR_C_gene: 18\n",
      "TR_J_gene: 18\n",
      "TR_V_gene: 9\n",
      "----------------------------\n"
     ]
    }
   ],
   "source": [
    "exe = os.path.join(script_dir, \"format-star-ref.py\")\n",
    "!{exe} --organism \"{organism}\"  --output-dir {work_dir} {gtf_file} "
   ]
  },
  {
   "cell_type": "code",
   "execution_count": 62,
   "metadata": {},
   "outputs": [
    {
     "data": {
      "text/plain": [
       "True"
      ]
     },
     "execution_count": 62,
     "metadata": {},
     "output_type": "execute_result"
    }
   ],
   "source": [
    "# final gtf file\n",
    "gtf_filt_file = os.path.join(work_dir, org_str, f\"{org_str}.gtf\")\n",
    "os.path.exists(gtf_filt_file)"
   ]
  },
  {
   "cell_type": "code",
   "execution_count": null,
   "metadata": {},
   "outputs": [
    {
     "name": "stdout",
     "output_type": "stream",
     "text": [
      "\t/home/nickyoungblut/miniforge3/envs/asmbl/bin/STAR-avx2 --runThreadN 16 --runMode genomeGenerate --genomeDir /scratch/multiomics/nickyoungblut/star_refs/Rattus_norvegicus/star --genomeFastaFiles /scratch/multiomics/nickyoungblut/star_refs/Rattus_norvegicus/mRatBN7.2/mRatBN7.2.fa --sjdbGTFfile /scratch/multiomics/nickyoungblut/star_refs/Rattus_norvegicus/Rattus_norvegicus/Rattus_norvegicus.gtf --sjdbOverhang 100\n",
      "\tSTAR version: 2.7.11b   compiled: 2025-01-09T12:32:06+0000 :/opt/conda/conda-bld/star_1736425784849/work/source\n",
      "Jan 31 13:04:45 ..... started STAR run\n",
      "!!!!! WARNING: Could not move Log.out file from ./Log.out into /scratch/multiomics/nickyoungblut/star_refs/Rattus_norvegicus/star/Log.out. Will keep ./Log.out\n",
      "\n",
      "Jan 31 13:04:45 ... starting to generate Genome files\n"
     ]
    }
   ],
   "source": [
    "# star\n",
    "star_dir = os.path.join(work_dir, \"star\")\n",
    "os.makedirs(star_dir, exist_ok=True)\n",
    "\n",
    "!STAR --runThreadN 16 \\\n",
    "    --runMode genomeGenerate \\\n",
    "    --genomeDir {star_dir} \\\n",
    "    --genomeFastaFiles {fasta_file} \\\n",
    "    --sjdbGTFfile {gtf_filt_file} \\\n",
    "    --sjdbOverhang 100 "
   ]
  },
  {
   "cell_type": "code",
   "execution_count": null,
   "metadata": {},
   "outputs": [],
   "source": []
  }
 ],
 "metadata": {
  "kernelspec": {
   "display_name": "asmbl",
   "language": "python",
   "name": "python3"
  },
  "language_info": {
   "codemirror_mode": {
    "name": "ipython",
    "version": 3
   },
   "file_extension": ".py",
   "mimetype": "text/x-python",
   "name": "python",
   "nbconvert_exporter": "python",
   "pygments_lexer": "ipython3",
   "version": "3.12.3"
  }
 },
 "nbformat": 4,
 "nbformat_minor": 2
}
