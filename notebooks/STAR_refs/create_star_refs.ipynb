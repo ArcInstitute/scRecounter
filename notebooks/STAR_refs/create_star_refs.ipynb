{
 "cells": [
  {
   "cell_type": "markdown",
   "metadata": {},
   "source": [
    "# Goals\n",
    "\n",
    "* Create STAR reference genome index for various species"
   ]
  },
  {
   "cell_type": "markdown",
   "metadata": {},
   "source": [
    "# Vars"
   ]
  },
  {
   "cell_type": "code",
   "execution_count": 1,
   "metadata": {},
   "outputs": [],
   "source": [
    "base_dir = \"/scratch/multiomics/nickyoungblut/star_refs\"\n",
    "script_dir = \"../../scripts/\""
   ]
  },
  {
   "cell_type": "markdown",
   "metadata": {},
   "source": [
    "# Init"
   ]
  },
  {
   "cell_type": "code",
   "execution_count": 2,
   "metadata": {},
   "outputs": [],
   "source": [
    "import os\n",
    "from glob import glob"
   ]
  },
  {
   "cell_type": "code",
   "execution_count": 3,
   "metadata": {},
   "outputs": [],
   "source": [
    "os.makedirs(base_dir, exist_ok=True)"
   ]
  },
  {
   "cell_type": "markdown",
   "metadata": {},
   "source": [
    "# Rattus norvegicus"
   ]
  },
  {
   "cell_type": "code",
   "execution_count": 20,
   "metadata": {},
   "outputs": [],
   "source": [
    "organism = \"Rattus norvegicus\"\n",
    "genome_name = \"mRatBN7.2\""
   ]
  },
  {
   "cell_type": "code",
   "execution_count": 21,
   "metadata": {},
   "outputs": [],
   "source": [
    "# format\n",
    "org_str = organism.replace(\" \", \"_\")\n",
    "work_dir = os.path.join(base_dir, org_str)\n",
    "os.makedirs(work_dir, exist_ok=True)"
   ]
  },
  {
   "cell_type": "code",
   "execution_count": 22,
   "metadata": {},
   "outputs": [
    {
     "name": "stdout",
     "output_type": "stream",
     "text": [
      "\u001b[1mname                 provider accession         tax_id annotation species                                  other_info                              \u001b[0m\n",
      "\u001b[0mUTH_Rnor_SHRSP_BbbUtx_1.0 Ensembl  GCA_021556685.1    10116     \u001b[32m✓\u001b[39m      Rattus norvegicus                        2022-10-Ensembl/2023-01                 \u001b[0m\n",
      "\u001b[0mmRatBN7.2            Ensembl  GCA_015227675.2    10116     \u001b[32m✓\u001b[39m      Rattus norvegicus                        2020-11-Ensembl/2022-03                 \u001b[0m\n",
      "\u001b[0mUTH_Rnor_SHR_Utx     Ensembl  GCA_023515785.1    10116     \u001b[32m✓\u001b[39m      Rattus norvegicus                        2022-10-Ensembl/2023-01                 \u001b[0m\n",
      "\u001b[0mUTH_Rnor_WKY_Bbb_1.0 Ensembl  GCA_023515805.1    10116     \u001b[32m✓\u001b[39m      Rattus norvegicus                        2022-10-Ensembl/2023-01                 \u001b[0m\n",
      "\u001b[0m\u001b[32m ^\u001b[0m\n",
      "\u001b[0m\u001b[32m Use name for \u001b[36mgenomepy install\u001b[0m\n",
      "\u001b[0m\u001b[0m"
     ]
    }
   ],
   "source": [
    "# show available assemblies\n",
    "!genomepy search --provider Ensembl {organism}"
   ]
  },
  {
   "cell_type": "code",
   "execution_count": 55,
   "metadata": {},
   "outputs": [
    {
     "name": "stdout",
     "output_type": "stream",
     "text": [
      "\u001b[0m"
     ]
    }
   ],
   "source": [
    "# download genome\n",
    "!genomepy install --provider Ensembl --annotation --genomes_dir {work_dir} {genome_name}"
   ]
  },
  {
   "cell_type": "code",
   "execution_count": 6,
   "metadata": {},
   "outputs": [
    {
     "data": {
      "text/plain": [
       "'/scratch/multiomics/nickyoungblut/star_refs/Rattus_norvegicus/mRatBN7.2/mRatBN7.2.fa'"
      ]
     },
     "execution_count": 6,
     "metadata": {},
     "output_type": "execute_result"
    }
   ],
   "source": [
    "# get genome fasta\n",
    "fasta_file = glob(f\"{work_dir}/{genome_name}/*.fa\")[0]\n",
    "fasta_file"
   ]
  },
  {
   "cell_type": "code",
   "execution_count": 7,
   "metadata": {},
   "outputs": [
    {
     "data": {
      "text/plain": [
       "'/scratch/multiomics/nickyoungblut/star_refs/Rattus_norvegicus/mRatBN7.2/mRatBN7.2.annotation.gtf'"
      ]
     },
     "execution_count": 7,
     "metadata": {},
     "output_type": "execute_result"
    }
   ],
   "source": [
    "# get gtf file\n",
    "gtf_file = glob(f\"{work_dir}/{genome_name}/*.gtf\")[0]\n",
    "gtf_file"
   ]
  },
  {
   "cell_type": "code",
   "execution_count": 58,
   "metadata": {},
   "outputs": [
    {
     "name": "stdout",
     "output_type": "stream",
     "text": [
      "Processing GTF: mRatBN7.2.annotation.gtf\n",
      "Output GTF: /scratch/multiomics/nickyoungblut/star_refs/Rattus_norvegicus/Rattus_norvegicus/Rattus_norvegicus.gtf\n",
      "Total records in GTF: 1284446\n",
      "Filtered 17547 records by biotype\n",
      "Filtered 0 records by tag\n",
      "-- Count of biotypes filtered --\n",
      "snoRNA: 5118\n",
      "pseudogene: 4926\n",
      "snRNA: 4536\n",
      "miRNA: 1332\n",
      "rRNA: 630\n",
      "processed_pseudogene: 576\n",
      "scaRNA: 111\n",
      "ribozyme: 108\n",
      "misc_RNA: 81\n",
      "Mt_tRNA: 66\n",
      "Y_RNA: 54\n",
      "Mt_rRNA: 6\n",
      "vault_RNA: 3\n",
      "-- Count of biotypes kept --\n",
      "protein_coding: 2472948\n",
      "lncRNA: 34794\n",
      "IG_V_gene: 382\n",
      "TR_C_gene: 18\n",
      "TR_J_gene: 18\n",
      "TR_V_gene: 9\n",
      "----------------------------\n"
     ]
    }
   ],
   "source": [
    "# format the reference\n",
    "exe = os.path.join(script_dir, \"format-star-ref.py\")\n",
    "!{exe} --organism \"{organism}\"  --output-dir {work_dir} {gtf_file} "
   ]
  },
  {
   "cell_type": "code",
   "execution_count": 8,
   "metadata": {},
   "outputs": [
    {
     "data": {
      "text/plain": [
       "True"
      ]
     },
     "execution_count": 8,
     "metadata": {},
     "output_type": "execute_result"
    }
   ],
   "source": [
    "# set the filtered gtf file\n",
    "gtf_filt_file = os.path.join(work_dir, org_str, f\"{org_str}.gtf\")\n",
    "os.path.exists(gtf_filt_file)"
   ]
  },
  {
   "cell_type": "code",
   "execution_count": 9,
   "metadata": {},
   "outputs": [
    {
     "name": "stdout",
     "output_type": "stream",
     "text": [
      "\t/home/nickyoungblut/miniforge3/envs/asmbl/bin/STAR-avx2 --runThreadN 16 --runMode genomeGenerate --genomeDir /scratch/multiomics/nickyoungblut/star_refs/Rattus_norvegicus/star --genomeFastaFiles /scratch/multiomics/nickyoungblut/star_refs/Rattus_norvegicus/mRatBN7.2/mRatBN7.2.fa --sjdbGTFfile /scratch/multiomics/nickyoungblut/star_refs/Rattus_norvegicus/Rattus_norvegicus/Rattus_norvegicus.gtf --sjdbOverhang 100\n",
      "\tSTAR version: 2.7.11b   compiled: 2025-01-09T12:32:06+0000 :/opt/conda/conda-bld/star_1736425784849/work/source\n",
      "Jan 31 13:08:11 ..... started STAR run\n",
      "!!!!! WARNING: Could not move Log.out file from ./Log.out into /scratch/multiomics/nickyoungblut/star_refs/Rattus_norvegicus/star/Log.out. Will keep ./Log.out\n",
      "\n",
      "Jan 31 13:08:11 ... starting to generate Genome files\n",
      "Jan 31 13:08:47 ..... processing annotations GTF\n",
      "Jan 31 13:08:59 ... starting to sort Suffix Array. This may take a long time...\n",
      "Jan 31 13:09:08 ... sorting Suffix Array chunks and saving them to disk...\n",
      "Jan 31 13:15:51 ... loading chunks from disk, packing SA...\n",
      "Jan 31 13:16:48 ... finished generating suffix array\n",
      "Jan 31 13:16:48 ... generating Suffix Array index\n",
      "Jan 31 13:20:20 ... completed Suffix Array index\n",
      "Jan 31 13:20:20 ..... inserting junctions into the genome indices\n",
      "Jan 31 13:22:23 ... writing Genome to disk ...\n",
      "Jan 31 13:22:25 ... writing Suffix Array to disk ...\n",
      "Jan 31 13:22:42 ... writing SAindex to disk\n",
      "Jan 31 13:22:44 ..... finished successfully\n"
     ]
    }
   ],
   "source": [
    "# create the star index\n",
    "star_dir = os.path.join(work_dir, \"star\")\n",
    "os.makedirs(star_dir, exist_ok=True)\n",
    "\n",
    "!STAR --runThreadN 16 \\\n",
    "    --runMode genomeGenerate \\\n",
    "    --genomeDir {star_dir} \\\n",
    "    --genomeFastaFiles {fasta_file} \\\n",
    "    --sjdbGTFfile {gtf_filt_file} \\\n",
    "    --sjdbOverhang 100 "
   ]
  },
  {
   "cell_type": "markdown",
   "metadata": {},
   "source": [
    "# Callithrix jacchus"
   ]
  },
  {
   "cell_type": "code",
   "execution_count": 23,
   "metadata": {},
   "outputs": [],
   "source": [
    "organism = \"Callithrix jacchus\"\n",
    "genome_name = \"mCalJac1.pat.X\""
   ]
  },
  {
   "cell_type": "code",
   "execution_count": 24,
   "metadata": {},
   "outputs": [],
   "source": [
    "# format\n",
    "org_str = organism.replace(\" \", \"_\")\n",
    "work_dir = os.path.join(base_dir, org_str)\n",
    "os.makedirs(work_dir, exist_ok=True)"
   ]
  },
  {
   "cell_type": "code",
   "execution_count": 25,
   "metadata": {},
   "outputs": [
    {
     "name": "stdout",
     "output_type": "stream",
     "text": [
      "\u001b[1mname                 provider accession         tax_id annotation species                                  other_info                              \u001b[0m\n",
      "\u001b[0mmCalJac1.pat.X       Ensembl  GCA_011100555.1     9483     \u001b[32m✓\u001b[39m      Callithrix jacchus                       2020-08-Ensembl/2020-11                 \u001b[0m\n",
      "\u001b[0m\u001b[32m ^\u001b[0m\n",
      "\u001b[0m\u001b[32m Use name for \u001b[36mgenomepy install\u001b[0m\n",
      "\u001b[0m\u001b[0m"
     ]
    }
   ],
   "source": [
    "# show available assemblies\n",
    "!genomepy search --provider Ensembl {organism}"
   ]
  },
  {
   "cell_type": "code",
   "execution_count": 17,
   "metadata": {},
   "outputs": [
    {
     "name": "stdout",
     "output_type": "stream",
     "text": [
      "\u001b[32m13:27:30\u001b[0m \u001b[1m|\u001b[0m \u001b[34mINFO\u001b[0m \u001b[1m|\u001b[0m Downloading genome from Ensembl. Target URL: http://ftp.ensembl.org/pub/release-113/fasta/callithrix_jacchus/dna/Callithrix_jacchus.mCalJac1.pat.X.dna_sm.toplevel.fa.gz...\n",
      "Download: 100%|██████████████████████████████| 841M/841M [00:27<00:00, 32.4MB/s]\u001b[0m\u001b[0m\n",
      "\u001b[0m\u001b[32m13:27:57\u001b[0m \u001b[1m|\u001b[0m \u001b[34mINFO\u001b[0m \u001b[1m|\u001b[0m Genome download successful, starting post processing...\n",
      "\u001b[32m13:28:11\u001b[0m \u001b[1m|\u001b[0m \u001b[34mINFO\u001b[0m \u001b[1m|\u001b[0m name: mCalJac1.pat.X\n",
      "\u001b[32m13:28:11\u001b[0m \u001b[1m|\u001b[0m \u001b[34mINFO\u001b[0m \u001b[1m|\u001b[0m local name: mCalJac1.pat.X\n",
      "\u001b[32m13:28:11\u001b[0m \u001b[1m|\u001b[0m \u001b[34mINFO\u001b[0m \u001b[1m|\u001b[0m fasta: /scratch/multiomics/nickyoungblut/star_refs/Callithrix_jacchus/mCalJac1.pat.X/mCalJac1.pat.X.fa\n",
      "Filtering Fasta: 47.2M lines [00:12, 3.92M lines/s]\u001b[0m\u001b[0m\n",
      "\u001b[0m\u001b[32m13:29:04\u001b[0m \u001b[1m|\u001b[0m \u001b[34mINFO\u001b[0m \u001b[1m|\u001b[0m Downloading annotation from Ensembl. Target URL: http://ftp.ensembl.org/pub/release-113/gtf/callithrix_jacchus/Callithrix_jacchus.mCalJac1.pat.X.113.gtf.gz...\n",
      "Download: 100%|████████████████████████████| 19.1M/19.1M [00:01<00:00, 15.7MB/s]\u001b[0m\u001b[0m\n",
      "\u001b[0m\u001b[32m13:29:10\u001b[0m \u001b[1m|\u001b[0m \u001b[34mINFO\u001b[0m \u001b[1m|\u001b[0m Annotation download successful\n",
      "\u001b[0m"
     ]
    }
   ],
   "source": [
    "# download genome\n",
    "!genomepy install --provider Ensembl --annotation --genomes_dir {work_dir} {genome_name}"
   ]
  },
  {
   "cell_type": "code",
   "execution_count": 18,
   "metadata": {},
   "outputs": [
    {
     "data": {
      "text/plain": [
       "'/scratch/multiomics/nickyoungblut/star_refs/Callithrix_jacchus/mCalJac1.pat.X/mCalJac1.pat.X.fa'"
      ]
     },
     "execution_count": 18,
     "metadata": {},
     "output_type": "execute_result"
    }
   ],
   "source": [
    "# get genome fasta\n",
    "fasta_file = glob(f\"{work_dir}/{genome_name}/*.fa\")[0]\n",
    "fasta_file"
   ]
  },
  {
   "cell_type": "code",
   "execution_count": 19,
   "metadata": {},
   "outputs": [
    {
     "data": {
      "text/plain": [
       "'/scratch/multiomics/nickyoungblut/star_refs/Callithrix_jacchus/mCalJac1.pat.X/mCalJac1.pat.X.annotation.gtf'"
      ]
     },
     "execution_count": 19,
     "metadata": {},
     "output_type": "execute_result"
    }
   ],
   "source": [
    "# get gtf file\n",
    "gtf_file = glob(f\"{work_dir}/{genome_name}/*.gtf\")[0]\n",
    "gtf_file"
   ]
  },
  {
   "cell_type": "code",
   "execution_count": 20,
   "metadata": {},
   "outputs": [
    {
     "name": "stdout",
     "output_type": "stream",
     "text": [
      "Processing GTF: mCalJac1.pat.X.annotation.gtf\n",
      "Output GTF: /scratch/multiomics/nickyoungblut/star_refs/Callithrix_jacchus/Callithrix_jacchus/Callithrix_jacchus.gtf\n",
      "Total records in GTF: 1448697\n",
      "Filtered 38300 records by biotype\n",
      "Filtered 0 records by tag\n",
      "-- Count of biotypes filtered --\n",
      "misc_RNA: 12612\n",
      "snRNA: 9249\n",
      "snoRNA: 4503\n",
      "pseudogene: 4061\n",
      "Y_RNA: 2811\n",
      "processed_pseudogene: 2598\n",
      "miRNA: 1620\n",
      "rRNA: 639\n",
      "scaRNA: 147\n",
      "vault_RNA: 48\n",
      "ribozyme: 12\n",
      "-- Count of biotypes kept --\n",
      "protein_coding: 2703693\n",
      "lncRNA: 87632\n",
      "IG_V_gene: 709\n",
      "TR_V_gene: 254\n",
      "TR_J_gene: 108\n",
      "TR_C_gene: 35\n",
      "IG_C_gene: 17\n",
      "----------------------------\n"
     ]
    }
   ],
   "source": [
    "# format the reference\n",
    "exe = os.path.join(script_dir, \"format-star-ref.py\")\n",
    "!{exe} --organism \"{organism}\"  --output-dir {work_dir} {gtf_file} "
   ]
  },
  {
   "cell_type": "code",
   "execution_count": 21,
   "metadata": {},
   "outputs": [
    {
     "data": {
      "text/plain": [
       "True"
      ]
     },
     "execution_count": 21,
     "metadata": {},
     "output_type": "execute_result"
    }
   ],
   "source": [
    "# set the filtered gtf file\n",
    "gtf_filt_file = os.path.join(work_dir, org_str, f\"{org_str}.gtf\")\n",
    "os.path.exists(gtf_filt_file)"
   ]
  },
  {
   "cell_type": "code",
   "execution_count": 22,
   "metadata": {},
   "outputs": [
    {
     "name": "stdout",
     "output_type": "stream",
     "text": [
      "\t/home/nickyoungblut/miniforge3/envs/asmbl/bin/STAR-avx2 --runThreadN 16 --runMode genomeGenerate --genomeDir /scratch/multiomics/nickyoungblut/star_refs/Callithrix_jacchus/star --genomeFastaFiles /scratch/multiomics/nickyoungblut/star_refs/Callithrix_jacchus/mCalJac1.pat.X/mCalJac1.pat.X.fa --sjdbGTFfile /scratch/multiomics/nickyoungblut/star_refs/Callithrix_jacchus/Callithrix_jacchus/Callithrix_jacchus.gtf --sjdbOverhang 100\n",
      "\tSTAR version: 2.7.11b   compiled: 2025-01-09T12:32:06+0000 :/opt/conda/conda-bld/star_1736425784849/work/source\n",
      "Jan 31 13:29:49 ..... started STAR run\n",
      "!!!!! WARNING: Could not move Log.out file from ./Log.out into /scratch/multiomics/nickyoungblut/star_refs/Callithrix_jacchus/star/Log.out. Will keep ./Log.out\n",
      "\n",
      "Jan 31 13:29:49 ... starting to generate Genome files\n",
      "Jan 31 13:30:27 ..... processing annotations GTF\n",
      "Jan 31 13:30:40 ... starting to sort Suffix Array. This may take a long time...\n",
      "Jan 31 13:30:49 ... sorting Suffix Array chunks and saving them to disk...\n",
      "Jan 31 13:38:42 ... loading chunks from disk, packing SA...\n",
      "Jan 31 13:39:49 ... finished generating suffix array\n",
      "Jan 31 13:39:49 ... generating Suffix Array index\n",
      "Jan 31 13:43:21 ... completed Suffix Array index\n",
      "Jan 31 13:43:22 ..... inserting junctions into the genome indices\n",
      "Jan 31 13:45:29 ... writing Genome to disk ...\n",
      "Jan 31 13:45:31 ... writing Suffix Array to disk ...\n",
      "Jan 31 13:45:57 ... writing SAindex to disk\n",
      "Jan 31 13:46:00 ..... finished successfully\n"
     ]
    }
   ],
   "source": [
    "# create the star index\n",
    "star_dir = os.path.join(work_dir, \"star\")\n",
    "os.makedirs(star_dir, exist_ok=True)\n",
    "\n",
    "!STAR --runThreadN 16 \\\n",
    "    --runMode genomeGenerate \\\n",
    "    --genomeDir {star_dir} \\\n",
    "    --genomeFastaFiles {fasta_file} \\\n",
    "    --sjdbGTFfile {gtf_filt_file} \\\n",
    "    --sjdbOverhang 100 "
   ]
  },
  {
   "cell_type": "markdown",
   "metadata": {},
   "source": [
    "# Equus caballus"
   ]
  },
  {
   "cell_type": "code",
   "execution_count": 26,
   "metadata": {},
   "outputs": [],
   "source": [
    "organism = \"Equus caballus\"\n",
    "genome_name = \"EquCab3.0\""
   ]
  },
  {
   "cell_type": "code",
   "execution_count": 27,
   "metadata": {},
   "outputs": [],
   "source": [
    "# format\n",
    "org_str = organism.replace(\" \", \"_\")\n",
    "work_dir = os.path.join(base_dir, org_str)\n",
    "os.makedirs(work_dir, exist_ok=True)"
   ]
  },
  {
   "cell_type": "code",
   "execution_count": 28,
   "metadata": {},
   "outputs": [
    {
     "name": "stdout",
     "output_type": "stream",
     "text": [
      "\u001b[1mname                 provider accession         tax_id annotation species                                  other_info                              \u001b[0m\n",
      "\u001b[0mEquCab3.0            Ensembl  GCA_002863925.1     9796     \u001b[32m✓\u001b[39m      Equus caballus                           2021-10-Ensembl/2022-01                 \u001b[0m\n",
      "\u001b[0m\u001b[32m ^\u001b[0m\n",
      "\u001b[0m\u001b[32m Use name for \u001b[36mgenomepy install\u001b[0m\n",
      "\u001b[0m\u001b[0m"
     ]
    }
   ],
   "source": [
    "# show available assemblies\n",
    "!genomepy search --provider Ensembl {organism}"
   ]
  },
  {
   "cell_type": "code",
   "execution_count": 27,
   "metadata": {},
   "outputs": [
    {
     "name": "stdout",
     "output_type": "stream",
     "text": [
      "\u001b[32m13:46:41\u001b[0m \u001b[1m|\u001b[0m \u001b[34mINFO\u001b[0m \u001b[1m|\u001b[0m Downloading genome from Ensembl. Target URL: http://ftp.ensembl.org/pub/release-113/fasta/equus_caballus/dna/Equus_caballus.EquCab3.0.dna_sm.toplevel.fa.gz...\n",
      "Download: 100%|██████████████████████████████| 785M/785M [00:25<00:00, 32.5MB/s]\u001b[0m\u001b[0m\n",
      "\u001b[0m\u001b[32m13:47:07\u001b[0m \u001b[1m|\u001b[0m \u001b[34mINFO\u001b[0m \u001b[1m|\u001b[0m Genome download successful, starting post processing...\n",
      "\u001b[32m13:47:19\u001b[0m \u001b[1m|\u001b[0m \u001b[34mINFO\u001b[0m \u001b[1m|\u001b[0m name: EquCab3.0\n",
      "\u001b[32m13:47:19\u001b[0m \u001b[1m|\u001b[0m \u001b[34mINFO\u001b[0m \u001b[1m|\u001b[0m local name: EquCab3.0\n",
      "\u001b[32m13:47:19\u001b[0m \u001b[1m|\u001b[0m \u001b[34mINFO\u001b[0m \u001b[1m|\u001b[0m fasta: /scratch/multiomics/nickyoungblut/star_refs/Equus_caballus/EquCab3.0/EquCab3.0.fa\n",
      "Filtering Fasta: 41.8M lines [00:10, 4.08M lines/s]\u001b[0m\u001b[0m\n",
      "\u001b[0m\u001b[32m13:48:06\u001b[0m \u001b[1m|\u001b[0m \u001b[34mINFO\u001b[0m \u001b[1m|\u001b[0m Downloading annotation from Ensembl. Target URL: http://ftp.ensembl.org/pub/release-113/gtf/equus_caballus/Equus_caballus.EquCab3.0.113.gtf.gz...\n",
      "Download: 100%|████████████████████████████| 28.5M/28.5M [00:01<00:00, 19.0MB/s]\u001b[0m\u001b[0m\n",
      "\u001b[0m\u001b[32m13:48:14\u001b[0m \u001b[1m|\u001b[0m \u001b[34mINFO\u001b[0m \u001b[1m|\u001b[0m Annotation download successful\n",
      "\u001b[0m"
     ]
    }
   ],
   "source": [
    "# download genome\n",
    "!genomepy install --provider Ensembl --annotation --genomes_dir {work_dir} {genome_name}"
   ]
  },
  {
   "cell_type": "code",
   "execution_count": 28,
   "metadata": {},
   "outputs": [
    {
     "data": {
      "text/plain": [
       "'/scratch/multiomics/nickyoungblut/star_refs/Equus_caballus/EquCab3.0/EquCab3.0.fa'"
      ]
     },
     "execution_count": 28,
     "metadata": {},
     "output_type": "execute_result"
    }
   ],
   "source": [
    "# get genome fasta\n",
    "fasta_file = glob(f\"{work_dir}/{genome_name}/*.fa\")[0]\n",
    "fasta_file"
   ]
  },
  {
   "cell_type": "code",
   "execution_count": 29,
   "metadata": {},
   "outputs": [
    {
     "data": {
      "text/plain": [
       "'/scratch/multiomics/nickyoungblut/star_refs/Equus_caballus/EquCab3.0/EquCab3.0.annotation.gtf'"
      ]
     },
     "execution_count": 29,
     "metadata": {},
     "output_type": "execute_result"
    }
   ],
   "source": [
    "# get gtf file\n",
    "gtf_file = glob(f\"{work_dir}/{genome_name}/*.gtf\")[0]\n",
    "gtf_file"
   ]
  },
  {
   "cell_type": "code",
   "execution_count": 30,
   "metadata": {},
   "outputs": [
    {
     "name": "stdout",
     "output_type": "stream",
     "text": [
      "Processing GTF: EquCab3.0.annotation.gtf\n",
      "Output GTF: /scratch/multiomics/nickyoungblut/star_refs/Equus_caballus/Equus_caballus/Equus_caballus.gtf\n",
      "Total records in GTF: 2371117\n",
      "Filtered 7783 records by biotype\n",
      "Filtered 0 records by tag\n",
      "-- Count of biotypes filtered --\n",
      "pseudogene: 2119\n",
      "miRNA: 2055\n",
      "snRNA: 1620\n",
      "snoRNA: 1443\n",
      "processed_pseudogene: 294\n",
      "Mt_tRNA: 66\n",
      "scaRNA: 60\n",
      "Y_RNA: 42\n",
      "rRNA: 36\n",
      "misc_RNA: 27\n",
      "ribozyme: 9\n",
      "vault_RNA: 6\n",
      "Mt_rRNA: 6\n",
      "-- Count of biotypes kept --\n",
      "protein_coding: 4351680\n",
      "lncRNA: 337930\n",
      "IG_V_gene: 168\n",
      "TR_V_gene: 148\n",
      "TR_C_gene: 81\n",
      "TR_J_gene: 27\n",
      "----------------------------\n"
     ]
    }
   ],
   "source": [
    "# format the reference\n",
    "exe = os.path.join(script_dir, \"format-star-ref.py\")\n",
    "!{exe} --organism \"{organism}\"  --output-dir {work_dir} {gtf_file} "
   ]
  },
  {
   "cell_type": "code",
   "execution_count": 31,
   "metadata": {},
   "outputs": [
    {
     "data": {
      "text/plain": [
       "True"
      ]
     },
     "execution_count": 31,
     "metadata": {},
     "output_type": "execute_result"
    }
   ],
   "source": [
    "# set the filtered gtf file\n",
    "gtf_filt_file = os.path.join(work_dir, org_str, f\"{org_str}.gtf\")\n",
    "os.path.exists(gtf_filt_file)"
   ]
  },
  {
   "cell_type": "code",
   "execution_count": 32,
   "metadata": {},
   "outputs": [
    {
     "name": "stdout",
     "output_type": "stream",
     "text": [
      "\t/home/nickyoungblut/miniforge3/envs/asmbl/bin/STAR-avx2 --runThreadN 16 --runMode genomeGenerate --genomeDir /scratch/multiomics/nickyoungblut/star_refs/Equus_caballus/star --genomeFastaFiles /scratch/multiomics/nickyoungblut/star_refs/Equus_caballus/EquCab3.0/EquCab3.0.fa --sjdbGTFfile /scratch/multiomics/nickyoungblut/star_refs/Equus_caballus/Equus_caballus/Equus_caballus.gtf --sjdbOverhang 100\n",
      "\tSTAR version: 2.7.11b   compiled: 2025-01-09T12:32:06+0000 :/opt/conda/conda-bld/star_1736425784849/work/source\n",
      "Jan 31 13:50:28 ..... started STAR run\n",
      "!!!!! WARNING: Could not move Log.out file from ./Log.out into /scratch/multiomics/nickyoungblut/star_refs/Equus_caballus/star/Log.out. Will keep ./Log.out\n",
      "\n",
      "Jan 31 13:50:28 ... starting to generate Genome files\n",
      "Jan 31 13:51:06 ..... processing annotations GTF\n",
      "Jan 31 13:51:23 ... starting to sort Suffix Array. This may take a long time...\n",
      "Jan 31 13:51:34 ... sorting Suffix Array chunks and saving them to disk...\n",
      "Jan 31 13:59:55 ... loading chunks from disk, packing SA...\n",
      "Jan 31 14:00:55 ... finished generating suffix array\n",
      "Jan 31 14:00:55 ... generating Suffix Array index\n",
      "Jan 31 14:04:30 ... completed Suffix Array index\n",
      "Jan 31 14:04:30 ..... inserting junctions into the genome indices\n",
      "Jan 31 14:07:01 ... writing Genome to disk ...\n",
      "Jan 31 14:07:04 ... writing Suffix Array to disk ...\n",
      "Jan 31 14:07:28 ... writing SAindex to disk\n",
      "Jan 31 14:07:30 ..... finished successfully\n"
     ]
    }
   ],
   "source": [
    "# create the star index\n",
    "star_dir = os.path.join(work_dir, \"star\")\n",
    "os.makedirs(star_dir, exist_ok=True)\n",
    "\n",
    "!STAR --runThreadN 16 \\\n",
    "    --runMode genomeGenerate \\\n",
    "    --genomeDir {star_dir} \\\n",
    "    --genomeFastaFiles {fasta_file} \\\n",
    "    --sjdbGTFfile {gtf_filt_file} \\\n",
    "    --sjdbOverhang 100 "
   ]
  },
  {
   "cell_type": "markdown",
   "metadata": {},
   "source": [
    "# Canis lupus familiaris"
   ]
  },
  {
   "cell_type": "code",
   "execution_count": 29,
   "metadata": {},
   "outputs": [],
   "source": [
    "organism = \"Canis lupus familiaris\"\n",
    "genome_name = \"ROS_Cfam_1.0\""
   ]
  },
  {
   "cell_type": "code",
   "execution_count": 30,
   "metadata": {},
   "outputs": [],
   "source": [
    "# format\n",
    "org_str = organism.replace(\" \", \"_\")\n",
    "work_dir = os.path.join(base_dir, org_str)\n",
    "os.makedirs(work_dir, exist_ok=True)"
   ]
  },
  {
   "cell_type": "code",
   "execution_count": 31,
   "metadata": {},
   "outputs": [
    {
     "name": "stdout",
     "output_type": "stream",
     "text": [
      "\u001b[1mname                 provider accession         tax_id annotation species                                  other_info                              \u001b[0m\n",
      "\u001b[0mUMICH_Zoey_3.1       Ensembl  GCA_005444595.1     9615     \u001b[32m✓\u001b[39m      Canis lupus familiaris                   2019-07-Ensembl/2019-08                 \u001b[0m\n",
      "\u001b[0mROS_Cfam_1.0         Ensembl  GCA_014441545.1     9615     \u001b[32m✓\u001b[39m      Canis lupus familiaris                   2020-10-Ensembl/2020-10                 \u001b[0m\n",
      "\u001b[0mUU_Cfam_GSD_1.0      Ensembl  GCA_011100685.1     9615     \u001b[32m✓\u001b[39m      Canis lupus familiaris                   2021-03-Ensembl/2021-03                 \u001b[0m\n",
      "\u001b[0mDog10K_Boxer_Tasha   Ensembl  GCA_000002285.4     9615     \u001b[32m✓\u001b[39m      Canis lupus familiaris                   2020-10-Ensembl/2020-10                 \u001b[0m\n",
      "\u001b[0mBasenji_breed-1.1    Ensembl  GCA_004886185.1     9615     \u001b[32m✓\u001b[39m      Canis lupus familiaris                   2019-07-Ensembl/2019-08                 \u001b[0m\n",
      "\u001b[0m\u001b[32m ^\u001b[0m\n",
      "\u001b[0m\u001b[32m Use name for \u001b[36mgenomepy install\u001b[0m\n",
      "\u001b[0m\u001b[0m"
     ]
    }
   ],
   "source": [
    "# show available assemblies\n",
    "!genomepy search --provider Ensembl {organism}"
   ]
  },
  {
   "cell_type": "code",
   "execution_count": 35,
   "metadata": {},
   "outputs": [
    {
     "name": "stdout",
     "output_type": "stream",
     "text": [
      "\u001b[32m14:10:42\u001b[0m \u001b[1m|\u001b[0m \u001b[34mINFO\u001b[0m \u001b[1m|\u001b[0m Downloading genome from Ensembl. Target URL: http://ftp.ensembl.org/pub/release-113/fasta/canis_lupus_familiaris/dna/Canis_lupus_familiaris.ROS_Cfam_1.0.dna_sm.toplevel.fa.gz...\n",
      "Download: 100%|██████████████████████████████| 742M/742M [00:23<00:00, 32.5MB/s]\u001b[0m\u001b[0m\n",
      "\u001b[0m\u001b[32m14:11:06\u001b[0m \u001b[1m|\u001b[0m \u001b[34mINFO\u001b[0m \u001b[1m|\u001b[0m Genome download successful, starting post processing...\n",
      "\u001b[32m14:11:18\u001b[0m \u001b[1m|\u001b[0m \u001b[34mINFO\u001b[0m \u001b[1m|\u001b[0m name: ROS_Cfam_1.0\n",
      "\u001b[32m14:11:18\u001b[0m \u001b[1m|\u001b[0m \u001b[34mINFO\u001b[0m \u001b[1m|\u001b[0m local name: ROS_Cfam_1.0\n",
      "\u001b[32m14:11:18\u001b[0m \u001b[1m|\u001b[0m \u001b[34mINFO\u001b[0m \u001b[1m|\u001b[0m fasta: /scratch/multiomics/nickyoungblut/star_refs/Canis_lupus_familiaris/ROS_Cfam_1.0/ROS_Cfam_1.0.fa\n",
      "Filtering Fasta: 39.9M lines [00:09, 4.10M lines/s]\u001b[0m\u001b[0m\n",
      "\u001b[0m\u001b[32m14:12:04\u001b[0m \u001b[1m|\u001b[0m \u001b[34mINFO\u001b[0m \u001b[1m|\u001b[0m Downloading annotation from Ensembl. Target URL: http://ftp.ensembl.org/pub/release-113/gtf/canis_lupus_familiaris/Canis_lupus_familiaris.ROS_Cfam_1.0.113.gtf.gz...\n",
      "Download: 100%|████████████████████████████| 16.0M/16.0M [00:01<00:00, 13.6MB/s]\u001b[0m\u001b[0m\n",
      "\u001b[0m\u001b[32m14:12:10\u001b[0m \u001b[1m|\u001b[0m \u001b[34mINFO\u001b[0m \u001b[1m|\u001b[0m Annotation download successful\n",
      "\u001b[0m"
     ]
    }
   ],
   "source": [
    "# download genome\n",
    "!genomepy install --provider Ensembl --annotation --genomes_dir {work_dir} {genome_name}"
   ]
  },
  {
   "cell_type": "code",
   "execution_count": 36,
   "metadata": {},
   "outputs": [
    {
     "data": {
      "text/plain": [
       "'/scratch/multiomics/nickyoungblut/star_refs/Canis_lupus_familiaris/ROS_Cfam_1.0/ROS_Cfam_1.0.fa'"
      ]
     },
     "execution_count": 36,
     "metadata": {},
     "output_type": "execute_result"
    }
   ],
   "source": [
    "# get genome fasta\n",
    "fasta_file = glob(f\"{work_dir}/{genome_name}/*.fa\")[0]\n",
    "fasta_file"
   ]
  },
  {
   "cell_type": "code",
   "execution_count": 37,
   "metadata": {},
   "outputs": [
    {
     "data": {
      "text/plain": [
       "'/scratch/multiomics/nickyoungblut/star_refs/Canis_lupus_familiaris/ROS_Cfam_1.0/ROS_Cfam_1.0.annotation.gtf'"
      ]
     },
     "execution_count": 37,
     "metadata": {},
     "output_type": "execute_result"
    }
   ],
   "source": [
    "# get gtf file\n",
    "gtf_file = glob(f\"{work_dir}/{genome_name}/*.gtf\")[0]\n",
    "gtf_file"
   ]
  },
  {
   "cell_type": "code",
   "execution_count": 38,
   "metadata": {},
   "outputs": [
    {
     "name": "stdout",
     "output_type": "stream",
     "text": [
      "Processing GTF: ROS_Cfam_1.0.annotation.gtf\n",
      "Output GTF: /scratch/multiomics/nickyoungblut/star_refs/Canis_lupus_familiaris/Canis_lupus_familiaris/Canis_lupus_familiaris.gtf\n",
      "Total records in GTF: 1295258\n",
      "Filtered 14652 records by biotype\n",
      "Filtered 0 records by tag\n",
      "-- Count of biotypes filtered --\n",
      "snRNA: 5250\n",
      "pseudogene: 3819\n",
      "miRNA: 2958\n",
      "snoRNA: 1854\n",
      "processed_pseudogene: 438\n",
      "scaRNA: 84\n",
      "Y_RNA: 81\n",
      "rRNA: 81\n",
      "misc_RNA: 66\n",
      "ribozyme: 18\n",
      "vault_RNA: 3\n",
      "-- Count of biotypes kept --\n",
      "protein_coding: 2485196\n",
      "lncRNA: 48257\n",
      "IG_V_gene: 293\n",
      "IG_C_gene: 276\n",
      "TR_J_gene: 63\n",
      "TR_C_gene: 43\n",
      "TR_V_gene: 38\n",
      "----------------------------\n"
     ]
    }
   ],
   "source": [
    "# format the reference\n",
    "exe = os.path.join(script_dir, \"format-star-ref.py\")\n",
    "!{exe} --organism \"{organism}\"  --output-dir {work_dir} {gtf_file} "
   ]
  },
  {
   "cell_type": "code",
   "execution_count": 39,
   "metadata": {},
   "outputs": [
    {
     "data": {
      "text/plain": [
       "True"
      ]
     },
     "execution_count": 39,
     "metadata": {},
     "output_type": "execute_result"
    }
   ],
   "source": [
    "# set the filtered gtf file\n",
    "gtf_filt_file = os.path.join(work_dir, org_str, f\"{org_str}.gtf\")\n",
    "os.path.exists(gtf_filt_file)"
   ]
  },
  {
   "cell_type": "code",
   "execution_count": 40,
   "metadata": {},
   "outputs": [
    {
     "name": "stdout",
     "output_type": "stream",
     "text": [
      "\t/home/nickyoungblut/miniforge3/envs/asmbl/bin/STAR-avx2 --runThreadN 16 --runMode genomeGenerate --genomeDir /scratch/multiomics/nickyoungblut/star_refs/Canis_lupus_familiaris/star --genomeFastaFiles /scratch/multiomics/nickyoungblut/star_refs/Canis_lupus_familiaris/ROS_Cfam_1.0/ROS_Cfam_1.0.fa --sjdbGTFfile /scratch/multiomics/nickyoungblut/star_refs/Canis_lupus_familiaris/Canis_lupus_familiaris/Canis_lupus_familiaris.gtf --sjdbOverhang 100\n",
      "\tSTAR version: 2.7.11b   compiled: 2025-01-09T12:32:06+0000 :/opt/conda/conda-bld/star_1736425784849/work/source\n",
      "Jan 31 14:12:47 ..... started STAR run\n",
      "!!!!! WARNING: Could not move Log.out file from ./Log.out into /scratch/multiomics/nickyoungblut/star_refs/Canis_lupus_familiaris/star/Log.out. Will keep ./Log.out\n",
      "\n",
      "Jan 31 14:12:47 ... starting to generate Genome files\n",
      "Jan 31 14:13:18 ..... processing annotations GTF\n",
      "Jan 31 14:13:29 ... starting to sort Suffix Array. This may take a long time...\n",
      "Jan 31 14:13:37 ... sorting Suffix Array chunks and saving them to disk...\n",
      "Jan 31 14:19:38 ... loading chunks from disk, packing SA...\n",
      "Jan 31 14:20:38 ... finished generating suffix array\n",
      "Jan 31 14:20:38 ... generating Suffix Array index\n",
      "Jan 31 14:24:09 ... completed Suffix Array index\n",
      "Jan 31 14:24:09 ..... inserting junctions into the genome indices\n",
      "Jan 31 14:26:03 ... writing Genome to disk ...\n",
      "Jan 31 14:26:05 ... writing Suffix Array to disk ...\n",
      "Jan 31 14:26:26 ... writing SAindex to disk\n",
      "Jan 31 14:26:29 ..... finished successfully\n"
     ]
    }
   ],
   "source": [
    "# create the star index\n",
    "star_dir = os.path.join(work_dir, \"star\")\n",
    "os.makedirs(star_dir, exist_ok=True)\n",
    "\n",
    "!STAR --runThreadN 16 \\\n",
    "    --runMode genomeGenerate \\\n",
    "    --genomeDir {star_dir} \\\n",
    "    --genomeFastaFiles {fasta_file} \\\n",
    "    --sjdbGTFfile {gtf_filt_file} \\\n",
    "    --sjdbOverhang 100 "
   ]
  },
  {
   "cell_type": "markdown",
   "metadata": {},
   "source": [
    "# Bos taurus"
   ]
  },
  {
   "cell_type": "code",
   "execution_count": 35,
   "metadata": {},
   "outputs": [],
   "source": [
    "organism = \"Bos taurus\"\n",
    "genome_name = \"ARS-UCD1.3\""
   ]
  },
  {
   "cell_type": "code",
   "execution_count": 36,
   "metadata": {},
   "outputs": [],
   "source": [
    "# format\n",
    "org_str = organism.replace(\" \", \"_\")\n",
    "work_dir = os.path.join(base_dir, org_str)\n",
    "os.makedirs(work_dir, exist_ok=True)"
   ]
  },
  {
   "cell_type": "code",
   "execution_count": 37,
   "metadata": {},
   "outputs": [
    {
     "name": "stdout",
     "output_type": "stream",
     "text": [
      "\u001b[1mname                 provider accession         tax_id annotation species                                  other_info                              \u001b[0m\n",
      "\u001b[0mUOA_Angus_1          Ensembl  GCA_003369685.2    30522     \u001b[32m✓\u001b[39m      Bos indicus x Bos taurus                 2018-12-Ensembl/2019-03                 \u001b[0m\n",
      "\u001b[0mUOA_Brahman_1        Ensembl  GCA_003369695.2    30522     \u001b[32m✓\u001b[39m      Bos indicus x Bos taurus                 2018-12-Ensembl/2019-03                 \u001b[0m\n",
      "\u001b[0mARS-UCD1.3           Ensembl  GCA_002263795.3     9913     \u001b[32m✓\u001b[39m      Bos taurus                               2023-02-Ensembl/2023-06                 \u001b[0m\n",
      "\u001b[0m\u001b[32m ^\u001b[0m\n",
      "\u001b[0m\u001b[32m Use name for \u001b[36mgenomepy install\u001b[0m\n",
      "\u001b[0m\u001b[0m"
     ]
    }
   ],
   "source": [
    "# show available assemblies\n",
    "!genomepy search --provider Ensembl {organism}"
   ]
  },
  {
   "cell_type": "code",
   "execution_count": null,
   "metadata": {},
   "outputs": [
    {
     "name": "stdout",
     "output_type": "stream",
     "text": [
      "\u001b[32m17:34:02\u001b[0m \u001b[1m|\u001b[0m \u001b[34mINFO\u001b[0m \u001b[1m|\u001b[0m Downloading genome from Ensembl. Target URL: http://ftp.ensembl.org/pub/release-113/fasta/bos_taurus/dna/Bos_taurus.ARS-UCD1.3.dna_sm.toplevel.fa.gz...\n",
      "Download:  32%|█████████▋                    | 270M/833M [00:10<00:19, 30.7MB/s]\u001b[0m"
     ]
    }
   ],
   "source": [
    "# download genome\n",
    "!genomepy install --provider Ensembl --annotation --genomes_dir {work_dir} {genome_name}"
   ]
  },
  {
   "cell_type": "code",
   "execution_count": null,
   "metadata": {},
   "outputs": [],
   "source": [
    "# get genome fasta\n",
    "fasta_file = glob(f\"{work_dir}/{genome_name}/*.fa\")[0]\n",
    "fasta_file"
   ]
  },
  {
   "cell_type": "code",
   "execution_count": null,
   "metadata": {},
   "outputs": [],
   "source": [
    "# get gtf file\n",
    "gtf_file = glob(f\"{work_dir}/{genome_name}/*.gtf\")[0]\n",
    "gtf_file"
   ]
  },
  {
   "cell_type": "code",
   "execution_count": null,
   "metadata": {},
   "outputs": [],
   "source": [
    "# format the reference\n",
    "exe = os.path.join(script_dir, \"format-star-ref.py\")\n",
    "!{exe} --organism \"{organism}\"  --output-dir {work_dir} {gtf_file} "
   ]
  },
  {
   "cell_type": "code",
   "execution_count": null,
   "metadata": {},
   "outputs": [],
   "source": [
    "# set the filtered gtf file\n",
    "gtf_filt_file = os.path.join(work_dir, org_str, f\"{org_str}.gtf\")\n",
    "os.path.exists(gtf_filt_file)"
   ]
  },
  {
   "cell_type": "code",
   "execution_count": null,
   "metadata": {},
   "outputs": [],
   "source": [
    "# create the star index\n",
    "star_dir = os.path.join(work_dir, \"star\")\n",
    "os.makedirs(star_dir, exist_ok=True)\n",
    "\n",
    "!STAR --runThreadN 16 \\\n",
    "    --runMode genomeGenerate \\\n",
    "    --genomeDir {star_dir} \\\n",
    "    --genomeFastaFiles {fasta_file} \\\n",
    "    --sjdbGTFfile {gtf_filt_file} \\\n",
    "    --sjdbOverhang 100 "
   ]
  },
  {
   "cell_type": "markdown",
   "metadata": {},
   "source": [
    "# Ovis aries"
   ]
  },
  {
   "cell_type": "code",
   "execution_count": 9,
   "metadata": {},
   "outputs": [],
   "source": [
    "organism = \"Ovis aries\"\n",
    "genome_name = \"ARS-UI_Ramb_v2.0\""
   ]
  },
  {
   "cell_type": "code",
   "execution_count": 10,
   "metadata": {},
   "outputs": [],
   "source": [
    "# format\n",
    "org_str = organism.replace(\" \", \"_\")\n",
    "work_dir = os.path.join(base_dir, org_str)\n",
    "os.makedirs(work_dir, exist_ok=True)"
   ]
  },
  {
   "cell_type": "code",
   "execution_count": 11,
   "metadata": {},
   "outputs": [
    {
     "name": "stdout",
     "output_type": "stream",
     "text": [
      "\u001b[1mname                 provider accession         tax_id annotation species                                  other_info                              \u001b[0m\n",
      "\u001b[0mARS-UI_Ramb_v2.0     Ensembl  GCA_016772045.1     9940     \u001b[32m✓\u001b[39m      Ovis aries                               2022-08-Ensembl                         \u001b[0m\n",
      "\u001b[0mOar_v3.1             Ensembl  GCA_000298735.1     9940     \u001b[31m✗\u001b[39m      Ovis aries                               2012-12-Ensembl/2015-05                 \u001b[0m\n",
      "\u001b[0mASM2241668v1         Ensembl  GCA_022416685.1     9940     \u001b[32m✓\u001b[39m      Ovis aries                               ENS01                                   \u001b[0m\n",
      "\u001b[0mNWAFU_Friesian_1.0   Ensembl  GCA_018804185.1     9940     \u001b[32m✓\u001b[39m      Ovis aries                               ENS01                                   \u001b[0m\n",
      "\u001b[0mASM2243283v1         Ensembl  GCA_022432835.1     9940     \u001b[32m✓\u001b[39m      Ovis aries                               ENS01                                   \u001b[0m\n",
      "\u001b[0mASM2241691v1         Ensembl  GCA_022416915.1     9940     \u001b[32m✓\u001b[39m      Ovis aries                               ENS01                                   \u001b[0m\n",
      "\u001b[0mASM2422217v1         Ensembl  GCA_024222175.1     9940     \u001b[32m✓\u001b[39m      Ovis aries                               ENS01                                   \u001b[0m\n",
      "\u001b[0mASM2243282v1         Ensembl  GCA_022432825.1     9940     \u001b[32m✓\u001b[39m      Ovis aries                               ENS01                                   \u001b[0m\n",
      "\u001b[0mASM1117029v1         Ensembl  GCA_011170295.1     9940     \u001b[32m✓\u001b[39m      Ovis aries                               ENS01                                   \u001b[0m\n",
      "\u001b[0mASM2241669v1         Ensembl  GCA_022416695.1     9940     \u001b[32m✓\u001b[39m      Ovis aries                               ENS01                                   \u001b[0m\n",
      "\u001b[0m\u001b[32m ^\u001b[0m\n",
      "\u001b[0m\u001b[32m Use name for \u001b[36mgenomepy install\u001b[0m\n",
      "\u001b[0m\u001b[0m"
     ]
    }
   ],
   "source": [
    "# show available assemblies\n",
    "!genomepy search --provider Ensembl {organism}"
   ]
  },
  {
   "cell_type": "code",
   "execution_count": 12,
   "metadata": {},
   "outputs": [
    {
     "name": "stdout",
     "output_type": "stream",
     "text": [
      "\u001b[32m08:13:27\u001b[0m \u001b[1m|\u001b[0m \u001b[34mINFO\u001b[0m \u001b[1m|\u001b[0m Downloading genome from Ensembl. Target URL: http://ftp.ensembl.org/pub/release-113/fasta/ovis_aries_rambouillet/dna/Ovis_aries_rambouillet.ARS-UI_Ramb_v2.0.dna_sm.toplevel.fa.gz...\n",
      "Download: 100%|██████████████████████████████| 817M/817M [00:26<00:00, 32.5MB/s]\u001b[0m\u001b[0m\n",
      "\u001b[0m\u001b[32m08:13:53\u001b[0m \u001b[1m|\u001b[0m \u001b[34mINFO\u001b[0m \u001b[1m|\u001b[0m Genome download successful, starting post processing...\n",
      "\u001b[32m08:14:06\u001b[0m \u001b[1m|\u001b[0m \u001b[34mINFO\u001b[0m \u001b[1m|\u001b[0m name: ARS-UI_Ramb_v2.0\n",
      "\u001b[32m08:14:06\u001b[0m \u001b[1m|\u001b[0m \u001b[34mINFO\u001b[0m \u001b[1m|\u001b[0m local name: ARS-UI_Ramb_v2.0\n",
      "\u001b[32m08:14:06\u001b[0m \u001b[1m|\u001b[0m \u001b[34mINFO\u001b[0m \u001b[1m|\u001b[0m fasta: /scratch/multiomics/nickyoungblut/star_refs/Ovis_aries/ARS-UI_Ramb_v2.0/ARS-UI_Ramb_v2.0.fa\n",
      "Filtering Fasta: 43.8M lines [00:10, 4.01M lines/s]\u001b[0m\u001b[0m\n",
      "\u001b[0m\u001b[32m08:14:54\u001b[0m \u001b[1m|\u001b[0m \u001b[34mINFO\u001b[0m \u001b[1m|\u001b[0m Downloading annotation from Ensembl. Target URL: http://ftp.ensembl.org/pub/release-113/gtf/ovis_aries_rambouillet/Ovis_aries_rambouillet.ARS-UI_Ramb_v2.0.113.gtf.gz...\n",
      "Download: 100%|████████████████████████████| 18.7M/18.7M [00:01<00:00, 14.9MB/s]\u001b[0m\u001b[0m\n",
      "\u001b[0m\u001b[32m08:15:00\u001b[0m \u001b[1m|\u001b[0m \u001b[34mINFO\u001b[0m \u001b[1m|\u001b[0m Annotation download successful\n",
      "\u001b[0m"
     ]
    }
   ],
   "source": [
    "# download genome\n",
    "!genomepy install --provider Ensembl --annotation --genomes_dir {work_dir} {genome_name}"
   ]
  },
  {
   "cell_type": "code",
   "execution_count": 13,
   "metadata": {},
   "outputs": [
    {
     "data": {
      "text/plain": [
       "'/scratch/multiomics/nickyoungblut/star_refs/Ovis_aries/ARS-UI_Ramb_v2.0/ARS-UI_Ramb_v2.0.fa'"
      ]
     },
     "execution_count": 13,
     "metadata": {},
     "output_type": "execute_result"
    }
   ],
   "source": [
    "# get genome fasta\n",
    "fasta_file = glob(f\"{work_dir}/{genome_name}/*.fa\")[0]\n",
    "fasta_file"
   ]
  },
  {
   "cell_type": "code",
   "execution_count": 14,
   "metadata": {},
   "outputs": [
    {
     "data": {
      "text/plain": [
       "'/scratch/multiomics/nickyoungblut/star_refs/Ovis_aries/ARS-UI_Ramb_v2.0/ARS-UI_Ramb_v2.0.annotation.gtf'"
      ]
     },
     "execution_count": 14,
     "metadata": {},
     "output_type": "execute_result"
    }
   ],
   "source": [
    "# get gtf file\n",
    "gtf_file = glob(f\"{work_dir}/{genome_name}/*.gtf\")[0]\n",
    "gtf_file"
   ]
  },
  {
   "cell_type": "code",
   "execution_count": 15,
   "metadata": {},
   "outputs": [
    {
     "name": "stdout",
     "output_type": "stream",
     "text": [
      "Processing GTF: ARS-UI_Ramb_v2.0.annotation.gtf\n",
      "Output GTF: /scratch/multiomics/nickyoungblut/star_refs/Ovis_aries/Ovis_aries/Ovis_aries.gtf\n",
      "Total records in GTF: 1463309\n",
      "Filtered 9317 records by biotype\n",
      "Filtered 0 records by tag\n",
      "-- Count of biotypes filtered --\n",
      "snRNA: 3699\n",
      "snoRNA: 2094\n",
      "pseudogene: 1901\n",
      "miRNA: 1059\n",
      "rRNA: 147\n",
      "processed_pseudogene: 114\n",
      "scaRNA: 93\n",
      "Mt_tRNA: 66\n",
      "misc_RNA: 57\n",
      "Y_RNA: 33\n",
      "vault_RNA: 30\n",
      "ribozyme: 18\n",
      "Mt_rRNA: 6\n",
      "-- Count of biotypes kept --\n",
      "protein_coding: 2776290\n",
      "lncRNA: 102265\n",
      "TR_V_gene: 842\n",
      "IG_V_gene: 196\n",
      "TR_J_gene: 195\n",
      "IG_C_gene: 141\n",
      "TR_C_gene: 63\n",
      "----------------------------\n"
     ]
    }
   ],
   "source": [
    "# format the reference\n",
    "exe = os.path.join(script_dir, \"format-star-ref.py\")\n",
    "!{exe} --organism \"{organism}\"  --output-dir {work_dir} {gtf_file} "
   ]
  },
  {
   "cell_type": "code",
   "execution_count": 16,
   "metadata": {},
   "outputs": [
    {
     "data": {
      "text/plain": [
       "True"
      ]
     },
     "execution_count": 16,
     "metadata": {},
     "output_type": "execute_result"
    }
   ],
   "source": [
    "# set the filtered gtf file\n",
    "gtf_filt_file = os.path.join(work_dir, org_str, f\"{org_str}.gtf\")\n",
    "os.path.exists(gtf_filt_file)"
   ]
  },
  {
   "cell_type": "code",
   "execution_count": 17,
   "metadata": {},
   "outputs": [
    {
     "name": "stdout",
     "output_type": "stream",
     "text": [
      "\t/home/nickyoungblut/miniforge3/envs/asmbl/bin/STAR-avx2 --runThreadN 16 --runMode genomeGenerate --genomeDir /scratch/multiomics/nickyoungblut/star_refs/Ovis_aries/star --genomeFastaFiles /scratch/multiomics/nickyoungblut/star_refs/Ovis_aries/ARS-UI_Ramb_v2.0/ARS-UI_Ramb_v2.0.fa --sjdbGTFfile /scratch/multiomics/nickyoungblut/star_refs/Ovis_aries/Ovis_aries/Ovis_aries.gtf --sjdbOverhang 100\n",
      "\tSTAR version: 2.7.11b   compiled: 2025-01-09T12:32:06+0000 :/opt/conda/conda-bld/star_1736425784849/work/source\n",
      "Feb 01 08:15:23 ..... started STAR run\n",
      "!!!!! WARNING: Could not move Log.out file from ./Log.out into /scratch/multiomics/nickyoungblut/star_refs/Ovis_aries/star/Log.out. Will keep ./Log.out\n",
      "\n",
      "Feb 01 08:15:23 ... starting to generate Genome files\n",
      "Feb 01 08:15:58 ..... processing annotations GTF\n",
      "Feb 01 08:16:11 ... starting to sort Suffix Array. This may take a long time...\n",
      "Feb 01 08:16:20 ... sorting Suffix Array chunks and saving them to disk...\n",
      "Feb 01 08:23:54 ... loading chunks from disk, packing SA...\n",
      "Feb 01 08:24:52 ... finished generating suffix array\n",
      "Feb 01 08:24:52 ... generating Suffix Array index\n",
      "Feb 01 08:28:16 ... completed Suffix Array index\n",
      "Feb 01 08:28:17 ..... inserting junctions into the genome indices\n",
      "Feb 01 08:30:23 ... writing Genome to disk ...\n",
      "Feb 01 08:30:26 ... writing Suffix Array to disk ...\n",
      "Feb 01 08:30:46 ... writing SAindex to disk\n",
      "Feb 01 08:30:47 ..... finished successfully\n"
     ]
    }
   ],
   "source": [
    "# create the star index\n",
    "star_dir = os.path.join(work_dir, \"star\")\n",
    "os.makedirs(star_dir, exist_ok=True)\n",
    "\n",
    "!STAR --runThreadN 16 \\\n",
    "    --runMode genomeGenerate \\\n",
    "    --genomeDir {star_dir} \\\n",
    "    --genomeFastaFiles {fasta_file} \\\n",
    "    --sjdbGTFfile {gtf_filt_file} \\\n",
    "    --sjdbOverhang 100 "
   ]
  },
  {
   "cell_type": "markdown",
   "metadata": {},
   "source": [
    "# Sus scrofa"
   ]
  },
  {
   "cell_type": "code",
   "execution_count": 41,
   "metadata": {},
   "outputs": [],
   "source": [
    "organism = \"Sus scrofa\"\n",
    "genome_name = \"Sscrofa11.1\""
   ]
  },
  {
   "cell_type": "code",
   "execution_count": 42,
   "metadata": {},
   "outputs": [],
   "source": [
    "# format\n",
    "org_str = organism.replace(\" \", \"_\")\n",
    "work_dir = os.path.join(base_dir, org_str)\n",
    "os.makedirs(work_dir, exist_ok=True)"
   ]
  },
  {
   "cell_type": "code",
   "execution_count": 43,
   "metadata": {},
   "outputs": [
    {
     "name": "stdout",
     "output_type": "stream",
     "text": [
      "\u001b[1mname                 provider accession         tax_id annotation species                                  other_info                              \u001b[0m\n",
      "\u001b[0mPietrain_pig_v1      Ensembl  GCA_001700255.1     9823     \u001b[32m✓\u001b[39m      Sus scrofa                               2019-01-Ensembl/2019-06                 \u001b[0m\n",
      "\u001b[0mLarge_White_v1       Ensembl  GCA_001700135.1     9823     \u001b[32m✓\u001b[39m      Sus scrofa                               2019-01-Ensembl/2019-06                 \u001b[0m\n",
      "\u001b[0mBamei_pig_v1         Ensembl  GCA_001700235.1     9823     \u001b[32m✓\u001b[39m      Sus scrofa                               2019-01-Ensembl/2019-06                 \u001b[0m\n",
      "\u001b[0mTibetan_Pig_v2       Ensembl  GCA_000472085.2     9823     \u001b[32m✓\u001b[39m      Sus scrofa                               2019-01-Ensembl/2019-06                 \u001b[0m\n",
      "\u001b[0mSscrofa11.1          Ensembl  GCA_000003025.6     9823     \u001b[32m✓\u001b[39m      Sus scrofa                               HAV01                                   \u001b[0m\n",
      "\u001b[0mLandrace_pig_v1      Ensembl  GCA_001700215.1     9823     \u001b[32m✓\u001b[39m      Sus scrofa                               2019-01-Ensembl/2019-06                 \u001b[0m\n",
      "\u001b[0mUSMARCv1.0           Ensembl  GCA_002844635.1     9823     \u001b[32m✓\u001b[39m      Sus scrofa                               2018-11-Ensembl/2020-03                 \u001b[0m\n",
      "\u001b[0mminipig_v1.0         Ensembl  GCA_000325925.2     9823     \u001b[32m✓\u001b[39m      Sus scrofa                               2019-01-Ensembl/2019-06                 \u001b[0m\n",
      "\u001b[0mJinhua_pig_v1        Ensembl  GCA_001700295.1     9823     \u001b[32m✓\u001b[39m      Sus scrofa                               2019-01-Ensembl/2019-06                 \u001b[0m\n",
      "\u001b[0mRongchang_pig_v1     Ensembl  GCA_001700155.1     9823     \u001b[32m✓\u001b[39m      Sus scrofa                               2019-01-Ensembl/2019-06                 \u001b[0m\n",
      "\u001b[0mHampshire_pig_v1     Ensembl  GCA_001700165.1     9823     \u001b[32m✓\u001b[39m      Sus scrofa                               2019-01-Ensembl/2019-06                 \u001b[0m\n",
      "\u001b[0mBerkshire_pig_v1     Ensembl  GCA_001700575.1     9823     \u001b[32m✓\u001b[39m      Sus scrofa                               2019-01-Ensembl/2019-06                 \u001b[0m\n",
      "\u001b[0mASM764409v1          Ensembl  GCA_007644095.1     9823     \u001b[32m✓\u001b[39m      Sus scrofa                               ENS01                                   \u001b[0m\n",
      "\u001b[0mNinghe_Sus_1         Ensembl  GCA_015776825.1     9823     \u001b[32m✓\u001b[39m      Sus scrofa                               ENS01                                   \u001b[0m\n",
      "\u001b[0mASM2471841v1         Ensembl  GCA_024718415.1     9823     \u001b[32m✓\u001b[39m      Sus scrofa                               ENS01                                   \u001b[0m\n",
      "\u001b[0mASM2056790v1         Ensembl  GCA_020567905.1     9825     \u001b[32m✓\u001b[39m      Sus scrofa domesticus                    ENS01                                   \u001b[0m\n",
      "\u001b[0mASM2165605v1         Ensembl  GCA_021656055.1     9823     \u001b[32m✓\u001b[39m      Sus scrofa                               ENS01                                   \u001b[0m\n",
      "\u001b[0mCAU-K                Ensembl  GCA_019290145.1     9823     \u001b[32m✓\u001b[39m      Sus scrofa                               ENS01                                   \u001b[0m\n",
      "\u001b[0mASM1855540v1         Ensembl  GCA_018555405.1     9823     \u001b[32m✓\u001b[39m      Sus scrofa                               ENS01                                   \u001b[0m\n",
      "\u001b[0mASM1795798v1         Ensembl  GCA_017957985.1     9825     \u001b[32m✓\u001b[39m      Sus scrofa domesticus                    ENS01                                   \u001b[0m\n",
      "\u001b[0mMeishan_pig_v1       Ensembl  GCA_001700195.1     9823     \u001b[32m✓\u001b[39m      Sus scrofa                               2019-01-Ensembl/2019-06                 \u001b[0m\n",
      "\u001b[0m\u001b[32m ^\u001b[0m\n",
      "\u001b[0m\u001b[32m Use name for \u001b[36mgenomepy install\u001b[0m\n",
      "\u001b[0m\u001b[0m"
     ]
    }
   ],
   "source": [
    "# show available assemblies\n",
    "!genomepy search --provider Ensembl {organism}"
   ]
  },
  {
   "cell_type": "code",
   "execution_count": 44,
   "metadata": {},
   "outputs": [
    {
     "name": "stdout",
     "output_type": "stream",
     "text": [
      "\u001b[32m08:37:06\u001b[0m \u001b[1m|\u001b[0m \u001b[34mINFO\u001b[0m \u001b[1m|\u001b[0m Downloading genome from Ensembl. Target URL: http://ftp.ensembl.org/pub/release-113/fasta/sus_scrofa/dna/Sus_scrofa.Sscrofa11.1.dna_sm.toplevel.fa.gz...\n",
      "Download: 100%|██████████████████████████████| 766M/766M [00:24<00:00, 32.4MB/s]\u001b[0m\u001b[0m\n",
      "\u001b[0m\u001b[32m08:37:31\u001b[0m \u001b[1m|\u001b[0m \u001b[34mINFO\u001b[0m \u001b[1m|\u001b[0m Genome download successful, starting post processing...\n",
      "\u001b[32m08:37:43\u001b[0m \u001b[1m|\u001b[0m \u001b[34mINFO\u001b[0m \u001b[1m|\u001b[0m name: Sscrofa11.1\n",
      "\u001b[32m08:37:43\u001b[0m \u001b[1m|\u001b[0m \u001b[34mINFO\u001b[0m \u001b[1m|\u001b[0m local name: Sscrofa11.1\n",
      "\u001b[32m08:37:43\u001b[0m \u001b[1m|\u001b[0m \u001b[34mINFO\u001b[0m \u001b[1m|\u001b[0m fasta: /scratch/multiomics/nickyoungblut/star_refs/Sus_scrofa/Sscrofa11.1/Sscrofa11.1.fa\n",
      "Filtering Fasta: 41.7M lines [00:10, 3.95M lines/s]\u001b[0m\u001b[0m\n",
      "\u001b[0m\u001b[32m08:38:30\u001b[0m \u001b[1m|\u001b[0m \u001b[34mINFO\u001b[0m \u001b[1m|\u001b[0m Downloading annotation from Ensembl. Target URL: http://ftp.ensembl.org/pub/release-113/gtf/sus_scrofa/Sus_scrofa.Sscrofa11.1.113.gtf.gz...\n",
      "Download: 100%|████████████████████████████| 17.9M/17.9M [00:01<00:00, 14.5MB/s]\u001b[0m\u001b[0m\n",
      "\u001b[0m\u001b[32m08:38:35\u001b[0m \u001b[1m|\u001b[0m \u001b[34mINFO\u001b[0m \u001b[1m|\u001b[0m Annotation download successful\n",
      "\u001b[0m"
     ]
    }
   ],
   "source": [
    "# download genome\n",
    "!genomepy install --provider Ensembl --annotation --genomes_dir {work_dir} {genome_name}"
   ]
  },
  {
   "cell_type": "code",
   "execution_count": 45,
   "metadata": {},
   "outputs": [
    {
     "data": {
      "text/plain": [
       "'/scratch/multiomics/nickyoungblut/star_refs/Sus_scrofa/Sscrofa11.1/Sscrofa11.1.fa'"
      ]
     },
     "execution_count": 45,
     "metadata": {},
     "output_type": "execute_result"
    }
   ],
   "source": [
    "# get genome fasta\n",
    "fasta_file = glob(f\"{work_dir}/{genome_name}/*.fa\")[0]\n",
    "fasta_file"
   ]
  },
  {
   "cell_type": "code",
   "execution_count": 46,
   "metadata": {},
   "outputs": [
    {
     "data": {
      "text/plain": [
       "'/scratch/multiomics/nickyoungblut/star_refs/Sus_scrofa/Sscrofa11.1/Sscrofa11.1.annotation.gtf'"
      ]
     },
     "execution_count": 46,
     "metadata": {},
     "output_type": "execute_result"
    }
   ],
   "source": [
    "# get gtf file\n",
    "gtf_file = glob(f\"{work_dir}/{genome_name}/*.gtf\")[0]\n",
    "gtf_file"
   ]
  },
  {
   "cell_type": "code",
   "execution_count": 47,
   "metadata": {},
   "outputs": [
    {
     "name": "stdout",
     "output_type": "stream",
     "text": [
      "Processing GTF: Sscrofa11.1.annotation.gtf\n",
      "Output GTF: /scratch/multiomics/nickyoungblut/star_refs/Sus_scrofa/Sus_scrofa/Sus_scrofa.gtf\n",
      "Total records in GTF: 1366243\n",
      "Filtered 16502 records by biotype\n",
      "Filtered 0 records by tag\n",
      "-- Count of biotypes filtered --\n",
      "nonsense_mediated_decay: 6350\n",
      "snRNA: 3312\n",
      "pseudogene: 2054\n",
      "snoRNA: 1773\n",
      "miRNA: 1164\n",
      "processed_pseudogene: 697\n",
      "protein_coding_CDS_not_defined: 273\n",
      "retained_intron: 242\n",
      "unitary_pseudogene: 156\n",
      "unprocessed_pseudogene: 108\n",
      "scaRNA: 75\n",
      "Mt_tRNA: 66\n",
      "rRNA: 63\n",
      "misc_RNA: 51\n",
      "transcribed_unprocessed_pseudogene: 46\n",
      "Y_RNA: 27\n",
      "ribozyme: 21\n",
      "translated_unprocessed_pseudogene: 9\n",
      "vault_RNA: 9\n",
      "Mt_rRNA: 6\n",
      "-- Count of biotypes kept --\n",
      "protein_coding: 2596185\n",
      "lncRNA: 76916\n",
      "IG_V_gene: 104\n",
      "TR_V_gene: 78\n",
      "TR_J_gene: 36\n",
      "IG_C_gene: 17\n",
      "----------------------------\n"
     ]
    }
   ],
   "source": [
    "# format the reference\n",
    "exe = os.path.join(script_dir, \"format-star-ref.py\")\n",
    "!{exe} --organism \"{organism}\"  --output-dir {work_dir} {gtf_file} "
   ]
  },
  {
   "cell_type": "code",
   "execution_count": 48,
   "metadata": {},
   "outputs": [
    {
     "data": {
      "text/plain": [
       "True"
      ]
     },
     "execution_count": 48,
     "metadata": {},
     "output_type": "execute_result"
    }
   ],
   "source": [
    "# set the filtered gtf file\n",
    "gtf_filt_file = os.path.join(work_dir, org_str, f\"{org_str}.gtf\")\n",
    "os.path.exists(gtf_filt_file)"
   ]
  },
  {
   "cell_type": "code",
   "execution_count": 49,
   "metadata": {},
   "outputs": [
    {
     "name": "stdout",
     "output_type": "stream",
     "text": [
      "\t/home/nickyoungblut/miniforge3/envs/asmbl/bin/STAR-avx2 --runThreadN 16 --runMode genomeGenerate --genomeDir /scratch/multiomics/nickyoungblut/star_refs/Sus_scrofa/star --genomeFastaFiles /scratch/multiomics/nickyoungblut/star_refs/Sus_scrofa/Sscrofa11.1/Sscrofa11.1.fa --sjdbGTFfile /scratch/multiomics/nickyoungblut/star_refs/Sus_scrofa/Sus_scrofa/Sus_scrofa.gtf --sjdbOverhang 100\n",
      "\tSTAR version: 2.7.11b   compiled: 2025-01-09T12:32:06+0000 :/opt/conda/conda-bld/star_1736425784849/work/source\n",
      "Feb 01 08:38:56 ..... started STAR run\n",
      "!!!!! WARNING: Could not move Log.out file from ./Log.out into /scratch/multiomics/nickyoungblut/star_refs/Sus_scrofa/star/Log.out. Will keep ./Log.out\n",
      "\n",
      "Feb 01 08:38:56 ... starting to generate Genome files\n",
      "Feb 01 08:39:30 ..... processing annotations GTF\n",
      "Feb 01 08:39:42 ... starting to sort Suffix Array. This may take a long time...\n",
      "Feb 01 08:39:50 ... sorting Suffix Array chunks and saving them to disk...\n",
      "Feb 01 08:45:53 ... loading chunks from disk, packing SA...\n",
      "Feb 01 08:46:54 ... finished generating suffix array\n",
      "Feb 01 08:46:54 ... generating Suffix Array index\n",
      "Feb 01 08:50:19 ... completed Suffix Array index\n",
      "Feb 01 08:50:20 ..... inserting junctions into the genome indices\n",
      "Feb 01 08:52:21 ... writing Genome to disk ...\n",
      "Feb 01 08:52:23 ... writing Suffix Array to disk ...\n",
      "Feb 01 08:52:48 ... writing SAindex to disk\n",
      "Feb 01 08:52:51 ..... finished successfully\n"
     ]
    }
   ],
   "source": [
    "# create the star index\n",
    "star_dir = os.path.join(work_dir, \"star\")\n",
    "os.makedirs(star_dir, exist_ok=True)\n",
    "\n",
    "!STAR --runThreadN 16 \\\n",
    "    --runMode genomeGenerate \\\n",
    "    --genomeDir {star_dir} \\\n",
    "    --genomeFastaFiles {fasta_file} \\\n",
    "    --sjdbGTFfile {gtf_filt_file} \\\n",
    "    --sjdbOverhang 100 "
   ]
  },
  {
   "cell_type": "markdown",
   "metadata": {},
   "source": [
    "# Heterocephalus glaber"
   ]
  },
  {
   "cell_type": "code",
   "execution_count": 50,
   "metadata": {},
   "outputs": [],
   "source": [
    "organism = \"Heterocephalus glaber\"\n",
    "genome_name = \"Naked_mole-rat_maternal\""
   ]
  },
  {
   "cell_type": "code",
   "execution_count": 51,
   "metadata": {},
   "outputs": [],
   "source": [
    "# format\n",
    "org_str = organism.replace(\" \", \"_\")\n",
    "work_dir = os.path.join(base_dir, org_str)\n",
    "os.makedirs(work_dir, exist_ok=True)"
   ]
  },
  {
   "cell_type": "code",
   "execution_count": 52,
   "metadata": {},
   "outputs": [
    {
     "name": "stdout",
     "output_type": "stream",
     "text": [
      "\u001b[1mname                 provider accession         tax_id annotation species                                  other_info                              \u001b[0m\n",
      "\u001b[0mNaked_mole-rat_maternal Ensembl  GCA_944319715.1    10181     \u001b[32m✓\u001b[39m      Heterocephalus glaber                    2022-08-Ensembl/2022-09                 \u001b[0m\n",
      "\u001b[0mNaked_mole-rat_paternal Ensembl  GCA_944319725.1    10181     \u001b[32m✓\u001b[39m      Heterocephalus glaber                    2022-08-Ensembl/2022-09                 \u001b[0m\n",
      "\u001b[0m\u001b[32m ^\u001b[0m\n",
      "\u001b[0m\u001b[32m Use name for \u001b[36mgenomepy install\u001b[0m\n",
      "\u001b[0m\u001b[0m"
     ]
    }
   ],
   "source": [
    "# show available assemblies\n",
    "!genomepy search --provider Ensembl {organism}"
   ]
  },
  {
   "cell_type": "code",
   "execution_count": 53,
   "metadata": {},
   "outputs": [
    {
     "name": "stdout",
     "output_type": "stream",
     "text": [
      "\u001b[32m08:53:29\u001b[0m \u001b[1m|\u001b[0m \u001b[34mINFO\u001b[0m \u001b[1m|\u001b[0m Downloading genome from Ensembl. Target URL: http://ftp.ensembl.org/pub/release-113/fasta/heterocephalus_glaber_female/dna/Heterocephalus_glaber_female.Naked_mole-rat_maternal.dna_sm.toplevel.fa.gz...\n",
      "Download: 100%|██████████████████████████████| 780M/780M [00:25<00:00, 32.4MB/s]\u001b[0m\u001b[0m\n",
      "\u001b[0m\u001b[32m08:53:55\u001b[0m \u001b[1m|\u001b[0m \u001b[34mINFO\u001b[0m \u001b[1m|\u001b[0m Genome download successful, starting post processing...\n",
      "\u001b[32m08:54:07\u001b[0m \u001b[1m|\u001b[0m \u001b[34mINFO\u001b[0m \u001b[1m|\u001b[0m name: Naked_mole-rat_maternal\n",
      "\u001b[32m08:54:07\u001b[0m \u001b[1m|\u001b[0m \u001b[34mINFO\u001b[0m \u001b[1m|\u001b[0m local name: Naked_mole-rat_maternal\n",
      "\u001b[32m08:54:07\u001b[0m \u001b[1m|\u001b[0m \u001b[34mINFO\u001b[0m \u001b[1m|\u001b[0m fasta: /scratch/multiomics/nickyoungblut/star_refs/Heterocephalus_glaber/Naked_mole-rat_maternal/Naked_mole-rat_maternal.fa\n",
      "Filtering Fasta: 41.7M lines [00:10, 4.04M lines/s]\u001b[0m\u001b[0m\n",
      "\u001b[0m\u001b[32m08:54:53\u001b[0m \u001b[1m|\u001b[0m \u001b[34mINFO\u001b[0m \u001b[1m|\u001b[0m Downloading annotation from Ensembl. Target URL: http://ftp.ensembl.org/pub/release-113/gtf/heterocephalus_glaber_female/Heterocephalus_glaber_female.Naked_mole-rat_maternal.113.gtf.gz...\n",
      "Download: 100%|████████████████████████████| 17.8M/17.8M [00:01<00:00, 15.4MB/s]\u001b[0m\u001b[0m\n",
      "\u001b[0m\u001b[32m08:54:59\u001b[0m \u001b[1m|\u001b[0m \u001b[34mINFO\u001b[0m \u001b[1m|\u001b[0m Annotation download successful\n",
      "\u001b[0m"
     ]
    }
   ],
   "source": [
    "# download genome\n",
    "!genomepy install --provider Ensembl --annotation --genomes_dir {work_dir} {genome_name}"
   ]
  },
  {
   "cell_type": "code",
   "execution_count": 54,
   "metadata": {},
   "outputs": [
    {
     "data": {
      "text/plain": [
       "'/scratch/multiomics/nickyoungblut/star_refs/Heterocephalus_glaber/Naked_mole-rat_maternal/Naked_mole-rat_maternal.fa'"
      ]
     },
     "execution_count": 54,
     "metadata": {},
     "output_type": "execute_result"
    }
   ],
   "source": [
    "# get genome fasta\n",
    "fasta_file = glob(f\"{work_dir}/{genome_name}/*.fa\")[0]\n",
    "fasta_file"
   ]
  },
  {
   "cell_type": "code",
   "execution_count": 55,
   "metadata": {},
   "outputs": [
    {
     "data": {
      "text/plain": [
       "'/scratch/multiomics/nickyoungblut/star_refs/Heterocephalus_glaber/Naked_mole-rat_maternal/Naked_mole-rat_maternal.annotation.gtf'"
      ]
     },
     "execution_count": 55,
     "metadata": {},
     "output_type": "execute_result"
    }
   ],
   "source": [
    "# get gtf file\n",
    "gtf_file = glob(f\"{work_dir}/{genome_name}/*.gtf\")[0]\n",
    "gtf_file"
   ]
  },
  {
   "cell_type": "code",
   "execution_count": 56,
   "metadata": {},
   "outputs": [
    {
     "name": "stdout",
     "output_type": "stream",
     "text": [
      "Processing GTF: Naked_mole-rat_maternal.annotation.gtf\n",
      "Output GTF: /scratch/multiomics/nickyoungblut/star_refs/Heterocephalus_glaber/Heterocephalus_glaber/Heterocephalus_glaber.gtf\n",
      "Total records in GTF: 1411133\n",
      "Filtered 22118 records by biotype\n",
      "Filtered 0 records by tag\n",
      "-- Count of biotypes filtered --\n",
      "pseudogene: 13493\n",
      "snRNA: 5082\n",
      "snoRNA: 2076\n",
      "processed_pseudogene: 786\n",
      "miRNA: 237\n",
      "misc_RNA: 111\n",
      "scaRNA: 99\n",
      "Mt_tRNA: 66\n",
      "Y_RNA: 57\n",
      "ribozyme: 51\n",
      "rRNA: 27\n",
      "vault_RNA: 27\n",
      "Mt_rRNA: 6\n",
      "-- Count of biotypes kept --\n",
      "protein_coding: 2594851\n",
      "lncRNA: 151628\n",
      "IG_V_gene: 234\n",
      "TR_J_gene: 27\n",
      "TR_V_gene: 9\n",
      "TR_C_gene: 9\n",
      "----------------------------\n"
     ]
    }
   ],
   "source": [
    "# format the reference\n",
    "exe = os.path.join(script_dir, \"format-star-ref.py\")\n",
    "!{exe} --organism \"{organism}\"  --output-dir {work_dir} {gtf_file} "
   ]
  },
  {
   "cell_type": "code",
   "execution_count": 57,
   "metadata": {},
   "outputs": [
    {
     "data": {
      "text/plain": [
       "True"
      ]
     },
     "execution_count": 57,
     "metadata": {},
     "output_type": "execute_result"
    }
   ],
   "source": [
    "# set the filtered gtf file\n",
    "gtf_filt_file = os.path.join(work_dir, org_str, f\"{org_str}.gtf\")\n",
    "os.path.exists(gtf_filt_file)"
   ]
  },
  {
   "cell_type": "code",
   "execution_count": 58,
   "metadata": {},
   "outputs": [
    {
     "name": "stdout",
     "output_type": "stream",
     "text": [
      "\t/home/nickyoungblut/miniforge3/envs/asmbl/bin/STAR-avx2 --runThreadN 16 --runMode genomeGenerate --genomeDir /scratch/multiomics/nickyoungblut/star_refs/Heterocephalus_glaber/star --genomeFastaFiles /scratch/multiomics/nickyoungblut/star_refs/Heterocephalus_glaber/Naked_mole-rat_maternal/Naked_mole-rat_maternal.fa --sjdbGTFfile /scratch/multiomics/nickyoungblut/star_refs/Heterocephalus_glaber/Heterocephalus_glaber/Heterocephalus_glaber.gtf --sjdbOverhang 100\n",
      "\tSTAR version: 2.7.11b   compiled: 2025-01-09T12:32:06+0000 :/opt/conda/conda-bld/star_1736425784849/work/source\n",
      "Feb 01 08:55:20 ..... started STAR run\n",
      "!!!!! WARNING: Could not move Log.out file from ./Log.out into /scratch/multiomics/nickyoungblut/star_refs/Heterocephalus_glaber/star/Log.out. Will keep ./Log.out\n",
      "\n",
      "Feb 01 08:55:20 ... starting to generate Genome files\n",
      "Feb 01 08:55:53 ..... processing annotations GTF\n",
      "Feb 01 08:56:05 ... starting to sort Suffix Array. This may take a long time...\n",
      "Feb 01 08:56:13 ... sorting Suffix Array chunks and saving them to disk...\n",
      "Feb 01 09:02:31 ... loading chunks from disk, packing SA...\n",
      "Feb 01 09:03:31 ... finished generating suffix array\n",
      "Feb 01 09:03:31 ... generating Suffix Array index\n",
      "Feb 01 09:06:47 ... completed Suffix Array index\n",
      "Feb 01 09:06:47 ..... inserting junctions into the genome indices\n",
      "Feb 01 09:08:50 ... writing Genome to disk ...\n",
      "Feb 01 09:08:52 ... writing Suffix Array to disk ...\n",
      "Feb 01 09:09:15 ... writing SAindex to disk\n",
      "Feb 01 09:09:18 ..... finished successfully\n"
     ]
    }
   ],
   "source": [
    "# create the star index\n",
    "star_dir = os.path.join(work_dir, \"star\")\n",
    "os.makedirs(star_dir, exist_ok=True)\n",
    "\n",
    "!STAR --runThreadN 16 \\\n",
    "    --runMode genomeGenerate \\\n",
    "    --genomeDir {star_dir} \\\n",
    "    --genomeFastaFiles {fasta_file} \\\n",
    "    --sjdbGTFfile {gtf_filt_file} \\\n",
    "    --sjdbOverhang 100 "
   ]
  },
  {
   "cell_type": "markdown",
   "metadata": {},
   "source": [
    "# Oryctolagus cuniculus"
   ]
  },
  {
   "cell_type": "code",
   "execution_count": 4,
   "metadata": {},
   "outputs": [],
   "source": [
    "organism = \"Oryctolagus cuniculus\"\n",
    "genome_name = \"OryCun2.0\""
   ]
  },
  {
   "cell_type": "code",
   "execution_count": 5,
   "metadata": {},
   "outputs": [],
   "source": [
    "# format\n",
    "org_str = organism.replace(\" \", \"_\")\n",
    "work_dir = os.path.join(base_dir, org_str)\n",
    "os.makedirs(work_dir, exist_ok=True)"
   ]
  },
  {
   "cell_type": "code",
   "execution_count": 6,
   "metadata": {},
   "outputs": [
    {
     "name": "stdout",
     "output_type": "stream",
     "text": [
      "\u001b[1mname                 provider accession         tax_id annotation species                                  other_info                              \u001b[0m\n",
      "\u001b[0mOryCun2.0            Ensembl  GCA_000003625.1     9986     \u001b[32m✓\u001b[39m      Oryctolagus cuniculus                    2009-11-Ensembl/2019-05                 \u001b[0m\n",
      "\u001b[0m\u001b[32m ^\u001b[0m\n",
      "\u001b[0m\u001b[32m Use name for \u001b[36mgenomepy install\u001b[0m\n",
      "\u001b[0m\u001b[0m"
     ]
    }
   ],
   "source": [
    "# show available assemblies\n",
    "!genomepy search --provider Ensembl {organism}"
   ]
  },
  {
   "cell_type": "code",
   "execution_count": 7,
   "metadata": {},
   "outputs": [
    {
     "name": "stdout",
     "output_type": "stream",
     "text": [
      "\u001b[32m11:35:01\u001b[0m \u001b[1m|\u001b[0m \u001b[34mINFO\u001b[0m \u001b[1m|\u001b[0m Downloading genome from Ensembl. Target URL: http://ftp.ensembl.org/pub/release-113/fasta/oryctolagus_cuniculus/dna/Oryctolagus_cuniculus.OryCun2.0.dna_sm.toplevel.fa.gz...\n",
      "Download: 100%|██████████████████████████████| 808M/808M [00:25<00:00, 32.7MB/s]\u001b[0m\u001b[0m\n",
      "\u001b[0m\u001b[32m11:35:27\u001b[0m \u001b[1m|\u001b[0m \u001b[34mINFO\u001b[0m \u001b[1m|\u001b[0m Genome download successful, starting post processing...\n",
      "\u001b[32m11:35:40\u001b[0m \u001b[1m|\u001b[0m \u001b[34mINFO\u001b[0m \u001b[1m|\u001b[0m name: OryCun2.0\n",
      "\u001b[32m11:35:40\u001b[0m \u001b[1m|\u001b[0m \u001b[34mINFO\u001b[0m \u001b[1m|\u001b[0m local name: OryCun2.0\n",
      "\u001b[32m11:35:40\u001b[0m \u001b[1m|\u001b[0m \u001b[34mINFO\u001b[0m \u001b[1m|\u001b[0m fasta: /scratch/multiomics/nickyoungblut/star_refs/Oryctolagus_cuniculus/OryCun2.0/OryCun2.0.fa\n",
      "Filtering Fasta: 45.6M lines [00:11, 3.95M lines/s]\u001b[0m\u001b[0m\n",
      "\u001b[0m\u001b[32m11:36:31\u001b[0m \u001b[1m|\u001b[0m \u001b[34mINFO\u001b[0m \u001b[1m|\u001b[0m Downloading annotation from Ensembl. Target URL: http://ftp.ensembl.org/pub/release-113/gtf/oryctolagus_cuniculus/Oryctolagus_cuniculus.OryCun2.0.113.gtf.gz...\n",
      "Download: 100%|████████████████████████████| 15.0M/15.0M [00:01<00:00, 14.0MB/s]\u001b[0m\u001b[0m\n",
      "\u001b[0m\u001b[32m11:36:36\u001b[0m \u001b[1m|\u001b[0m \u001b[34mINFO\u001b[0m \u001b[1m|\u001b[0m Annotation download successful\n",
      "\u001b[0m"
     ]
    }
   ],
   "source": [
    "# download genome\n",
    "!genomepy install --provider Ensembl --annotation --genomes_dir {work_dir} {genome_name}"
   ]
  },
  {
   "cell_type": "code",
   "execution_count": 8,
   "metadata": {},
   "outputs": [
    {
     "data": {
      "text/plain": [
       "'/scratch/multiomics/nickyoungblut/star_refs/Oryctolagus_cuniculus/OryCun2.0/OryCun2.0.fa'"
      ]
     },
     "execution_count": 8,
     "metadata": {},
     "output_type": "execute_result"
    }
   ],
   "source": [
    "# get genome fasta\n",
    "fasta_file = glob(f\"{work_dir}/{genome_name}/*.fa\")[0]\n",
    "fasta_file"
   ]
  },
  {
   "cell_type": "code",
   "execution_count": 9,
   "metadata": {},
   "outputs": [
    {
     "data": {
      "text/plain": [
       "'/scratch/multiomics/nickyoungblut/star_refs/Oryctolagus_cuniculus/OryCun2.0/OryCun2.0.annotation.gtf'"
      ]
     },
     "execution_count": 9,
     "metadata": {},
     "output_type": "execute_result"
    }
   ],
   "source": [
    "# get gtf file\n",
    "gtf_file = glob(f\"{work_dir}/{genome_name}/*.gtf\")[0]\n",
    "gtf_file"
   ]
  },
  {
   "cell_type": "code",
   "execution_count": 10,
   "metadata": {},
   "outputs": [
    {
     "name": "stdout",
     "output_type": "stream",
     "text": [
      "Processing GTF: OryCun2.0.annotation.gtf\n",
      "Output GTF: /scratch/multiomics/nickyoungblut/star_refs/Oryctolagus_cuniculus/Oryctolagus_cuniculus/Oryctolagus_cuniculus.gtf\n",
      "Total records in GTF: 1141097\n",
      "Filtered 12404 records by biotype\n",
      "Filtered 0 records by tag\n",
      "-- Count of biotypes filtered --\n",
      "pseudogene: 4247\n",
      "snRNA: 3879\n",
      "snoRNA: 2505\n",
      "miRNA: 864\n",
      "processed_pseudogene: 387\n",
      "misc_RNA: 189\n",
      "scaRNA: 96\n",
      "rRNA: 93\n",
      "Mt_tRNA: 66\n",
      "Y_RNA: 33\n",
      "ribozyme: 21\n",
      "vault_RNA: 18\n",
      "Mt_rRNA: 6\n",
      "-- Count of biotypes kept --\n",
      "protein_coding: 2173515\n",
      "lncRNA: 57393\n",
      "TR_J_gene: 63\n",
      "IG_V_gene: 33\n",
      "IG_C_gene: 17\n",
      "TR_V_gene: 15\n",
      "TR_C_gene: 9\n",
      "----------------------------\n"
     ]
    }
   ],
   "source": [
    "# format the reference\n",
    "exe = os.path.join(script_dir, \"format-star-ref.py\")\n",
    "!{exe} --organism \"{organism}\"  --output-dir {work_dir} {gtf_file} "
   ]
  },
  {
   "cell_type": "code",
   "execution_count": 11,
   "metadata": {},
   "outputs": [
    {
     "data": {
      "text/plain": [
       "True"
      ]
     },
     "execution_count": 11,
     "metadata": {},
     "output_type": "execute_result"
    }
   ],
   "source": [
    "# set the filtered gtf file\n",
    "gtf_filt_file = os.path.join(work_dir, org_str, f\"{org_str}.gtf\")\n",
    "os.path.exists(gtf_filt_file)"
   ]
  },
  {
   "cell_type": "code",
   "execution_count": 12,
   "metadata": {},
   "outputs": [
    {
     "name": "stdout",
     "output_type": "stream",
     "text": [
      "\t/home/nickyoungblut/miniforge3/envs/asmbl/bin/STAR-avx2 --runThreadN 16 --runMode genomeGenerate --genomeDir /scratch/multiomics/nickyoungblut/star_refs/Oryctolagus_cuniculus/star --genomeFastaFiles /scratch/multiomics/nickyoungblut/star_refs/Oryctolagus_cuniculus/OryCun2.0/OryCun2.0.fa --sjdbGTFfile /scratch/multiomics/nickyoungblut/star_refs/Oryctolagus_cuniculus/Oryctolagus_cuniculus/Oryctolagus_cuniculus.gtf --sjdbOverhang 100\n",
      "\tSTAR version: 2.7.11b   compiled: 2025-01-09T12:32:06+0000 :/opt/conda/conda-bld/star_1736425784849/work/source\n",
      "Feb 01 11:36:54 ..... started STAR run\n",
      "!!!!! WARNING: Could not move Log.out file from ./Log.out into /scratch/multiomics/nickyoungblut/star_refs/Oryctolagus_cuniculus/star/Log.out. Will keep ./Log.out\n",
      "\n",
      "Feb 01 11:36:55 ... starting to generate Genome files\n",
      "Feb 01 11:37:32 ..... processing annotations GTF\n",
      "Feb 01 11:37:46 ... starting to sort Suffix Array. This may take a long time...\n",
      "Feb 01 11:37:56 ... sorting Suffix Array chunks and saving them to disk...\n",
      "Feb 01 11:45:15 ... loading chunks from disk, packing SA...\n",
      "Feb 01 11:46:14 ... finished generating suffix array\n",
      "Feb 01 11:46:14 ... generating Suffix Array index\n",
      "Feb 01 11:49:55 ... completed Suffix Array index\n",
      "Feb 01 11:49:55 ..... inserting junctions into the genome indices\n",
      "Feb 01 11:51:50 ... writing Genome to disk ...\n",
      "Feb 01 11:51:53 ... writing Suffix Array to disk ...\n",
      "Feb 01 11:52:12 ... writing SAindex to disk\n",
      "Feb 01 11:52:14 ..... finished successfully\n"
     ]
    }
   ],
   "source": [
    "# create the star index\n",
    "star_dir = os.path.join(work_dir, \"star\")\n",
    "os.makedirs(star_dir, exist_ok=True)\n",
    "\n",
    "!STAR --runThreadN 16 \\\n",
    "    --runMode genomeGenerate \\\n",
    "    --genomeDir {star_dir} \\\n",
    "    --genomeFastaFiles {fasta_file} \\\n",
    "    --sjdbGTFfile {gtf_filt_file} \\\n",
    "    --sjdbOverhang 100 "
   ]
  },
  {
   "cell_type": "markdown",
   "metadata": {},
   "source": [
    "# Pan troglodytes"
   ]
  },
  {
   "cell_type": "code",
   "execution_count": 19,
   "metadata": {},
   "outputs": [],
   "source": [
    "organism = \"Pan troglodytes\"\n",
    "genome_name = \"Pan_tro_3.0\""
   ]
  },
  {
   "cell_type": "code",
   "execution_count": 20,
   "metadata": {},
   "outputs": [],
   "source": [
    "# format\n",
    "org_str = organism.replace(\" \", \"_\")\n",
    "work_dir = os.path.join(base_dir, org_str)\n",
    "os.makedirs(work_dir, exist_ok=True)"
   ]
  },
  {
   "cell_type": "code",
   "execution_count": 21,
   "metadata": {},
   "outputs": [
    {
     "name": "stdout",
     "output_type": "stream",
     "text": [
      "\u001b[1mname                 provider accession         tax_id annotation species                                  other_info                              \u001b[0m\n",
      "\u001b[0mPan_tro_3.0          Ensembl  GCA_000001515.5     9598     \u001b[32m✓\u001b[39m      Pan troglodytes                          2017-08-Ensembl/2020-03                 \u001b[0m\n",
      "\u001b[0m\u001b[32m ^\u001b[0m\n",
      "\u001b[0m\u001b[32m Use name for \u001b[36mgenomepy install\u001b[0m\n",
      "\u001b[0m\u001b[0m"
     ]
    }
   ],
   "source": [
    "# show available assemblies\n",
    "!genomepy search --provider Ensembl {organism}"
   ]
  },
  {
   "cell_type": "code",
   "execution_count": 22,
   "metadata": {},
   "outputs": [
    {
     "name": "stdout",
     "output_type": "stream",
     "text": [
      "\u001b[32m11:55:36\u001b[0m \u001b[1m|\u001b[0m \u001b[34mINFO\u001b[0m \u001b[1m|\u001b[0m Downloading genome from Ensembl. Target URL: http://ftp.ensembl.org/pub/release-113/fasta/pan_troglodytes/dna/Pan_troglodytes.Pan_tro_3.0.dna_sm.toplevel.fa.gz...\n",
      "Download: 100%|██████████████████████████████| 960M/960M [00:30<00:00, 32.6MB/s]\u001b[0m\u001b[0m\n",
      "\u001b[0m\u001b[32m11:56:07\u001b[0m \u001b[1m|\u001b[0m \u001b[34mINFO\u001b[0m \u001b[1m|\u001b[0m Genome download successful, starting post processing...\n",
      "\u001b[32m11:56:22\u001b[0m \u001b[1m|\u001b[0m \u001b[34mINFO\u001b[0m \u001b[1m|\u001b[0m name: Pan_tro_3.0\n",
      "\u001b[32m11:56:22\u001b[0m \u001b[1m|\u001b[0m \u001b[34mINFO\u001b[0m \u001b[1m|\u001b[0m local name: Pan_tro_3.0\n",
      "\u001b[32m11:56:22\u001b[0m \u001b[1m|\u001b[0m \u001b[34mINFO\u001b[0m \u001b[1m|\u001b[0m fasta: /scratch/multiomics/nickyoungblut/star_refs/Pan_troglodytes/Pan_tro_3.0/Pan_tro_3.0.fa\n",
      "Filtering Fasta: 53.9M lines [00:13, 4.04M lines/s]\u001b[0m\u001b[0m\n",
      "\u001b[0m\u001b[32m11:57:23\u001b[0m \u001b[1m|\u001b[0m \u001b[34mINFO\u001b[0m \u001b[1m|\u001b[0m Downloading annotation from Ensembl. Target URL: http://ftp.ensembl.org/pub/release-113/gtf/pan_troglodytes/Pan_troglodytes.Pan_tro_3.0.113.gtf.gz...\n",
      "Download: 100%|████████████████████████████| 17.7M/17.7M [00:01<00:00, 14.6MB/s]\u001b[0m\u001b[0m\n",
      "\u001b[0m\u001b[32m11:57:28\u001b[0m \u001b[1m|\u001b[0m \u001b[34mINFO\u001b[0m \u001b[1m|\u001b[0m Annotation download successful\n",
      "\u001b[0m"
     ]
    }
   ],
   "source": [
    "# download genome\n",
    "!genomepy install --provider Ensembl --annotation --genomes_dir {work_dir} {genome_name}"
   ]
  },
  {
   "cell_type": "code",
   "execution_count": 23,
   "metadata": {},
   "outputs": [
    {
     "data": {
      "text/plain": [
       "'/scratch/multiomics/nickyoungblut/star_refs/Pan_troglodytes/Pan_tro_3.0/Pan_tro_3.0.fa'"
      ]
     },
     "execution_count": 23,
     "metadata": {},
     "output_type": "execute_result"
    }
   ],
   "source": [
    "# get genome fasta\n",
    "fasta_file = glob(f\"{work_dir}/{genome_name}/*.fa\")[0]\n",
    "fasta_file"
   ]
  },
  {
   "cell_type": "code",
   "execution_count": 24,
   "metadata": {},
   "outputs": [
    {
     "data": {
      "text/plain": [
       "'/scratch/multiomics/nickyoungblut/star_refs/Pan_troglodytes/Pan_tro_3.0/Pan_tro_3.0.annotation.gtf'"
      ]
     },
     "execution_count": 24,
     "metadata": {},
     "output_type": "execute_result"
    }
   ],
   "source": [
    "# get gtf file\n",
    "gtf_file = glob(f\"{work_dir}/{genome_name}/*.gtf\")[0]\n",
    "gtf_file"
   ]
  },
  {
   "cell_type": "code",
   "execution_count": 28,
   "metadata": {},
   "outputs": [
    {
     "name": "stdout",
     "output_type": "stream",
     "text": [
      "Processing GTF: Pan_tro_3.0.annotation.gtf\n",
      "Output GTF: /scratch/multiomics/nickyoungblut/star_refs/Pan_troglodytes/Pan_troglodytes/Pan_troglodytes.gtf\n",
      "Total records in GTF: 1296549\n",
      "Filtered 39696 records by biotype\n",
      "Filtered 0 records by tag\n",
      "-- Count of biotypes filtered --\n",
      "lincRNA: 14191\n",
      "misc_RNA: 6852\n",
      "miRNA: 6723\n",
      "snRNA: 5709\n",
      "snoRNA: 2634\n",
      "rRNA: 1641\n",
      "pseudogene: 1013\n",
      "processed_pseudogene: 696\n",
      "scaRNA: 141\n",
      "Mt_tRNA: 66\n",
      "ribozyme: 24\n",
      "Mt_rRNA: 6\n",
      "-- Count of biotypes kept --\n",
      "protein_coding: 2487876\n",
      "IG_V_gene: 1108\n",
      "TR_V_gene: 791\n",
      "IG_C_gene: 278\n",
      "TR_C_gene: 119\n",
      "----------------------------\n"
     ]
    }
   ],
   "source": [
    "# format the reference\n",
    "exe = os.path.join(script_dir, \"format-star-ref.py\")\n",
    "!{exe} --organism \"{organism}\"  --output-dir {work_dir} {gtf_file} "
   ]
  },
  {
   "cell_type": "code",
   "execution_count": 29,
   "metadata": {},
   "outputs": [
    {
     "data": {
      "text/plain": [
       "True"
      ]
     },
     "execution_count": 29,
     "metadata": {},
     "output_type": "execute_result"
    }
   ],
   "source": [
    "# set the filtered gtf file\n",
    "gtf_filt_file = os.path.join(work_dir, org_str, f\"{org_str}.gtf\")\n",
    "os.path.exists(gtf_filt_file)"
   ]
  },
  {
   "cell_type": "code",
   "execution_count": 31,
   "metadata": {},
   "outputs": [
    {
     "name": "stdout",
     "output_type": "stream",
     "text": [
      "\t/home/nickyoungblut/miniforge3/envs/asmbl/bin/STAR-avx2 --runThreadN 16 --runMode genomeGenerate --genomeDir /scratch/multiomics/nickyoungblut/star_refs/Pan_troglodytes/star --genomeFastaFiles /scratch/multiomics/nickyoungblut/star_refs/Pan_troglodytes/Pan_tro_3.0/Pan_tro_3.0.fa --sjdbGTFfile /scratch/multiomics/nickyoungblut/star_refs/Pan_troglodytes/Pan_troglodytes/Pan_troglodytes.gtf --sjdbOverhang 100 --limitGenomeGenerateRAM=61000000000\n",
      "\tSTAR version: 2.7.11b   compiled: 2025-01-09T12:32:06+0000 :/opt/conda/conda-bld/star_1736425784849/work/source\n",
      "Feb 01 11:59:39 ..... started STAR run\n",
      "!!!!! WARNING: Could not move Log.out file from ./Log.out into /scratch/multiomics/nickyoungblut/star_refs/Pan_troglodytes/star/Log.out. Will keep ./Log.out\n",
      "\n",
      "Feb 01 11:59:39 ... starting to generate Genome files\n",
      "Feb 01 12:01:10 ..... processing annotations GTF\n",
      "Feb 01 12:01:57 ... starting to sort Suffix Array. This may take a long time...\n",
      "Feb 01 12:02:24 ... sorting Suffix Array chunks and saving them to disk...\n",
      "Feb 01 12:12:17 ... loading chunks from disk, packing SA...\n",
      "Feb 01 12:13:52 ... finished generating suffix array\n",
      "Feb 01 12:13:52 ... generating Suffix Array index\n",
      "Feb 01 12:17:49 ... completed Suffix Array index\n",
      "Feb 01 12:17:50 ..... inserting junctions into the genome indices\n",
      "Feb 01 12:20:09 ... writing Genome to disk ...\n",
      "Feb 01 12:20:27 ... writing Suffix Array to disk ...\n",
      "Feb 01 12:21:05 ... writing SAindex to disk\n",
      "Feb 01 12:21:08 ..... finished successfully\n"
     ]
    }
   ],
   "source": [
    "# create the star index\n",
    "star_dir = os.path.join(work_dir, \"star\")\n",
    "os.makedirs(star_dir, exist_ok=True)\n",
    "\n",
    "!STAR --runThreadN 16 \\\n",
    "    --runMode genomeGenerate \\\n",
    "    --genomeDir {star_dir} \\\n",
    "    --genomeFastaFiles {fasta_file} \\\n",
    "    --sjdbGTFfile {gtf_filt_file} \\\n",
    "    --sjdbOverhang 100 \\\n",
    "    --limitGenomeGenerateRAM=61000000000"
   ]
  },
  {
   "cell_type": "markdown",
   "metadata": {},
   "source": [
    "# Gallus gallus"
   ]
  },
  {
   "cell_type": "code",
   "execution_count": 4,
   "metadata": {},
   "outputs": [],
   "source": [
    "organism = \"Gallus gallus\"\n",
    "genome_name = \"bGalGal1.mat.broiler.GRCg7b\""
   ]
  },
  {
   "cell_type": "code",
   "execution_count": 5,
   "metadata": {},
   "outputs": [],
   "source": [
    "# format\n",
    "org_str = organism.replace(\" \", \"_\")\n",
    "work_dir = os.path.join(base_dir, org_str)\n",
    "os.makedirs(work_dir, exist_ok=True)"
   ]
  },
  {
   "cell_type": "code",
   "execution_count": 6,
   "metadata": {},
   "outputs": [
    {
     "name": "stdout",
     "output_type": "stream",
     "text": [
      "\u001b[1mname                 provider accession         tax_id annotation species                                  other_info                              \u001b[0m\n",
      "\u001b[0mGRCg6a               Ensembl  GCA_000002315.5     9031     \u001b[32m✓\u001b[39m      Gallus gallus                            2021-09-Ensembl/2022-01                 \u001b[0m\n",
      "\u001b[0mbGalGal1.pat.whiteleghornlayer.GRCg7w Ensembl  GCA_016700215.2     9031     \u001b[32m✓\u001b[39m      Gallus gallus                            2021-09-Ensembl/2022-01                 \u001b[0m\n",
      "\u001b[0mbGalGal1.mat.broiler.GRCg7b Ensembl  GCA_016699485.1     9031     \u001b[32m✓\u001b[39m      Gallus gallus                            2021-09-Ensembl/2022-01                 \u001b[0m\n",
      "\u001b[0m\u001b[32m ^\u001b[0m\n",
      "\u001b[0m\u001b[32m Use name for \u001b[36mgenomepy install\u001b[0m\n",
      "\u001b[0m\u001b[0m"
     ]
    }
   ],
   "source": [
    "# show available assemblies\n",
    "!genomepy search --provider Ensembl {organism}"
   ]
  },
  {
   "cell_type": "code",
   "execution_count": 7,
   "metadata": {},
   "outputs": [
    {
     "name": "stdout",
     "output_type": "stream",
     "text": [
      "\u001b[32m12:55:52\u001b[0m \u001b[1m|\u001b[0m \u001b[34mINFO\u001b[0m \u001b[1m|\u001b[0m Downloading genome from Ensembl. Target URL: http://ftp.ensembl.org/pub/release-113/fasta/gallus_gallus/dna/Gallus_gallus.bGalGal1.mat.broiler.GRCg7b.dna_sm.toplevel.fa.gz...\n",
      "Download: 100%|██████████████████████████████| 316M/316M [00:10<00:00, 31.1MB/s]\u001b[0m\u001b[0m\n",
      "\u001b[0m\u001b[32m12:56:03\u001b[0m \u001b[1m|\u001b[0m \u001b[34mINFO\u001b[0m \u001b[1m|\u001b[0m Genome download successful, starting post processing...\n",
      "\u001b[32m12:56:08\u001b[0m \u001b[1m|\u001b[0m \u001b[34mINFO\u001b[0m \u001b[1m|\u001b[0m name: bGalGal1.mat.broiler.GRCg7b\n",
      "\u001b[32m12:56:08\u001b[0m \u001b[1m|\u001b[0m \u001b[34mINFO\u001b[0m \u001b[1m|\u001b[0m local name: bGalGal1.mat.broiler.GRCg7b\n",
      "\u001b[32m12:56:08\u001b[0m \u001b[1m|\u001b[0m \u001b[34mINFO\u001b[0m \u001b[1m|\u001b[0m fasta: /scratch/multiomics/nickyoungblut/star_refs/Gallus_gallus/bGalGal1.mat.broiler.GRCg7b/bGalGal1.mat.broiler.GRCg7b.fa\n",
      "Filtering Fasta: 17.6M lines [00:04, 4.13M lines/s]\u001b[0m\u001b[0m\n",
      "\u001b[0m\u001b[32m12:56:27\u001b[0m \u001b[1m|\u001b[0m \u001b[34mINFO\u001b[0m \u001b[1m|\u001b[0m Downloading annotation from Ensembl. Target URL: http://ftp.ensembl.org/pub/release-113/gtf/gallus_gallus/Gallus_gallus.bGalGal1.mat.broiler.GRCg7b.113.gtf.gz...\n",
      "Download: 100%|████████████████████████████| 17.5M/17.5M [00:01<00:00, 14.5MB/s]\u001b[0m\u001b[0m\n",
      "\u001b[0m\u001b[32m12:56:33\u001b[0m \u001b[1m|\u001b[0m \u001b[34mINFO\u001b[0m \u001b[1m|\u001b[0m Annotation download successful\n",
      "\u001b[0m"
     ]
    }
   ],
   "source": [
    "# download genome\n",
    "!genomepy install --provider Ensembl --annotation --genomes_dir {work_dir} {genome_name}"
   ]
  },
  {
   "cell_type": "code",
   "execution_count": 8,
   "metadata": {},
   "outputs": [
    {
     "data": {
      "text/plain": [
       "'/scratch/multiomics/nickyoungblut/star_refs/Gallus_gallus/bGalGal1.mat.broiler.GRCg7b/bGalGal1.mat.broiler.GRCg7b.fa'"
      ]
     },
     "execution_count": 8,
     "metadata": {},
     "output_type": "execute_result"
    }
   ],
   "source": [
    "# get genome fasta\n",
    "fasta_file = glob(f\"{work_dir}/{genome_name}/*.fa\")[0]\n",
    "fasta_file"
   ]
  },
  {
   "cell_type": "code",
   "execution_count": 9,
   "metadata": {},
   "outputs": [
    {
     "data": {
      "text/plain": [
       "'/scratch/multiomics/nickyoungblut/star_refs/Gallus_gallus/bGalGal1.mat.broiler.GRCg7b/bGalGal1.mat.broiler.GRCg7b.annotation.gtf'"
      ]
     },
     "execution_count": 9,
     "metadata": {},
     "output_type": "execute_result"
    }
   ],
   "source": [
    "# get gtf file\n",
    "gtf_file = glob(f\"{work_dir}/{genome_name}/*.gtf\")[0]\n",
    "gtf_file"
   ]
  },
  {
   "cell_type": "code",
   "execution_count": 10,
   "metadata": {},
   "outputs": [
    {
     "name": "stdout",
     "output_type": "stream",
     "text": [
      "Processing GTF: bGalGal1.mat.broiler.GRCg7b.annotation.gtf\n",
      "Output GTF: /scratch/multiomics/nickyoungblut/star_refs/Gallus_gallus/Gallus_gallus/Gallus_gallus.gtf\n",
      "Total records in GTF: 1476088\n",
      "Filtered 3588 records by biotype\n",
      "Filtered 0 records by tag\n",
      "-- Count of biotypes filtered --\n",
      "miRNA: 2022\n",
      "snoRNA: 582\n",
      "rRNA: 288\n",
      "pseudogene: 255\n",
      "snRNA: 246\n",
      "Mt_tRNA: 66\n",
      "scaRNA: 45\n",
      "processed_pseudogene: 45\n",
      "misc_RNA: 15\n",
      "Y_RNA: 6\n",
      "ribozyme: 6\n",
      "vault_RNA: 6\n",
      "Mt_rRNA: 6\n",
      "-- Count of biotypes kept --\n",
      "protein_coding: 2677015\n",
      "lncRNA: 239034\n",
      "----------------------------\n"
     ]
    }
   ],
   "source": [
    "# format the reference\n",
    "exe = os.path.join(script_dir, \"format-star-ref.py\")\n",
    "!{exe} --organism \"{organism}\"  --output-dir {work_dir} {gtf_file} "
   ]
  },
  {
   "cell_type": "code",
   "execution_count": 11,
   "metadata": {},
   "outputs": [
    {
     "data": {
      "text/plain": [
       "True"
      ]
     },
     "execution_count": 11,
     "metadata": {},
     "output_type": "execute_result"
    }
   ],
   "source": [
    "# set the filtered gtf file\n",
    "gtf_filt_file = os.path.join(work_dir, org_str, f\"{org_str}.gtf\")\n",
    "os.path.exists(gtf_filt_file)"
   ]
  },
  {
   "cell_type": "code",
   "execution_count": 12,
   "metadata": {},
   "outputs": [
    {
     "name": "stdout",
     "output_type": "stream",
     "text": [
      "\t/home/nickyoungblut/miniforge3/envs/asmbl/bin/STAR-avx2 --runThreadN 16 --runMode genomeGenerate --genomeDir /scratch/multiomics/nickyoungblut/star_refs/Gallus_gallus/star --genomeFastaFiles /scratch/multiomics/nickyoungblut/star_refs/Gallus_gallus/bGalGal1.mat.broiler.GRCg7b/bGalGal1.mat.broiler.GRCg7b.fa --sjdbGTFfile /scratch/multiomics/nickyoungblut/star_refs/Gallus_gallus/Gallus_gallus/Gallus_gallus.gtf --sjdbOverhang 100\n",
      "\tSTAR version: 2.7.11b   compiled: 2025-01-09T12:32:06+0000 :/opt/conda/conda-bld/star_1736425784849/work/source\n",
      "Feb 01 12:57:37 ..... started STAR run\n",
      "!!!!! WARNING: Could not move Log.out file from ./Log.out into /scratch/multiomics/nickyoungblut/star_refs/Gallus_gallus/star/Log.out. Will keep ./Log.out\n",
      "\n",
      "Feb 01 12:57:37 ... starting to generate Genome files\n",
      "Feb 01 12:57:51 ..... processing annotations GTF\n",
      "!!!!! WARNING: --genomeSAindexNbases 14 is too large for the genome size=1053332251, which may cause seg-fault at the mapping step. Re-run genome generation with recommended --genomeSAindexNbases 13\n",
      "Feb 01 12:57:58 ... starting to sort Suffix Array. This may take a long time...\n",
      "Feb 01 12:58:02 ... sorting Suffix Array chunks and saving them to disk...\n",
      "Feb 01 12:59:57 ... loading chunks from disk, packing SA...\n",
      "Feb 01 13:00:20 ... finished generating suffix array\n",
      "Feb 01 13:00:20 ... generating Suffix Array index\n",
      "Feb 01 13:02:33 ... completed Suffix Array index\n",
      "Feb 01 13:02:33 ..... inserting junctions into the genome indices\n",
      "Feb 01 13:04:03 ... writing Genome to disk ...\n",
      "Feb 01 13:04:04 ... writing Suffix Array to disk ...\n",
      "Feb 01 13:04:09 ... writing SAindex to disk\n",
      "Feb 01 13:04:10 ..... finished successfully\n"
     ]
    }
   ],
   "source": [
    "# create the star index\n",
    "star_dir = os.path.join(work_dir, \"star\")\n",
    "os.makedirs(star_dir, exist_ok=True)\n",
    "\n",
    "!STAR --runThreadN 16 \\\n",
    "    --runMode genomeGenerate \\\n",
    "    --genomeDir {star_dir} \\\n",
    "    --genomeFastaFiles {fasta_file} \\\n",
    "    --sjdbGTFfile {gtf_filt_file} \\\n",
    "    --sjdbOverhang 100"
   ]
  },
  {
   "cell_type": "markdown",
   "metadata": {},
   "source": [
    "# Xenopus tropicalis"
   ]
  },
  {
   "cell_type": "code",
   "execution_count": 13,
   "metadata": {},
   "outputs": [],
   "source": [
    "organism = \"Xenopus tropicalis\"\n",
    "genome_name = \"UCB_Xtro_10.0\""
   ]
  },
  {
   "cell_type": "code",
   "execution_count": 14,
   "metadata": {},
   "outputs": [],
   "source": [
    "# format\n",
    "org_str = organism.replace(\" \", \"_\")\n",
    "work_dir = os.path.join(base_dir, org_str)\n",
    "os.makedirs(work_dir, exist_ok=True)"
   ]
  },
  {
   "cell_type": "code",
   "execution_count": 15,
   "metadata": {},
   "outputs": [
    {
     "name": "stdout",
     "output_type": "stream",
     "text": [
      "\u001b[1mname                 provider accession         tax_id annotation species                                  other_info                              \u001b[0m\n",
      "\u001b[0mUCB_Xtro_10.0        Ensembl  GCA_000004195.4     8364     \u001b[32m✓\u001b[39m      Xenopus tropicalis                       2020-09-Ensembl/2021-02                 \u001b[0m\n",
      "\u001b[0m\u001b[32m ^\u001b[0m\n",
      "\u001b[0m\u001b[32m Use name for \u001b[36mgenomepy install\u001b[0m\n",
      "\u001b[0m\u001b[0m"
     ]
    }
   ],
   "source": [
    "# show available assemblies\n",
    "!genomepy search --provider Ensembl {organism}"
   ]
  },
  {
   "cell_type": "code",
   "execution_count": 16,
   "metadata": {},
   "outputs": [
    {
     "name": "stdout",
     "output_type": "stream",
     "text": [
      "\u001b[32m13:22:41\u001b[0m \u001b[1m|\u001b[0m \u001b[34mINFO\u001b[0m \u001b[1m|\u001b[0m Downloading genome from Ensembl. Target URL: http://ftp.ensembl.org/pub/release-113/fasta/xenopus_tropicalis/dna/Xenopus_tropicalis.UCB_Xtro_10.0.dna_sm.toplevel.fa.gz...\n",
      "Download: 100%|██████████████████████████████| 409M/409M [00:13<00:00, 31.2MB/s]\u001b[0m\u001b[0m\n",
      "\u001b[0m\u001b[32m13:22:55\u001b[0m \u001b[1m|\u001b[0m \u001b[34mINFO\u001b[0m \u001b[1m|\u001b[0m Genome download successful, starting post processing...\n",
      "\u001b[32m13:23:01\u001b[0m \u001b[1m|\u001b[0m \u001b[34mINFO\u001b[0m \u001b[1m|\u001b[0m name: UCB_Xtro_10.0\n",
      "\u001b[32m13:23:01\u001b[0m \u001b[1m|\u001b[0m \u001b[34mINFO\u001b[0m \u001b[1m|\u001b[0m local name: UCB_Xtro_10.0\n",
      "\u001b[32m13:23:01\u001b[0m \u001b[1m|\u001b[0m \u001b[34mINFO\u001b[0m \u001b[1m|\u001b[0m fasta: /scratch/multiomics/nickyoungblut/star_refs/Xenopus_tropicalis/UCB_Xtro_10.0/UCB_Xtro_10.0.fa\n",
      "Filtering Fasta: 24.2M lines [00:05, 4.06M lines/s]\u001b[0m\u001b[0m\n",
      "\u001b[0m\u001b[32m13:23:28\u001b[0m \u001b[1m|\u001b[0m \u001b[34mINFO\u001b[0m \u001b[1m|\u001b[0m Downloading annotation from Ensembl. Target URL: http://ftp.ensembl.org/pub/release-113/gtf/xenopus_tropicalis/Xenopus_tropicalis.UCB_Xtro_10.0.113.gtf.gz...\n",
      "Download: 100%|████████████████████████████| 17.7M/17.7M [00:01<00:00, 15.5MB/s]\u001b[0m\u001b[0m\n",
      "\u001b[0m\u001b[32m13:23:34\u001b[0m \u001b[1m|\u001b[0m \u001b[34mINFO\u001b[0m \u001b[1m|\u001b[0m Annotation download successful\n",
      "\u001b[0m"
     ]
    }
   ],
   "source": [
    "# download genome\n",
    "!genomepy install --provider Ensembl --annotation --genomes_dir {work_dir} {genome_name}"
   ]
  },
  {
   "cell_type": "code",
   "execution_count": 17,
   "metadata": {},
   "outputs": [
    {
     "data": {
      "text/plain": [
       "'/scratch/multiomics/nickyoungblut/star_refs/Xenopus_tropicalis/UCB_Xtro_10.0/UCB_Xtro_10.0.fa'"
      ]
     },
     "execution_count": 17,
     "metadata": {},
     "output_type": "execute_result"
    }
   ],
   "source": [
    "# get genome fasta\n",
    "fasta_file = glob(f\"{work_dir}/{genome_name}/*.fa\")[0]\n",
    "fasta_file"
   ]
  },
  {
   "cell_type": "code",
   "execution_count": 18,
   "metadata": {},
   "outputs": [
    {
     "data": {
      "text/plain": [
       "'/scratch/multiomics/nickyoungblut/star_refs/Xenopus_tropicalis/UCB_Xtro_10.0/UCB_Xtro_10.0.annotation.gtf'"
      ]
     },
     "execution_count": 18,
     "metadata": {},
     "output_type": "execute_result"
    }
   ],
   "source": [
    "# get gtf file\n",
    "gtf_file = glob(f\"{work_dir}/{genome_name}/*.gtf\")[0]\n",
    "gtf_file"
   ]
  },
  {
   "cell_type": "code",
   "execution_count": 19,
   "metadata": {},
   "outputs": [
    {
     "name": "stdout",
     "output_type": "stream",
     "text": [
      "Processing GTF: UCB_Xtro_10.0.annotation.gtf\n",
      "Output GTF: /scratch/multiomics/nickyoungblut/star_refs/Xenopus_tropicalis/Xenopus_tropicalis/Xenopus_tropicalis.gtf\n",
      "Total records in GTF: 1449685\n",
      "Filtered 7753 records by biotype\n",
      "Filtered 0 records by tag\n",
      "-- Count of biotypes filtered --\n",
      "snRNA: 2340\n",
      "rRNA: 1599\n",
      "processed_pseudogene: 1365\n",
      "snoRNA: 1041\n",
      "miRNA: 801\n",
      "pseudogene: 319\n",
      "misc_RNA: 72\n",
      "Mt_tRNA: 66\n",
      "ribozyme: 60\n",
      "scaRNA: 54\n",
      "vault_RNA: 18\n",
      "Y_RNA: 12\n",
      "Mt_rRNA: 6\n",
      "-- Count of biotypes kept --\n",
      "protein_coding: 2861708\n",
      "IG_V_gene: 49\n",
      "----------------------------\n"
     ]
    }
   ],
   "source": [
    "# format the reference\n",
    "exe = os.path.join(script_dir, \"format-star-ref.py\")\n",
    "!{exe} --organism \"{organism}\"  --output-dir {work_dir} {gtf_file} "
   ]
  },
  {
   "cell_type": "code",
   "execution_count": 20,
   "metadata": {},
   "outputs": [
    {
     "data": {
      "text/plain": [
       "True"
      ]
     },
     "execution_count": 20,
     "metadata": {},
     "output_type": "execute_result"
    }
   ],
   "source": [
    "# set the filtered gtf file\n",
    "gtf_filt_file = os.path.join(work_dir, org_str, f\"{org_str}.gtf\")\n",
    "os.path.exists(gtf_filt_file)"
   ]
  },
  {
   "cell_type": "code",
   "execution_count": 21,
   "metadata": {},
   "outputs": [
    {
     "name": "stdout",
     "output_type": "stream",
     "text": [
      "\t/home/nickyoungblut/miniforge3/envs/asmbl/bin/STAR-avx2 --runThreadN 16 --runMode genomeGenerate --genomeDir /scratch/multiomics/nickyoungblut/star_refs/Xenopus_tropicalis/star --genomeFastaFiles /scratch/multiomics/nickyoungblut/star_refs/Xenopus_tropicalis/UCB_Xtro_10.0/UCB_Xtro_10.0.fa --sjdbGTFfile /scratch/multiomics/nickyoungblut/star_refs/Xenopus_tropicalis/Xenopus_tropicalis/Xenopus_tropicalis.gtf --sjdbOverhang 100\n",
      "\tSTAR version: 2.7.11b   compiled: 2025-01-09T12:32:06+0000 :/opt/conda/conda-bld/star_1736425784849/work/source\n",
      "Feb 01 13:23:56 ..... started STAR run\n",
      "!!!!! WARNING: Could not move Log.out file from ./Log.out into /scratch/multiomics/nickyoungblut/star_refs/Xenopus_tropicalis/star/Log.out. Will keep ./Log.out\n",
      "\n",
      "Feb 01 13:23:56 ... starting to generate Genome files\n",
      "Feb 01 13:24:15 ..... processing annotations GTF\n",
      "Feb 01 13:24:23 ... starting to sort Suffix Array. This may take a long time...\n",
      "Feb 01 13:24:28 ... sorting Suffix Array chunks and saving them to disk...\n",
      "Feb 01 13:27:56 ... loading chunks from disk, packing SA...\n",
      "Feb 01 13:28:27 ... finished generating suffix array\n",
      "Feb 01 13:28:27 ... generating Suffix Array index\n",
      "Feb 01 13:30:53 ... completed Suffix Array index\n",
      "Feb 01 13:30:54 ..... inserting junctions into the genome indices\n",
      "Feb 01 13:32:26 ... writing Genome to disk ...\n",
      "Feb 01 13:32:27 ... writing Suffix Array to disk ...\n",
      "Feb 01 13:32:35 ... writing SAindex to disk\n",
      "Feb 01 13:32:37 ..... finished successfully\n"
     ]
    }
   ],
   "source": [
    "# create the star index\n",
    "star_dir = os.path.join(work_dir, \"star\")\n",
    "os.makedirs(star_dir, exist_ok=True)\n",
    "\n",
    "!STAR --runThreadN 16 \\\n",
    "    --runMode genomeGenerate \\\n",
    "    --genomeDir {star_dir} \\\n",
    "    --genomeFastaFiles {fasta_file} \\\n",
    "    --sjdbGTFfile {gtf_filt_file} \\\n",
    "    --sjdbOverhang 100"
   ]
  },
  {
   "cell_type": "markdown",
   "metadata": {},
   "source": [
    "# Danio rerio"
   ]
  },
  {
   "cell_type": "code",
   "execution_count": 22,
   "metadata": {},
   "outputs": [],
   "source": [
    "organism = \"Danio rerio\"\n",
    "genome_name = \"GRCz11\""
   ]
  },
  {
   "cell_type": "code",
   "execution_count": 23,
   "metadata": {},
   "outputs": [],
   "source": [
    "# format\n",
    "org_str = organism.replace(\" \", \"_\")\n",
    "work_dir = os.path.join(base_dir, org_str)\n",
    "os.makedirs(work_dir, exist_ok=True)"
   ]
  },
  {
   "cell_type": "code",
   "execution_count": 24,
   "metadata": {},
   "outputs": [
    {
     "name": "stdout",
     "output_type": "stream",
     "text": [
      "\u001b[1mname                 provider accession         tax_id annotation species                                  other_info                              \u001b[0m\n",
      "\u001b[0mGRCz11               Ensembl  GCA_000002035.4     7955     \u001b[32m✓\u001b[39m      Danio rerio                              ENS01                                   \u001b[0m\n",
      "\u001b[0m\u001b[32m ^\u001b[0m\n",
      "\u001b[0m\u001b[32m Use name for \u001b[36mgenomepy install\u001b[0m\n",
      "\u001b[0m\u001b[0m"
     ]
    }
   ],
   "source": [
    "# show available assemblies\n",
    "!genomepy search --provider Ensembl {organism}"
   ]
  },
  {
   "cell_type": "code",
   "execution_count": 25,
   "metadata": {},
   "outputs": [
    {
     "name": "stdout",
     "output_type": "stream",
     "text": [
      "\u001b[32m13:38:58\u001b[0m \u001b[1m|\u001b[0m \u001b[34mINFO\u001b[0m \u001b[1m|\u001b[0m Downloading genome from Ensembl. Target URL: http://ftp.ensembl.org/pub/release-113/fasta/danio_rerio/dna/Danio_rerio.GRCz11.dna_sm.primary_assembly.fa.gz...\n",
      "Download: 100%|██████████████████████████████| 418M/418M [00:14<00:00, 30.9MB/s]\u001b[0m\u001b[0m\n",
      "\u001b[0m\u001b[32m13:39:13\u001b[0m \u001b[1m|\u001b[0m \u001b[34mINFO\u001b[0m \u001b[1m|\u001b[0m Genome download successful, starting post processing...\n",
      "\u001b[32m13:39:19\u001b[0m \u001b[1m|\u001b[0m \u001b[34mINFO\u001b[0m \u001b[1m|\u001b[0m name: GRCz11\n",
      "\u001b[32m13:39:19\u001b[0m \u001b[1m|\u001b[0m \u001b[34mINFO\u001b[0m \u001b[1m|\u001b[0m local name: GRCz11\n",
      "\u001b[32m13:39:19\u001b[0m \u001b[1m|\u001b[0m \u001b[34mINFO\u001b[0m \u001b[1m|\u001b[0m fasta: /scratch/multiomics/nickyoungblut/star_refs/Danio_rerio/GRCz11/GRCz11.fa\n",
      "Filtering Fasta: 22.9M lines [00:05, 4.10M lines/s]\u001b[0m\u001b[0m\n",
      "\u001b[0m\u001b[32m13:39:45\u001b[0m \u001b[1m|\u001b[0m \u001b[34mINFO\u001b[0m \u001b[1m|\u001b[0m Downloading annotation from Ensembl. Target URL: http://ftp.ensembl.org/pub/release-113/gtf/danio_rerio/Danio_rerio.GRCz11.113.gtf.gz...\n",
      "Download: 100%|████████████████████████████| 17.3M/17.3M [00:01<00:00, 15.2MB/s]\u001b[0m\u001b[0m\n",
      "\u001b[0m\u001b[32m13:39:50\u001b[0m \u001b[1m|\u001b[0m \u001b[34mINFO\u001b[0m \u001b[1m|\u001b[0m Annotation download successful\n",
      "\u001b[0m"
     ]
    }
   ],
   "source": [
    "# download genome\n",
    "!genomepy install --provider Ensembl --annotation --genomes_dir {work_dir} {genome_name}"
   ]
  },
  {
   "cell_type": "code",
   "execution_count": 26,
   "metadata": {},
   "outputs": [
    {
     "data": {
      "text/plain": [
       "'/scratch/multiomics/nickyoungblut/star_refs/Danio_rerio/GRCz11/GRCz11.fa'"
      ]
     },
     "execution_count": 26,
     "metadata": {},
     "output_type": "execute_result"
    }
   ],
   "source": [
    "# get genome fasta\n",
    "fasta_file = glob(f\"{work_dir}/{genome_name}/*.fa\")[0]\n",
    "fasta_file"
   ]
  },
  {
   "cell_type": "code",
   "execution_count": 27,
   "metadata": {},
   "outputs": [
    {
     "data": {
      "text/plain": [
       "'/scratch/multiomics/nickyoungblut/star_refs/Danio_rerio/GRCz11/GRCz11.annotation.gtf'"
      ]
     },
     "execution_count": 27,
     "metadata": {},
     "output_type": "execute_result"
    }
   ],
   "source": [
    "# get gtf file\n",
    "gtf_file = glob(f\"{work_dir}/{genome_name}/*.gtf\")[0]\n",
    "gtf_file"
   ]
  },
  {
   "cell_type": "code",
   "execution_count": 28,
   "metadata": {},
   "outputs": [
    {
     "name": "stdout",
     "output_type": "stream",
     "text": [
      "Processing GTF: GRCz11.annotation.gtf\n",
      "Output GTF: /scratch/multiomics/nickyoungblut/star_refs/Danio_rerio/Danio_rerio/Danio_rerio.gtf\n",
      "Total records in GTF: 1161868\n",
      "Filtered 75702 records by biotype\n",
      "Filtered 0 records by tag\n",
      "-- Count of biotypes filtered --\n",
      "processed_transcript: 19525\n",
      "retained_intron: 15599\n",
      "nonsense_mediated_decay: 12561\n",
      "lincRNA: 11049\n",
      "rRNA: 5898\n",
      "antisense: 4077\n",
      "snRNA: 1623\n",
      "unprocessed_pseudogene: 1575\n",
      "miRNA: 1305\n",
      "snoRNA: 741\n",
      "polymorphic_pseudogene: 380\n",
      "transcribed_unprocessed_pseudogene: 358\n",
      "misc_RNA: 282\n",
      "sense_intronic: 281\n",
      "processed_pseudogene: 92\n",
      "Mt_tRNA: 66\n",
      "non_stop_decay: 60\n",
      "TEC: 59\n",
      "pseudogene: 57\n",
      "sense_overlapping: 45\n",
      "scaRNA: 33\n",
      "sRNA: 12\n",
      "ribozyme: 12\n",
      "IG_pseudogene: 6\n",
      "Mt_rRNA: 6\n",
      "-- Count of biotypes kept --\n",
      "protein_coding: 2183567\n",
      "TR_V_gene: 884\n",
      "TR_J_gene: 592\n",
      "IG_V_pseudogene: 113\n",
      "IG_C_gene: 34\n",
      "IG_C_pseudogene: 19\n",
      "IG_J_pseudogene: 17\n",
      "TR_D_gene: 14\n",
      "TR_V_pseudogene: 7\n",
      "----------------------------\n"
     ]
    }
   ],
   "source": [
    "# format the reference\n",
    "exe = os.path.join(script_dir, \"format-star-ref.py\")\n",
    "!{exe} --organism \"{organism}\"  --output-dir {work_dir} {gtf_file} "
   ]
  },
  {
   "cell_type": "code",
   "execution_count": 29,
   "metadata": {},
   "outputs": [
    {
     "data": {
      "text/plain": [
       "True"
      ]
     },
     "execution_count": 29,
     "metadata": {},
     "output_type": "execute_result"
    }
   ],
   "source": [
    "# set the filtered gtf file\n",
    "gtf_filt_file = os.path.join(work_dir, org_str, f\"{org_str}.gtf\")\n",
    "os.path.exists(gtf_filt_file)"
   ]
  },
  {
   "cell_type": "code",
   "execution_count": 30,
   "metadata": {},
   "outputs": [
    {
     "name": "stdout",
     "output_type": "stream",
     "text": [
      "\t/home/nickyoungblut/miniforge3/envs/asmbl/bin/STAR-avx2 --runThreadN 16 --runMode genomeGenerate --genomeDir /scratch/multiomics/nickyoungblut/star_refs/Danio_rerio/star --genomeFastaFiles /scratch/multiomics/nickyoungblut/star_refs/Danio_rerio/GRCz11/GRCz11.fa --sjdbGTFfile /scratch/multiomics/nickyoungblut/star_refs/Danio_rerio/Danio_rerio/Danio_rerio.gtf --sjdbOverhang 100\n",
      "\tSTAR version: 2.7.11b   compiled: 2025-01-09T12:32:06+0000 :/opt/conda/conda-bld/star_1736425784849/work/source\n",
      "Feb 01 13:47:32 ..... started STAR run\n",
      "!!!!! WARNING: Could not move Log.out file from ./Log.out into /scratch/multiomics/nickyoungblut/star_refs/Danio_rerio/star/Log.out. Will keep ./Log.out\n",
      "\n",
      "Feb 01 13:47:32 ... starting to generate Genome files\n",
      "Feb 01 13:47:50 ..... processing annotations GTF\n",
      "Feb 01 13:47:57 ... starting to sort Suffix Array. This may take a long time...\n",
      "Feb 01 13:48:02 ... sorting Suffix Array chunks and saving them to disk...\n",
      "Feb 01 13:51:29 ... loading chunks from disk, packing SA...\n",
      "Feb 01 13:52:01 ... finished generating suffix array\n",
      "Feb 01 13:52:01 ... generating Suffix Array index\n",
      "Feb 01 13:54:26 ... completed Suffix Array index\n",
      "Feb 01 13:54:26 ..... inserting junctions into the genome indices\n",
      "Feb 01 13:56:02 ... writing Genome to disk ...\n",
      "Feb 01 13:56:03 ... writing Suffix Array to disk ...\n",
      "Feb 01 13:56:14 ... writing SAindex to disk\n",
      "Feb 01 13:56:15 ..... finished successfully\n"
     ]
    }
   ],
   "source": [
    "# create the star index\n",
    "star_dir = os.path.join(work_dir, \"star\")\n",
    "os.makedirs(star_dir, exist_ok=True)\n",
    "\n",
    "!STAR --runThreadN 16 \\\n",
    "    --runMode genomeGenerate \\\n",
    "    --genomeDir {star_dir} \\\n",
    "    --genomeFastaFiles {fasta_file} \\\n",
    "    --sjdbGTFfile {gtf_filt_file} \\\n",
    "    --sjdbOverhang 100"
   ]
  },
  {
   "cell_type": "markdown",
   "metadata": {},
   "source": [
    "# Drosophila melanogaster"
   ]
  },
  {
   "cell_type": "code",
   "execution_count": 31,
   "metadata": {},
   "outputs": [],
   "source": [
    "organism = \"Drosophila melanogaster\"\n",
    "genome_name = \"BDGP6.46\""
   ]
  },
  {
   "cell_type": "code",
   "execution_count": 32,
   "metadata": {},
   "outputs": [],
   "source": [
    "# format\n",
    "org_str = organism.replace(\" \", \"_\")\n",
    "work_dir = os.path.join(base_dir, org_str)\n",
    "os.makedirs(work_dir, exist_ok=True)"
   ]
  },
  {
   "cell_type": "code",
   "execution_count": 33,
   "metadata": {},
   "outputs": [
    {
     "name": "stdout",
     "output_type": "stream",
     "text": [
      "\u001b[1mname                 provider accession         tax_id annotation species                                  other_info                              \u001b[0m\n",
      "\u001b[0mBDGP6.46             Ensembl  GCA_000001215.4     7227     \u001b[32m✓\u001b[39m      Drosophila melanogaster                  dmel_r6.46_FB2022_03                    \u001b[0m\n",
      "\u001b[0m\u001b[32m ^\u001b[0m\n",
      "\u001b[0m\u001b[32m Use name for \u001b[36mgenomepy install\u001b[0m\n",
      "\u001b[0m\u001b[0m"
     ]
    }
   ],
   "source": [
    "# show available assemblies\n",
    "!genomepy search --provider Ensembl {organism}"
   ]
  },
  {
   "cell_type": "code",
   "execution_count": 34,
   "metadata": {},
   "outputs": [
    {
     "name": "stdout",
     "output_type": "stream",
     "text": [
      "\u001b[32m14:12:15\u001b[0m \u001b[1m|\u001b[0m \u001b[34mINFO\u001b[0m \u001b[1m|\u001b[0m Downloading genome from Ensembl. Target URL: http://ftp.ensembl.org/pub/release-113/fasta/drosophila_melanogaster/dna/Drosophila_melanogaster.BDGP6.46.dna_sm.toplevel.fa.gz...\n",
      "Download: 100%|████████████████████████████| 42.8M/42.8M [00:02<00:00, 21.6MB/s]\u001b[0m\u001b[0m\n",
      "\u001b[0m\u001b[32m14:12:18\u001b[0m \u001b[1m|\u001b[0m \u001b[34mINFO\u001b[0m \u001b[1m|\u001b[0m Genome download successful, starting post processing...\n",
      "\u001b[32m14:12:18\u001b[0m \u001b[1m|\u001b[0m \u001b[34mINFO\u001b[0m \u001b[1m|\u001b[0m name: BDGP6.46\n",
      "\u001b[32m14:12:18\u001b[0m \u001b[1m|\u001b[0m \u001b[34mINFO\u001b[0m \u001b[1m|\u001b[0m local name: BDGP6.46\n",
      "\u001b[32m14:12:18\u001b[0m \u001b[1m|\u001b[0m \u001b[34mINFO\u001b[0m \u001b[1m|\u001b[0m fasta: /scratch/multiomics/nickyoungblut/star_refs/Drosophila_melanogaster/BDGP6.46/BDGP6.46.fa\n",
      "Filtering Fasta: 2.40M lines [00:00, 3.93M lines/s]\u001b[0m\u001b[0m\n",
      "\u001b[0m\u001b[32m14:12:22\u001b[0m \u001b[1m|\u001b[0m \u001b[34mINFO\u001b[0m \u001b[1m|\u001b[0m Downloading annotation from Ensembl. Target URL: http://ftp.ensembl.org/pub/release-113/gtf/drosophila_melanogaster/Drosophila_melanogaster.BDGP6.46.113.gtf.gz...\n",
      "Download: 100%|████████████████████████████| 6.80M/6.80M [00:00<00:00, 8.59MB/s]\u001b[0m\u001b[0m\n",
      "\u001b[0m\u001b[32m14:12:24\u001b[0m \u001b[1m|\u001b[0m \u001b[34mINFO\u001b[0m \u001b[1m|\u001b[0m Annotation download successful\n",
      "\u001b[0m"
     ]
    }
   ],
   "source": [
    "# download genome\n",
    "!genomepy install --provider Ensembl --annotation --genomes_dir {work_dir} {genome_name}"
   ]
  },
  {
   "cell_type": "code",
   "execution_count": 35,
   "metadata": {},
   "outputs": [
    {
     "data": {
      "text/plain": [
       "'/scratch/multiomics/nickyoungblut/star_refs/Drosophila_melanogaster/BDGP6.46/BDGP6.46.fa'"
      ]
     },
     "execution_count": 35,
     "metadata": {},
     "output_type": "execute_result"
    }
   ],
   "source": [
    "# get genome fasta\n",
    "fasta_file = glob(f\"{work_dir}/{genome_name}/*.fa\")[0]\n",
    "fasta_file"
   ]
  },
  {
   "cell_type": "code",
   "execution_count": 36,
   "metadata": {},
   "outputs": [
    {
     "data": {
      "text/plain": [
       "'/scratch/multiomics/nickyoungblut/star_refs/Drosophila_melanogaster/BDGP6.46/BDGP6.46.annotation.gtf'"
      ]
     },
     "execution_count": 36,
     "metadata": {},
     "output_type": "execute_result"
    }
   ],
   "source": [
    "# get gtf file\n",
    "gtf_file = glob(f\"{work_dir}/{genome_name}/*.gtf\")[0]\n",
    "gtf_file"
   ]
  },
  {
   "cell_type": "code",
   "execution_count": 37,
   "metadata": {},
   "outputs": [
    {
     "name": "stdout",
     "output_type": "stream",
     "text": [
      "Processing GTF: BDGP6.46.annotation.gtf\n",
      "Output GTF: /scratch/multiomics/nickyoungblut/star_refs/Drosophila_melanogaster/Drosophila_melanogaster/Drosophila_melanogaster.gtf\n",
      "Total records in GTF: 567802\n",
      "Filtered 34166 records by biotype\n",
      "Filtered 0 records by tag\n",
      "-- Count of biotypes filtered --\n",
      "transposable_element: 17694\n",
      "ncRNA: 12804\n",
      "pseudogene: 1376\n",
      "tRNA: 952\n",
      "snoRNA: 899\n",
      "rRNA: 345\n",
      "snRNA: 96\n",
      "-- Count of biotypes kept --\n",
      "protein_coding: 1053286\n",
      "----------------------------\n"
     ]
    }
   ],
   "source": [
    "# format the reference\n",
    "exe = os.path.join(script_dir, \"format-star-ref.py\")\n",
    "!{exe} --organism \"{organism}\"  --output-dir {work_dir} {gtf_file} "
   ]
  },
  {
   "cell_type": "code",
   "execution_count": 38,
   "metadata": {},
   "outputs": [
    {
     "data": {
      "text/plain": [
       "True"
      ]
     },
     "execution_count": 38,
     "metadata": {},
     "output_type": "execute_result"
    }
   ],
   "source": [
    "# set the filtered gtf file\n",
    "gtf_filt_file = os.path.join(work_dir, org_str, f\"{org_str}.gtf\")\n",
    "os.path.exists(gtf_filt_file)"
   ]
  },
  {
   "cell_type": "code",
   "execution_count": 39,
   "metadata": {},
   "outputs": [
    {
     "name": "stdout",
     "output_type": "stream",
     "text": [
      "\t/home/nickyoungblut/miniforge3/envs/asmbl/bin/STAR-avx2 --runThreadN 16 --runMode genomeGenerate --genomeDir /scratch/multiomics/nickyoungblut/star_refs/Drosophila_melanogaster/star --genomeFastaFiles /scratch/multiomics/nickyoungblut/star_refs/Drosophila_melanogaster/BDGP6.46/BDGP6.46.fa --sjdbGTFfile /scratch/multiomics/nickyoungblut/star_refs/Drosophila_melanogaster/Drosophila_melanogaster/Drosophila_melanogaster.gtf --sjdbOverhang 100\n",
      "\tSTAR version: 2.7.11b   compiled: 2025-01-09T12:32:06+0000 :/opt/conda/conda-bld/star_1736425784849/work/source\n",
      "Feb 01 14:12:32 ..... started STAR run\n",
      "!!!!! WARNING: Could not move Log.out file from ./Log.out into /scratch/multiomics/nickyoungblut/star_refs/Drosophila_melanogaster/star/Log.out. Will keep ./Log.out\n",
      "\n",
      "Feb 01 14:12:32 ... starting to generate Genome files\n",
      "Feb 01 14:12:36 ..... processing annotations GTF\n",
      "!!!!! WARNING: --genomeSAindexNbases 14 is too large for the genome size=143726002, which may cause seg-fault at the mapping step. Re-run genome generation with recommended --genomeSAindexNbases 12\n",
      "Feb 01 14:12:39 ... starting to sort Suffix Array. This may take a long time...\n",
      "Feb 01 14:12:40 ... sorting Suffix Array chunks and saving them to disk...\n",
      "Feb 01 14:12:54 ... loading chunks from disk, packing SA...\n",
      "Feb 01 14:12:58 ... finished generating suffix array\n",
      "Feb 01 14:12:58 ... generating Suffix Array index\n",
      "Feb 01 14:13:27 ... completed Suffix Array index\n",
      "Feb 01 14:13:27 ..... inserting junctions into the genome indices\n",
      "Feb 01 14:13:48 ... writing Genome to disk ...\n",
      "Feb 01 14:13:49 ... writing Suffix Array to disk ...\n",
      "Feb 01 14:13:50 ... writing SAindex to disk\n",
      "Feb 01 14:13:51 ..... finished successfully\n"
     ]
    }
   ],
   "source": [
    "# create the star index\n",
    "star_dir = os.path.join(work_dir, \"star\")\n",
    "os.makedirs(star_dir, exist_ok=True)\n",
    "\n",
    "!STAR --runThreadN 16 \\\n",
    "    --runMode genomeGenerate \\\n",
    "    --genomeDir {star_dir} \\\n",
    "    --genomeFastaFiles {fasta_file} \\\n",
    "    --sjdbGTFfile {gtf_filt_file} \\\n",
    "    --sjdbOverhang 100"
   ]
  },
  {
   "cell_type": "markdown",
   "metadata": {},
   "source": [
    "# Caenorhabditis elegans"
   ]
  },
  {
   "cell_type": "code",
   "execution_count": 40,
   "metadata": {},
   "outputs": [],
   "source": [
    "organism = \"Caenorhabditis elegans\" \n",
    "genome_name = \"WBcel235\""
   ]
  },
  {
   "cell_type": "code",
   "execution_count": 41,
   "metadata": {},
   "outputs": [],
   "source": [
    "# format\n",
    "org_str = organism.replace(\" \", \"_\")\n",
    "work_dir = os.path.join(base_dir, org_str)\n",
    "os.makedirs(work_dir, exist_ok=True)"
   ]
  },
  {
   "cell_type": "code",
   "execution_count": 42,
   "metadata": {},
   "outputs": [
    {
     "name": "stdout",
     "output_type": "stream",
     "text": [
      "\u001b[1mname                 provider accession         tax_id annotation species                                  other_info                              \u001b[0m\n",
      "\u001b[0mWBcel235             Ensembl  GCA_000002985.3     6239     \u001b[32m✓\u001b[39m      Caenorhabditis elegans                   WS282                                   \u001b[0m\n",
      "\u001b[0m\u001b[32m ^\u001b[0m\n",
      "\u001b[0m\u001b[32m Use name for \u001b[36mgenomepy install\u001b[0m\n",
      "\u001b[0m\u001b[0m"
     ]
    }
   ],
   "source": [
    "# show available assemblies\n",
    "!genomepy search --provider Ensembl {organism}"
   ]
  },
  {
   "cell_type": "code",
   "execution_count": 43,
   "metadata": {},
   "outputs": [
    {
     "name": "stdout",
     "output_type": "stream",
     "text": [
      "\u001b[32m14:42:25\u001b[0m \u001b[1m|\u001b[0m \u001b[34mINFO\u001b[0m \u001b[1m|\u001b[0m Downloading genome from Ensembl. Target URL: http://ftp.ensembl.org/pub/release-113/fasta/caenorhabditis_elegans/dna/Caenorhabditis_elegans.WBcel235.dna_sm.toplevel.fa.gz...\n",
      "Download: 100%|████████████████████████████| 30.4M/30.4M [00:01<00:00, 19.6MB/s]\u001b[0m\u001b[0m\n",
      "\u001b[0m\u001b[32m14:42:27\u001b[0m \u001b[1m|\u001b[0m \u001b[34mINFO\u001b[0m \u001b[1m|\u001b[0m Genome download successful, starting post processing...\n",
      "\u001b[32m14:42:27\u001b[0m \u001b[1m|\u001b[0m \u001b[34mINFO\u001b[0m \u001b[1m|\u001b[0m name: WBcel235\n",
      "\u001b[32m14:42:27\u001b[0m \u001b[1m|\u001b[0m \u001b[34mINFO\u001b[0m \u001b[1m|\u001b[0m local name: WBcel235\n",
      "\u001b[32m14:42:27\u001b[0m \u001b[1m|\u001b[0m \u001b[34mINFO\u001b[0m \u001b[1m|\u001b[0m fasta: /scratch/multiomics/nickyoungblut/star_refs/Caenorhabditis_elegans/WBcel235/WBcel235.fa\n",
      "Filtering Fasta: 1.67M lines [00:00, 3.85M lines/s]\u001b[0m\u001b[0m\n",
      "\u001b[0m\u001b[32m14:42:30\u001b[0m \u001b[1m|\u001b[0m \u001b[34mINFO\u001b[0m \u001b[1m|\u001b[0m Downloading annotation from Ensembl. Target URL: http://ftp.ensembl.org/pub/release-113/gtf/caenorhabditis_elegans/Caenorhabditis_elegans.WBcel235.113.gtf.gz...\n",
      "Download: 100%|████████████████████████████| 8.75M/8.75M [00:00<00:00, 10.0MB/s]\u001b[0m\u001b[0m\n",
      "\u001b[0m\u001b[32m14:42:33\u001b[0m \u001b[1m|\u001b[0m \u001b[34mINFO\u001b[0m \u001b[1m|\u001b[0m Annotation download successful\n",
      "\u001b[0m"
     ]
    }
   ],
   "source": [
    "# download genome\n",
    "!genomepy install --provider Ensembl --annotation --genomes_dir {work_dir} {genome_name}"
   ]
  },
  {
   "cell_type": "code",
   "execution_count": 44,
   "metadata": {},
   "outputs": [
    {
     "data": {
      "text/plain": [
       "'/scratch/multiomics/nickyoungblut/star_refs/Caenorhabditis_elegans/WBcel235/WBcel235.fa'"
      ]
     },
     "execution_count": 44,
     "metadata": {},
     "output_type": "execute_result"
    }
   ],
   "source": [
    "# get genome fasta\n",
    "fasta_file = glob(f\"{work_dir}/{genome_name}/*.fa\")[0]\n",
    "fasta_file"
   ]
  },
  {
   "cell_type": "code",
   "execution_count": 45,
   "metadata": {},
   "outputs": [
    {
     "data": {
      "text/plain": [
       "'/scratch/multiomics/nickyoungblut/star_refs/Caenorhabditis_elegans/WBcel235/WBcel235.annotation.gtf'"
      ]
     },
     "execution_count": 45,
     "metadata": {},
     "output_type": "execute_result"
    }
   ],
   "source": [
    "# get gtf file\n",
    "gtf_file = glob(f\"{work_dir}/{genome_name}/*.gtf\")[0]\n",
    "gtf_file"
   ]
  },
  {
   "cell_type": "code",
   "execution_count": 46,
   "metadata": {},
   "outputs": [
    {
     "name": "stdout",
     "output_type": "stream",
     "text": [
      "Processing GTF: WBcel235.annotation.gtf\n",
      "Output GTF: /scratch/multiomics/nickyoungblut/star_refs/Caenorhabditis_elegans/Caenorhabditis_elegans/Caenorhabditis_elegans.gtf\n",
      "Total records in GTF: 703291\n",
      "Filtered 94369 records by biotype\n",
      "Filtered 0 records by tag\n",
      "-- Count of biotypes filtered --\n",
      "piRNA: 46089\n",
      "ncRNA: 28764\n",
      "pseudogene: 13162\n",
      "tRNA: 1931\n",
      "miRNA: 1725\n",
      "snoRNA: 1038\n",
      "lincRNA: 816\n",
      "antisense_RNA: 391\n",
      "snRNA: 387\n",
      "rRNA: 66\n",
      "-- Count of biotypes kept --\n",
      "protein_coding: 1203105\n",
      "----------------------------\n"
     ]
    }
   ],
   "source": [
    "# format the reference\n",
    "exe = os.path.join(script_dir, \"format-star-ref.py\")\n",
    "!{exe} --organism \"{organism}\"  --output-dir {work_dir} {gtf_file} "
   ]
  },
  {
   "cell_type": "code",
   "execution_count": 47,
   "metadata": {},
   "outputs": [
    {
     "data": {
      "text/plain": [
       "True"
      ]
     },
     "execution_count": 47,
     "metadata": {},
     "output_type": "execute_result"
    }
   ],
   "source": [
    "# set the filtered gtf file\n",
    "gtf_filt_file = os.path.join(work_dir, org_str, f\"{org_str}.gtf\")\n",
    "os.path.exists(gtf_filt_file)"
   ]
  },
  {
   "cell_type": "code",
   "execution_count": 48,
   "metadata": {},
   "outputs": [
    {
     "name": "stdout",
     "output_type": "stream",
     "text": [
      "\t/home/nickyoungblut/miniforge3/envs/asmbl/bin/STAR-avx2 --runThreadN 16 --runMode genomeGenerate --genomeDir /scratch/multiomics/nickyoungblut/star_refs/Caenorhabditis_elegans/star --genomeFastaFiles /scratch/multiomics/nickyoungblut/star_refs/Caenorhabditis_elegans/WBcel235/WBcel235.fa --sjdbGTFfile /scratch/multiomics/nickyoungblut/star_refs/Caenorhabditis_elegans/Caenorhabditis_elegans/Caenorhabditis_elegans.gtf --sjdbOverhang 100\n",
      "\tSTAR version: 2.7.11b   compiled: 2025-01-09T12:32:06+0000 :/opt/conda/conda-bld/star_1736425784849/work/source\n",
      "Feb 01 14:42:42 ..... started STAR run\n",
      "!!!!! WARNING: Could not move Log.out file from ./Log.out into /scratch/multiomics/nickyoungblut/star_refs/Caenorhabditis_elegans/star/Log.out. Will keep ./Log.out\n",
      "\n",
      "Feb 01 14:42:42 ... starting to generate Genome files\n",
      "Feb 01 14:42:43 ..... processing annotations GTF\n",
      "!!!!! WARNING: --genomeSAindexNbases 14 is too large for the genome size=100286401, which may cause seg-fault at the mapping step. Re-run genome generation with recommended --genomeSAindexNbases 12\n",
      "Feb 01 14:42:45 ... starting to sort Suffix Array. This may take a long time...\n",
      "Feb 01 14:42:45 ... sorting Suffix Array chunks and saving them to disk...\n",
      "Feb 01 14:42:53 ... loading chunks from disk, packing SA...\n",
      "Feb 01 14:42:56 ... finished generating suffix array\n",
      "Feb 01 14:42:56 ... generating Suffix Array index\n",
      "Feb 01 14:43:14 ... completed Suffix Array index\n",
      "Feb 01 14:43:14 ..... inserting junctions into the genome indices\n",
      "Feb 01 14:43:46 ... writing Genome to disk ...\n",
      "Feb 01 14:43:46 ... writing Suffix Array to disk ...\n",
      "Feb 01 14:43:47 ... writing SAindex to disk\n",
      "Feb 01 14:43:48 ..... finished successfully\n"
     ]
    }
   ],
   "source": [
    "# create the star index\n",
    "star_dir = os.path.join(work_dir, \"star\")\n",
    "os.makedirs(star_dir, exist_ok=True)\n",
    "\n",
    "!STAR --runThreadN 16 \\\n",
    "    --runMode genomeGenerate \\\n",
    "    --genomeDir {star_dir} \\\n",
    "    --genomeFastaFiles {fasta_file} \\\n",
    "    --sjdbGTFfile {gtf_filt_file} \\\n",
    "    --sjdbOverhang 100"
   ]
  },
  {
   "cell_type": "markdown",
   "metadata": {},
   "source": [
    "# Schistosoma mansoni"
   ]
  },
  {
   "cell_type": "code",
   "execution_count": 49,
   "metadata": {},
   "outputs": [],
   "source": [
    "organism = \"Schistosoma mansoni\"\n",
    "genome_name = \"Smansoni_v7\""
   ]
  },
  {
   "cell_type": "code",
   "execution_count": 50,
   "metadata": {},
   "outputs": [],
   "source": [
    "# format\n",
    "org_str = organism.replace(\" \", \"_\")\n",
    "work_dir = os.path.join(base_dir, org_str)\n",
    "os.makedirs(work_dir, exist_ok=True)"
   ]
  },
  {
   "cell_type": "code",
   "execution_count": 51,
   "metadata": {},
   "outputs": [
    {
     "name": "stdout",
     "output_type": "stream",
     "text": [
      "\u001b[1mname                 provider accession         tax_id annotation species                                  other_info                              \u001b[0m\n",
      "\u001b[0mSmansoni_v7          Ensembl  GCA_000237925.3     6183     \u001b[32m✓\u001b[39m      Schistosoma mansoni                      WBPS12                                  \u001b[0m\n",
      "\u001b[0m\u001b[32m ^\u001b[0m\n",
      "\u001b[0m\u001b[32m Use name for \u001b[36mgenomepy install\u001b[0m\n",
      "\u001b[0m\u001b[0m"
     ]
    }
   ],
   "source": [
    "# show available assemblies\n",
    "!genomepy search --provider Ensembl {organism}"
   ]
  },
  {
   "cell_type": "code",
   "execution_count": 52,
   "metadata": {},
   "outputs": [
    {
     "name": "stdout",
     "output_type": "stream",
     "text": [
      "\u001b[32m14:44:32\u001b[0m \u001b[1m|\u001b[0m \u001b[34mINFO\u001b[0m \u001b[1m|\u001b[0m Downloading genome from Ensembl. Target URL: http://ftp.ensemblgenomes.org/pub/release-60/metazoa/fasta/schistosoma_mansoni/dna/Schistosoma_mansoni.Smansoni_v7.dna_sm.toplevel.fa.gz...\n",
      "Download: 100%|██████████████████████████████| 122M/122M [00:04<00:00, 28.0MB/s]\u001b[0m\u001b[0m\n",
      "\u001b[0m\u001b[32m14:44:37\u001b[0m \u001b[1m|\u001b[0m \u001b[34mINFO\u001b[0m \u001b[1m|\u001b[0m Genome download successful, starting post processing...\n",
      "\u001b[32m14:44:39\u001b[0m \u001b[1m|\u001b[0m \u001b[34mINFO\u001b[0m \u001b[1m|\u001b[0m name: Smansoni_v7\n",
      "\u001b[32m14:44:39\u001b[0m \u001b[1m|\u001b[0m \u001b[34mINFO\u001b[0m \u001b[1m|\u001b[0m local name: Smansoni_v7\n",
      "\u001b[32m14:44:39\u001b[0m \u001b[1m|\u001b[0m \u001b[34mINFO\u001b[0m \u001b[1m|\u001b[0m fasta: /scratch/multiomics/nickyoungblut/star_refs/Schistosoma_mansoni/Smansoni_v7/Smansoni_v7.fa\n",
      "Filtering Fasta: 6.83M lines [00:01, 4.05M lines/s]\u001b[0m\u001b[0m\n",
      "\u001b[0m\u001b[32m14:44:47\u001b[0m \u001b[1m|\u001b[0m \u001b[34mINFO\u001b[0m \u001b[1m|\u001b[0m Downloading annotation from Ensembl. Target URL: http://ftp.ensemblgenomes.org/pub/release-60/metazoa/gtf/schistosoma_mansoni/Schistosoma_mansoni.Smansoni_v7.60.gtf.gz...\n",
      "Download: 100%|████████████████████████████| 3.80M/3.80M [00:00<00:00, 5.44MB/s]\u001b[0m\u001b[0m\n",
      "\u001b[0m\u001b[32m14:44:49\u001b[0m \u001b[1m|\u001b[0m \u001b[34mINFO\u001b[0m \u001b[1m|\u001b[0m Annotation download successful\n",
      "\u001b[0m"
     ]
    }
   ],
   "source": [
    "# download genome\n",
    "!genomepy install --provider Ensembl --annotation --genomes_dir {work_dir} {genome_name}"
   ]
  },
  {
   "cell_type": "code",
   "execution_count": 53,
   "metadata": {},
   "outputs": [
    {
     "data": {
      "text/plain": [
       "'/scratch/multiomics/nickyoungblut/star_refs/Schistosoma_mansoni/Smansoni_v7/Smansoni_v7.fa'"
      ]
     },
     "execution_count": 53,
     "metadata": {},
     "output_type": "execute_result"
    }
   ],
   "source": [
    "# get genome fasta\n",
    "fasta_file = glob(f\"{work_dir}/{genome_name}/*.fa\")[0]\n",
    "fasta_file"
   ]
  },
  {
   "cell_type": "code",
   "execution_count": 54,
   "metadata": {},
   "outputs": [
    {
     "data": {
      "text/plain": [
       "'/scratch/multiomics/nickyoungblut/star_refs/Schistosoma_mansoni/Smansoni_v7/Smansoni_v7.annotation.gtf'"
      ]
     },
     "execution_count": 54,
     "metadata": {},
     "output_type": "execute_result"
    }
   ],
   "source": [
    "# get gtf file\n",
    "gtf_file = glob(f\"{work_dir}/{genome_name}/*.gtf\")[0]\n",
    "gtf_file"
   ]
  },
  {
   "cell_type": "code",
   "execution_count": 55,
   "metadata": {},
   "outputs": [
    {
     "name": "stdout",
     "output_type": "stream",
     "text": [
      "Processing GTF: Smansoni_v7.annotation.gtf\n",
      "Output GTF: /scratch/multiomics/nickyoungblut/star_refs/Schistosoma_mansoni/Schistosoma_mansoni/Schistosoma_mansoni.gtf\n",
      "Total records in GTF: 335384\n",
      "Filtered 170 records by biotype\n",
      "Filtered 0 records by tag\n",
      "-- Count of biotypes filtered --\n",
      "pseudogene: 170\n",
      "-- Count of biotypes kept --\n",
      "protein_coding: 660284\n",
      "----------------------------\n"
     ]
    }
   ],
   "source": [
    "# format the reference\n",
    "exe = os.path.join(script_dir, \"format-star-ref.py\")\n",
    "!{exe} --organism \"{organism}\"  --output-dir {work_dir} {gtf_file} "
   ]
  },
  {
   "cell_type": "code",
   "execution_count": 56,
   "metadata": {},
   "outputs": [
    {
     "data": {
      "text/plain": [
       "True"
      ]
     },
     "execution_count": 56,
     "metadata": {},
     "output_type": "execute_result"
    }
   ],
   "source": [
    "# set the filtered gtf file\n",
    "gtf_filt_file = os.path.join(work_dir, org_str, f\"{org_str}.gtf\")\n",
    "os.path.exists(gtf_filt_file)"
   ]
  },
  {
   "cell_type": "code",
   "execution_count": 57,
   "metadata": {},
   "outputs": [
    {
     "name": "stdout",
     "output_type": "stream",
     "text": [
      "\t/home/nickyoungblut/miniforge3/envs/asmbl/bin/STAR-avx2 --runThreadN 16 --runMode genomeGenerate --genomeDir /scratch/multiomics/nickyoungblut/star_refs/Schistosoma_mansoni/star --genomeFastaFiles /scratch/multiomics/nickyoungblut/star_refs/Schistosoma_mansoni/Smansoni_v7/Smansoni_v7.fa --sjdbGTFfile /scratch/multiomics/nickyoungblut/star_refs/Schistosoma_mansoni/Schistosoma_mansoni/Schistosoma_mansoni.gtf --sjdbOverhang 100\n",
      "\tSTAR version: 2.7.11b   compiled: 2025-01-09T12:32:06+0000 :/opt/conda/conda-bld/star_1736425784849/work/source\n",
      "Feb 01 14:45:03 ..... started STAR run\n",
      "!!!!! WARNING: Could not move Log.out file from ./Log.out into /scratch/multiomics/nickyoungblut/star_refs/Schistosoma_mansoni/star/Log.out. Will keep ./Log.out\n",
      "\n",
      "Feb 01 14:45:03 ... starting to generate Genome files\n",
      "Feb 01 14:45:08 ..... processing annotations GTF\n",
      "!!!!! WARNING: --genomeSAindexNbases 14 is too large for the genome size=409579008, which may cause seg-fault at the mapping step. Re-run genome generation with recommended --genomeSAindexNbases 13\n",
      "Feb 01 14:45:11 ... starting to sort Suffix Array. This may take a long time...\n",
      "Feb 01 14:45:12 ... sorting Suffix Array chunks and saving them to disk...\n",
      "Feb 01 14:45:58 ... loading chunks from disk, packing SA...\n",
      "Feb 01 14:46:07 ... finished generating suffix array\n",
      "Feb 01 14:46:07 ... generating Suffix Array index\n",
      "Feb 01 14:47:14 ... completed Suffix Array index\n",
      "Feb 01 14:47:14 ..... inserting junctions into the genome indices\n",
      "Feb 01 14:47:46 ... writing Genome to disk ...\n",
      "Feb 01 14:47:46 ... writing Suffix Array to disk ...\n",
      "Feb 01 14:47:49 ... writing SAindex to disk\n",
      "Feb 01 14:47:51 ..... finished successfully\n"
     ]
    }
   ],
   "source": [
    "# create the star index\n",
    "star_dir = os.path.join(work_dir, \"star\")\n",
    "os.makedirs(star_dir, exist_ok=True)\n",
    "\n",
    "!STAR --runThreadN 16 \\\n",
    "    --runMode genomeGenerate \\\n",
    "    --genomeDir {star_dir} \\\n",
    "    --genomeFastaFiles {fasta_file} \\\n",
    "    --sjdbGTFfile {gtf_filt_file} \\\n",
    "    --sjdbOverhang 100"
   ]
  },
  {
   "cell_type": "markdown",
   "metadata": {},
   "source": [
    "# Anopheles gambiae"
   ]
  },
  {
   "cell_type": "code",
   "execution_count": 58,
   "metadata": {},
   "outputs": [],
   "source": [
    "organism = \"Anopheles gambiae\"\n",
    "genome_name = \"AgamP4\""
   ]
  },
  {
   "cell_type": "code",
   "execution_count": 59,
   "metadata": {},
   "outputs": [],
   "source": [
    "# format\n",
    "org_str = organism.replace(\" \", \"_\")\n",
    "work_dir = os.path.join(base_dir, org_str)\n",
    "os.makedirs(work_dir, exist_ok=True)"
   ]
  },
  {
   "cell_type": "code",
   "execution_count": 60,
   "metadata": {},
   "outputs": [
    {
     "name": "stdout",
     "output_type": "stream",
     "text": [
      "\u001b[1mname                 provider accession         tax_id annotation species                                  other_info                              \u001b[0m\n",
      "\u001b[0mAgamP4               Ensembl  GCA_000005575.1     7165     \u001b[32m✓\u001b[39m      Anopheles gambiae                        AgamP4.13                               \u001b[0m\n",
      "\u001b[0m\u001b[32m ^\u001b[0m\n",
      "\u001b[0m\u001b[32m Use name for \u001b[36mgenomepy install\u001b[0m\n",
      "\u001b[0m\u001b[0m"
     ]
    }
   ],
   "source": [
    "# show available assemblies\n",
    "!genomepy search --provider Ensembl {organism}"
   ]
  },
  {
   "cell_type": "code",
   "execution_count": 61,
   "metadata": {},
   "outputs": [
    {
     "name": "stdout",
     "output_type": "stream",
     "text": [
      "\u001b[32m15:00:48\u001b[0m \u001b[1m|\u001b[0m \u001b[34mINFO\u001b[0m \u001b[1m|\u001b[0m Downloading genome from Ensembl. Target URL: http://ftp.ensemblgenomes.org/pub/release-60/metazoa/fasta/anopheles_gambiae/dna/Anopheles_gambiae.AgamP4.dna_sm.toplevel.fa.gz...\n",
      "Download: 100%|████████████████████████████| 80.5M/80.5M [00:03<00:00, 26.6MB/s]\u001b[0m\u001b[0m\n",
      "\u001b[0m\u001b[32m15:00:52\u001b[0m \u001b[1m|\u001b[0m \u001b[34mINFO\u001b[0m \u001b[1m|\u001b[0m Genome download successful, starting post processing...\n",
      "\u001b[32m15:00:53\u001b[0m \u001b[1m|\u001b[0m \u001b[34mINFO\u001b[0m \u001b[1m|\u001b[0m name: AgamP4\n",
      "\u001b[32m15:00:53\u001b[0m \u001b[1m|\u001b[0m \u001b[34mINFO\u001b[0m \u001b[1m|\u001b[0m local name: AgamP4\n",
      "\u001b[32m15:00:53\u001b[0m \u001b[1m|\u001b[0m \u001b[34mINFO\u001b[0m \u001b[1m|\u001b[0m fasta: /scratch/multiomics/nickyoungblut/star_refs/Anopheles_gambiae/AgamP4/AgamP4.fa\n",
      "Filtering Fasta: 4.72M lines [00:01, 4.06M lines/s]\u001b[0m\u001b[0m\n",
      "\u001b[0m\u001b[32m15:00:59\u001b[0m \u001b[1m|\u001b[0m \u001b[34mINFO\u001b[0m \u001b[1m|\u001b[0m Downloading annotation from Ensembl. Target URL: http://ftp.ensemblgenomes.org/pub/release-60/metazoa/gtf/anopheles_gambiae/Anopheles_gambiae.AgamP4.60.gtf.gz...\n",
      "Download: 100%|████████████████████████████| 2.84M/2.84M [00:00<00:00, 4.09MB/s]\u001b[0m\u001b[0m\n",
      "\u001b[0m\u001b[32m15:01:01\u001b[0m \u001b[1m|\u001b[0m \u001b[34mINFO\u001b[0m \u001b[1m|\u001b[0m Annotation download successful\n",
      "\u001b[0m"
     ]
    }
   ],
   "source": [
    "# download genome\n",
    "!genomepy install --provider Ensembl --annotation --genomes_dir {work_dir} {genome_name}"
   ]
  },
  {
   "cell_type": "code",
   "execution_count": 62,
   "metadata": {},
   "outputs": [
    {
     "data": {
      "text/plain": [
       "'/scratch/multiomics/nickyoungblut/star_refs/Anopheles_gambiae/AgamP4/AgamP4.fa'"
      ]
     },
     "execution_count": 62,
     "metadata": {},
     "output_type": "execute_result"
    }
   ],
   "source": [
    "# get genome fasta\n",
    "fasta_file = glob(f\"{work_dir}/{genome_name}/*.fa\")[0]\n",
    "fasta_file"
   ]
  },
  {
   "cell_type": "code",
   "execution_count": 63,
   "metadata": {},
   "outputs": [
    {
     "data": {
      "text/plain": [
       "'/scratch/multiomics/nickyoungblut/star_refs/Anopheles_gambiae/AgamP4/AgamP4.annotation.gtf'"
      ]
     },
     "execution_count": 63,
     "metadata": {},
     "output_type": "execute_result"
    }
   ],
   "source": [
    "# get gtf file\n",
    "gtf_file = glob(f\"{work_dir}/{genome_name}/*.gtf\")[0]\n",
    "gtf_file"
   ]
  },
  {
   "cell_type": "code",
   "execution_count": 64,
   "metadata": {},
   "outputs": [
    {
     "name": "stdout",
     "output_type": "stream",
     "text": [
      "Processing GTF: AgamP4.annotation.gtf\n",
      "Output GTF: /scratch/multiomics/nickyoungblut/star_refs/Anopheles_gambiae/Anopheles_gambiae/Anopheles_gambiae.gtf\n",
      "Total records in GTF: 230287\n",
      "Filtered 2221 records by biotype\n",
      "Filtered 0 records by tag\n",
      "-- Count of biotypes filtered --\n",
      "tRNA: 1086\n",
      "rRNA: 726\n",
      "pre_miRNA: 231\n",
      "snRNA: 105\n",
      "pseudogene: 40\n",
      "ncRNA: 12\n",
      "SRP_RNA: 9\n",
      "snoRNA: 6\n",
      "RNase_MRP_RNA: 3\n",
      "RNase_P_RNA: 3\n",
      "-- Count of biotypes kept --\n",
      "protein_coding: 443026\n",
      "lncRNA: 10\n",
      "----------------------------\n"
     ]
    }
   ],
   "source": [
    "# format the reference\n",
    "exe = os.path.join(script_dir, \"format-star-ref.py\")\n",
    "!{exe} --organism \"{organism}\"  --output-dir {work_dir} {gtf_file} "
   ]
  },
  {
   "cell_type": "code",
   "execution_count": 65,
   "metadata": {},
   "outputs": [
    {
     "data": {
      "text/plain": [
       "True"
      ]
     },
     "execution_count": 65,
     "metadata": {},
     "output_type": "execute_result"
    }
   ],
   "source": [
    "# set the filtered gtf file\n",
    "gtf_filt_file = os.path.join(work_dir, org_str, f\"{org_str}.gtf\")\n",
    "os.path.exists(gtf_filt_file)"
   ]
  },
  {
   "cell_type": "code",
   "execution_count": 66,
   "metadata": {},
   "outputs": [
    {
     "name": "stdout",
     "output_type": "stream",
     "text": [
      "\t/home/nickyoungblut/miniforge3/envs/asmbl/bin/STAR-avx2 --runThreadN 16 --runMode genomeGenerate --genomeDir /scratch/multiomics/nickyoungblut/star_refs/Anopheles_gambiae/star --genomeFastaFiles /scratch/multiomics/nickyoungblut/star_refs/Anopheles_gambiae/AgamP4/AgamP4.fa --sjdbGTFfile /scratch/multiomics/nickyoungblut/star_refs/Anopheles_gambiae/Anopheles_gambiae/Anopheles_gambiae.gtf --sjdbOverhang 100\n",
      "\tSTAR version: 2.7.11b   compiled: 2025-01-09T12:32:06+0000 :/opt/conda/conda-bld/star_1736425784849/work/source\n",
      "Feb 01 15:01:08 ..... started STAR run\n",
      "!!!!! WARNING: Could not move Log.out file from ./Log.out into /scratch/multiomics/nickyoungblut/star_refs/Anopheles_gambiae/star/Log.out. Will keep ./Log.out\n",
      "\n",
      "Feb 01 15:01:08 ... starting to generate Genome files\n",
      "Feb 01 15:01:12 ..... processing annotations GTF\n",
      "!!!!! WARNING: --genomeSAindexNbases 14 is too large for the genome size=283349351, which may cause seg-fault at the mapping step. Re-run genome generation with recommended --genomeSAindexNbases 13\n",
      "Feb 01 15:01:14 ... starting to sort Suffix Array. This may take a long time...\n",
      "Feb 01 15:01:15 ... sorting Suffix Array chunks and saving them to disk...\n",
      "Feb 01 15:01:40 ... loading chunks from disk, packing SA...\n",
      "Feb 01 15:01:46 ... finished generating suffix array\n",
      "Feb 01 15:01:46 ... generating Suffix Array index\n",
      "Feb 01 15:02:44 ... completed Suffix Array index\n",
      "Feb 01 15:02:44 ..... inserting junctions into the genome indices\n",
      "Feb 01 15:03:06 ... writing Genome to disk ...\n",
      "Feb 01 15:03:07 ... writing Suffix Array to disk ...\n",
      "Feb 01 15:03:08 ... writing SAindex to disk\n",
      "Feb 01 15:03:10 ..... finished successfully\n"
     ]
    }
   ],
   "source": [
    "# create the star index\n",
    "star_dir = os.path.join(work_dir, \"star\")\n",
    "os.makedirs(star_dir, exist_ok=True)\n",
    "\n",
    "!STAR --runThreadN 16 \\\n",
    "    --runMode genomeGenerate \\\n",
    "    --genomeDir {star_dir} \\\n",
    "    --genomeFastaFiles {fasta_file} \\\n",
    "    --sjdbGTFfile {gtf_filt_file} \\\n",
    "    --sjdbOverhang 100"
   ]
  },
  {
   "cell_type": "markdown",
   "metadata": {},
   "source": [
    "# Arabidopsis thaliana"
   ]
  },
  {
   "cell_type": "code",
   "execution_count": 68,
   "metadata": {},
   "outputs": [],
   "source": [
    "organism = \"Arabidopsis thaliana\"\n",
    "genome_name = \"TAIR10\""
   ]
  },
  {
   "cell_type": "code",
   "execution_count": 69,
   "metadata": {},
   "outputs": [],
   "source": [
    "# format\n",
    "org_str = organism.replace(\" \", \"_\")\n",
    "work_dir = os.path.join(base_dir, org_str)\n",
    "os.makedirs(work_dir, exist_ok=True)"
   ]
  },
  {
   "cell_type": "code",
   "execution_count": 70,
   "metadata": {},
   "outputs": [
    {
     "name": "stdout",
     "output_type": "stream",
     "text": [
      "\u001b[1mname                 provider accession         tax_id annotation species                                  other_info                              \u001b[0m\n",
      "\u001b[0mTAIR10               Ensembl  GCA_000001735.1     3702     \u001b[32m✓\u001b[39m      Arabidopsis thaliana                     Araport11                               \u001b[0m\n",
      "\u001b[0m\u001b[32m ^\u001b[0m\n",
      "\u001b[0m\u001b[32m Use name for \u001b[36mgenomepy install\u001b[0m\n",
      "\u001b[0m\u001b[0m"
     ]
    }
   ],
   "source": [
    "# show available assemblies\n",
    "!genomepy search --provider Ensembl {organism}"
   ]
  },
  {
   "cell_type": "code",
   "execution_count": 71,
   "metadata": {},
   "outputs": [
    {
     "name": "stdout",
     "output_type": "stream",
     "text": [
      "\u001b[32m15:04:59\u001b[0m \u001b[1m|\u001b[0m \u001b[34mINFO\u001b[0m \u001b[1m|\u001b[0m Downloading genome from Ensembl. Target URL: http://ftp.ensemblgenomes.org/pub/release-60/plants/fasta/arabidopsis_thaliana/dna/Arabidopsis_thaliana.TAIR10.dna_sm.toplevel.fa.gz...\n",
      "Download: 100%|████████████████████████████| 36.7M/36.7M [00:06<00:00, 6.08MB/s]\u001b[0m\u001b[0m\n",
      "\u001b[0m\u001b[32m15:05:05\u001b[0m \u001b[1m|\u001b[0m \u001b[34mINFO\u001b[0m \u001b[1m|\u001b[0m Genome download successful, starting post processing...\n",
      "\u001b[32m15:05:06\u001b[0m \u001b[1m|\u001b[0m \u001b[34mINFO\u001b[0m \u001b[1m|\u001b[0m name: TAIR10\n",
      "\u001b[32m15:05:06\u001b[0m \u001b[1m|\u001b[0m \u001b[34mINFO\u001b[0m \u001b[1m|\u001b[0m local name: TAIR10\n",
      "\u001b[32m15:05:06\u001b[0m \u001b[1m|\u001b[0m \u001b[34mINFO\u001b[0m \u001b[1m|\u001b[0m fasta: /scratch/multiomics/nickyoungblut/star_refs/Arabidopsis_thaliana/TAIR10/TAIR10.fa\n",
      "Filtering Fasta: 1.99M lines [00:00, 3.95M lines/s]\u001b[0m\u001b[0m\n",
      "\u001b[0m\u001b[32m15:05:09\u001b[0m \u001b[1m|\u001b[0m \u001b[34mINFO\u001b[0m \u001b[1m|\u001b[0m Downloading annotation from Ensembl. Target URL: http://ftp.ensemblgenomes.org/pub/release-60/plants/gtf/arabidopsis_thaliana/Arabidopsis_thaliana.TAIR10.60.gtf.gz...\n",
      "Download: 100%|████████████████████████████| 10.7M/10.7M [00:01<00:00, 10.4MB/s]\u001b[0m\u001b[0m\n",
      "\u001b[0m\u001b[32m15:05:13\u001b[0m \u001b[1m|\u001b[0m \u001b[34mINFO\u001b[0m \u001b[1m|\u001b[0m Annotation download successful\n",
      "\u001b[0m"
     ]
    }
   ],
   "source": [
    "# download genome\n",
    "!genomepy install --provider Ensembl --annotation --genomes_dir {work_dir} {genome_name}"
   ]
  },
  {
   "cell_type": "code",
   "execution_count": 72,
   "metadata": {},
   "outputs": [
    {
     "data": {
      "text/plain": [
       "'/scratch/multiomics/nickyoungblut/star_refs/Arabidopsis_thaliana/TAIR10/TAIR10.fa'"
      ]
     },
     "execution_count": 72,
     "metadata": {},
     "output_type": "execute_result"
    }
   ],
   "source": [
    "# get genome fasta\n",
    "fasta_file = glob(f\"{work_dir}/{genome_name}/*.fa\")[0]\n",
    "fasta_file"
   ]
  },
  {
   "cell_type": "code",
   "execution_count": 73,
   "metadata": {},
   "outputs": [
    {
     "data": {
      "text/plain": [
       "'/scratch/multiomics/nickyoungblut/star_refs/Arabidopsis_thaliana/TAIR10/TAIR10.annotation.gtf'"
      ]
     },
     "execution_count": 73,
     "metadata": {},
     "output_type": "execute_result"
    }
   ],
   "source": [
    "# get gtf file\n",
    "gtf_file = glob(f\"{work_dir}/{genome_name}/*.gtf\")[0]\n",
    "gtf_file"
   ]
  },
  {
   "cell_type": "code",
   "execution_count": 74,
   "metadata": {},
   "outputs": [
    {
     "name": "stdout",
     "output_type": "stream",
     "text": [
      "Processing GTF: TAIR10.annotation.gtf\n",
      "Output GTF: /scratch/multiomics/nickyoungblut/star_refs/Arabidopsis_thaliana/Arabidopsis_thaliana/Arabidopsis_thaliana.gtf\n",
      "Total records in GTF: 888095\n",
      "Filtered 6110 records by biotype\n",
      "Filtered 0 records by tag\n",
      "-- Count of biotypes filtered --\n",
      "tRNA: 2157\n",
      "ncRNA: 1464\n",
      "miRNA: 975\n",
      "snoRNA: 861\n",
      "nontranslating_CDS: 362\n",
      "snRNA: 246\n",
      "rRNA: 45\n",
      "-- Count of biotypes kept --\n",
      "protein_coding: 1710971\n",
      "lncRNA: 21987\n",
      "----------------------------\n"
     ]
    }
   ],
   "source": [
    "# format the reference\n",
    "exe = os.path.join(script_dir, \"format-star-ref.py\")\n",
    "!{exe} --organism \"{organism}\"  --output-dir {work_dir} {gtf_file} "
   ]
  },
  {
   "cell_type": "code",
   "execution_count": 75,
   "metadata": {},
   "outputs": [
    {
     "data": {
      "text/plain": [
       "True"
      ]
     },
     "execution_count": 75,
     "metadata": {},
     "output_type": "execute_result"
    }
   ],
   "source": [
    "# set the filtered gtf file\n",
    "gtf_filt_file = os.path.join(work_dir, org_str, f\"{org_str}.gtf\")\n",
    "os.path.exists(gtf_filt_file)"
   ]
  },
  {
   "cell_type": "code",
   "execution_count": 76,
   "metadata": {},
   "outputs": [
    {
     "name": "stdout",
     "output_type": "stream",
     "text": [
      "\t/home/nickyoungblut/miniforge3/envs/asmbl/bin/STAR-avx2 --runThreadN 16 --runMode genomeGenerate --genomeDir /scratch/multiomics/nickyoungblut/star_refs/Arabidopsis_thaliana/star --genomeFastaFiles /scratch/multiomics/nickyoungblut/star_refs/Arabidopsis_thaliana/TAIR10/TAIR10.fa --sjdbGTFfile /scratch/multiomics/nickyoungblut/star_refs/Arabidopsis_thaliana/Arabidopsis_thaliana/Arabidopsis_thaliana.gtf --sjdbOverhang 100\n",
      "\tSTAR version: 2.7.11b   compiled: 2025-01-09T12:32:06+0000 :/opt/conda/conda-bld/star_1736425784849/work/source\n",
      "Feb 01 15:05:52 ..... started STAR run\n",
      "!!!!! WARNING: Could not move Log.out file from ./Log.out into /scratch/multiomics/nickyoungblut/star_refs/Arabidopsis_thaliana/star/Log.out. Will keep ./Log.out\n",
      "\n",
      "Feb 01 15:05:52 ... starting to generate Genome files\n",
      "Feb 01 15:05:53 ..... processing annotations GTF\n",
      "!!!!! WARNING: --genomeSAindexNbases 14 is too large for the genome size=119667750, which may cause seg-fault at the mapping step. Re-run genome generation with recommended --genomeSAindexNbases 12\n",
      "Feb 01 15:05:56 ... starting to sort Suffix Array. This may take a long time...\n",
      "Feb 01 15:05:56 ... sorting Suffix Array chunks and saving them to disk...\n",
      "Feb 01 15:06:06 ... loading chunks from disk, packing SA...\n",
      "Feb 01 15:06:09 ... finished generating suffix array\n",
      "Feb 01 15:06:09 ... generating Suffix Array index\n",
      "Feb 01 15:06:34 ... completed Suffix Array index\n",
      "Feb 01 15:06:34 ..... inserting junctions into the genome indices\n",
      "Feb 01 15:07:12 ... writing Genome to disk ...\n",
      "Feb 01 15:07:12 ... writing Suffix Array to disk ...\n",
      "Feb 01 15:07:13 ... writing SAindex to disk\n",
      "Feb 01 15:07:14 ..... finished successfully\n"
     ]
    }
   ],
   "source": [
    "# create the star index\n",
    "star_dir = os.path.join(work_dir, \"star\")\n",
    "os.makedirs(star_dir, exist_ok=True)\n",
    "\n",
    "!STAR --runThreadN 16 \\\n",
    "    --runMode genomeGenerate \\\n",
    "    --genomeDir {star_dir} \\\n",
    "    --genomeFastaFiles {fasta_file} \\\n",
    "    --sjdbGTFfile {gtf_filt_file} \\\n",
    "    --sjdbOverhang 100"
   ]
  },
  {
   "cell_type": "markdown",
   "metadata": {},
   "source": [
    "# Oryza sativa"
   ]
  },
  {
   "cell_type": "code",
   "execution_count": 79,
   "metadata": {},
   "outputs": [],
   "source": [
    "organism = \"Oryza sativa\"\n",
    "genome_name = \"IRGSP-1.0\""
   ]
  },
  {
   "cell_type": "code",
   "execution_count": 80,
   "metadata": {},
   "outputs": [],
   "source": [
    "# format\n",
    "org_str = organism.replace(\" \", \"_\")\n",
    "work_dir = os.path.join(base_dir, org_str)\n",
    "os.makedirs(work_dir, exist_ok=True)"
   ]
  },
  {
   "cell_type": "code",
   "execution_count": 81,
   "metadata": {},
   "outputs": [
    {
     "name": "stdout",
     "output_type": "stream",
     "text": [
      "\u001b[1mname                 provider accession         tax_id annotation species                                  other_info                              \u001b[0m\n",
      "\u001b[0mOs127742RS1          Ensembl  GCA_009831045.1    39946     \u001b[32m✓\u001b[39m      Oryza sativa Indica Group                2020-12                                 \u001b[0m\n",
      "\u001b[0mMH63RS2              Ensembl  GCA_001618785.1    39946     \u001b[32m✓\u001b[39m      Oryza sativa Indica Group                2020-12                                 \u001b[0m\n",
      "\u001b[0mOs132424RS1          Ensembl  GCA_009831025.1    39946     \u001b[32m✓\u001b[39m      Oryza sativa Indica Group                2020-12                                 \u001b[0m\n",
      "\u001b[0mOsN22RS2             Ensembl  GCA_001952365.2  1736659     \u001b[32m✓\u001b[39m      Oryza sativa aus subgroup                2020-12                                 \u001b[0m\n",
      "\u001b[0mAzucenaRS1           Ensembl  GCA_009830595.1  1736656     \u001b[32m✓\u001b[39m      Oryza sativa tropical japonica subgroup  2020-12                                 \u001b[0m\n",
      "\u001b[0mIRGSP-1.0            Ensembl  GCA_001433935.1    39947     \u001b[32m✓\u001b[39m      Oryza sativa Japonica Group              2022-09-RAPDB/2019-06                   \u001b[0m\n",
      "\u001b[0mOsIR64RS1            Ensembl  GCA_009914875.1    39946     \u001b[32m✓\u001b[39m      Oryza sativa Indica Group                2020-12                                 \u001b[0m\n",
      "\u001b[0mZS97RS3              Ensembl  GCA_001618795.1    39946     \u001b[32m✓\u001b[39m      Oryza sativa Indica Group                2020-12                                 \u001b[0m\n",
      "\u001b[0mOs132278RS1          Ensembl  GCA_009831315.1  1736656     \u001b[32m✓\u001b[39m      Oryza sativa tropical japonica subgroup  2020-12                                 \u001b[0m\n",
      "\u001b[0mOs127652RS1          Ensembl  GCA_009831335.1  1736659     \u001b[32m✓\u001b[39m      Oryza sativa aus subgroup                2020-12                                 \u001b[0m\n",
      "\u001b[0mOs117425RS1          Ensembl  GCA_009831255.1  1736658     \u001b[32m✓\u001b[39m      Oryza sativa aromatic subgroup           2020-12                                 \u001b[0m\n",
      "\u001b[0mOs125827RS1          Ensembl  GCA_009829375.1    39946     \u001b[32m✓\u001b[39m      Oryza sativa Indica Group                2020-12                                 \u001b[0m\n",
      "\u001b[0mOs127518RS1          Ensembl  GCA_009831295.1    39946     \u001b[32m✓\u001b[39m      Oryza sativa Indica Group                2020-12                                 \u001b[0m\n",
      "\u001b[0mASM465v1             Ensembl  GCA_000004655.2    39946     \u001b[32m✓\u001b[39m      Oryza sativa Indica Group                2010-07-BGI                             \u001b[0m\n",
      "\u001b[0mOs125619RS1          Ensembl  GCA_009831355.1    39946     \u001b[32m✓\u001b[39m      Oryza sativa Indica Group                2020-12                                 \u001b[0m\n",
      "\u001b[0mOs127564RS1          Ensembl  GCA_009829395.1    39946     \u001b[32m✓\u001b[39m      Oryza sativa Indica Group                2020-12                                 \u001b[0m\n",
      "\u001b[0mOs128077RS1          Ensembl  GCA_009831275.1  1736656     \u001b[32m✓\u001b[39m      Oryza sativa tropical japonica subgroup  2020-12                                 \u001b[0m\n",
      "\u001b[0mOryza_nivara_v1.0    Ensembl  GCA_000576065.1     4536     \u001b[32m✓\u001b[39m      Oryza sativa f. spontanea                2013-09-OGE                             \u001b[0m\n",
      "\u001b[0m\u001b[32m ^\u001b[0m\n",
      "\u001b[0m\u001b[32m Use name for \u001b[36mgenomepy install\u001b[0m\n",
      "\u001b[0m\u001b[0m"
     ]
    }
   ],
   "source": [
    "# show available assemblies\n",
    "!genomepy search --provider Ensembl {organism}"
   ]
  },
  {
   "cell_type": "code",
   "execution_count": 82,
   "metadata": {},
   "outputs": [
    {
     "name": "stdout",
     "output_type": "stream",
     "text": [
      "\u001b[32m15:07:45\u001b[0m \u001b[1m|\u001b[0m \u001b[34mINFO\u001b[0m \u001b[1m|\u001b[0m Downloading genome from Ensembl. Target URL: http://ftp.ensemblgenomes.org/pub/release-60/plants/fasta/oryza_sativa/dna/Oryza_sativa.IRGSP-1.0.dna_sm.toplevel.fa.gz...\n",
      "Download: 100%|██████████████████████████████| 117M/117M [00:04<00:00, 26.6MB/s]\u001b[0m\u001b[0m\n",
      "\u001b[0m\u001b[32m15:07:50\u001b[0m \u001b[1m|\u001b[0m \u001b[34mINFO\u001b[0m \u001b[1m|\u001b[0m Genome download successful, starting post processing...\n",
      "\u001b[32m15:07:51\u001b[0m \u001b[1m|\u001b[0m \u001b[34mINFO\u001b[0m \u001b[1m|\u001b[0m name: IRGSP-1.0\n",
      "\u001b[32m15:07:51\u001b[0m \u001b[1m|\u001b[0m \u001b[34mINFO\u001b[0m \u001b[1m|\u001b[0m local name: IRGSP-1.0\n",
      "\u001b[32m15:07:51\u001b[0m \u001b[1m|\u001b[0m \u001b[34mINFO\u001b[0m \u001b[1m|\u001b[0m fasta: /scratch/multiomics/nickyoungblut/star_refs/Oryza_sativa/IRGSP-1.0/IRGSP-1.0.fa\n",
      "Filtering Fasta: 6.25M lines [00:01, 4.08M lines/s]\u001b[0m\u001b[0m\n",
      "\u001b[0m\u001b[32m15:07:58\u001b[0m \u001b[1m|\u001b[0m \u001b[34mINFO\u001b[0m \u001b[1m|\u001b[0m Downloading annotation from Ensembl. Target URL: http://ftp.ensemblgenomes.org/pub/release-60/plants/gtf/oryza_sativa/Oryza_sativa.IRGSP-1.0.60.gtf.gz...\n",
      "Download: 100%|████████████████████████████| 8.21M/8.21M [00:00<00:00, 9.46MB/s]\u001b[0m\u001b[0m\n",
      "\u001b[0m\u001b[32m15:08:02\u001b[0m \u001b[1m|\u001b[0m \u001b[34mINFO\u001b[0m \u001b[1m|\u001b[0m Annotation download successful\n",
      "\u001b[0m"
     ]
    }
   ],
   "source": [
    "# download genome\n",
    "!genomepy install --provider Ensembl --annotation --genomes_dir {work_dir} {genome_name}"
   ]
  },
  {
   "cell_type": "code",
   "execution_count": 83,
   "metadata": {},
   "outputs": [
    {
     "data": {
      "text/plain": [
       "'/scratch/multiomics/nickyoungblut/star_refs/Oryza_sativa/IRGSP-1.0/IRGSP-1.0.fa'"
      ]
     },
     "execution_count": 83,
     "metadata": {},
     "output_type": "execute_result"
    }
   ],
   "source": [
    "# get genome fasta\n",
    "fasta_file = glob(f\"{work_dir}/{genome_name}/*.fa\")[0]\n",
    "fasta_file"
   ]
  },
  {
   "cell_type": "code",
   "execution_count": 84,
   "metadata": {},
   "outputs": [
    {
     "data": {
      "text/plain": [
       "'/scratch/multiomics/nickyoungblut/star_refs/Oryza_sativa/IRGSP-1.0/IRGSP-1.0.annotation.gtf'"
      ]
     },
     "execution_count": 84,
     "metadata": {},
     "output_type": "execute_result"
    }
   ],
   "source": [
    "# get gtf file\n",
    "gtf_file = glob(f\"{work_dir}/{genome_name}/*.gtf\")[0]\n",
    "gtf_file"
   ]
  },
  {
   "cell_type": "code",
   "execution_count": 85,
   "metadata": {},
   "outputs": [
    {
     "name": "stdout",
     "output_type": "stream",
     "text": [
      "Processing GTF: IRGSP-1.0.annotation.gtf\n",
      "Output GTF: /scratch/multiomics/nickyoungblut/star_refs/Oryza_sativa/Oryza_sativa/Oryza_sativa.gtf\n",
      "Total records in GTF: 625162\n",
      "Filtered 12884 records by biotype\n",
      "Filtered 0 records by tag\n",
      "-- Count of biotypes filtered --\n",
      "ncRNA: 9816\n",
      "rRNA: 825\n",
      "tRNA: 734\n",
      "snoRNA: 648\n",
      "pre_miRNA: 291\n",
      "sense_intronic: 267\n",
      "snRNA: 249\n",
      "antisense_RNA: 18\n",
      "tRNA_pseudogene: 18\n",
      "SRP_RNA: 6\n",
      "nontranslating_CDS: 6\n",
      "RNase_MRP_RNA: 3\n",
      "pseudogene: 3\n",
      "-- Count of biotypes kept --\n",
      "protein_coding: 1186982\n",
      "----------------------------\n"
     ]
    }
   ],
   "source": [
    "# format the reference\n",
    "exe = os.path.join(script_dir, \"format-star-ref.py\")\n",
    "!{exe} --organism \"{organism}\"  --output-dir {work_dir} {gtf_file} "
   ]
  },
  {
   "cell_type": "code",
   "execution_count": 86,
   "metadata": {},
   "outputs": [
    {
     "data": {
      "text/plain": [
       "True"
      ]
     },
     "execution_count": 86,
     "metadata": {},
     "output_type": "execute_result"
    }
   ],
   "source": [
    "# set the filtered gtf file\n",
    "gtf_filt_file = os.path.join(work_dir, org_str, f\"{org_str}.gtf\")\n",
    "os.path.exists(gtf_filt_file)"
   ]
  },
  {
   "cell_type": "code",
   "execution_count": 87,
   "metadata": {},
   "outputs": [
    {
     "name": "stdout",
     "output_type": "stream",
     "text": [
      "\t/home/nickyoungblut/miniforge3/envs/asmbl/bin/STAR-avx2 --runThreadN 16 --runMode genomeGenerate --genomeDir /scratch/multiomics/nickyoungblut/star_refs/Oryza_sativa/star --genomeFastaFiles /scratch/multiomics/nickyoungblut/star_refs/Oryza_sativa/IRGSP-1.0/IRGSP-1.0.fa --sjdbGTFfile /scratch/multiomics/nickyoungblut/star_refs/Oryza_sativa/Oryza_sativa/Oryza_sativa.gtf --sjdbOverhang 100\n",
      "\tSTAR version: 2.7.11b   compiled: 2025-01-09T12:32:06+0000 :/opt/conda/conda-bld/star_1736425784849/work/source\n",
      "Feb 01 15:08:10 ..... started STAR run\n",
      "!!!!! WARNING: Could not move Log.out file from ./Log.out into /scratch/multiomics/nickyoungblut/star_refs/Oryza_sativa/star/Log.out. Will keep ./Log.out\n",
      "\n",
      "Feb 01 15:08:10 ... starting to generate Genome files\n",
      "Feb 01 15:08:15 ..... processing annotations GTF\n",
      "!!!!! WARNING: --genomeSAindexNbases 14 is too large for the genome size=375049285, which may cause seg-fault at the mapping step. Re-run genome generation with recommended --genomeSAindexNbases 13\n",
      "Feb 01 15:08:18 ... starting to sort Suffix Array. This may take a long time...\n",
      "Feb 01 15:08:19 ... sorting Suffix Array chunks and saving them to disk...\n",
      "Feb 01 15:08:59 ... loading chunks from disk, packing SA...\n",
      "Feb 01 15:09:07 ... finished generating suffix array\n",
      "Feb 01 15:09:07 ... generating Suffix Array index\n",
      "Feb 01 15:10:18 ... completed Suffix Array index\n",
      "Feb 01 15:10:18 ..... inserting junctions into the genome indices\n",
      "Feb 01 15:11:00 ... writing Genome to disk ...\n",
      "Feb 01 15:11:00 ... writing Suffix Array to disk ...\n",
      "Feb 01 15:11:03 ... writing SAindex to disk\n",
      "Feb 01 15:11:04 ..... finished successfully\n"
     ]
    }
   ],
   "source": [
    "# create the star index\n",
    "star_dir = os.path.join(work_dir, \"star\")\n",
    "os.makedirs(star_dir, exist_ok=True)\n",
    "\n",
    "!STAR --runThreadN 16 \\\n",
    "    --runMode genomeGenerate \\\n",
    "    --genomeDir {star_dir} \\\n",
    "    --genomeFastaFiles {fasta_file} \\\n",
    "    --sjdbGTFfile {gtf_filt_file} \\\n",
    "    --sjdbOverhang 100"
   ]
  },
  {
   "cell_type": "markdown",
   "metadata": {},
   "source": [
    "# Solanum lycopersicum"
   ]
  },
  {
   "cell_type": "code",
   "execution_count": 88,
   "metadata": {},
   "outputs": [],
   "source": [
    "organism = \"Solanum lycopersicum\"\n",
    "genome_name = \"SL3.0\""
   ]
  },
  {
   "cell_type": "code",
   "execution_count": 89,
   "metadata": {},
   "outputs": [],
   "source": [
    "# format\n",
    "org_str = organism.replace(\" \", \"_\")\n",
    "work_dir = os.path.join(base_dir, org_str)\n",
    "os.makedirs(work_dir, exist_ok=True)"
   ]
  },
  {
   "cell_type": "code",
   "execution_count": 90,
   "metadata": {},
   "outputs": [
    {
     "name": "stdout",
     "output_type": "stream",
     "text": [
      "\u001b[1mname                 provider accession         tax_id annotation species                                  other_info                              \u001b[0m\n",
      "\u001b[0mSL3.0                Ensembl  GCA_000188115.3     4081     \u001b[32m✓\u001b[39m      Solanum lycopersicum                     2017-02-SOL/2018-10                     \u001b[0m\n",
      "\u001b[0m\u001b[32m ^\u001b[0m\n",
      "\u001b[0m\u001b[32m Use name for \u001b[36mgenomepy install\u001b[0m\n",
      "\u001b[0m\u001b[0m"
     ]
    }
   ],
   "source": [
    "# show available assemblies\n",
    "!genomepy search --provider Ensembl {organism}"
   ]
  },
  {
   "cell_type": "code",
   "execution_count": 91,
   "metadata": {},
   "outputs": [
    {
     "name": "stdout",
     "output_type": "stream",
     "text": [
      "\u001b[32m15:17:35\u001b[0m \u001b[1m|\u001b[0m \u001b[34mINFO\u001b[0m \u001b[1m|\u001b[0m Downloading genome from Ensembl. Target URL: http://ftp.ensemblgenomes.org/pub/release-60/plants/fasta/solanum_lycopersicum/dna/Solanum_lycopersicum.SL3.0.dna_sm.toplevel.fa.gz...\n",
      "Download: 100%|██████████████████████████████| 229M/229M [00:08<00:00, 30.0MB/s]\u001b[0m\u001b[0m\n",
      "\u001b[0m\u001b[32m15:17:44\u001b[0m \u001b[1m|\u001b[0m \u001b[34mINFO\u001b[0m \u001b[1m|\u001b[0m Genome download successful, starting post processing...\n",
      "\u001b[32m15:17:47\u001b[0m \u001b[1m|\u001b[0m \u001b[34mINFO\u001b[0m \u001b[1m|\u001b[0m name: SL3.0\n",
      "\u001b[32m15:17:47\u001b[0m \u001b[1m|\u001b[0m \u001b[34mINFO\u001b[0m \u001b[1m|\u001b[0m local name: SL3.0\n",
      "\u001b[32m15:17:47\u001b[0m \u001b[1m|\u001b[0m \u001b[34mINFO\u001b[0m \u001b[1m|\u001b[0m fasta: /scratch/multiomics/nickyoungblut/star_refs/Solanum_lycopersicum/SL3.0/SL3.0.fa\n",
      "Filtering Fasta: 13.8M lines [00:03, 4.02M lines/s]\u001b[0m\u001b[0m\n",
      "\u001b[0m\u001b[32m15:18:03\u001b[0m \u001b[1m|\u001b[0m \u001b[34mINFO\u001b[0m \u001b[1m|\u001b[0m Downloading annotation from Ensembl. Target URL: http://ftp.ensemblgenomes.org/pub/release-60/plants/gtf/solanum_lycopersicum/Solanum_lycopersicum.SL3.0.60.gtf.gz...\n",
      "Download: 100%|████████████████████████████| 6.87M/6.87M [00:00<00:00, 8.37MB/s]\u001b[0m\u001b[0m\n",
      "\u001b[0m\u001b[32m15:18:05\u001b[0m \u001b[1m|\u001b[0m \u001b[34mINFO\u001b[0m \u001b[1m|\u001b[0m Annotation download successful\n",
      "\u001b[0m"
     ]
    }
   ],
   "source": [
    "# download genome\n",
    "!genomepy install --provider Ensembl --annotation --genomes_dir {work_dir} {genome_name}"
   ]
  },
  {
   "cell_type": "code",
   "execution_count": 92,
   "metadata": {},
   "outputs": [
    {
     "data": {
      "text/plain": [
       "'/scratch/multiomics/nickyoungblut/star_refs/Solanum_lycopersicum/SL3.0/SL3.0.fa'"
      ]
     },
     "execution_count": 92,
     "metadata": {},
     "output_type": "execute_result"
    }
   ],
   "source": [
    "# get genome fasta\n",
    "fasta_file = glob(f\"{work_dir}/{genome_name}/*.fa\")[0]\n",
    "fasta_file"
   ]
  },
  {
   "cell_type": "code",
   "execution_count": 93,
   "metadata": {},
   "outputs": [
    {
     "data": {
      "text/plain": [
       "'/scratch/multiomics/nickyoungblut/star_refs/Solanum_lycopersicum/SL3.0/SL3.0.annotation.gtf'"
      ]
     },
     "execution_count": 93,
     "metadata": {},
     "output_type": "execute_result"
    }
   ],
   "source": [
    "# get gtf file\n",
    "gtf_file = glob(f\"{work_dir}/{genome_name}/*.gtf\")[0]\n",
    "gtf_file"
   ]
  },
  {
   "cell_type": "code",
   "execution_count": 94,
   "metadata": {},
   "outputs": [
    {
     "name": "stdout",
     "output_type": "stream",
     "text": [
      "Processing GTF: SL3.0.annotation.gtf\n",
      "Output GTF: /scratch/multiomics/nickyoungblut/star_refs/Solanum_lycopersicum/Solanum_lycopersicum/Solanum_lycopersicum.gtf\n",
      "Total records in GTF: 526279\n",
      "Filtered 4997 records by biotype\n",
      "Filtered 0 records by tag\n",
      "-- Count of biotypes filtered --\n",
      "nontranslating_CDS: 1496\n",
      "tRNA: 1356\n",
      "snRNA: 666\n",
      "rRNA: 588\n",
      "snoRNA: 498\n",
      "pre_miRNA: 168\n",
      "SRP_RNA: 126\n",
      "sense_intronic: 78\n",
      "antisense_RNA: 12\n",
      "RNase_MRP_RNA: 6\n",
      "ncRNA: 3\n",
      "-- Count of biotypes kept --\n",
      "protein_coding: 1008135\n",
      "----------------------------\n"
     ]
    }
   ],
   "source": [
    "# format the reference\n",
    "exe = os.path.join(script_dir, \"format-star-ref.py\")\n",
    "!{exe} --organism \"{organism}\"  --output-dir {work_dir} {gtf_file} "
   ]
  },
  {
   "cell_type": "code",
   "execution_count": 95,
   "metadata": {},
   "outputs": [
    {
     "data": {
      "text/plain": [
       "True"
      ]
     },
     "execution_count": 95,
     "metadata": {},
     "output_type": "execute_result"
    }
   ],
   "source": [
    "# set the filtered gtf file\n",
    "gtf_filt_file = os.path.join(work_dir, org_str, f\"{org_str}.gtf\")\n",
    "os.path.exists(gtf_filt_file)"
   ]
  },
  {
   "cell_type": "code",
   "execution_count": 96,
   "metadata": {},
   "outputs": [
    {
     "name": "stdout",
     "output_type": "stream",
     "text": [
      "\t/home/nickyoungblut/miniforge3/envs/asmbl/bin/STAR-avx2 --runThreadN 16 --runMode genomeGenerate --genomeDir /scratch/multiomics/nickyoungblut/star_refs/Solanum_lycopersicum/star --genomeFastaFiles /scratch/multiomics/nickyoungblut/star_refs/Solanum_lycopersicum/SL3.0/SL3.0.fa --sjdbGTFfile /scratch/multiomics/nickyoungblut/star_refs/Solanum_lycopersicum/Solanum_lycopersicum/Solanum_lycopersicum.gtf --sjdbOverhang 100\n",
      "\tSTAR version: 2.7.11b   compiled: 2025-01-09T12:32:06+0000 :/opt/conda/conda-bld/star_1736425784849/work/source\n",
      "Feb 01 15:18:12 ..... started STAR run\n",
      "!!!!! WARNING: Could not move Log.out file from ./Log.out into /scratch/multiomics/nickyoungblut/star_refs/Solanum_lycopersicum/star/Log.out. Will keep ./Log.out\n",
      "\n",
      "Feb 01 15:18:12 ... starting to generate Genome files\n",
      "Feb 01 15:18:26 ..... processing annotations GTF\n",
      "!!!!! WARNING: --genomeSAindexNbases 14 is too large for the genome size=827747456, which may cause seg-fault at the mapping step. Re-run genome generation with recommended --genomeSAindexNbases 13\n",
      "Feb 01 15:18:32 ... starting to sort Suffix Array. This may take a long time...\n",
      "Feb 01 15:18:35 ... sorting Suffix Array chunks and saving them to disk...\n",
      "Feb 01 15:20:01 ... loading chunks from disk, packing SA...\n",
      "Feb 01 15:20:18 ... finished generating suffix array\n",
      "Feb 01 15:20:18 ... generating Suffix Array index\n",
      "Feb 01 15:21:58 ... completed Suffix Array index\n",
      "Feb 01 15:21:58 ..... inserting junctions into the genome indices\n",
      "Feb 01 15:22:54 ... writing Genome to disk ...\n",
      "Feb 01 15:22:55 ... writing Suffix Array to disk ...\n",
      "Feb 01 15:23:01 ... writing SAindex to disk\n",
      "Feb 01 15:23:03 ..... finished successfully\n"
     ]
    }
   ],
   "source": [
    "# create the star index\n",
    "star_dir = os.path.join(work_dir, \"star\")\n",
    "os.makedirs(star_dir, exist_ok=True)\n",
    "\n",
    "!STAR --runThreadN 16 \\\n",
    "    --runMode genomeGenerate \\\n",
    "    --genomeDir {star_dir} \\\n",
    "    --genomeFastaFiles {fasta_file} \\\n",
    "    --sjdbGTFfile {gtf_filt_file} \\\n",
    "    --sjdbOverhang 100"
   ]
  },
  {
   "cell_type": "markdown",
   "metadata": {},
   "source": [
    "# Zea mays"
   ]
  },
  {
   "cell_type": "code",
   "execution_count": 97,
   "metadata": {},
   "outputs": [],
   "source": [
    "organism = \"Zea mays\"\n",
    "genome_name = \"Zm-B73-REFERENCE-NAM-5.0\""
   ]
  },
  {
   "cell_type": "code",
   "execution_count": 98,
   "metadata": {},
   "outputs": [],
   "source": [
    "# format\n",
    "org_str = organism.replace(\" \", \"_\")\n",
    "work_dir = os.path.join(base_dir, org_str)\n",
    "os.makedirs(work_dir, exist_ok=True)"
   ]
  },
  {
   "cell_type": "code",
   "execution_count": 99,
   "metadata": {},
   "outputs": [
    {
     "name": "stdout",
     "output_type": "stream",
     "text": [
      "\u001b[1mname                 provider accession         tax_id annotation species                                  other_info                              \u001b[0m\n",
      "\u001b[0mZm-B73-REFERENCE-NAM-5.0 Ensembl  GCA_902167145.1     4577     \u001b[32m✓\u001b[39m      Zea mays                                 2019-12-CSHL/2019-12                    \u001b[0m\n",
      "\u001b[0m\u001b[32m ^\u001b[0m\n",
      "\u001b[0m\u001b[32m Use name for \u001b[36mgenomepy install\u001b[0m\n",
      "\u001b[0m\u001b[0m"
     ]
    }
   ],
   "source": [
    "# show available assemblies\n",
    "!genomepy search --provider Ensembl {organism}"
   ]
  },
  {
   "cell_type": "code",
   "execution_count": 100,
   "metadata": {},
   "outputs": [
    {
     "name": "stdout",
     "output_type": "stream",
     "text": [
      "\u001b[32m15:23:10\u001b[0m \u001b[1m|\u001b[0m \u001b[34mINFO\u001b[0m \u001b[1m|\u001b[0m Downloading genome from Ensembl. Target URL: http://ftp.ensemblgenomes.org/pub/release-60/plants/fasta/zea_mays/dna/Zea_mays.Zm-B73-REFERENCE-NAM-5.0.dna_sm.toplevel.fa.gz...\n",
      "Download: 100%|██████████████████████████████| 641M/641M [00:21<00:00, 31.9MB/s]\u001b[0m\u001b[0m\n",
      "\u001b[0m\u001b[32m15:23:31\u001b[0m \u001b[1m|\u001b[0m \u001b[34mINFO\u001b[0m \u001b[1m|\u001b[0m Genome download successful, starting post processing...\n",
      "\u001b[32m15:23:41\u001b[0m \u001b[1m|\u001b[0m \u001b[34mINFO\u001b[0m \u001b[1m|\u001b[0m name: Zm-B73-REFERENCE-NAM-5.0\n",
      "\u001b[32m15:23:41\u001b[0m \u001b[1m|\u001b[0m \u001b[34mINFO\u001b[0m \u001b[1m|\u001b[0m local name: Zm-B73-REFERENCE-NAM-5.0\n",
      "\u001b[32m15:23:41\u001b[0m \u001b[1m|\u001b[0m \u001b[34mINFO\u001b[0m \u001b[1m|\u001b[0m fasta: /scratch/multiomics/nickyoungblut/star_refs/Zea_mays/Zm-B73-REFERENCE-NAM-5.0/Zm-B73-REFERENCE-NAM-5.0.fa\n",
      "Filtering Fasta: 36.4M lines [00:08, 4.19M lines/s]\u001b[0m\u001b[0m\n",
      "\u001b[0m\u001b[32m15:24:22\u001b[0m \u001b[1m|\u001b[0m \u001b[34mINFO\u001b[0m \u001b[1m|\u001b[0m Downloading annotation from Ensembl. Target URL: http://ftp.ensemblgenomes.org/pub/release-60/plants/gtf/zea_mays/Zea_mays.Zm-B73-REFERENCE-NAM-5.0.60.gtf.gz...\n",
      "Download: 100%|████████████████████████████| 14.2M/14.2M [00:01<00:00, 13.5MB/s]\u001b[0m\u001b[0m\n",
      "\u001b[0m\u001b[32m15:24:27\u001b[0m \u001b[1m|\u001b[0m \u001b[34mINFO\u001b[0m \u001b[1m|\u001b[0m Annotation download successful\n",
      "\u001b[0m"
     ]
    }
   ],
   "source": [
    "# download genome\n",
    "!genomepy install --provider Ensembl --annotation --genomes_dir {work_dir} {genome_name}"
   ]
  },
  {
   "cell_type": "code",
   "execution_count": 101,
   "metadata": {},
   "outputs": [
    {
     "data": {
      "text/plain": [
       "'/scratch/multiomics/nickyoungblut/star_refs/Zea_mays/Zm-B73-REFERENCE-NAM-5.0/Zm-B73-REFERENCE-NAM-5.0.fa'"
      ]
     },
     "execution_count": 101,
     "metadata": {},
     "output_type": "execute_result"
    }
   ],
   "source": [
    "# get genome fasta\n",
    "fasta_file = glob(f\"{work_dir}/{genome_name}/*.fa\")[0]\n",
    "fasta_file"
   ]
  },
  {
   "cell_type": "code",
   "execution_count": 102,
   "metadata": {},
   "outputs": [
    {
     "data": {
      "text/plain": [
       "'/scratch/multiomics/nickyoungblut/star_refs/Zea_mays/Zm-B73-REFERENCE-NAM-5.0/Zm-B73-REFERENCE-NAM-5.0.annotation.gtf'"
      ]
     },
     "execution_count": 102,
     "metadata": {},
     "output_type": "execute_result"
    }
   ],
   "source": [
    "# get gtf file\n",
    "gtf_file = glob(f\"{work_dir}/{genome_name}/*.gtf\")[0]\n",
    "gtf_file"
   ]
  },
  {
   "cell_type": "code",
   "execution_count": 103,
   "metadata": {},
   "outputs": [
    {
     "name": "stdout",
     "output_type": "stream",
     "text": [
      "Processing GTF: Zm-B73-REFERENCE-NAM-5.0.annotation.gtf\n",
      "Output GTF: /scratch/multiomics/nickyoungblut/star_refs/Zea_mays/Zea_mays/Zea_mays.gtf\n",
      "Total records in GTF: 1302218\n",
      "Filtered 18078 records by biotype\n",
      "Filtered 0 records by tag\n",
      "-- Count of biotypes filtered --\n",
      "misc_non_coding: 18078\n",
      "-- Count of biotypes kept --\n",
      "protein_coding: 2528524\n",
      "----------------------------\n"
     ]
    }
   ],
   "source": [
    "# format the reference\n",
    "exe = os.path.join(script_dir, \"format-star-ref.py\")\n",
    "!{exe} --organism \"{organism}\"  --output-dir {work_dir} {gtf_file} "
   ]
  },
  {
   "cell_type": "code",
   "execution_count": 104,
   "metadata": {},
   "outputs": [
    {
     "data": {
      "text/plain": [
       "True"
      ]
     },
     "execution_count": 104,
     "metadata": {},
     "output_type": "execute_result"
    }
   ],
   "source": [
    "# set the filtered gtf file\n",
    "gtf_filt_file = os.path.join(work_dir, org_str, f\"{org_str}.gtf\")\n",
    "os.path.exists(gtf_filt_file)"
   ]
  },
  {
   "cell_type": "code",
   "execution_count": 105,
   "metadata": {},
   "outputs": [
    {
     "name": "stdout",
     "output_type": "stream",
     "text": [
      "\t/home/nickyoungblut/miniforge3/envs/asmbl/bin/STAR-avx2 --runThreadN 16 --runMode genomeGenerate --genomeDir /scratch/multiomics/nickyoungblut/star_refs/Zea_mays/star --genomeFastaFiles /scratch/multiomics/nickyoungblut/star_refs/Zea_mays/Zm-B73-REFERENCE-NAM-5.0/Zm-B73-REFERENCE-NAM-5.0.fa --sjdbGTFfile /scratch/multiomics/nickyoungblut/star_refs/Zea_mays/Zea_mays/Zea_mays.gtf --sjdbOverhang 100\n",
      "\tSTAR version: 2.7.11b   compiled: 2025-01-09T12:32:06+0000 :/opt/conda/conda-bld/star_1736425784849/work/source\n",
      "Feb 01 15:24:44 ..... started STAR run\n",
      "!!!!! WARNING: Could not move Log.out file from ./Log.out into /scratch/multiomics/nickyoungblut/star_refs/Zea_mays/star/Log.out. Will keep ./Log.out\n",
      "\n",
      "Feb 01 15:24:44 ... starting to generate Genome files\n",
      "Feb 01 15:25:13 ..... processing annotations GTF\n",
      "Feb 01 15:25:23 ... starting to sort Suffix Array. This may take a long time...\n",
      "Feb 01 15:25:30 ... sorting Suffix Array chunks and saving them to disk...\n",
      "Feb 01 15:33:25 ... loading chunks from disk, packing SA...\n",
      "Feb 01 15:34:19 ... finished generating suffix array\n",
      "Feb 01 15:34:19 ... generating Suffix Array index\n",
      "Feb 01 15:37:23 ... completed Suffix Array index\n",
      "Feb 01 15:37:23 ..... inserting junctions into the genome indices\n",
      "Feb 01 15:39:05 ... writing Genome to disk ...\n",
      "Feb 01 15:39:07 ... writing Suffix Array to disk ...\n",
      "Feb 01 15:39:29 ... writing SAindex to disk\n",
      "Feb 01 15:39:32 ..... finished successfully\n"
     ]
    }
   ],
   "source": [
    "# create the star index\n",
    "star_dir = os.path.join(work_dir, \"star\")\n",
    "os.makedirs(star_dir, exist_ok=True)\n",
    "\n",
    "!STAR --runThreadN 16 \\\n",
    "    --runMode genomeGenerate \\\n",
    "    --genomeDir {star_dir} \\\n",
    "    --genomeFastaFiles {fasta_file} \\\n",
    "    --sjdbGTFfile {gtf_filt_file} \\\n",
    "    --sjdbOverhang 100"
   ]
  },
  {
   "cell_type": "markdown",
   "metadata": {},
   "source": [
    "# Saccharomyces cerevisiae"
   ]
  },
  {
   "cell_type": "code",
   "execution_count": 106,
   "metadata": {},
   "outputs": [],
   "source": [
    "organism = \"Saccharomyces cerevisiae\"\n",
    "genome_name = \"R64-1-1\""
   ]
  },
  {
   "cell_type": "code",
   "execution_count": 107,
   "metadata": {},
   "outputs": [],
   "source": [
    "# format\n",
    "org_str = organism.replace(\" \", \"_\")\n",
    "work_dir = os.path.join(base_dir, org_str)\n",
    "os.makedirs(work_dir, exist_ok=True)"
   ]
  },
  {
   "cell_type": "code",
   "execution_count": 108,
   "metadata": {},
   "outputs": [
    {
     "name": "stdout",
     "output_type": "stream",
     "text": [
      "\u001b[1mname                 provider accession         tax_id annotation species                                  other_info                              \u001b[0m\n",
      "\u001b[0mR64-1-1              Ensembl  GCA_000146045.2   559292     \u001b[32m✓\u001b[39m      Saccharomyces cerevisiae S288c           2018-08-SGD                             \u001b[0m\n",
      "\u001b[0m\u001b[32m ^\u001b[0m\n",
      "\u001b[0m\u001b[32m Use name for \u001b[36mgenomepy install\u001b[0m\n",
      "\u001b[0m\u001b[0m"
     ]
    }
   ],
   "source": [
    "# show available assemblies\n",
    "!genomepy search --provider Ensembl {organism}"
   ]
  },
  {
   "cell_type": "code",
   "execution_count": 109,
   "metadata": {},
   "outputs": [
    {
     "name": "stdout",
     "output_type": "stream",
     "text": [
      "\u001b[32m15:43:35\u001b[0m \u001b[1m|\u001b[0m \u001b[34mINFO\u001b[0m \u001b[1m|\u001b[0m Downloading genome from Ensembl. Target URL: http://ftp.ensembl.org/pub/release-113/fasta/saccharomyces_cerevisiae/dna/Saccharomyces_cerevisiae.R64-1-1.dna_sm.toplevel.fa.gz...\n",
      "Download: 100%|████████████████████████████| 3.69M/3.69M [00:00<00:00, 5.33MB/s]\u001b[0m\u001b[0m\n",
      "\u001b[0m\u001b[32m15:43:36\u001b[0m \u001b[1m|\u001b[0m \u001b[34mINFO\u001b[0m \u001b[1m|\u001b[0m Genome download successful, starting post processing...\n",
      "\u001b[32m15:43:36\u001b[0m \u001b[1m|\u001b[0m \u001b[34mINFO\u001b[0m \u001b[1m|\u001b[0m name: R64-1-1\n",
      "\u001b[32m15:43:36\u001b[0m \u001b[1m|\u001b[0m \u001b[34mINFO\u001b[0m \u001b[1m|\u001b[0m local name: R64-1-1\n",
      "\u001b[32m15:43:36\u001b[0m \u001b[1m|\u001b[0m \u001b[34mINFO\u001b[0m \u001b[1m|\u001b[0m fasta: /scratch/multiomics/nickyoungblut/star_refs/Saccharomyces_cerevisiae/R64-1-1/R64-1-1.fa\n",
      "Filtering Fasta: 203k lines [00:00, 3.30M lines/s]\u001b[0m\n",
      "\u001b[0m\u001b[32m15:43:37\u001b[0m \u001b[1m|\u001b[0m \u001b[34mINFO\u001b[0m \u001b[1m|\u001b[0m Downloading annotation from Ensembl. Target URL: http://ftp.ensembl.org/pub/release-113/gtf/saccharomyces_cerevisiae/Saccharomyces_cerevisiae.R64-1-1.113.gtf.gz...\n",
      "Download: 100%|███████████████████████████████| 581k/581k [00:00<00:00, 947kB/s]\u001b[0m\u001b[0m\n",
      "\u001b[0m\u001b[32m15:43:38\u001b[0m \u001b[1m|\u001b[0m \u001b[34mINFO\u001b[0m \u001b[1m|\u001b[0m Annotation download successful\n",
      "\u001b[0m"
     ]
    }
   ],
   "source": [
    "# download genome\n",
    "!genomepy install --provider Ensembl --annotation --genomes_dir {work_dir} {genome_name}"
   ]
  },
  {
   "cell_type": "code",
   "execution_count": 110,
   "metadata": {},
   "outputs": [
    {
     "data": {
      "text/plain": [
       "'/scratch/multiomics/nickyoungblut/star_refs/Saccharomyces_cerevisiae/R64-1-1/R64-1-1.fa'"
      ]
     },
     "execution_count": 110,
     "metadata": {},
     "output_type": "execute_result"
    }
   ],
   "source": [
    "# get genome fasta\n",
    "fasta_file = glob(f\"{work_dir}/{genome_name}/*.fa\")[0]\n",
    "fasta_file"
   ]
  },
  {
   "cell_type": "code",
   "execution_count": 111,
   "metadata": {},
   "outputs": [
    {
     "data": {
      "text/plain": [
       "'/scratch/multiomics/nickyoungblut/star_refs/Saccharomyces_cerevisiae/R64-1-1/R64-1-1.annotation.gtf'"
      ]
     },
     "execution_count": 111,
     "metadata": {},
     "output_type": "execute_result"
    }
   ],
   "source": [
    "# get gtf file\n",
    "gtf_file = glob(f\"{work_dir}/{genome_name}/*.gtf\")[0]\n",
    "gtf_file"
   ]
  },
  {
   "cell_type": "code",
   "execution_count": 112,
   "metadata": {},
   "outputs": [
    {
     "name": "stdout",
     "output_type": "stream",
     "text": [
      "Processing GTF: R64-1-1.annotation.gtf\n",
      "Output GTF: /scratch/multiomics/nickyoungblut/star_refs/Saccharomyces_cerevisiae/Saccharomyces_cerevisiae/Saccharomyces_cerevisiae.gtf\n",
      "Total records in GTF: 41879\n",
      "Filtered 1594 records by biotype\n",
      "Filtered 0 records by tag\n",
      "-- Count of biotypes filtered --\n",
      "tRNA: 957\n",
      "transposable_element: 273\n",
      "snoRNA: 233\n",
      "rRNA: 77\n",
      "pseudogene: 36\n",
      "snRNA: 18\n",
      "-- Count of biotypes kept --\n",
      "protein_coding: 73862\n",
      "ncRNA: 90\n",
      "----------------------------\n"
     ]
    }
   ],
   "source": [
    "# format the reference\n",
    "exe = os.path.join(script_dir, \"format-star-ref.py\")\n",
    "!{exe} --organism \"{organism}\"  --output-dir {work_dir} {gtf_file} "
   ]
  },
  {
   "cell_type": "code",
   "execution_count": 113,
   "metadata": {},
   "outputs": [
    {
     "data": {
      "text/plain": [
       "True"
      ]
     },
     "execution_count": 113,
     "metadata": {},
     "output_type": "execute_result"
    }
   ],
   "source": [
    "# set the filtered gtf file\n",
    "gtf_filt_file = os.path.join(work_dir, org_str, f\"{org_str}.gtf\")\n",
    "os.path.exists(gtf_filt_file)"
   ]
  },
  {
   "cell_type": "code",
   "execution_count": 114,
   "metadata": {},
   "outputs": [
    {
     "name": "stdout",
     "output_type": "stream",
     "text": [
      "\t/home/nickyoungblut/miniforge3/envs/asmbl/bin/STAR-avx2 --runThreadN 16 --runMode genomeGenerate --genomeDir /scratch/multiomics/nickyoungblut/star_refs/Saccharomyces_cerevisiae/star --genomeFastaFiles /scratch/multiomics/nickyoungblut/star_refs/Saccharomyces_cerevisiae/R64-1-1/R64-1-1.fa --sjdbGTFfile /scratch/multiomics/nickyoungblut/star_refs/Saccharomyces_cerevisiae/Saccharomyces_cerevisiae/Saccharomyces_cerevisiae.gtf --sjdbOverhang 100\n",
      "\tSTAR version: 2.7.11b   compiled: 2025-01-09T12:32:06+0000 :/opt/conda/conda-bld/star_1736425784849/work/source\n",
      "Feb 01 15:43:47 ..... started STAR run\n",
      "!!!!! WARNING: Could not move Log.out file from ./Log.out into /scratch/multiomics/nickyoungblut/star_refs/Saccharomyces_cerevisiae/star/Log.out. Will keep ./Log.out\n",
      "\n",
      "Feb 01 15:43:47 ... starting to generate Genome files\n",
      "Feb 01 15:43:47 ..... processing annotations GTF\n",
      "!!!!! WARNING: --genomeSAindexNbases 14 is too large for the genome size=12157105, which may cause seg-fault at the mapping step. Re-run genome generation with recommended --genomeSAindexNbases 10\n",
      "Feb 01 15:43:47 ... starting to sort Suffix Array. This may take a long time...\n",
      "Feb 01 15:43:47 ... sorting Suffix Array chunks and saving them to disk...\n",
      "Feb 01 15:43:48 ... loading chunks from disk, packing SA...\n",
      "Feb 01 15:43:48 ... finished generating suffix array\n",
      "Feb 01 15:43:48 ... generating Suffix Array index\n",
      "Feb 01 15:43:53 ... completed Suffix Array index\n",
      "Feb 01 15:43:53 ..... inserting junctions into the genome indices\n",
      "Feb 01 15:43:59 ... writing Genome to disk ...\n",
      "Feb 01 15:43:59 ... writing Suffix Array to disk ...\n",
      "Feb 01 15:43:59 ... writing SAindex to disk\n",
      "Feb 01 15:44:00 ..... finished successfully\n"
     ]
    }
   ],
   "source": [
    "# create the star index\n",
    "star_dir = os.path.join(work_dir, \"star\")\n",
    "os.makedirs(star_dir, exist_ok=True)\n",
    "\n",
    "!STAR --runThreadN 16 \\\n",
    "    --runMode genomeGenerate \\\n",
    "    --genomeDir {star_dir} \\\n",
    "    --genomeFastaFiles {fasta_file} \\\n",
    "    --sjdbGTFfile {gtf_filt_file} \\\n",
    "    --sjdbOverhang 100"
   ]
  },
  {
   "cell_type": "markdown",
   "metadata": {},
   "source": [
    "# sessionInfo"
   ]
  },
  {
   "cell_type": "code",
   "execution_count": 116,
   "metadata": {},
   "outputs": [
    {
     "name": "stdout",
     "output_type": "stream",
     "text": [
      "# packages in environment at /home/nickyoungblut/miniforge3/envs/asmbl:\n",
      "#\n",
      "# Name                    Version                   Build  Channel\n",
      "_libgcc_mutex             0.1                 conda_forge    conda-forge\n",
      "_openmp_mutex             4.5                       2_gnu    conda-forge\n",
      "alsa-lib                  1.2.11               hd590300_1    conda-forge\n",
      "anyio                     4.8.0              pyhd8ed1ab_0    conda-forge\n",
      "appdirs                   1.4.4              pyhd8ed1ab_1    conda-forge\n",
      "asttokens                 2.4.1              pyhd8ed1ab_0    conda-forge\n",
      "bash                      5.2.21               h7f99829_0    conda-forge\n",
      "bash_kernel               0.9.3              pyh4f82c71_0    conda-forge\n",
      "bedtools                  2.31.1               hf5e1c6e_2    bioconda\n",
      "biopython                 1.85            py312h66e93f0_1    conda-forge\n",
      "biothings_client          0.4.1              pyh29332c3_0    conda-forge\n",
      "blast                     2.16.0               hc155240_3    bioconda\n",
      "brotli                    1.1.0                hd590300_1    conda-forge\n",
      "brotli-bin                1.1.0                hd590300_1    conda-forge\n",
      "brotli-python             1.1.0           py312h30efb56_1    conda-forge\n",
      "bwa                       0.7.18               he4a0461_1    bioconda\n",
      "bzip2                     1.0.8                h4bc722e_7    conda-forge\n",
      "c-ares                    1.33.1               heb4867d_0    conda-forge\n",
      "ca-certificates           2025.1.31            hbcca054_0    conda-forge\n",
      "cachetools                5.5.1              pyhd8ed1ab_0    conda-forge\n",
      "cairo                     1.18.0               h3faef2a_0    conda-forge\n",
      "certifi                   2024.12.14         pyhd8ed1ab_0    conda-forge\n",
      "cffi                      1.17.1          py312h06ac9bb_0    conda-forge\n",
      "charset-normalizer        3.4.1              pyhd8ed1ab_0    conda-forge\n",
      "circos                    0.69.9               hdfd78af_0    bioconda\n",
      "click                     8.1.8              pyh707e725_0    conda-forge\n",
      "colorama                  0.4.6              pyhd8ed1ab_1    conda-forge\n",
      "comm                      0.2.2              pyhd8ed1ab_0    conda-forge\n",
      "contourpy                 1.3.0           py312h68727a3_0    conda-forge\n",
      "curl                      8.8.0                he654da7_1    conda-forge\n",
      "cycler                    0.12.1             pyhd8ed1ab_0    conda-forge\n",
      "debugpy                   1.8.5           py312hca68cad_0    conda-forge\n",
      "decorator                 5.1.1              pyhd8ed1ab_0    conda-forge\n",
      "diskcache                 5.6.3              pyhd8ed1ab_1    conda-forge\n",
      "entrez-direct             22.4                 he881be0_0    bioconda\n",
      "exceptiongroup            1.2.2              pyhd8ed1ab_0    conda-forge\n",
      "executing                 2.0.1              pyhd8ed1ab_0    conda-forge\n",
      "expat                     2.6.2                h59595ed_0    conda-forge\n",
      "filelock                  3.17.0             pyhd8ed1ab_0    conda-forge\n",
      "font-ttf-dejavu-sans-mono 2.37                 hab24e00_0    conda-forge\n",
      "font-ttf-inconsolata      3.000                h77eed37_0    conda-forge\n",
      "font-ttf-source-code-pro  2.038                h77eed37_0    conda-forge\n",
      "font-ttf-ubuntu           0.83                 h77eed37_2    conda-forge\n",
      "fontconfig                2.14.2               h14ed4e7_0    conda-forge\n",
      "fonts-conda-ecosystem     1                             0    conda-forge\n",
      "fonts-conda-forge         1                             0    conda-forge\n",
      "fonttools                 4.53.1          py312h41a817b_0    conda-forge\n",
      "freetype                  2.12.1               h267a509_2    conda-forge\n",
      "frozendict                2.4.6           py312h66e93f0_0    conda-forge\n",
      "genomepy                  0.16.1             pyh7e72e81_2    bioconda\n",
      "gettext                   0.22.5               he02047a_3    conda-forge\n",
      "gettext-tools             0.22.5               he02047a_3    conda-forge\n",
      "giflib                    5.2.2                hd590300_0    conda-forge\n",
      "glimmerhmm                3.0.4           pl5321hdbdd923_8    bioconda\n",
      "graphite2                 1.3.13            h59595ed_1003    conda-forge\n",
      "h11                       0.14.0             pyhd8ed1ab_1    conda-forge\n",
      "h2                        4.1.0              pyhd8ed1ab_1    conda-forge\n",
      "harfbuzz                  8.5.0                hfac3d4d_0    conda-forge\n",
      "hpack                     4.1.0              pyhd8ed1ab_0    conda-forge\n",
      "htslib                    1.21                 h5efdd21_0    bioconda\n",
      "httpcore                  1.0.7              pyh29332c3_1    conda-forge\n",
      "httpx                     0.28.1             pyhd8ed1ab_0    conda-forge\n",
      "hyperframe                6.1.0              pyhd8ed1ab_0    conda-forge\n",
      "icu                       73.2                 h59595ed_0    conda-forge\n",
      "idna                      3.10               pyhd8ed1ab_1    conda-forge\n",
      "importlib-metadata        8.4.0              pyha770c72_0    conda-forge\n",
      "importlib_metadata        8.4.0                hd8ed1ab_0    conda-forge\n",
      "ipykernel                 6.29.5             pyh3099207_0    conda-forge\n",
      "ipython                   8.26.0             pyh707e725_0    conda-forge\n",
      "jedi                      0.19.1             pyhd8ed1ab_0    conda-forge\n",
      "joblib                    1.4.2              pyhd8ed1ab_0    conda-forge\n",
      "jupyter_client            8.6.2              pyhd8ed1ab_0    conda-forge\n",
      "jupyter_core              5.7.2           py312h7900ff3_0    conda-forge\n",
      "k8                        1.2                  h6618dc6_3    bioconda\n",
      "kernel-headers_linux-64   3.10.0              he073ed8_18    conda-forge\n",
      "keyutils                  1.6.1                h166bdaf_0    conda-forge\n",
      "kiwisolver                1.4.5           py312h68727a3_2    conda-forge\n",
      "krb5                      1.21.3               h659f571_0    conda-forge\n",
      "lcms2                     2.16                 hb7c19ff_0    conda-forge\n",
      "ld_impl_linux-64          2.40                 hf3520f5_7    conda-forge\n",
      "lerc                      4.0.0                h27087fc_0    conda-forge\n",
      "libasprintf               0.22.5               he8f35ee_3    conda-forge\n",
      "libasprintf-devel         0.22.5               he8f35ee_3    conda-forge\n",
      "libblas                   3.9.0           23_linux64_openblas    conda-forge\n",
      "libbrotlicommon           1.1.0                hd590300_1    conda-forge\n",
      "libbrotlidec              1.1.0                hd590300_1    conda-forge\n",
      "libbrotlienc              1.1.0                hd590300_1    conda-forge\n",
      "libcblas                  3.9.0           23_linux64_openblas    conda-forge\n",
      "libcups                   2.3.3                h4637d8d_4    conda-forge\n",
      "libcurl                   8.8.0                hca28451_1    conda-forge\n",
      "libdeflate                1.20                 hd590300_0    conda-forge\n",
      "libedit                   3.1.20191231         he28a2e2_2    conda-forge\n",
      "libev                     4.33                 hd590300_2    conda-forge\n",
      "libexpat                  2.6.2                h59595ed_0    conda-forge\n",
      "libffi                    3.4.2                h7f98852_5    conda-forge\n",
      "libgcc                    14.1.0               h77fa898_1    conda-forge\n",
      "libgcc-ng                 14.1.0               h69a702a_1    conda-forge\n",
      "libgd                     2.3.3                h119a65a_9    conda-forge\n",
      "libgettextpo              0.22.5               he02047a_3    conda-forge\n",
      "libgettextpo-devel        0.22.5               he02047a_3    conda-forge\n",
      "libgfortran               14.1.0               h69a702a_1    conda-forge\n",
      "libgfortran-ng            14.1.0               h69a702a_1    conda-forge\n",
      "libgfortran5              14.1.0               hc5f4f2c_1    conda-forge\n",
      "libglib                   2.80.2               hf974151_0    conda-forge\n",
      "libgomp                   14.1.0               h77fa898_1    conda-forge\n",
      "libiconv                  1.17                 hd590300_2    conda-forge\n",
      "libidn2                   2.3.7                hd590300_0    conda-forge\n",
      "libjpeg-turbo             3.0.0                hd590300_1    conda-forge\n",
      "liblapack                 3.9.0           23_linux64_openblas    conda-forge\n",
      "libnghttp2                1.58.0               h47da74e_1    conda-forge\n",
      "libnsl                    2.0.1                hd590300_0    conda-forge\n",
      "libopenblas               0.3.27          pthreads_hac2b453_1    conda-forge\n",
      "libopenssl-static         3.4.0                hb9d3cd8_1    conda-forge\n",
      "libpng                    1.6.43               h2797004_0    conda-forge\n",
      "libsodium                 1.0.18               h36c2ea0_1    conda-forge\n",
      "libsqlite                 3.46.0               hde9e2c9_0    conda-forge\n",
      "libssh2                   1.11.0               h0841786_0    conda-forge\n",
      "libstdcxx                 14.1.0               hc0a3c3a_1    conda-forge\n",
      "libstdcxx-ng              14.1.0               h4852527_1    conda-forge\n",
      "libtiff                   4.6.0                h1dd3fc0_3    conda-forge\n",
      "libunistring              0.9.10               h7f98852_0    conda-forge\n",
      "libuuid                   2.38.1               h0b41bf4_0    conda-forge\n",
      "libwebp                   1.4.0                h2c329e2_0    conda-forge\n",
      "libwebp-base              1.4.0                hd590300_0    conda-forge\n",
      "libxcb                    1.15                 h0b41bf4_0    conda-forge\n",
      "libxcrypt                 4.4.36               hd590300_1    conda-forge\n",
      "libxml2                   2.12.7               hc051c1a_1    conda-forge\n",
      "libxslt                   1.1.39               h76b75d6_0    conda-forge\n",
      "libzlib                   1.3.1                hb9d3cd8_2    conda-forge\n",
      "loguru                    0.7.2           py312h7900ff3_2    conda-forge\n",
      "lxml                      5.2.2           py312hb90d8a5_0    conda-forge\n",
      "matplotlib-base           3.9.2           py312h854627b_0    conda-forge\n",
      "matplotlib-inline         0.1.7              pyhd8ed1ab_0    conda-forge\n",
      "miniasm                   0.3                  h577a1d6_5    bioconda\n",
      "minimap2                  2.28                 he4a0461_3    bioconda\n",
      "munkres                   1.1.4              pyh9f0ad1d_0    conda-forge\n",
      "mygene                    3.2.2              pyh5e36f6f_0    bioconda\n",
      "mysql-common              8.3.0                hf1915f5_4    conda-forge\n",
      "mysql-connector-c         6.1.11            h659d440_1008    conda-forge\n",
      "mysql-connector-python    8.3.0           py312hb06c811_0    conda-forge\n",
      "mysql-libs                8.3.0                hca2cd23_4    conda-forge\n",
      "ncbi-vdb                  3.1.1                h4ac6f70_1    bioconda\n",
      "ncurses                   6.5                  he02047a_1    conda-forge\n",
      "nest-asyncio              1.6.0              pyhd8ed1ab_0    conda-forge\n",
      "norns                     0.1.6              pyh5e36f6f_0    bioconda\n",
      "nose                      1.3.7                   py_1006    conda-forge\n",
      "numpy                     2.1.0           py312h1103770_0    conda-forge\n",
      "openjdk                   22.0.1               hb622114_0    conda-forge\n",
      "openjpeg                  2.5.2                h488ebb8_0    conda-forge\n",
      "openssl                   3.4.0                h7b32b05_1    conda-forge\n",
      "packaging                 24.1               pyhd8ed1ab_0    conda-forge\n",
      "pandas                    2.2.3           py312hf9745cd_1    conda-forge\n",
      "parso                     0.8.4              pyhd8ed1ab_0    conda-forge\n",
      "pcre                      8.45                 h9c3ff4c_0    conda-forge\n",
      "pcre2                     10.43                hcad00b1_0    conda-forge\n",
      "perl                      5.32.1          7_hd590300_perl5    conda-forge\n",
      "perl-archive-tar          2.40            pl5321hdfd78af_0    bioconda\n",
      "perl-b-cow                0.007           pl5321hd590300_0    conda-forge\n",
      "perl-carp                 1.50            pl5321hd8ed1ab_0    conda-forge\n",
      "perl-clone                0.46            pl5321h166bdaf_0    conda-forge\n",
      "perl-common-sense         3.75            pl5321hd8ed1ab_0    conda-forge\n",
      "perl-compress-raw-bzip2   2.201           pl5321h166bdaf_0    conda-forge\n",
      "perl-compress-raw-zlib    2.202           pl5321h166bdaf_0    conda-forge\n",
      "perl-config-general       2.65            pl5321hdfd78af_0    bioconda\n",
      "perl-digest-perl-md5      1.9             pl5321hdfd78af_2    bioconda\n",
      "perl-encode               3.21            pl5321hd590300_0    conda-forge\n",
      "perl-exporter             5.74            pl5321hd8ed1ab_0    conda-forge\n",
      "perl-exporter-tiny        1.002002        pl5321hd8ed1ab_0    conda-forge\n",
      "perl-extutils-config      0.008           pl5321ha770c72_0    conda-forge\n",
      "perl-extutils-helpers     0.026           pl5321ha770c72_0    conda-forge\n",
      "perl-extutils-installpaths 0.012           pl5321ha770c72_0    conda-forge\n",
      "perl-extutils-makemaker   7.70            pl5321hd8ed1ab_0    conda-forge\n",
      "perl-extutils-pl2bat      0.005           pl5321ha770c72_0    conda-forge\n",
      "perl-font-ttf             1.06            pl5321hdfd78af_1    bioconda\n",
      "perl-gd                   2.56                          0    bioconda\n",
      "perl-inc-latest           0.500           pl5321ha770c72_0    conda-forge\n",
      "perl-io-compress          2.201           pl5321hdbdd923_2    bioconda\n",
      "perl-io-string            1.08            pl5321hdfd78af_4    bioconda\n",
      "perl-io-zlib              1.14            pl5321hdfd78af_0    bioconda\n",
      "perl-json                 4.10            pl5321hdfd78af_1    bioconda\n",
      "perl-json-xs              4.03            pl5321h4ac6f70_3    bioconda\n",
      "perl-list-moreutils       0.430           pl5321hdfd78af_0    bioconda\n",
      "perl-list-moreutils-xs    0.430           pl5321h031d066_2    bioconda\n",
      "perl-math-bezier          0.01            pl5321hdfd78af_2    bioconda\n",
      "perl-math-round           0.07            pl5321ha770c72_0    conda-forge\n",
      "perl-math-vecstat         0.08            pl5321hdfd78af_2    bioconda\n",
      "perl-module-build         0.4234          pl5321ha770c72_0    conda-forge\n",
      "perl-module-build-tiny    0.039           pl5321h166bdaf_0    conda-forge\n",
      "perl-module-implementation 0.09            pl5321ha770c72_0    conda-forge\n",
      "perl-module-runtime       0.016           pl5321hdfd78af_2    bioconda\n",
      "perl-number-format        1.76            pl5321hd8ed1ab_0    conda-forge\n",
      "perl-params-validate      1.31            pl5321h031d066_2    bioconda\n",
      "perl-parent               0.241           pl5321hd8ed1ab_0    conda-forge\n",
      "perl-pathtools            3.75            pl5321h166bdaf_0    conda-forge\n",
      "perl-readonly             2.05            pl5321ha770c72_0    conda-forge\n",
      "perl-regexp-common        2017060201      pl5321hd8ed1ab_0    conda-forge\n",
      "perl-scalar-list-utils    1.63            pl5321h166bdaf_0    conda-forge\n",
      "perl-set-intspan          1.19            pl5321hdfd78af_2    bioconda\n",
      "perl-statistics-basic     1.6611          pl5321hdfd78af_3    bioconda\n",
      "perl-storable             3.15            pl5321h166bdaf_0    conda-forge\n",
      "perl-svg                  2.87            pl5321hd8ed1ab_0    conda-forge\n",
      "perl-test-fatal           0.016           pl5321ha770c72_0    conda-forge\n",
      "perl-text-format          0.62            pl5321hdfd78af_0    bioconda\n",
      "perl-time-hires           1.9764          pl5321h031d066_4    bioconda\n",
      "perl-try-tiny             0.31            pl5321ha770c72_0    conda-forge\n",
      "perl-types-serialiser     1.01            pl5321hdfd78af_0    bioconda\n",
      "perl-xml-parser           2.44_01         pl5321hc3e0081_1003    conda-forge\n",
      "pexpect                   4.9.0              pyhd8ed1ab_0    conda-forge\n",
      "pickleshare               0.7.5                   py_1003    conda-forge\n",
      "pillow                    10.3.0          py312hdcec9eb_0    conda-forge\n",
      "pip                       24.2               pyh8b19718_1    conda-forge\n",
      "pixman                    0.43.2               h59595ed_0    conda-forge\n",
      "platformdirs              4.2.2              pyhd8ed1ab_0    conda-forge\n",
      "prompt-toolkit            3.0.47             pyha770c72_0    conda-forge\n",
      "psutil                    6.0.0           py312h9a8786e_0    conda-forge\n",
      "pthread-stubs             0.4               h36c2ea0_1001    conda-forge\n",
      "ptyprocess                0.7.0              pyhd3deb0d_0    conda-forge\n",
      "pure_eval                 0.2.3              pyhd8ed1ab_0    conda-forge\n",
      "pycparser                 2.22               pyh29332c3_1    conda-forge\n",
      "pyfaidx                   0.8.1.3            pyhdfd78af_0    bioconda\n",
      "pygments                  2.18.0             pyhd8ed1ab_0    conda-forge\n",
      "pyld                      2.0.4              pyhd8ed1ab_1    conda-forge\n",
      "pyparsing                 3.1.4              pyhd8ed1ab_0    conda-forge\n",
      "pysocks                   1.7.1              pyha55dd90_7    conda-forge\n",
      "python                    3.12.3          hab00c5b_0_cpython    conda-forge\n",
      "python-dateutil           2.9.0              pyhd8ed1ab_0    conda-forge\n",
      "python-dotenv             1.0.1              pyhd8ed1ab_1    conda-forge\n",
      "python-tzdata             2025.1             pyhd8ed1ab_0    conda-forge\n",
      "python_abi                3.12                    5_cp312    conda-forge\n",
      "pytz                      2024.1             pyhd8ed1ab_0    conda-forge\n",
      "pyvcf3                    1.0.3              pyhdfd78af_0    bioconda\n",
      "pyyaml                    6.0.2           py312h178313f_2    conda-forge\n",
      "pyzmq                     26.2.0          py312hbf22597_0    conda-forge\n",
      "qhull                     2020.2               h434a139_5    conda-forge\n",
      "quast                     5.3.0           py312pl5321hdcc493e_1    bioconda\n",
      "racon                     1.5.0                hdcf5f25_4    bioconda\n",
      "readline                  8.2                  h8228510_1    conda-forge\n",
      "requests                  2.32.3             pyhd8ed1ab_1    conda-forge\n",
      "rpsbproc                  0.5.0                h6a68c12_1    bioconda\n",
      "seqkit                    2.8.2                h9ee0642_1    bioconda\n",
      "setuptools                72.2.0             pyhd8ed1ab_0    conda-forge\n",
      "simplejson                3.19.3          py312h66e93f0_1    conda-forge\n",
      "six                       1.16.0             pyh6c4a22f_0    conda-forge\n",
      "sniffio                   1.3.1              pyhd8ed1ab_1    conda-forge\n",
      "spades                    4.0.0                h6dccd9a_3    bioconda\n",
      "sra-tools                 2.9.6                hf484d3e_0    bioconda\n",
      "stack_data                0.6.2              pyhd8ed1ab_0    conda-forge\n",
      "star                      2.7.11b              h5ca1c30_5    bioconda\n",
      "sysroot_linux-64          2.17                h0157908_18    conda-forge\n",
      "tk                        8.6.13          noxft_h4845f30_101    conda-forge\n",
      "tornado                   6.4.1           py312h66e93f0_1    conda-forge\n",
      "tqdm                      4.67.1             pyhd8ed1ab_1    conda-forge\n",
      "traitlets                 5.14.3             pyhd8ed1ab_0    conda-forge\n",
      "typing_extensions         4.12.2             pyha770c72_0    conda-forge\n",
      "tzdata                    2024a                h8827d51_1    conda-forge\n",
      "ucsc-bedtogenepred        469                  h9b8f530_0    bioconda\n",
      "ucsc-genepredtobed        469                  h9b8f530_0    bioconda\n",
      "ucsc-genepredtogtf        469                  h9b8f530_0    bioconda\n",
      "ucsc-gff3togenepred       469                  h9b8f530_0    bioconda\n",
      "ucsc-gtftogenepred        469                  h9b8f530_0    bioconda\n",
      "unicycler                 0.5.1           py312hc60241a_2    bioconda\n",
      "urllib3                   2.3.0              pyhd8ed1ab_0    conda-forge\n",
      "wcwidth                   0.2.13             pyhd8ed1ab_0    conda-forge\n",
      "wget                      1.21.4               hda4d442_0    conda-forge\n",
      "wheel                     0.44.0             pyhd8ed1ab_0    conda-forge\n",
      "xorg-fixesproto           5.0               h7f98852_1002    conda-forge\n",
      "xorg-inputproto           2.3.2             h7f98852_1002    conda-forge\n",
      "xorg-kbproto              1.0.7             h7f98852_1002    conda-forge\n",
      "xorg-libice               1.1.1                hd590300_0    conda-forge\n",
      "xorg-libsm                1.2.4                h7391055_0    conda-forge\n",
      "xorg-libx11               1.8.9                h8ee46fc_0    conda-forge\n",
      "xorg-libxau               1.0.11               hd590300_0    conda-forge\n",
      "xorg-libxdmcp             1.1.3                h7f98852_0    conda-forge\n",
      "xorg-libxext              1.3.4                h0b41bf4_2    conda-forge\n",
      "xorg-libxfixes            5.0.3             h7f98852_1004    conda-forge\n",
      "xorg-libxi                1.7.10               h4bc722e_1    conda-forge\n",
      "xorg-libxrender           0.9.11               hd590300_0    conda-forge\n",
      "xorg-libxt                1.3.0                hd590300_1    conda-forge\n",
      "xorg-libxtst              1.2.5                h4bc722e_0    conda-forge\n",
      "xorg-recordproto          1.14.2            h7f98852_1002    conda-forge\n",
      "xorg-renderproto          0.11.1            h7f98852_1002    conda-forge\n",
      "xorg-xextproto            7.3.0             h0b41bf4_1003    conda-forge\n",
      "xorg-xproto               7.0.31            h7f98852_1007    conda-forge\n",
      "xz                        5.2.6                h166bdaf_0    conda-forge\n",
      "yaml                      0.2.5                h7f98852_2    conda-forge\n",
      "zeromq                    4.3.5                h75354e8_4    conda-forge\n",
      "zipp                      3.20.1             pyhd8ed1ab_0    conda-forge\n",
      "zlib                      1.3.1                hb9d3cd8_2    conda-forge\n",
      "zstandard                 0.23.0          py312hef9b889_1    conda-forge\n",
      "zstd                      1.5.6                ha6fb4c9_0    conda-forge\n"
     ]
    }
   ],
   "source": [
    "!mamba list"
   ]
  },
  {
   "cell_type": "code",
   "execution_count": null,
   "metadata": {},
   "outputs": [],
   "source": []
  }
 ],
 "metadata": {
  "kernelspec": {
   "display_name": "asmbl",
   "language": "python",
   "name": "python3"
  },
  "language_info": {
   "codemirror_mode": {
    "name": "ipython",
    "version": 3
   },
   "file_extension": ".py",
   "mimetype": "text/x-python",
   "name": "python",
   "nbconvert_exporter": "python",
   "pygments_lexer": "ipython3",
   "version": "3.12.3"
  }
 },
 "nbformat": 4,
 "nbformat_minor": 2
}
